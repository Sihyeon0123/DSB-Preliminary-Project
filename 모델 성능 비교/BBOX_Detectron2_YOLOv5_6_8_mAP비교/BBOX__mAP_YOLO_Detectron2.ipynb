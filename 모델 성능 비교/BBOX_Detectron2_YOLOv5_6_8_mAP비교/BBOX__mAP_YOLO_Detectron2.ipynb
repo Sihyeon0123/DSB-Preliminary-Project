{
 "cells": [
  {
   "cell_type": "markdown",
   "metadata": {},
   "source": [
    "# Detectron 학습\n",
    "mAP50: 0.83    \n",
    "mAP50-95: 0.475"
   ]
  },
  {
   "cell_type": "code",
   "execution_count": 1,
   "metadata": {},
   "outputs": [
    {
     "name": "stdout",
     "output_type": "stream",
     "text": [
      "c:\\Users\\USER\\Desktop\\train\n"
     ]
    }
   ],
   "source": [
    "cd .."
   ]
  },
  {
   "cell_type": "code",
   "execution_count": 2,
   "metadata": {},
   "outputs": [],
   "source": [
    "import detectron2\n",
    "from detectron2.engine import DefaultTrainer, HookBase\n",
    "from detectron2.evaluation import COCOEvaluator, inference_on_dataset\n",
    "from detectron2.data import build_detection_test_loader\n",
    "from detectron2.config import get_cfg\n",
    "from detectron2 import model_zoo"
   ]
  },
  {
   "cell_type": "markdown",
   "metadata": {},
   "source": [
    "## 데이터 설정"
   ]
  },
  {
   "cell_type": "code",
   "execution_count": 3,
   "metadata": {},
   "outputs": [],
   "source": [
    "from detectron2.data import DatasetCatalog, MetadataCatalog\n",
    "from detectron2.data.datasets import load_coco_json"
   ]
  },
  {
   "cell_type": "code",
   "execution_count": 4,
   "metadata": {},
   "outputs": [],
   "source": [
    "# 학습 데이터 경로\n",
    "train_json_file = r\"C:\\Users\\USER\\Desktop\\train\\dataset\\annotations\\train_annotations.coco.json\"\n",
    "# 검증 데이터 경로\n",
    "val_json_file = r'C:\\Users\\USER\\Desktop\\train\\dataset\\annotations\\val_annotations.coco.json'\n",
    "# 이미지 폴더 경로\n",
    "image_root = r\"C:\\Users\\USER\\Desktop\\train\\dataset\\images\""
   ]
  },
  {
   "cell_type": "code",
   "execution_count": 5,
   "metadata": {},
   "outputs": [],
   "source": [
    "# 데이터셋 등록 함수\n",
    "def register_coco_instances(name, json_file, image_root):\n",
    "    DatasetCatalog.register(name, lambda: load_coco_json(json_file, image_root, name))\n",
    "    MetadataCatalog.get(name).set(json_file=json_file, image_root=image_root, evaluator_type=\"coco\")"
   ]
  },
  {
   "cell_type": "code",
   "execution_count": 6,
   "metadata": {},
   "outputs": [],
   "source": [
    "# COCO 데이터셋 등록\n",
    "register_coco_instances(\"my_coco_train\", train_json_file, image_root)\n",
    "register_coco_instances(\"my_coco_val\", val_json_file, image_root)"
   ]
  },
  {
   "cell_type": "code",
   "execution_count": 7,
   "metadata": {},
   "outputs": [
    {
     "name": "stdout",
     "output_type": "stream",
     "text": [
      "Training dataset samples: 777\n",
      "[{'file_name': 'C:\\\\Users\\\\USER\\\\Desktop\\\\train\\\\dataset\\\\images\\\\3-single_fire_136_jpg.rf.0008541daf4e4ed061960779b68dfd0a.jpg', 'height': 640, 'width': 640, 'image_id': 0, 'annotations': [{'iscrowd': 0, 'bbox': [431, 467, 33.5, 60], 'category_id': 1, 'bbox_mode': <BoxMode.XYWH_ABS: 1>}, {'iscrowd': 0, 'bbox': [460, 340, 117.5, 158], 'category_id': 2, 'bbox_mode': <BoxMode.XYWH_ABS: 1>}]}, {'file_name': 'C:\\\\Users\\\\USER\\\\Desktop\\\\train\\\\dataset\\\\images\\\\2_mountain_lake_land_sunset_0410_jpg.rf.005db329dae369f0f6fdd0438e0319cb.jpg', 'height': 640, 'width': 640, 'image_id': 1, 'annotations': [{'iscrowd': 0, 'bbox': [469, 174, 73.5, 81], 'category_id': 1, 'bbox_mode': <BoxMode.XYWH_ABS: 1>}, {'iscrowd': 0, 'bbox': [465, 66, 80.5, 112.5], 'category_id': 2, 'bbox_mode': <BoxMode.XYWH_ABS: 1>}]}]\n",
      "Validation dataset samples: 381\n",
      "[{'file_name': 'C:\\\\Users\\\\USER\\\\Desktop\\\\train\\\\dataset\\\\images\\\\2_mountain_lake_land_night_0450_jpg.rf.0216d77782a1705af06777cf2ceee19d.jpg', 'height': 640, 'width': 640, 'image_id': 0, 'annotations': [{'iscrowd': 0, 'bbox': [206, 361, 29.5, 58], 'category_id': 1, 'bbox_mode': <BoxMode.XYWH_ABS: 1>}]}, {'file_name': 'C:\\\\Users\\\\USER\\\\Desktop\\\\train\\\\dataset\\\\images\\\\2-multi_object_day_144_jpg.rf.08844f43afdb1c369cd80188440dbab3.jpg', 'height': 640, 'width': 640, 'image_id': 1, 'annotations': [{'iscrowd': 0, 'bbox': [562, 550, 52, 73], 'category_id': 1, 'bbox_mode': <BoxMode.XYWH_ABS: 1>}, {'iscrowd': 0, 'bbox': [454, 134, 174.5, 398.5], 'category_id': 2, 'bbox_mode': <BoxMode.XYWH_ABS: 1>}, {'iscrowd': 0, 'bbox': [387, 213, 27, 64.5], 'category_id': 2, 'bbox_mode': <BoxMode.XYWH_ABS: 1>}, {'iscrowd': 0, 'bbox': [0, 74, 29, 136.5], 'category_id': 2, 'bbox_mode': <BoxMode.XYWH_ABS: 1>}]}]\n"
     ]
    }
   ],
   "source": [
    "# 등록된 학습 데이터셋 확인\n",
    "train_dataset_dicts = DatasetCatalog.get(\"my_coco_train\")\n",
    "print(f\"Training dataset samples: {len(train_dataset_dicts)}\")\n",
    "print(train_dataset_dicts[:2])  # 첫 두 개의 샘플 확인\n",
    "\n",
    "# 등록된 검증 데이터셋 확인\n",
    "val_dataset_dicts = DatasetCatalog.get(\"my_coco_val\")\n",
    "print(f\"Validation dataset samples: {len(val_dataset_dicts)}\")\n",
    "print(val_dataset_dicts[:2])  # 첫 두 개의 샘플 확인"
   ]
  },
  {
   "cell_type": "markdown",
   "metadata": {},
   "source": [
    "## 학습 설정"
   ]
  },
  {
   "cell_type": "code",
   "execution_count": 8,
   "metadata": {},
   "outputs": [],
   "source": [
    "cfg = get_cfg()\n",
    "cfg.merge_from_file(model_zoo.get_config_file(\"COCO-Detection/faster_rcnn_R_50_FPN_3x.yaml\"))\n",
    "cfg.DATALOADER.NUM_WORKERS = 2\n",
    "cfg.MODEL.WEIGHTS = model_zoo.get_checkpoint_url(\"COCO-Detection/faster_rcnn_R_50_FPN_3x.yaml\")\n",
    "\n",
    "cfg.DATASETS.TRAIN = (\"my_coco_train\",)  # 등록한 학습 데이터셋\n",
    "cfg.DATASETS.TEST = (\"my_coco_val\",)     # 등록한 검증 데이터셋\n",
    "\n",
    "cfg.SOLVER.WARMUP_ITERS = 100\n",
    "# 1 epoch = 388.5 iter(학습 이미지 수 / 배치 크기)\n",
    "# 50 epoch = 약 19600 iter\n",
    "cfg.SOLVER.IMS_PER_BATCH = 2 # 이미지 배치 수\n",
    "cfg.SOLVER.BASE_LR = 0.001  # 학습률\n",
    "cfg.SOLVER.MAX_ITER = 19600  # 최대 학습 스텝\n",
    "cfg.SOLVER.STEPS = []\n",
    "cfg.MODEL.ROI_HEADS.BATCH_SIZE_PER_IMAGE = 16  # RoI 예측에 사용될 배치 사이즈\n",
    "cfg.MODEL.ROI_HEADS.NUM_CLASSES = 3  # 클래스 개수 (클래스가 2개인 경우에도 배경 포함 3으로 설정)"
   ]
  },
  {
   "cell_type": "code",
   "execution_count": 9,
   "metadata": {},
   "outputs": [
    {
     "name": "stdout",
     "output_type": "stream",
     "text": [
      "\u001b[32m[10/19 17:28:02 d2.engine.defaults]: \u001b[0mModel:\n",
      "GeneralizedRCNN(\n",
      "  (backbone): FPN(\n",
      "    (fpn_lateral2): Conv2d(256, 256, kernel_size=(1, 1), stride=(1, 1))\n",
      "    (fpn_output2): Conv2d(256, 256, kernel_size=(3, 3), stride=(1, 1), padding=(1, 1))\n",
      "    (fpn_lateral3): Conv2d(512, 256, kernel_size=(1, 1), stride=(1, 1))\n",
      "    (fpn_output3): Conv2d(256, 256, kernel_size=(3, 3), stride=(1, 1), padding=(1, 1))\n",
      "    (fpn_lateral4): Conv2d(1024, 256, kernel_size=(1, 1), stride=(1, 1))\n",
      "    (fpn_output4): Conv2d(256, 256, kernel_size=(3, 3), stride=(1, 1), padding=(1, 1))\n",
      "    (fpn_lateral5): Conv2d(2048, 256, kernel_size=(1, 1), stride=(1, 1))\n",
      "    (fpn_output5): Conv2d(256, 256, kernel_size=(3, 3), stride=(1, 1), padding=(1, 1))\n",
      "    (top_block): LastLevelMaxPool()\n",
      "    (bottom_up): ResNet(\n",
      "      (stem): BasicStem(\n",
      "        (conv1): Conv2d(\n",
      "          3, 64, kernel_size=(7, 7), stride=(2, 2), padding=(3, 3), bias=False\n",
      "          (norm): FrozenBatchNorm2d(num_features=64, eps=1e-05)\n",
      "        )\n",
      "      )\n",
      "      (res2): Sequential(\n",
      "        (0): BottleneckBlock(\n",
      "          (shortcut): Conv2d(\n",
      "            64, 256, kernel_size=(1, 1), stride=(1, 1), bias=False\n",
      "            (norm): FrozenBatchNorm2d(num_features=256, eps=1e-05)\n",
      "          )\n",
      "          (conv1): Conv2d(\n",
      "            64, 64, kernel_size=(1, 1), stride=(1, 1), bias=False\n",
      "            (norm): FrozenBatchNorm2d(num_features=64, eps=1e-05)\n",
      "          )\n",
      "          (conv2): Conv2d(\n",
      "            64, 64, kernel_size=(3, 3), stride=(1, 1), padding=(1, 1), bias=False\n",
      "            (norm): FrozenBatchNorm2d(num_features=64, eps=1e-05)\n",
      "          )\n",
      "          (conv3): Conv2d(\n",
      "            64, 256, kernel_size=(1, 1), stride=(1, 1), bias=False\n",
      "            (norm): FrozenBatchNorm2d(num_features=256, eps=1e-05)\n",
      "          )\n",
      "        )\n",
      "        (1): BottleneckBlock(\n",
      "          (conv1): Conv2d(\n",
      "            256, 64, kernel_size=(1, 1), stride=(1, 1), bias=False\n",
      "            (norm): FrozenBatchNorm2d(num_features=64, eps=1e-05)\n",
      "          )\n",
      "          (conv2): Conv2d(\n",
      "            64, 64, kernel_size=(3, 3), stride=(1, 1), padding=(1, 1), bias=False\n",
      "            (norm): FrozenBatchNorm2d(num_features=64, eps=1e-05)\n",
      "          )\n",
      "          (conv3): Conv2d(\n",
      "            64, 256, kernel_size=(1, 1), stride=(1, 1), bias=False\n",
      "            (norm): FrozenBatchNorm2d(num_features=256, eps=1e-05)\n",
      "          )\n",
      "        )\n",
      "        (2): BottleneckBlock(\n",
      "          (conv1): Conv2d(\n",
      "            256, 64, kernel_size=(1, 1), stride=(1, 1), bias=False\n",
      "            (norm): FrozenBatchNorm2d(num_features=64, eps=1e-05)\n",
      "          )\n",
      "          (conv2): Conv2d(\n",
      "            64, 64, kernel_size=(3, 3), stride=(1, 1), padding=(1, 1), bias=False\n",
      "            (norm): FrozenBatchNorm2d(num_features=64, eps=1e-05)\n",
      "          )\n",
      "          (conv3): Conv2d(\n",
      "            64, 256, kernel_size=(1, 1), stride=(1, 1), bias=False\n",
      "            (norm): FrozenBatchNorm2d(num_features=256, eps=1e-05)\n",
      "          )\n",
      "        )\n",
      "      )\n",
      "      (res3): Sequential(\n",
      "        (0): BottleneckBlock(\n",
      "          (shortcut): Conv2d(\n",
      "            256, 512, kernel_size=(1, 1), stride=(2, 2), bias=False\n",
      "            (norm): FrozenBatchNorm2d(num_features=512, eps=1e-05)\n",
      "          )\n",
      "          (conv1): Conv2d(\n",
      "            256, 128, kernel_size=(1, 1), stride=(2, 2), bias=False\n",
      "            (norm): FrozenBatchNorm2d(num_features=128, eps=1e-05)\n",
      "          )\n",
      "          (conv2): Conv2d(\n",
      "            128, 128, kernel_size=(3, 3), stride=(1, 1), padding=(1, 1), bias=False\n",
      "            (norm): FrozenBatchNorm2d(num_features=128, eps=1e-05)\n",
      "          )\n",
      "          (conv3): Conv2d(\n",
      "            128, 512, kernel_size=(1, 1), stride=(1, 1), bias=False\n",
      "            (norm): FrozenBatchNorm2d(num_features=512, eps=1e-05)\n",
      "          )\n",
      "        )\n",
      "        (1): BottleneckBlock(\n",
      "          (conv1): Conv2d(\n",
      "            512, 128, kernel_size=(1, 1), stride=(1, 1), bias=False\n",
      "            (norm): FrozenBatchNorm2d(num_features=128, eps=1e-05)\n",
      "          )\n",
      "          (conv2): Conv2d(\n",
      "            128, 128, kernel_size=(3, 3), stride=(1, 1), padding=(1, 1), bias=False\n",
      "            (norm): FrozenBatchNorm2d(num_features=128, eps=1e-05)\n",
      "          )\n",
      "          (conv3): Conv2d(\n",
      "            128, 512, kernel_size=(1, 1), stride=(1, 1), bias=False\n",
      "            (norm): FrozenBatchNorm2d(num_features=512, eps=1e-05)\n",
      "          )\n",
      "        )\n",
      "        (2): BottleneckBlock(\n",
      "          (conv1): Conv2d(\n",
      "            512, 128, kernel_size=(1, 1), stride=(1, 1), bias=False\n",
      "            (norm): FrozenBatchNorm2d(num_features=128, eps=1e-05)\n",
      "          )\n",
      "          (conv2): Conv2d(\n",
      "            128, 128, kernel_size=(3, 3), stride=(1, 1), padding=(1, 1), bias=False\n",
      "            (norm): FrozenBatchNorm2d(num_features=128, eps=1e-05)\n",
      "          )\n",
      "          (conv3): Conv2d(\n",
      "            128, 512, kernel_size=(1, 1), stride=(1, 1), bias=False\n",
      "            (norm): FrozenBatchNorm2d(num_features=512, eps=1e-05)\n",
      "          )\n",
      "        )\n",
      "        (3): BottleneckBlock(\n",
      "          (conv1): Conv2d(\n",
      "            512, 128, kernel_size=(1, 1), stride=(1, 1), bias=False\n",
      "            (norm): FrozenBatchNorm2d(num_features=128, eps=1e-05)\n",
      "          )\n",
      "          (conv2): Conv2d(\n",
      "            128, 128, kernel_size=(3, 3), stride=(1, 1), padding=(1, 1), bias=False\n",
      "            (norm): FrozenBatchNorm2d(num_features=128, eps=1e-05)\n",
      "          )\n",
      "          (conv3): Conv2d(\n",
      "            128, 512, kernel_size=(1, 1), stride=(1, 1), bias=False\n",
      "            (norm): FrozenBatchNorm2d(num_features=512, eps=1e-05)\n",
      "          )\n",
      "        )\n",
      "      )\n",
      "      (res4): Sequential(\n",
      "        (0): BottleneckBlock(\n",
      "          (shortcut): Conv2d(\n",
      "            512, 1024, kernel_size=(1, 1), stride=(2, 2), bias=False\n",
      "            (norm): FrozenBatchNorm2d(num_features=1024, eps=1e-05)\n",
      "          )\n",
      "          (conv1): Conv2d(\n",
      "            512, 256, kernel_size=(1, 1), stride=(2, 2), bias=False\n",
      "            (norm): FrozenBatchNorm2d(num_features=256, eps=1e-05)\n",
      "          )\n",
      "          (conv2): Conv2d(\n",
      "            256, 256, kernel_size=(3, 3), stride=(1, 1), padding=(1, 1), bias=False\n",
      "            (norm): FrozenBatchNorm2d(num_features=256, eps=1e-05)\n",
      "          )\n",
      "          (conv3): Conv2d(\n",
      "            256, 1024, kernel_size=(1, 1), stride=(1, 1), bias=False\n",
      "            (norm): FrozenBatchNorm2d(num_features=1024, eps=1e-05)\n",
      "          )\n",
      "        )\n",
      "        (1): BottleneckBlock(\n",
      "          (conv1): Conv2d(\n",
      "            1024, 256, kernel_size=(1, 1), stride=(1, 1), bias=False\n",
      "            (norm): FrozenBatchNorm2d(num_features=256, eps=1e-05)\n",
      "          )\n",
      "          (conv2): Conv2d(\n",
      "            256, 256, kernel_size=(3, 3), stride=(1, 1), padding=(1, 1), bias=False\n",
      "            (norm): FrozenBatchNorm2d(num_features=256, eps=1e-05)\n",
      "          )\n",
      "          (conv3): Conv2d(\n",
      "            256, 1024, kernel_size=(1, 1), stride=(1, 1), bias=False\n",
      "            (norm): FrozenBatchNorm2d(num_features=1024, eps=1e-05)\n",
      "          )\n",
      "        )\n",
      "        (2): BottleneckBlock(\n",
      "          (conv1): Conv2d(\n",
      "            1024, 256, kernel_size=(1, 1), stride=(1, 1), bias=False\n",
      "            (norm): FrozenBatchNorm2d(num_features=256, eps=1e-05)\n",
      "          )\n",
      "          (conv2): Conv2d(\n",
      "            256, 256, kernel_size=(3, 3), stride=(1, 1), padding=(1, 1), bias=False\n",
      "            (norm): FrozenBatchNorm2d(num_features=256, eps=1e-05)\n",
      "          )\n",
      "          (conv3): Conv2d(\n",
      "            256, 1024, kernel_size=(1, 1), stride=(1, 1), bias=False\n",
      "            (norm): FrozenBatchNorm2d(num_features=1024, eps=1e-05)\n",
      "          )\n",
      "        )\n",
      "        (3): BottleneckBlock(\n",
      "          (conv1): Conv2d(\n",
      "            1024, 256, kernel_size=(1, 1), stride=(1, 1), bias=False\n",
      "            (norm): FrozenBatchNorm2d(num_features=256, eps=1e-05)\n",
      "          )\n",
      "          (conv2): Conv2d(\n",
      "            256, 256, kernel_size=(3, 3), stride=(1, 1), padding=(1, 1), bias=False\n",
      "            (norm): FrozenBatchNorm2d(num_features=256, eps=1e-05)\n",
      "          )\n",
      "          (conv3): Conv2d(\n",
      "            256, 1024, kernel_size=(1, 1), stride=(1, 1), bias=False\n",
      "            (norm): FrozenBatchNorm2d(num_features=1024, eps=1e-05)\n",
      "          )\n",
      "        )\n",
      "        (4): BottleneckBlock(\n",
      "          (conv1): Conv2d(\n",
      "            1024, 256, kernel_size=(1, 1), stride=(1, 1), bias=False\n",
      "            (norm): FrozenBatchNorm2d(num_features=256, eps=1e-05)\n",
      "          )\n",
      "          (conv2): Conv2d(\n",
      "            256, 256, kernel_size=(3, 3), stride=(1, 1), padding=(1, 1), bias=False\n",
      "            (norm): FrozenBatchNorm2d(num_features=256, eps=1e-05)\n",
      "          )\n",
      "          (conv3): Conv2d(\n",
      "            256, 1024, kernel_size=(1, 1), stride=(1, 1), bias=False\n",
      "            (norm): FrozenBatchNorm2d(num_features=1024, eps=1e-05)\n",
      "          )\n",
      "        )\n",
      "        (5): BottleneckBlock(\n",
      "          (conv1): Conv2d(\n",
      "            1024, 256, kernel_size=(1, 1), stride=(1, 1), bias=False\n",
      "            (norm): FrozenBatchNorm2d(num_features=256, eps=1e-05)\n",
      "          )\n",
      "          (conv2): Conv2d(\n",
      "            256, 256, kernel_size=(3, 3), stride=(1, 1), padding=(1, 1), bias=False\n",
      "            (norm): FrozenBatchNorm2d(num_features=256, eps=1e-05)\n",
      "          )\n",
      "          (conv3): Conv2d(\n",
      "            256, 1024, kernel_size=(1, 1), stride=(1, 1), bias=False\n",
      "            (norm): FrozenBatchNorm2d(num_features=1024, eps=1e-05)\n",
      "          )\n",
      "        )\n",
      "      )\n",
      "      (res5): Sequential(\n",
      "        (0): BottleneckBlock(\n",
      "          (shortcut): Conv2d(\n",
      "            1024, 2048, kernel_size=(1, 1), stride=(2, 2), bias=False\n",
      "            (norm): FrozenBatchNorm2d(num_features=2048, eps=1e-05)\n",
      "          )\n",
      "          (conv1): Conv2d(\n",
      "            1024, 512, kernel_size=(1, 1), stride=(2, 2), bias=False\n",
      "            (norm): FrozenBatchNorm2d(num_features=512, eps=1e-05)\n",
      "          )\n",
      "          (conv2): Conv2d(\n",
      "            512, 512, kernel_size=(3, 3), stride=(1, 1), padding=(1, 1), bias=False\n",
      "            (norm): FrozenBatchNorm2d(num_features=512, eps=1e-05)\n",
      "          )\n",
      "          (conv3): Conv2d(\n",
      "            512, 2048, kernel_size=(1, 1), stride=(1, 1), bias=False\n",
      "            (norm): FrozenBatchNorm2d(num_features=2048, eps=1e-05)\n",
      "          )\n",
      "        )\n",
      "        (1): BottleneckBlock(\n",
      "          (conv1): Conv2d(\n",
      "            2048, 512, kernel_size=(1, 1), stride=(1, 1), bias=False\n",
      "            (norm): FrozenBatchNorm2d(num_features=512, eps=1e-05)\n",
      "          )\n",
      "          (conv2): Conv2d(\n",
      "            512, 512, kernel_size=(3, 3), stride=(1, 1), padding=(1, 1), bias=False\n",
      "            (norm): FrozenBatchNorm2d(num_features=512, eps=1e-05)\n",
      "          )\n",
      "          (conv3): Conv2d(\n",
      "            512, 2048, kernel_size=(1, 1), stride=(1, 1), bias=False\n",
      "            (norm): FrozenBatchNorm2d(num_features=2048, eps=1e-05)\n",
      "          )\n",
      "        )\n",
      "        (2): BottleneckBlock(\n",
      "          (conv1): Conv2d(\n",
      "            2048, 512, kernel_size=(1, 1), stride=(1, 1), bias=False\n",
      "            (norm): FrozenBatchNorm2d(num_features=512, eps=1e-05)\n",
      "          )\n",
      "          (conv2): Conv2d(\n",
      "            512, 512, kernel_size=(3, 3), stride=(1, 1), padding=(1, 1), bias=False\n",
      "            (norm): FrozenBatchNorm2d(num_features=512, eps=1e-05)\n",
      "          )\n",
      "          (conv3): Conv2d(\n",
      "            512, 2048, kernel_size=(1, 1), stride=(1, 1), bias=False\n",
      "            (norm): FrozenBatchNorm2d(num_features=2048, eps=1e-05)\n",
      "          )\n",
      "        )\n",
      "      )\n",
      "    )\n",
      "  )\n",
      "  (proposal_generator): RPN(\n",
      "    (rpn_head): StandardRPNHead(\n",
      "      (conv): Conv2d(\n",
      "        256, 256, kernel_size=(3, 3), stride=(1, 1), padding=(1, 1)\n",
      "        (activation): ReLU()\n",
      "      )\n",
      "      (objectness_logits): Conv2d(256, 3, kernel_size=(1, 1), stride=(1, 1))\n",
      "      (anchor_deltas): Conv2d(256, 12, kernel_size=(1, 1), stride=(1, 1))\n",
      "    )\n",
      "    (anchor_generator): DefaultAnchorGenerator(\n",
      "      (cell_anchors): BufferList()\n",
      "    )\n",
      "  )\n",
      "  (roi_heads): StandardROIHeads(\n",
      "    (box_pooler): ROIPooler(\n",
      "      (level_poolers): ModuleList(\n",
      "        (0): ROIAlign(output_size=(7, 7), spatial_scale=0.25, sampling_ratio=0, aligned=True)\n",
      "        (1): ROIAlign(output_size=(7, 7), spatial_scale=0.125, sampling_ratio=0, aligned=True)\n",
      "        (2): ROIAlign(output_size=(7, 7), spatial_scale=0.0625, sampling_ratio=0, aligned=True)\n",
      "        (3): ROIAlign(output_size=(7, 7), spatial_scale=0.03125, sampling_ratio=0, aligned=True)\n",
      "      )\n",
      "    )\n",
      "    (box_head): FastRCNNConvFCHead(\n",
      "      (flatten): Flatten(start_dim=1, end_dim=-1)\n",
      "      (fc1): Linear(in_features=12544, out_features=1024, bias=True)\n",
      "      (fc_relu1): ReLU()\n",
      "      (fc2): Linear(in_features=1024, out_features=1024, bias=True)\n",
      "      (fc_relu2): ReLU()\n",
      "    )\n",
      "    (box_predictor): FastRCNNOutputLayers(\n",
      "      (cls_score): Linear(in_features=1024, out_features=4, bias=True)\n",
      "      (bbox_pred): Linear(in_features=1024, out_features=12, bias=True)\n",
      "    )\n",
      "  )\n",
      ")\n",
      "\u001b[32m[10/19 17:28:02 d2.data.datasets.coco]: \u001b[0mLoaded 777 images in COCO format from C:\\Users\\USER\\Desktop\\train\\dataset\\annotations\\train_annotations.coco.json\n",
      "\u001b[32m[10/19 17:28:02 d2.data.build]: \u001b[0mRemoved 97 images with no usable annotations. 680 images left.\n",
      "\u001b[32m[10/19 17:28:02 d2.data.build]: \u001b[0mDistribution of instances among all 3 categories:\n",
      "\u001b[36m|   category    | #instances   |  category  | #instances   |  category  | #instances   |\n",
      "|:-------------:|:-------------|:----------:|:-------------|:----------:|:-------------|\n",
      "| fire-smoke-.. | 0            |    fire    | 1827         |   smoke    | 1532         |\n",
      "|               |              |            |              |            |              |\n",
      "|     total     | 3359         |            |              |            |              |\u001b[0m\n",
      "\u001b[32m[10/19 17:28:02 d2.data.dataset_mapper]: \u001b[0m[DatasetMapper] Augmentations used in training: [ResizeShortestEdge(short_edge_length=(640, 672, 704, 736, 768, 800), max_size=1333, sample_style='choice'), RandomFlip()]\n",
      "\u001b[32m[10/19 17:28:02 d2.data.build]: \u001b[0mUsing training sampler TrainingSampler\n",
      "\u001b[32m[10/19 17:28:02 d2.data.common]: \u001b[0mSerializing 680 elements to byte tensors and concatenating them all ...\n",
      "\u001b[32m[10/19 17:28:02 d2.data.common]: \u001b[0mSerialized dataset takes 0.30 MiB\n"
     ]
    },
    {
     "name": "stderr",
     "output_type": "stream",
     "text": [
      "Skip loading parameter 'roi_heads.box_predictor.cls_score.weight' to the model due to incompatible shapes: (81, 1024) in the checkpoint but (4, 1024) in the model! You might want to double check if this is expected.\n",
      "Skip loading parameter 'roi_heads.box_predictor.cls_score.bias' to the model due to incompatible shapes: (81,) in the checkpoint but (4,) in the model! You might want to double check if this is expected.\n",
      "Skip loading parameter 'roi_heads.box_predictor.bbox_pred.weight' to the model due to incompatible shapes: (320, 1024) in the checkpoint but (12, 1024) in the model! You might want to double check if this is expected.\n",
      "Skip loading parameter 'roi_heads.box_predictor.bbox_pred.bias' to the model due to incompatible shapes: (320,) in the checkpoint but (12,) in the model! You might want to double check if this is expected.\n",
      "Some model parameters or buffers are not found in the checkpoint:\n",
      "\u001b[34mroi_heads.box_predictor.bbox_pred.{bias, weight}\u001b[0m\n",
      "\u001b[34mroi_heads.box_predictor.cls_score.{bias, weight}\u001b[0m\n"
     ]
    },
    {
     "name": "stdout",
     "output_type": "stream",
     "text": [
      "\u001b[32m[10/19 17:28:03 d2.engine.train_loop]: \u001b[0mStarting training from iteration 0\n"
     ]
    },
    {
     "name": "stderr",
     "output_type": "stream",
     "text": [
      "c:\\Users\\USER\\anaconda3\\envs\\detectron\\lib\\site-packages\\detectron2\\structures\\image_list.py:88: UserWarning: __floordiv__ is deprecated, and its behavior will change in a future version of pytorch. It currently rounds toward 0 (like the 'trunc' function NOT 'floor'). This results in incorrect rounding for negative values. To keep the current behavior, use torch.div(a, b, rounding_mode='trunc'), or for actual floor division, use torch.div(a, b, rounding_mode='floor').\n",
      "  max_size = (max_size + (stride - 1)) // stride * stride\n",
      "c:\\Users\\USER\\anaconda3\\envs\\detectron\\lib\\site-packages\\torch\\functional.py:445: UserWarning: torch.meshgrid: in an upcoming release, it will be required to pass the indexing argument. (Triggered internally at  ..\\aten\\src\\ATen\\native\\TensorShape.cpp:2157.)\n",
      "  return _VF.meshgrid(tensors, **kwargs)  # type: ignore[attr-defined]\n"
     ]
    },
    {
     "name": "stdout",
     "output_type": "stream",
     "text": [
      "\u001b[32m[10/19 17:28:15 d2.utils.events]: \u001b[0m eta: 1:31:15  iter: 19  total_loss: 2.472  loss_cls: 1.211  loss_box_reg: 0.8458  loss_rpn_cls: 0.2828  loss_rpn_loc: 0.04982  time: 0.2801  data_time: 0.1365  lr: 0.00019081  max_mem: 3149M\n",
      "\u001b[32m[10/19 17:28:21 d2.utils.events]: \u001b[0m eta: 1:31:58  iter: 39  total_loss: 1.78  loss_cls: 0.7039  loss_box_reg: 0.9463  loss_rpn_cls: 0.0654  loss_rpn_loc: 0.05869  time: 0.2865  data_time: 0.0022  lr: 0.00039061  max_mem: 3149M\n",
      "\u001b[32m[10/19 17:28:26 d2.utils.events]: \u001b[0m eta: 1:31:00  iter: 59  total_loss: 1.543  loss_cls: 0.5424  loss_box_reg: 0.8975  loss_rpn_cls: 0.05115  loss_rpn_loc: 0.04316  time: 0.2802  data_time: 0.0017  lr: 0.00059041  max_mem: 3149M\n",
      "\u001b[32m[10/19 17:28:31 d2.utils.events]: \u001b[0m eta: 1:28:49  iter: 79  total_loss: 1.35  loss_cls: 0.4071  loss_box_reg: 0.8859  loss_rpn_cls: 0.0368  loss_rpn_loc: 0.05078  time: 0.2743  data_time: 0.0017  lr: 0.00079021  max_mem: 3149M\n",
      "\u001b[32m[10/19 17:28:36 d2.utils.events]: \u001b[0m eta: 1:28:00  iter: 99  total_loss: 1.211  loss_cls: 0.3395  loss_box_reg: 0.8012  loss_rpn_cls: 0.03286  loss_rpn_loc: 0.04142  time: 0.2707  data_time: 0.0016  lr: 0.00099001  max_mem: 3149M\n",
      "\u001b[32m[10/19 17:28:42 d2.utils.events]: \u001b[0m eta: 1:27:45  iter: 119  total_loss: 1.241  loss_cls: 0.3667  loss_box_reg: 0.7699  loss_rpn_cls: 0.04902  loss_rpn_loc: 0.05796  time: 0.2685  data_time: 0.0017  lr: 0.001  max_mem: 3149M\n",
      "\u001b[32m[10/19 17:28:47 d2.utils.events]: \u001b[0m eta: 1:27:36  iter: 139  total_loss: 1.233  loss_cls: 0.3244  loss_box_reg: 0.683  loss_rpn_cls: 0.02384  loss_rpn_loc: 0.06748  time: 0.2670  data_time: 0.0016  lr: 0.001  max_mem: 3149M\n",
      "\u001b[32m[10/19 17:28:52 d2.utils.events]: \u001b[0m eta: 1:27:30  iter: 159  total_loss: 1.116  loss_cls: 0.2993  loss_box_reg: 0.69  loss_rpn_cls: 0.03015  loss_rpn_loc: 0.04131  time: 0.2668  data_time: 0.0017  lr: 0.001  max_mem: 3149M\n",
      "\u001b[32m[10/19 17:28:57 d2.utils.events]: \u001b[0m eta: 1:27:25  iter: 179  total_loss: 0.9855  loss_cls: 0.2576  loss_box_reg: 0.6702  loss_rpn_cls: 0.01821  loss_rpn_loc: 0.03571  time: 0.2667  data_time: 0.0016  lr: 0.001  max_mem: 3149M\n",
      "\u001b[32m[10/19 17:29:03 d2.utils.events]: \u001b[0m eta: 1:27:25  iter: 199  total_loss: 0.977  loss_cls: 0.2462  loss_box_reg: 0.6515  loss_rpn_cls: 0.01814  loss_rpn_loc: 0.02989  time: 0.2674  data_time: 0.0017  lr: 0.001  max_mem: 3149M\n",
      "\u001b[32m[10/19 17:29:08 d2.utils.events]: \u001b[0m eta: 1:27:17  iter: 219  total_loss: 1.074  loss_cls: 0.2609  loss_box_reg: 0.6487  loss_rpn_cls: 0.02248  loss_rpn_loc: 0.06308  time: 0.2667  data_time: 0.0016  lr: 0.001  max_mem: 3149M\n",
      "\u001b[32m[10/19 17:29:13 d2.utils.events]: \u001b[0m eta: 1:27:14  iter: 239  total_loss: 0.9867  loss_cls: 0.2734  loss_box_reg: 0.6459  loss_rpn_cls: 0.02025  loss_rpn_loc: 0.04647  time: 0.2666  data_time: 0.0016  lr: 0.001  max_mem: 3149M\n",
      "\u001b[32m[10/19 17:29:18 d2.utils.events]: \u001b[0m eta: 1:27:06  iter: 259  total_loss: 1.034  loss_cls: 0.2797  loss_box_reg: 0.6151  loss_rpn_cls: 0.0208  loss_rpn_loc: 0.05277  time: 0.2660  data_time: 0.0016  lr: 0.001  max_mem: 3149M\n",
      "\u001b[32m[10/19 17:29:24 d2.utils.events]: \u001b[0m eta: 1:26:59  iter: 279  total_loss: 0.9786  loss_cls: 0.2777  loss_box_reg: 0.6052  loss_rpn_cls: 0.01911  loss_rpn_loc: 0.05652  time: 0.2656  data_time: 0.0016  lr: 0.001  max_mem: 3149M\n",
      "\u001b[32m[10/19 17:29:29 d2.utils.events]: \u001b[0m eta: 1:26:52  iter: 299  total_loss: 0.991  loss_cls: 0.2805  loss_box_reg: 0.6271  loss_rpn_cls: 0.01898  loss_rpn_loc: 0.0403  time: 0.2648  data_time: 0.0016  lr: 0.001  max_mem: 3149M\n",
      "\u001b[32m[10/19 17:29:34 d2.utils.events]: \u001b[0m eta: 1:26:47  iter: 319  total_loss: 0.909  loss_cls: 0.2274  loss_box_reg: 0.5914  loss_rpn_cls: 0.02122  loss_rpn_loc: 0.04995  time: 0.2644  data_time: 0.0016  lr: 0.001  max_mem: 3149M\n",
      "\u001b[32m[10/19 17:29:39 d2.utils.events]: \u001b[0m eta: 1:26:42  iter: 339  total_loss: 0.8823  loss_cls: 0.2463  loss_box_reg: 0.5977  loss_rpn_cls: 0.01466  loss_rpn_loc: 0.03224  time: 0.2643  data_time: 0.0016  lr: 0.001  max_mem: 3149M\n",
      "\u001b[32m[10/19 17:29:44 d2.utils.events]: \u001b[0m eta: 1:26:37  iter: 359  total_loss: 0.9729  loss_cls: 0.2682  loss_box_reg: 0.6182  loss_rpn_cls: 0.0151  loss_rpn_loc: 0.04976  time: 0.2639  data_time: 0.0016  lr: 0.001  max_mem: 3149M\n",
      "\u001b[32m[10/19 17:29:50 d2.utils.events]: \u001b[0m eta: 1:26:33  iter: 379  total_loss: 0.8593  loss_cls: 0.2298  loss_box_reg: 0.5587  loss_rpn_cls: 0.01573  loss_rpn_loc: 0.0349  time: 0.2637  data_time: 0.0016  lr: 0.001  max_mem: 3149M\n",
      "\u001b[32m[10/19 17:29:55 d2.utils.events]: \u001b[0m eta: 1:26:28  iter: 399  total_loss: 0.8931  loss_cls: 0.247  loss_box_reg: 0.5608  loss_rpn_cls: 0.01312  loss_rpn_loc: 0.03729  time: 0.2639  data_time: 0.0017  lr: 0.001  max_mem: 3149M\n",
      "\u001b[32m[10/19 17:30:00 d2.utils.events]: \u001b[0m eta: 1:26:25  iter: 419  total_loss: 0.9562  loss_cls: 0.2335  loss_box_reg: 0.6165  loss_rpn_cls: 0.01575  loss_rpn_loc: 0.05241  time: 0.2641  data_time: 0.0017  lr: 0.001  max_mem: 3149M\n",
      "\u001b[32m[10/19 17:30:06 d2.utils.events]: \u001b[0m eta: 1:26:21  iter: 439  total_loss: 0.8928  loss_cls: 0.2406  loss_box_reg: 0.5627  loss_rpn_cls: 0.02022  loss_rpn_loc: 0.04879  time: 0.2645  data_time: 0.0017  lr: 0.001  max_mem: 3149M\n",
      "\u001b[32m[10/19 17:30:11 d2.utils.events]: \u001b[0m eta: 1:26:19  iter: 459  total_loss: 0.8538  loss_cls: 0.2365  loss_box_reg: 0.5532  loss_rpn_cls: 0.0128  loss_rpn_loc: 0.03039  time: 0.2647  data_time: 0.0016  lr: 0.001  max_mem: 3149M\n",
      "\u001b[32m[10/19 17:30:17 d2.utils.events]: \u001b[0m eta: 1:26:15  iter: 479  total_loss: 0.8678  loss_cls: 0.2472  loss_box_reg: 0.5632  loss_rpn_cls: 0.01384  loss_rpn_loc: 0.047  time: 0.2648  data_time: 0.0016  lr: 0.001  max_mem: 3149M\n",
      "\u001b[32m[10/19 17:30:22 d2.utils.events]: \u001b[0m eta: 1:26:09  iter: 499  total_loss: 0.8339  loss_cls: 0.1903  loss_box_reg: 0.5791  loss_rpn_cls: 0.01483  loss_rpn_loc: 0.05698  time: 0.2646  data_time: 0.0016  lr: 0.001  max_mem: 3149M\n",
      "\u001b[32m[10/19 17:30:27 d2.utils.events]: \u001b[0m eta: 1:26:04  iter: 519  total_loss: 0.8093  loss_cls: 0.2324  loss_box_reg: 0.5316  loss_rpn_cls: 0.0138  loss_rpn_loc: 0.03474  time: 0.2647  data_time: 0.0017  lr: 0.001  max_mem: 3149M\n",
      "\u001b[32m[10/19 17:30:32 d2.utils.events]: \u001b[0m eta: 1:25:58  iter: 539  total_loss: 0.8057  loss_cls: 0.2086  loss_box_reg: 0.4974  loss_rpn_cls: 0.01243  loss_rpn_loc: 0.03094  time: 0.2647  data_time: 0.0017  lr: 0.001  max_mem: 3149M\n",
      "\u001b[32m[10/19 17:30:38 d2.utils.events]: \u001b[0m eta: 1:25:54  iter: 559  total_loss: 0.862  loss_cls: 0.2195  loss_box_reg: 0.5415  loss_rpn_cls: 0.01037  loss_rpn_loc: 0.04741  time: 0.2648  data_time: 0.0017  lr: 0.001  max_mem: 3149M\n",
      "\u001b[32m[10/19 17:30:43 d2.utils.events]: \u001b[0m eta: 1:25:48  iter: 579  total_loss: 0.875  loss_cls: 0.2408  loss_box_reg: 0.5399  loss_rpn_cls: 0.01772  loss_rpn_loc: 0.04426  time: 0.2647  data_time: 0.0016  lr: 0.001  max_mem: 3149M\n",
      "\u001b[32m[10/19 17:30:48 d2.utils.events]: \u001b[0m eta: 1:25:42  iter: 599  total_loss: 0.7989  loss_cls: 0.2191  loss_box_reg: 0.4989  loss_rpn_cls: 0.01347  loss_rpn_loc: 0.03693  time: 0.2646  data_time: 0.0016  lr: 0.001  max_mem: 3149M\n",
      "\u001b[32m[10/19 17:30:53 d2.utils.events]: \u001b[0m eta: 1:25:34  iter: 619  total_loss: 0.9213  loss_cls: 0.2549  loss_box_reg: 0.5497  loss_rpn_cls: 0.01622  loss_rpn_loc: 0.0642  time: 0.2643  data_time: 0.0017  lr: 0.001  max_mem: 3149M\n",
      "\u001b[32m[10/19 17:30:59 d2.utils.events]: \u001b[0m eta: 1:25:29  iter: 639  total_loss: 0.851  loss_cls: 0.2289  loss_box_reg: 0.5439  loss_rpn_cls: 0.0111  loss_rpn_loc: 0.03341  time: 0.2643  data_time: 0.0016  lr: 0.001  max_mem: 3149M\n",
      "\u001b[32m[10/19 17:31:04 d2.utils.events]: \u001b[0m eta: 1:25:25  iter: 659  total_loss: 0.8587  loss_cls: 0.2504  loss_box_reg: 0.4832  loss_rpn_cls: 0.01322  loss_rpn_loc: 0.03302  time: 0.2642  data_time: 0.0017  lr: 0.001  max_mem: 3149M\n",
      "\u001b[32m[10/19 17:31:09 d2.utils.events]: \u001b[0m eta: 1:25:18  iter: 679  total_loss: 0.7934  loss_cls: 0.2199  loss_box_reg: 0.5185  loss_rpn_cls: 0.01508  loss_rpn_loc: 0.03416  time: 0.2640  data_time: 0.0016  lr: 0.001  max_mem: 3149M\n",
      "\u001b[32m[10/19 17:31:14 d2.utils.events]: \u001b[0m eta: 1:25:14  iter: 699  total_loss: 0.7961  loss_cls: 0.1925  loss_box_reg: 0.5003  loss_rpn_cls: 0.01374  loss_rpn_loc: 0.04834  time: 0.2639  data_time: 0.0016  lr: 0.001  max_mem: 3149M\n",
      "\u001b[32m[10/19 17:31:20 d2.utils.events]: \u001b[0m eta: 1:25:09  iter: 719  total_loss: 0.7932  loss_cls: 0.2077  loss_box_reg: 0.5532  loss_rpn_cls: 0.009929  loss_rpn_loc: 0.03402  time: 0.2639  data_time: 0.0016  lr: 0.001  max_mem: 3149M\n",
      "\u001b[32m[10/19 17:31:25 d2.utils.events]: \u001b[0m eta: 1:25:05  iter: 739  total_loss: 0.7461  loss_cls: 0.1806  loss_box_reg: 0.5012  loss_rpn_cls: 0.01109  loss_rpn_loc: 0.05399  time: 0.2639  data_time: 0.0016  lr: 0.001  max_mem: 3149M\n",
      "\u001b[32m[10/19 17:31:30 d2.utils.events]: \u001b[0m eta: 1:24:59  iter: 759  total_loss: 0.7888  loss_cls: 0.1741  loss_box_reg: 0.5273  loss_rpn_cls: 0.008466  loss_rpn_loc: 0.03237  time: 0.2637  data_time: 0.0015  lr: 0.001  max_mem: 3149M\n",
      "\u001b[32m[10/19 17:31:35 d2.utils.events]: \u001b[0m eta: 1:24:53  iter: 779  total_loss: 0.8449  loss_cls: 0.2005  loss_box_reg: 0.5571  loss_rpn_cls: 0.01386  loss_rpn_loc: 0.04001  time: 0.2637  data_time: 0.0016  lr: 0.001  max_mem: 3149M\n",
      "\u001b[32m[10/19 17:31:40 d2.utils.events]: \u001b[0m eta: 1:24:48  iter: 799  total_loss: 0.87  loss_cls: 0.2324  loss_box_reg: 0.5335  loss_rpn_cls: 0.0108  loss_rpn_loc: 0.05014  time: 0.2636  data_time: 0.0016  lr: 0.001  max_mem: 3149M\n",
      "\u001b[32m[10/19 17:31:46 d2.utils.events]: \u001b[0m eta: 1:24:43  iter: 819  total_loss: 0.8451  loss_cls: 0.2225  loss_box_reg: 0.5516  loss_rpn_cls: 0.01718  loss_rpn_loc: 0.05341  time: 0.2636  data_time: 0.0016  lr: 0.001  max_mem: 3149M\n",
      "\u001b[32m[10/19 17:31:51 d2.utils.events]: \u001b[0m eta: 1:24:38  iter: 839  total_loss: 0.7163  loss_cls: 0.1834  loss_box_reg: 0.4838  loss_rpn_cls: 0.0068  loss_rpn_loc: 0.02863  time: 0.2636  data_time: 0.0016  lr: 0.001  max_mem: 3149M\n",
      "\u001b[32m[10/19 17:31:56 d2.utils.events]: \u001b[0m eta: 1:24:33  iter: 859  total_loss: 0.7539  loss_cls: 0.1974  loss_box_reg: 0.5185  loss_rpn_cls: 0.008652  loss_rpn_loc: 0.02492  time: 0.2636  data_time: 0.0016  lr: 0.001  max_mem: 3149M\n",
      "\u001b[32m[10/19 17:32:01 d2.utils.events]: \u001b[0m eta: 1:24:27  iter: 879  total_loss: 0.8006  loss_cls: 0.1853  loss_box_reg: 0.508  loss_rpn_cls: 0.01213  loss_rpn_loc: 0.0383  time: 0.2634  data_time: 0.0016  lr: 0.001  max_mem: 3149M\n",
      "\u001b[32m[10/19 17:32:07 d2.utils.events]: \u001b[0m eta: 1:24:22  iter: 899  total_loss: 0.7826  loss_cls: 0.2101  loss_box_reg: 0.481  loss_rpn_cls: 0.01026  loss_rpn_loc: 0.05641  time: 0.2633  data_time: 0.0016  lr: 0.001  max_mem: 3149M\n",
      "\u001b[32m[10/19 17:32:12 d2.utils.events]: \u001b[0m eta: 1:24:16  iter: 919  total_loss: 0.7137  loss_cls: 0.1982  loss_box_reg: 0.4627  loss_rpn_cls: 0.009282  loss_rpn_loc: 0.04119  time: 0.2631  data_time: 0.0016  lr: 0.001  max_mem: 3149M\n",
      "\u001b[32m[10/19 17:32:17 d2.utils.events]: \u001b[0m eta: 1:24:11  iter: 939  total_loss: 0.7352  loss_cls: 0.175  loss_box_reg: 0.5425  loss_rpn_cls: 0.01165  loss_rpn_loc: 0.05208  time: 0.2632  data_time: 0.0016  lr: 0.001  max_mem: 3149M\n",
      "\u001b[32m[10/19 17:32:22 d2.utils.events]: \u001b[0m eta: 1:24:06  iter: 959  total_loss: 0.7483  loss_cls: 0.172  loss_box_reg: 0.5108  loss_rpn_cls: 0.01148  loss_rpn_loc: 0.03032  time: 0.2632  data_time: 0.0017  lr: 0.001  max_mem: 3149M\n",
      "\u001b[32m[10/19 17:32:27 d2.utils.events]: \u001b[0m eta: 1:24:00  iter: 979  total_loss: 0.7843  loss_cls: 0.203  loss_box_reg: 0.4999  loss_rpn_cls: 0.009156  loss_rpn_loc: 0.04478  time: 0.2631  data_time: 0.0017  lr: 0.001  max_mem: 3149M\n",
      "\u001b[32m[10/19 17:32:33 d2.utils.events]: \u001b[0m eta: 1:23:55  iter: 999  total_loss: 0.8017  loss_cls: 0.202  loss_box_reg: 0.4849  loss_rpn_cls: 0.01201  loss_rpn_loc: 0.05515  time: 0.2632  data_time: 0.0016  lr: 0.001  max_mem: 3149M\n",
      "\u001b[32m[10/19 17:32:38 d2.utils.events]: \u001b[0m eta: 1:23:48  iter: 1019  total_loss: 0.6903  loss_cls: 0.197  loss_box_reg: 0.4396  loss_rpn_cls: 0.01421  loss_rpn_loc: 0.03519  time: 0.2634  data_time: 0.0019  lr: 0.001  max_mem: 3149M\n",
      "\u001b[32m[10/19 17:32:44 d2.utils.events]: \u001b[0m eta: 1:23:39  iter: 1039  total_loss: 0.7443  loss_cls: 0.1992  loss_box_reg: 0.4624  loss_rpn_cls: 0.01255  loss_rpn_loc: 0.04168  time: 0.2634  data_time: 0.0017  lr: 0.001  max_mem: 3149M\n",
      "\u001b[32m[10/19 17:32:49 d2.utils.events]: \u001b[0m eta: 1:23:33  iter: 1059  total_loss: 0.795  loss_cls: 0.207  loss_box_reg: 0.5532  loss_rpn_cls: 0.01124  loss_rpn_loc: 0.05582  time: 0.2635  data_time: 0.0016  lr: 0.001  max_mem: 3149M\n",
      "\u001b[32m[10/19 17:32:54 d2.utils.events]: \u001b[0m eta: 1:23:28  iter: 1079  total_loss: 0.7224  loss_cls: 0.1618  loss_box_reg: 0.4949  loss_rpn_cls: 0.00748  loss_rpn_loc: 0.02964  time: 0.2633  data_time: 0.0016  lr: 0.001  max_mem: 3149M\n",
      "\u001b[32m[10/19 17:32:59 d2.utils.events]: \u001b[0m eta: 1:23:27  iter: 1099  total_loss: 0.7124  loss_cls: 0.1759  loss_box_reg: 0.4664  loss_rpn_cls: 0.01148  loss_rpn_loc: 0.02329  time: 0.2634  data_time: 0.0017  lr: 0.001  max_mem: 3149M\n",
      "\u001b[32m[10/19 17:33:05 d2.utils.events]: \u001b[0m eta: 1:23:26  iter: 1119  total_loss: 0.6402  loss_cls: 0.171  loss_box_reg: 0.4469  loss_rpn_cls: 0.009974  loss_rpn_loc: 0.0278  time: 0.2635  data_time: 0.0016  lr: 0.001  max_mem: 3149M\n",
      "\u001b[32m[10/19 17:33:10 d2.utils.events]: \u001b[0m eta: 1:23:27  iter: 1139  total_loss: 0.7652  loss_cls: 0.1741  loss_box_reg: 0.4903  loss_rpn_cls: 0.009673  loss_rpn_loc: 0.04408  time: 0.2634  data_time: 0.0016  lr: 0.001  max_mem: 3149M\n",
      "\u001b[32m[10/19 17:33:15 d2.utils.events]: \u001b[0m eta: 1:23:22  iter: 1159  total_loss: 0.8128  loss_cls: 0.2069  loss_box_reg: 0.465  loss_rpn_cls: 0.008985  loss_rpn_loc: 0.04649  time: 0.2633  data_time: 0.0016  lr: 0.001  max_mem: 3149M\n",
      "\u001b[32m[10/19 17:33:20 d2.utils.events]: \u001b[0m eta: 1:23:16  iter: 1179  total_loss: 0.7559  loss_cls: 0.1812  loss_box_reg: 0.4617  loss_rpn_cls: 0.008004  loss_rpn_loc: 0.03116  time: 0.2633  data_time: 0.0016  lr: 0.001  max_mem: 3149M\n",
      "\u001b[32m[10/19 17:33:26 d2.utils.events]: \u001b[0m eta: 1:23:06  iter: 1199  total_loss: 0.7241  loss_cls: 0.1851  loss_box_reg: 0.4666  loss_rpn_cls: 0.008894  loss_rpn_loc: 0.05108  time: 0.2632  data_time: 0.0017  lr: 0.001  max_mem: 3149M\n",
      "\u001b[32m[10/19 17:33:31 d2.utils.events]: \u001b[0m eta: 1:23:04  iter: 1219  total_loss: 0.7851  loss_cls: 0.1847  loss_box_reg: 0.4868  loss_rpn_cls: 0.01252  loss_rpn_loc: 0.04071  time: 0.2633  data_time: 0.0016  lr: 0.001  max_mem: 3149M\n",
      "\u001b[32m[10/19 17:33:36 d2.utils.events]: \u001b[0m eta: 1:22:56  iter: 1239  total_loss: 0.6515  loss_cls: 0.1569  loss_box_reg: 0.492  loss_rpn_cls: 0.008105  loss_rpn_loc: 0.02164  time: 0.2632  data_time: 0.0016  lr: 0.001  max_mem: 3149M\n",
      "\u001b[32m[10/19 17:33:41 d2.utils.events]: \u001b[0m eta: 1:22:53  iter: 1259  total_loss: 0.7294  loss_cls: 0.2017  loss_box_reg: 0.4712  loss_rpn_cls: 0.0114  loss_rpn_loc: 0.0361  time: 0.2633  data_time: 0.0016  lr: 0.001  max_mem: 3149M\n",
      "\u001b[32m[10/19 17:33:47 d2.utils.events]: \u001b[0m eta: 1:22:48  iter: 1279  total_loss: 0.6711  loss_cls: 0.1811  loss_box_reg: 0.4654  loss_rpn_cls: 0.007095  loss_rpn_loc: 0.03774  time: 0.2633  data_time: 0.0017  lr: 0.001  max_mem: 3149M\n",
      "\u001b[32m[10/19 17:33:52 d2.utils.events]: \u001b[0m eta: 1:22:44  iter: 1299  total_loss: 0.7506  loss_cls: 0.187  loss_box_reg: 0.5021  loss_rpn_cls: 0.009495  loss_rpn_loc: 0.02806  time: 0.2634  data_time: 0.0016  lr: 0.001  max_mem: 3149M\n",
      "\u001b[32m[10/19 17:33:57 d2.utils.events]: \u001b[0m eta: 1:22:38  iter: 1319  total_loss: 0.6999  loss_cls: 0.1528  loss_box_reg: 0.4348  loss_rpn_cls: 0.007581  loss_rpn_loc: 0.02137  time: 0.2634  data_time: 0.0016  lr: 0.001  max_mem: 3149M\n",
      "\u001b[32m[10/19 17:34:03 d2.utils.events]: \u001b[0m eta: 1:22:33  iter: 1339  total_loss: 0.7371  loss_cls: 0.1776  loss_box_reg: 0.4739  loss_rpn_cls: 0.01197  loss_rpn_loc: 0.03393  time: 0.2635  data_time: 0.0017  lr: 0.001  max_mem: 3149M\n",
      "\u001b[32m[10/19 17:34:08 d2.utils.events]: \u001b[0m eta: 1:22:28  iter: 1359  total_loss: 0.7299  loss_cls: 0.1507  loss_box_reg: 0.5184  loss_rpn_cls: 0.008916  loss_rpn_loc: 0.05057  time: 0.2636  data_time: 0.0016  lr: 0.001  max_mem: 3149M\n",
      "\u001b[32m[10/19 17:34:13 d2.utils.events]: \u001b[0m eta: 1:22:22  iter: 1379  total_loss: 0.7095  loss_cls: 0.2019  loss_box_reg: 0.4656  loss_rpn_cls: 0.008122  loss_rpn_loc: 0.03808  time: 0.2635  data_time: 0.0016  lr: 0.001  max_mem: 3149M\n",
      "\u001b[32m[10/19 17:34:18 d2.utils.events]: \u001b[0m eta: 1:22:14  iter: 1399  total_loss: 0.7018  loss_cls: 0.1844  loss_box_reg: 0.4567  loss_rpn_cls: 0.01331  loss_rpn_loc: 0.05517  time: 0.2634  data_time: 0.0016  lr: 0.001  max_mem: 3149M\n",
      "\u001b[32m[10/19 17:34:24 d2.utils.events]: \u001b[0m eta: 1:22:02  iter: 1419  total_loss: 0.6736  loss_cls: 0.1353  loss_box_reg: 0.4471  loss_rpn_cls: 0.007672  loss_rpn_loc: 0.02623  time: 0.2634  data_time: 0.0016  lr: 0.001  max_mem: 3149M\n",
      "\u001b[32m[10/19 17:34:29 d2.utils.events]: \u001b[0m eta: 1:21:51  iter: 1439  total_loss: 0.7605  loss_cls: 0.2095  loss_box_reg: 0.4846  loss_rpn_cls: 0.01328  loss_rpn_loc: 0.04434  time: 0.2633  data_time: 0.0016  lr: 0.001  max_mem: 3149M\n",
      "\u001b[32m[10/19 17:34:34 d2.utils.events]: \u001b[0m eta: 1:21:28  iter: 1459  total_loss: 0.7138  loss_cls: 0.1945  loss_box_reg: 0.4529  loss_rpn_cls: 0.00734  loss_rpn_loc: 0.03554  time: 0.2633  data_time: 0.0016  lr: 0.001  max_mem: 3149M\n",
      "\u001b[32m[10/19 17:34:39 d2.utils.events]: \u001b[0m eta: 1:21:01  iter: 1479  total_loss: 0.6665  loss_cls: 0.1231  loss_box_reg: 0.4262  loss_rpn_cls: 0.00909  loss_rpn_loc: 0.0402  time: 0.2632  data_time: 0.0016  lr: 0.001  max_mem: 3149M\n",
      "\u001b[32m[10/19 17:34:45 d2.utils.events]: \u001b[0m eta: 1:21:00  iter: 1499  total_loss: 0.6868  loss_cls: 0.1785  loss_box_reg: 0.4402  loss_rpn_cls: 0.009117  loss_rpn_loc: 0.05315  time: 0.2632  data_time: 0.0017  lr: 0.001  max_mem: 3149M\n",
      "\u001b[32m[10/19 17:34:50 d2.utils.events]: \u001b[0m eta: 1:20:45  iter: 1519  total_loss: 0.7174  loss_cls: 0.1759  loss_box_reg: 0.4716  loss_rpn_cls: 0.01097  loss_rpn_loc: 0.04617  time: 0.2632  data_time: 0.0016  lr: 0.001  max_mem: 3149M\n",
      "\u001b[32m[10/19 17:34:55 d2.utils.events]: \u001b[0m eta: 1:20:42  iter: 1539  total_loss: 0.6527  loss_cls: 0.144  loss_box_reg: 0.4474  loss_rpn_cls: 0.006211  loss_rpn_loc: 0.03418  time: 0.2633  data_time: 0.0017  lr: 0.001  max_mem: 3149M\n",
      "\u001b[32m[10/19 17:35:00 d2.utils.events]: \u001b[0m eta: 1:20:33  iter: 1559  total_loss: 0.6804  loss_cls: 0.1578  loss_box_reg: 0.4684  loss_rpn_cls: 0.006342  loss_rpn_loc: 0.03159  time: 0.2633  data_time: 0.0017  lr: 0.001  max_mem: 3149M\n",
      "\u001b[32m[10/19 17:35:06 d2.utils.events]: \u001b[0m eta: 1:20:28  iter: 1579  total_loss: 0.6521  loss_cls: 0.1644  loss_box_reg: 0.432  loss_rpn_cls: 0.006984  loss_rpn_loc: 0.0252  time: 0.2632  data_time: 0.0017  lr: 0.001  max_mem: 3149M\n",
      "\u001b[32m[10/19 17:35:11 d2.utils.events]: \u001b[0m eta: 1:20:18  iter: 1599  total_loss: 0.6715  loss_cls: 0.1809  loss_box_reg: 0.4374  loss_rpn_cls: 0.007509  loss_rpn_loc: 0.03283  time: 0.2632  data_time: 0.0017  lr: 0.001  max_mem: 3149M\n",
      "\u001b[32m[10/19 17:35:16 d2.utils.events]: \u001b[0m eta: 1:20:19  iter: 1619  total_loss: 0.7317  loss_cls: 0.1693  loss_box_reg: 0.4893  loss_rpn_cls: 0.009508  loss_rpn_loc: 0.04198  time: 0.2633  data_time: 0.0018  lr: 0.001  max_mem: 3149M\n",
      "\u001b[32m[10/19 17:35:22 d2.utils.events]: \u001b[0m eta: 1:20:20  iter: 1639  total_loss: 0.7049  loss_cls: 0.1846  loss_box_reg: 0.4576  loss_rpn_cls: 0.01003  loss_rpn_loc: 0.03959  time: 0.2636  data_time: 0.0017  lr: 0.001  max_mem: 3149M\n",
      "\u001b[32m[10/19 17:35:28 d2.utils.events]: \u001b[0m eta: 1:20:24  iter: 1659  total_loss: 0.6925  loss_cls: 0.1889  loss_box_reg: 0.4756  loss_rpn_cls: 0.0104  loss_rpn_loc: 0.03639  time: 0.2637  data_time: 0.0018  lr: 0.001  max_mem: 3149M\n",
      "\u001b[32m[10/19 17:35:33 d2.utils.events]: \u001b[0m eta: 1:20:25  iter: 1679  total_loss: 0.676  loss_cls: 0.1838  loss_box_reg: 0.4511  loss_rpn_cls: 0.009017  loss_rpn_loc: 0.03532  time: 0.2639  data_time: 0.0017  lr: 0.001  max_mem: 3149M\n",
      "\u001b[32m[10/19 17:35:39 d2.utils.events]: \u001b[0m eta: 1:20:20  iter: 1699  total_loss: 0.7006  loss_cls: 0.1874  loss_box_reg: 0.4457  loss_rpn_cls: 0.007335  loss_rpn_loc: 0.02981  time: 0.2640  data_time: 0.0018  lr: 0.001  max_mem: 3149M\n",
      "\u001b[32m[10/19 17:35:44 d2.utils.events]: \u001b[0m eta: 1:20:08  iter: 1719  total_loss: 0.699  loss_cls: 0.1495  loss_box_reg: 0.4287  loss_rpn_cls: 0.009476  loss_rpn_loc: 0.02575  time: 0.2640  data_time: 0.0017  lr: 0.001  max_mem: 3149M\n",
      "\u001b[32m[10/19 17:35:49 d2.utils.events]: \u001b[0m eta: 1:19:59  iter: 1739  total_loss: 0.6783  loss_cls: 0.1591  loss_box_reg: 0.4139  loss_rpn_cls: 0.009876  loss_rpn_loc: 0.04988  time: 0.2641  data_time: 0.0017  lr: 0.001  max_mem: 3149M\n",
      "\u001b[32m[10/19 17:35:55 d2.utils.events]: \u001b[0m eta: 1:19:51  iter: 1759  total_loss: 0.6475  loss_cls: 0.1691  loss_box_reg: 0.4288  loss_rpn_cls: 0.007695  loss_rpn_loc: 0.03597  time: 0.2641  data_time: 0.0017  lr: 0.001  max_mem: 3149M\n",
      "\u001b[32m[10/19 17:36:00 d2.utils.events]: \u001b[0m eta: 1:19:50  iter: 1779  total_loss: 0.7524  loss_cls: 0.2068  loss_box_reg: 0.4573  loss_rpn_cls: 0.009125  loss_rpn_loc: 0.05148  time: 0.2642  data_time: 0.0017  lr: 0.001  max_mem: 3149M\n",
      "\u001b[32m[10/19 17:36:05 d2.utils.events]: \u001b[0m eta: 1:19:43  iter: 1799  total_loss: 0.6539  loss_cls: 0.1417  loss_box_reg: 0.4405  loss_rpn_cls: 0.00596  loss_rpn_loc: 0.03059  time: 0.2642  data_time: 0.0017  lr: 0.001  max_mem: 3149M\n",
      "\u001b[32m[10/19 17:36:11 d2.utils.events]: \u001b[0m eta: 1:19:31  iter: 1819  total_loss: 0.6915  loss_cls: 0.1661  loss_box_reg: 0.4304  loss_rpn_cls: 0.00979  loss_rpn_loc: 0.03987  time: 0.2643  data_time: 0.0017  lr: 0.001  max_mem: 3149M\n",
      "\u001b[32m[10/19 17:36:16 d2.utils.events]: \u001b[0m eta: 1:19:33  iter: 1839  total_loss: 0.6982  loss_cls: 0.205  loss_box_reg: 0.4317  loss_rpn_cls: 0.008297  loss_rpn_loc: 0.04281  time: 0.2645  data_time: 0.0017  lr: 0.001  max_mem: 3149M\n",
      "\u001b[32m[10/19 17:36:22 d2.utils.events]: \u001b[0m eta: 1:19:32  iter: 1859  total_loss: 0.6724  loss_cls: 0.1924  loss_box_reg: 0.4334  loss_rpn_cls: 0.009605  loss_rpn_loc: 0.03184  time: 0.2646  data_time: 0.0017  lr: 0.001  max_mem: 3149M\n",
      "\u001b[32m[10/19 17:36:27 d2.utils.events]: \u001b[0m eta: 1:19:40  iter: 1879  total_loss: 0.6775  loss_cls: 0.1539  loss_box_reg: 0.4471  loss_rpn_cls: 0.007886  loss_rpn_loc: 0.03097  time: 0.2647  data_time: 0.0017  lr: 0.001  max_mem: 3149M\n",
      "\u001b[32m[10/19 17:36:33 d2.utils.events]: \u001b[0m eta: 1:19:30  iter: 1899  total_loss: 0.698  loss_cls: 0.1768  loss_box_reg: 0.4797  loss_rpn_cls: 0.008608  loss_rpn_loc: 0.06909  time: 0.2647  data_time: 0.0017  lr: 0.001  max_mem: 3149M\n",
      "\u001b[32m[10/19 17:36:38 d2.utils.events]: \u001b[0m eta: 1:19:29  iter: 1919  total_loss: 0.6684  loss_cls: 0.1731  loss_box_reg: 0.4206  loss_rpn_cls: 0.006515  loss_rpn_loc: 0.03469  time: 0.2648  data_time: 0.0017  lr: 0.001  max_mem: 3149M\n",
      "\u001b[32m[10/19 17:36:44 d2.utils.events]: \u001b[0m eta: 1:19:19  iter: 1939  total_loss: 0.6527  loss_cls: 0.1338  loss_box_reg: 0.4424  loss_rpn_cls: 0.00756  loss_rpn_loc: 0.04473  time: 0.2649  data_time: 0.0017  lr: 0.001  max_mem: 3149M\n",
      "\u001b[32m[10/19 17:36:49 d2.utils.events]: \u001b[0m eta: 1:19:15  iter: 1959  total_loss: 0.5816  loss_cls: 0.159  loss_box_reg: 0.3944  loss_rpn_cls: 0.00391  loss_rpn_loc: 0.02313  time: 0.2649  data_time: 0.0018  lr: 0.001  max_mem: 3149M\n",
      "\u001b[32m[10/19 17:36:55 d2.utils.events]: \u001b[0m eta: 1:19:16  iter: 1979  total_loss: 0.6885  loss_cls: 0.1925  loss_box_reg: 0.4728  loss_rpn_cls: 0.01028  loss_rpn_loc: 0.03997  time: 0.2650  data_time: 0.0016  lr: 0.001  max_mem: 3149M\n",
      "\u001b[32m[10/19 17:37:00 d2.utils.events]: \u001b[0m eta: 1:19:13  iter: 1999  total_loss: 0.6156  loss_cls: 0.1448  loss_box_reg: 0.4581  loss_rpn_cls: 0.006099  loss_rpn_loc: 0.02128  time: 0.2650  data_time: 0.0016  lr: 0.001  max_mem: 3149M\n",
      "\u001b[32m[10/19 17:37:06 d2.utils.events]: \u001b[0m eta: 1:19:11  iter: 2019  total_loss: 0.6911  loss_cls: 0.1656  loss_box_reg: 0.4542  loss_rpn_cls: 0.007968  loss_rpn_loc: 0.05403  time: 0.2652  data_time: 0.0017  lr: 0.001  max_mem: 3149M\n",
      "\u001b[32m[10/19 17:37:11 d2.utils.events]: \u001b[0m eta: 1:19:07  iter: 2039  total_loss: 0.6082  loss_cls: 0.1694  loss_box_reg: 0.3918  loss_rpn_cls: 0.005612  loss_rpn_loc: 0.02737  time: 0.2653  data_time: 0.0017  lr: 0.001  max_mem: 3149M\n",
      "\u001b[32m[10/19 17:37:17 d2.utils.events]: \u001b[0m eta: 1:19:02  iter: 2059  total_loss: 0.5954  loss_cls: 0.1555  loss_box_reg: 0.3919  loss_rpn_cls: 0.006751  loss_rpn_loc: 0.02236  time: 0.2654  data_time: 0.0018  lr: 0.001  max_mem: 3149M\n",
      "\u001b[32m[10/19 17:37:22 d2.utils.events]: \u001b[0m eta: 1:19:01  iter: 2079  total_loss: 0.5817  loss_cls: 0.1402  loss_box_reg: 0.3974  loss_rpn_cls: 0.01097  loss_rpn_loc: 0.0516  time: 0.2654  data_time: 0.0016  lr: 0.001  max_mem: 3149M\n",
      "\u001b[32m[10/19 17:37:27 d2.utils.events]: \u001b[0m eta: 1:18:58  iter: 2099  total_loss: 0.6046  loss_cls: 0.141  loss_box_reg: 0.3964  loss_rpn_cls: 0.006776  loss_rpn_loc: 0.03151  time: 0.2655  data_time: 0.0018  lr: 0.001  max_mem: 3149M\n",
      "\u001b[32m[10/19 17:37:33 d2.utils.events]: \u001b[0m eta: 1:18:46  iter: 2119  total_loss: 0.6989  loss_cls: 0.1586  loss_box_reg: 0.479  loss_rpn_cls: 0.005329  loss_rpn_loc: 0.03594  time: 0.2655  data_time: 0.0017  lr: 0.001  max_mem: 3149M\n",
      "\u001b[32m[10/19 17:37:38 d2.utils.events]: \u001b[0m eta: 1:18:41  iter: 2139  total_loss: 0.6375  loss_cls: 0.1426  loss_box_reg: 0.4337  loss_rpn_cls: 0.00717  loss_rpn_loc: 0.03899  time: 0.2656  data_time: 0.0017  lr: 0.001  max_mem: 3149M\n",
      "\u001b[32m[10/19 17:37:44 d2.utils.events]: \u001b[0m eta: 1:18:36  iter: 2159  total_loss: 0.6062  loss_cls: 0.1434  loss_box_reg: 0.4308  loss_rpn_cls: 0.005964  loss_rpn_loc: 0.02526  time: 0.2657  data_time: 0.0016  lr: 0.001  max_mem: 3149M\n",
      "\u001b[32m[10/19 17:37:49 d2.utils.events]: \u001b[0m eta: 1:18:30  iter: 2179  total_loss: 0.7281  loss_cls: 0.1958  loss_box_reg: 0.4391  loss_rpn_cls: 0.007775  loss_rpn_loc: 0.04218  time: 0.2657  data_time: 0.0017  lr: 0.001  max_mem: 3149M\n",
      "\u001b[32m[10/19 17:37:55 d2.utils.events]: \u001b[0m eta: 1:18:24  iter: 2199  total_loss: 0.5828  loss_cls: 0.1632  loss_box_reg: 0.4153  loss_rpn_cls: 0.007885  loss_rpn_loc: 0.02719  time: 0.2657  data_time: 0.0016  lr: 0.001  max_mem: 3149M\n",
      "\u001b[32m[10/19 17:38:00 d2.utils.events]: \u001b[0m eta: 1:18:18  iter: 2219  total_loss: 0.6328  loss_cls: 0.1602  loss_box_reg: 0.4297  loss_rpn_cls: 0.007686  loss_rpn_loc: 0.03595  time: 0.2657  data_time: 0.0018  lr: 0.001  max_mem: 3149M\n",
      "\u001b[32m[10/19 17:38:05 d2.utils.events]: \u001b[0m eta: 1:18:13  iter: 2239  total_loss: 0.6178  loss_cls: 0.1621  loss_box_reg: 0.4111  loss_rpn_cls: 0.006502  loss_rpn_loc: 0.03438  time: 0.2658  data_time: 0.0017  lr: 0.001  max_mem: 3149M\n",
      "\u001b[32m[10/19 17:38:11 d2.utils.events]: \u001b[0m eta: 1:18:06  iter: 2259  total_loss: 0.5549  loss_cls: 0.137  loss_box_reg: 0.3708  loss_rpn_cls: 0.006142  loss_rpn_loc: 0.04106  time: 0.2658  data_time: 0.0017  lr: 0.001  max_mem: 3149M\n",
      "\u001b[32m[10/19 17:38:16 d2.utils.events]: \u001b[0m eta: 1:18:02  iter: 2279  total_loss: 0.5777  loss_cls: 0.1098  loss_box_reg: 0.4044  loss_rpn_cls: 0.008325  loss_rpn_loc: 0.02963  time: 0.2660  data_time: 0.0017  lr: 0.001  max_mem: 3149M\n",
      "\u001b[32m[10/19 17:38:22 d2.utils.events]: \u001b[0m eta: 1:17:58  iter: 2299  total_loss: 0.5688  loss_cls: 0.1402  loss_box_reg: 0.3817  loss_rpn_cls: 0.004904  loss_rpn_loc: 0.03118  time: 0.2660  data_time: 0.0017  lr: 0.001  max_mem: 3149M\n",
      "\u001b[32m[10/19 17:38:27 d2.utils.events]: \u001b[0m eta: 1:18:01  iter: 2319  total_loss: 0.6882  loss_cls: 0.1787  loss_box_reg: 0.4204  loss_rpn_cls: 0.007454  loss_rpn_loc: 0.04396  time: 0.2661  data_time: 0.0017  lr: 0.001  max_mem: 3149M\n",
      "\u001b[32m[10/19 17:38:33 d2.utils.events]: \u001b[0m eta: 1:17:50  iter: 2339  total_loss: 0.6184  loss_cls: 0.1366  loss_box_reg: 0.4225  loss_rpn_cls: 0.006706  loss_rpn_loc: 0.03675  time: 0.2662  data_time: 0.0018  lr: 0.001  max_mem: 3149M\n",
      "\u001b[32m[10/19 17:38:38 d2.utils.events]: \u001b[0m eta: 1:17:47  iter: 2359  total_loss: 0.6275  loss_cls: 0.1398  loss_box_reg: 0.4119  loss_rpn_cls: 0.006427  loss_rpn_loc: 0.03075  time: 0.2662  data_time: 0.0017  lr: 0.001  max_mem: 3149M\n",
      "\u001b[32m[10/19 17:38:44 d2.utils.events]: \u001b[0m eta: 1:17:59  iter: 2379  total_loss: 0.6488  loss_cls: 0.1611  loss_box_reg: 0.3988  loss_rpn_cls: 0.006664  loss_rpn_loc: 0.04683  time: 0.2663  data_time: 0.0017  lr: 0.001  max_mem: 3149M\n",
      "\u001b[32m[10/19 17:38:49 d2.utils.events]: \u001b[0m eta: 1:18:07  iter: 2399  total_loss: 0.5785  loss_cls: 0.1338  loss_box_reg: 0.3871  loss_rpn_cls: 0.006706  loss_rpn_loc: 0.03783  time: 0.2663  data_time: 0.0018  lr: 0.001  max_mem: 3149M\n",
      "\u001b[32m[10/19 17:38:55 d2.utils.events]: \u001b[0m eta: 1:18:28  iter: 2419  total_loss: 0.6089  loss_cls: 0.1614  loss_box_reg: 0.421  loss_rpn_cls: 0.006558  loss_rpn_loc: 0.03205  time: 0.2664  data_time: 0.0017  lr: 0.001  max_mem: 3149M\n",
      "\u001b[32m[10/19 17:39:00 d2.utils.events]: \u001b[0m eta: 1:18:37  iter: 2439  total_loss: 0.6556  loss_cls: 0.1519  loss_box_reg: 0.4061  loss_rpn_cls: 0.007396  loss_rpn_loc: 0.03819  time: 0.2665  data_time: 0.0017  lr: 0.001  max_mem: 3149M\n",
      "\u001b[32m[10/19 17:39:06 d2.utils.events]: \u001b[0m eta: 1:18:52  iter: 2459  total_loss: 0.636  loss_cls: 0.1551  loss_box_reg: 0.4028  loss_rpn_cls: 0.006747  loss_rpn_loc: 0.0351  time: 0.2665  data_time: 0.0017  lr: 0.001  max_mem: 3149M\n",
      "\u001b[32m[10/19 17:39:11 d2.utils.events]: \u001b[0m eta: 1:19:03  iter: 2479  total_loss: 0.6092  loss_cls: 0.1555  loss_box_reg: 0.3731  loss_rpn_cls: 0.006955  loss_rpn_loc: 0.04142  time: 0.2666  data_time: 0.0016  lr: 0.001  max_mem: 3149M\n",
      "\u001b[32m[10/19 17:39:17 d2.utils.events]: \u001b[0m eta: 1:19:11  iter: 2499  total_loss: 0.617  loss_cls: 0.152  loss_box_reg: 0.4135  loss_rpn_cls: 0.008556  loss_rpn_loc: 0.03  time: 0.2666  data_time: 0.0017  lr: 0.001  max_mem: 3149M\n",
      "\u001b[32m[10/19 17:39:22 d2.utils.events]: \u001b[0m eta: 1:19:16  iter: 2519  total_loss: 0.6586  loss_cls: 0.1761  loss_box_reg: 0.4348  loss_rpn_cls: 0.007929  loss_rpn_loc: 0.02881  time: 0.2667  data_time: 0.0017  lr: 0.001  max_mem: 3149M\n",
      "\u001b[32m[10/19 17:39:28 d2.utils.events]: \u001b[0m eta: 1:19:35  iter: 2539  total_loss: 0.6774  loss_cls: 0.1772  loss_box_reg: 0.4423  loss_rpn_cls: 0.005426  loss_rpn_loc: 0.04162  time: 0.2667  data_time: 0.0017  lr: 0.001  max_mem: 3149M\n",
      "\u001b[32m[10/19 17:39:33 d2.utils.events]: \u001b[0m eta: 1:20:05  iter: 2559  total_loss: 0.5688  loss_cls: 0.1346  loss_box_reg: 0.3881  loss_rpn_cls: 0.005412  loss_rpn_loc: 0.02809  time: 0.2668  data_time: 0.0018  lr: 0.001  max_mem: 3149M\n",
      "\u001b[32m[10/19 17:39:39 d2.utils.events]: \u001b[0m eta: 1:20:10  iter: 2579  total_loss: 0.606  loss_cls: 0.1279  loss_box_reg: 0.4166  loss_rpn_cls: 0.005318  loss_rpn_loc: 0.03191  time: 0.2670  data_time: 0.0018  lr: 0.001  max_mem: 3149M\n",
      "\u001b[32m[10/19 17:39:45 d2.utils.events]: \u001b[0m eta: 1:20:10  iter: 2599  total_loss: 0.6146  loss_cls: 0.157  loss_box_reg: 0.4067  loss_rpn_cls: 0.005366  loss_rpn_loc: 0.02886  time: 0.2671  data_time: 0.0017  lr: 0.001  max_mem: 3149M\n",
      "\u001b[32m[10/19 17:39:50 d2.utils.events]: \u001b[0m eta: 1:20:05  iter: 2619  total_loss: 0.5715  loss_cls: 0.1397  loss_box_reg: 0.3766  loss_rpn_cls: 0.0103  loss_rpn_loc: 0.03036  time: 0.2672  data_time: 0.0018  lr: 0.001  max_mem: 3149M\n",
      "\u001b[32m[10/19 17:39:56 d2.utils.events]: \u001b[0m eta: 1:20:00  iter: 2639  total_loss: 0.5623  loss_cls: 0.1503  loss_box_reg: 0.4025  loss_rpn_cls: 0.006633  loss_rpn_loc: 0.02807  time: 0.2675  data_time: 0.0188  lr: 0.001  max_mem: 3149M\n",
      "\u001b[32m[10/19 17:40:02 d2.utils.events]: \u001b[0m eta: 1:19:55  iter: 2659  total_loss: 0.6591  loss_cls: 0.1511  loss_box_reg: 0.4475  loss_rpn_cls: 0.00998  loss_rpn_loc: 0.04284  time: 0.2676  data_time: 0.0019  lr: 0.001  max_mem: 3149M\n",
      "\u001b[32m[10/19 17:40:07 d2.utils.events]: \u001b[0m eta: 1:19:49  iter: 2679  total_loss: 0.7171  loss_cls: 0.1683  loss_box_reg: 0.4621  loss_rpn_cls: 0.005907  loss_rpn_loc: 0.04011  time: 0.2676  data_time: 0.0018  lr: 0.001  max_mem: 3149M\n",
      "\u001b[32m[10/19 17:40:13 d2.utils.events]: \u001b[0m eta: 1:19:44  iter: 2699  total_loss: 0.6393  loss_cls: 0.1538  loss_box_reg: 0.417  loss_rpn_cls: 0.00914  loss_rpn_loc: 0.04322  time: 0.2677  data_time: 0.0018  lr: 0.001  max_mem: 3149M\n",
      "\u001b[32m[10/19 17:40:19 d2.utils.events]: \u001b[0m eta: 1:19:39  iter: 2719  total_loss: 0.5854  loss_cls: 0.1456  loss_box_reg: 0.3745  loss_rpn_cls: 0.005474  loss_rpn_loc: 0.02421  time: 0.2678  data_time: 0.0018  lr: 0.001  max_mem: 3149M\n",
      "\u001b[32m[10/19 17:40:24 d2.utils.events]: \u001b[0m eta: 1:19:33  iter: 2739  total_loss: 0.6438  loss_cls: 0.1685  loss_box_reg: 0.4427  loss_rpn_cls: 0.0103  loss_rpn_loc: 0.04057  time: 0.2678  data_time: 0.0016  lr: 0.001  max_mem: 3149M\n",
      "\u001b[32m[10/19 17:40:29 d2.utils.events]: \u001b[0m eta: 1:19:27  iter: 2759  total_loss: 0.6972  loss_cls: 0.1804  loss_box_reg: 0.4544  loss_rpn_cls: 0.008178  loss_rpn_loc: 0.03401  time: 0.2678  data_time: 0.0017  lr: 0.001  max_mem: 3149M\n",
      "\u001b[32m[10/19 17:40:35 d2.utils.events]: \u001b[0m eta: 1:19:22  iter: 2779  total_loss: 0.6117  loss_cls: 0.1508  loss_box_reg: 0.4113  loss_rpn_cls: 0.009857  loss_rpn_loc: 0.04836  time: 0.2679  data_time: 0.0016  lr: 0.001  max_mem: 3149M\n",
      "\u001b[32m[10/19 17:40:41 d2.utils.events]: \u001b[0m eta: 1:19:18  iter: 2799  total_loss: 0.6002  loss_cls: 0.1359  loss_box_reg: 0.4067  loss_rpn_cls: 0.00833  loss_rpn_loc: 0.03633  time: 0.2680  data_time: 0.0017  lr: 0.001  max_mem: 3149M\n",
      "\u001b[32m[10/19 17:40:46 d2.utils.events]: \u001b[0m eta: 1:19:13  iter: 2819  total_loss: 0.5927  loss_cls: 0.1621  loss_box_reg: 0.4013  loss_rpn_cls: 0.007067  loss_rpn_loc: 0.02056  time: 0.2680  data_time: 0.0017  lr: 0.001  max_mem: 3149M\n",
      "\u001b[32m[10/19 17:40:52 d2.utils.events]: \u001b[0m eta: 1:19:06  iter: 2839  total_loss: 0.6431  loss_cls: 0.1712  loss_box_reg: 0.4191  loss_rpn_cls: 0.007182  loss_rpn_loc: 0.03233  time: 0.2681  data_time: 0.0016  lr: 0.001  max_mem: 3149M\n",
      "\u001b[32m[10/19 17:40:57 d2.utils.events]: \u001b[0m eta: 1:18:59  iter: 2859  total_loss: 0.5508  loss_cls: 0.1125  loss_box_reg: 0.3732  loss_rpn_cls: 0.003989  loss_rpn_loc: 0.02436  time: 0.2682  data_time: 0.0017  lr: 0.001  max_mem: 3149M\n",
      "\u001b[32m[10/19 17:41:02 d2.utils.events]: \u001b[0m eta: 1:18:53  iter: 2879  total_loss: 0.6387  loss_cls: 0.1404  loss_box_reg: 0.4111  loss_rpn_cls: 0.008262  loss_rpn_loc: 0.03129  time: 0.2682  data_time: 0.0017  lr: 0.001  max_mem: 3149M\n",
      "\u001b[32m[10/19 17:41:08 d2.utils.events]: \u001b[0m eta: 1:18:46  iter: 2899  total_loss: 0.6425  loss_cls: 0.1475  loss_box_reg: 0.4001  loss_rpn_cls: 0.006999  loss_rpn_loc: 0.03709  time: 0.2682  data_time: 0.0016  lr: 0.001  max_mem: 3149M\n",
      "\u001b[32m[10/19 17:41:13 d2.utils.events]: \u001b[0m eta: 1:18:40  iter: 2919  total_loss: 0.5256  loss_cls: 0.1313  loss_box_reg: 0.3709  loss_rpn_cls: 0.008748  loss_rpn_loc: 0.02788  time: 0.2682  data_time: 0.0016  lr: 0.001  max_mem: 3149M\n",
      "\u001b[32m[10/19 17:41:19 d2.utils.events]: \u001b[0m eta: 1:18:33  iter: 2939  total_loss: 0.6211  loss_cls: 0.1633  loss_box_reg: 0.3864  loss_rpn_cls: 0.009449  loss_rpn_loc: 0.04087  time: 0.2682  data_time: 0.0016  lr: 0.001  max_mem: 3149M\n",
      "\u001b[32m[10/19 17:41:24 d2.utils.events]: \u001b[0m eta: 1:18:27  iter: 2959  total_loss: 0.5886  loss_cls: 0.1707  loss_box_reg: 0.3584  loss_rpn_cls: 0.006943  loss_rpn_loc: 0.0427  time: 0.2682  data_time: 0.0017  lr: 0.001  max_mem: 3149M\n",
      "\u001b[32m[10/19 17:41:29 d2.utils.events]: \u001b[0m eta: 1:18:22  iter: 2979  total_loss: 0.6044  loss_cls: 0.1343  loss_box_reg: 0.3899  loss_rpn_cls: 0.007696  loss_rpn_loc: 0.0426  time: 0.2682  data_time: 0.0017  lr: 0.001  max_mem: 3149M\n",
      "\u001b[32m[10/19 17:41:35 d2.utils.events]: \u001b[0m eta: 1:18:17  iter: 2999  total_loss: 0.5582  loss_cls: 0.1164  loss_box_reg: 0.3752  loss_rpn_cls: 0.006049  loss_rpn_loc: 0.02343  time: 0.2682  data_time: 0.0017  lr: 0.001  max_mem: 3149M\n",
      "\u001b[32m[10/19 17:41:40 d2.utils.events]: \u001b[0m eta: 1:18:10  iter: 3019  total_loss: 0.5667  loss_cls: 0.1417  loss_box_reg: 0.3919  loss_rpn_cls: 0.007071  loss_rpn_loc: 0.02749  time: 0.2683  data_time: 0.0017  lr: 0.001  max_mem: 3149M\n",
      "\u001b[32m[10/19 17:41:46 d2.utils.events]: \u001b[0m eta: 1:18:05  iter: 3039  total_loss: 0.5345  loss_cls: 0.1382  loss_box_reg: 0.3616  loss_rpn_cls: 0.006697  loss_rpn_loc: 0.02709  time: 0.2683  data_time: 0.0017  lr: 0.001  max_mem: 3149M\n",
      "\u001b[32m[10/19 17:41:51 d2.utils.events]: \u001b[0m eta: 1:17:59  iter: 3059  total_loss: 0.6002  loss_cls: 0.1577  loss_box_reg: 0.4074  loss_rpn_cls: 0.008162  loss_rpn_loc: 0.02762  time: 0.2684  data_time: 0.0017  lr: 0.001  max_mem: 3149M\n",
      "\u001b[32m[10/19 17:41:57 d2.utils.events]: \u001b[0m eta: 1:17:53  iter: 3079  total_loss: 0.5585  loss_cls: 0.1428  loss_box_reg: 0.3975  loss_rpn_cls: 0.004597  loss_rpn_loc: 0.02655  time: 0.2684  data_time: 0.0017  lr: 0.001  max_mem: 3149M\n",
      "\u001b[32m[10/19 17:42:02 d2.utils.events]: \u001b[0m eta: 1:17:46  iter: 3099  total_loss: 0.5538  loss_cls: 0.143  loss_box_reg: 0.3703  loss_rpn_cls: 0.006382  loss_rpn_loc: 0.0383  time: 0.2684  data_time: 0.0017  lr: 0.001  max_mem: 3149M\n",
      "\u001b[32m[10/19 17:42:08 d2.utils.events]: \u001b[0m eta: 1:17:40  iter: 3119  total_loss: 0.5565  loss_cls: 0.1225  loss_box_reg: 0.3829  loss_rpn_cls: 0.004083  loss_rpn_loc: 0.02736  time: 0.2684  data_time: 0.0016  lr: 0.001  max_mem: 3149M\n",
      "\u001b[32m[10/19 17:42:13 d2.utils.events]: \u001b[0m eta: 1:17:35  iter: 3139  total_loss: 0.6505  loss_cls: 0.1551  loss_box_reg: 0.4422  loss_rpn_cls: 0.007934  loss_rpn_loc: 0.05087  time: 0.2685  data_time: 0.0017  lr: 0.001  max_mem: 3149M\n",
      "\u001b[32m[10/19 17:42:19 d2.utils.events]: \u001b[0m eta: 1:17:29  iter: 3159  total_loss: 0.6132  loss_cls: 0.137  loss_box_reg: 0.401  loss_rpn_cls: 0.005969  loss_rpn_loc: 0.03278  time: 0.2685  data_time: 0.0018  lr: 0.001  max_mem: 3149M\n",
      "\u001b[32m[10/19 17:42:24 d2.utils.events]: \u001b[0m eta: 1:17:22  iter: 3179  total_loss: 0.5885  loss_cls: 0.1246  loss_box_reg: 0.3967  loss_rpn_cls: 0.005851  loss_rpn_loc: 0.03898  time: 0.2685  data_time: 0.0016  lr: 0.001  max_mem: 3149M\n",
      "\u001b[32m[10/19 17:42:30 d2.utils.events]: \u001b[0m eta: 1:17:20  iter: 3199  total_loss: 0.6139  loss_cls: 0.1437  loss_box_reg: 0.3654  loss_rpn_cls: 0.00711  loss_rpn_loc: 0.03927  time: 0.2686  data_time: 0.0018  lr: 0.001  max_mem: 3149M\n",
      "\u001b[32m[10/19 17:42:35 d2.utils.events]: \u001b[0m eta: 1:17:13  iter: 3219  total_loss: 0.5383  loss_cls: 0.141  loss_box_reg: 0.3587  loss_rpn_cls: 0.004174  loss_rpn_loc: 0.0213  time: 0.2686  data_time: 0.0017  lr: 0.001  max_mem: 3149M\n",
      "\u001b[32m[10/19 17:42:41 d2.utils.events]: \u001b[0m eta: 1:17:08  iter: 3239  total_loss: 0.536  loss_cls: 0.1134  loss_box_reg: 0.3621  loss_rpn_cls: 0.006131  loss_rpn_loc: 0.05188  time: 0.2686  data_time: 0.0017  lr: 0.001  max_mem: 3149M\n",
      "\u001b[32m[10/19 17:42:46 d2.utils.events]: \u001b[0m eta: 1:17:03  iter: 3259  total_loss: 0.5738  loss_cls: 0.1273  loss_box_reg: 0.3917  loss_rpn_cls: 0.008478  loss_rpn_loc: 0.03977  time: 0.2687  data_time: 0.0017  lr: 0.001  max_mem: 3149M\n",
      "\u001b[32m[10/19 17:42:52 d2.utils.events]: \u001b[0m eta: 1:16:55  iter: 3279  total_loss: 0.6192  loss_cls: 0.1443  loss_box_reg: 0.3732  loss_rpn_cls: 0.00705  loss_rpn_loc: 0.02413  time: 0.2687  data_time: 0.0017  lr: 0.001  max_mem: 3149M\n",
      "\u001b[32m[10/19 17:42:57 d2.utils.events]: \u001b[0m eta: 1:16:47  iter: 3299  total_loss: 0.5438  loss_cls: 0.1349  loss_box_reg: 0.362  loss_rpn_cls: 0.006535  loss_rpn_loc: 0.03143  time: 0.2688  data_time: 0.0017  lr: 0.001  max_mem: 3149M\n",
      "\u001b[32m[10/19 17:43:03 d2.utils.events]: \u001b[0m eta: 1:16:43  iter: 3319  total_loss: 0.5251  loss_cls: 0.1253  loss_box_reg: 0.3372  loss_rpn_cls: 0.007819  loss_rpn_loc: 0.03938  time: 0.2688  data_time: 0.0017  lr: 0.001  max_mem: 3149M\n",
      "\u001b[32m[10/19 17:43:08 d2.utils.events]: \u001b[0m eta: 1:16:37  iter: 3339  total_loss: 0.5587  loss_cls: 0.1622  loss_box_reg: 0.3753  loss_rpn_cls: 0.005659  loss_rpn_loc: 0.02893  time: 0.2688  data_time: 0.0017  lr: 0.001  max_mem: 3149M\n",
      "\u001b[32m[10/19 17:43:14 d2.utils.events]: \u001b[0m eta: 1:16:32  iter: 3359  total_loss: 0.5038  loss_cls: 0.1158  loss_box_reg: 0.3381  loss_rpn_cls: 0.00594  loss_rpn_loc: 0.02989  time: 0.2689  data_time: 0.0017  lr: 0.001  max_mem: 3149M\n",
      "\u001b[32m[10/19 17:43:19 d2.utils.events]: \u001b[0m eta: 1:16:26  iter: 3379  total_loss: 0.5694  loss_cls: 0.1386  loss_box_reg: 0.3895  loss_rpn_cls: 0.006125  loss_rpn_loc: 0.02517  time: 0.2689  data_time: 0.0017  lr: 0.001  max_mem: 3149M\n",
      "\u001b[32m[10/19 17:43:25 d2.utils.events]: \u001b[0m eta: 1:16:21  iter: 3399  total_loss: 0.591  loss_cls: 0.1648  loss_box_reg: 0.3957  loss_rpn_cls: 0.005247  loss_rpn_loc: 0.02742  time: 0.2689  data_time: 0.0017  lr: 0.001  max_mem: 3149M\n",
      "\u001b[32m[10/19 17:43:30 d2.utils.events]: \u001b[0m eta: 1:16:15  iter: 3419  total_loss: 0.537  loss_cls: 0.1274  loss_box_reg: 0.3825  loss_rpn_cls: 0.005741  loss_rpn_loc: 0.02462  time: 0.2689  data_time: 0.0017  lr: 0.001  max_mem: 3149M\n",
      "\u001b[32m[10/19 17:43:36 d2.utils.events]: \u001b[0m eta: 1:16:08  iter: 3439  total_loss: 0.6348  loss_cls: 0.1403  loss_box_reg: 0.4022  loss_rpn_cls: 0.006698  loss_rpn_loc: 0.02799  time: 0.2690  data_time: 0.0017  lr: 0.001  max_mem: 3149M\n",
      "\u001b[32m[10/19 17:43:41 d2.utils.events]: \u001b[0m eta: 1:16:03  iter: 3459  total_loss: 0.5434  loss_cls: 0.1347  loss_box_reg: 0.3696  loss_rpn_cls: 0.007172  loss_rpn_loc: 0.03058  time: 0.2690  data_time: 0.0017  lr: 0.001  max_mem: 3149M\n",
      "\u001b[32m[10/19 17:43:46 d2.utils.events]: \u001b[0m eta: 1:15:56  iter: 3479  total_loss: 0.5488  loss_cls: 0.1384  loss_box_reg: 0.3542  loss_rpn_cls: 0.005638  loss_rpn_loc: 0.03279  time: 0.2690  data_time: 0.0017  lr: 0.001  max_mem: 3149M\n",
      "\u001b[32m[10/19 17:43:52 d2.utils.events]: \u001b[0m eta: 1:15:50  iter: 3499  total_loss: 0.5843  loss_cls: 0.1414  loss_box_reg: 0.3677  loss_rpn_cls: 0.007899  loss_rpn_loc: 0.03861  time: 0.2690  data_time: 0.0017  lr: 0.001  max_mem: 3149M\n",
      "\u001b[32m[10/19 17:43:57 d2.utils.events]: \u001b[0m eta: 1:15:44  iter: 3519  total_loss: 0.549  loss_cls: 0.116  loss_box_reg: 0.3698  loss_rpn_cls: 0.005602  loss_rpn_loc: 0.02986  time: 0.2690  data_time: 0.0017  lr: 0.001  max_mem: 3149M\n",
      "\u001b[32m[10/19 17:44:03 d2.utils.events]: \u001b[0m eta: 1:15:39  iter: 3539  total_loss: 0.5276  loss_cls: 0.1316  loss_box_reg: 0.3414  loss_rpn_cls: 0.004625  loss_rpn_loc: 0.02472  time: 0.2690  data_time: 0.0017  lr: 0.001  max_mem: 3149M\n",
      "\u001b[32m[10/19 17:44:08 d2.utils.events]: \u001b[0m eta: 1:15:33  iter: 3559  total_loss: 0.5662  loss_cls: 0.1153  loss_box_reg: 0.4084  loss_rpn_cls: 0.003533  loss_rpn_loc: 0.02761  time: 0.2690  data_time: 0.0017  lr: 0.001  max_mem: 3149M\n",
      "\u001b[32m[10/19 17:44:14 d2.utils.events]: \u001b[0m eta: 1:15:26  iter: 3579  total_loss: 0.5843  loss_cls: 0.1337  loss_box_reg: 0.3659  loss_rpn_cls: 0.006653  loss_rpn_loc: 0.0365  time: 0.2691  data_time: 0.0016  lr: 0.001  max_mem: 3149M\n",
      "\u001b[32m[10/19 17:44:19 d2.utils.events]: \u001b[0m eta: 1:15:20  iter: 3599  total_loss: 0.5566  loss_cls: 0.1309  loss_box_reg: 0.3675  loss_rpn_cls: 0.005894  loss_rpn_loc: 0.03152  time: 0.2691  data_time: 0.0017  lr: 0.001  max_mem: 3149M\n",
      "\u001b[32m[10/19 17:44:25 d2.utils.events]: \u001b[0m eta: 1:15:15  iter: 3619  total_loss: 0.5313  loss_cls: 0.1148  loss_box_reg: 0.3619  loss_rpn_cls: 0.005096  loss_rpn_loc: 0.01853  time: 0.2691  data_time: 0.0017  lr: 0.001  max_mem: 3149M\n",
      "\u001b[32m[10/19 17:44:30 d2.utils.events]: \u001b[0m eta: 1:15:09  iter: 3639  total_loss: 0.5399  loss_cls: 0.1481  loss_box_reg: 0.3639  loss_rpn_cls: 0.005234  loss_rpn_loc: 0.03083  time: 0.2692  data_time: 0.0018  lr: 0.001  max_mem: 3149M\n",
      "\u001b[32m[10/19 17:44:36 d2.utils.events]: \u001b[0m eta: 1:15:03  iter: 3659  total_loss: 0.5323  loss_cls: 0.1207  loss_box_reg: 0.364  loss_rpn_cls: 0.007866  loss_rpn_loc: 0.03615  time: 0.2692  data_time: 0.0018  lr: 0.001  max_mem: 3149M\n",
      "\u001b[32m[10/19 17:44:41 d2.utils.events]: \u001b[0m eta: 1:14:58  iter: 3679  total_loss: 0.5646  loss_cls: 0.1228  loss_box_reg: 0.3856  loss_rpn_cls: 0.007527  loss_rpn_loc: 0.05974  time: 0.2693  data_time: 0.0017  lr: 0.001  max_mem: 3149M\n",
      "\u001b[32m[10/19 17:44:47 d2.utils.events]: \u001b[0m eta: 1:14:52  iter: 3699  total_loss: 0.5963  loss_cls: 0.1245  loss_box_reg: 0.4165  loss_rpn_cls: 0.007509  loss_rpn_loc: 0.02969  time: 0.2693  data_time: 0.0018  lr: 0.001  max_mem: 3149M\n",
      "\u001b[32m[10/19 17:44:53 d2.utils.events]: \u001b[0m eta: 1:14:47  iter: 3719  total_loss: 0.5645  loss_cls: 0.1497  loss_box_reg: 0.3678  loss_rpn_cls: 0.007178  loss_rpn_loc: 0.03285  time: 0.2694  data_time: 0.0018  lr: 0.001  max_mem: 3149M\n",
      "\u001b[32m[10/19 17:44:58 d2.utils.events]: \u001b[0m eta: 1:14:42  iter: 3739  total_loss: 0.5467  loss_cls: 0.1544  loss_box_reg: 0.3746  loss_rpn_cls: 0.008943  loss_rpn_loc: 0.0327  time: 0.2694  data_time: 0.0018  lr: 0.001  max_mem: 3149M\n",
      "\u001b[32m[10/19 17:45:04 d2.utils.events]: \u001b[0m eta: 1:14:36  iter: 3759  total_loss: 0.5919  loss_cls: 0.1229  loss_box_reg: 0.3743  loss_rpn_cls: 0.007124  loss_rpn_loc: 0.03872  time: 0.2695  data_time: 0.0019  lr: 0.001  max_mem: 3149M\n",
      "\u001b[32m[10/19 17:45:09 d2.utils.events]: \u001b[0m eta: 1:14:31  iter: 3779  total_loss: 0.576  loss_cls: 0.1372  loss_box_reg: 0.3526  loss_rpn_cls: 0.006099  loss_rpn_loc: 0.03195  time: 0.2695  data_time: 0.0018  lr: 0.001  max_mem: 3149M\n",
      "\u001b[32m[10/19 17:45:15 d2.utils.events]: \u001b[0m eta: 1:14:23  iter: 3799  total_loss: 0.619  loss_cls: 0.161  loss_box_reg: 0.3985  loss_rpn_cls: 0.006061  loss_rpn_loc: 0.0405  time: 0.2695  data_time: 0.0018  lr: 0.001  max_mem: 3149M\n",
      "\u001b[32m[10/19 17:45:20 d2.utils.events]: \u001b[0m eta: 1:14:17  iter: 3819  total_loss: 0.5472  loss_cls: 0.1285  loss_box_reg: 0.3621  loss_rpn_cls: 0.007652  loss_rpn_loc: 0.03068  time: 0.2695  data_time: 0.0018  lr: 0.001  max_mem: 3149M\n",
      "\u001b[32m[10/19 17:45:26 d2.utils.events]: \u001b[0m eta: 1:14:12  iter: 3839  total_loss: 0.5058  loss_cls: 0.1226  loss_box_reg: 0.3652  loss_rpn_cls: 0.003773  loss_rpn_loc: 0.01564  time: 0.2696  data_time: 0.0019  lr: 0.001  max_mem: 3149M\n",
      "\u001b[32m[10/19 17:45:31 d2.utils.events]: \u001b[0m eta: 1:14:06  iter: 3859  total_loss: 0.552  loss_cls: 0.137  loss_box_reg: 0.3811  loss_rpn_cls: 0.005678  loss_rpn_loc: 0.03281  time: 0.2696  data_time: 0.0016  lr: 0.001  max_mem: 3149M\n",
      "\u001b[32m[10/19 17:45:37 d2.utils.events]: \u001b[0m eta: 1:14:00  iter: 3879  total_loss: 0.6164  loss_cls: 0.1389  loss_box_reg: 0.414  loss_rpn_cls: 0.004995  loss_rpn_loc: 0.04874  time: 0.2696  data_time: 0.0017  lr: 0.001  max_mem: 3149M\n",
      "\u001b[32m[10/19 17:45:42 d2.utils.events]: \u001b[0m eta: 1:13:55  iter: 3899  total_loss: 0.5325  loss_cls: 0.129  loss_box_reg: 0.3773  loss_rpn_cls: 0.005012  loss_rpn_loc: 0.02364  time: 0.2697  data_time: 0.0017  lr: 0.001  max_mem: 3149M\n",
      "\u001b[32m[10/19 17:45:48 d2.utils.events]: \u001b[0m eta: 1:13:50  iter: 3919  total_loss: 0.5523  loss_cls: 0.1523  loss_box_reg: 0.366  loss_rpn_cls: 0.003864  loss_rpn_loc: 0.02686  time: 0.2697  data_time: 0.0018  lr: 0.001  max_mem: 3149M\n",
      "\u001b[32m[10/19 17:45:53 d2.utils.events]: \u001b[0m eta: 1:13:46  iter: 3939  total_loss: 0.496  loss_cls: 0.1012  loss_box_reg: 0.3606  loss_rpn_cls: 0.002949  loss_rpn_loc: 0.02922  time: 0.2698  data_time: 0.0018  lr: 0.001  max_mem: 3149M\n",
      "\u001b[32m[10/19 17:45:59 d2.utils.events]: \u001b[0m eta: 1:13:41  iter: 3959  total_loss: 0.5529  loss_cls: 0.1137  loss_box_reg: 0.4005  loss_rpn_cls: 0.006726  loss_rpn_loc: 0.02861  time: 0.2698  data_time: 0.0017  lr: 0.001  max_mem: 3149M\n",
      "\u001b[32m[10/19 17:46:04 d2.utils.events]: \u001b[0m eta: 1:13:35  iter: 3979  total_loss: 0.5644  loss_cls: 0.1178  loss_box_reg: 0.3608  loss_rpn_cls: 0.007697  loss_rpn_loc: 0.03455  time: 0.2698  data_time: 0.0017  lr: 0.001  max_mem: 3149M\n",
      "\u001b[32m[10/19 17:46:10 d2.utils.events]: \u001b[0m eta: 1:13:29  iter: 3999  total_loss: 0.5916  loss_cls: 0.1492  loss_box_reg: 0.3744  loss_rpn_cls: 0.005638  loss_rpn_loc: 0.02975  time: 0.2699  data_time: 0.0018  lr: 0.001  max_mem: 3149M\n",
      "\u001b[32m[10/19 17:46:15 d2.utils.events]: \u001b[0m eta: 1:13:23  iter: 4019  total_loss: 0.4901  loss_cls: 0.1099  loss_box_reg: 0.3399  loss_rpn_cls: 0.004837  loss_rpn_loc: 0.02445  time: 0.2699  data_time: 0.0017  lr: 0.001  max_mem: 3149M\n",
      "\u001b[32m[10/19 17:46:21 d2.utils.events]: \u001b[0m eta: 1:13:16  iter: 4039  total_loss: 0.5834  loss_cls: 0.1294  loss_box_reg: 0.4203  loss_rpn_cls: 0.004822  loss_rpn_loc: 0.0309  time: 0.2699  data_time: 0.0018  lr: 0.001  max_mem: 3149M\n",
      "\u001b[32m[10/19 17:46:27 d2.utils.events]: \u001b[0m eta: 1:13:11  iter: 4059  total_loss: 0.6162  loss_cls: 0.1166  loss_box_reg: 0.4141  loss_rpn_cls: 0.005811  loss_rpn_loc: 0.04001  time: 0.2699  data_time: 0.0018  lr: 0.001  max_mem: 3149M\n",
      "\u001b[32m[10/19 17:46:32 d2.utils.events]: \u001b[0m eta: 1:13:05  iter: 4079  total_loss: 0.611  loss_cls: 0.1313  loss_box_reg: 0.4002  loss_rpn_cls: 0.006657  loss_rpn_loc: 0.03003  time: 0.2700  data_time: 0.0018  lr: 0.001  max_mem: 3149M\n",
      "\u001b[32m[10/19 17:46:38 d2.utils.events]: \u001b[0m eta: 1:13:00  iter: 4099  total_loss: 0.5573  loss_cls: 0.1375  loss_box_reg: 0.3837  loss_rpn_cls: 0.005007  loss_rpn_loc: 0.02575  time: 0.2700  data_time: 0.0018  lr: 0.001  max_mem: 3149M\n",
      "\u001b[32m[10/19 17:46:43 d2.utils.events]: \u001b[0m eta: 1:12:56  iter: 4119  total_loss: 0.5413  loss_cls: 0.1237  loss_box_reg: 0.3678  loss_rpn_cls: 0.005876  loss_rpn_loc: 0.05147  time: 0.2701  data_time: 0.0017  lr: 0.001  max_mem: 3149M\n",
      "\u001b[32m[10/19 17:46:49 d2.utils.events]: \u001b[0m eta: 1:12:51  iter: 4139  total_loss: 0.5355  loss_cls: 0.1259  loss_box_reg: 0.3535  loss_rpn_cls: 0.007065  loss_rpn_loc: 0.03999  time: 0.2701  data_time: 0.0018  lr: 0.001  max_mem: 3149M\n",
      "\u001b[32m[10/19 17:46:54 d2.utils.events]: \u001b[0m eta: 1:12:44  iter: 4159  total_loss: 0.5409  loss_cls: 0.112  loss_box_reg: 0.3656  loss_rpn_cls: 0.006094  loss_rpn_loc: 0.02638  time: 0.2701  data_time: 0.0018  lr: 0.001  max_mem: 3149M\n",
      "\u001b[32m[10/19 17:47:00 d2.utils.events]: \u001b[0m eta: 1:12:39  iter: 4179  total_loss: 0.4964  loss_cls: 0.1106  loss_box_reg: 0.3745  loss_rpn_cls: 0.005127  loss_rpn_loc: 0.02553  time: 0.2701  data_time: 0.0018  lr: 0.001  max_mem: 3149M\n",
      "\u001b[32m[10/19 17:47:05 d2.utils.events]: \u001b[0m eta: 1:12:33  iter: 4199  total_loss: 0.5275  loss_cls: 0.09205  loss_box_reg: 0.3599  loss_rpn_cls: 0.00598  loss_rpn_loc: 0.03654  time: 0.2702  data_time: 0.0018  lr: 0.001  max_mem: 3149M\n",
      "\u001b[32m[10/19 17:47:11 d2.utils.events]: \u001b[0m eta: 1:12:29  iter: 4219  total_loss: 0.5747  loss_cls: 0.1218  loss_box_reg: 0.3721  loss_rpn_cls: 0.005289  loss_rpn_loc: 0.03564  time: 0.2702  data_time: 0.0018  lr: 0.001  max_mem: 3149M\n",
      "\u001b[32m[10/19 17:47:16 d2.utils.events]: \u001b[0m eta: 1:12:22  iter: 4239  total_loss: 0.5225  loss_cls: 0.09682  loss_box_reg: 0.3514  loss_rpn_cls: 0.005687  loss_rpn_loc: 0.01852  time: 0.2702  data_time: 0.0017  lr: 0.001  max_mem: 3149M\n",
      "\u001b[32m[10/19 17:47:22 d2.utils.events]: \u001b[0m eta: 1:12:15  iter: 4259  total_loss: 0.5439  loss_cls: 0.1473  loss_box_reg: 0.3663  loss_rpn_cls: 0.003843  loss_rpn_loc: 0.02588  time: 0.2703  data_time: 0.0017  lr: 0.001  max_mem: 3149M\n",
      "\u001b[32m[10/19 17:47:27 d2.utils.events]: \u001b[0m eta: 1:12:10  iter: 4279  total_loss: 0.4802  loss_cls: 0.1237  loss_box_reg: 0.33  loss_rpn_cls: 0.003124  loss_rpn_loc: 0.02316  time: 0.2703  data_time: 0.0017  lr: 0.001  max_mem: 3149M\n",
      "\u001b[32m[10/19 17:47:33 d2.utils.events]: \u001b[0m eta: 1:12:04  iter: 4299  total_loss: 0.5361  loss_cls: 0.1332  loss_box_reg: 0.3567  loss_rpn_cls: 0.005008  loss_rpn_loc: 0.02615  time: 0.2703  data_time: 0.0018  lr: 0.001  max_mem: 3149M\n",
      "\u001b[32m[10/19 17:47:38 d2.utils.events]: \u001b[0m eta: 1:11:57  iter: 4319  total_loss: 0.5513  loss_cls: 0.1089  loss_box_reg: 0.3659  loss_rpn_cls: 0.006812  loss_rpn_loc: 0.05034  time: 0.2703  data_time: 0.0018  lr: 0.001  max_mem: 3149M\n",
      "\u001b[32m[10/19 17:47:44 d2.utils.events]: \u001b[0m eta: 1:11:51  iter: 4339  total_loss: 0.5326  loss_cls: 0.1194  loss_box_reg: 0.3689  loss_rpn_cls: 0.004166  loss_rpn_loc: 0.0348  time: 0.2704  data_time: 0.0018  lr: 0.001  max_mem: 3149M\n",
      "\u001b[32m[10/19 17:47:50 d2.utils.events]: \u001b[0m eta: 1:11:48  iter: 4359  total_loss: 0.6005  loss_cls: 0.1499  loss_box_reg: 0.3875  loss_rpn_cls: 0.00498  loss_rpn_loc: 0.03651  time: 0.2705  data_time: 0.0018  lr: 0.001  max_mem: 3149M\n",
      "\u001b[32m[10/19 17:47:55 d2.utils.events]: \u001b[0m eta: 1:11:41  iter: 4379  total_loss: 0.5181  loss_cls: 0.1362  loss_box_reg: 0.3173  loss_rpn_cls: 0.005273  loss_rpn_loc: 0.03912  time: 0.2705  data_time: 0.0017  lr: 0.001  max_mem: 3149M\n",
      "\u001b[32m[10/19 17:48:01 d2.utils.events]: \u001b[0m eta: 1:11:38  iter: 4399  total_loss: 0.5124  loss_cls: 0.09314  loss_box_reg: 0.3539  loss_rpn_cls: 0.005412  loss_rpn_loc: 0.03987  time: 0.2705  data_time: 0.0017  lr: 0.001  max_mem: 3149M\n",
      "\u001b[32m[10/19 17:48:07 d2.utils.events]: \u001b[0m eta: 1:11:33  iter: 4419  total_loss: 0.4993  loss_cls: 0.1144  loss_box_reg: 0.3522  loss_rpn_cls: 0.004705  loss_rpn_loc: 0.02481  time: 0.2706  data_time: 0.0019  lr: 0.001  max_mem: 3149M\n",
      "\u001b[32m[10/19 17:48:12 d2.utils.events]: \u001b[0m eta: 1:11:28  iter: 4439  total_loss: 0.5623  loss_cls: 0.1503  loss_box_reg: 0.3616  loss_rpn_cls: 0.004191  loss_rpn_loc: 0.0376  time: 0.2706  data_time: 0.0017  lr: 0.001  max_mem: 3149M\n",
      "\u001b[32m[10/19 17:48:18 d2.utils.events]: \u001b[0m eta: 1:11:20  iter: 4459  total_loss: 0.4847  loss_cls: 0.108  loss_box_reg: 0.3028  loss_rpn_cls: 0.005426  loss_rpn_loc: 0.02416  time: 0.2706  data_time: 0.0018  lr: 0.001  max_mem: 3149M\n",
      "\u001b[32m[10/19 17:48:23 d2.utils.events]: \u001b[0m eta: 1:11:16  iter: 4479  total_loss: 0.5317  loss_cls: 0.1423  loss_box_reg: 0.3598  loss_rpn_cls: 0.006969  loss_rpn_loc: 0.03272  time: 0.2706  data_time: 0.0017  lr: 0.001  max_mem: 3149M\n",
      "\u001b[32m[10/19 17:48:29 d2.utils.events]: \u001b[0m eta: 1:11:10  iter: 4499  total_loss: 0.5611  loss_cls: 0.1411  loss_box_reg: 0.3799  loss_rpn_cls: 0.004555  loss_rpn_loc: 0.025  time: 0.2707  data_time: 0.0018  lr: 0.001  max_mem: 3149M\n",
      "\u001b[32m[10/19 17:48:34 d2.utils.events]: \u001b[0m eta: 1:11:04  iter: 4519  total_loss: 0.491  loss_cls: 0.09811  loss_box_reg: 0.3659  loss_rpn_cls: 0.005257  loss_rpn_loc: 0.02733  time: 0.2707  data_time: 0.0018  lr: 0.001  max_mem: 3149M\n",
      "\u001b[32m[10/19 17:48:40 d2.utils.events]: \u001b[0m eta: 1:10:54  iter: 4539  total_loss: 0.5659  loss_cls: 0.1017  loss_box_reg: 0.3735  loss_rpn_cls: 0.00434  loss_rpn_loc: 0.02795  time: 0.2707  data_time: 0.0018  lr: 0.001  max_mem: 3149M\n",
      "\u001b[32m[10/19 17:48:45 d2.utils.events]: \u001b[0m eta: 1:10:49  iter: 4559  total_loss: 0.4555  loss_cls: 0.0905  loss_box_reg: 0.3479  loss_rpn_cls: 0.00364  loss_rpn_loc: 0.02837  time: 0.2707  data_time: 0.0018  lr: 0.001  max_mem: 3149M\n",
      "\u001b[32m[10/19 17:48:51 d2.utils.events]: \u001b[0m eta: 1:10:51  iter: 4579  total_loss: 0.538  loss_cls: 0.1431  loss_box_reg: 0.3776  loss_rpn_cls: 0.003598  loss_rpn_loc: 0.01889  time: 0.2707  data_time: 0.0018  lr: 0.001  max_mem: 3149M\n",
      "\u001b[32m[10/19 17:48:56 d2.utils.events]: \u001b[0m eta: 1:10:50  iter: 4599  total_loss: 0.52  loss_cls: 0.1412  loss_box_reg: 0.3619  loss_rpn_cls: 0.004996  loss_rpn_loc: 0.03595  time: 0.2708  data_time: 0.0018  lr: 0.001  max_mem: 3149M\n",
      "\u001b[32m[10/19 17:49:02 d2.utils.events]: \u001b[0m eta: 1:10:45  iter: 4619  total_loss: 0.5174  loss_cls: 0.1227  loss_box_reg: 0.3764  loss_rpn_cls: 0.006984  loss_rpn_loc: 0.03521  time: 0.2708  data_time: 0.0017  lr: 0.001  max_mem: 3149M\n",
      "\u001b[32m[10/19 17:49:07 d2.utils.events]: \u001b[0m eta: 1:10:21  iter: 4639  total_loss: 0.5151  loss_cls: 0.1287  loss_box_reg: 0.3424  loss_rpn_cls: 0.003962  loss_rpn_loc: 0.02856  time: 0.2708  data_time: 0.0017  lr: 0.001  max_mem: 3149M\n",
      "\u001b[32m[10/19 17:49:13 d2.utils.events]: \u001b[0m eta: 1:10:22  iter: 4659  total_loss: 0.4715  loss_cls: 0.1261  loss_box_reg: 0.3262  loss_rpn_cls: 0.003115  loss_rpn_loc: 0.01627  time: 0.2709  data_time: 0.0018  lr: 0.001  max_mem: 3149M\n",
      "\u001b[32m[10/19 17:49:19 d2.utils.events]: \u001b[0m eta: 1:09:48  iter: 4679  total_loss: 0.521  loss_cls: 0.1107  loss_box_reg: 0.3597  loss_rpn_cls: 0.004063  loss_rpn_loc: 0.01947  time: 0.2709  data_time: 0.0018  lr: 0.001  max_mem: 3149M\n",
      "\u001b[32m[10/19 17:49:24 d2.utils.events]: \u001b[0m eta: 1:10:05  iter: 4699  total_loss: 0.5526  loss_cls: 0.1284  loss_box_reg: 0.3853  loss_rpn_cls: 0.005953  loss_rpn_loc: 0.03898  time: 0.2709  data_time: 0.0018  lr: 0.001  max_mem: 3149M\n",
      "\u001b[32m[10/19 17:49:30 d2.utils.events]: \u001b[0m eta: 1:09:37  iter: 4719  total_loss: 0.5295  loss_cls: 0.1149  loss_box_reg: 0.3569  loss_rpn_cls: 0.004946  loss_rpn_loc: 0.0393  time: 0.2709  data_time: 0.0018  lr: 0.001  max_mem: 3149M\n",
      "\u001b[32m[10/19 17:49:35 d2.utils.events]: \u001b[0m eta: 1:10:00  iter: 4739  total_loss: 0.5381  loss_cls: 0.144  loss_box_reg: 0.3567  loss_rpn_cls: 0.004238  loss_rpn_loc: 0.03216  time: 0.2710  data_time: 0.0019  lr: 0.001  max_mem: 3149M\n",
      "\u001b[32m[10/19 17:49:41 d2.utils.events]: \u001b[0m eta: 1:10:01  iter: 4759  total_loss: 0.5391  loss_cls: 0.1205  loss_box_reg: 0.3608  loss_rpn_cls: 0.005866  loss_rpn_loc: 0.03917  time: 0.2710  data_time: 0.0017  lr: 0.001  max_mem: 3149M\n",
      "\u001b[32m[10/19 17:49:46 d2.utils.events]: \u001b[0m eta: 1:09:58  iter: 4779  total_loss: 0.5859  loss_cls: 0.1216  loss_box_reg: 0.3571  loss_rpn_cls: 0.007758  loss_rpn_loc: 0.03487  time: 0.2711  data_time: 0.0017  lr: 0.001  max_mem: 3149M\n",
      "\u001b[32m[10/19 17:49:52 d2.utils.events]: \u001b[0m eta: 1:10:03  iter: 4799  total_loss: 0.471  loss_cls: 0.1136  loss_box_reg: 0.3297  loss_rpn_cls: 0.006686  loss_rpn_loc: 0.0407  time: 0.2711  data_time: 0.0016  lr: 0.001  max_mem: 3149M\n",
      "\u001b[32m[10/19 17:49:58 d2.utils.events]: \u001b[0m eta: 1:10:01  iter: 4819  total_loss: 0.5041  loss_cls: 0.11  loss_box_reg: 0.3544  loss_rpn_cls: 0.003454  loss_rpn_loc: 0.02351  time: 0.2712  data_time: 0.0017  lr: 0.001  max_mem: 3149M\n",
      "\u001b[32m[10/19 17:50:03 d2.utils.events]: \u001b[0m eta: 1:09:54  iter: 4839  total_loss: 0.5369  loss_cls: 0.1241  loss_box_reg: 0.3374  loss_rpn_cls: 0.005578  loss_rpn_loc: 0.02038  time: 0.2712  data_time: 0.0017  lr: 0.001  max_mem: 3149M\n",
      "\u001b[32m[10/19 17:50:09 d2.utils.events]: \u001b[0m eta: 1:09:50  iter: 4859  total_loss: 0.5281  loss_cls: 0.1124  loss_box_reg: 0.3534  loss_rpn_cls: 0.00604  loss_rpn_loc: 0.03586  time: 0.2712  data_time: 0.0018  lr: 0.001  max_mem: 3149M\n",
      "\u001b[32m[10/19 17:50:15 d2.utils.events]: \u001b[0m eta: 1:09:48  iter: 4879  total_loss: 0.527  loss_cls: 0.1091  loss_box_reg: 0.3567  loss_rpn_cls: 0.006107  loss_rpn_loc: 0.03594  time: 0.2713  data_time: 0.0018  lr: 0.001  max_mem: 3149M\n",
      "\u001b[32m[10/19 17:50:20 d2.utils.events]: \u001b[0m eta: 1:09:42  iter: 4899  total_loss: 0.5064  loss_cls: 0.1057  loss_box_reg: 0.3542  loss_rpn_cls: 0.005118  loss_rpn_loc: 0.0364  time: 0.2713  data_time: 0.0018  lr: 0.001  max_mem: 3149M\n",
      "\u001b[32m[10/19 17:50:26 d2.utils.events]: \u001b[0m eta: 1:09:34  iter: 4919  total_loss: 0.5205  loss_cls: 0.1152  loss_box_reg: 0.3495  loss_rpn_cls: 0.005094  loss_rpn_loc: 0.03347  time: 0.2713  data_time: 0.0018  lr: 0.001  max_mem: 3149M\n",
      "\u001b[32m[10/19 17:50:31 d2.utils.events]: \u001b[0m eta: 1:09:25  iter: 4939  total_loss: 0.5035  loss_cls: 0.1118  loss_box_reg: 0.3382  loss_rpn_cls: 0.004107  loss_rpn_loc: 0.01841  time: 0.2713  data_time: 0.0018  lr: 0.001  max_mem: 3149M\n",
      "\u001b[32m[10/19 17:50:37 d2.utils.events]: \u001b[0m eta: 1:09:20  iter: 4959  total_loss: 0.5255  loss_cls: 0.1201  loss_box_reg: 0.32  loss_rpn_cls: 0.005314  loss_rpn_loc: 0.04207  time: 0.2714  data_time: 0.0018  lr: 0.001  max_mem: 3149M\n",
      "\u001b[32m[10/19 17:50:42 d2.utils.events]: \u001b[0m eta: 1:09:15  iter: 4979  total_loss: 0.4653  loss_cls: 0.0897  loss_box_reg: 0.3193  loss_rpn_cls: 0.002742  loss_rpn_loc: 0.02452  time: 0.2714  data_time: 0.0017  lr: 0.001  max_mem: 3149M\n",
      "\u001b[32m[10/19 17:50:48 d2.utils.events]: \u001b[0m eta: 1:09:09  iter: 4999  total_loss: 0.5596  loss_cls: 0.139  loss_box_reg: 0.3795  loss_rpn_cls: 0.00435  loss_rpn_loc: 0.04874  time: 0.2714  data_time: 0.0017  lr: 0.001  max_mem: 3149M\n",
      "\u001b[32m[10/19 17:50:54 d2.utils.events]: \u001b[0m eta: 1:09:06  iter: 5019  total_loss: 0.4909  loss_cls: 0.1132  loss_box_reg: 0.3307  loss_rpn_cls: 0.006691  loss_rpn_loc: 0.02825  time: 0.2715  data_time: 0.0017  lr: 0.001  max_mem: 3149M\n",
      "\u001b[32m[10/19 17:50:59 d2.utils.events]: \u001b[0m eta: 1:09:01  iter: 5039  total_loss: 0.5577  loss_cls: 0.1222  loss_box_reg: 0.3804  loss_rpn_cls: 0.003524  loss_rpn_loc: 0.02342  time: 0.2715  data_time: 0.0017  lr: 0.001  max_mem: 3149M\n",
      "\u001b[32m[10/19 17:51:05 d2.utils.events]: \u001b[0m eta: 1:08:55  iter: 5059  total_loss: 0.5263  loss_cls: 0.1132  loss_box_reg: 0.365  loss_rpn_cls: 0.00242  loss_rpn_loc: 0.02036  time: 0.2715  data_time: 0.0018  lr: 0.001  max_mem: 3149M\n",
      "\u001b[32m[10/19 17:51:10 d2.utils.events]: \u001b[0m eta: 1:08:47  iter: 5079  total_loss: 0.5509  loss_cls: 0.1498  loss_box_reg: 0.3735  loss_rpn_cls: 0.008592  loss_rpn_loc: 0.02945  time: 0.2715  data_time: 0.0018  lr: 0.001  max_mem: 3149M\n",
      "\u001b[32m[10/19 17:51:16 d2.utils.events]: \u001b[0m eta: 1:08:38  iter: 5099  total_loss: 0.5067  loss_cls: 0.1199  loss_box_reg: 0.3548  loss_rpn_cls: 0.00408  loss_rpn_loc: 0.0358  time: 0.2715  data_time: 0.0017  lr: 0.001  max_mem: 3149M\n",
      "\u001b[32m[10/19 17:51:21 d2.utils.events]: \u001b[0m eta: 1:08:29  iter: 5119  total_loss: 0.5144  loss_cls: 0.1301  loss_box_reg: 0.3351  loss_rpn_cls: 0.008254  loss_rpn_loc: 0.05333  time: 0.2715  data_time: 0.0017  lr: 0.001  max_mem: 3149M\n",
      "\u001b[32m[10/19 17:51:27 d2.utils.events]: \u001b[0m eta: 1:08:16  iter: 5139  total_loss: 0.5356  loss_cls: 0.1235  loss_box_reg: 0.3277  loss_rpn_cls: 0.005436  loss_rpn_loc: 0.03184  time: 0.2715  data_time: 0.0017  lr: 0.001  max_mem: 3149M\n",
      "\u001b[32m[10/19 17:51:32 d2.utils.events]: \u001b[0m eta: 1:08:23  iter: 5159  total_loss: 0.5202  loss_cls: 0.1328  loss_box_reg: 0.3263  loss_rpn_cls: 0.004156  loss_rpn_loc: 0.03108  time: 0.2715  data_time: 0.0017  lr: 0.001  max_mem: 3149M\n",
      "\u001b[32m[10/19 17:51:38 d2.utils.events]: \u001b[0m eta: 1:08:17  iter: 5179  total_loss: 0.5092  loss_cls: 0.1157  loss_box_reg: 0.3468  loss_rpn_cls: 0.004707  loss_rpn_loc: 0.02227  time: 0.2716  data_time: 0.0017  lr: 0.001  max_mem: 3149M\n",
      "\u001b[32m[10/19 17:51:43 d2.utils.events]: \u001b[0m eta: 1:08:11  iter: 5199  total_loss: 0.5298  loss_cls: 0.1244  loss_box_reg: 0.3704  loss_rpn_cls: 0.005668  loss_rpn_loc: 0.02998  time: 0.2716  data_time: 0.0017  lr: 0.001  max_mem: 3149M\n",
      "\u001b[32m[10/19 17:51:49 d2.utils.events]: \u001b[0m eta: 1:08:06  iter: 5219  total_loss: 0.4959  loss_cls: 0.1143  loss_box_reg: 0.345  loss_rpn_cls: 0.004304  loss_rpn_loc: 0.02572  time: 0.2716  data_time: 0.0018  lr: 0.001  max_mem: 3149M\n",
      "\u001b[32m[10/19 17:51:54 d2.utils.events]: \u001b[0m eta: 1:08:00  iter: 5239  total_loss: 0.554  loss_cls: 0.1413  loss_box_reg: 0.3555  loss_rpn_cls: 0.004782  loss_rpn_loc: 0.05464  time: 0.2716  data_time: 0.0018  lr: 0.001  max_mem: 3149M\n",
      "\u001b[32m[10/19 17:52:00 d2.utils.events]: \u001b[0m eta: 1:07:55  iter: 5259  total_loss: 0.4793  loss_cls: 0.1094  loss_box_reg: 0.3175  loss_rpn_cls: 0.003838  loss_rpn_loc: 0.02651  time: 0.2716  data_time: 0.0017  lr: 0.001  max_mem: 3149M\n",
      "\u001b[32m[10/19 17:52:06 d2.utils.events]: \u001b[0m eta: 1:07:50  iter: 5279  total_loss: 0.4943  loss_cls: 0.1244  loss_box_reg: 0.338  loss_rpn_cls: 0.0038  loss_rpn_loc: 0.02248  time: 0.2717  data_time: 0.0018  lr: 0.001  max_mem: 3149M\n",
      "\u001b[32m[10/19 17:52:11 d2.utils.events]: \u001b[0m eta: 1:07:43  iter: 5299  total_loss: 0.535  loss_cls: 0.1205  loss_box_reg: 0.3666  loss_rpn_cls: 0.005529  loss_rpn_loc: 0.02674  time: 0.2717  data_time: 0.0017  lr: 0.001  max_mem: 3149M\n",
      "\u001b[32m[10/19 17:52:17 d2.utils.events]: \u001b[0m eta: 1:07:37  iter: 5319  total_loss: 0.5299  loss_cls: 0.142  loss_box_reg: 0.3311  loss_rpn_cls: 0.0061  loss_rpn_loc: 0.03138  time: 0.2717  data_time: 0.0017  lr: 0.001  max_mem: 3149M\n",
      "\u001b[32m[10/19 17:52:22 d2.utils.events]: \u001b[0m eta: 1:07:33  iter: 5339  total_loss: 0.4785  loss_cls: 0.1114  loss_box_reg: 0.3138  loss_rpn_cls: 0.002774  loss_rpn_loc: 0.02156  time: 0.2717  data_time: 0.0017  lr: 0.001  max_mem: 3149M\n",
      "\u001b[32m[10/19 17:52:28 d2.utils.events]: \u001b[0m eta: 1:07:27  iter: 5359  total_loss: 0.4828  loss_cls: 0.118  loss_box_reg: 0.3172  loss_rpn_cls: 0.003925  loss_rpn_loc: 0.03794  time: 0.2718  data_time: 0.0017  lr: 0.001  max_mem: 3149M\n",
      "\u001b[32m[10/19 17:52:34 d2.utils.events]: \u001b[0m eta: 1:07:21  iter: 5379  total_loss: 0.4258  loss_cls: 0.09633  loss_box_reg: 0.3055  loss_rpn_cls: 0.004566  loss_rpn_loc: 0.01416  time: 0.2718  data_time: 0.0018  lr: 0.001  max_mem: 3149M\n",
      "\u001b[32m[10/19 17:52:39 d2.utils.events]: \u001b[0m eta: 1:07:16  iter: 5399  total_loss: 0.5358  loss_cls: 0.1222  loss_box_reg: 0.3625  loss_rpn_cls: 0.005259  loss_rpn_loc: 0.02732  time: 0.2719  data_time: 0.0018  lr: 0.001  max_mem: 3149M\n",
      "\u001b[32m[10/19 17:52:45 d2.utils.events]: \u001b[0m eta: 1:07:13  iter: 5419  total_loss: 0.5063  loss_cls: 0.1192  loss_box_reg: 0.3473  loss_rpn_cls: 0.007587  loss_rpn_loc: 0.03749  time: 0.2719  data_time: 0.0018  lr: 0.001  max_mem: 3149M\n",
      "\u001b[32m[10/19 17:52:50 d2.utils.events]: \u001b[0m eta: 1:07:08  iter: 5439  total_loss: 0.5327  loss_cls: 0.1373  loss_box_reg: 0.3483  loss_rpn_cls: 0.004406  loss_rpn_loc: 0.02446  time: 0.2719  data_time: 0.0017  lr: 0.001  max_mem: 3149M\n",
      "\u001b[32m[10/19 17:52:56 d2.utils.events]: \u001b[0m eta: 1:07:04  iter: 5459  total_loss: 0.421  loss_cls: 0.08809  loss_box_reg: 0.31  loss_rpn_cls: 0.002813  loss_rpn_loc: 0.02456  time: 0.2720  data_time: 0.0017  lr: 0.001  max_mem: 3149M\n",
      "\u001b[32m[10/19 17:53:02 d2.utils.events]: \u001b[0m eta: 1:06:57  iter: 5479  total_loss: 0.4885  loss_cls: 0.1074  loss_box_reg: 0.3104  loss_rpn_cls: 0.006763  loss_rpn_loc: 0.04254  time: 0.2720  data_time: 0.0017  lr: 0.001  max_mem: 3149M\n",
      "\u001b[32m[10/19 17:53:07 d2.utils.events]: \u001b[0m eta: 1:06:52  iter: 5499  total_loss: 0.4993  loss_cls: 0.1178  loss_box_reg: 0.3025  loss_rpn_cls: 0.004476  loss_rpn_loc: 0.03933  time: 0.2720  data_time: 0.0017  lr: 0.001  max_mem: 3149M\n",
      "\u001b[32m[10/19 17:53:13 d2.utils.events]: \u001b[0m eta: 1:06:45  iter: 5519  total_loss: 0.5  loss_cls: 0.115  loss_box_reg: 0.341  loss_rpn_cls: 0.004922  loss_rpn_loc: 0.03089  time: 0.2720  data_time: 0.0018  lr: 0.001  max_mem: 3149M\n",
      "\u001b[32m[10/19 17:53:18 d2.utils.events]: \u001b[0m eta: 1:06:41  iter: 5539  total_loss: 0.4962  loss_cls: 0.1162  loss_box_reg: 0.3359  loss_rpn_cls: 0.004594  loss_rpn_loc: 0.03674  time: 0.2720  data_time: 0.0018  lr: 0.001  max_mem: 3149M\n",
      "\u001b[32m[10/19 17:53:24 d2.utils.events]: \u001b[0m eta: 1:06:37  iter: 5559  total_loss: 0.4884  loss_cls: 0.1045  loss_box_reg: 0.3283  loss_rpn_cls: 0.002741  loss_rpn_loc: 0.02163  time: 0.2721  data_time: 0.0018  lr: 0.001  max_mem: 3149M\n",
      "\u001b[32m[10/19 17:53:29 d2.utils.events]: \u001b[0m eta: 1:06:32  iter: 5579  total_loss: 0.4781  loss_cls: 0.1087  loss_box_reg: 0.3207  loss_rpn_cls: 0.005415  loss_rpn_loc: 0.02541  time: 0.2721  data_time: 0.0018  lr: 0.001  max_mem: 3149M\n",
      "\u001b[32m[10/19 17:53:35 d2.utils.events]: \u001b[0m eta: 1:06:25  iter: 5599  total_loss: 0.5382  loss_cls: 0.1279  loss_box_reg: 0.335  loss_rpn_cls: 0.006125  loss_rpn_loc: 0.03876  time: 0.2721  data_time: 0.0018  lr: 0.001  max_mem: 3149M\n",
      "\u001b[32m[10/19 17:53:41 d2.utils.events]: \u001b[0m eta: 1:06:19  iter: 5619  total_loss: 0.4797  loss_cls: 0.1082  loss_box_reg: 0.3256  loss_rpn_cls: 0.005396  loss_rpn_loc: 0.02857  time: 0.2721  data_time: 0.0017  lr: 0.001  max_mem: 3149M\n",
      "\u001b[32m[10/19 17:53:46 d2.utils.events]: \u001b[0m eta: 1:06:15  iter: 5639  total_loss: 0.4547  loss_cls: 0.09455  loss_box_reg: 0.3306  loss_rpn_cls: 0.004339  loss_rpn_loc: 0.02439  time: 0.2721  data_time: 0.0017  lr: 0.001  max_mem: 3149M\n",
      "\u001b[32m[10/19 17:53:52 d2.utils.events]: \u001b[0m eta: 1:06:08  iter: 5659  total_loss: 0.4436  loss_cls: 0.07332  loss_box_reg: 0.3289  loss_rpn_cls: 0.002967  loss_rpn_loc: 0.02734  time: 0.2721  data_time: 0.0018  lr: 0.001  max_mem: 3149M\n",
      "\u001b[32m[10/19 17:53:57 d2.utils.events]: \u001b[0m eta: 1:06:03  iter: 5679  total_loss: 0.4957  loss_cls: 0.09743  loss_box_reg: 0.3388  loss_rpn_cls: 0.004103  loss_rpn_loc: 0.02761  time: 0.2722  data_time: 0.0017  lr: 0.001  max_mem: 3149M\n",
      "\u001b[32m[10/19 17:54:03 d2.utils.events]: \u001b[0m eta: 1:05:57  iter: 5699  total_loss: 0.5438  loss_cls: 0.1455  loss_box_reg: 0.3281  loss_rpn_cls: 0.00719  loss_rpn_loc: 0.03288  time: 0.2722  data_time: 0.0018  lr: 0.001  max_mem: 3149M\n",
      "\u001b[32m[10/19 17:54:08 d2.utils.events]: \u001b[0m eta: 1:05:53  iter: 5719  total_loss: 0.4751  loss_cls: 0.08877  loss_box_reg: 0.3286  loss_rpn_cls: 0.004528  loss_rpn_loc: 0.03325  time: 0.2722  data_time: 0.0018  lr: 0.001  max_mem: 3149M\n",
      "\u001b[32m[10/19 17:54:14 d2.utils.events]: \u001b[0m eta: 1:05:48  iter: 5739  total_loss: 0.5059  loss_cls: 0.1344  loss_box_reg: 0.33  loss_rpn_cls: 0.005668  loss_rpn_loc: 0.01823  time: 0.2722  data_time: 0.0017  lr: 0.001  max_mem: 3149M\n",
      "\u001b[32m[10/19 17:54:20 d2.utils.events]: \u001b[0m eta: 1:05:43  iter: 5759  total_loss: 0.5234  loss_cls: 0.1218  loss_box_reg: 0.3535  loss_rpn_cls: 0.0055  loss_rpn_loc: 0.04275  time: 0.2723  data_time: 0.0016  lr: 0.001  max_mem: 3149M\n",
      "\u001b[32m[10/19 17:54:25 d2.utils.events]: \u001b[0m eta: 1:05:37  iter: 5779  total_loss: 0.5033  loss_cls: 0.09422  loss_box_reg: 0.3516  loss_rpn_cls: 0.00469  loss_rpn_loc: 0.04464  time: 0.2723  data_time: 0.0018  lr: 0.001  max_mem: 3149M\n",
      "\u001b[32m[10/19 17:54:31 d2.utils.events]: \u001b[0m eta: 1:05:30  iter: 5799  total_loss: 0.4806  loss_cls: 0.1075  loss_box_reg: 0.332  loss_rpn_cls: 0.003085  loss_rpn_loc: 0.02404  time: 0.2723  data_time: 0.0019  lr: 0.001  max_mem: 3149M\n",
      "\u001b[32m[10/19 17:54:36 d2.utils.events]: \u001b[0m eta: 1:05:22  iter: 5819  total_loss: 0.4771  loss_cls: 0.1071  loss_box_reg: 0.3322  loss_rpn_cls: 0.003566  loss_rpn_loc: 0.02753  time: 0.2724  data_time: 0.0017  lr: 0.001  max_mem: 3149M\n",
      "\u001b[32m[10/19 17:54:42 d2.utils.events]: \u001b[0m eta: 1:05:17  iter: 5839  total_loss: 0.4852  loss_cls: 0.1215  loss_box_reg: 0.3215  loss_rpn_cls: 0.004785  loss_rpn_loc: 0.02137  time: 0.2724  data_time: 0.0017  lr: 0.001  max_mem: 3149M\n",
      "\u001b[32m[10/19 17:54:47 d2.utils.events]: \u001b[0m eta: 1:05:10  iter: 5859  total_loss: 0.4556  loss_cls: 0.08997  loss_box_reg: 0.3284  loss_rpn_cls: 0.004865  loss_rpn_loc: 0.03117  time: 0.2724  data_time: 0.0017  lr: 0.001  max_mem: 3149M\n",
      "\u001b[32m[10/19 17:54:53 d2.utils.events]: \u001b[0m eta: 1:05:04  iter: 5879  total_loss: 0.4389  loss_cls: 0.09553  loss_box_reg: 0.3338  loss_rpn_cls: 0.002953  loss_rpn_loc: 0.04161  time: 0.2724  data_time: 0.0017  lr: 0.001  max_mem: 3149M\n",
      "\u001b[32m[10/19 17:54:59 d2.utils.events]: \u001b[0m eta: 1:04:59  iter: 5899  total_loss: 0.4457  loss_cls: 0.09632  loss_box_reg: 0.3014  loss_rpn_cls: 0.004299  loss_rpn_loc: 0.02623  time: 0.2724  data_time: 0.0017  lr: 0.001  max_mem: 3149M\n",
      "\u001b[32m[10/19 17:55:04 d2.utils.events]: \u001b[0m eta: 1:04:53  iter: 5919  total_loss: 0.5318  loss_cls: 0.1417  loss_box_reg: 0.3405  loss_rpn_cls: 0.004186  loss_rpn_loc: 0.0344  time: 0.2724  data_time: 0.0017  lr: 0.001  max_mem: 3149M\n",
      "\u001b[32m[10/19 17:55:10 d2.utils.events]: \u001b[0m eta: 1:04:48  iter: 5939  total_loss: 0.5142  loss_cls: 0.09734  loss_box_reg: 0.3555  loss_rpn_cls: 0.00373  loss_rpn_loc: 0.02926  time: 0.2725  data_time: 0.0018  lr: 0.001  max_mem: 3149M\n",
      "\u001b[32m[10/19 17:55:15 d2.utils.events]: \u001b[0m eta: 1:04:43  iter: 5959  total_loss: 0.4085  loss_cls: 0.09595  loss_box_reg: 0.3121  loss_rpn_cls: 0.002622  loss_rpn_loc: 0.02013  time: 0.2725  data_time: 0.0018  lr: 0.001  max_mem: 3149M\n",
      "\u001b[32m[10/19 17:55:21 d2.utils.events]: \u001b[0m eta: 1:04:37  iter: 5979  total_loss: 0.4629  loss_cls: 0.09072  loss_box_reg: 0.3036  loss_rpn_cls: 0.004007  loss_rpn_loc: 0.02625  time: 0.2725  data_time: 0.0018  lr: 0.001  max_mem: 3149M\n",
      "\u001b[32m[10/19 17:55:26 d2.utils.events]: \u001b[0m eta: 1:04:31  iter: 5999  total_loss: 0.4662  loss_cls: 0.09795  loss_box_reg: 0.32  loss_rpn_cls: 0.004268  loss_rpn_loc: 0.02836  time: 0.2725  data_time: 0.0017  lr: 0.001  max_mem: 3149M\n",
      "\u001b[32m[10/19 17:55:32 d2.utils.events]: \u001b[0m eta: 1:04:25  iter: 6019  total_loss: 0.5336  loss_cls: 0.1354  loss_box_reg: 0.3357  loss_rpn_cls: 0.004013  loss_rpn_loc: 0.02725  time: 0.2725  data_time: 0.0018  lr: 0.001  max_mem: 3149M\n",
      "\u001b[32m[10/19 17:55:37 d2.utils.events]: \u001b[0m eta: 1:04:20  iter: 6039  total_loss: 0.5115  loss_cls: 0.1434  loss_box_reg: 0.3287  loss_rpn_cls: 0.00353  loss_rpn_loc: 0.02147  time: 0.2725  data_time: 0.0017  lr: 0.001  max_mem: 3149M\n",
      "\u001b[32m[10/19 17:55:43 d2.utils.events]: \u001b[0m eta: 1:04:15  iter: 6059  total_loss: 0.5393  loss_cls: 0.1276  loss_box_reg: 0.3348  loss_rpn_cls: 0.005356  loss_rpn_loc: 0.02652  time: 0.2726  data_time: 0.0017  lr: 0.001  max_mem: 3149M\n",
      "\u001b[32m[10/19 17:55:49 d2.utils.events]: \u001b[0m eta: 1:04:11  iter: 6079  total_loss: 0.4845  loss_cls: 0.1103  loss_box_reg: 0.3464  loss_rpn_cls: 0.003277  loss_rpn_loc: 0.02692  time: 0.2726  data_time: 0.0017  lr: 0.001  max_mem: 3149M\n",
      "\u001b[32m[10/19 17:55:54 d2.utils.events]: \u001b[0m eta: 1:04:07  iter: 6099  total_loss: 0.5009  loss_cls: 0.1284  loss_box_reg: 0.3405  loss_rpn_cls: 0.005141  loss_rpn_loc: 0.03482  time: 0.2726  data_time: 0.0017  lr: 0.001  max_mem: 3149M\n",
      "\u001b[32m[10/19 17:56:00 d2.utils.events]: \u001b[0m eta: 1:04:02  iter: 6119  total_loss: 0.4869  loss_cls: 0.1018  loss_box_reg: 0.3388  loss_rpn_cls: 0.004221  loss_rpn_loc: 0.03333  time: 0.2726  data_time: 0.0017  lr: 0.001  max_mem: 3149M\n",
      "\u001b[32m[10/19 17:56:05 d2.utils.events]: \u001b[0m eta: 1:03:56  iter: 6139  total_loss: 0.4535  loss_cls: 0.1048  loss_box_reg: 0.3136  loss_rpn_cls: 0.003976  loss_rpn_loc: 0.0292  time: 0.2726  data_time: 0.0018  lr: 0.001  max_mem: 3149M\n",
      "\u001b[32m[10/19 17:56:11 d2.utils.events]: \u001b[0m eta: 1:03:50  iter: 6159  total_loss: 0.4328  loss_cls: 0.09524  loss_box_reg: 0.3097  loss_rpn_cls: 0.0033  loss_rpn_loc: 0.02887  time: 0.2726  data_time: 0.0018  lr: 0.001  max_mem: 3149M\n",
      "\u001b[32m[10/19 17:56:16 d2.utils.events]: \u001b[0m eta: 1:03:44  iter: 6179  total_loss: 0.5248  loss_cls: 0.1239  loss_box_reg: 0.3613  loss_rpn_cls: 0.002611  loss_rpn_loc: 0.03196  time: 0.2726  data_time: 0.0018  lr: 0.001  max_mem: 3149M\n",
      "\u001b[32m[10/19 17:56:22 d2.utils.events]: \u001b[0m eta: 1:03:39  iter: 6199  total_loss: 0.4766  loss_cls: 0.09825  loss_box_reg: 0.312  loss_rpn_cls: 0.003143  loss_rpn_loc: 0.03028  time: 0.2726  data_time: 0.0017  lr: 0.001  max_mem: 3149M\n",
      "\u001b[32m[10/19 17:56:27 d2.utils.events]: \u001b[0m eta: 1:03:33  iter: 6219  total_loss: 0.5238  loss_cls: 0.1146  loss_box_reg: 0.3273  loss_rpn_cls: 0.004677  loss_rpn_loc: 0.03905  time: 0.2727  data_time: 0.0018  lr: 0.001  max_mem: 3149M\n",
      "\u001b[32m[10/19 17:56:33 d2.utils.events]: \u001b[0m eta: 1:03:27  iter: 6239  total_loss: 0.4748  loss_cls: 0.09441  loss_box_reg: 0.2965  loss_rpn_cls: 0.003535  loss_rpn_loc: 0.01827  time: 0.2727  data_time: 0.0018  lr: 0.001  max_mem: 3149M\n",
      "\u001b[32m[10/19 17:56:38 d2.utils.events]: \u001b[0m eta: 1:03:21  iter: 6259  total_loss: 0.439  loss_cls: 0.09759  loss_box_reg: 0.3173  loss_rpn_cls: 0.004752  loss_rpn_loc: 0.03232  time: 0.2727  data_time: 0.0018  lr: 0.001  max_mem: 3149M\n",
      "\u001b[32m[10/19 17:56:44 d2.utils.events]: \u001b[0m eta: 1:03:15  iter: 6279  total_loss: 0.4383  loss_cls: 0.0924  loss_box_reg: 0.3125  loss_rpn_cls: 0.004329  loss_rpn_loc: 0.02844  time: 0.2727  data_time: 0.0017  lr: 0.001  max_mem: 3149M\n",
      "\u001b[32m[10/19 17:56:50 d2.utils.events]: \u001b[0m eta: 1:03:12  iter: 6299  total_loss: 0.4743  loss_cls: 0.1087  loss_box_reg: 0.3182  loss_rpn_cls: 0.003142  loss_rpn_loc: 0.01872  time: 0.2727  data_time: 0.0018  lr: 0.001  max_mem: 3149M\n",
      "\u001b[32m[10/19 17:56:55 d2.utils.events]: \u001b[0m eta: 1:03:07  iter: 6319  total_loss: 0.4861  loss_cls: 0.09369  loss_box_reg: 0.3363  loss_rpn_cls: 0.005167  loss_rpn_loc: 0.03523  time: 0.2728  data_time: 0.0018  lr: 0.001  max_mem: 3149M\n",
      "\u001b[32m[10/19 17:57:01 d2.utils.events]: \u001b[0m eta: 1:03:01  iter: 6339  total_loss: 0.501  loss_cls: 0.1133  loss_box_reg: 0.3392  loss_rpn_cls: 0.004525  loss_rpn_loc: 0.03575  time: 0.2728  data_time: 0.0018  lr: 0.001  max_mem: 3149M\n",
      "\u001b[32m[10/19 17:57:06 d2.utils.events]: \u001b[0m eta: 1:02:54  iter: 6359  total_loss: 0.4933  loss_cls: 0.1083  loss_box_reg: 0.3404  loss_rpn_cls: 0.00366  loss_rpn_loc: 0.02786  time: 0.2728  data_time: 0.0019  lr: 0.001  max_mem: 3149M\n",
      "\u001b[32m[10/19 17:57:12 d2.utils.events]: \u001b[0m eta: 1:02:50  iter: 6379  total_loss: 0.4876  loss_cls: 0.1221  loss_box_reg: 0.3148  loss_rpn_cls: 0.003849  loss_rpn_loc: 0.0421  time: 0.2728  data_time: 0.0018  lr: 0.001  max_mem: 3149M\n",
      "\u001b[32m[10/19 17:57:18 d2.utils.events]: \u001b[0m eta: 1:02:42  iter: 6399  total_loss: 0.4355  loss_cls: 0.09164  loss_box_reg: 0.3045  loss_rpn_cls: 0.001541  loss_rpn_loc: 0.01762  time: 0.2728  data_time: 0.0018  lr: 0.001  max_mem: 3149M\n",
      "\u001b[32m[10/19 17:57:23 d2.utils.events]: \u001b[0m eta: 1:02:34  iter: 6419  total_loss: 0.5077  loss_cls: 0.1245  loss_box_reg: 0.3252  loss_rpn_cls: 0.004744  loss_rpn_loc: 0.04046  time: 0.2728  data_time: 0.0018  lr: 0.001  max_mem: 3149M\n",
      "\u001b[32m[10/19 17:57:29 d2.utils.events]: \u001b[0m eta: 1:02:29  iter: 6439  total_loss: 0.5174  loss_cls: 0.1353  loss_box_reg: 0.3441  loss_rpn_cls: 0.004599  loss_rpn_loc: 0.03385  time: 0.2728  data_time: 0.0017  lr: 0.001  max_mem: 3149M\n",
      "\u001b[32m[10/19 17:57:34 d2.utils.events]: \u001b[0m eta: 1:02:24  iter: 6459  total_loss: 0.439  loss_cls: 0.09416  loss_box_reg: 0.3159  loss_rpn_cls: 0.003203  loss_rpn_loc: 0.02239  time: 0.2729  data_time: 0.0018  lr: 0.001  max_mem: 3149M\n",
      "\u001b[32m[10/19 17:57:40 d2.utils.events]: \u001b[0m eta: 1:02:18  iter: 6479  total_loss: 0.4971  loss_cls: 0.1169  loss_box_reg: 0.3165  loss_rpn_cls: 0.004587  loss_rpn_loc: 0.02879  time: 0.2729  data_time: 0.0017  lr: 0.001  max_mem: 3149M\n",
      "\u001b[32m[10/19 17:57:45 d2.utils.events]: \u001b[0m eta: 1:02:13  iter: 6499  total_loss: 0.5165  loss_cls: 0.136  loss_box_reg: 0.3287  loss_rpn_cls: 0.005153  loss_rpn_loc: 0.03474  time: 0.2729  data_time: 0.0018  lr: 0.001  max_mem: 3149M\n",
      "\u001b[32m[10/19 17:57:51 d2.utils.events]: \u001b[0m eta: 1:02:08  iter: 6519  total_loss: 0.4628  loss_cls: 0.08914  loss_box_reg: 0.3047  loss_rpn_cls: 0.004024  loss_rpn_loc: 0.03306  time: 0.2729  data_time: 0.0017  lr: 0.001  max_mem: 3149M\n",
      "\u001b[32m[10/19 17:57:57 d2.utils.events]: \u001b[0m eta: 1:02:02  iter: 6539  total_loss: 0.4606  loss_cls: 0.1036  loss_box_reg: 0.3253  loss_rpn_cls: 0.003532  loss_rpn_loc: 0.02508  time: 0.2730  data_time: 0.0017  lr: 0.001  max_mem: 3149M\n",
      "\u001b[32m[10/19 17:58:02 d2.utils.events]: \u001b[0m eta: 1:01:55  iter: 6559  total_loss: 0.4374  loss_cls: 0.1024  loss_box_reg: 0.3225  loss_rpn_cls: 0.002073  loss_rpn_loc: 0.02481  time: 0.2730  data_time: 0.0016  lr: 0.001  max_mem: 3149M\n",
      "\u001b[32m[10/19 17:58:08 d2.utils.events]: \u001b[0m eta: 1:01:49  iter: 6579  total_loss: 0.459  loss_cls: 0.09969  loss_box_reg: 0.3081  loss_rpn_cls: 0.002885  loss_rpn_loc: 0.02685  time: 0.2730  data_time: 0.0017  lr: 0.001  max_mem: 3149M\n",
      "\u001b[32m[10/19 17:58:13 d2.utils.events]: \u001b[0m eta: 1:01:43  iter: 6599  total_loss: 0.4529  loss_cls: 0.09119  loss_box_reg: 0.3129  loss_rpn_cls: 0.002162  loss_rpn_loc: 0.02197  time: 0.2730  data_time: 0.0017  lr: 0.001  max_mem: 3149M\n",
      "\u001b[32m[10/19 17:58:18 d2.utils.events]: \u001b[0m eta: 1:01:36  iter: 6619  total_loss: 0.4648  loss_cls: 0.0884  loss_box_reg: 0.3293  loss_rpn_cls: 0.003183  loss_rpn_loc: 0.02788  time: 0.2730  data_time: 0.0016  lr: 0.001  max_mem: 3149M\n",
      "\u001b[32m[10/19 17:58:24 d2.utils.events]: \u001b[0m eta: 1:01:30  iter: 6639  total_loss: 0.5273  loss_cls: 0.09237  loss_box_reg: 0.3203  loss_rpn_cls: 0.004682  loss_rpn_loc: 0.04976  time: 0.2730  data_time: 0.0016  lr: 0.001  max_mem: 3149M\n",
      "\u001b[32m[10/19 17:58:30 d2.utils.events]: \u001b[0m eta: 1:01:25  iter: 6659  total_loss: 0.4923  loss_cls: 0.1184  loss_box_reg: 0.3164  loss_rpn_cls: 0.002938  loss_rpn_loc: 0.02853  time: 0.2730  data_time: 0.0017  lr: 0.001  max_mem: 3149M\n",
      "\u001b[32m[10/19 17:58:35 d2.utils.events]: \u001b[0m eta: 1:01:19  iter: 6679  total_loss: 0.4517  loss_cls: 0.09946  loss_box_reg: 0.3261  loss_rpn_cls: 0.00366  loss_rpn_loc: 0.02581  time: 0.2730  data_time: 0.0016  lr: 0.001  max_mem: 3149M\n",
      "\u001b[32m[10/19 17:58:40 d2.utils.events]: \u001b[0m eta: 1:01:12  iter: 6699  total_loss: 0.5137  loss_cls: 0.09651  loss_box_reg: 0.3561  loss_rpn_cls: 0.00257  loss_rpn_loc: 0.02607  time: 0.2730  data_time: 0.0017  lr: 0.001  max_mem: 3149M\n",
      "\u001b[32m[10/19 17:58:46 d2.utils.events]: \u001b[0m eta: 1:01:06  iter: 6719  total_loss: 0.4821  loss_cls: 0.08303  loss_box_reg: 0.3462  loss_rpn_cls: 0.004146  loss_rpn_loc: 0.02817  time: 0.2730  data_time: 0.0017  lr: 0.001  max_mem: 3149M\n",
      "\u001b[32m[10/19 17:58:51 d2.utils.events]: \u001b[0m eta: 1:01:00  iter: 6739  total_loss: 0.4532  loss_cls: 0.08743  loss_box_reg: 0.3417  loss_rpn_cls: 0.003212  loss_rpn_loc: 0.02452  time: 0.2730  data_time: 0.0016  lr: 0.001  max_mem: 3149M\n",
      "\u001b[32m[10/19 17:58:57 d2.utils.events]: \u001b[0m eta: 1:00:53  iter: 6759  total_loss: 0.4598  loss_cls: 0.0902  loss_box_reg: 0.3397  loss_rpn_cls: 0.002788  loss_rpn_loc: 0.02168  time: 0.2730  data_time: 0.0017  lr: 0.001  max_mem: 3149M\n",
      "\u001b[32m[10/19 17:59:03 d2.utils.events]: \u001b[0m eta: 1:00:46  iter: 6779  total_loss: 0.4746  loss_cls: 0.115  loss_box_reg: 0.3106  loss_rpn_cls: 0.003874  loss_rpn_loc: 0.03008  time: 0.2730  data_time: 0.0017  lr: 0.001  max_mem: 3149M\n",
      "\u001b[32m[10/19 17:59:08 d2.utils.events]: \u001b[0m eta: 1:00:40  iter: 6799  total_loss: 0.4734  loss_cls: 0.118  loss_box_reg: 0.3234  loss_rpn_cls: 0.001903  loss_rpn_loc: 0.02384  time: 0.2730  data_time: 0.0017  lr: 0.001  max_mem: 3149M\n",
      "\u001b[32m[10/19 17:59:14 d2.utils.events]: \u001b[0m eta: 1:00:33  iter: 6819  total_loss: 0.4845  loss_cls: 0.1057  loss_box_reg: 0.3163  loss_rpn_cls: 0.004953  loss_rpn_loc: 0.03873  time: 0.2730  data_time: 0.0017  lr: 0.001  max_mem: 3149M\n",
      "\u001b[32m[10/19 17:59:19 d2.utils.events]: \u001b[0m eta: 1:00:25  iter: 6839  total_loss: 0.4363  loss_cls: 0.1062  loss_box_reg: 0.3158  loss_rpn_cls: 0.002853  loss_rpn_loc: 0.02708  time: 0.2730  data_time: 0.0017  lr: 0.001  max_mem: 3149M\n",
      "\u001b[32m[10/19 17:59:24 d2.utils.events]: \u001b[0m eta: 1:00:19  iter: 6859  total_loss: 0.4866  loss_cls: 0.1175  loss_box_reg: 0.3466  loss_rpn_cls: 0.005298  loss_rpn_loc: 0.02337  time: 0.2730  data_time: 0.0017  lr: 0.001  max_mem: 3149M\n",
      "\u001b[32m[10/19 17:59:30 d2.utils.events]: \u001b[0m eta: 1:00:13  iter: 6879  total_loss: 0.4537  loss_cls: 0.09866  loss_box_reg: 0.3213  loss_rpn_cls: 0.002773  loss_rpn_loc: 0.03379  time: 0.2730  data_time: 0.0018  lr: 0.001  max_mem: 3149M\n",
      "\u001b[32m[10/19 17:59:35 d2.utils.events]: \u001b[0m eta: 1:00:06  iter: 6899  total_loss: 0.4969  loss_cls: 0.1302  loss_box_reg: 0.2993  loss_rpn_cls: 0.005163  loss_rpn_loc: 0.035  time: 0.2730  data_time: 0.0017  lr: 0.001  max_mem: 3149M\n",
      "\u001b[32m[10/19 17:59:41 d2.utils.events]: \u001b[0m eta: 1:00:00  iter: 6919  total_loss: 0.4984  loss_cls: 0.09904  loss_box_reg: 0.3624  loss_rpn_cls: 0.003388  loss_rpn_loc: 0.02805  time: 0.2730  data_time: 0.0017  lr: 0.001  max_mem: 3149M\n",
      "\u001b[32m[10/19 17:59:46 d2.utils.events]: \u001b[0m eta: 0:59:53  iter: 6939  total_loss: 0.4351  loss_cls: 0.09908  loss_box_reg: 0.3254  loss_rpn_cls: 0.002905  loss_rpn_loc: 0.02496  time: 0.2730  data_time: 0.0017  lr: 0.001  max_mem: 3149M\n",
      "\u001b[32m[10/19 17:59:52 d2.utils.events]: \u001b[0m eta: 0:59:45  iter: 6959  total_loss: 0.4651  loss_cls: 0.1046  loss_box_reg: 0.3084  loss_rpn_cls: 0.003913  loss_rpn_loc: 0.02056  time: 0.2730  data_time: 0.0017  lr: 0.001  max_mem: 3149M\n",
      "\u001b[32m[10/19 17:59:57 d2.utils.events]: \u001b[0m eta: 0:59:38  iter: 6979  total_loss: 0.4404  loss_cls: 0.08915  loss_box_reg: 0.2905  loss_rpn_cls: 0.004565  loss_rpn_loc: 0.02659  time: 0.2730  data_time: 0.0016  lr: 0.001  max_mem: 3149M\n",
      "\u001b[32m[10/19 18:00:02 d2.utils.events]: \u001b[0m eta: 0:59:30  iter: 6999  total_loss: 0.4668  loss_cls: 0.08397  loss_box_reg: 0.3359  loss_rpn_cls: 0.0037  loss_rpn_loc: 0.02284  time: 0.2730  data_time: 0.0016  lr: 0.001  max_mem: 3149M\n",
      "\u001b[32m[10/19 18:00:08 d2.utils.events]: \u001b[0m eta: 0:59:23  iter: 7019  total_loss: 0.4555  loss_cls: 0.0861  loss_box_reg: 0.3279  loss_rpn_cls: 0.001993  loss_rpn_loc: 0.03169  time: 0.2730  data_time: 0.0017  lr: 0.001  max_mem: 3149M\n",
      "\u001b[32m[10/19 18:00:13 d2.utils.events]: \u001b[0m eta: 0:59:18  iter: 7039  total_loss: 0.4613  loss_cls: 0.1006  loss_box_reg: 0.3197  loss_rpn_cls: 0.004263  loss_rpn_loc: 0.02893  time: 0.2730  data_time: 0.0016  lr: 0.001  max_mem: 3149M\n",
      "\u001b[32m[10/19 18:00:19 d2.utils.events]: \u001b[0m eta: 0:59:11  iter: 7059  total_loss: 0.4461  loss_cls: 0.09246  loss_box_reg: 0.3431  loss_rpn_cls: 0.003359  loss_rpn_loc: 0.0312  time: 0.2730  data_time: 0.0017  lr: 0.001  max_mem: 3149M\n",
      "\u001b[32m[10/19 18:00:24 d2.utils.events]: \u001b[0m eta: 0:59:04  iter: 7079  total_loss: 0.392  loss_cls: 0.08885  loss_box_reg: 0.3118  loss_rpn_cls: 0.002081  loss_rpn_loc: 0.02611  time: 0.2730  data_time: 0.0017  lr: 0.001  max_mem: 3149M\n",
      "\u001b[32m[10/19 18:00:30 d2.utils.events]: \u001b[0m eta: 0:58:59  iter: 7099  total_loss: 0.4773  loss_cls: 0.1268  loss_box_reg: 0.3023  loss_rpn_cls: 0.003336  loss_rpn_loc: 0.02961  time: 0.2729  data_time: 0.0016  lr: 0.001  max_mem: 3149M\n",
      "\u001b[32m[10/19 18:00:35 d2.utils.events]: \u001b[0m eta: 0:58:53  iter: 7119  total_loss: 0.4132  loss_cls: 0.08729  loss_box_reg: 0.3022  loss_rpn_cls: 0.00216  loss_rpn_loc: 0.03229  time: 0.2729  data_time: 0.0017  lr: 0.001  max_mem: 3149M\n",
      "\u001b[32m[10/19 18:00:40 d2.utils.events]: \u001b[0m eta: 0:58:48  iter: 7139  total_loss: 0.5291  loss_cls: 0.1186  loss_box_reg: 0.3129  loss_rpn_cls: 0.005691  loss_rpn_loc: 0.04295  time: 0.2729  data_time: 0.0016  lr: 0.001  max_mem: 3149M\n",
      "\u001b[32m[10/19 18:00:46 d2.utils.events]: \u001b[0m eta: 0:58:42  iter: 7159  total_loss: 0.4673  loss_cls: 0.1132  loss_box_reg: 0.2927  loss_rpn_cls: 0.003715  loss_rpn_loc: 0.03019  time: 0.2729  data_time: 0.0017  lr: 0.001  max_mem: 3149M\n",
      "\u001b[32m[10/19 18:00:51 d2.utils.events]: \u001b[0m eta: 0:58:36  iter: 7179  total_loss: 0.4022  loss_cls: 0.08441  loss_box_reg: 0.2866  loss_rpn_cls: 0.002821  loss_rpn_loc: 0.01896  time: 0.2729  data_time: 0.0017  lr: 0.001  max_mem: 3149M\n",
      "\u001b[32m[10/19 18:00:57 d2.utils.events]: \u001b[0m eta: 0:58:30  iter: 7199  total_loss: 0.4473  loss_cls: 0.0944  loss_box_reg: 0.3127  loss_rpn_cls: 0.003041  loss_rpn_loc: 0.02158  time: 0.2729  data_time: 0.0017  lr: 0.001  max_mem: 3149M\n",
      "\u001b[32m[10/19 18:01:02 d2.utils.events]: \u001b[0m eta: 0:58:25  iter: 7219  total_loss: 0.4989  loss_cls: 0.09074  loss_box_reg: 0.3459  loss_rpn_cls: 0.003111  loss_rpn_loc: 0.03193  time: 0.2729  data_time: 0.0017  lr: 0.001  max_mem: 3149M\n",
      "\u001b[32m[10/19 18:01:08 d2.utils.events]: \u001b[0m eta: 0:58:19  iter: 7239  total_loss: 0.4868  loss_cls: 0.09203  loss_box_reg: 0.3297  loss_rpn_cls: 0.003856  loss_rpn_loc: 0.02515  time: 0.2729  data_time: 0.0016  lr: 0.001  max_mem: 3149M\n",
      "\u001b[32m[10/19 18:01:13 d2.utils.events]: \u001b[0m eta: 0:58:13  iter: 7259  total_loss: 0.5086  loss_cls: 0.1128  loss_box_reg: 0.318  loss_rpn_cls: 0.005709  loss_rpn_loc: 0.04331  time: 0.2729  data_time: 0.0016  lr: 0.001  max_mem: 3149M\n",
      "\u001b[32m[10/19 18:01:19 d2.utils.events]: \u001b[0m eta: 0:58:07  iter: 7279  total_loss: 0.4549  loss_cls: 0.08713  loss_box_reg: 0.3278  loss_rpn_cls: 0.003208  loss_rpn_loc: 0.02315  time: 0.2729  data_time: 0.0017  lr: 0.001  max_mem: 3149M\n",
      "\u001b[32m[10/19 18:01:24 d2.utils.events]: \u001b[0m eta: 0:58:01  iter: 7299  total_loss: 0.4685  loss_cls: 0.1196  loss_box_reg: 0.3152  loss_rpn_cls: 0.003857  loss_rpn_loc: 0.02401  time: 0.2729  data_time: 0.0017  lr: 0.001  max_mem: 3149M\n",
      "\u001b[32m[10/19 18:01:29 d2.utils.events]: \u001b[0m eta: 0:57:54  iter: 7319  total_loss: 0.4212  loss_cls: 0.0866  loss_box_reg: 0.304  loss_rpn_cls: 0.003441  loss_rpn_loc: 0.01881  time: 0.2729  data_time: 0.0017  lr: 0.001  max_mem: 3149M\n",
      "\u001b[32m[10/19 18:01:35 d2.utils.events]: \u001b[0m eta: 0:57:49  iter: 7339  total_loss: 0.434  loss_cls: 0.09454  loss_box_reg: 0.3032  loss_rpn_cls: 0.004808  loss_rpn_loc: 0.02456  time: 0.2729  data_time: 0.0017  lr: 0.001  max_mem: 3149M\n",
      "\u001b[32m[10/19 18:01:40 d2.utils.events]: \u001b[0m eta: 0:57:42  iter: 7359  total_loss: 0.49  loss_cls: 0.1026  loss_box_reg: 0.3242  loss_rpn_cls: 0.004214  loss_rpn_loc: 0.02866  time: 0.2729  data_time: 0.0017  lr: 0.001  max_mem: 3149M\n",
      "\u001b[32m[10/19 18:01:46 d2.utils.events]: \u001b[0m eta: 0:57:36  iter: 7379  total_loss: 0.5039  loss_cls: 0.1109  loss_box_reg: 0.3096  loss_rpn_cls: 0.003892  loss_rpn_loc: 0.03679  time: 0.2729  data_time: 0.0016  lr: 0.001  max_mem: 3149M\n",
      "\u001b[32m[10/19 18:01:51 d2.utils.events]: \u001b[0m eta: 0:57:31  iter: 7399  total_loss: 0.4625  loss_cls: 0.1184  loss_box_reg: 0.3  loss_rpn_cls: 0.003361  loss_rpn_loc: 0.03477  time: 0.2729  data_time: 0.0017  lr: 0.001  max_mem: 3149M\n",
      "\u001b[32m[10/19 18:01:57 d2.utils.events]: \u001b[0m eta: 0:57:27  iter: 7419  total_loss: 0.4533  loss_cls: 0.107  loss_box_reg: 0.304  loss_rpn_cls: 0.003839  loss_rpn_loc: 0.01737  time: 0.2729  data_time: 0.0017  lr: 0.001  max_mem: 3149M\n",
      "\u001b[32m[10/19 18:02:02 d2.utils.events]: \u001b[0m eta: 0:57:21  iter: 7439  total_loss: 0.4604  loss_cls: 0.1012  loss_box_reg: 0.3143  loss_rpn_cls: 0.003324  loss_rpn_loc: 0.02096  time: 0.2729  data_time: 0.0017  lr: 0.001  max_mem: 3149M\n",
      "\u001b[32m[10/19 18:02:08 d2.utils.events]: \u001b[0m eta: 0:57:15  iter: 7459  total_loss: 0.4622  loss_cls: 0.08991  loss_box_reg: 0.3307  loss_rpn_cls: 0.004265  loss_rpn_loc: 0.01594  time: 0.2729  data_time: 0.0017  lr: 0.001  max_mem: 3149M\n",
      "\u001b[32m[10/19 18:02:13 d2.utils.events]: \u001b[0m eta: 0:57:10  iter: 7479  total_loss: 0.4499  loss_cls: 0.08158  loss_box_reg: 0.301  loss_rpn_cls: 0.00333  loss_rpn_loc: 0.02791  time: 0.2729  data_time: 0.0017  lr: 0.001  max_mem: 3149M\n",
      "\u001b[32m[10/19 18:02:19 d2.utils.events]: \u001b[0m eta: 0:57:04  iter: 7499  total_loss: 0.4529  loss_cls: 0.08231  loss_box_reg: 0.2931  loss_rpn_cls: 0.003942  loss_rpn_loc: 0.01979  time: 0.2730  data_time: 0.0017  lr: 0.001  max_mem: 3149M\n",
      "\u001b[32m[10/19 18:02:24 d2.utils.events]: \u001b[0m eta: 0:56:58  iter: 7519  total_loss: 0.5195  loss_cls: 0.1179  loss_box_reg: 0.3373  loss_rpn_cls: 0.005458  loss_rpn_loc: 0.02167  time: 0.2729  data_time: 0.0017  lr: 0.001  max_mem: 3149M\n",
      "\u001b[32m[10/19 18:02:30 d2.utils.events]: \u001b[0m eta: 0:56:52  iter: 7539  total_loss: 0.3856  loss_cls: 0.08808  loss_box_reg: 0.2971  loss_rpn_cls: 0.003714  loss_rpn_loc: 0.01762  time: 0.2729  data_time: 0.0016  lr: 0.001  max_mem: 3149M\n",
      "\u001b[32m[10/19 18:02:35 d2.utils.events]: \u001b[0m eta: 0:56:47  iter: 7559  total_loss: 0.4431  loss_cls: 0.1039  loss_box_reg: 0.2966  loss_rpn_cls: 0.00417  loss_rpn_loc: 0.03322  time: 0.2730  data_time: 0.0016  lr: 0.001  max_mem: 3149M\n",
      "\u001b[32m[10/19 18:02:41 d2.utils.events]: \u001b[0m eta: 0:56:40  iter: 7579  total_loss: 0.4191  loss_cls: 0.09009  loss_box_reg: 0.295  loss_rpn_cls: 0.003695  loss_rpn_loc: 0.02312  time: 0.2729  data_time: 0.0017  lr: 0.001  max_mem: 3149M\n",
      "\u001b[32m[10/19 18:02:46 d2.utils.events]: \u001b[0m eta: 0:56:35  iter: 7599  total_loss: 0.4708  loss_cls: 0.0934  loss_box_reg: 0.355  loss_rpn_cls: 0.004972  loss_rpn_loc: 0.0344  time: 0.2729  data_time: 0.0016  lr: 0.001  max_mem: 3149M\n",
      "\u001b[32m[10/19 18:02:52 d2.utils.events]: \u001b[0m eta: 0:56:30  iter: 7619  total_loss: 0.5024  loss_cls: 0.1235  loss_box_reg: 0.3214  loss_rpn_cls: 0.003186  loss_rpn_loc: 0.03456  time: 0.2729  data_time: 0.0016  lr: 0.001  max_mem: 3149M\n",
      "\u001b[32m[10/19 18:02:57 d2.utils.events]: \u001b[0m eta: 0:56:24  iter: 7639  total_loss: 0.4584  loss_cls: 0.09733  loss_box_reg: 0.3038  loss_rpn_cls: 0.003329  loss_rpn_loc: 0.04355  time: 0.2729  data_time: 0.0016  lr: 0.001  max_mem: 3149M\n",
      "\u001b[32m[10/19 18:03:03 d2.utils.events]: \u001b[0m eta: 0:56:18  iter: 7659  total_loss: 0.4453  loss_cls: 0.09821  loss_box_reg: 0.2807  loss_rpn_cls: 0.002707  loss_rpn_loc: 0.02589  time: 0.2729  data_time: 0.0016  lr: 0.001  max_mem: 3149M\n",
      "\u001b[32m[10/19 18:03:08 d2.utils.events]: \u001b[0m eta: 0:56:13  iter: 7679  total_loss: 0.411  loss_cls: 0.07718  loss_box_reg: 0.3059  loss_rpn_cls: 0.004461  loss_rpn_loc: 0.02717  time: 0.2729  data_time: 0.0016  lr: 0.001  max_mem: 3149M\n",
      "\u001b[32m[10/19 18:03:14 d2.utils.events]: \u001b[0m eta: 0:56:07  iter: 7699  total_loss: 0.4426  loss_cls: 0.08791  loss_box_reg: 0.3011  loss_rpn_cls: 0.005113  loss_rpn_loc: 0.03431  time: 0.2730  data_time: 0.0017  lr: 0.001  max_mem: 3149M\n",
      "\u001b[32m[10/19 18:03:19 d2.utils.events]: \u001b[0m eta: 0:56:01  iter: 7719  total_loss: 0.4239  loss_cls: 0.1095  loss_box_reg: 0.2903  loss_rpn_cls: 0.00414  loss_rpn_loc: 0.02841  time: 0.2730  data_time: 0.0017  lr: 0.001  max_mem: 3149M\n",
      "\u001b[32m[10/19 18:03:25 d2.utils.events]: \u001b[0m eta: 0:55:55  iter: 7739  total_loss: 0.452  loss_cls: 0.1  loss_box_reg: 0.2956  loss_rpn_cls: 0.003065  loss_rpn_loc: 0.02083  time: 0.2730  data_time: 0.0016  lr: 0.001  max_mem: 3149M\n",
      "\u001b[32m[10/19 18:03:30 d2.utils.events]: \u001b[0m eta: 0:55:48  iter: 7759  total_loss: 0.4837  loss_cls: 0.09403  loss_box_reg: 0.2994  loss_rpn_cls: 0.00413  loss_rpn_loc: 0.02034  time: 0.2730  data_time: 0.0017  lr: 0.001  max_mem: 3149M\n",
      "\u001b[32m[10/19 18:03:36 d2.utils.events]: \u001b[0m eta: 0:55:42  iter: 7779  total_loss: 0.4119  loss_cls: 0.0706  loss_box_reg: 0.2751  loss_rpn_cls: 0.002839  loss_rpn_loc: 0.04228  time: 0.2730  data_time: 0.0016  lr: 0.001  max_mem: 3149M\n",
      "\u001b[32m[10/19 18:03:41 d2.utils.events]: \u001b[0m eta: 0:55:36  iter: 7799  total_loss: 0.4676  loss_cls: 0.1054  loss_box_reg: 0.3148  loss_rpn_cls: 0.004619  loss_rpn_loc: 0.03155  time: 0.2730  data_time: 0.0018  lr: 0.001  max_mem: 3149M\n",
      "\u001b[32m[10/19 18:03:46 d2.utils.events]: \u001b[0m eta: 0:55:32  iter: 7819  total_loss: 0.4171  loss_cls: 0.1026  loss_box_reg: 0.2867  loss_rpn_cls: 0.003908  loss_rpn_loc: 0.0232  time: 0.2730  data_time: 0.0016  lr: 0.001  max_mem: 3149M\n",
      "\u001b[32m[10/19 18:03:52 d2.utils.events]: \u001b[0m eta: 0:55:27  iter: 7839  total_loss: 0.4176  loss_cls: 0.1106  loss_box_reg: 0.2751  loss_rpn_cls: 0.002637  loss_rpn_loc: 0.0318  time: 0.2730  data_time: 0.0016  lr: 0.001  max_mem: 3149M\n",
      "\u001b[32m[10/19 18:03:57 d2.utils.events]: \u001b[0m eta: 0:55:21  iter: 7859  total_loss: 0.4584  loss_cls: 0.09431  loss_box_reg: 0.3045  loss_rpn_cls: 0.004124  loss_rpn_loc: 0.02761  time: 0.2729  data_time: 0.0016  lr: 0.001  max_mem: 3149M\n",
      "\u001b[32m[10/19 18:04:03 d2.utils.events]: \u001b[0m eta: 0:55:16  iter: 7879  total_loss: 0.445  loss_cls: 0.105  loss_box_reg: 0.279  loss_rpn_cls: 0.003599  loss_rpn_loc: 0.02166  time: 0.2730  data_time: 0.0017  lr: 0.001  max_mem: 3149M\n",
      "\u001b[32m[10/19 18:04:08 d2.utils.events]: \u001b[0m eta: 0:55:10  iter: 7899  total_loss: 0.3852  loss_cls: 0.08169  loss_box_reg: 0.293  loss_rpn_cls: 0.002623  loss_rpn_loc: 0.01765  time: 0.2730  data_time: 0.0017  lr: 0.001  max_mem: 3149M\n",
      "\u001b[32m[10/19 18:04:14 d2.utils.events]: \u001b[0m eta: 0:55:05  iter: 7919  total_loss: 0.4228  loss_cls: 0.08425  loss_box_reg: 0.2732  loss_rpn_cls: 0.002022  loss_rpn_loc: 0.01905  time: 0.2729  data_time: 0.0016  lr: 0.001  max_mem: 3149M\n",
      "\u001b[32m[10/19 18:04:19 d2.utils.events]: \u001b[0m eta: 0:54:59  iter: 7939  total_loss: 0.4145  loss_cls: 0.09057  loss_box_reg: 0.2986  loss_rpn_cls: 0.003118  loss_rpn_loc: 0.03927  time: 0.2730  data_time: 0.0017  lr: 0.001  max_mem: 3149M\n",
      "\u001b[32m[10/19 18:04:25 d2.utils.events]: \u001b[0m eta: 0:54:54  iter: 7959  total_loss: 0.4362  loss_cls: 0.09466  loss_box_reg: 0.3029  loss_rpn_cls: 0.003916  loss_rpn_loc: 0.02654  time: 0.2729  data_time: 0.0017  lr: 0.001  max_mem: 3149M\n",
      "\u001b[32m[10/19 18:04:30 d2.utils.events]: \u001b[0m eta: 0:54:48  iter: 7979  total_loss: 0.4639  loss_cls: 0.1105  loss_box_reg: 0.3124  loss_rpn_cls: 0.005176  loss_rpn_loc: 0.03349  time: 0.2730  data_time: 0.0017  lr: 0.001  max_mem: 3149M\n",
      "\u001b[32m[10/19 18:04:36 d2.utils.events]: \u001b[0m eta: 0:54:43  iter: 7999  total_loss: 0.4508  loss_cls: 0.1006  loss_box_reg: 0.3087  loss_rpn_cls: 0.003891  loss_rpn_loc: 0.03352  time: 0.2730  data_time: 0.0017  lr: 0.001  max_mem: 3149M\n",
      "\u001b[32m[10/19 18:04:41 d2.utils.events]: \u001b[0m eta: 0:54:37  iter: 8019  total_loss: 0.4076  loss_cls: 0.08593  loss_box_reg: 0.3104  loss_rpn_cls: 0.003992  loss_rpn_loc: 0.02181  time: 0.2730  data_time: 0.0017  lr: 0.001  max_mem: 3149M\n",
      "\u001b[32m[10/19 18:04:47 d2.utils.events]: \u001b[0m eta: 0:54:32  iter: 8039  total_loss: 0.5263  loss_cls: 0.1039  loss_box_reg: 0.3254  loss_rpn_cls: 0.005985  loss_rpn_loc: 0.04236  time: 0.2730  data_time: 0.0017  lr: 0.001  max_mem: 3149M\n",
      "\u001b[32m[10/19 18:04:52 d2.utils.events]: \u001b[0m eta: 0:54:25  iter: 8059  total_loss: 0.4361  loss_cls: 0.09376  loss_box_reg: 0.2794  loss_rpn_cls: 0.002648  loss_rpn_loc: 0.01815  time: 0.2729  data_time: 0.0017  lr: 0.001  max_mem: 3149M\n",
      "\u001b[32m[10/19 18:04:58 d2.utils.events]: \u001b[0m eta: 0:54:20  iter: 8079  total_loss: 0.4402  loss_cls: 0.08676  loss_box_reg: 0.3076  loss_rpn_cls: 0.003943  loss_rpn_loc: 0.02979  time: 0.2730  data_time: 0.0016  lr: 0.001  max_mem: 3149M\n",
      "\u001b[32m[10/19 18:05:03 d2.utils.events]: \u001b[0m eta: 0:54:15  iter: 8099  total_loss: 0.3961  loss_cls: 0.08965  loss_box_reg: 0.2853  loss_rpn_cls: 0.002771  loss_rpn_loc: 0.02238  time: 0.2730  data_time: 0.0017  lr: 0.001  max_mem: 3149M\n",
      "\u001b[32m[10/19 18:05:09 d2.utils.events]: \u001b[0m eta: 0:54:09  iter: 8119  total_loss: 0.4733  loss_cls: 0.121  loss_box_reg: 0.2987  loss_rpn_cls: 0.004557  loss_rpn_loc: 0.04248  time: 0.2730  data_time: 0.0017  lr: 0.001  max_mem: 3149M\n",
      "\u001b[32m[10/19 18:05:14 d2.utils.events]: \u001b[0m eta: 0:54:03  iter: 8139  total_loss: 0.4376  loss_cls: 0.1134  loss_box_reg: 0.3144  loss_rpn_cls: 0.003901  loss_rpn_loc: 0.02288  time: 0.2730  data_time: 0.0016  lr: 0.001  max_mem: 3149M\n",
      "\u001b[32m[10/19 18:05:20 d2.utils.events]: \u001b[0m eta: 0:53:58  iter: 8159  total_loss: 0.4784  loss_cls: 0.106  loss_box_reg: 0.3151  loss_rpn_cls: 0.006344  loss_rpn_loc: 0.02433  time: 0.2730  data_time: 0.0016  lr: 0.001  max_mem: 3149M\n",
      "\u001b[32m[10/19 18:05:25 d2.utils.events]: \u001b[0m eta: 0:53:52  iter: 8179  total_loss: 0.4193  loss_cls: 0.09442  loss_box_reg: 0.3173  loss_rpn_cls: 0.002224  loss_rpn_loc: 0.02017  time: 0.2730  data_time: 0.0017  lr: 0.001  max_mem: 3149M\n",
      "\u001b[32m[10/19 18:05:30 d2.utils.events]: \u001b[0m eta: 0:53:46  iter: 8199  total_loss: 0.4051  loss_cls: 0.1098  loss_box_reg: 0.2949  loss_rpn_cls: 0.004466  loss_rpn_loc: 0.02352  time: 0.2730  data_time: 0.0017  lr: 0.001  max_mem: 3149M\n",
      "\u001b[32m[10/19 18:05:36 d2.utils.events]: \u001b[0m eta: 0:53:40  iter: 8219  total_loss: 0.4411  loss_cls: 0.07706  loss_box_reg: 0.3064  loss_rpn_cls: 0.003354  loss_rpn_loc: 0.03405  time: 0.2730  data_time: 0.0017  lr: 0.001  max_mem: 3149M\n",
      "\u001b[32m[10/19 18:05:41 d2.utils.events]: \u001b[0m eta: 0:53:34  iter: 8239  total_loss: 0.4497  loss_cls: 0.132  loss_box_reg: 0.2972  loss_rpn_cls: 0.003796  loss_rpn_loc: 0.0334  time: 0.2729  data_time: 0.0016  lr: 0.001  max_mem: 3149M\n",
      "\u001b[32m[10/19 18:05:47 d2.utils.events]: \u001b[0m eta: 0:53:29  iter: 8259  total_loss: 0.4648  loss_cls: 0.09653  loss_box_reg: 0.2959  loss_rpn_cls: 0.004251  loss_rpn_loc: 0.02795  time: 0.2730  data_time: 0.0017  lr: 0.001  max_mem: 3149M\n",
      "\u001b[32m[10/19 18:05:52 d2.utils.events]: \u001b[0m eta: 0:53:22  iter: 8279  total_loss: 0.4274  loss_cls: 0.08074  loss_box_reg: 0.2814  loss_rpn_cls: 0.002663  loss_rpn_loc: 0.02307  time: 0.2729  data_time: 0.0017  lr: 0.001  max_mem: 3149M\n",
      "\u001b[32m[10/19 18:05:57 d2.utils.events]: \u001b[0m eta: 0:53:17  iter: 8299  total_loss: 0.4737  loss_cls: 0.08473  loss_box_reg: 0.313  loss_rpn_cls: 0.004682  loss_rpn_loc: 0.03501  time: 0.2729  data_time: 0.0017  lr: 0.001  max_mem: 3149M\n",
      "\u001b[32m[10/19 18:06:03 d2.utils.events]: \u001b[0m eta: 0:53:11  iter: 8319  total_loss: 0.4472  loss_cls: 0.1152  loss_box_reg: 0.2916  loss_rpn_cls: 0.002988  loss_rpn_loc: 0.02849  time: 0.2729  data_time: 0.0017  lr: 0.001  max_mem: 3149M\n",
      "\u001b[32m[10/19 18:06:08 d2.utils.events]: \u001b[0m eta: 0:53:06  iter: 8339  total_loss: 0.3865  loss_cls: 0.06629  loss_box_reg: 0.2779  loss_rpn_cls: 0.002971  loss_rpn_loc: 0.03079  time: 0.2729  data_time: 0.0017  lr: 0.001  max_mem: 3149M\n",
      "\u001b[32m[10/19 18:06:14 d2.utils.events]: \u001b[0m eta: 0:53:00  iter: 8359  total_loss: 0.4422  loss_cls: 0.1081  loss_box_reg: 0.2907  loss_rpn_cls: 0.003956  loss_rpn_loc: 0.03055  time: 0.2730  data_time: 0.0017  lr: 0.001  max_mem: 3149M\n",
      "\u001b[32m[10/19 18:06:20 d2.utils.events]: \u001b[0m eta: 0:52:54  iter: 8379  total_loss: 0.5023  loss_cls: 0.09596  loss_box_reg: 0.3128  loss_rpn_cls: 0.003921  loss_rpn_loc: 0.04154  time: 0.2730  data_time: 0.0016  lr: 0.001  max_mem: 3149M\n",
      "\u001b[32m[10/19 18:06:25 d2.utils.events]: \u001b[0m eta: 0:52:49  iter: 8399  total_loss: 0.5001  loss_cls: 0.09678  loss_box_reg: 0.3148  loss_rpn_cls: 0.004149  loss_rpn_loc: 0.03986  time: 0.2730  data_time: 0.0017  lr: 0.001  max_mem: 3149M\n",
      "\u001b[32m[10/19 18:06:31 d2.utils.events]: \u001b[0m eta: 0:52:42  iter: 8419  total_loss: 0.4517  loss_cls: 0.1141  loss_box_reg: 0.2888  loss_rpn_cls: 0.002817  loss_rpn_loc: 0.01893  time: 0.2730  data_time: 0.0017  lr: 0.001  max_mem: 3149M\n",
      "\u001b[32m[10/19 18:06:36 d2.utils.events]: \u001b[0m eta: 0:52:35  iter: 8439  total_loss: 0.3527  loss_cls: 0.08422  loss_box_reg: 0.2421  loss_rpn_cls: 0.002535  loss_rpn_loc: 0.01658  time: 0.2730  data_time: 0.0017  lr: 0.001  max_mem: 3149M\n",
      "\u001b[32m[10/19 18:06:42 d2.utils.events]: \u001b[0m eta: 0:52:30  iter: 8459  total_loss: 0.4374  loss_cls: 0.09955  loss_box_reg: 0.2989  loss_rpn_cls: 0.004186  loss_rpn_loc: 0.02804  time: 0.2730  data_time: 0.0018  lr: 0.001  max_mem: 3149M\n",
      "\u001b[32m[10/19 18:06:47 d2.utils.events]: \u001b[0m eta: 0:52:25  iter: 8479  total_loss: 0.4831  loss_cls: 0.1114  loss_box_reg: 0.3025  loss_rpn_cls: 0.00338  loss_rpn_loc: 0.02957  time: 0.2730  data_time: 0.0017  lr: 0.001  max_mem: 3149M\n",
      "\u001b[32m[10/19 18:06:53 d2.utils.events]: \u001b[0m eta: 0:52:18  iter: 8499  total_loss: 0.4344  loss_cls: 0.09419  loss_box_reg: 0.2771  loss_rpn_cls: 0.003419  loss_rpn_loc: 0.02606  time: 0.2730  data_time: 0.0017  lr: 0.001  max_mem: 3149M\n",
      "\u001b[32m[10/19 18:06:58 d2.utils.events]: \u001b[0m eta: 0:52:14  iter: 8519  total_loss: 0.4841  loss_cls: 0.1138  loss_box_reg: 0.3289  loss_rpn_cls: 0.002121  loss_rpn_loc: 0.02368  time: 0.2730  data_time: 0.0017  lr: 0.001  max_mem: 3149M\n",
      "\u001b[32m[10/19 18:07:04 d2.utils.events]: \u001b[0m eta: 0:52:07  iter: 8539  total_loss: 0.4498  loss_cls: 0.1016  loss_box_reg: 0.293  loss_rpn_cls: 0.003162  loss_rpn_loc: 0.02566  time: 0.2730  data_time: 0.0018  lr: 0.001  max_mem: 3149M\n",
      "\u001b[32m[10/19 18:07:09 d2.utils.events]: \u001b[0m eta: 0:52:01  iter: 8559  total_loss: 0.4383  loss_cls: 0.08696  loss_box_reg: 0.2982  loss_rpn_cls: 0.003459  loss_rpn_loc: 0.03415  time: 0.2730  data_time: 0.0017  lr: 0.001  max_mem: 3149M\n",
      "\u001b[32m[10/19 18:07:14 d2.utils.events]: \u001b[0m eta: 0:51:55  iter: 8579  total_loss: 0.4177  loss_cls: 0.0753  loss_box_reg: 0.2975  loss_rpn_cls: 0.004212  loss_rpn_loc: 0.04057  time: 0.2730  data_time: 0.0017  lr: 0.001  max_mem: 3149M\n",
      "\u001b[32m[10/19 18:07:20 d2.utils.events]: \u001b[0m eta: 0:51:49  iter: 8599  total_loss: 0.4977  loss_cls: 0.1165  loss_box_reg: 0.3365  loss_rpn_cls: 0.004962  loss_rpn_loc: 0.02199  time: 0.2730  data_time: 0.0017  lr: 0.001  max_mem: 3149M\n",
      "\u001b[32m[10/19 18:07:25 d2.utils.events]: \u001b[0m eta: 0:51:42  iter: 8619  total_loss: 0.4583  loss_cls: 0.08277  loss_box_reg: 0.3147  loss_rpn_cls: 0.003438  loss_rpn_loc: 0.02561  time: 0.2730  data_time: 0.0017  lr: 0.001  max_mem: 3149M\n",
      "\u001b[32m[10/19 18:07:31 d2.utils.events]: \u001b[0m eta: 0:51:37  iter: 8639  total_loss: 0.368  loss_cls: 0.06263  loss_box_reg: 0.2637  loss_rpn_cls: 0.00313  loss_rpn_loc: 0.02248  time: 0.2730  data_time: 0.0017  lr: 0.001  max_mem: 3149M\n",
      "\u001b[32m[10/19 18:07:36 d2.utils.events]: \u001b[0m eta: 0:51:31  iter: 8659  total_loss: 0.4064  loss_cls: 0.08386  loss_box_reg: 0.2967  loss_rpn_cls: 0.002264  loss_rpn_loc: 0.01573  time: 0.2730  data_time: 0.0017  lr: 0.001  max_mem: 3149M\n",
      "\u001b[32m[10/19 18:07:42 d2.utils.events]: \u001b[0m eta: 0:51:25  iter: 8679  total_loss: 0.3951  loss_cls: 0.08752  loss_box_reg: 0.2833  loss_rpn_cls: 0.002258  loss_rpn_loc: 0.0208  time: 0.2730  data_time: 0.0017  lr: 0.001  max_mem: 3149M\n",
      "\u001b[32m[10/19 18:07:47 d2.utils.events]: \u001b[0m eta: 0:51:19  iter: 8699  total_loss: 0.4743  loss_cls: 0.1019  loss_box_reg: 0.3231  loss_rpn_cls: 0.003155  loss_rpn_loc: 0.02207  time: 0.2730  data_time: 0.0017  lr: 0.001  max_mem: 3149M\n",
      "\u001b[32m[10/19 18:07:53 d2.utils.events]: \u001b[0m eta: 0:51:13  iter: 8719  total_loss: 0.4403  loss_cls: 0.1055  loss_box_reg: 0.3044  loss_rpn_cls: 0.003343  loss_rpn_loc: 0.02683  time: 0.2730  data_time: 0.0017  lr: 0.001  max_mem: 3149M\n",
      "\u001b[32m[10/19 18:07:58 d2.utils.events]: \u001b[0m eta: 0:51:10  iter: 8739  total_loss: 0.4077  loss_cls: 0.09859  loss_box_reg: 0.2822  loss_rpn_cls: 0.002999  loss_rpn_loc: 0.02489  time: 0.2730  data_time: 0.0016  lr: 0.001  max_mem: 3149M\n",
      "\u001b[32m[10/19 18:08:04 d2.utils.events]: \u001b[0m eta: 0:51:04  iter: 8759  total_loss: 0.4534  loss_cls: 0.0972  loss_box_reg: 0.2963  loss_rpn_cls: 0.002933  loss_rpn_loc: 0.04151  time: 0.2730  data_time: 0.0016  lr: 0.001  max_mem: 3149M\n",
      "\u001b[32m[10/19 18:08:09 d2.utils.events]: \u001b[0m eta: 0:50:58  iter: 8779  total_loss: 0.4326  loss_cls: 0.09966  loss_box_reg: 0.2926  loss_rpn_cls: 0.004944  loss_rpn_loc: 0.03705  time: 0.2730  data_time: 0.0017  lr: 0.001  max_mem: 3149M\n",
      "\u001b[32m[10/19 18:08:14 d2.utils.events]: \u001b[0m eta: 0:50:50  iter: 8799  total_loss: 0.4177  loss_cls: 0.09567  loss_box_reg: 0.3096  loss_rpn_cls: 0.00454  loss_rpn_loc: 0.02233  time: 0.2730  data_time: 0.0016  lr: 0.001  max_mem: 3149M\n",
      "\u001b[32m[10/19 18:08:20 d2.utils.events]: \u001b[0m eta: 0:50:45  iter: 8819  total_loss: 0.3946  loss_cls: 0.07168  loss_box_reg: 0.2887  loss_rpn_cls: 0.002334  loss_rpn_loc: 0.03014  time: 0.2730  data_time: 0.0017  lr: 0.001  max_mem: 3149M\n",
      "\u001b[32m[10/19 18:08:25 d2.utils.events]: \u001b[0m eta: 0:50:38  iter: 8839  total_loss: 0.4556  loss_cls: 0.1144  loss_box_reg: 0.3099  loss_rpn_cls: 0.00373  loss_rpn_loc: 0.02617  time: 0.2730  data_time: 0.0017  lr: 0.001  max_mem: 3149M\n",
      "\u001b[32m[10/19 18:08:31 d2.utils.events]: \u001b[0m eta: 0:50:33  iter: 8859  total_loss: 0.3909  loss_cls: 0.0863  loss_box_reg: 0.2778  loss_rpn_cls: 0.005134  loss_rpn_loc: 0.02254  time: 0.2730  data_time: 0.0017  lr: 0.001  max_mem: 3149M\n",
      "\u001b[32m[10/19 18:08:36 d2.utils.events]: \u001b[0m eta: 0:50:26  iter: 8879  total_loss: 0.4545  loss_cls: 0.1019  loss_box_reg: 0.2989  loss_rpn_cls: 0.003152  loss_rpn_loc: 0.04199  time: 0.2730  data_time: 0.0016  lr: 0.001  max_mem: 3149M\n",
      "\u001b[32m[10/19 18:08:42 d2.utils.events]: \u001b[0m eta: 0:50:21  iter: 8899  total_loss: 0.4101  loss_cls: 0.1034  loss_box_reg: 0.2737  loss_rpn_cls: 0.002117  loss_rpn_loc: 0.02033  time: 0.2730  data_time: 0.0017  lr: 0.001  max_mem: 3149M\n",
      "\u001b[32m[10/19 18:08:47 d2.utils.events]: \u001b[0m eta: 0:50:16  iter: 8919  total_loss: 0.4033  loss_cls: 0.07735  loss_box_reg: 0.273  loss_rpn_cls: 0.003101  loss_rpn_loc: 0.02538  time: 0.2730  data_time: 0.0017  lr: 0.001  max_mem: 3149M\n",
      "\u001b[32m[10/19 18:08:52 d2.utils.events]: \u001b[0m eta: 0:50:11  iter: 8939  total_loss: 0.4473  loss_cls: 0.103  loss_box_reg: 0.2886  loss_rpn_cls: 0.002025  loss_rpn_loc: 0.02005  time: 0.2729  data_time: 0.0017  lr: 0.001  max_mem: 3149M\n",
      "\u001b[32m[10/19 18:08:58 d2.utils.events]: \u001b[0m eta: 0:50:05  iter: 8959  total_loss: 0.4266  loss_cls: 0.09513  loss_box_reg: 0.2805  loss_rpn_cls: 0.00302  loss_rpn_loc: 0.03799  time: 0.2729  data_time: 0.0017  lr: 0.001  max_mem: 3149M\n",
      "\u001b[32m[10/19 18:09:03 d2.utils.events]: \u001b[0m eta: 0:49:59  iter: 8979  total_loss: 0.4115  loss_cls: 0.08183  loss_box_reg: 0.2789  loss_rpn_cls: 0.004181  loss_rpn_loc: 0.02336  time: 0.2729  data_time: 0.0017  lr: 0.001  max_mem: 3149M\n",
      "\u001b[32m[10/19 18:09:09 d2.utils.events]: \u001b[0m eta: 0:49:53  iter: 8999  total_loss: 0.4081  loss_cls: 0.08239  loss_box_reg: 0.2815  loss_rpn_cls: 0.005409  loss_rpn_loc: 0.02979  time: 0.2729  data_time: 0.0017  lr: 0.001  max_mem: 3149M\n",
      "\u001b[32m[10/19 18:09:14 d2.utils.events]: \u001b[0m eta: 0:49:46  iter: 9019  total_loss: 0.4524  loss_cls: 0.09855  loss_box_reg: 0.2924  loss_rpn_cls: 0.005487  loss_rpn_loc: 0.04098  time: 0.2729  data_time: 0.0017  lr: 0.001  max_mem: 3149M\n",
      "\u001b[32m[10/19 18:09:19 d2.utils.events]: \u001b[0m eta: 0:49:40  iter: 9039  total_loss: 0.3938  loss_cls: 0.09973  loss_box_reg: 0.2697  loss_rpn_cls: 0.003348  loss_rpn_loc: 0.02147  time: 0.2729  data_time: 0.0016  lr: 0.001  max_mem: 3149M\n",
      "\u001b[32m[10/19 18:09:25 d2.utils.events]: \u001b[0m eta: 0:49:35  iter: 9059  total_loss: 0.4035  loss_cls: 0.108  loss_box_reg: 0.2713  loss_rpn_cls: 0.002515  loss_rpn_loc: 0.02406  time: 0.2729  data_time: 0.0016  lr: 0.001  max_mem: 3149M\n",
      "\u001b[32m[10/19 18:09:30 d2.utils.events]: \u001b[0m eta: 0:49:28  iter: 9079  total_loss: 0.4073  loss_cls: 0.08257  loss_box_reg: 0.2907  loss_rpn_cls: 0.003486  loss_rpn_loc: 0.02073  time: 0.2729  data_time: 0.0017  lr: 0.001  max_mem: 3149M\n",
      "\u001b[32m[10/19 18:09:36 d2.utils.events]: \u001b[0m eta: 0:49:22  iter: 9099  total_loss: 0.4488  loss_cls: 0.07101  loss_box_reg: 0.2973  loss_rpn_cls: 0.00425  loss_rpn_loc: 0.05884  time: 0.2729  data_time: 0.0016  lr: 0.001  max_mem: 3149M\n",
      "\u001b[32m[10/19 18:09:41 d2.utils.events]: \u001b[0m eta: 0:49:16  iter: 9119  total_loss: 0.4366  loss_cls: 0.0758  loss_box_reg: 0.2921  loss_rpn_cls: 0.00379  loss_rpn_loc: 0.0269  time: 0.2729  data_time: 0.0016  lr: 0.001  max_mem: 3149M\n",
      "\u001b[32m[10/19 18:09:47 d2.utils.events]: \u001b[0m eta: 0:49:09  iter: 9139  total_loss: 0.4479  loss_cls: 0.09623  loss_box_reg: 0.2811  loss_rpn_cls: 0.003962  loss_rpn_loc: 0.03593  time: 0.2729  data_time: 0.0017  lr: 0.001  max_mem: 3149M\n",
      "\u001b[32m[10/19 18:09:52 d2.utils.events]: \u001b[0m eta: 0:48:47  iter: 9159  total_loss: 0.4213  loss_cls: 0.09496  loss_box_reg: 0.3033  loss_rpn_cls: 0.003213  loss_rpn_loc: 0.02611  time: 0.2729  data_time: 0.0017  lr: 0.001  max_mem: 3149M\n",
      "\u001b[32m[10/19 18:09:57 d2.utils.events]: \u001b[0m eta: 0:48:42  iter: 9179  total_loss: 0.4059  loss_cls: 0.07118  loss_box_reg: 0.2844  loss_rpn_cls: 0.002989  loss_rpn_loc: 0.0239  time: 0.2729  data_time: 0.0017  lr: 0.001  max_mem: 3149M\n",
      "\u001b[32m[10/19 18:10:03 d2.utils.events]: \u001b[0m eta: 0:48:52  iter: 9199  total_loss: 0.4068  loss_cls: 0.08112  loss_box_reg: 0.2631  loss_rpn_cls: 0.004063  loss_rpn_loc: 0.02666  time: 0.2729  data_time: 0.0017  lr: 0.001  max_mem: 3149M\n",
      "\u001b[32m[10/19 18:10:08 d2.utils.events]: \u001b[0m eta: 0:48:47  iter: 9219  total_loss: 0.4022  loss_cls: 0.09674  loss_box_reg: 0.2741  loss_rpn_cls: 0.003897  loss_rpn_loc: 0.02807  time: 0.2729  data_time: 0.0018  lr: 0.001  max_mem: 3149M\n",
      "\u001b[32m[10/19 18:10:14 d2.utils.events]: \u001b[0m eta: 0:48:42  iter: 9239  total_loss: 0.3936  loss_cls: 0.05857  loss_box_reg: 0.2768  loss_rpn_cls: 0.002713  loss_rpn_loc: 0.01986  time: 0.2729  data_time: 0.0016  lr: 0.001  max_mem: 3149M\n",
      "\u001b[32m[10/19 18:10:19 d2.utils.events]: \u001b[0m eta: 0:48:35  iter: 9259  total_loss: 0.4179  loss_cls: 0.08907  loss_box_reg: 0.2827  loss_rpn_cls: 0.004171  loss_rpn_loc: 0.03165  time: 0.2729  data_time: 0.0018  lr: 0.001  max_mem: 3149M\n",
      "\u001b[32m[10/19 18:10:25 d2.utils.events]: \u001b[0m eta: 0:48:30  iter: 9279  total_loss: 0.3854  loss_cls: 0.09144  loss_box_reg: 0.276  loss_rpn_cls: 0.002606  loss_rpn_loc: 0.02091  time: 0.2729  data_time: 0.0017  lr: 0.001  max_mem: 3149M\n",
      "\u001b[32m[10/19 18:10:30 d2.utils.events]: \u001b[0m eta: 0:48:24  iter: 9299  total_loss: 0.437  loss_cls: 0.07799  loss_box_reg: 0.3  loss_rpn_cls: 0.00345  loss_rpn_loc: 0.02316  time: 0.2729  data_time: 0.0017  lr: 0.001  max_mem: 3149M\n",
      "\u001b[32m[10/19 18:10:36 d2.utils.events]: \u001b[0m eta: 0:48:18  iter: 9319  total_loss: 0.4078  loss_cls: 0.08398  loss_box_reg: 0.308  loss_rpn_cls: 0.004222  loss_rpn_loc: 0.03394  time: 0.2729  data_time: 0.0017  lr: 0.001  max_mem: 3149M\n",
      "\u001b[32m[10/19 18:10:41 d2.utils.events]: \u001b[0m eta: 0:47:39  iter: 9339  total_loss: 0.3884  loss_cls: 0.08593  loss_box_reg: 0.2835  loss_rpn_cls: 0.002167  loss_rpn_loc: 0.02195  time: 0.2729  data_time: 0.0017  lr: 0.001  max_mem: 3149M\n",
      "\u001b[32m[10/19 18:10:46 d2.utils.events]: \u001b[0m eta: 0:47:34  iter: 9359  total_loss: 0.4443  loss_cls: 0.07482  loss_box_reg: 0.2981  loss_rpn_cls: 0.002449  loss_rpn_loc: 0.03111  time: 0.2729  data_time: 0.0017  lr: 0.001  max_mem: 3149M\n",
      "\u001b[32m[10/19 18:10:52 d2.utils.events]: \u001b[0m eta: 0:47:20  iter: 9379  total_loss: 0.3511  loss_cls: 0.07851  loss_box_reg: 0.2494  loss_rpn_cls: 0.003101  loss_rpn_loc: 0.0197  time: 0.2729  data_time: 0.0016  lr: 0.001  max_mem: 3149M\n",
      "\u001b[32m[10/19 18:10:58 d2.utils.events]: \u001b[0m eta: 0:47:57  iter: 9399  total_loss: 0.4064  loss_cls: 0.08045  loss_box_reg: 0.2592  loss_rpn_cls: 0.003052  loss_rpn_loc: 0.02844  time: 0.2729  data_time: 0.0017  lr: 0.001  max_mem: 3149M\n",
      "\u001b[32m[10/19 18:11:03 d2.utils.events]: \u001b[0m eta: 0:47:52  iter: 9419  total_loss: 0.3648  loss_cls: 0.07933  loss_box_reg: 0.2507  loss_rpn_cls: 0.002764  loss_rpn_loc: 0.01519  time: 0.2729  data_time: 0.0017  lr: 0.001  max_mem: 3149M\n",
      "\u001b[32m[10/19 18:11:08 d2.utils.events]: \u001b[0m eta: 0:47:45  iter: 9439  total_loss: 0.4398  loss_cls: 0.06115  loss_box_reg: 0.2921  loss_rpn_cls: 0.002798  loss_rpn_loc: 0.02869  time: 0.2729  data_time: 0.0016  lr: 0.001  max_mem: 3149M\n",
      "\u001b[32m[10/19 18:11:14 d2.utils.events]: \u001b[0m eta: 0:47:10  iter: 9459  total_loss: 0.396  loss_cls: 0.08878  loss_box_reg: 0.2942  loss_rpn_cls: 0.002042  loss_rpn_loc: 0.02179  time: 0.2729  data_time: 0.0018  lr: 0.001  max_mem: 3149M\n",
      "\u001b[32m[10/19 18:11:19 d2.utils.events]: \u001b[0m eta: 0:46:30  iter: 9479  total_loss: 0.4393  loss_cls: 0.08985  loss_box_reg: 0.2999  loss_rpn_cls: 0.004456  loss_rpn_loc: 0.03935  time: 0.2729  data_time: 0.0017  lr: 0.001  max_mem: 3149M\n",
      "\u001b[32m[10/19 18:11:25 d2.utils.events]: \u001b[0m eta: 0:46:24  iter: 9499  total_loss: 0.4265  loss_cls: 0.08538  loss_box_reg: 0.2989  loss_rpn_cls: 0.003998  loss_rpn_loc: 0.02986  time: 0.2729  data_time: 0.0017  lr: 0.001  max_mem: 3149M\n",
      "\u001b[32m[10/19 18:11:30 d2.utils.events]: \u001b[0m eta: 0:46:11  iter: 9519  total_loss: 0.421  loss_cls: 0.09315  loss_box_reg: 0.2842  loss_rpn_cls: 0.003821  loss_rpn_loc: 0.02323  time: 0.2729  data_time: 0.0017  lr: 0.001  max_mem: 3149M\n",
      "\u001b[32m[10/19 18:11:36 d2.utils.events]: \u001b[0m eta: 0:46:19  iter: 9539  total_loss: 0.4156  loss_cls: 0.08537  loss_box_reg: 0.2952  loss_rpn_cls: 0.002887  loss_rpn_loc: 0.02383  time: 0.2729  data_time: 0.0017  lr: 0.001  max_mem: 3149M\n",
      "\u001b[32m[10/19 18:11:41 d2.utils.events]: \u001b[0m eta: 0:46:13  iter: 9559  total_loss: 0.4293  loss_cls: 0.09165  loss_box_reg: 0.3109  loss_rpn_cls: 0.004955  loss_rpn_loc: 0.02193  time: 0.2729  data_time: 0.0017  lr: 0.001  max_mem: 3149M\n",
      "\u001b[32m[10/19 18:11:47 d2.utils.events]: \u001b[0m eta: 0:45:47  iter: 9579  total_loss: 0.4182  loss_cls: 0.09157  loss_box_reg: 0.2521  loss_rpn_cls: 0.003466  loss_rpn_loc: 0.02503  time: 0.2729  data_time: 0.0017  lr: 0.001  max_mem: 3149M\n",
      "\u001b[32m[10/19 18:11:52 d2.utils.events]: \u001b[0m eta: 0:45:37  iter: 9599  total_loss: 0.467  loss_cls: 0.1092  loss_box_reg: 0.3095  loss_rpn_cls: 0.00244  loss_rpn_loc: 0.0267  time: 0.2729  data_time: 0.0017  lr: 0.001  max_mem: 3149M\n",
      "\u001b[32m[10/19 18:11:58 d2.utils.events]: \u001b[0m eta: 0:46:52  iter: 9619  total_loss: 0.4616  loss_cls: 0.09237  loss_box_reg: 0.285  loss_rpn_cls: 0.0026  loss_rpn_loc: 0.03039  time: 0.2729  data_time: 0.0017  lr: 0.001  max_mem: 3149M\n",
      "\u001b[32m[10/19 18:12:03 d2.utils.events]: \u001b[0m eta: 0:46:51  iter: 9639  total_loss: 0.4163  loss_cls: 0.0901  loss_box_reg: 0.2942  loss_rpn_cls: 0.00356  loss_rpn_loc: 0.02119  time: 0.2729  data_time: 0.0016  lr: 0.001  max_mem: 3149M\n",
      "\u001b[32m[10/19 18:12:09 d2.utils.events]: \u001b[0m eta: 0:46:46  iter: 9659  total_loss: 0.4528  loss_cls: 0.1064  loss_box_reg: 0.296  loss_rpn_cls: 0.003797  loss_rpn_loc: 0.04986  time: 0.2729  data_time: 0.0017  lr: 0.001  max_mem: 3149M\n",
      "\u001b[32m[10/19 18:12:14 d2.utils.events]: \u001b[0m eta: 0:46:39  iter: 9679  total_loss: 0.4278  loss_cls: 0.1021  loss_box_reg: 0.2954  loss_rpn_cls: 0.003203  loss_rpn_loc: 0.02579  time: 0.2729  data_time: 0.0017  lr: 0.001  max_mem: 3149M\n",
      "\u001b[32m[10/19 18:12:19 d2.utils.events]: \u001b[0m eta: 0:46:33  iter: 9699  total_loss: 0.3846  loss_cls: 0.07691  loss_box_reg: 0.2823  loss_rpn_cls: 0.002655  loss_rpn_loc: 0.01936  time: 0.2729  data_time: 0.0017  lr: 0.001  max_mem: 3149M\n",
      "\u001b[32m[10/19 18:12:25 d2.utils.events]: \u001b[0m eta: 0:46:27  iter: 9719  total_loss: 0.4103  loss_cls: 0.06612  loss_box_reg: 0.2788  loss_rpn_cls: 0.002612  loss_rpn_loc: 0.02689  time: 0.2729  data_time: 0.0017  lr: 0.001  max_mem: 3149M\n",
      "\u001b[32m[10/19 18:12:31 d2.utils.events]: \u001b[0m eta: 0:46:21  iter: 9739  total_loss: 0.4243  loss_cls: 0.09333  loss_box_reg: 0.2853  loss_rpn_cls: 0.003338  loss_rpn_loc: 0.02699  time: 0.2729  data_time: 0.0016  lr: 0.001  max_mem: 3149M\n",
      "\u001b[32m[10/19 18:12:36 d2.utils.events]: \u001b[0m eta: 0:46:14  iter: 9759  total_loss: 0.4423  loss_cls: 0.09628  loss_box_reg: 0.3018  loss_rpn_cls: 0.004568  loss_rpn_loc: 0.02795  time: 0.2729  data_time: 0.0017  lr: 0.001  max_mem: 3149M\n",
      "\u001b[32m[10/19 18:12:41 d2.utils.events]: \u001b[0m eta: 0:46:11  iter: 9779  total_loss: 0.3775  loss_cls: 0.08733  loss_box_reg: 0.2723  loss_rpn_cls: 0.003248  loss_rpn_loc: 0.02151  time: 0.2729  data_time: 0.0017  lr: 0.001  max_mem: 3149M\n",
      "\u001b[32m[10/19 18:12:47 d2.utils.events]: \u001b[0m eta: 0:46:07  iter: 9799  total_loss: 0.412  loss_cls: 0.08273  loss_box_reg: 0.2842  loss_rpn_cls: 0.005303  loss_rpn_loc: 0.03253  time: 0.2729  data_time: 0.0017  lr: 0.001  max_mem: 3149M\n",
      "\u001b[32m[10/19 18:12:52 d2.utils.events]: \u001b[0m eta: 0:46:01  iter: 9819  total_loss: 0.4148  loss_cls: 0.09449  loss_box_reg: 0.2769  loss_rpn_cls: 0.003266  loss_rpn_loc: 0.01651  time: 0.2729  data_time: 0.0016  lr: 0.001  max_mem: 3149M\n",
      "\u001b[32m[10/19 18:12:58 d2.utils.events]: \u001b[0m eta: 0:45:55  iter: 9839  total_loss: 0.3895  loss_cls: 0.07301  loss_box_reg: 0.2873  loss_rpn_cls: 0.003523  loss_rpn_loc: 0.0183  time: 0.2729  data_time: 0.0017  lr: 0.001  max_mem: 3149M\n",
      "\u001b[32m[10/19 18:13:03 d2.utils.events]: \u001b[0m eta: 0:45:49  iter: 9859  total_loss: 0.3961  loss_cls: 0.08515  loss_box_reg: 0.2867  loss_rpn_cls: 0.003634  loss_rpn_loc: 0.0247  time: 0.2729  data_time: 0.0017  lr: 0.001  max_mem: 3149M\n",
      "\u001b[32m[10/19 18:13:09 d2.utils.events]: \u001b[0m eta: 0:45:43  iter: 9879  total_loss: 0.3971  loss_cls: 0.08773  loss_box_reg: 0.2632  loss_rpn_cls: 0.002023  loss_rpn_loc: 0.02158  time: 0.2729  data_time: 0.0017  lr: 0.001  max_mem: 3149M\n",
      "\u001b[32m[10/19 18:13:14 d2.utils.events]: \u001b[0m eta: 0:45:38  iter: 9899  total_loss: 0.3763  loss_cls: 0.07341  loss_box_reg: 0.282  loss_rpn_cls: 0.004361  loss_rpn_loc: 0.02953  time: 0.2729  data_time: 0.0018  lr: 0.001  max_mem: 3149M\n",
      "\u001b[32m[10/19 18:13:19 d2.utils.events]: \u001b[0m eta: 0:45:31  iter: 9919  total_loss: 0.3689  loss_cls: 0.07613  loss_box_reg: 0.2681  loss_rpn_cls: 0.003736  loss_rpn_loc: 0.02892  time: 0.2729  data_time: 0.0017  lr: 0.001  max_mem: 3149M\n",
      "\u001b[32m[10/19 18:13:25 d2.utils.events]: \u001b[0m eta: 0:45:24  iter: 9939  total_loss: 0.4003  loss_cls: 0.09427  loss_box_reg: 0.2705  loss_rpn_cls: 0.004282  loss_rpn_loc: 0.02535  time: 0.2729  data_time: 0.0017  lr: 0.001  max_mem: 3149M\n",
      "\u001b[32m[10/19 18:13:30 d2.utils.events]: \u001b[0m eta: 0:45:20  iter: 9959  total_loss: 0.4269  loss_cls: 0.08671  loss_box_reg: 0.277  loss_rpn_cls: 0.004529  loss_rpn_loc: 0.03397  time: 0.2729  data_time: 0.0017  lr: 0.001  max_mem: 3149M\n",
      "\u001b[32m[10/19 18:13:36 d2.utils.events]: \u001b[0m eta: 0:45:14  iter: 9979  total_loss: 0.3557  loss_cls: 0.0775  loss_box_reg: 0.2586  loss_rpn_cls: 0.00288  loss_rpn_loc: 0.02167  time: 0.2729  data_time: 0.0016  lr: 0.001  max_mem: 3149M\n",
      "\u001b[32m[10/19 18:13:42 d2.utils.events]: \u001b[0m eta: 0:45:06  iter: 9999  total_loss: 0.4005  loss_cls: 0.06541  loss_box_reg: 0.2676  loss_rpn_cls: 0.003284  loss_rpn_loc: 0.03035  time: 0.2729  data_time: 0.0017  lr: 0.001  max_mem: 3149M\n",
      "\u001b[32m[10/19 18:13:47 d2.utils.events]: \u001b[0m eta: 0:45:01  iter: 10019  total_loss: 0.4695  loss_cls: 0.1162  loss_box_reg: 0.3074  loss_rpn_cls: 0.002717  loss_rpn_loc: 0.0217  time: 0.2729  data_time: 0.0017  lr: 0.001  max_mem: 3149M\n",
      "\u001b[32m[10/19 18:13:52 d2.utils.events]: \u001b[0m eta: 0:44:54  iter: 10039  total_loss: 0.4537  loss_cls: 0.08063  loss_box_reg: 0.3168  loss_rpn_cls: 0.003675  loss_rpn_loc: 0.04074  time: 0.2729  data_time: 0.0016  lr: 0.001  max_mem: 3149M\n",
      "\u001b[32m[10/19 18:13:58 d2.utils.events]: \u001b[0m eta: 0:44:52  iter: 10059  total_loss: 0.4058  loss_cls: 0.07715  loss_box_reg: 0.2804  loss_rpn_cls: 0.002629  loss_rpn_loc: 0.02554  time: 0.2729  data_time: 0.0017  lr: 0.001  max_mem: 3149M\n",
      "\u001b[32m[10/19 18:14:03 d2.utils.events]: \u001b[0m eta: 0:44:45  iter: 10079  total_loss: 0.3899  loss_cls: 0.07569  loss_box_reg: 0.2942  loss_rpn_cls: 0.003798  loss_rpn_loc: 0.02188  time: 0.2728  data_time: 0.0016  lr: 0.001  max_mem: 3149M\n",
      "\u001b[32m[10/19 18:14:09 d2.utils.events]: \u001b[0m eta: 0:44:40  iter: 10099  total_loss: 0.388  loss_cls: 0.068  loss_box_reg: 0.2729  loss_rpn_cls: 0.001117  loss_rpn_loc: 0.02886  time: 0.2729  data_time: 0.0017  lr: 0.001  max_mem: 3149M\n",
      "\u001b[32m[10/19 18:14:14 d2.utils.events]: \u001b[0m eta: 0:44:36  iter: 10119  total_loss: 0.4746  loss_cls: 0.08991  loss_box_reg: 0.3121  loss_rpn_cls: 0.005481  loss_rpn_loc: 0.0321  time: 0.2729  data_time: 0.0017  lr: 0.001  max_mem: 3149M\n",
      "\u001b[32m[10/19 18:14:20 d2.utils.events]: \u001b[0m eta: 0:44:33  iter: 10139  total_loss: 0.4641  loss_cls: 0.1019  loss_box_reg: 0.2889  loss_rpn_cls: 0.00358  loss_rpn_loc: 0.02794  time: 0.2729  data_time: 0.0016  lr: 0.001  max_mem: 3149M\n",
      "\u001b[32m[10/19 18:14:25 d2.utils.events]: \u001b[0m eta: 0:44:28  iter: 10159  total_loss: 0.4171  loss_cls: 0.1065  loss_box_reg: 0.2772  loss_rpn_cls: 0.002306  loss_rpn_loc: 0.02071  time: 0.2729  data_time: 0.0016  lr: 0.001  max_mem: 3149M\n",
      "\u001b[32m[10/19 18:14:30 d2.utils.events]: \u001b[0m eta: 0:44:19  iter: 10179  total_loss: 0.3905  loss_cls: 0.0942  loss_box_reg: 0.2572  loss_rpn_cls: 0.003341  loss_rpn_loc: 0.01959  time: 0.2729  data_time: 0.0016  lr: 0.001  max_mem: 3149M\n",
      "\u001b[32m[10/19 18:14:36 d2.utils.events]: \u001b[0m eta: 0:44:13  iter: 10199  total_loss: 0.4021  loss_cls: 0.08217  loss_box_reg: 0.2793  loss_rpn_cls: 0.002487  loss_rpn_loc: 0.02393  time: 0.2729  data_time: 0.0016  lr: 0.001  max_mem: 3149M\n",
      "\u001b[32m[10/19 18:14:41 d2.utils.events]: \u001b[0m eta: 0:44:08  iter: 10219  total_loss: 0.3866  loss_cls: 0.0764  loss_box_reg: 0.2802  loss_rpn_cls: 0.00442  loss_rpn_loc: 0.03555  time: 0.2729  data_time: 0.0016  lr: 0.001  max_mem: 3149M\n",
      "\u001b[32m[10/19 18:14:47 d2.utils.events]: \u001b[0m eta: 0:44:03  iter: 10239  total_loss: 0.3711  loss_cls: 0.06751  loss_box_reg: 0.2596  loss_rpn_cls: 0.002287  loss_rpn_loc: 0.02085  time: 0.2729  data_time: 0.0016  lr: 0.001  max_mem: 3149M\n",
      "\u001b[32m[10/19 18:14:52 d2.utils.events]: \u001b[0m eta: 0:43:57  iter: 10259  total_loss: 0.4224  loss_cls: 0.08197  loss_box_reg: 0.3172  loss_rpn_cls: 0.002941  loss_rpn_loc: 0.02356  time: 0.2728  data_time: 0.0016  lr: 0.001  max_mem: 3149M\n",
      "\u001b[32m[10/19 18:14:58 d2.utils.events]: \u001b[0m eta: 0:43:51  iter: 10279  total_loss: 0.3781  loss_cls: 0.08016  loss_box_reg: 0.2594  loss_rpn_cls: 0.002874  loss_rpn_loc: 0.01861  time: 0.2728  data_time: 0.0016  lr: 0.001  max_mem: 3149M\n",
      "\u001b[32m[10/19 18:15:03 d2.utils.events]: \u001b[0m eta: 0:43:45  iter: 10299  total_loss: 0.3986  loss_cls: 0.08725  loss_box_reg: 0.2724  loss_rpn_cls: 0.002197  loss_rpn_loc: 0.01892  time: 0.2728  data_time: 0.0017  lr: 0.001  max_mem: 3149M\n",
      "\u001b[32m[10/19 18:15:09 d2.utils.events]: \u001b[0m eta: 0:43:42  iter: 10319  total_loss: 0.3983  loss_cls: 0.07972  loss_box_reg: 0.2764  loss_rpn_cls: 0.002882  loss_rpn_loc: 0.02758  time: 0.2728  data_time: 0.0016  lr: 0.001  max_mem: 3149M\n",
      "\u001b[32m[10/19 18:15:14 d2.utils.events]: \u001b[0m eta: 0:43:37  iter: 10339  total_loss: 0.3794  loss_cls: 0.08605  loss_box_reg: 0.2616  loss_rpn_cls: 0.00244  loss_rpn_loc: 0.03179  time: 0.2728  data_time: 0.0016  lr: 0.001  max_mem: 3149M\n",
      "\u001b[32m[10/19 18:15:20 d2.utils.events]: \u001b[0m eta: 0:43:30  iter: 10359  total_loss: 0.4355  loss_cls: 0.1084  loss_box_reg: 0.2929  loss_rpn_cls: 0.004196  loss_rpn_loc: 0.03066  time: 0.2728  data_time: 0.0017  lr: 0.001  max_mem: 3149M\n",
      "\u001b[32m[10/19 18:15:25 d2.utils.events]: \u001b[0m eta: 0:43:24  iter: 10379  total_loss: 0.3969  loss_cls: 0.06899  loss_box_reg: 0.2818  loss_rpn_cls: 0.00215  loss_rpn_loc: 0.03495  time: 0.2728  data_time: 0.0016  lr: 0.001  max_mem: 3149M\n",
      "\u001b[32m[10/19 18:15:31 d2.utils.events]: \u001b[0m eta: 0:43:16  iter: 10399  total_loss: 0.4254  loss_cls: 0.1088  loss_box_reg: 0.2792  loss_rpn_cls: 0.003115  loss_rpn_loc: 0.02379  time: 0.2729  data_time: 0.0017  lr: 0.001  max_mem: 3149M\n",
      "\u001b[32m[10/19 18:15:36 d2.utils.events]: \u001b[0m eta: 0:43:11  iter: 10419  total_loss: 0.4281  loss_cls: 0.1007  loss_box_reg: 0.2979  loss_rpn_cls: 0.002389  loss_rpn_loc: 0.02433  time: 0.2729  data_time: 0.0016  lr: 0.001  max_mem: 3149M\n",
      "\u001b[32m[10/19 18:15:42 d2.utils.events]: \u001b[0m eta: 0:43:06  iter: 10439  total_loss: 0.3639  loss_cls: 0.08046  loss_box_reg: 0.2602  loss_rpn_cls: 0.002323  loss_rpn_loc: 0.01336  time: 0.2729  data_time: 0.0017  lr: 0.001  max_mem: 3149M\n",
      "\u001b[32m[10/19 18:15:47 d2.utils.events]: \u001b[0m eta: 0:43:02  iter: 10459  total_loss: 0.3898  loss_cls: 0.08859  loss_box_reg: 0.2563  loss_rpn_cls: 0.0035  loss_rpn_loc: 0.0232  time: 0.2729  data_time: 0.0016  lr: 0.001  max_mem: 3149M\n",
      "\u001b[32m[10/19 18:15:53 d2.utils.events]: \u001b[0m eta: 0:42:58  iter: 10479  total_loss: 0.371  loss_cls: 0.06754  loss_box_reg: 0.2786  loss_rpn_cls: 0.002196  loss_rpn_loc: 0.0276  time: 0.2729  data_time: 0.0016  lr: 0.001  max_mem: 3149M\n",
      "\u001b[32m[10/19 18:15:58 d2.utils.events]: \u001b[0m eta: 0:42:51  iter: 10499  total_loss: 0.4627  loss_cls: 0.09503  loss_box_reg: 0.3042  loss_rpn_cls: 0.004817  loss_rpn_loc: 0.03744  time: 0.2729  data_time: 0.0017  lr: 0.001  max_mem: 3149M\n",
      "\u001b[32m[10/19 18:16:04 d2.utils.events]: \u001b[0m eta: 0:42:47  iter: 10519  total_loss: 0.382  loss_cls: 0.09089  loss_box_reg: 0.2602  loss_rpn_cls: 0.002935  loss_rpn_loc: 0.01698  time: 0.2729  data_time: 0.0017  lr: 0.001  max_mem: 3149M\n",
      "\u001b[32m[10/19 18:16:09 d2.utils.events]: \u001b[0m eta: 0:42:40  iter: 10539  total_loss: 0.403  loss_cls: 0.07443  loss_box_reg: 0.2955  loss_rpn_cls: 0.005891  loss_rpn_loc: 0.02632  time: 0.2729  data_time: 0.0016  lr: 0.001  max_mem: 3149M\n",
      "\u001b[32m[10/19 18:16:14 d2.utils.events]: \u001b[0m eta: 0:42:34  iter: 10559  total_loss: 0.3668  loss_cls: 0.08865  loss_box_reg: 0.2611  loss_rpn_cls: 0.00217  loss_rpn_loc: 0.01918  time: 0.2729  data_time: 0.0016  lr: 0.001  max_mem: 3149M\n",
      "\u001b[32m[10/19 18:16:20 d2.utils.events]: \u001b[0m eta: 0:42:29  iter: 10579  total_loss: 0.4037  loss_cls: 0.06809  loss_box_reg: 0.2622  loss_rpn_cls: 0.003388  loss_rpn_loc: 0.02556  time: 0.2729  data_time: 0.0016  lr: 0.001  max_mem: 3149M\n",
      "\u001b[32m[10/19 18:16:25 d2.utils.events]: \u001b[0m eta: 0:42:24  iter: 10599  total_loss: 0.3776  loss_cls: 0.06238  loss_box_reg: 0.2661  loss_rpn_cls: 0.002846  loss_rpn_loc: 0.01661  time: 0.2729  data_time: 0.0016  lr: 0.001  max_mem: 3149M\n",
      "\u001b[32m[10/19 18:16:31 d2.utils.events]: \u001b[0m eta: 0:42:18  iter: 10619  total_loss: 0.4323  loss_cls: 0.0878  loss_box_reg: 0.2849  loss_rpn_cls: 0.005066  loss_rpn_loc: 0.03257  time: 0.2729  data_time: 0.0018  lr: 0.001  max_mem: 3149M\n",
      "\u001b[32m[10/19 18:16:36 d2.utils.events]: \u001b[0m eta: 0:42:12  iter: 10639  total_loss: 0.4687  loss_cls: 0.09666  loss_box_reg: 0.2641  loss_rpn_cls: 0.003686  loss_rpn_loc: 0.03151  time: 0.2729  data_time: 0.0017  lr: 0.001  max_mem: 3149M\n",
      "\u001b[32m[10/19 18:16:42 d2.utils.events]: \u001b[0m eta: 0:42:06  iter: 10659  total_loss: 0.3927  loss_cls: 0.08526  loss_box_reg: 0.2784  loss_rpn_cls: 0.002259  loss_rpn_loc: 0.02441  time: 0.2729  data_time: 0.0018  lr: 0.001  max_mem: 3149M\n",
      "\u001b[32m[10/19 18:16:47 d2.utils.events]: \u001b[0m eta: 0:42:01  iter: 10679  total_loss: 0.4267  loss_cls: 0.08022  loss_box_reg: 0.2662  loss_rpn_cls: 0.002821  loss_rpn_loc: 0.0224  time: 0.2729  data_time: 0.0016  lr: 0.001  max_mem: 3149M\n",
      "\u001b[32m[10/19 18:16:53 d2.utils.events]: \u001b[0m eta: 0:41:56  iter: 10699  total_loss: 0.3843  loss_cls: 0.07625  loss_box_reg: 0.2791  loss_rpn_cls: 0.004578  loss_rpn_loc: 0.01926  time: 0.2729  data_time: 0.0017  lr: 0.001  max_mem: 3149M\n",
      "\u001b[32m[10/19 18:16:58 d2.utils.events]: \u001b[0m eta: 0:41:50  iter: 10719  total_loss: 0.3825  loss_cls: 0.08317  loss_box_reg: 0.2676  loss_rpn_cls: 0.003765  loss_rpn_loc: 0.02176  time: 0.2729  data_time: 0.0017  lr: 0.001  max_mem: 3149M\n",
      "\u001b[32m[10/19 18:17:04 d2.utils.events]: \u001b[0m eta: 0:41:41  iter: 10739  total_loss: 0.3982  loss_cls: 0.0711  loss_box_reg: 0.2816  loss_rpn_cls: 0.004983  loss_rpn_loc: 0.03107  time: 0.2729  data_time: 0.0017  lr: 0.001  max_mem: 3149M\n",
      "\u001b[32m[10/19 18:17:09 d2.utils.events]: \u001b[0m eta: 0:41:34  iter: 10759  total_loss: 0.4068  loss_cls: 0.09804  loss_box_reg: 0.2775  loss_rpn_cls: 0.003334  loss_rpn_loc: 0.03005  time: 0.2728  data_time: 0.0016  lr: 0.001  max_mem: 3149M\n",
      "\u001b[32m[10/19 18:17:14 d2.utils.events]: \u001b[0m eta: 0:41:28  iter: 10779  total_loss: 0.418  loss_cls: 0.08665  loss_box_reg: 0.2789  loss_rpn_cls: 0.003136  loss_rpn_loc: 0.02863  time: 0.2729  data_time: 0.0016  lr: 0.001  max_mem: 3149M\n",
      "\u001b[32m[10/19 18:17:20 d2.utils.events]: \u001b[0m eta: 0:41:23  iter: 10799  total_loss: 0.3374  loss_cls: 0.06223  loss_box_reg: 0.2529  loss_rpn_cls: 0.001307  loss_rpn_loc: 0.01388  time: 0.2729  data_time: 0.0017  lr: 0.001  max_mem: 3149M\n",
      "\u001b[32m[10/19 18:17:25 d2.utils.events]: \u001b[0m eta: 0:41:20  iter: 10819  total_loss: 0.4619  loss_cls: 0.1081  loss_box_reg: 0.2876  loss_rpn_cls: 0.002489  loss_rpn_loc: 0.02281  time: 0.2729  data_time: 0.0016  lr: 0.001  max_mem: 3149M\n",
      "\u001b[32m[10/19 18:17:31 d2.utils.events]: \u001b[0m eta: 0:41:15  iter: 10839  total_loss: 0.4294  loss_cls: 0.1094  loss_box_reg: 0.297  loss_rpn_cls: 0.001948  loss_rpn_loc: 0.02961  time: 0.2728  data_time: 0.0017  lr: 0.001  max_mem: 3149M\n",
      "\u001b[32m[10/19 18:17:36 d2.utils.events]: \u001b[0m eta: 0:41:10  iter: 10859  total_loss: 0.3889  loss_cls: 0.07395  loss_box_reg: 0.2632  loss_rpn_cls: 0.003176  loss_rpn_loc: 0.02496  time: 0.2728  data_time: 0.0016  lr: 0.001  max_mem: 3149M\n",
      "\u001b[32m[10/19 18:17:42 d2.utils.events]: \u001b[0m eta: 0:41:05  iter: 10879  total_loss: 0.409  loss_cls: 0.09405  loss_box_reg: 0.2775  loss_rpn_cls: 0.003656  loss_rpn_loc: 0.02053  time: 0.2729  data_time: 0.0017  lr: 0.001  max_mem: 3149M\n",
      "\u001b[32m[10/19 18:17:47 d2.utils.events]: \u001b[0m eta: 0:41:00  iter: 10899  total_loss: 0.4307  loss_cls: 0.106  loss_box_reg: 0.3101  loss_rpn_cls: 0.002586  loss_rpn_loc: 0.03398  time: 0.2729  data_time: 0.0017  lr: 0.001  max_mem: 3149M\n",
      "\u001b[32m[10/19 18:17:53 d2.utils.events]: \u001b[0m eta: 0:40:55  iter: 10919  total_loss: 0.4319  loss_cls: 0.104  loss_box_reg: 0.2808  loss_rpn_cls: 0.001668  loss_rpn_loc: 0.02335  time: 0.2729  data_time: 0.0017  lr: 0.001  max_mem: 3149M\n",
      "\u001b[32m[10/19 18:17:58 d2.utils.events]: \u001b[0m eta: 0:40:50  iter: 10939  total_loss: 0.4456  loss_cls: 0.1035  loss_box_reg: 0.2848  loss_rpn_cls: 0.003917  loss_rpn_loc: 0.02618  time: 0.2729  data_time: 0.0016  lr: 0.001  max_mem: 3149M\n",
      "\u001b[32m[10/19 18:18:04 d2.utils.events]: \u001b[0m eta: 0:40:44  iter: 10959  total_loss: 0.3729  loss_cls: 0.07773  loss_box_reg: 0.2523  loss_rpn_cls: 0.00203  loss_rpn_loc: 0.02174  time: 0.2729  data_time: 0.0017  lr: 0.001  max_mem: 3149M\n",
      "\u001b[32m[10/19 18:18:10 d2.utils.events]: \u001b[0m eta: 0:40:39  iter: 10979  total_loss: 0.4693  loss_cls: 0.08555  loss_box_reg: 0.2971  loss_rpn_cls: 0.004137  loss_rpn_loc: 0.03324  time: 0.2729  data_time: 0.0017  lr: 0.001  max_mem: 3149M\n",
      "\u001b[32m[10/19 18:18:15 d2.utils.events]: \u001b[0m eta: 0:40:33  iter: 10999  total_loss: 0.4402  loss_cls: 0.09366  loss_box_reg: 0.2694  loss_rpn_cls: 0.00466  loss_rpn_loc: 0.02558  time: 0.2729  data_time: 0.0016  lr: 0.001  max_mem: 3149M\n",
      "\u001b[32m[10/19 18:18:20 d2.utils.events]: \u001b[0m eta: 0:40:27  iter: 11019  total_loss: 0.3926  loss_cls: 0.07291  loss_box_reg: 0.2842  loss_rpn_cls: 0.00368  loss_rpn_loc: 0.02219  time: 0.2729  data_time: 0.0016  lr: 0.001  max_mem: 3149M\n",
      "\u001b[32m[10/19 18:18:26 d2.utils.events]: \u001b[0m eta: 0:40:22  iter: 11039  total_loss: 0.379  loss_cls: 0.09142  loss_box_reg: 0.259  loss_rpn_cls: 0.002264  loss_rpn_loc: 0.0232  time: 0.2729  data_time: 0.0017  lr: 0.001  max_mem: 3149M\n",
      "\u001b[32m[10/19 18:18:31 d2.utils.events]: \u001b[0m eta: 0:40:16  iter: 11059  total_loss: 0.3297  loss_cls: 0.06821  loss_box_reg: 0.2139  loss_rpn_cls: 0.001251  loss_rpn_loc: 0.01523  time: 0.2729  data_time: 0.0017  lr: 0.001  max_mem: 3149M\n",
      "\u001b[32m[10/19 18:18:37 d2.utils.events]: \u001b[0m eta: 0:40:11  iter: 11079  total_loss: 0.3682  loss_cls: 0.06758  loss_box_reg: 0.2583  loss_rpn_cls: 0.001929  loss_rpn_loc: 0.02034  time: 0.2729  data_time: 0.0016  lr: 0.001  max_mem: 3149M\n",
      "\u001b[32m[10/19 18:18:42 d2.utils.events]: \u001b[0m eta: 0:40:05  iter: 11099  total_loss: 0.4031  loss_cls: 0.1041  loss_box_reg: 0.2621  loss_rpn_cls: 0.003464  loss_rpn_loc: 0.02928  time: 0.2729  data_time: 0.0016  lr: 0.001  max_mem: 3149M\n",
      "\u001b[32m[10/19 18:18:48 d2.utils.events]: \u001b[0m eta: 0:39:59  iter: 11119  total_loss: 0.4305  loss_cls: 0.09958  loss_box_reg: 0.2809  loss_rpn_cls: 0.003142  loss_rpn_loc: 0.03736  time: 0.2729  data_time: 0.0017  lr: 0.001  max_mem: 3149M\n",
      "\u001b[32m[10/19 18:18:53 d2.utils.events]: \u001b[0m eta: 0:39:53  iter: 11139  total_loss: 0.3864  loss_cls: 0.08727  loss_box_reg: 0.2644  loss_rpn_cls: 0.002676  loss_rpn_loc: 0.02879  time: 0.2729  data_time: 0.0017  lr: 0.001  max_mem: 3149M\n",
      "\u001b[32m[10/19 18:18:58 d2.utils.events]: \u001b[0m eta: 0:39:47  iter: 11159  total_loss: 0.4498  loss_cls: 0.08321  loss_box_reg: 0.293  loss_rpn_cls: 0.004479  loss_rpn_loc: 0.03704  time: 0.2729  data_time: 0.0016  lr: 0.001  max_mem: 3149M\n",
      "\u001b[32m[10/19 18:19:04 d2.utils.events]: \u001b[0m eta: 0:39:42  iter: 11179  total_loss: 0.3992  loss_cls: 0.08357  loss_box_reg: 0.2399  loss_rpn_cls: 0.002445  loss_rpn_loc: 0.02275  time: 0.2729  data_time: 0.0017  lr: 0.001  max_mem: 3149M\n",
      "\u001b[32m[10/19 18:19:09 d2.utils.events]: \u001b[0m eta: 0:39:36  iter: 11199  total_loss: 0.3811  loss_cls: 0.08098  loss_box_reg: 0.2532  loss_rpn_cls: 0.001747  loss_rpn_loc: 0.01448  time: 0.2729  data_time: 0.0016  lr: 0.001  max_mem: 3149M\n",
      "\u001b[32m[10/19 18:19:15 d2.utils.events]: \u001b[0m eta: 0:39:31  iter: 11219  total_loss: 0.3885  loss_cls: 0.08129  loss_box_reg: 0.2709  loss_rpn_cls: 0.003754  loss_rpn_loc: 0.03218  time: 0.2729  data_time: 0.0017  lr: 0.001  max_mem: 3149M\n",
      "\u001b[32m[10/19 18:19:20 d2.utils.events]: \u001b[0m eta: 0:39:25  iter: 11239  total_loss: 0.3807  loss_cls: 0.06046  loss_box_reg: 0.2653  loss_rpn_cls: 0.003096  loss_rpn_loc: 0.02133  time: 0.2729  data_time: 0.0016  lr: 0.001  max_mem: 3149M\n",
      "\u001b[32m[10/19 18:19:26 d2.utils.events]: \u001b[0m eta: 0:39:20  iter: 11259  total_loss: 0.3363  loss_cls: 0.06413  loss_box_reg: 0.2558  loss_rpn_cls: 0.002496  loss_rpn_loc: 0.02285  time: 0.2729  data_time: 0.0016  lr: 0.001  max_mem: 3149M\n",
      "\u001b[32m[10/19 18:19:31 d2.utils.events]: \u001b[0m eta: 0:39:15  iter: 11279  total_loss: 0.4304  loss_cls: 0.09965  loss_box_reg: 0.2927  loss_rpn_cls: 0.003976  loss_rpn_loc: 0.03154  time: 0.2729  data_time: 0.0017  lr: 0.001  max_mem: 3149M\n",
      "\u001b[32m[10/19 18:19:37 d2.utils.events]: \u001b[0m eta: 0:39:09  iter: 11299  total_loss: 0.3738  loss_cls: 0.06023  loss_box_reg: 0.2654  loss_rpn_cls: 0.002541  loss_rpn_loc: 0.02006  time: 0.2729  data_time: 0.0017  lr: 0.001  max_mem: 3149M\n",
      "\u001b[32m[10/19 18:19:42 d2.utils.events]: \u001b[0m eta: 0:39:04  iter: 11319  total_loss: 0.4293  loss_cls: 0.09005  loss_box_reg: 0.2667  loss_rpn_cls: 0.004655  loss_rpn_loc: 0.0415  time: 0.2729  data_time: 0.0017  lr: 0.001  max_mem: 3149M\n",
      "\u001b[32m[10/19 18:19:48 d2.utils.events]: \u001b[0m eta: 0:38:58  iter: 11339  total_loss: 0.3861  loss_cls: 0.06678  loss_box_reg: 0.2691  loss_rpn_cls: 0.003568  loss_rpn_loc: 0.03724  time: 0.2729  data_time: 0.0016  lr: 0.001  max_mem: 3149M\n",
      "\u001b[32m[10/19 18:19:53 d2.utils.events]: \u001b[0m eta: 0:38:52  iter: 11359  total_loss: 0.3912  loss_cls: 0.09755  loss_box_reg: 0.2528  loss_rpn_cls: 0.003963  loss_rpn_loc: 0.02177  time: 0.2729  data_time: 0.0017  lr: 0.001  max_mem: 3149M\n",
      "\u001b[32m[10/19 18:19:59 d2.utils.events]: \u001b[0m eta: 0:38:47  iter: 11379  total_loss: 0.3994  loss_cls: 0.073  loss_box_reg: 0.285  loss_rpn_cls: 0.003104  loss_rpn_loc: 0.02342  time: 0.2729  data_time: 0.0016  lr: 0.001  max_mem: 3149M\n",
      "\u001b[32m[10/19 18:20:04 d2.utils.events]: \u001b[0m eta: 0:38:41  iter: 11399  total_loss: 0.3356  loss_cls: 0.0602  loss_box_reg: 0.2446  loss_rpn_cls: 0.002911  loss_rpn_loc: 0.02706  time: 0.2729  data_time: 0.0016  lr: 0.001  max_mem: 3149M\n",
      "\u001b[32m[10/19 18:20:10 d2.utils.events]: \u001b[0m eta: 0:38:35  iter: 11419  total_loss: 0.3737  loss_cls: 0.06742  loss_box_reg: 0.2879  loss_rpn_cls: 0.002108  loss_rpn_loc: 0.01926  time: 0.2729  data_time: 0.0016  lr: 0.001  max_mem: 3149M\n",
      "\u001b[32m[10/19 18:20:15 d2.utils.events]: \u001b[0m eta: 0:38:29  iter: 11439  total_loss: 0.3771  loss_cls: 0.06558  loss_box_reg: 0.2809  loss_rpn_cls: 0.003531  loss_rpn_loc: 0.02964  time: 0.2729  data_time: 0.0017  lr: 0.001  max_mem: 3149M\n",
      "\u001b[32m[10/19 18:20:21 d2.utils.events]: \u001b[0m eta: 0:38:24  iter: 11459  total_loss: 0.3735  loss_cls: 0.0825  loss_box_reg: 0.2686  loss_rpn_cls: 0.002688  loss_rpn_loc: 0.02776  time: 0.2729  data_time: 0.0016  lr: 0.001  max_mem: 3149M\n",
      "\u001b[32m[10/19 18:20:26 d2.utils.events]: \u001b[0m eta: 0:38:18  iter: 11479  total_loss: 0.354  loss_cls: 0.0803  loss_box_reg: 0.2639  loss_rpn_cls: 0.002701  loss_rpn_loc: 0.0197  time: 0.2729  data_time: 0.0016  lr: 0.001  max_mem: 3149M\n",
      "\u001b[32m[10/19 18:20:31 d2.utils.events]: \u001b[0m eta: 0:38:12  iter: 11499  total_loss: 0.3841  loss_cls: 0.08714  loss_box_reg: 0.2489  loss_rpn_cls: 0.00316  loss_rpn_loc: 0.04167  time: 0.2729  data_time: 0.0016  lr: 0.001  max_mem: 3149M\n",
      "\u001b[32m[10/19 18:20:37 d2.utils.events]: \u001b[0m eta: 0:38:06  iter: 11519  total_loss: 0.3689  loss_cls: 0.08361  loss_box_reg: 0.2493  loss_rpn_cls: 0.003306  loss_rpn_loc: 0.02388  time: 0.2729  data_time: 0.0019  lr: 0.001  max_mem: 3149M\n",
      "\u001b[32m[10/19 18:20:42 d2.utils.events]: \u001b[0m eta: 0:38:01  iter: 11539  total_loss: 0.4226  loss_cls: 0.08565  loss_box_reg: 0.2673  loss_rpn_cls: 0.003873  loss_rpn_loc: 0.03554  time: 0.2729  data_time: 0.0017  lr: 0.001  max_mem: 3149M\n",
      "\u001b[32m[10/19 18:20:48 d2.utils.events]: \u001b[0m eta: 0:37:55  iter: 11559  total_loss: 0.4094  loss_cls: 0.0862  loss_box_reg: 0.2589  loss_rpn_cls: 0.002398  loss_rpn_loc: 0.01854  time: 0.2729  data_time: 0.0017  lr: 0.001  max_mem: 3149M\n",
      "\u001b[32m[10/19 18:20:53 d2.utils.events]: \u001b[0m eta: 0:37:49  iter: 11579  total_loss: 0.3588  loss_cls: 0.06655  loss_box_reg: 0.2488  loss_rpn_cls: 0.002689  loss_rpn_loc: 0.02077  time: 0.2729  data_time: 0.0017  lr: 0.001  max_mem: 3149M\n",
      "\u001b[32m[10/19 18:20:59 d2.utils.events]: \u001b[0m eta: 0:37:44  iter: 11599  total_loss: 0.3893  loss_cls: 0.09166  loss_box_reg: 0.2906  loss_rpn_cls: 0.002111  loss_rpn_loc: 0.02131  time: 0.2729  data_time: 0.0017  lr: 0.001  max_mem: 3149M\n",
      "\u001b[32m[10/19 18:21:04 d2.utils.events]: \u001b[0m eta: 0:37:38  iter: 11619  total_loss: 0.3663  loss_cls: 0.07177  loss_box_reg: 0.2676  loss_rpn_cls: 0.002334  loss_rpn_loc: 0.01727  time: 0.2729  data_time: 0.0017  lr: 0.001  max_mem: 3149M\n",
      "\u001b[32m[10/19 18:21:10 d2.utils.events]: \u001b[0m eta: 0:37:32  iter: 11639  total_loss: 0.3814  loss_cls: 0.0826  loss_box_reg: 0.2629  loss_rpn_cls: 0.001702  loss_rpn_loc: 0.0162  time: 0.2729  data_time: 0.0017  lr: 0.001  max_mem: 3149M\n",
      "\u001b[32m[10/19 18:21:15 d2.utils.events]: \u001b[0m eta: 0:37:27  iter: 11659  total_loss: 0.3749  loss_cls: 0.09868  loss_box_reg: 0.2677  loss_rpn_cls: 0.002605  loss_rpn_loc: 0.02063  time: 0.2729  data_time: 0.0016  lr: 0.001  max_mem: 3149M\n",
      "\u001b[32m[10/19 18:21:21 d2.utils.events]: \u001b[0m eta: 0:37:21  iter: 11679  total_loss: 0.3511  loss_cls: 0.08637  loss_box_reg: 0.2372  loss_rpn_cls: 0.002664  loss_rpn_loc: 0.01806  time: 0.2729  data_time: 0.0017  lr: 0.001  max_mem: 3149M\n",
      "\u001b[32m[10/19 18:21:26 d2.utils.events]: \u001b[0m eta: 0:37:15  iter: 11699  total_loss: 0.4244  loss_cls: 0.08295  loss_box_reg: 0.2668  loss_rpn_cls: 0.003247  loss_rpn_loc: 0.02272  time: 0.2729  data_time: 0.0016  lr: 0.001  max_mem: 3149M\n",
      "\u001b[32m[10/19 18:21:32 d2.utils.events]: \u001b[0m eta: 0:37:11  iter: 11719  total_loss: 0.4353  loss_cls: 0.09646  loss_box_reg: 0.2808  loss_rpn_cls: 0.003388  loss_rpn_loc: 0.03662  time: 0.2729  data_time: 0.0016  lr: 0.001  max_mem: 3149M\n",
      "\u001b[32m[10/19 18:21:37 d2.utils.events]: \u001b[0m eta: 0:37:05  iter: 11739  total_loss: 0.3462  loss_cls: 0.05853  loss_box_reg: 0.2431  loss_rpn_cls: 0.002677  loss_rpn_loc: 0.01735  time: 0.2729  data_time: 0.0017  lr: 0.001  max_mem: 3149M\n",
      "\u001b[32m[10/19 18:21:43 d2.utils.events]: \u001b[0m eta: 0:37:00  iter: 11759  total_loss: 0.3809  loss_cls: 0.0611  loss_box_reg: 0.2561  loss_rpn_cls: 0.004893  loss_rpn_loc: 0.02564  time: 0.2729  data_time: 0.0017  lr: 0.001  max_mem: 3149M\n",
      "\u001b[32m[10/19 18:21:48 d2.utils.events]: \u001b[0m eta: 0:36:54  iter: 11779  total_loss: 0.3887  loss_cls: 0.05962  loss_box_reg: 0.2682  loss_rpn_cls: 0.003204  loss_rpn_loc: 0.02921  time: 0.2729  data_time: 0.0017  lr: 0.001  max_mem: 3149M\n",
      "\u001b[32m[10/19 18:21:54 d2.utils.events]: \u001b[0m eta: 0:36:48  iter: 11799  total_loss: 0.3556  loss_cls: 0.06409  loss_box_reg: 0.2274  loss_rpn_cls: 0.002041  loss_rpn_loc: 0.03127  time: 0.2729  data_time: 0.0017  lr: 0.001  max_mem: 3149M\n",
      "\u001b[32m[10/19 18:21:59 d2.utils.events]: \u001b[0m eta: 0:36:43  iter: 11819  total_loss: 0.3933  loss_cls: 0.07094  loss_box_reg: 0.256  loss_rpn_cls: 0.002616  loss_rpn_loc: 0.02269  time: 0.2729  data_time: 0.0017  lr: 0.001  max_mem: 3149M\n",
      "\u001b[32m[10/19 18:22:05 d2.utils.events]: \u001b[0m eta: 0:36:37  iter: 11839  total_loss: 0.4048  loss_cls: 0.08196  loss_box_reg: 0.276  loss_rpn_cls: 0.003719  loss_rpn_loc: 0.02874  time: 0.2729  data_time: 0.0017  lr: 0.001  max_mem: 3149M\n",
      "\u001b[32m[10/19 18:22:10 d2.utils.events]: \u001b[0m eta: 0:36:31  iter: 11859  total_loss: 0.3648  loss_cls: 0.07389  loss_box_reg: 0.2663  loss_rpn_cls: 0.002573  loss_rpn_loc: 0.02053  time: 0.2729  data_time: 0.0016  lr: 0.001  max_mem: 3149M\n",
      "\u001b[32m[10/19 18:22:16 d2.utils.events]: \u001b[0m eta: 0:36:25  iter: 11879  total_loss: 0.3561  loss_cls: 0.06811  loss_box_reg: 0.2704  loss_rpn_cls: 0.001772  loss_rpn_loc: 0.02382  time: 0.2729  data_time: 0.0017  lr: 0.001  max_mem: 3149M\n",
      "\u001b[32m[10/19 18:22:21 d2.utils.events]: \u001b[0m eta: 0:36:19  iter: 11899  total_loss: 0.4039  loss_cls: 0.08597  loss_box_reg: 0.2657  loss_rpn_cls: 0.003076  loss_rpn_loc: 0.01704  time: 0.2729  data_time: 0.0018  lr: 0.001  max_mem: 3149M\n",
      "\u001b[32m[10/19 18:22:27 d2.utils.events]: \u001b[0m eta: 0:36:13  iter: 11919  total_loss: 0.352  loss_cls: 0.07046  loss_box_reg: 0.2537  loss_rpn_cls: 0.002697  loss_rpn_loc: 0.02299  time: 0.2729  data_time: 0.0017  lr: 0.001  max_mem: 3149M\n",
      "\u001b[32m[10/19 18:22:32 d2.utils.events]: \u001b[0m eta: 0:36:07  iter: 11939  total_loss: 0.3553  loss_cls: 0.07342  loss_box_reg: 0.2493  loss_rpn_cls: 0.002897  loss_rpn_loc: 0.01596  time: 0.2729  data_time: 0.0017  lr: 0.001  max_mem: 3149M\n",
      "\u001b[32m[10/19 18:22:38 d2.utils.events]: \u001b[0m eta: 0:35:59  iter: 11959  total_loss: 0.3942  loss_cls: 0.08721  loss_box_reg: 0.2445  loss_rpn_cls: 0.003102  loss_rpn_loc: 0.02402  time: 0.2729  data_time: 0.0017  lr: 0.001  max_mem: 3149M\n",
      "\u001b[32m[10/19 18:22:43 d2.utils.events]: \u001b[0m eta: 0:35:53  iter: 11979  total_loss: 0.365  loss_cls: 0.0734  loss_box_reg: 0.2616  loss_rpn_cls: 0.00278  loss_rpn_loc: 0.01955  time: 0.2729  data_time: 0.0016  lr: 0.001  max_mem: 3149M\n",
      "\u001b[32m[10/19 18:22:48 d2.utils.events]: \u001b[0m eta: 0:35:46  iter: 11999  total_loss: 0.3674  loss_cls: 0.067  loss_box_reg: 0.2538  loss_rpn_cls: 0.004462  loss_rpn_loc: 0.0405  time: 0.2729  data_time: 0.0016  lr: 0.001  max_mem: 3149M\n",
      "\u001b[32m[10/19 18:22:53 d2.utils.events]: \u001b[0m eta: 0:35:36  iter: 12019  total_loss: 0.3857  loss_cls: 0.06924  loss_box_reg: 0.2512  loss_rpn_cls: 0.002982  loss_rpn_loc: 0.02397  time: 0.2729  data_time: 0.0016  lr: 0.001  max_mem: 3149M\n",
      "\u001b[32m[10/19 18:22:58 d2.utils.events]: \u001b[0m eta: 0:34:44  iter: 12039  total_loss: 0.3924  loss_cls: 0.08759  loss_box_reg: 0.2583  loss_rpn_cls: 0.003021  loss_rpn_loc: 0.02347  time: 0.2728  data_time: 0.0016  lr: 0.001  max_mem: 3149M\n",
      "\u001b[32m[10/19 18:23:03 d2.utils.events]: \u001b[0m eta: 0:34:21  iter: 12059  total_loss: 0.3938  loss_cls: 0.09444  loss_box_reg: 0.2644  loss_rpn_cls: 0.003359  loss_rpn_loc: 0.02917  time: 0.2728  data_time: 0.0016  lr: 0.001  max_mem: 3149M\n",
      "\u001b[32m[10/19 18:23:09 d2.utils.events]: \u001b[0m eta: 0:34:07  iter: 12079  total_loss: 0.3852  loss_cls: 0.08844  loss_box_reg: 0.2658  loss_rpn_cls: 0.002536  loss_rpn_loc: 0.0248  time: 0.2728  data_time: 0.0016  lr: 0.001  max_mem: 3149M\n",
      "\u001b[32m[10/19 18:23:14 d2.utils.events]: \u001b[0m eta: 0:34:00  iter: 12099  total_loss: 0.3681  loss_cls: 0.07948  loss_box_reg: 0.259  loss_rpn_cls: 0.001618  loss_rpn_loc: 0.02275  time: 0.2728  data_time: 0.0016  lr: 0.001  max_mem: 3149M\n",
      "\u001b[32m[10/19 18:23:19 d2.utils.events]: \u001b[0m eta: 0:33:54  iter: 12119  total_loss: 0.3846  loss_cls: 0.08238  loss_box_reg: 0.2521  loss_rpn_cls: 0.001893  loss_rpn_loc: 0.01644  time: 0.2727  data_time: 0.0016  lr: 0.001  max_mem: 3149M\n",
      "\u001b[32m[10/19 18:23:24 d2.utils.events]: \u001b[0m eta: 0:33:46  iter: 12139  total_loss: 0.3986  loss_cls: 0.07782  loss_box_reg: 0.2674  loss_rpn_cls: 0.002753  loss_rpn_loc: 0.02347  time: 0.2727  data_time: 0.0016  lr: 0.001  max_mem: 3149M\n",
      "\u001b[32m[10/19 18:23:29 d2.utils.events]: \u001b[0m eta: 0:33:40  iter: 12159  total_loss: 0.3603  loss_cls: 0.06706  loss_box_reg: 0.2566  loss_rpn_cls: 0.002622  loss_rpn_loc: 0.03019  time: 0.2727  data_time: 0.0016  lr: 0.001  max_mem: 3149M\n",
      "\u001b[32m[10/19 18:23:35 d2.utils.events]: \u001b[0m eta: 0:33:34  iter: 12179  total_loss: 0.383  loss_cls: 0.07693  loss_box_reg: 0.2565  loss_rpn_cls: 0.004543  loss_rpn_loc: 0.03426  time: 0.2727  data_time: 0.0016  lr: 0.001  max_mem: 3149M\n",
      "\u001b[32m[10/19 18:23:40 d2.utils.events]: \u001b[0m eta: 0:33:28  iter: 12199  total_loss: 0.3175  loss_cls: 0.07435  loss_box_reg: 0.2274  loss_rpn_cls: 0.001633  loss_rpn_loc: 0.0215  time: 0.2727  data_time: 0.0016  lr: 0.001  max_mem: 3149M\n",
      "\u001b[32m[10/19 18:23:45 d2.utils.events]: \u001b[0m eta: 0:33:21  iter: 12219  total_loss: 0.3368  loss_cls: 0.07505  loss_box_reg: 0.2391  loss_rpn_cls: 0.00235  loss_rpn_loc: 0.02442  time: 0.2726  data_time: 0.0016  lr: 0.001  max_mem: 3149M\n",
      "\u001b[32m[10/19 18:23:50 d2.utils.events]: \u001b[0m eta: 0:33:16  iter: 12239  total_loss: 0.3464  loss_cls: 0.08659  loss_box_reg: 0.2515  loss_rpn_cls: 0.003763  loss_rpn_loc: 0.02749  time: 0.2726  data_time: 0.0016  lr: 0.001  max_mem: 3149M\n",
      "\u001b[32m[10/19 18:23:55 d2.utils.events]: \u001b[0m eta: 0:33:10  iter: 12259  total_loss: 0.3627  loss_cls: 0.0894  loss_box_reg: 0.2423  loss_rpn_cls: 0.001865  loss_rpn_loc: 0.01773  time: 0.2726  data_time: 0.0016  lr: 0.001  max_mem: 3149M\n",
      "\u001b[32m[10/19 18:24:01 d2.utils.events]: \u001b[0m eta: 0:33:04  iter: 12279  total_loss: 0.3515  loss_cls: 0.07982  loss_box_reg: 0.2394  loss_rpn_cls: 0.002174  loss_rpn_loc: 0.02089  time: 0.2726  data_time: 0.0016  lr: 0.001  max_mem: 3149M\n",
      "\u001b[32m[10/19 18:24:06 d2.utils.events]: \u001b[0m eta: 0:32:59  iter: 12299  total_loss: 0.3902  loss_cls: 0.08852  loss_box_reg: 0.2673  loss_rpn_cls: 0.001445  loss_rpn_loc: 0.01459  time: 0.2726  data_time: 0.0016  lr: 0.001  max_mem: 3149M\n",
      "\u001b[32m[10/19 18:24:11 d2.utils.events]: \u001b[0m eta: 0:32:53  iter: 12319  total_loss: 0.335  loss_cls: 0.06213  loss_box_reg: 0.236  loss_rpn_cls: 0.003301  loss_rpn_loc: 0.01911  time: 0.2725  data_time: 0.0016  lr: 0.001  max_mem: 3149M\n",
      "\u001b[32m[10/19 18:24:16 d2.utils.events]: \u001b[0m eta: 0:32:47  iter: 12339  total_loss: 0.4754  loss_cls: 0.1317  loss_box_reg: 0.311  loss_rpn_cls: 0.002613  loss_rpn_loc: 0.03556  time: 0.2725  data_time: 0.0016  lr: 0.001  max_mem: 3149M\n",
      "\u001b[32m[10/19 18:24:21 d2.utils.events]: \u001b[0m eta: 0:32:42  iter: 12359  total_loss: 0.3506  loss_cls: 0.0862  loss_box_reg: 0.2331  loss_rpn_cls: 0.002514  loss_rpn_loc: 0.02664  time: 0.2725  data_time: 0.0016  lr: 0.001  max_mem: 3149M\n",
      "\u001b[32m[10/19 18:24:27 d2.utils.events]: \u001b[0m eta: 0:32:36  iter: 12379  total_loss: 0.3825  loss_cls: 0.08292  loss_box_reg: 0.2558  loss_rpn_cls: 0.002339  loss_rpn_loc: 0.03072  time: 0.2725  data_time: 0.0016  lr: 0.001  max_mem: 3149M\n",
      "\u001b[32m[10/19 18:24:32 d2.utils.events]: \u001b[0m eta: 0:32:30  iter: 12399  total_loss: 0.395  loss_cls: 0.08738  loss_box_reg: 0.2681  loss_rpn_cls: 0.003691  loss_rpn_loc: 0.03909  time: 0.2724  data_time: 0.0016  lr: 0.001  max_mem: 3149M\n",
      "\u001b[32m[10/19 18:24:37 d2.utils.events]: \u001b[0m eta: 0:32:25  iter: 12419  total_loss: 0.389  loss_cls: 0.1059  loss_box_reg: 0.2509  loss_rpn_cls: 0.001908  loss_rpn_loc: 0.01465  time: 0.2724  data_time: 0.0016  lr: 0.001  max_mem: 3149M\n",
      "\u001b[32m[10/19 18:24:42 d2.utils.events]: \u001b[0m eta: 0:32:19  iter: 12439  total_loss: 0.3645  loss_cls: 0.06546  loss_box_reg: 0.2535  loss_rpn_cls: 0.002858  loss_rpn_loc: 0.0202  time: 0.2724  data_time: 0.0016  lr: 0.001  max_mem: 3149M\n",
      "\u001b[32m[10/19 18:24:47 d2.utils.events]: \u001b[0m eta: 0:32:14  iter: 12459  total_loss: 0.3562  loss_cls: 0.07485  loss_box_reg: 0.2471  loss_rpn_cls: 0.002644  loss_rpn_loc: 0.03031  time: 0.2724  data_time: 0.0016  lr: 0.001  max_mem: 3149M\n",
      "\u001b[32m[10/19 18:24:53 d2.utils.events]: \u001b[0m eta: 0:32:09  iter: 12479  total_loss: 0.3324  loss_cls: 0.07106  loss_box_reg: 0.2363  loss_rpn_cls: 0.002145  loss_rpn_loc: 0.01666  time: 0.2724  data_time: 0.0017  lr: 0.001  max_mem: 3149M\n",
      "\u001b[32m[10/19 18:24:58 d2.utils.events]: \u001b[0m eta: 0:32:03  iter: 12499  total_loss: 0.3737  loss_cls: 0.05685  loss_box_reg: 0.2732  loss_rpn_cls: 0.00251  loss_rpn_loc: 0.02836  time: 0.2723  data_time: 0.0016  lr: 0.001  max_mem: 3149M\n",
      "\u001b[32m[10/19 18:25:03 d2.utils.events]: \u001b[0m eta: 0:31:57  iter: 12519  total_loss: 0.3636  loss_cls: 0.06395  loss_box_reg: 0.2557  loss_rpn_cls: 0.002384  loss_rpn_loc: 0.01755  time: 0.2723  data_time: 0.0016  lr: 0.001  max_mem: 3149M\n",
      "\u001b[32m[10/19 18:25:08 d2.utils.events]: \u001b[0m eta: 0:31:52  iter: 12539  total_loss: 0.3654  loss_cls: 0.08398  loss_box_reg: 0.2318  loss_rpn_cls: 0.001073  loss_rpn_loc: 0.02321  time: 0.2723  data_time: 0.0016  lr: 0.001  max_mem: 3149M\n",
      "\u001b[32m[10/19 18:25:13 d2.utils.events]: \u001b[0m eta: 0:31:46  iter: 12559  total_loss: 0.361  loss_cls: 0.09112  loss_box_reg: 0.251  loss_rpn_cls: 0.004611  loss_rpn_loc: 0.0278  time: 0.2723  data_time: 0.0016  lr: 0.001  max_mem: 3149M\n",
      "\u001b[32m[10/19 18:25:18 d2.utils.events]: \u001b[0m eta: 0:31:40  iter: 12579  total_loss: 0.3901  loss_cls: 0.05898  loss_box_reg: 0.2736  loss_rpn_cls: 0.003118  loss_rpn_loc: 0.02388  time: 0.2722  data_time: 0.0016  lr: 0.001  max_mem: 3149M\n",
      "\u001b[32m[10/19 18:25:23 d2.utils.events]: \u001b[0m eta: 0:31:35  iter: 12599  total_loss: 0.3708  loss_cls: 0.08217  loss_box_reg: 0.2611  loss_rpn_cls: 0.002742  loss_rpn_loc: 0.01924  time: 0.2722  data_time: 0.0016  lr: 0.001  max_mem: 3149M\n",
      "\u001b[32m[10/19 18:25:29 d2.utils.events]: \u001b[0m eta: 0:31:29  iter: 12619  total_loss: 0.3982  loss_cls: 0.09399  loss_box_reg: 0.2417  loss_rpn_cls: 0.003648  loss_rpn_loc: 0.04153  time: 0.2722  data_time: 0.0015  lr: 0.001  max_mem: 3149M\n",
      "\u001b[32m[10/19 18:25:34 d2.utils.events]: \u001b[0m eta: 0:31:24  iter: 12639  total_loss: 0.3475  loss_cls: 0.07792  loss_box_reg: 0.2442  loss_rpn_cls: 0.003087  loss_rpn_loc: 0.02224  time: 0.2722  data_time: 0.0016  lr: 0.001  max_mem: 3149M\n",
      "\u001b[32m[10/19 18:25:39 d2.utils.events]: \u001b[0m eta: 0:31:18  iter: 12659  total_loss: 0.3719  loss_cls: 0.08252  loss_box_reg: 0.2641  loss_rpn_cls: 0.003105  loss_rpn_loc: 0.02215  time: 0.2722  data_time: 0.0015  lr: 0.001  max_mem: 3149M\n",
      "\u001b[32m[10/19 18:25:44 d2.utils.events]: \u001b[0m eta: 0:31:13  iter: 12679  total_loss: 0.3864  loss_cls: 0.09352  loss_box_reg: 0.2791  loss_rpn_cls: 0.003678  loss_rpn_loc: 0.02284  time: 0.2721  data_time: 0.0016  lr: 0.001  max_mem: 3149M\n",
      "\u001b[32m[10/19 18:25:50 d2.utils.events]: \u001b[0m eta: 0:31:07  iter: 12699  total_loss: 0.3601  loss_cls: 0.06704  loss_box_reg: 0.2432  loss_rpn_cls: 0.002793  loss_rpn_loc: 0.03433  time: 0.2721  data_time: 0.0016  lr: 0.001  max_mem: 3149M\n",
      "\u001b[32m[10/19 18:25:55 d2.utils.events]: \u001b[0m eta: 0:31:02  iter: 12719  total_loss: 0.3495  loss_cls: 0.06325  loss_box_reg: 0.2386  loss_rpn_cls: 0.001965  loss_rpn_loc: 0.01337  time: 0.2721  data_time: 0.0016  lr: 0.001  max_mem: 3149M\n",
      "\u001b[32m[10/19 18:26:00 d2.utils.events]: \u001b[0m eta: 0:30:56  iter: 12739  total_loss: 0.3936  loss_cls: 0.09817  loss_box_reg: 0.2705  loss_rpn_cls: 0.002619  loss_rpn_loc: 0.0179  time: 0.2721  data_time: 0.0016  lr: 0.001  max_mem: 3149M\n",
      "\u001b[32m[10/19 18:26:05 d2.utils.events]: \u001b[0m eta: 0:30:50  iter: 12759  total_loss: 0.3829  loss_cls: 0.06542  loss_box_reg: 0.2741  loss_rpn_cls: 0.002828  loss_rpn_loc: 0.02837  time: 0.2721  data_time: 0.0015  lr: 0.001  max_mem: 3149M\n",
      "\u001b[32m[10/19 18:26:10 d2.utils.events]: \u001b[0m eta: 0:30:45  iter: 12779  total_loss: 0.3396  loss_cls: 0.07925  loss_box_reg: 0.2206  loss_rpn_cls: 0.003608  loss_rpn_loc: 0.02575  time: 0.2720  data_time: 0.0016  lr: 0.001  max_mem: 3149M\n",
      "\u001b[32m[10/19 18:26:16 d2.utils.events]: \u001b[0m eta: 0:30:39  iter: 12799  total_loss: 0.3634  loss_cls: 0.07847  loss_box_reg: 0.25  loss_rpn_cls: 0.001569  loss_rpn_loc: 0.01817  time: 0.2720  data_time: 0.0016  lr: 0.001  max_mem: 3149M\n",
      "\u001b[32m[10/19 18:26:21 d2.utils.events]: \u001b[0m eta: 0:30:34  iter: 12819  total_loss: 0.3158  loss_cls: 0.06678  loss_box_reg: 0.2216  loss_rpn_cls: 0.001235  loss_rpn_loc: 0.02185  time: 0.2720  data_time: 0.0016  lr: 0.001  max_mem: 3149M\n",
      "\u001b[32m[10/19 18:26:26 d2.utils.events]: \u001b[0m eta: 0:30:28  iter: 12839  total_loss: 0.3658  loss_cls: 0.07306  loss_box_reg: 0.2569  loss_rpn_cls: 0.003206  loss_rpn_loc: 0.01647  time: 0.2720  data_time: 0.0016  lr: 0.001  max_mem: 3149M\n",
      "\u001b[32m[10/19 18:26:31 d2.utils.events]: \u001b[0m eta: 0:30:23  iter: 12859  total_loss: 0.4122  loss_cls: 0.09805  loss_box_reg: 0.2639  loss_rpn_cls: 0.002764  loss_rpn_loc: 0.0275  time: 0.2720  data_time: 0.0015  lr: 0.001  max_mem: 3149M\n",
      "\u001b[32m[10/19 18:26:36 d2.utils.events]: \u001b[0m eta: 0:30:17  iter: 12879  total_loss: 0.3842  loss_cls: 0.05776  loss_box_reg: 0.2583  loss_rpn_cls: 0.002273  loss_rpn_loc: 0.02339  time: 0.2719  data_time: 0.0016  lr: 0.001  max_mem: 3149M\n",
      "\u001b[32m[10/19 18:26:42 d2.utils.events]: \u001b[0m eta: 0:30:12  iter: 12899  total_loss: 0.3917  loss_cls: 0.08495  loss_box_reg: 0.2767  loss_rpn_cls: 0.002374  loss_rpn_loc: 0.02646  time: 0.2719  data_time: 0.0016  lr: 0.001  max_mem: 3149M\n",
      "\u001b[32m[10/19 18:26:47 d2.utils.events]: \u001b[0m eta: 0:30:06  iter: 12919  total_loss: 0.3778  loss_cls: 0.08868  loss_box_reg: 0.273  loss_rpn_cls: 0.002269  loss_rpn_loc: 0.03063  time: 0.2719  data_time: 0.0016  lr: 0.001  max_mem: 3149M\n",
      "\u001b[32m[10/19 18:26:52 d2.utils.events]: \u001b[0m eta: 0:30:01  iter: 12939  total_loss: 0.3925  loss_cls: 0.06735  loss_box_reg: 0.2968  loss_rpn_cls: 0.002693  loss_rpn_loc: 0.02743  time: 0.2719  data_time: 0.0016  lr: 0.001  max_mem: 3149M\n",
      "\u001b[32m[10/19 18:26:57 d2.utils.events]: \u001b[0m eta: 0:29:55  iter: 12959  total_loss: 0.3513  loss_cls: 0.05376  loss_box_reg: 0.258  loss_rpn_cls: 0.002282  loss_rpn_loc: 0.01807  time: 0.2719  data_time: 0.0016  lr: 0.001  max_mem: 3149M\n",
      "\u001b[32m[10/19 18:27:02 d2.utils.events]: \u001b[0m eta: 0:29:50  iter: 12979  total_loss: 0.3777  loss_cls: 0.08179  loss_box_reg: 0.2618  loss_rpn_cls: 0.003528  loss_rpn_loc: 0.02392  time: 0.2718  data_time: 0.0016  lr: 0.001  max_mem: 3149M\n",
      "\u001b[32m[10/19 18:27:07 d2.utils.events]: \u001b[0m eta: 0:29:45  iter: 12999  total_loss: 0.3476  loss_cls: 0.04766  loss_box_reg: 0.2586  loss_rpn_cls: 0.002282  loss_rpn_loc: 0.01963  time: 0.2718  data_time: 0.0016  lr: 0.001  max_mem: 3149M\n",
      "\u001b[32m[10/19 18:27:13 d2.utils.events]: \u001b[0m eta: 0:29:39  iter: 13019  total_loss: 0.4183  loss_cls: 0.08004  loss_box_reg: 0.2764  loss_rpn_cls: 0.003132  loss_rpn_loc: 0.02825  time: 0.2718  data_time: 0.0016  lr: 0.001  max_mem: 3149M\n",
      "\u001b[32m[10/19 18:27:18 d2.utils.events]: \u001b[0m eta: 0:29:34  iter: 13039  total_loss: 0.3839  loss_cls: 0.07922  loss_box_reg: 0.2699  loss_rpn_cls: 0.001338  loss_rpn_loc: 0.01961  time: 0.2718  data_time: 0.0016  lr: 0.001  max_mem: 3149M\n",
      "\u001b[32m[10/19 18:27:23 d2.utils.events]: \u001b[0m eta: 0:29:29  iter: 13059  total_loss: 0.3754  loss_cls: 0.0652  loss_box_reg: 0.2494  loss_rpn_cls: 0.003406  loss_rpn_loc: 0.02221  time: 0.2718  data_time: 0.0016  lr: 0.001  max_mem: 3149M\n",
      "\u001b[32m[10/19 18:27:28 d2.utils.events]: \u001b[0m eta: 0:29:23  iter: 13079  total_loss: 0.3688  loss_cls: 0.07047  loss_box_reg: 0.2605  loss_rpn_cls: 0.002637  loss_rpn_loc: 0.03814  time: 0.2717  data_time: 0.0016  lr: 0.001  max_mem: 3149M\n",
      "\u001b[32m[10/19 18:27:33 d2.utils.events]: \u001b[0m eta: 0:29:17  iter: 13099  total_loss: 0.3606  loss_cls: 0.06661  loss_box_reg: 0.2567  loss_rpn_cls: 0.00179  loss_rpn_loc: 0.02  time: 0.2717  data_time: 0.0016  lr: 0.001  max_mem: 3149M\n",
      "\u001b[32m[10/19 18:27:38 d2.utils.events]: \u001b[0m eta: 0:29:12  iter: 13119  total_loss: 0.3702  loss_cls: 0.07018  loss_box_reg: 0.2587  loss_rpn_cls: 0.002605  loss_rpn_loc: 0.02623  time: 0.2717  data_time: 0.0016  lr: 0.001  max_mem: 3149M\n",
      "\u001b[32m[10/19 18:27:44 d2.utils.events]: \u001b[0m eta: 0:29:07  iter: 13139  total_loss: 0.3892  loss_cls: 0.09014  loss_box_reg: 0.2521  loss_rpn_cls: 0.002084  loss_rpn_loc: 0.01892  time: 0.2717  data_time: 0.0016  lr: 0.001  max_mem: 3149M\n",
      "\u001b[32m[10/19 18:27:49 d2.utils.events]: \u001b[0m eta: 0:29:01  iter: 13159  total_loss: 0.3662  loss_cls: 0.07841  loss_box_reg: 0.2518  loss_rpn_cls: 0.004779  loss_rpn_loc: 0.01872  time: 0.2717  data_time: 0.0016  lr: 0.001  max_mem: 3149M\n",
      "\u001b[32m[10/19 18:27:54 d2.utils.events]: \u001b[0m eta: 0:28:56  iter: 13179  total_loss: 0.3779  loss_cls: 0.09305  loss_box_reg: 0.2419  loss_rpn_cls: 0.002304  loss_rpn_loc: 0.02301  time: 0.2716  data_time: 0.0016  lr: 0.001  max_mem: 3149M\n",
      "\u001b[32m[10/19 18:27:59 d2.utils.events]: \u001b[0m eta: 0:28:50  iter: 13199  total_loss: 0.3734  loss_cls: 0.09497  loss_box_reg: 0.2388  loss_rpn_cls: 0.001889  loss_rpn_loc: 0.02512  time: 0.2716  data_time: 0.0016  lr: 0.001  max_mem: 3149M\n",
      "\u001b[32m[10/19 18:28:04 d2.utils.events]: \u001b[0m eta: 0:28:44  iter: 13219  total_loss: 0.3847  loss_cls: 0.07903  loss_box_reg: 0.2569  loss_rpn_cls: 0.002718  loss_rpn_loc: 0.03757  time: 0.2716  data_time: 0.0016  lr: 0.001  max_mem: 3149M\n",
      "\u001b[32m[10/19 18:28:09 d2.utils.events]: \u001b[0m eta: 0:28:39  iter: 13239  total_loss: 0.3644  loss_cls: 0.08535  loss_box_reg: 0.244  loss_rpn_cls: 0.002528  loss_rpn_loc: 0.03513  time: 0.2716  data_time: 0.0016  lr: 0.001  max_mem: 3149M\n",
      "\u001b[32m[10/19 18:28:15 d2.utils.events]: \u001b[0m eta: 0:28:34  iter: 13259  total_loss: 0.3528  loss_cls: 0.06236  loss_box_reg: 0.2364  loss_rpn_cls: 0.002989  loss_rpn_loc: 0.02004  time: 0.2716  data_time: 0.0017  lr: 0.001  max_mem: 3149M\n",
      "\u001b[32m[10/19 18:28:20 d2.utils.events]: \u001b[0m eta: 0:28:29  iter: 13279  total_loss: 0.3272  loss_cls: 0.06417  loss_box_reg: 0.2301  loss_rpn_cls: 0.002626  loss_rpn_loc: 0.01834  time: 0.2715  data_time: 0.0016  lr: 0.001  max_mem: 3149M\n",
      "\u001b[32m[10/19 18:28:25 d2.utils.events]: \u001b[0m eta: 0:28:23  iter: 13299  total_loss: 0.3778  loss_cls: 0.09496  loss_box_reg: 0.2262  loss_rpn_cls: 0.002523  loss_rpn_loc: 0.02184  time: 0.2715  data_time: 0.0016  lr: 0.001  max_mem: 3149M\n",
      "\u001b[32m[10/19 18:28:30 d2.utils.events]: \u001b[0m eta: 0:28:18  iter: 13319  total_loss: 0.3248  loss_cls: 0.06905  loss_box_reg: 0.2374  loss_rpn_cls: 0.001469  loss_rpn_loc: 0.02032  time: 0.2715  data_time: 0.0016  lr: 0.001  max_mem: 3149M\n",
      "\u001b[32m[10/19 18:28:35 d2.utils.events]: \u001b[0m eta: 0:28:12  iter: 13339  total_loss: 0.3554  loss_cls: 0.07411  loss_box_reg: 0.2532  loss_rpn_cls: 0.0026  loss_rpn_loc: 0.03675  time: 0.2715  data_time: 0.0016  lr: 0.001  max_mem: 3149M\n",
      "\u001b[32m[10/19 18:28:41 d2.utils.events]: \u001b[0m eta: 0:28:07  iter: 13359  total_loss: 0.4088  loss_cls: 0.08118  loss_box_reg: 0.2743  loss_rpn_cls: 0.00264  loss_rpn_loc: 0.02392  time: 0.2715  data_time: 0.0016  lr: 0.001  max_mem: 3149M\n",
      "\u001b[32m[10/19 18:28:46 d2.utils.events]: \u001b[0m eta: 0:28:01  iter: 13379  total_loss: 0.3868  loss_cls: 0.06612  loss_box_reg: 0.2761  loss_rpn_cls: 0.002223  loss_rpn_loc: 0.02469  time: 0.2714  data_time: 0.0016  lr: 0.001  max_mem: 3149M\n",
      "\u001b[32m[10/19 18:28:51 d2.utils.events]: \u001b[0m eta: 0:27:56  iter: 13399  total_loss: 0.3287  loss_cls: 0.07037  loss_box_reg: 0.2375  loss_rpn_cls: 0.002123  loss_rpn_loc: 0.02968  time: 0.2714  data_time: 0.0015  lr: 0.001  max_mem: 3149M\n",
      "\u001b[32m[10/19 18:28:56 d2.utils.events]: \u001b[0m eta: 0:27:50  iter: 13419  total_loss: 0.3502  loss_cls: 0.07955  loss_box_reg: 0.2335  loss_rpn_cls: 0.002804  loss_rpn_loc: 0.01713  time: 0.2714  data_time: 0.0016  lr: 0.001  max_mem: 3149M\n",
      "\u001b[32m[10/19 18:29:01 d2.utils.events]: \u001b[0m eta: 0:27:45  iter: 13439  total_loss: 0.3708  loss_cls: 0.08789  loss_box_reg: 0.2556  loss_rpn_cls: 0.002092  loss_rpn_loc: 0.02897  time: 0.2714  data_time: 0.0016  lr: 0.001  max_mem: 3149M\n",
      "\u001b[32m[10/19 18:29:06 d2.utils.events]: \u001b[0m eta: 0:27:39  iter: 13459  total_loss: 0.364  loss_cls: 0.08954  loss_box_reg: 0.2523  loss_rpn_cls: 0.003097  loss_rpn_loc: 0.02412  time: 0.2714  data_time: 0.0015  lr: 0.001  max_mem: 3149M\n",
      "\u001b[32m[10/19 18:29:12 d2.utils.events]: \u001b[0m eta: 0:27:33  iter: 13479  total_loss: 0.3618  loss_cls: 0.07684  loss_box_reg: 0.2552  loss_rpn_cls: 0.002514  loss_rpn_loc: 0.02155  time: 0.2713  data_time: 0.0016  lr: 0.001  max_mem: 3149M\n",
      "\u001b[32m[10/19 18:29:17 d2.utils.events]: \u001b[0m eta: 0:27:28  iter: 13499  total_loss: 0.3682  loss_cls: 0.06861  loss_box_reg: 0.2547  loss_rpn_cls: 0.006263  loss_rpn_loc: 0.0267  time: 0.2713  data_time: 0.0016  lr: 0.001  max_mem: 3149M\n",
      "\u001b[32m[10/19 18:29:22 d2.utils.events]: \u001b[0m eta: 0:27:23  iter: 13519  total_loss: 0.3413  loss_cls: 0.07002  loss_box_reg: 0.2617  loss_rpn_cls: 0.00188  loss_rpn_loc: 0.01615  time: 0.2713  data_time: 0.0016  lr: 0.001  max_mem: 3149M\n",
      "\u001b[32m[10/19 18:29:27 d2.utils.events]: \u001b[0m eta: 0:27:18  iter: 13539  total_loss: 0.3576  loss_cls: 0.08928  loss_box_reg: 0.2354  loss_rpn_cls: 0.00357  loss_rpn_loc: 0.02757  time: 0.2713  data_time: 0.0016  lr: 0.001  max_mem: 3149M\n",
      "\u001b[32m[10/19 18:29:33 d2.utils.events]: \u001b[0m eta: 0:27:13  iter: 13559  total_loss: 0.3547  loss_cls: 0.07396  loss_box_reg: 0.2373  loss_rpn_cls: 0.001658  loss_rpn_loc: 0.02671  time: 0.2713  data_time: 0.0016  lr: 0.001  max_mem: 3149M\n",
      "\u001b[32m[10/19 18:29:38 d2.utils.events]: \u001b[0m eta: 0:27:08  iter: 13579  total_loss: 0.3842  loss_cls: 0.08136  loss_box_reg: 0.2614  loss_rpn_cls: 0.002743  loss_rpn_loc: 0.02312  time: 0.2713  data_time: 0.0016  lr: 0.001  max_mem: 3149M\n",
      "\u001b[32m[10/19 18:29:43 d2.utils.events]: \u001b[0m eta: 0:27:02  iter: 13599  total_loss: 0.3887  loss_cls: 0.08921  loss_box_reg: 0.2553  loss_rpn_cls: 0.002641  loss_rpn_loc: 0.02115  time: 0.2712  data_time: 0.0016  lr: 0.001  max_mem: 3149M\n",
      "\u001b[32m[10/19 18:29:48 d2.utils.events]: \u001b[0m eta: 0:26:57  iter: 13619  total_loss: 0.3711  loss_cls: 0.08417  loss_box_reg: 0.2606  loss_rpn_cls: 0.002071  loss_rpn_loc: 0.02063  time: 0.2712  data_time: 0.0016  lr: 0.001  max_mem: 3149M\n",
      "\u001b[32m[10/19 18:29:53 d2.utils.events]: \u001b[0m eta: 0:26:51  iter: 13639  total_loss: 0.3485  loss_cls: 0.08819  loss_box_reg: 0.2361  loss_rpn_cls: 0.002229  loss_rpn_loc: 0.02545  time: 0.2712  data_time: 0.0015  lr: 0.001  max_mem: 3149M\n",
      "\u001b[32m[10/19 18:29:58 d2.utils.events]: \u001b[0m eta: 0:26:46  iter: 13659  total_loss: 0.3888  loss_cls: 0.07917  loss_box_reg: 0.2712  loss_rpn_cls: 0.003671  loss_rpn_loc: 0.02914  time: 0.2712  data_time: 0.0016  lr: 0.001  max_mem: 3149M\n",
      "\u001b[32m[10/19 18:30:03 d2.utils.events]: \u001b[0m eta: 0:26:39  iter: 13679  total_loss: 0.4072  loss_cls: 0.07235  loss_box_reg: 0.2951  loss_rpn_cls: 0.002573  loss_rpn_loc: 0.0282  time: 0.2712  data_time: 0.0016  lr: 0.001  max_mem: 3149M\n",
      "\u001b[32m[10/19 18:30:09 d2.utils.events]: \u001b[0m eta: 0:26:35  iter: 13699  total_loss: 0.3517  loss_cls: 0.07592  loss_box_reg: 0.2473  loss_rpn_cls: 0.002856  loss_rpn_loc: 0.02638  time: 0.2711  data_time: 0.0016  lr: 0.001  max_mem: 3149M\n",
      "\u001b[32m[10/19 18:30:14 d2.utils.events]: \u001b[0m eta: 0:26:29  iter: 13719  total_loss: 0.3682  loss_cls: 0.07823  loss_box_reg: 0.2582  loss_rpn_cls: 0.003902  loss_rpn_loc: 0.02455  time: 0.2711  data_time: 0.0016  lr: 0.001  max_mem: 3149M\n",
      "\u001b[32m[10/19 18:30:19 d2.utils.events]: \u001b[0m eta: 0:26:24  iter: 13739  total_loss: 0.312  loss_cls: 0.04597  loss_box_reg: 0.2351  loss_rpn_cls: 0.002002  loss_rpn_loc: 0.01625  time: 0.2711  data_time: 0.0016  lr: 0.001  max_mem: 3149M\n",
      "\u001b[32m[10/19 18:30:24 d2.utils.events]: \u001b[0m eta: 0:26:18  iter: 13759  total_loss: 0.3707  loss_cls: 0.09272  loss_box_reg: 0.2334  loss_rpn_cls: 0.003272  loss_rpn_loc: 0.02279  time: 0.2711  data_time: 0.0016  lr: 0.001  max_mem: 3149M\n",
      "\u001b[32m[10/19 18:30:29 d2.utils.events]: \u001b[0m eta: 0:26:12  iter: 13779  total_loss: 0.3313  loss_cls: 0.06792  loss_box_reg: 0.2389  loss_rpn_cls: 0.001438  loss_rpn_loc: 0.02054  time: 0.2711  data_time: 0.0015  lr: 0.001  max_mem: 3149M\n",
      "\u001b[32m[10/19 18:30:34 d2.utils.events]: \u001b[0m eta: 0:25:44  iter: 13799  total_loss: 0.3451  loss_cls: 0.08735  loss_box_reg: 0.2289  loss_rpn_cls: 0.002186  loss_rpn_loc: 0.01747  time: 0.2710  data_time: 0.0016  lr: 0.001  max_mem: 3149M\n",
      "\u001b[32m[10/19 18:30:40 d2.utils.events]: \u001b[0m eta: 0:26:01  iter: 13819  total_loss: 0.3635  loss_cls: 0.07196  loss_box_reg: 0.25  loss_rpn_cls: 0.002722  loss_rpn_loc: 0.03544  time: 0.2710  data_time: 0.0017  lr: 0.001  max_mem: 3149M\n",
      "\u001b[32m[10/19 18:30:45 d2.utils.events]: \u001b[0m eta: 0:25:57  iter: 13839  total_loss: 0.388  loss_cls: 0.08434  loss_box_reg: 0.2531  loss_rpn_cls: 0.002737  loss_rpn_loc: 0.02199  time: 0.2710  data_time: 0.0016  lr: 0.001  max_mem: 3149M\n",
      "\u001b[32m[10/19 18:30:50 d2.utils.events]: \u001b[0m eta: 0:25:51  iter: 13859  total_loss: 0.37  loss_cls: 0.0862  loss_box_reg: 0.2445  loss_rpn_cls: 0.001952  loss_rpn_loc: 0.02702  time: 0.2710  data_time: 0.0016  lr: 0.001  max_mem: 3149M\n",
      "\u001b[32m[10/19 18:30:55 d2.utils.events]: \u001b[0m eta: 0:25:46  iter: 13879  total_loss: 0.3627  loss_cls: 0.06386  loss_box_reg: 0.245  loss_rpn_cls: 0.002767  loss_rpn_loc: 0.02556  time: 0.2710  data_time: 0.0016  lr: 0.001  max_mem: 3149M\n",
      "\u001b[32m[10/19 18:31:00 d2.utils.events]: \u001b[0m eta: 0:25:41  iter: 13899  total_loss: 0.364  loss_cls: 0.07389  loss_box_reg: 0.246  loss_rpn_cls: 0.002309  loss_rpn_loc: 0.02714  time: 0.2710  data_time: 0.0016  lr: 0.001  max_mem: 3149M\n",
      "\u001b[32m[10/19 18:31:06 d2.utils.events]: \u001b[0m eta: 0:25:36  iter: 13919  total_loss: 0.3777  loss_cls: 0.07073  loss_box_reg: 0.2571  loss_rpn_cls: 0.002148  loss_rpn_loc: 0.02461  time: 0.2710  data_time: 0.0016  lr: 0.001  max_mem: 3149M\n",
      "\u001b[32m[10/19 18:31:11 d2.utils.events]: \u001b[0m eta: 0:25:30  iter: 13939  total_loss: 0.3456  loss_cls: 0.06073  loss_box_reg: 0.2592  loss_rpn_cls: 0.003698  loss_rpn_loc: 0.02329  time: 0.2709  data_time: 0.0016  lr: 0.001  max_mem: 3149M\n",
      "\u001b[32m[10/19 18:31:16 d2.utils.events]: \u001b[0m eta: 0:25:25  iter: 13959  total_loss: 0.3764  loss_cls: 0.07222  loss_box_reg: 0.2538  loss_rpn_cls: 0.003496  loss_rpn_loc: 0.02075  time: 0.2709  data_time: 0.0016  lr: 0.001  max_mem: 3149M\n",
      "\u001b[32m[10/19 18:31:21 d2.utils.events]: \u001b[0m eta: 0:25:19  iter: 13979  total_loss: 0.4053  loss_cls: 0.08621  loss_box_reg: 0.2593  loss_rpn_cls: 0.001776  loss_rpn_loc: 0.03275  time: 0.2709  data_time: 0.0015  lr: 0.001  max_mem: 3149M\n",
      "\u001b[32m[10/19 18:31:26 d2.utils.events]: \u001b[0m eta: 0:25:14  iter: 13999  total_loss: 0.3768  loss_cls: 0.09296  loss_box_reg: 0.2486  loss_rpn_cls: 0.002812  loss_rpn_loc: 0.02153  time: 0.2709  data_time: 0.0015  lr: 0.001  max_mem: 3149M\n",
      "\u001b[32m[10/19 18:31:32 d2.utils.events]: \u001b[0m eta: 0:25:09  iter: 14019  total_loss: 0.3431  loss_cls: 0.06257  loss_box_reg: 0.2422  loss_rpn_cls: 0.001962  loss_rpn_loc: 0.02686  time: 0.2709  data_time: 0.0015  lr: 0.001  max_mem: 3149M\n",
      "\u001b[32m[10/19 18:31:37 d2.utils.events]: \u001b[0m eta: 0:25:03  iter: 14039  total_loss: 0.4097  loss_cls: 0.09548  loss_box_reg: 0.2696  loss_rpn_cls: 0.00399  loss_rpn_loc: 0.02406  time: 0.2709  data_time: 0.0017  lr: 0.001  max_mem: 3149M\n",
      "\u001b[32m[10/19 18:31:42 d2.utils.events]: \u001b[0m eta: 0:24:58  iter: 14059  total_loss: 0.3606  loss_cls: 0.06809  loss_box_reg: 0.2469  loss_rpn_cls: 0.002231  loss_rpn_loc: 0.01746  time: 0.2708  data_time: 0.0016  lr: 0.001  max_mem: 3149M\n",
      "\u001b[32m[10/19 18:31:47 d2.utils.events]: \u001b[0m eta: 0:24:52  iter: 14079  total_loss: 0.3337  loss_cls: 0.06683  loss_box_reg: 0.2382  loss_rpn_cls: 0.003749  loss_rpn_loc: 0.01982  time: 0.2708  data_time: 0.0016  lr: 0.001  max_mem: 3149M\n",
      "\u001b[32m[10/19 18:31:53 d2.utils.events]: \u001b[0m eta: 0:24:47  iter: 14099  total_loss: 0.383  loss_cls: 0.07956  loss_box_reg: 0.2643  loss_rpn_cls: 0.001345  loss_rpn_loc: 0.01848  time: 0.2708  data_time: 0.0015  lr: 0.001  max_mem: 3149M\n",
      "\u001b[32m[10/19 18:31:58 d2.utils.events]: \u001b[0m eta: 0:24:41  iter: 14119  total_loss: 0.3594  loss_cls: 0.07775  loss_box_reg: 0.2439  loss_rpn_cls: 0.003035  loss_rpn_loc: 0.03406  time: 0.2708  data_time: 0.0016  lr: 0.001  max_mem: 3149M\n",
      "\u001b[32m[10/19 18:32:03 d2.utils.events]: \u001b[0m eta: 0:24:35  iter: 14139  total_loss: 0.3847  loss_cls: 0.07526  loss_box_reg: 0.256  loss_rpn_cls: 0.0031  loss_rpn_loc: 0.02058  time: 0.2708  data_time: 0.0016  lr: 0.001  max_mem: 3149M\n",
      "\u001b[32m[10/19 18:32:08 d2.utils.events]: \u001b[0m eta: 0:24:30  iter: 14159  total_loss: 0.3687  loss_cls: 0.07693  loss_box_reg: 0.2456  loss_rpn_cls: 0.001937  loss_rpn_loc: 0.02375  time: 0.2708  data_time: 0.0016  lr: 0.001  max_mem: 3149M\n",
      "\u001b[32m[10/19 18:32:13 d2.utils.events]: \u001b[0m eta: 0:24:25  iter: 14179  total_loss: 0.3321  loss_cls: 0.06174  loss_box_reg: 0.2446  loss_rpn_cls: 0.001699  loss_rpn_loc: 0.01421  time: 0.2707  data_time: 0.0016  lr: 0.001  max_mem: 3149M\n",
      "\u001b[32m[10/19 18:32:18 d2.utils.events]: \u001b[0m eta: 0:24:20  iter: 14199  total_loss: 0.3781  loss_cls: 0.06619  loss_box_reg: 0.2514  loss_rpn_cls: 0.003305  loss_rpn_loc: 0.02414  time: 0.2707  data_time: 0.0016  lr: 0.001  max_mem: 3149M\n",
      "\u001b[32m[10/19 18:32:23 d2.utils.events]: \u001b[0m eta: 0:24:14  iter: 14219  total_loss: 0.3354  loss_cls: 0.08092  loss_box_reg: 0.2344  loss_rpn_cls: 0.002028  loss_rpn_loc: 0.01765  time: 0.2707  data_time: 0.0015  lr: 0.001  max_mem: 3149M\n",
      "\u001b[32m[10/19 18:32:29 d2.utils.events]: \u001b[0m eta: 0:24:09  iter: 14239  total_loss: 0.3745  loss_cls: 0.07481  loss_box_reg: 0.2384  loss_rpn_cls: 0.002246  loss_rpn_loc: 0.02031  time: 0.2707  data_time: 0.0016  lr: 0.001  max_mem: 3149M\n",
      "\u001b[32m[10/19 18:32:34 d2.utils.events]: \u001b[0m eta: 0:24:03  iter: 14259  total_loss: 0.3763  loss_cls: 0.07519  loss_box_reg: 0.2563  loss_rpn_cls: 0.002547  loss_rpn_loc: 0.02185  time: 0.2707  data_time: 0.0016  lr: 0.001  max_mem: 3149M\n",
      "\u001b[32m[10/19 18:32:39 d2.utils.events]: \u001b[0m eta: 0:23:58  iter: 14279  total_loss: 0.452  loss_cls: 0.08223  loss_box_reg: 0.2753  loss_rpn_cls: 0.006557  loss_rpn_loc: 0.04318  time: 0.2707  data_time: 0.0016  lr: 0.001  max_mem: 3149M\n",
      "\u001b[32m[10/19 18:32:44 d2.utils.events]: \u001b[0m eta: 0:23:52  iter: 14299  total_loss: 0.3549  loss_cls: 0.0537  loss_box_reg: 0.2493  loss_rpn_cls: 0.00254  loss_rpn_loc: 0.03447  time: 0.2706  data_time: 0.0016  lr: 0.001  max_mem: 3149M\n",
      "\u001b[32m[10/19 18:32:50 d2.utils.events]: \u001b[0m eta: 0:23:48  iter: 14319  total_loss: 0.3312  loss_cls: 0.06238  loss_box_reg: 0.2373  loss_rpn_cls: 0.002585  loss_rpn_loc: 0.0219  time: 0.2706  data_time: 0.0015  lr: 0.001  max_mem: 3149M\n",
      "\u001b[32m[10/19 18:32:55 d2.utils.events]: \u001b[0m eta: 0:23:42  iter: 14339  total_loss: 0.3091  loss_cls: 0.05872  loss_box_reg: 0.2172  loss_rpn_cls: 0.001397  loss_rpn_loc: 0.01991  time: 0.2706  data_time: 0.0016  lr: 0.001  max_mem: 3149M\n",
      "\u001b[32m[10/19 18:33:00 d2.utils.events]: \u001b[0m eta: 0:23:37  iter: 14359  total_loss: 0.3655  loss_cls: 0.06915  loss_box_reg: 0.2692  loss_rpn_cls: 0.003196  loss_rpn_loc: 0.02684  time: 0.2706  data_time: 0.0016  lr: 0.001  max_mem: 3149M\n",
      "\u001b[32m[10/19 18:33:05 d2.utils.events]: \u001b[0m eta: 0:23:31  iter: 14379  total_loss: 0.3677  loss_cls: 0.07472  loss_box_reg: 0.2436  loss_rpn_cls: 0.00318  loss_rpn_loc: 0.02298  time: 0.2706  data_time: 0.0016  lr: 0.001  max_mem: 3149M\n",
      "\u001b[32m[10/19 18:33:10 d2.utils.events]: \u001b[0m eta: 0:23:26  iter: 14399  total_loss: 0.3627  loss_cls: 0.08477  loss_box_reg: 0.2449  loss_rpn_cls: 0.002533  loss_rpn_loc: 0.03256  time: 0.2706  data_time: 0.0016  lr: 0.001  max_mem: 3149M\n",
      "\u001b[32m[10/19 18:33:15 d2.utils.events]: \u001b[0m eta: 0:23:21  iter: 14419  total_loss: 0.3238  loss_cls: 0.06217  loss_box_reg: 0.2231  loss_rpn_cls: 0.0007244  loss_rpn_loc: 0.01687  time: 0.2705  data_time: 0.0016  lr: 0.001  max_mem: 3149M\n",
      "\u001b[32m[10/19 18:33:21 d2.utils.events]: \u001b[0m eta: 0:23:16  iter: 14439  total_loss: 0.4057  loss_cls: 0.09827  loss_box_reg: 0.2717  loss_rpn_cls: 0.002593  loss_rpn_loc: 0.02293  time: 0.2705  data_time: 0.0016  lr: 0.001  max_mem: 3149M\n",
      "\u001b[32m[10/19 18:33:26 d2.utils.events]: \u001b[0m eta: 0:23:10  iter: 14459  total_loss: 0.3562  loss_cls: 0.08282  loss_box_reg: 0.2466  loss_rpn_cls: 0.002387  loss_rpn_loc: 0.02611  time: 0.2705  data_time: 0.0016  lr: 0.001  max_mem: 3149M\n",
      "\u001b[32m[10/19 18:33:31 d2.utils.events]: \u001b[0m eta: 0:23:05  iter: 14479  total_loss: 0.3015  loss_cls: 0.0592  loss_box_reg: 0.2234  loss_rpn_cls: 0.001946  loss_rpn_loc: 0.01724  time: 0.2705  data_time: 0.0016  lr: 0.001  max_mem: 3149M\n",
      "\u001b[32m[10/19 18:33:36 d2.utils.events]: \u001b[0m eta: 0:22:59  iter: 14499  total_loss: 0.3716  loss_cls: 0.07998  loss_box_reg: 0.2365  loss_rpn_cls: 0.001982  loss_rpn_loc: 0.02628  time: 0.2705  data_time: 0.0016  lr: 0.001  max_mem: 3149M\n",
      "\u001b[32m[10/19 18:33:42 d2.utils.events]: \u001b[0m eta: 0:22:54  iter: 14519  total_loss: 0.3725  loss_cls: 0.07185  loss_box_reg: 0.253  loss_rpn_cls: 0.003531  loss_rpn_loc: 0.03349  time: 0.2705  data_time: 0.0016  lr: 0.001  max_mem: 3149M\n",
      "\u001b[32m[10/19 18:33:47 d2.utils.events]: \u001b[0m eta: 0:22:48  iter: 14539  total_loss: 0.3712  loss_cls: 0.08741  loss_box_reg: 0.2584  loss_rpn_cls: 0.001547  loss_rpn_loc: 0.0172  time: 0.2705  data_time: 0.0016  lr: 0.001  max_mem: 3149M\n",
      "\u001b[32m[10/19 18:33:52 d2.utils.events]: \u001b[0m eta: 0:22:43  iter: 14559  total_loss: 0.3107  loss_cls: 0.0622  loss_box_reg: 0.2202  loss_rpn_cls: 0.002729  loss_rpn_loc: 0.02059  time: 0.2704  data_time: 0.0016  lr: 0.001  max_mem: 3149M\n",
      "\u001b[32m[10/19 18:33:57 d2.utils.events]: \u001b[0m eta: 0:22:37  iter: 14579  total_loss: 0.3976  loss_cls: 0.1005  loss_box_reg: 0.2417  loss_rpn_cls: 0.002902  loss_rpn_loc: 0.03997  time: 0.2704  data_time: 0.0016  lr: 0.001  max_mem: 3149M\n",
      "\u001b[32m[10/19 18:34:02 d2.utils.events]: \u001b[0m eta: 0:22:32  iter: 14599  total_loss: 0.3056  loss_cls: 0.05338  loss_box_reg: 0.2253  loss_rpn_cls: 0.001493  loss_rpn_loc: 0.02031  time: 0.2704  data_time: 0.0016  lr: 0.001  max_mem: 3149M\n",
      "\u001b[32m[10/19 18:34:07 d2.utils.events]: \u001b[0m eta: 0:22:27  iter: 14619  total_loss: 0.307  loss_cls: 0.06334  loss_box_reg: 0.2246  loss_rpn_cls: 0.0025  loss_rpn_loc: 0.02357  time: 0.2704  data_time: 0.0016  lr: 0.001  max_mem: 3149M\n",
      "\u001b[32m[10/19 18:34:13 d2.utils.events]: \u001b[0m eta: 0:22:22  iter: 14639  total_loss: 0.2917  loss_cls: 0.05718  loss_box_reg: 0.2131  loss_rpn_cls: 0.00177  loss_rpn_loc: 0.01575  time: 0.2704  data_time: 0.0016  lr: 0.001  max_mem: 3149M\n",
      "\u001b[32m[10/19 18:34:18 d2.utils.events]: \u001b[0m eta: 0:22:16  iter: 14659  total_loss: 0.292  loss_cls: 0.04804  loss_box_reg: 0.2157  loss_rpn_cls: 0.002095  loss_rpn_loc: 0.02701  time: 0.2704  data_time: 0.0016  lr: 0.001  max_mem: 3149M\n",
      "\u001b[32m[10/19 18:34:23 d2.utils.events]: \u001b[0m eta: 0:22:11  iter: 14679  total_loss: 0.3542  loss_cls: 0.07941  loss_box_reg: 0.2589  loss_rpn_cls: 0.002745  loss_rpn_loc: 0.02868  time: 0.2703  data_time: 0.0016  lr: 0.001  max_mem: 3149M\n",
      "\u001b[32m[10/19 18:34:28 d2.utils.events]: \u001b[0m eta: 0:22:05  iter: 14699  total_loss: 0.3381  loss_cls: 0.06987  loss_box_reg: 0.2457  loss_rpn_cls: 0.001848  loss_rpn_loc: 0.02268  time: 0.2703  data_time: 0.0016  lr: 0.001  max_mem: 3149M\n",
      "\u001b[32m[10/19 18:34:33 d2.utils.events]: \u001b[0m eta: 0:22:00  iter: 14719  total_loss: 0.3335  loss_cls: 0.06382  loss_box_reg: 0.2316  loss_rpn_cls: 0.001932  loss_rpn_loc: 0.02129  time: 0.2703  data_time: 0.0015  lr: 0.001  max_mem: 3149M\n",
      "\u001b[32m[10/19 18:34:38 d2.utils.events]: \u001b[0m eta: 0:21:54  iter: 14739  total_loss: 0.3304  loss_cls: 0.06766  loss_box_reg: 0.2264  loss_rpn_cls: 0.002485  loss_rpn_loc: 0.02129  time: 0.2703  data_time: 0.0016  lr: 0.001  max_mem: 3149M\n",
      "\u001b[32m[10/19 18:34:44 d2.utils.events]: \u001b[0m eta: 0:21:49  iter: 14759  total_loss: 0.3638  loss_cls: 0.07136  loss_box_reg: 0.2473  loss_rpn_cls: 0.004492  loss_rpn_loc: 0.04134  time: 0.2703  data_time: 0.0015  lr: 0.001  max_mem: 3149M\n",
      "\u001b[32m[10/19 18:34:49 d2.utils.events]: \u001b[0m eta: 0:21:44  iter: 14779  total_loss: 0.3326  loss_cls: 0.06883  loss_box_reg: 0.2487  loss_rpn_cls: 0.001932  loss_rpn_loc: 0.01397  time: 0.2703  data_time: 0.0016  lr: 0.001  max_mem: 3149M\n",
      "\u001b[32m[10/19 18:34:54 d2.utils.events]: \u001b[0m eta: 0:21:38  iter: 14799  total_loss: 0.3767  loss_cls: 0.08047  loss_box_reg: 0.2478  loss_rpn_cls: 0.001145  loss_rpn_loc: 0.02305  time: 0.2702  data_time: 0.0016  lr: 0.001  max_mem: 3149M\n",
      "\u001b[32m[10/19 18:34:59 d2.utils.events]: \u001b[0m eta: 0:21:33  iter: 14819  total_loss: 0.3402  loss_cls: 0.08079  loss_box_reg: 0.2446  loss_rpn_cls: 0.002778  loss_rpn_loc: 0.02932  time: 0.2702  data_time: 0.0016  lr: 0.001  max_mem: 3149M\n",
      "\u001b[32m[10/19 18:35:04 d2.utils.events]: \u001b[0m eta: 0:21:27  iter: 14839  total_loss: 0.319  loss_cls: 0.05517  loss_box_reg: 0.2488  loss_rpn_cls: 0.002364  loss_rpn_loc: 0.02601  time: 0.2702  data_time: 0.0016  lr: 0.001  max_mem: 3149M\n",
      "\u001b[32m[10/19 18:35:10 d2.utils.events]: \u001b[0m eta: 0:21:22  iter: 14859  total_loss: 0.3622  loss_cls: 0.08879  loss_box_reg: 0.2377  loss_rpn_cls: 0.001467  loss_rpn_loc: 0.0126  time: 0.2702  data_time: 0.0016  lr: 0.001  max_mem: 3149M\n",
      "\u001b[32m[10/19 18:35:15 d2.utils.events]: \u001b[0m eta: 0:21:17  iter: 14879  total_loss: 0.3683  loss_cls: 0.08296  loss_box_reg: 0.2459  loss_rpn_cls: 0.001739  loss_rpn_loc: 0.02854  time: 0.2702  data_time: 0.0016  lr: 0.001  max_mem: 3149M\n",
      "\u001b[32m[10/19 18:35:20 d2.utils.events]: \u001b[0m eta: 0:21:11  iter: 14899  total_loss: 0.3057  loss_cls: 0.05303  loss_box_reg: 0.2322  loss_rpn_cls: 0.00214  loss_rpn_loc: 0.03728  time: 0.2702  data_time: 0.0016  lr: 0.001  max_mem: 3149M\n",
      "\u001b[32m[10/19 18:35:25 d2.utils.events]: \u001b[0m eta: 0:21:06  iter: 14919  total_loss: 0.3839  loss_cls: 0.07953  loss_box_reg: 0.2602  loss_rpn_cls: 0.002346  loss_rpn_loc: 0.02483  time: 0.2702  data_time: 0.0016  lr: 0.001  max_mem: 3149M\n",
      "\u001b[32m[10/19 18:35:30 d2.utils.events]: \u001b[0m eta: 0:21:01  iter: 14939  total_loss: 0.3269  loss_cls: 0.07687  loss_box_reg: 0.2484  loss_rpn_cls: 0.002093  loss_rpn_loc: 0.02499  time: 0.2702  data_time: 0.0016  lr: 0.001  max_mem: 3149M\n",
      "\u001b[32m[10/19 18:35:36 d2.utils.events]: \u001b[0m eta: 0:20:55  iter: 14959  total_loss: 0.3581  loss_cls: 0.06217  loss_box_reg: 0.2377  loss_rpn_cls: 0.002895  loss_rpn_loc: 0.03724  time: 0.2701  data_time: 0.0016  lr: 0.001  max_mem: 3149M\n",
      "\u001b[32m[10/19 18:35:41 d2.utils.events]: \u001b[0m eta: 0:20:50  iter: 14979  total_loss: 0.3441  loss_cls: 0.06572  loss_box_reg: 0.2306  loss_rpn_cls: 0.002491  loss_rpn_loc: 0.01587  time: 0.2701  data_time: 0.0016  lr: 0.001  max_mem: 3149M\n",
      "\u001b[32m[10/19 18:35:46 d2.utils.events]: \u001b[0m eta: 0:20:44  iter: 14999  total_loss: 0.3881  loss_cls: 0.08063  loss_box_reg: 0.2418  loss_rpn_cls: 0.002789  loss_rpn_loc: 0.03203  time: 0.2701  data_time: 0.0016  lr: 0.001  max_mem: 3149M\n",
      "\u001b[32m[10/19 18:35:51 d2.utils.events]: \u001b[0m eta: 0:20:39  iter: 15019  total_loss: 0.324  loss_cls: 0.07764  loss_box_reg: 0.2316  loss_rpn_cls: 0.001767  loss_rpn_loc: 0.01927  time: 0.2701  data_time: 0.0015  lr: 0.001  max_mem: 3149M\n",
      "\u001b[32m[10/19 18:35:56 d2.utils.events]: \u001b[0m eta: 0:20:34  iter: 15039  total_loss: 0.326  loss_cls: 0.08061  loss_box_reg: 0.2332  loss_rpn_cls: 0.003508  loss_rpn_loc: 0.02694  time: 0.2701  data_time: 0.0016  lr: 0.001  max_mem: 3149M\n",
      "\u001b[32m[10/19 18:36:02 d2.utils.events]: \u001b[0m eta: 0:20:28  iter: 15059  total_loss: 0.3254  loss_cls: 0.0828  loss_box_reg: 0.238  loss_rpn_cls: 0.001269  loss_rpn_loc: 0.01586  time: 0.2701  data_time: 0.0016  lr: 0.001  max_mem: 3149M\n",
      "\u001b[32m[10/19 18:36:07 d2.utils.events]: \u001b[0m eta: 0:20:23  iter: 15079  total_loss: 0.4093  loss_cls: 0.0871  loss_box_reg: 0.2723  loss_rpn_cls: 0.004129  loss_rpn_loc: 0.03603  time: 0.2701  data_time: 0.0016  lr: 0.001  max_mem: 3149M\n",
      "\u001b[32m[10/19 18:36:12 d2.utils.events]: \u001b[0m eta: 0:20:18  iter: 15099  total_loss: 0.3538  loss_cls: 0.07194  loss_box_reg: 0.2548  loss_rpn_cls: 0.003823  loss_rpn_loc: 0.02113  time: 0.2700  data_time: 0.0016  lr: 0.001  max_mem: 3149M\n",
      "\u001b[32m[10/19 18:36:17 d2.utils.events]: \u001b[0m eta: 0:20:12  iter: 15119  total_loss: 0.3336  loss_cls: 0.0687  loss_box_reg: 0.2287  loss_rpn_cls: 0.002187  loss_rpn_loc: 0.01512  time: 0.2700  data_time: 0.0016  lr: 0.001  max_mem: 3149M\n",
      "\u001b[32m[10/19 18:36:23 d2.utils.events]: \u001b[0m eta: 0:20:07  iter: 15139  total_loss: 0.3754  loss_cls: 0.08076  loss_box_reg: 0.2534  loss_rpn_cls: 0.002859  loss_rpn_loc: 0.0309  time: 0.2700  data_time: 0.0016  lr: 0.001  max_mem: 3149M\n",
      "\u001b[32m[10/19 18:36:28 d2.utils.events]: \u001b[0m eta: 0:20:02  iter: 15159  total_loss: 0.3027  loss_cls: 0.05626  loss_box_reg: 0.2446  loss_rpn_cls: 0.001867  loss_rpn_loc: 0.01469  time: 0.2700  data_time: 0.0016  lr: 0.001  max_mem: 3149M\n",
      "\u001b[32m[10/19 18:36:33 d2.utils.events]: \u001b[0m eta: 0:19:56  iter: 15179  total_loss: 0.339  loss_cls: 0.08771  loss_box_reg: 0.239  loss_rpn_cls: 0.001476  loss_rpn_loc: 0.01742  time: 0.2700  data_time: 0.0016  lr: 0.001  max_mem: 3149M\n",
      "\u001b[32m[10/19 18:36:38 d2.utils.events]: \u001b[0m eta: 0:19:51  iter: 15199  total_loss: 0.3176  loss_cls: 0.05559  loss_box_reg: 0.2374  loss_rpn_cls: 0.001639  loss_rpn_loc: 0.02699  time: 0.2700  data_time: 0.0016  lr: 0.001  max_mem: 3149M\n",
      "\u001b[32m[10/19 18:36:43 d2.utils.events]: \u001b[0m eta: 0:19:45  iter: 15219  total_loss: 0.3546  loss_cls: 0.0735  loss_box_reg: 0.2526  loss_rpn_cls: 0.001884  loss_rpn_loc: 0.02062  time: 0.2700  data_time: 0.0016  lr: 0.001  max_mem: 3149M\n",
      "\u001b[32m[10/19 18:36:48 d2.utils.events]: \u001b[0m eta: 0:19:40  iter: 15239  total_loss: 0.3954  loss_cls: 0.08893  loss_box_reg: 0.2577  loss_rpn_cls: 0.00244  loss_rpn_loc: 0.02473  time: 0.2699  data_time: 0.0016  lr: 0.001  max_mem: 3149M\n",
      "\u001b[32m[10/19 18:36:54 d2.utils.events]: \u001b[0m eta: 0:19:34  iter: 15259  total_loss: 0.3272  loss_cls: 0.06703  loss_box_reg: 0.2358  loss_rpn_cls: 0.001549  loss_rpn_loc: 0.0133  time: 0.2699  data_time: 0.0016  lr: 0.001  max_mem: 3149M\n",
      "\u001b[32m[10/19 18:36:59 d2.utils.events]: \u001b[0m eta: 0:19:29  iter: 15279  total_loss: 0.334  loss_cls: 0.05637  loss_box_reg: 0.2338  loss_rpn_cls: 0.001711  loss_rpn_loc: 0.02588  time: 0.2699  data_time: 0.0016  lr: 0.001  max_mem: 3149M\n",
      "\u001b[32m[10/19 18:37:04 d2.utils.events]: \u001b[0m eta: 0:19:23  iter: 15299  total_loss: 0.3739  loss_cls: 0.08846  loss_box_reg: 0.2493  loss_rpn_cls: 0.001654  loss_rpn_loc: 0.02062  time: 0.2699  data_time: 0.0016  lr: 0.001  max_mem: 3149M\n",
      "\u001b[32m[10/19 18:37:09 d2.utils.events]: \u001b[0m eta: 0:19:18  iter: 15319  total_loss: 0.3518  loss_cls: 0.0844  loss_box_reg: 0.2315  loss_rpn_cls: 0.003065  loss_rpn_loc: 0.03395  time: 0.2699  data_time: 0.0016  lr: 0.001  max_mem: 3149M\n",
      "\u001b[32m[10/19 18:37:14 d2.utils.events]: \u001b[0m eta: 0:19:13  iter: 15339  total_loss: 0.346  loss_cls: 0.0809  loss_box_reg: 0.243  loss_rpn_cls: 0.001644  loss_rpn_loc: 0.01993  time: 0.2699  data_time: 0.0016  lr: 0.001  max_mem: 3149M\n",
      "\u001b[32m[10/19 18:37:19 d2.utils.events]: \u001b[0m eta: 0:19:07  iter: 15359  total_loss: 0.3618  loss_cls: 0.07739  loss_box_reg: 0.2407  loss_rpn_cls: 0.003233  loss_rpn_loc: 0.02643  time: 0.2698  data_time: 0.0016  lr: 0.001  max_mem: 3149M\n",
      "\u001b[32m[10/19 18:37:25 d2.utils.events]: \u001b[0m eta: 0:19:01  iter: 15379  total_loss: 0.331  loss_cls: 0.07264  loss_box_reg: 0.2249  loss_rpn_cls: 0.00216  loss_rpn_loc: 0.01833  time: 0.2698  data_time: 0.0016  lr: 0.001  max_mem: 3149M\n",
      "\u001b[32m[10/19 18:37:30 d2.utils.events]: \u001b[0m eta: 0:18:56  iter: 15399  total_loss: 0.366  loss_cls: 0.08418  loss_box_reg: 0.2331  loss_rpn_cls: 0.002636  loss_rpn_loc: 0.03071  time: 0.2698  data_time: 0.0015  lr: 0.001  max_mem: 3149M\n",
      "\u001b[32m[10/19 18:37:35 d2.utils.events]: \u001b[0m eta: 0:18:50  iter: 15419  total_loss: 0.3465  loss_cls: 0.06251  loss_box_reg: 0.2504  loss_rpn_cls: 0.002123  loss_rpn_loc: 0.03361  time: 0.2698  data_time: 0.0016  lr: 0.001  max_mem: 3149M\n",
      "\u001b[32m[10/19 18:37:40 d2.utils.events]: \u001b[0m eta: 0:18:45  iter: 15439  total_loss: 0.3399  loss_cls: 0.05647  loss_box_reg: 0.2391  loss_rpn_cls: 0.002635  loss_rpn_loc: 0.02302  time: 0.2698  data_time: 0.0016  lr: 0.001  max_mem: 3149M\n",
      "\u001b[32m[10/19 18:37:45 d2.utils.events]: \u001b[0m eta: 0:18:40  iter: 15459  total_loss: 0.3151  loss_cls: 0.07536  loss_box_reg: 0.2394  loss_rpn_cls: 0.001507  loss_rpn_loc: 0.01533  time: 0.2698  data_time: 0.0016  lr: 0.001  max_mem: 3149M\n",
      "\u001b[32m[10/19 18:37:51 d2.utils.events]: \u001b[0m eta: 0:18:34  iter: 15479  total_loss: 0.3521  loss_cls: 0.05111  loss_box_reg: 0.2465  loss_rpn_cls: 0.002121  loss_rpn_loc: 0.02974  time: 0.2698  data_time: 0.0016  lr: 0.001  max_mem: 3149M\n",
      "\u001b[32m[10/19 18:37:56 d2.utils.events]: \u001b[0m eta: 0:18:29  iter: 15499  total_loss: 0.3757  loss_cls: 0.07971  loss_box_reg: 0.2585  loss_rpn_cls: 0.001315  loss_rpn_loc: 0.02869  time: 0.2697  data_time: 0.0016  lr: 0.001  max_mem: 3149M\n",
      "\u001b[32m[10/19 18:38:01 d2.utils.events]: \u001b[0m eta: 0:18:23  iter: 15519  total_loss: 0.3369  loss_cls: 0.08879  loss_box_reg: 0.2428  loss_rpn_cls: 0.002089  loss_rpn_loc: 0.01936  time: 0.2697  data_time: 0.0016  lr: 0.001  max_mem: 3149M\n",
      "\u001b[32m[10/19 18:38:06 d2.utils.events]: \u001b[0m eta: 0:18:18  iter: 15539  total_loss: 0.2867  loss_cls: 0.04739  loss_box_reg: 0.2027  loss_rpn_cls: 0.00153  loss_rpn_loc: 0.016  time: 0.2697  data_time: 0.0016  lr: 0.001  max_mem: 3149M\n",
      "\u001b[32m[10/19 18:38:11 d2.utils.events]: \u001b[0m eta: 0:18:13  iter: 15559  total_loss: 0.3941  loss_cls: 0.08903  loss_box_reg: 0.2666  loss_rpn_cls: 0.002688  loss_rpn_loc: 0.02988  time: 0.2697  data_time: 0.0016  lr: 0.001  max_mem: 3149M\n",
      "\u001b[32m[10/19 18:38:17 d2.utils.events]: \u001b[0m eta: 0:18:07  iter: 15579  total_loss: 0.3484  loss_cls: 0.06398  loss_box_reg: 0.2303  loss_rpn_cls: 0.002649  loss_rpn_loc: 0.02032  time: 0.2697  data_time: 0.0016  lr: 0.001  max_mem: 3149M\n",
      "\u001b[32m[10/19 18:38:22 d2.utils.events]: \u001b[0m eta: 0:18:02  iter: 15599  total_loss: 0.3634  loss_cls: 0.05799  loss_box_reg: 0.241  loss_rpn_cls: 0.001878  loss_rpn_loc: 0.02054  time: 0.2697  data_time: 0.0016  lr: 0.001  max_mem: 3149M\n",
      "\u001b[32m[10/19 18:38:27 d2.utils.events]: \u001b[0m eta: 0:17:56  iter: 15619  total_loss: 0.2938  loss_cls: 0.0624  loss_box_reg: 0.2169  loss_rpn_cls: 0.002875  loss_rpn_loc: 0.01345  time: 0.2697  data_time: 0.0016  lr: 0.001  max_mem: 3149M\n",
      "\u001b[32m[10/19 18:38:32 d2.utils.events]: \u001b[0m eta: 0:17:51  iter: 15639  total_loss: 0.3574  loss_cls: 0.06607  loss_box_reg: 0.2324  loss_rpn_cls: 0.001941  loss_rpn_loc: 0.0245  time: 0.2696  data_time: 0.0015  lr: 0.001  max_mem: 3149M\n",
      "\u001b[32m[10/19 18:38:37 d2.utils.events]: \u001b[0m eta: 0:17:45  iter: 15659  total_loss: 0.3597  loss_cls: 0.07381  loss_box_reg: 0.2475  loss_rpn_cls: 0.002043  loss_rpn_loc: 0.02169  time: 0.2696  data_time: 0.0016  lr: 0.001  max_mem: 3149M\n",
      "\u001b[32m[10/19 18:38:42 d2.utils.events]: \u001b[0m eta: 0:17:40  iter: 15679  total_loss: 0.3407  loss_cls: 0.05626  loss_box_reg: 0.2587  loss_rpn_cls: 0.002806  loss_rpn_loc: 0.02852  time: 0.2696  data_time: 0.0016  lr: 0.001  max_mem: 3149M\n",
      "\u001b[32m[10/19 18:38:48 d2.utils.events]: \u001b[0m eta: 0:17:35  iter: 15699  total_loss: 0.36  loss_cls: 0.08007  loss_box_reg: 0.2476  loss_rpn_cls: 0.001869  loss_rpn_loc: 0.02351  time: 0.2696  data_time: 0.0016  lr: 0.001  max_mem: 3149M\n",
      "\u001b[32m[10/19 18:38:53 d2.utils.events]: \u001b[0m eta: 0:17:29  iter: 15719  total_loss: 0.359  loss_cls: 0.07778  loss_box_reg: 0.2348  loss_rpn_cls: 0.002241  loss_rpn_loc: 0.03147  time: 0.2696  data_time: 0.0015  lr: 0.001  max_mem: 3149M\n",
      "\u001b[32m[10/19 18:38:58 d2.utils.events]: \u001b[0m eta: 0:17:24  iter: 15739  total_loss: 0.3769  loss_cls: 0.07659  loss_box_reg: 0.2255  loss_rpn_cls: 0.001909  loss_rpn_loc: 0.0274  time: 0.2696  data_time: 0.0016  lr: 0.001  max_mem: 3149M\n",
      "\u001b[32m[10/19 18:39:03 d2.utils.events]: \u001b[0m eta: 0:17:19  iter: 15759  total_loss: 0.3148  loss_cls: 0.07159  loss_box_reg: 0.2225  loss_rpn_cls: 0.001988  loss_rpn_loc: 0.01528  time: 0.2696  data_time: 0.0016  lr: 0.001  max_mem: 3149M\n",
      "\u001b[32m[10/19 18:39:08 d2.utils.events]: \u001b[0m eta: 0:17:13  iter: 15779  total_loss: 0.3103  loss_cls: 0.06002  loss_box_reg: 0.2253  loss_rpn_cls: 0.001615  loss_rpn_loc: 0.01838  time: 0.2696  data_time: 0.0016  lr: 0.001  max_mem: 3149M\n",
      "\u001b[32m[10/19 18:39:14 d2.utils.events]: \u001b[0m eta: 0:17:08  iter: 15799  total_loss: 0.358  loss_cls: 0.06974  loss_box_reg: 0.2493  loss_rpn_cls: 0.002882  loss_rpn_loc: 0.02761  time: 0.2695  data_time: 0.0016  lr: 0.001  max_mem: 3149M\n",
      "\u001b[32m[10/19 18:39:19 d2.utils.events]: \u001b[0m eta: 0:17:03  iter: 15819  total_loss: 0.4126  loss_cls: 0.08741  loss_box_reg: 0.2338  loss_rpn_cls: 0.003284  loss_rpn_loc: 0.03729  time: 0.2695  data_time: 0.0017  lr: 0.001  max_mem: 3149M\n",
      "\u001b[32m[10/19 18:39:24 d2.utils.events]: \u001b[0m eta: 0:16:57  iter: 15839  total_loss: 0.3181  loss_cls: 0.05762  loss_box_reg: 0.2261  loss_rpn_cls: 0.001806  loss_rpn_loc: 0.0148  time: 0.2695  data_time: 0.0016  lr: 0.001  max_mem: 3149M\n",
      "\u001b[32m[10/19 18:39:29 d2.utils.events]: \u001b[0m eta: 0:16:52  iter: 15859  total_loss: 0.331  loss_cls: 0.06212  loss_box_reg: 0.2439  loss_rpn_cls: 0.001568  loss_rpn_loc: 0.0197  time: 0.2695  data_time: 0.0016  lr: 0.001  max_mem: 3149M\n",
      "\u001b[32m[10/19 18:39:34 d2.utils.events]: \u001b[0m eta: 0:16:46  iter: 15879  total_loss: 0.3285  loss_cls: 0.06288  loss_box_reg: 0.238  loss_rpn_cls: 0.00216  loss_rpn_loc: 0.02079  time: 0.2695  data_time: 0.0016  lr: 0.001  max_mem: 3149M\n",
      "\u001b[32m[10/19 18:39:39 d2.utils.events]: \u001b[0m eta: 0:16:41  iter: 15899  total_loss: 0.32  loss_cls: 0.03879  loss_box_reg: 0.2281  loss_rpn_cls: 0.001588  loss_rpn_loc: 0.02452  time: 0.2695  data_time: 0.0016  lr: 0.001  max_mem: 3149M\n",
      "\u001b[32m[10/19 18:39:45 d2.utils.events]: \u001b[0m eta: 0:16:35  iter: 15919  total_loss: 0.3684  loss_cls: 0.06872  loss_box_reg: 0.2478  loss_rpn_cls: 0.00135  loss_rpn_loc: 0.03066  time: 0.2695  data_time: 0.0016  lr: 0.001  max_mem: 3149M\n",
      "\u001b[32m[10/19 18:39:50 d2.utils.events]: \u001b[0m eta: 0:16:29  iter: 15939  total_loss: 0.3558  loss_cls: 0.08175  loss_box_reg: 0.2429  loss_rpn_cls: 0.003398  loss_rpn_loc: 0.03461  time: 0.2694  data_time: 0.0016  lr: 0.001  max_mem: 3149M\n",
      "\u001b[32m[10/19 18:39:55 d2.utils.events]: \u001b[0m eta: 0:16:24  iter: 15959  total_loss: 0.333  loss_cls: 0.06588  loss_box_reg: 0.2328  loss_rpn_cls: 0.0009947  loss_rpn_loc: 0.01578  time: 0.2694  data_time: 0.0016  lr: 0.001  max_mem: 3149M\n",
      "\u001b[32m[10/19 18:40:00 d2.utils.events]: \u001b[0m eta: 0:16:19  iter: 15979  total_loss: 0.364  loss_cls: 0.07193  loss_box_reg: 0.2477  loss_rpn_cls: 0.00277  loss_rpn_loc: 0.02571  time: 0.2694  data_time: 0.0016  lr: 0.001  max_mem: 3149M\n",
      "\u001b[32m[10/19 18:40:05 d2.utils.events]: \u001b[0m eta: 0:16:13  iter: 15999  total_loss: 0.3264  loss_cls: 0.06287  loss_box_reg: 0.2296  loss_rpn_cls: 0.002243  loss_rpn_loc: 0.02188  time: 0.2694  data_time: 0.0015  lr: 0.001  max_mem: 3149M\n",
      "\u001b[32m[10/19 18:40:11 d2.utils.events]: \u001b[0m eta: 0:16:08  iter: 16019  total_loss: 0.3475  loss_cls: 0.06719  loss_box_reg: 0.2558  loss_rpn_cls: 0.002131  loss_rpn_loc: 0.02687  time: 0.2694  data_time: 0.0016  lr: 0.001  max_mem: 3149M\n",
      "\u001b[32m[10/19 18:40:16 d2.utils.events]: \u001b[0m eta: 0:16:02  iter: 16039  total_loss: 0.3045  loss_cls: 0.05885  loss_box_reg: 0.2267  loss_rpn_cls: 0.002039  loss_rpn_loc: 0.01372  time: 0.2694  data_time: 0.0015  lr: 0.001  max_mem: 3149M\n",
      "\u001b[32m[10/19 18:40:21 d2.utils.events]: \u001b[0m eta: 0:15:57  iter: 16059  total_loss: 0.3542  loss_cls: 0.0914  loss_box_reg: 0.2641  loss_rpn_cls: 0.002542  loss_rpn_loc: 0.02172  time: 0.2694  data_time: 0.0016  lr: 0.001  max_mem: 3149M\n",
      "\u001b[32m[10/19 18:40:26 d2.utils.events]: \u001b[0m eta: 0:15:52  iter: 16079  total_loss: 0.3425  loss_cls: 0.0735  loss_box_reg: 0.2304  loss_rpn_cls: 0.002077  loss_rpn_loc: 0.0177  time: 0.2694  data_time: 0.0016  lr: 0.001  max_mem: 3149M\n",
      "\u001b[32m[10/19 18:40:31 d2.utils.events]: \u001b[0m eta: 0:15:46  iter: 16099  total_loss: 0.3951  loss_cls: 0.06576  loss_box_reg: 0.2626  loss_rpn_cls: 0.003307  loss_rpn_loc: 0.03258  time: 0.2693  data_time: 0.0016  lr: 0.001  max_mem: 3149M\n",
      "\u001b[32m[10/19 18:40:36 d2.utils.events]: \u001b[0m eta: 0:15:40  iter: 16119  total_loss: 0.3431  loss_cls: 0.05971  loss_box_reg: 0.2416  loss_rpn_cls: 0.00331  loss_rpn_loc: 0.02981  time: 0.2693  data_time: 0.0015  lr: 0.001  max_mem: 3149M\n",
      "\u001b[32m[10/19 18:40:42 d2.utils.events]: \u001b[0m eta: 0:15:35  iter: 16139  total_loss: 0.3678  loss_cls: 0.07606  loss_box_reg: 0.257  loss_rpn_cls: 0.00396  loss_rpn_loc: 0.03435  time: 0.2693  data_time: 0.0016  lr: 0.001  max_mem: 3149M\n",
      "\u001b[32m[10/19 18:40:47 d2.utils.events]: \u001b[0m eta: 0:15:29  iter: 16159  total_loss: 0.321  loss_cls: 0.05732  loss_box_reg: 0.2368  loss_rpn_cls: 0.002896  loss_rpn_loc: 0.02047  time: 0.2693  data_time: 0.0016  lr: 0.001  max_mem: 3149M\n",
      "\u001b[32m[10/19 18:40:52 d2.utils.events]: \u001b[0m eta: 0:15:24  iter: 16179  total_loss: 0.3255  loss_cls: 0.07905  loss_box_reg: 0.2357  loss_rpn_cls: 0.001595  loss_rpn_loc: 0.01855  time: 0.2693  data_time: 0.0016  lr: 0.001  max_mem: 3149M\n",
      "\u001b[32m[10/19 18:40:57 d2.utils.events]: \u001b[0m eta: 0:15:19  iter: 16199  total_loss: 0.309  loss_cls: 0.06299  loss_box_reg: 0.2299  loss_rpn_cls: 0.001524  loss_rpn_loc: 0.01785  time: 0.2693  data_time: 0.0016  lr: 0.001  max_mem: 3149M\n",
      "\u001b[32m[10/19 18:41:02 d2.utils.events]: \u001b[0m eta: 0:15:13  iter: 16219  total_loss: 0.3537  loss_cls: 0.08186  loss_box_reg: 0.2309  loss_rpn_cls: 0.003505  loss_rpn_loc: 0.0257  time: 0.2693  data_time: 0.0016  lr: 0.001  max_mem: 3149M\n",
      "\u001b[32m[10/19 18:41:07 d2.utils.events]: \u001b[0m eta: 0:15:08  iter: 16239  total_loss: 0.3457  loss_cls: 0.05024  loss_box_reg: 0.2389  loss_rpn_cls: 0.0009223  loss_rpn_loc: 0.01973  time: 0.2692  data_time: 0.0016  lr: 0.001  max_mem: 3149M\n",
      "\u001b[32m[10/19 18:41:12 d2.utils.events]: \u001b[0m eta: 0:15:02  iter: 16259  total_loss: 0.3662  loss_cls: 0.09288  loss_box_reg: 0.2615  loss_rpn_cls: 0.001617  loss_rpn_loc: 0.02639  time: 0.2692  data_time: 0.0016  lr: 0.001  max_mem: 3149M\n",
      "\u001b[32m[10/19 18:41:18 d2.utils.events]: \u001b[0m eta: 0:14:57  iter: 16279  total_loss: 0.3805  loss_cls: 0.07734  loss_box_reg: 0.2636  loss_rpn_cls: 0.002549  loss_rpn_loc: 0.03213  time: 0.2692  data_time: 0.0016  lr: 0.001  max_mem: 3149M\n",
      "\u001b[32m[10/19 18:41:23 d2.utils.events]: \u001b[0m eta: 0:14:52  iter: 16299  total_loss: 0.3193  loss_cls: 0.06172  loss_box_reg: 0.2374  loss_rpn_cls: 0.003021  loss_rpn_loc: 0.01551  time: 0.2692  data_time: 0.0016  lr: 0.001  max_mem: 3149M\n",
      "\u001b[32m[10/19 18:41:28 d2.utils.events]: \u001b[0m eta: 0:14:46  iter: 16319  total_loss: 0.3216  loss_cls: 0.07259  loss_box_reg: 0.225  loss_rpn_cls: 0.00347  loss_rpn_loc: 0.02617  time: 0.2692  data_time: 0.0016  lr: 0.001  max_mem: 3149M\n",
      "\u001b[32m[10/19 18:41:33 d2.utils.events]: \u001b[0m eta: 0:14:40  iter: 16339  total_loss: 0.3915  loss_cls: 0.07767  loss_box_reg: 0.2443  loss_rpn_cls: 0.002877  loss_rpn_loc: 0.02436  time: 0.2692  data_time: 0.0016  lr: 0.001  max_mem: 3149M\n",
      "\u001b[32m[10/19 18:41:38 d2.utils.events]: \u001b[0m eta: 0:14:36  iter: 16359  total_loss: 0.3611  loss_cls: 0.07254  loss_box_reg: 0.2374  loss_rpn_cls: 0.002304  loss_rpn_loc: 0.02464  time: 0.2692  data_time: 0.0016  lr: 0.001  max_mem: 3149M\n",
      "\u001b[32m[10/19 18:41:44 d2.utils.events]: \u001b[0m eta: 0:14:30  iter: 16379  total_loss: 0.3487  loss_cls: 0.06715  loss_box_reg: 0.2413  loss_rpn_cls: 0.003347  loss_rpn_loc: 0.03262  time: 0.2691  data_time: 0.0016  lr: 0.001  max_mem: 3149M\n",
      "\u001b[32m[10/19 18:41:49 d2.utils.events]: \u001b[0m eta: 0:14:25  iter: 16399  total_loss: 0.3416  loss_cls: 0.07444  loss_box_reg: 0.2265  loss_rpn_cls: 0.003328  loss_rpn_loc: 0.03087  time: 0.2691  data_time: 0.0016  lr: 0.001  max_mem: 3149M\n",
      "\u001b[32m[10/19 18:41:54 d2.utils.events]: \u001b[0m eta: 0:14:19  iter: 16419  total_loss: 0.3467  loss_cls: 0.07363  loss_box_reg: 0.2448  loss_rpn_cls: 0.001681  loss_rpn_loc: 0.01852  time: 0.2691  data_time: 0.0016  lr: 0.001  max_mem: 3149M\n",
      "\u001b[32m[10/19 18:41:59 d2.utils.events]: \u001b[0m eta: 0:14:13  iter: 16439  total_loss: 0.3119  loss_cls: 0.05877  loss_box_reg: 0.2273  loss_rpn_cls: 0.001235  loss_rpn_loc: 0.01839  time: 0.2691  data_time: 0.0016  lr: 0.001  max_mem: 3149M\n",
      "\u001b[32m[10/19 18:42:04 d2.utils.events]: \u001b[0m eta: 0:14:07  iter: 16459  total_loss: 0.3445  loss_cls: 0.08743  loss_box_reg: 0.231  loss_rpn_cls: 0.001307  loss_rpn_loc: 0.01721  time: 0.2691  data_time: 0.0016  lr: 0.001  max_mem: 3149M\n",
      "\u001b[32m[10/19 18:42:09 d2.utils.events]: \u001b[0m eta: 0:14:02  iter: 16479  total_loss: 0.3446  loss_cls: 0.08402  loss_box_reg: 0.2293  loss_rpn_cls: 0.001825  loss_rpn_loc: 0.02705  time: 0.2691  data_time: 0.0016  lr: 0.001  max_mem: 3149M\n",
      "\u001b[32m[10/19 18:42:14 d2.utils.events]: \u001b[0m eta: 0:13:57  iter: 16499  total_loss: 0.3169  loss_cls: 0.0751  loss_box_reg: 0.2193  loss_rpn_cls: 0.002268  loss_rpn_loc: 0.01371  time: 0.2690  data_time: 0.0016  lr: 0.001  max_mem: 3149M\n",
      "\u001b[32m[10/19 18:42:20 d2.utils.events]: \u001b[0m eta: 0:13:52  iter: 16519  total_loss: 0.3812  loss_cls: 0.09366  loss_box_reg: 0.2373  loss_rpn_cls: 0.002727  loss_rpn_loc: 0.02771  time: 0.2690  data_time: 0.0015  lr: 0.001  max_mem: 3149M\n",
      "\u001b[32m[10/19 18:42:25 d2.utils.events]: \u001b[0m eta: 0:13:46  iter: 16539  total_loss: 0.3194  loss_cls: 0.08509  loss_box_reg: 0.2199  loss_rpn_cls: 0.001686  loss_rpn_loc: 0.01794  time: 0.2690  data_time: 0.0016  lr: 0.001  max_mem: 3149M\n",
      "\u001b[32m[10/19 18:42:30 d2.utils.events]: \u001b[0m eta: 0:13:40  iter: 16559  total_loss: 0.344  loss_cls: 0.06741  loss_box_reg: 0.2377  loss_rpn_cls: 0.002665  loss_rpn_loc: 0.02433  time: 0.2690  data_time: 0.0016  lr: 0.001  max_mem: 3149M\n",
      "\u001b[32m[10/19 18:42:35 d2.utils.events]: \u001b[0m eta: 0:13:35  iter: 16579  total_loss: 0.339  loss_cls: 0.07198  loss_box_reg: 0.2215  loss_rpn_cls: 0.002086  loss_rpn_loc: 0.01779  time: 0.2690  data_time: 0.0016  lr: 0.001  max_mem: 3149M\n",
      "\u001b[32m[10/19 18:42:40 d2.utils.events]: \u001b[0m eta: 0:13:30  iter: 16599  total_loss: 0.3038  loss_cls: 0.05535  loss_box_reg: 0.2183  loss_rpn_cls: 0.001144  loss_rpn_loc: 0.01715  time: 0.2690  data_time: 0.0016  lr: 0.001  max_mem: 3149M\n",
      "\u001b[32m[10/19 18:42:45 d2.utils.events]: \u001b[0m eta: 0:13:24  iter: 16619  total_loss: 0.3594  loss_cls: 0.08422  loss_box_reg: 0.2388  loss_rpn_cls: 0.001942  loss_rpn_loc: 0.03395  time: 0.2690  data_time: 0.0016  lr: 0.001  max_mem: 3149M\n",
      "\u001b[32m[10/19 18:42:51 d2.utils.events]: \u001b[0m eta: 0:13:18  iter: 16639  total_loss: 0.4053  loss_cls: 0.08128  loss_box_reg: 0.2674  loss_rpn_cls: 0.003888  loss_rpn_loc: 0.03427  time: 0.2690  data_time: 0.0016  lr: 0.001  max_mem: 3149M\n",
      "\u001b[32m[10/19 18:42:56 d2.utils.events]: \u001b[0m eta: 0:13:06  iter: 16659  total_loss: 0.3813  loss_cls: 0.0625  loss_box_reg: 0.2442  loss_rpn_cls: 0.002526  loss_rpn_loc: 0.02111  time: 0.2690  data_time: 0.0015  lr: 0.001  max_mem: 3149M\n",
      "\u001b[32m[10/19 18:43:01 d2.utils.events]: \u001b[0m eta: 0:12:39  iter: 16679  total_loss: 0.3581  loss_cls: 0.07295  loss_box_reg: 0.2497  loss_rpn_cls: 0.002353  loss_rpn_loc: 0.01688  time: 0.2689  data_time: 0.0016  lr: 0.001  max_mem: 3149M\n",
      "\u001b[32m[10/19 18:43:06 d2.utils.events]: \u001b[0m eta: 0:12:34  iter: 16699  total_loss: 0.3494  loss_cls: 0.07109  loss_box_reg: 0.237  loss_rpn_cls: 0.00408  loss_rpn_loc: 0.03123  time: 0.2689  data_time: 0.0016  lr: 0.001  max_mem: 3149M\n",
      "\u001b[32m[10/19 18:43:11 d2.utils.events]: \u001b[0m eta: 0:12:32  iter: 16719  total_loss: 0.3205  loss_cls: 0.06248  loss_box_reg: 0.2222  loss_rpn_cls: 0.003468  loss_rpn_loc: 0.02737  time: 0.2689  data_time: 0.0016  lr: 0.001  max_mem: 3149M\n",
      "\u001b[32m[10/19 18:43:16 d2.utils.events]: \u001b[0m eta: 0:12:18  iter: 16739  total_loss: 0.3362  loss_cls: 0.04032  loss_box_reg: 0.2318  loss_rpn_cls: 0.001211  loss_rpn_loc: 0.01897  time: 0.2689  data_time: 0.0015  lr: 0.001  max_mem: 3149M\n",
      "\u001b[32m[10/19 18:43:22 d2.utils.events]: \u001b[0m eta: 0:12:15  iter: 16759  total_loss: 0.3219  loss_cls: 0.06767  loss_box_reg: 0.2415  loss_rpn_cls: 0.001295  loss_rpn_loc: 0.01847  time: 0.2689  data_time: 0.0018  lr: 0.001  max_mem: 3149M\n",
      "\u001b[32m[10/19 18:43:27 d2.utils.events]: \u001b[0m eta: 0:12:09  iter: 16779  total_loss: 0.2886  loss_cls: 0.06668  loss_box_reg: 0.2073  loss_rpn_cls: 0.002456  loss_rpn_loc: 0.02677  time: 0.2689  data_time: 0.0018  lr: 0.001  max_mem: 3149M\n",
      "\u001b[32m[10/19 18:43:32 d2.utils.events]: \u001b[0m eta: 0:11:59  iter: 16799  total_loss: 0.3409  loss_cls: 0.05892  loss_box_reg: 0.2258  loss_rpn_cls: 0.001377  loss_rpn_loc: 0.02333  time: 0.2689  data_time: 0.0018  lr: 0.001  max_mem: 3149M\n",
      "\u001b[32m[10/19 18:43:37 d2.utils.events]: \u001b[0m eta: 0:12:00  iter: 16819  total_loss: 0.3449  loss_cls: 0.06465  loss_box_reg: 0.2387  loss_rpn_cls: 0.002607  loss_rpn_loc: 0.03047  time: 0.2689  data_time: 0.0018  lr: 0.001  max_mem: 3149M\n",
      "\u001b[32m[10/19 18:43:43 d2.utils.events]: \u001b[0m eta: 0:11:57  iter: 16839  total_loss: 0.3457  loss_cls: 0.06117  loss_box_reg: 0.2216  loss_rpn_cls: 0.00112  loss_rpn_loc: 0.023  time: 0.2689  data_time: 0.0018  lr: 0.001  max_mem: 3149M\n",
      "\u001b[32m[10/19 18:43:48 d2.utils.events]: \u001b[0m eta: 0:11:58  iter: 16859  total_loss: 0.3576  loss_cls: 0.07342  loss_box_reg: 0.2412  loss_rpn_cls: 0.001698  loss_rpn_loc: 0.01982  time: 0.2689  data_time: 0.0017  lr: 0.001  max_mem: 3149M\n",
      "\u001b[32m[10/19 18:43:53 d2.utils.events]: \u001b[0m eta: 0:11:49  iter: 16879  total_loss: 0.3186  loss_cls: 0.06112  loss_box_reg: 0.2481  loss_rpn_cls: 0.001601  loss_rpn_loc: 0.02357  time: 0.2689  data_time: 0.0017  lr: 0.001  max_mem: 3149M\n",
      "\u001b[32m[10/19 18:43:58 d2.utils.events]: \u001b[0m eta: 0:11:43  iter: 16899  total_loss: 0.3024  loss_cls: 0.06536  loss_box_reg: 0.2256  loss_rpn_cls: 0.00192  loss_rpn_loc: 0.02098  time: 0.2688  data_time: 0.0017  lr: 0.001  max_mem: 3149M\n",
      "\u001b[32m[10/19 18:44:04 d2.utils.events]: \u001b[0m eta: 0:11:37  iter: 16919  total_loss: 0.3936  loss_cls: 0.08223  loss_box_reg: 0.2678  loss_rpn_cls: 0.001818  loss_rpn_loc: 0.01868  time: 0.2688  data_time: 0.0017  lr: 0.001  max_mem: 3149M\n",
      "\u001b[32m[10/19 18:44:09 d2.utils.events]: \u001b[0m eta: 0:11:44  iter: 16939  total_loss: 0.308  loss_cls: 0.06648  loss_box_reg: 0.2174  loss_rpn_cls: 0.002961  loss_rpn_loc: 0.01603  time: 0.2688  data_time: 0.0017  lr: 0.001  max_mem: 3149M\n",
      "\u001b[32m[10/19 18:44:14 d2.utils.events]: \u001b[0m eta: 0:11:44  iter: 16959  total_loss: 0.3103  loss_cls: 0.05863  loss_box_reg: 0.2174  loss_rpn_cls: 0.001051  loss_rpn_loc: 0.02044  time: 0.2688  data_time: 0.0016  lr: 0.001  max_mem: 3149M\n",
      "\u001b[32m[10/19 18:44:19 d2.utils.events]: \u001b[0m eta: 0:11:31  iter: 16979  total_loss: 0.3492  loss_cls: 0.05513  loss_box_reg: 0.2557  loss_rpn_cls: 0.002973  loss_rpn_loc: 0.02356  time: 0.2688  data_time: 0.0016  lr: 0.001  max_mem: 3149M\n",
      "\u001b[32m[10/19 18:44:24 d2.utils.events]: \u001b[0m eta: 0:11:19  iter: 16999  total_loss: 0.3436  loss_cls: 0.0622  loss_box_reg: 0.242  loss_rpn_cls: 0.003109  loss_rpn_loc: 0.03067  time: 0.2688  data_time: 0.0016  lr: 0.001  max_mem: 3149M\n",
      "\u001b[32m[10/19 18:44:30 d2.utils.events]: \u001b[0m eta: 0:11:12  iter: 17019  total_loss: 0.349  loss_cls: 0.06625  loss_box_reg: 0.244  loss_rpn_cls: 0.003159  loss_rpn_loc: 0.03772  time: 0.2688  data_time: 0.0016  lr: 0.001  max_mem: 3149M\n",
      "\u001b[32m[10/19 18:44:35 d2.utils.events]: \u001b[0m eta: 0:11:09  iter: 17039  total_loss: 0.3229  loss_cls: 0.07288  loss_box_reg: 0.2325  loss_rpn_cls: 0.002099  loss_rpn_loc: 0.01426  time: 0.2688  data_time: 0.0016  lr: 0.001  max_mem: 3149M\n",
      "\u001b[32m[10/19 18:44:40 d2.utils.events]: \u001b[0m eta: 0:11:02  iter: 17059  total_loss: 0.3575  loss_cls: 0.07042  loss_box_reg: 0.2375  loss_rpn_cls: 0.003036  loss_rpn_loc: 0.03164  time: 0.2688  data_time: 0.0016  lr: 0.001  max_mem: 3149M\n",
      "\u001b[32m[10/19 18:44:45 d2.utils.events]: \u001b[0m eta: 0:11:00  iter: 17079  total_loss: 0.3213  loss_cls: 0.07164  loss_box_reg: 0.2346  loss_rpn_cls: 0.00313  loss_rpn_loc: 0.02419  time: 0.2687  data_time: 0.0016  lr: 0.001  max_mem: 3149M\n",
      "\u001b[32m[10/19 18:44:50 d2.utils.events]: \u001b[0m eta: 0:10:50  iter: 17099  total_loss: 0.2946  loss_cls: 0.06257  loss_box_reg: 0.2121  loss_rpn_cls: 0.002171  loss_rpn_loc: 0.01852  time: 0.2687  data_time: 0.0015  lr: 0.001  max_mem: 3149M\n",
      "\u001b[32m[10/19 18:44:56 d2.utils.events]: \u001b[0m eta: 0:10:49  iter: 17119  total_loss: 0.2831  loss_cls: 0.05651  loss_box_reg: 0.2214  loss_rpn_cls: 0.001689  loss_rpn_loc: 0.01546  time: 0.2687  data_time: 0.0016  lr: 0.001  max_mem: 3149M\n",
      "\u001b[32m[10/19 18:45:01 d2.utils.events]: \u001b[0m eta: 0:10:47  iter: 17139  total_loss: 0.3457  loss_cls: 0.07034  loss_box_reg: 0.2322  loss_rpn_cls: 0.00253  loss_rpn_loc: 0.02144  time: 0.2687  data_time: 0.0016  lr: 0.001  max_mem: 3149M\n",
      "\u001b[32m[10/19 18:45:06 d2.utils.events]: \u001b[0m eta: 0:10:43  iter: 17159  total_loss: 0.3576  loss_cls: 0.0807  loss_box_reg: 0.2418  loss_rpn_cls: 0.002363  loss_rpn_loc: 0.01824  time: 0.2687  data_time: 0.0016  lr: 0.001  max_mem: 3149M\n",
      "\u001b[32m[10/19 18:45:11 d2.utils.events]: \u001b[0m eta: 0:10:32  iter: 17179  total_loss: 0.38  loss_cls: 0.07102  loss_box_reg: 0.2495  loss_rpn_cls: 0.002468  loss_rpn_loc: 0.02913  time: 0.2687  data_time: 0.0016  lr: 0.001  max_mem: 3149M\n",
      "\u001b[32m[10/19 18:45:16 d2.utils.events]: \u001b[0m eta: 0:10:25  iter: 17199  total_loss: 0.3316  loss_cls: 0.04998  loss_box_reg: 0.2135  loss_rpn_cls: 0.002288  loss_rpn_loc: 0.02806  time: 0.2687  data_time: 0.0016  lr: 0.001  max_mem: 3149M\n",
      "\u001b[32m[10/19 18:45:21 d2.utils.events]: \u001b[0m eta: 0:10:23  iter: 17219  total_loss: 0.2988  loss_cls: 0.06594  loss_box_reg: 0.2201  loss_rpn_cls: 0.002772  loss_rpn_loc: 0.01269  time: 0.2687  data_time: 0.0016  lr: 0.001  max_mem: 3149M\n",
      "\u001b[32m[10/19 18:45:27 d2.utils.events]: \u001b[0m eta: 0:10:14  iter: 17239  total_loss: 0.3032  loss_cls: 0.06809  loss_box_reg: 0.2324  loss_rpn_cls: 0.00199  loss_rpn_loc: 0.02056  time: 0.2686  data_time: 0.0016  lr: 0.001  max_mem: 3149M\n",
      "\u001b[32m[10/19 18:45:32 d2.utils.events]: \u001b[0m eta: 0:10:13  iter: 17259  total_loss: 0.3363  loss_cls: 0.05371  loss_box_reg: 0.2414  loss_rpn_cls: 0.001799  loss_rpn_loc: 0.02853  time: 0.2686  data_time: 0.0016  lr: 0.001  max_mem: 3149M\n",
      "\u001b[32m[10/19 18:45:37 d2.utils.events]: \u001b[0m eta: 0:10:24  iter: 17279  total_loss: 0.3277  loss_cls: 0.07564  loss_box_reg: 0.2279  loss_rpn_cls: 0.002828  loss_rpn_loc: 0.02215  time: 0.2686  data_time: 0.0016  lr: 0.001  max_mem: 3149M\n",
      "\u001b[32m[10/19 18:45:42 d2.utils.events]: \u001b[0m eta: 0:10:12  iter: 17299  total_loss: 0.3261  loss_cls: 0.07336  loss_box_reg: 0.2183  loss_rpn_cls: 0.002331  loss_rpn_loc: 0.02774  time: 0.2686  data_time: 0.0016  lr: 0.001  max_mem: 3149M\n",
      "\u001b[32m[10/19 18:45:47 d2.utils.events]: \u001b[0m eta: 0:09:58  iter: 17319  total_loss: 0.3065  loss_cls: 0.05734  loss_box_reg: 0.2144  loss_rpn_cls: 0.001337  loss_rpn_loc: 0.02749  time: 0.2686  data_time: 0.0016  lr: 0.001  max_mem: 3149M\n",
      "\u001b[32m[10/19 18:45:52 d2.utils.events]: \u001b[0m eta: 0:09:54  iter: 17339  total_loss: 0.303  loss_cls: 0.05963  loss_box_reg: 0.2382  loss_rpn_cls: 0.001247  loss_rpn_loc: 0.01612  time: 0.2686  data_time: 0.0016  lr: 0.001  max_mem: 3149M\n",
      "\u001b[32m[10/19 18:45:58 d2.utils.events]: \u001b[0m eta: 0:09:44  iter: 17359  total_loss: 0.3335  loss_cls: 0.06037  loss_box_reg: 0.2389  loss_rpn_cls: 0.001935  loss_rpn_loc: 0.0135  time: 0.2686  data_time: 0.0016  lr: 0.001  max_mem: 3149M\n",
      "\u001b[32m[10/19 18:46:03 d2.utils.events]: \u001b[0m eta: 0:09:40  iter: 17379  total_loss: 0.3677  loss_cls: 0.08577  loss_box_reg: 0.2352  loss_rpn_cls: 0.001777  loss_rpn_loc: 0.02491  time: 0.2686  data_time: 0.0016  lr: 0.001  max_mem: 3149M\n",
      "\u001b[32m[10/19 18:46:08 d2.utils.events]: \u001b[0m eta: 0:09:40  iter: 17399  total_loss: 0.3235  loss_cls: 0.07497  loss_box_reg: 0.2277  loss_rpn_cls: 0.002245  loss_rpn_loc: 0.01731  time: 0.2685  data_time: 0.0016  lr: 0.001  max_mem: 3149M\n",
      "\u001b[32m[10/19 18:46:13 d2.utils.events]: \u001b[0m eta: 0:09:40  iter: 17419  total_loss: 0.2874  loss_cls: 0.05225  loss_box_reg: 0.2143  loss_rpn_cls: 0.00194  loss_rpn_loc: 0.02456  time: 0.2685  data_time: 0.0016  lr: 0.001  max_mem: 3149M\n",
      "\u001b[32m[10/19 18:46:18 d2.utils.events]: \u001b[0m eta: 0:09:43  iter: 17439  total_loss: 0.3012  loss_cls: 0.06747  loss_box_reg: 0.2116  loss_rpn_cls: 0.001492  loss_rpn_loc: 0.01591  time: 0.2685  data_time: 0.0016  lr: 0.001  max_mem: 3149M\n",
      "\u001b[32m[10/19 18:46:24 d2.utils.events]: \u001b[0m eta: 0:09:38  iter: 17459  total_loss: 0.3061  loss_cls: 0.06349  loss_box_reg: 0.2137  loss_rpn_cls: 0.002236  loss_rpn_loc: 0.0251  time: 0.2685  data_time: 0.0016  lr: 0.001  max_mem: 3149M\n",
      "\u001b[32m[10/19 18:46:29 d2.utils.events]: \u001b[0m eta: 0:09:32  iter: 17479  total_loss: 0.3522  loss_cls: 0.06616  loss_box_reg: 0.2289  loss_rpn_cls: 0.002208  loss_rpn_loc: 0.02404  time: 0.2685  data_time: 0.0016  lr: 0.001  max_mem: 3149M\n",
      "\u001b[32m[10/19 18:46:34 d2.utils.events]: \u001b[0m eta: 0:09:27  iter: 17499  total_loss: 0.3034  loss_cls: 0.0472  loss_box_reg: 0.2332  loss_rpn_cls: 0.001668  loss_rpn_loc: 0.01799  time: 0.2685  data_time: 0.0016  lr: 0.001  max_mem: 3149M\n",
      "\u001b[32m[10/19 18:46:39 d2.utils.events]: \u001b[0m eta: 0:09:22  iter: 17519  total_loss: 0.3108  loss_cls: 0.05779  loss_box_reg: 0.2037  loss_rpn_cls: 0.001322  loss_rpn_loc: 0.02  time: 0.2685  data_time: 0.0016  lr: 0.001  max_mem: 3149M\n",
      "\u001b[32m[10/19 18:46:44 d2.utils.events]: \u001b[0m eta: 0:09:16  iter: 17539  total_loss: 0.3288  loss_cls: 0.06031  loss_box_reg: 0.2254  loss_rpn_cls: 0.002166  loss_rpn_loc: 0.02812  time: 0.2685  data_time: 0.0016  lr: 0.001  max_mem: 3149M\n",
      "\u001b[32m[10/19 18:46:49 d2.utils.events]: \u001b[0m eta: 0:09:11  iter: 17559  total_loss: 0.2965  loss_cls: 0.0524  loss_box_reg: 0.2186  loss_rpn_cls: 0.001499  loss_rpn_loc: 0.01625  time: 0.2685  data_time: 0.0016  lr: 0.001  max_mem: 3149M\n",
      "\u001b[32m[10/19 18:46:55 d2.utils.events]: \u001b[0m eta: 0:09:05  iter: 17579  total_loss: 0.3376  loss_cls: 0.06173  loss_box_reg: 0.2239  loss_rpn_cls: 0.002915  loss_rpn_loc: 0.02265  time: 0.2684  data_time: 0.0016  lr: 0.001  max_mem: 3149M\n",
      "\u001b[32m[10/19 18:47:00 d2.utils.events]: \u001b[0m eta: 0:08:46  iter: 17599  total_loss: 0.3066  loss_cls: 0.04582  loss_box_reg: 0.2312  loss_rpn_cls: 0.001544  loss_rpn_loc: 0.01719  time: 0.2684  data_time: 0.0016  lr: 0.001  max_mem: 3149M\n",
      "\u001b[32m[10/19 18:47:05 d2.utils.events]: \u001b[0m eta: 0:08:54  iter: 17619  total_loss: 0.3397  loss_cls: 0.06399  loss_box_reg: 0.2419  loss_rpn_cls: 0.001659  loss_rpn_loc: 0.02269  time: 0.2684  data_time: 0.0016  lr: 0.001  max_mem: 3149M\n",
      "\u001b[32m[10/19 18:47:10 d2.utils.events]: \u001b[0m eta: 0:08:49  iter: 17639  total_loss: 0.3168  loss_cls: 0.07214  loss_box_reg: 0.207  loss_rpn_cls: 0.001462  loss_rpn_loc: 0.02112  time: 0.2684  data_time: 0.0016  lr: 0.001  max_mem: 3149M\n",
      "\u001b[32m[10/19 18:47:15 d2.utils.events]: \u001b[0m eta: 0:08:44  iter: 17659  total_loss: 0.3021  loss_cls: 0.05904  loss_box_reg: 0.228  loss_rpn_cls: 0.001468  loss_rpn_loc: 0.01582  time: 0.2684  data_time: 0.0016  lr: 0.001  max_mem: 3149M\n",
      "\u001b[32m[10/19 18:47:20 d2.utils.events]: \u001b[0m eta: 0:08:38  iter: 17679  total_loss: 0.3617  loss_cls: 0.08633  loss_box_reg: 0.2213  loss_rpn_cls: 0.003496  loss_rpn_loc: 0.0202  time: 0.2684  data_time: 0.0016  lr: 0.001  max_mem: 3149M\n",
      "\u001b[32m[10/19 18:47:26 d2.utils.events]: \u001b[0m eta: 0:08:33  iter: 17699  total_loss: 0.3219  loss_cls: 0.07218  loss_box_reg: 0.2276  loss_rpn_cls: 0.00158  loss_rpn_loc: 0.02318  time: 0.2684  data_time: 0.0016  lr: 0.001  max_mem: 3149M\n",
      "\u001b[32m[10/19 18:47:31 d2.utils.events]: \u001b[0m eta: 0:08:27  iter: 17719  total_loss: 0.3313  loss_cls: 0.05284  loss_box_reg: 0.2233  loss_rpn_cls: 0.002845  loss_rpn_loc: 0.0369  time: 0.2684  data_time: 0.0016  lr: 0.001  max_mem: 3149M\n",
      "\u001b[32m[10/19 18:47:36 d2.utils.events]: \u001b[0m eta: 0:08:22  iter: 17739  total_loss: 0.3387  loss_cls: 0.07585  loss_box_reg: 0.2235  loss_rpn_cls: 0.00411  loss_rpn_loc: 0.04109  time: 0.2683  data_time: 0.0015  lr: 0.001  max_mem: 3149M\n",
      "\u001b[32m[10/19 18:47:41 d2.utils.events]: \u001b[0m eta: 0:08:17  iter: 17759  total_loss: 0.3103  loss_cls: 0.07663  loss_box_reg: 0.2144  loss_rpn_cls: 0.002569  loss_rpn_loc: 0.02106  time: 0.2683  data_time: 0.0016  lr: 0.001  max_mem: 3149M\n",
      "\u001b[32m[10/19 18:47:46 d2.utils.events]: \u001b[0m eta: 0:08:12  iter: 17779  total_loss: 0.2938  loss_cls: 0.064  loss_box_reg: 0.2292  loss_rpn_cls: 0.001852  loss_rpn_loc: 0.01709  time: 0.2683  data_time: 0.0016  lr: 0.001  max_mem: 3149M\n",
      "\u001b[32m[10/19 18:47:52 d2.utils.events]: \u001b[0m eta: 0:08:06  iter: 17799  total_loss: 0.3088  loss_cls: 0.05911  loss_box_reg: 0.2017  loss_rpn_cls: 0.001853  loss_rpn_loc: 0.01605  time: 0.2683  data_time: 0.0016  lr: 0.001  max_mem: 3149M\n",
      "\u001b[32m[10/19 18:47:57 d2.utils.events]: \u001b[0m eta: 0:08:00  iter: 17819  total_loss: 0.3309  loss_cls: 0.06217  loss_box_reg: 0.2388  loss_rpn_cls: 0.002433  loss_rpn_loc: 0.02004  time: 0.2683  data_time: 0.0016  lr: 0.001  max_mem: 3149M\n",
      "\u001b[32m[10/19 18:48:02 d2.utils.events]: \u001b[0m eta: 0:07:55  iter: 17839  total_loss: 0.3338  loss_cls: 0.05966  loss_box_reg: 0.2351  loss_rpn_cls: 0.001465  loss_rpn_loc: 0.01857  time: 0.2683  data_time: 0.0016  lr: 0.001  max_mem: 3149M\n",
      "\u001b[32m[10/19 18:48:07 d2.utils.events]: \u001b[0m eta: 0:07:50  iter: 17859  total_loss: 0.3325  loss_cls: 0.07511  loss_box_reg: 0.2198  loss_rpn_cls: 0.002548  loss_rpn_loc: 0.03001  time: 0.2683  data_time: 0.0016  lr: 0.001  max_mem: 3149M\n",
      "\u001b[32m[10/19 18:48:12 d2.utils.events]: \u001b[0m eta: 0:07:44  iter: 17879  total_loss: 0.3296  loss_cls: 0.06871  loss_box_reg: 0.2238  loss_rpn_cls: 0.002643  loss_rpn_loc: 0.02202  time: 0.2683  data_time: 0.0016  lr: 0.001  max_mem: 3149M\n",
      "\u001b[32m[10/19 18:48:17 d2.utils.events]: \u001b[0m eta: 0:07:39  iter: 17899  total_loss: 0.3374  loss_cls: 0.07346  loss_box_reg: 0.2247  loss_rpn_cls: 0.001602  loss_rpn_loc: 0.03212  time: 0.2683  data_time: 0.0016  lr: 0.001  max_mem: 3149M\n",
      "\u001b[32m[10/19 18:48:23 d2.utils.events]: \u001b[0m eta: 0:07:33  iter: 17919  total_loss: 0.3148  loss_cls: 0.07081  loss_box_reg: 0.2151  loss_rpn_cls: 0.002275  loss_rpn_loc: 0.01795  time: 0.2683  data_time: 0.0016  lr: 0.001  max_mem: 3149M\n",
      "\u001b[32m[10/19 18:48:28 d2.utils.events]: \u001b[0m eta: 0:07:28  iter: 17939  total_loss: 0.2985  loss_cls: 0.04453  loss_box_reg: 0.223  loss_rpn_cls: 0.001809  loss_rpn_loc: 0.01366  time: 0.2682  data_time: 0.0016  lr: 0.001  max_mem: 3149M\n",
      "\u001b[32m[10/19 18:48:33 d2.utils.events]: \u001b[0m eta: 0:07:23  iter: 17959  total_loss: 0.3321  loss_cls: 0.07231  loss_box_reg: 0.2228  loss_rpn_cls: 0.003258  loss_rpn_loc: 0.03421  time: 0.2682  data_time: 0.0016  lr: 0.001  max_mem: 3149M\n",
      "\u001b[32m[10/19 18:48:38 d2.utils.events]: \u001b[0m eta: 0:07:18  iter: 17979  total_loss: 0.3143  loss_cls: 0.05137  loss_box_reg: 0.2158  loss_rpn_cls: 0.002491  loss_rpn_loc: 0.01696  time: 0.2682  data_time: 0.0016  lr: 0.001  max_mem: 3149M\n",
      "\u001b[32m[10/19 18:48:44 d2.utils.events]: \u001b[0m eta: 0:07:12  iter: 17999  total_loss: 0.2858  loss_cls: 0.03597  loss_box_reg: 0.2112  loss_rpn_cls: 0.001209  loss_rpn_loc: 0.01666  time: 0.2682  data_time: 0.0016  lr: 0.001  max_mem: 3149M\n",
      "\u001b[32m[10/19 18:48:49 d2.utils.events]: \u001b[0m eta: 0:07:07  iter: 18019  total_loss: 0.3275  loss_cls: 0.07063  loss_box_reg: 0.2305  loss_rpn_cls: 0.002252  loss_rpn_loc: 0.02259  time: 0.2682  data_time: 0.0016  lr: 0.001  max_mem: 3149M\n",
      "\u001b[32m[10/19 18:48:54 d2.utils.events]: \u001b[0m eta: 0:07:01  iter: 18039  total_loss: 0.3145  loss_cls: 0.06543  loss_box_reg: 0.2261  loss_rpn_cls: 0.002584  loss_rpn_loc: 0.02339  time: 0.2682  data_time: 0.0016  lr: 0.001  max_mem: 3149M\n",
      "\u001b[32m[10/19 18:48:59 d2.utils.events]: \u001b[0m eta: 0:06:56  iter: 18059  total_loss: 0.2824  loss_cls: 0.0508  loss_box_reg: 0.2181  loss_rpn_cls: 0.00178  loss_rpn_loc: 0.01811  time: 0.2682  data_time: 0.0015  lr: 0.001  max_mem: 3149M\n",
      "\u001b[32m[10/19 18:49:04 d2.utils.events]: \u001b[0m eta: 0:06:50  iter: 18079  total_loss: 0.3382  loss_cls: 0.0691  loss_box_reg: 0.23  loss_rpn_cls: 0.002931  loss_rpn_loc: 0.02629  time: 0.2682  data_time: 0.0016  lr: 0.001  max_mem: 3149M\n",
      "\u001b[32m[10/19 18:49:10 d2.utils.events]: \u001b[0m eta: 0:06:45  iter: 18099  total_loss: 0.379  loss_cls: 0.07567  loss_box_reg: 0.2236  loss_rpn_cls: 0.002449  loss_rpn_loc: 0.02226  time: 0.2682  data_time: 0.0016  lr: 0.001  max_mem: 3149M\n",
      "\u001b[32m[10/19 18:49:15 d2.utils.events]: \u001b[0m eta: 0:06:39  iter: 18119  total_loss: 0.3203  loss_cls: 0.06718  loss_box_reg: 0.2064  loss_rpn_cls: 0.001968  loss_rpn_loc: 0.02942  time: 0.2682  data_time: 0.0016  lr: 0.001  max_mem: 3149M\n",
      "\u001b[32m[10/19 18:49:20 d2.utils.events]: \u001b[0m eta: 0:06:34  iter: 18139  total_loss: 0.3492  loss_cls: 0.07611  loss_box_reg: 0.2295  loss_rpn_cls: 0.001567  loss_rpn_loc: 0.01922  time: 0.2682  data_time: 0.0016  lr: 0.001  max_mem: 3149M\n",
      "\u001b[32m[10/19 18:49:25 d2.utils.events]: \u001b[0m eta: 0:06:28  iter: 18159  total_loss: 0.2725  loss_cls: 0.05399  loss_box_reg: 0.2009  loss_rpn_cls: 0.002385  loss_rpn_loc: 0.01699  time: 0.2681  data_time: 0.0016  lr: 0.001  max_mem: 3149M\n",
      "\u001b[32m[10/19 18:49:30 d2.utils.events]: \u001b[0m eta: 0:06:23  iter: 18179  total_loss: 0.3159  loss_cls: 0.05082  loss_box_reg: 0.2198  loss_rpn_cls: 0.002352  loss_rpn_loc: 0.02382  time: 0.2681  data_time: 0.0016  lr: 0.001  max_mem: 3149M\n",
      "\u001b[32m[10/19 18:49:35 d2.utils.events]: \u001b[0m eta: 0:06:18  iter: 18199  total_loss: 0.3274  loss_cls: 0.05792  loss_box_reg: 0.2259  loss_rpn_cls: 0.001426  loss_rpn_loc: 0.01819  time: 0.2681  data_time: 0.0016  lr: 0.001  max_mem: 3149M\n",
      "\u001b[32m[10/19 18:49:41 d2.utils.events]: \u001b[0m eta: 0:06:12  iter: 18219  total_loss: 0.3095  loss_cls: 0.06313  loss_box_reg: 0.2152  loss_rpn_cls: 0.00151  loss_rpn_loc: 0.01342  time: 0.2681  data_time: 0.0016  lr: 0.001  max_mem: 3149M\n",
      "\u001b[32m[10/19 18:49:46 d2.utils.events]: \u001b[0m eta: 0:06:07  iter: 18239  total_loss: 0.3085  loss_cls: 0.04223  loss_box_reg: 0.2317  loss_rpn_cls: 0.001424  loss_rpn_loc: 0.02497  time: 0.2681  data_time: 0.0016  lr: 0.001  max_mem: 3149M\n",
      "\u001b[32m[10/19 18:49:51 d2.utils.events]: \u001b[0m eta: 0:06:02  iter: 18259  total_loss: 0.372  loss_cls: 0.09666  loss_box_reg: 0.243  loss_rpn_cls: 0.001848  loss_rpn_loc: 0.02491  time: 0.2681  data_time: 0.0016  lr: 0.001  max_mem: 3149M\n",
      "\u001b[32m[10/19 18:49:56 d2.utils.events]: \u001b[0m eta: 0:05:56  iter: 18279  total_loss: 0.3286  loss_cls: 0.0664  loss_box_reg: 0.2157  loss_rpn_cls: 0.001725  loss_rpn_loc: 0.01656  time: 0.2681  data_time: 0.0016  lr: 0.001  max_mem: 3149M\n",
      "\u001b[32m[10/19 18:50:01 d2.utils.events]: \u001b[0m eta: 0:05:51  iter: 18299  total_loss: 0.3222  loss_cls: 0.05547  loss_box_reg: 0.2293  loss_rpn_cls: 0.002339  loss_rpn_loc: 0.02247  time: 0.2681  data_time: 0.0016  lr: 0.001  max_mem: 3149M\n",
      "\u001b[32m[10/19 18:50:07 d2.utils.events]: \u001b[0m eta: 0:05:46  iter: 18319  total_loss: 0.3005  loss_cls: 0.05923  loss_box_reg: 0.2152  loss_rpn_cls: 0.001317  loss_rpn_loc: 0.02211  time: 0.2681  data_time: 0.0016  lr: 0.001  max_mem: 3149M\n",
      "\u001b[32m[10/19 18:50:12 d2.utils.events]: \u001b[0m eta: 0:05:40  iter: 18339  total_loss: 0.3185  loss_cls: 0.05016  loss_box_reg: 0.2264  loss_rpn_cls: 0.002449  loss_rpn_loc: 0.03516  time: 0.2681  data_time: 0.0016  lr: 0.001  max_mem: 3149M\n",
      "\u001b[32m[10/19 18:50:17 d2.utils.events]: \u001b[0m eta: 0:05:35  iter: 18359  total_loss: 0.2975  loss_cls: 0.05821  loss_box_reg: 0.2121  loss_rpn_cls: 0.002684  loss_rpn_loc: 0.02209  time: 0.2680  data_time: 0.0016  lr: 0.001  max_mem: 3149M\n",
      "\u001b[32m[10/19 18:50:22 d2.utils.events]: \u001b[0m eta: 0:05:29  iter: 18379  total_loss: 0.3177  loss_cls: 0.0585  loss_box_reg: 0.2253  loss_rpn_cls: 0.001299  loss_rpn_loc: 0.0206  time: 0.2680  data_time: 0.0016  lr: 0.001  max_mem: 3149M\n",
      "\u001b[32m[10/19 18:50:27 d2.utils.events]: \u001b[0m eta: 0:05:24  iter: 18399  total_loss: 0.3056  loss_cls: 0.05359  loss_box_reg: 0.2341  loss_rpn_cls: 0.001179  loss_rpn_loc: 0.0146  time: 0.2680  data_time: 0.0016  lr: 0.001  max_mem: 3149M\n",
      "\u001b[32m[10/19 18:50:32 d2.utils.events]: \u001b[0m eta: 0:05:18  iter: 18419  total_loss: 0.311  loss_cls: 0.05699  loss_box_reg: 0.2257  loss_rpn_cls: 0.002985  loss_rpn_loc: 0.03052  time: 0.2680  data_time: 0.0017  lr: 0.001  max_mem: 3149M\n",
      "\u001b[32m[10/19 18:50:38 d2.utils.events]: \u001b[0m eta: 0:05:13  iter: 18439  total_loss: 0.3765  loss_cls: 0.0884  loss_box_reg: 0.2523  loss_rpn_cls: 0.002295  loss_rpn_loc: 0.02506  time: 0.2680  data_time: 0.0016  lr: 0.001  max_mem: 3149M\n",
      "\u001b[32m[10/19 18:50:43 d2.utils.events]: \u001b[0m eta: 0:05:08  iter: 18459  total_loss: 0.314  loss_cls: 0.06499  loss_box_reg: 0.2239  loss_rpn_cls: 0.00131  loss_rpn_loc: 0.02009  time: 0.2680  data_time: 0.0016  lr: 0.001  max_mem: 3149M\n",
      "\u001b[32m[10/19 18:50:48 d2.utils.events]: \u001b[0m eta: 0:05:02  iter: 18479  total_loss: 0.2985  loss_cls: 0.04603  loss_box_reg: 0.2072  loss_rpn_cls: 0.001769  loss_rpn_loc: 0.01596  time: 0.2680  data_time: 0.0016  lr: 0.001  max_mem: 3149M\n",
      "\u001b[32m[10/19 18:50:53 d2.utils.events]: \u001b[0m eta: 0:04:57  iter: 18499  total_loss: 0.3182  loss_cls: 0.06773  loss_box_reg: 0.2157  loss_rpn_cls: 0.001732  loss_rpn_loc: 0.01503  time: 0.2680  data_time: 0.0016  lr: 0.001  max_mem: 3149M\n",
      "\u001b[32m[10/19 18:50:58 d2.utils.events]: \u001b[0m eta: 0:04:51  iter: 18519  total_loss: 0.3331  loss_cls: 0.06428  loss_box_reg: 0.2176  loss_rpn_cls: 0.003182  loss_rpn_loc: 0.04435  time: 0.2680  data_time: 0.0016  lr: 0.001  max_mem: 3149M\n",
      "\u001b[32m[10/19 18:51:04 d2.utils.events]: \u001b[0m eta: 0:04:46  iter: 18539  total_loss: 0.3333  loss_cls: 0.05763  loss_box_reg: 0.2186  loss_rpn_cls: 0.00276  loss_rpn_loc: 0.02241  time: 0.2680  data_time: 0.0016  lr: 0.001  max_mem: 3149M\n",
      "\u001b[32m[10/19 18:51:09 d2.utils.events]: \u001b[0m eta: 0:04:40  iter: 18559  total_loss: 0.2912  loss_cls: 0.05965  loss_box_reg: 0.2097  loss_rpn_cls: 0.002838  loss_rpn_loc: 0.01983  time: 0.2679  data_time: 0.0016  lr: 0.001  max_mem: 3149M\n",
      "\u001b[32m[10/19 18:51:14 d2.utils.events]: \u001b[0m eta: 0:04:35  iter: 18579  total_loss: 0.3119  loss_cls: 0.05833  loss_box_reg: 0.2216  loss_rpn_cls: 0.001303  loss_rpn_loc: 0.01675  time: 0.2679  data_time: 0.0016  lr: 0.001  max_mem: 3149M\n",
      "\u001b[32m[10/19 18:51:19 d2.utils.events]: \u001b[0m eta: 0:04:30  iter: 18599  total_loss: 0.3887  loss_cls: 0.05924  loss_box_reg: 0.2801  loss_rpn_cls: 0.003835  loss_rpn_loc: 0.02675  time: 0.2679  data_time: 0.0016  lr: 0.001  max_mem: 3149M\n",
      "\u001b[32m[10/19 18:51:24 d2.utils.events]: \u001b[0m eta: 0:04:24  iter: 18619  total_loss: 0.3096  loss_cls: 0.06239  loss_box_reg: 0.2255  loss_rpn_cls: 0.001019  loss_rpn_loc: 0.01753  time: 0.2679  data_time: 0.0016  lr: 0.001  max_mem: 3149M\n",
      "\u001b[32m[10/19 18:51:29 d2.utils.events]: \u001b[0m eta: 0:04:11  iter: 18639  total_loss: 0.347  loss_cls: 0.07327  loss_box_reg: 0.222  loss_rpn_cls: 0.001936  loss_rpn_loc: 0.02729  time: 0.2679  data_time: 0.0016  lr: 0.001  max_mem: 3149M\n",
      "\u001b[32m[10/19 18:51:34 d2.utils.events]: \u001b[0m eta: 0:04:13  iter: 18659  total_loss: 0.3672  loss_cls: 0.07429  loss_box_reg: 0.235  loss_rpn_cls: 0.001911  loss_rpn_loc: 0.02124  time: 0.2679  data_time: 0.0016  lr: 0.001  max_mem: 3149M\n",
      "\u001b[32m[10/19 18:51:40 d2.utils.events]: \u001b[0m eta: 0:04:08  iter: 18679  total_loss: 0.2978  loss_cls: 0.05148  loss_box_reg: 0.2088  loss_rpn_cls: 0.001856  loss_rpn_loc: 0.01546  time: 0.2679  data_time: 0.0016  lr: 0.001  max_mem: 3149M\n",
      "\u001b[32m[10/19 18:51:45 d2.utils.events]: \u001b[0m eta: 0:03:55  iter: 18699  total_loss: 0.31  loss_cls: 0.05145  loss_box_reg: 0.2074  loss_rpn_cls: 0.001458  loss_rpn_loc: 0.02096  time: 0.2679  data_time: 0.0016  lr: 0.001  max_mem: 3149M\n",
      "\u001b[32m[10/19 18:51:50 d2.utils.events]: \u001b[0m eta: 0:03:57  iter: 18719  total_loss: 0.3078  loss_cls: 0.07141  loss_box_reg: 0.2206  loss_rpn_cls: 0.001937  loss_rpn_loc: 0.01891  time: 0.2679  data_time: 0.0016  lr: 0.001  max_mem: 3149M\n",
      "\u001b[32m[10/19 18:51:55 d2.utils.events]: \u001b[0m eta: 0:03:52  iter: 18739  total_loss: 0.3323  loss_cls: 0.06206  loss_box_reg: 0.2182  loss_rpn_cls: 0.00308  loss_rpn_loc: 0.02944  time: 0.2679  data_time: 0.0016  lr: 0.001  max_mem: 3149M\n",
      "\u001b[32m[10/19 18:52:01 d2.utils.events]: \u001b[0m eta: 0:03:47  iter: 18759  total_loss: 0.3466  loss_cls: 0.06998  loss_box_reg: 0.2262  loss_rpn_cls: 0.003953  loss_rpn_loc: 0.02239  time: 0.2678  data_time: 0.0016  lr: 0.001  max_mem: 3149M\n",
      "\u001b[32m[10/19 18:52:06 d2.utils.events]: \u001b[0m eta: 0:03:41  iter: 18779  total_loss: 0.296  loss_cls: 0.05286  loss_box_reg: 0.2098  loss_rpn_cls: 0.003098  loss_rpn_loc: 0.0199  time: 0.2678  data_time: 0.0015  lr: 0.001  max_mem: 3149M\n",
      "\u001b[32m[10/19 18:52:11 d2.utils.events]: \u001b[0m eta: 0:03:36  iter: 18799  total_loss: 0.3074  loss_cls: 0.05124  loss_box_reg: 0.2183  loss_rpn_cls: 0.001346  loss_rpn_loc: 0.01908  time: 0.2678  data_time: 0.0016  lr: 0.001  max_mem: 3149M\n",
      "\u001b[32m[10/19 18:52:16 d2.utils.events]: \u001b[0m eta: 0:03:30  iter: 18819  total_loss: 0.3158  loss_cls: 0.05454  loss_box_reg: 0.2249  loss_rpn_cls: 0.001581  loss_rpn_loc: 0.01613  time: 0.2678  data_time: 0.0016  lr: 0.001  max_mem: 3149M\n",
      "\u001b[32m[10/19 18:52:21 d2.utils.events]: \u001b[0m eta: 0:03:25  iter: 18839  total_loss: 0.3434  loss_cls: 0.07185  loss_box_reg: 0.2351  loss_rpn_cls: 0.001805  loss_rpn_loc: 0.01785  time: 0.2678  data_time: 0.0016  lr: 0.001  max_mem: 3149M\n",
      "\u001b[32m[10/19 18:52:27 d2.utils.events]: \u001b[0m eta: 0:03:20  iter: 18859  total_loss: 0.2985  loss_cls: 0.0662  loss_box_reg: 0.2171  loss_rpn_cls: 0.001675  loss_rpn_loc: 0.01615  time: 0.2678  data_time: 0.0016  lr: 0.001  max_mem: 3149M\n",
      "\u001b[32m[10/19 18:52:32 d2.utils.events]: \u001b[0m eta: 0:03:14  iter: 18879  total_loss: 0.343  loss_cls: 0.07609  loss_box_reg: 0.2127  loss_rpn_cls: 0.003178  loss_rpn_loc: 0.0259  time: 0.2678  data_time: 0.0016  lr: 0.001  max_mem: 3149M\n",
      "\u001b[32m[10/19 18:52:37 d2.utils.events]: \u001b[0m eta: 0:03:09  iter: 18899  total_loss: 0.2725  loss_cls: 0.04866  loss_box_reg: 0.1969  loss_rpn_cls: 0.001113  loss_rpn_loc: 0.01867  time: 0.2678  data_time: 0.0016  lr: 0.001  max_mem: 3149M\n",
      "\u001b[32m[10/19 18:52:42 d2.utils.events]: \u001b[0m eta: 0:03:03  iter: 18919  total_loss: 0.3495  loss_cls: 0.07368  loss_box_reg: 0.2284  loss_rpn_cls: 0.003202  loss_rpn_loc: 0.01896  time: 0.2678  data_time: 0.0016  lr: 0.001  max_mem: 3149M\n",
      "\u001b[32m[10/19 18:52:47 d2.utils.events]: \u001b[0m eta: 0:02:58  iter: 18939  total_loss: 0.3054  loss_cls: 0.06157  loss_box_reg: 0.204  loss_rpn_cls: 0.001998  loss_rpn_loc: 0.01478  time: 0.2678  data_time: 0.0016  lr: 0.001  max_mem: 3149M\n",
      "\u001b[32m[10/19 18:52:52 d2.utils.events]: \u001b[0m eta: 0:02:50  iter: 18959  total_loss: 0.2949  loss_cls: 0.0504  loss_box_reg: 0.1926  loss_rpn_cls: 0.002368  loss_rpn_loc: 0.02561  time: 0.2678  data_time: 0.0016  lr: 0.001  max_mem: 3149M\n",
      "\u001b[32m[10/19 18:52:58 d2.utils.events]: \u001b[0m eta: 0:02:40  iter: 18979  total_loss: 0.3312  loss_cls: 0.06173  loss_box_reg: 0.2248  loss_rpn_cls: 0.002606  loss_rpn_loc: 0.03284  time: 0.2677  data_time: 0.0016  lr: 0.001  max_mem: 3149M\n",
      "\u001b[32m[10/19 18:53:03 d2.utils.events]: \u001b[0m eta: 0:02:35  iter: 18999  total_loss: 0.3585  loss_cls: 0.08427  loss_box_reg: 0.2325  loss_rpn_cls: 0.004284  loss_rpn_loc: 0.03278  time: 0.2677  data_time: 0.0016  lr: 0.001  max_mem: 3149M\n",
      "\u001b[32m[10/19 18:53:08 d2.utils.events]: \u001b[0m eta: 0:02:31  iter: 19019  total_loss: 0.3233  loss_cls: 0.07179  loss_box_reg: 0.2086  loss_rpn_cls: 0.001635  loss_rpn_loc: 0.01457  time: 0.2677  data_time: 0.0016  lr: 0.001  max_mem: 3149M\n",
      "\u001b[32m[10/19 18:53:13 d2.utils.events]: \u001b[0m eta: 0:02:25  iter: 19039  total_loss: 0.3089  loss_cls: 0.05276  loss_box_reg: 0.2144  loss_rpn_cls: 0.002595  loss_rpn_loc: 0.02062  time: 0.2677  data_time: 0.0016  lr: 0.001  max_mem: 3149M\n",
      "\u001b[32m[10/19 18:53:18 d2.utils.events]: \u001b[0m eta: 0:02:25  iter: 19059  total_loss: 0.2744  loss_cls: 0.03717  loss_box_reg: 0.2015  loss_rpn_cls: 0.001444  loss_rpn_loc: 0.0157  time: 0.2677  data_time: 0.0015  lr: 0.001  max_mem: 3149M\n",
      "\u001b[32m[10/19 18:53:23 d2.utils.events]: \u001b[0m eta: 0:02:14  iter: 19079  total_loss: 0.2961  loss_cls: 0.05736  loss_box_reg: 0.2106  loss_rpn_cls: 0.002677  loss_rpn_loc: 0.01945  time: 0.2677  data_time: 0.0016  lr: 0.001  max_mem: 3149M\n",
      "\u001b[32m[10/19 18:53:29 d2.utils.events]: \u001b[0m eta: 0:02:09  iter: 19099  total_loss: 0.3016  loss_cls: 0.04094  loss_box_reg: 0.2214  loss_rpn_cls: 0.003961  loss_rpn_loc: 0.02993  time: 0.2677  data_time: 0.0016  lr: 0.001  max_mem: 3149M\n",
      "\u001b[32m[10/19 18:53:34 d2.utils.events]: \u001b[0m eta: 0:02:08  iter: 19119  total_loss: 0.3161  loss_cls: 0.06163  loss_box_reg: 0.2156  loss_rpn_cls: 0.002179  loss_rpn_loc: 0.02159  time: 0.2677  data_time: 0.0015  lr: 0.001  max_mem: 3149M\n",
      "\u001b[32m[10/19 18:53:39 d2.utils.events]: \u001b[0m eta: 0:02:04  iter: 19139  total_loss: 0.314  loss_cls: 0.07106  loss_box_reg: 0.2216  loss_rpn_cls: 0.002576  loss_rpn_loc: 0.02249  time: 0.2677  data_time: 0.0016  lr: 0.001  max_mem: 3149M\n",
      "\u001b[32m[10/19 18:53:44 d2.utils.events]: \u001b[0m eta: 0:01:58  iter: 19159  total_loss: 0.3164  loss_cls: 0.05425  loss_box_reg: 0.2239  loss_rpn_cls: 0.002663  loss_rpn_loc: 0.02529  time: 0.2677  data_time: 0.0016  lr: 0.001  max_mem: 3149M\n",
      "\u001b[32m[10/19 18:53:49 d2.utils.events]: \u001b[0m eta: 0:01:53  iter: 19179  total_loss: 0.2906  loss_cls: 0.04607  loss_box_reg: 0.2179  loss_rpn_cls: 0.002892  loss_rpn_loc: 0.02711  time: 0.2677  data_time: 0.0016  lr: 0.001  max_mem: 3149M\n",
      "\u001b[32m[10/19 18:53:55 d2.utils.events]: \u001b[0m eta: 0:01:48  iter: 19199  total_loss: 0.299  loss_cls: 0.05372  loss_box_reg: 0.1984  loss_rpn_cls: 0.001131  loss_rpn_loc: 0.01352  time: 0.2676  data_time: 0.0016  lr: 0.001  max_mem: 3149M\n",
      "\u001b[32m[10/19 18:54:00 d2.utils.events]: \u001b[0m eta: 0:01:42  iter: 19219  total_loss: 0.2965  loss_cls: 0.06705  loss_box_reg: 0.214  loss_rpn_cls: 0.001495  loss_rpn_loc: 0.01713  time: 0.2676  data_time: 0.0016  lr: 0.001  max_mem: 3149M\n",
      "\u001b[32m[10/19 18:54:05 d2.utils.events]: \u001b[0m eta: 0:01:37  iter: 19239  total_loss: 0.2854  loss_cls: 0.05865  loss_box_reg: 0.2045  loss_rpn_cls: 0.00144  loss_rpn_loc: 0.02306  time: 0.2676  data_time: 0.0016  lr: 0.001  max_mem: 3149M\n",
      "\u001b[32m[10/19 18:54:10 d2.utils.events]: \u001b[0m eta: 0:01:31  iter: 19259  total_loss: 0.2916  loss_cls: 0.05545  loss_box_reg: 0.2035  loss_rpn_cls: 0.001491  loss_rpn_loc: 0.02219  time: 0.2676  data_time: 0.0016  lr: 0.001  max_mem: 3149M\n",
      "\u001b[32m[10/19 18:54:15 d2.utils.events]: \u001b[0m eta: 0:01:24  iter: 19279  total_loss: 0.2841  loss_cls: 0.06377  loss_box_reg: 0.2028  loss_rpn_cls: 0.003193  loss_rpn_loc: 0.02151  time: 0.2676  data_time: 0.0015  lr: 0.001  max_mem: 3149M\n",
      "\u001b[32m[10/19 18:54:20 d2.utils.events]: \u001b[0m eta: 0:01:19  iter: 19299  total_loss: 0.3522  loss_cls: 0.07523  loss_box_reg: 0.2409  loss_rpn_cls: 0.003929  loss_rpn_loc: 0.03171  time: 0.2676  data_time: 0.0016  lr: 0.001  max_mem: 3149M\n",
      "\u001b[32m[10/19 18:54:26 d2.utils.events]: \u001b[0m eta: 0:01:15  iter: 19319  total_loss: 0.3184  loss_cls: 0.07587  loss_box_reg: 0.2366  loss_rpn_cls: 0.001806  loss_rpn_loc: 0.02044  time: 0.2676  data_time: 0.0016  lr: 0.001  max_mem: 3149M\n",
      "\u001b[32m[10/19 18:54:31 d2.utils.events]: \u001b[0m eta: 0:01:10  iter: 19339  total_loss: 0.3373  loss_cls: 0.08677  loss_box_reg: 0.2331  loss_rpn_cls: 0.003076  loss_rpn_loc: 0.02893  time: 0.2676  data_time: 0.0016  lr: 0.001  max_mem: 3149M\n",
      "\u001b[32m[10/19 18:54:36 d2.utils.events]: \u001b[0m eta: 0:01:04  iter: 19359  total_loss: 0.3129  loss_cls: 0.07383  loss_box_reg: 0.2165  loss_rpn_cls: 0.001775  loss_rpn_loc: 0.02035  time: 0.2676  data_time: 0.0016  lr: 0.001  max_mem: 3149M\n",
      "\u001b[32m[10/19 18:54:41 d2.utils.events]: \u001b[0m eta: 0:00:59  iter: 19379  total_loss: 0.2806  loss_cls: 0.05526  loss_box_reg: 0.2182  loss_rpn_cls: 0.002193  loss_rpn_loc: 0.0161  time: 0.2676  data_time: 0.0015  lr: 0.001  max_mem: 3149M\n",
      "\u001b[32m[10/19 18:54:46 d2.utils.events]: \u001b[0m eta: 0:00:54  iter: 19399  total_loss: 0.2708  loss_cls: 0.05607  loss_box_reg: 0.1995  loss_rpn_cls: 0.002834  loss_rpn_loc: 0.01237  time: 0.2676  data_time: 0.0015  lr: 0.001  max_mem: 3149M\n",
      "\u001b[32m[10/19 18:54:52 d2.utils.events]: \u001b[0m eta: 0:00:48  iter: 19419  total_loss: 0.3087  loss_cls: 0.06227  loss_box_reg: 0.226  loss_rpn_cls: 0.002447  loss_rpn_loc: 0.02509  time: 0.2675  data_time: 0.0016  lr: 0.001  max_mem: 3149M\n",
      "\u001b[32m[10/19 18:54:57 d2.utils.events]: \u001b[0m eta: 0:00:43  iter: 19439  total_loss: 0.2975  loss_cls: 0.04595  loss_box_reg: 0.2148  loss_rpn_cls: 0.002277  loss_rpn_loc: 0.01594  time: 0.2675  data_time: 0.0016  lr: 0.001  max_mem: 3149M\n",
      "\u001b[32m[10/19 18:55:02 d2.utils.events]: \u001b[0m eta: 0:00:37  iter: 19459  total_loss: 0.3391  loss_cls: 0.06183  loss_box_reg: 0.2252  loss_rpn_cls: 0.00382  loss_rpn_loc: 0.02796  time: 0.2675  data_time: 0.0016  lr: 0.001  max_mem: 3149M\n",
      "\u001b[32m[10/19 18:55:07 d2.utils.events]: \u001b[0m eta: 0:00:32  iter: 19479  total_loss: 0.3127  loss_cls: 0.06752  loss_box_reg: 0.2005  loss_rpn_cls: 0.0006507  loss_rpn_loc: 0.01534  time: 0.2675  data_time: 0.0016  lr: 0.001  max_mem: 3149M\n",
      "\u001b[32m[10/19 18:55:12 d2.utils.events]: \u001b[0m eta: 0:00:27  iter: 19499  total_loss: 0.3328  loss_cls: 0.08207  loss_box_reg: 0.2255  loss_rpn_cls: 0.00277  loss_rpn_loc: 0.02386  time: 0.2675  data_time: 0.0016  lr: 0.001  max_mem: 3149M\n",
      "\u001b[32m[10/19 18:55:18 d2.utils.events]: \u001b[0m eta: 0:00:21  iter: 19519  total_loss: 0.3116  loss_cls: 0.07104  loss_box_reg: 0.2264  loss_rpn_cls: 0.001814  loss_rpn_loc: 0.02646  time: 0.2675  data_time: 0.0016  lr: 0.001  max_mem: 3149M\n",
      "\u001b[32m[10/19 18:55:23 d2.utils.events]: \u001b[0m eta: 0:00:16  iter: 19539  total_loss: 0.3327  loss_cls: 0.07412  loss_box_reg: 0.244  loss_rpn_cls: 0.002288  loss_rpn_loc: 0.02383  time: 0.2675  data_time: 0.0016  lr: 0.001  max_mem: 3149M\n",
      "\u001b[32m[10/19 18:55:28 d2.utils.events]: \u001b[0m eta: 0:00:10  iter: 19559  total_loss: 0.318  loss_cls: 0.05479  loss_box_reg: 0.2211  loss_rpn_cls: 0.001206  loss_rpn_loc: 0.02594  time: 0.2675  data_time: 0.0016  lr: 0.001  max_mem: 3149M\n",
      "\u001b[32m[10/19 18:55:33 d2.utils.events]: \u001b[0m eta: 0:00:05  iter: 19579  total_loss: 0.3123  loss_cls: 0.06158  loss_box_reg: 0.2138  loss_rpn_cls: 0.0009082  loss_rpn_loc: 0.01818  time: 0.2675  data_time: 0.0016  lr: 0.001  max_mem: 3149M\n",
      "\u001b[32m[10/19 18:55:39 d2.utils.events]: \u001b[0m eta: 0:00:00  iter: 19599  total_loss: 0.3184  loss_cls: 0.06106  loss_box_reg: 0.2054  loss_rpn_cls: 0.002121  loss_rpn_loc: 0.01871  time: 0.2675  data_time: 0.0016  lr: 0.001  max_mem: 3149M\n",
      "\u001b[32m[10/19 18:55:39 d2.engine.hooks]: \u001b[0mOverall training speed: 19598 iterations in 1:27:22 (0.2675 s / it)\n",
      "\u001b[32m[10/19 18:55:39 d2.engine.hooks]: \u001b[0mTotal training time: 1:27:28 (0:00:06 on hooks)\n",
      "\u001b[32m[10/19 18:55:39 d2.data.datasets.coco]: \u001b[0mLoaded 381 images in COCO format from C:\\Users\\USER\\Desktop\\train\\dataset\\annotations\\val_annotations.coco.json\n",
      "\u001b[32m[10/19 18:55:39 d2.data.build]: \u001b[0mDistribution of instances among all 3 categories:\n",
      "\u001b[36m|   category    | #instances   |  category  | #instances   |  category  | #instances   |\n",
      "|:-------------:|:-------------|:----------:|:-------------|:----------:|:-------------|\n",
      "| fire-smoke-.. | 0            |    fire    | 828          |   smoke    | 769          |\n",
      "|               |              |            |              |            |              |\n",
      "|     total     | 1597         |            |              |            |              |\u001b[0m\n",
      "\u001b[32m[10/19 18:55:39 d2.data.dataset_mapper]: \u001b[0m[DatasetMapper] Augmentations used in inference: [ResizeShortestEdge(short_edge_length=(800, 800), max_size=1333, sample_style='choice')]\n",
      "\u001b[32m[10/19 18:55:39 d2.data.common]: \u001b[0mSerializing 381 elements to byte tensors and concatenating them all ...\n",
      "\u001b[32m[10/19 18:55:39 d2.data.common]: \u001b[0mSerialized dataset takes 0.15 MiB\n",
      "\u001b[5m\u001b[31mWARNING\u001b[0m \u001b[32m[10/19 18:55:39 d2.engine.defaults]: \u001b[0mNo evaluator found. Use `DefaultTrainer.test(evaluators=)`, or implement its `build_evaluator` method.\n"
     ]
    }
   ],
   "source": [
    "# 학습 실행\n",
    "trainer = DefaultTrainer(cfg) \n",
    "trainer.resume_or_load(resume=False)\n",
    "trainer.train()"
   ]
  },
  {
   "cell_type": "markdown",
   "metadata": {},
   "source": [
    "## mAP 확인"
   ]
  },
  {
   "cell_type": "code",
   "execution_count": 10,
   "metadata": {},
   "outputs": [
    {
     "name": "stdout",
     "output_type": "stream",
     "text": [
      "\u001b[5m\u001b[31mWARNING\u001b[0m \u001b[32m[10/19 18:55:39 d2.evaluation.coco_evaluation]: \u001b[0mCOCO Evaluator instantiated using config, this is deprecated behavior. Please pass in explicit arguments instead.\n",
      "\u001b[32m[10/19 18:55:39 d2.data.datasets.coco]: \u001b[0mLoaded 381 images in COCO format from C:\\Users\\USER\\Desktop\\train\\dataset\\annotations\\val_annotations.coco.json\n",
      "\u001b[32m[10/19 18:55:39 d2.data.dataset_mapper]: \u001b[0m[DatasetMapper] Augmentations used in inference: [ResizeShortestEdge(short_edge_length=(800, 800), max_size=1333, sample_style='choice')]\n",
      "\u001b[32m[10/19 18:55:39 d2.data.common]: \u001b[0mSerializing 381 elements to byte tensors and concatenating them all ...\n",
      "\u001b[32m[10/19 18:55:39 d2.data.common]: \u001b[0mSerialized dataset takes 0.15 MiB\n",
      "\u001b[32m[10/19 18:55:39 d2.evaluation.evaluator]: \u001b[0mStart inference on 381 batches\n",
      "\u001b[32m[10/19 18:55:43 d2.evaluation.evaluator]: \u001b[0mInference done 11/381. Dataloading: 0.0003 s/iter. Inference: 0.0405 s/iter. Eval: 0.0001 s/iter. Total: 0.0410 s/iter. ETA=0:00:15\n",
      "\u001b[32m[10/19 18:55:48 d2.evaluation.evaluator]: \u001b[0mInference done 133/381. Dataloading: 0.0004 s/iter. Inference: 0.0406 s/iter. Eval: 0.0001 s/iter. Total: 0.0411 s/iter. ETA=0:00:10\n",
      "\u001b[32m[10/19 18:55:53 d2.evaluation.evaluator]: \u001b[0mInference done 256/381. Dataloading: 0.0004 s/iter. Inference: 0.0404 s/iter. Eval: 0.0002 s/iter. Total: 0.0410 s/iter. ETA=0:00:05\n",
      "\u001b[32m[10/19 18:55:58 d2.evaluation.evaluator]: \u001b[0mInference done 380/381. Dataloading: 0.0004 s/iter. Inference: 0.0403 s/iter. Eval: 0.0002 s/iter. Total: 0.0408 s/iter. ETA=0:00:00\n",
      "\u001b[32m[10/19 18:55:58 d2.evaluation.evaluator]: \u001b[0mTotal inference time: 0:00:15.548194 (0.041352 s / iter per device, on 1 devices)\n",
      "\u001b[32m[10/19 18:55:58 d2.evaluation.evaluator]: \u001b[0mTotal inference pure compute time: 0:00:15 (0.040292 s / iter per device, on 1 devices)\n",
      "\u001b[32m[10/19 18:55:58 d2.evaluation.coco_evaluation]: \u001b[0mPreparing results for COCO format ...\n",
      "\u001b[32m[10/19 18:55:58 d2.evaluation.coco_evaluation]: \u001b[0mSaving results to ./output/coco_instances_results.json\n",
      "\u001b[32m[10/19 18:55:58 d2.evaluation.coco_evaluation]: \u001b[0mEvaluating predictions with unofficial COCO API...\n",
      "Loading and preparing results...\n",
      "DONE (t=0.00s)\n",
      "creating index...\n",
      "index created!\n",
      "\u001b[32m[10/19 18:55:58 d2.evaluation.fast_eval_api]: \u001b[0mEvaluate annotation type *bbox*\n",
      "\u001b[32m[10/19 18:55:58 d2.evaluation.fast_eval_api]: \u001b[0mCOCOeval_opt.evaluate() finished in 0.04 seconds.\n",
      "\u001b[32m[10/19 18:55:58 d2.evaluation.fast_eval_api]: \u001b[0mAccumulating evaluation results...\n",
      "\u001b[32m[10/19 18:55:58 d2.evaluation.fast_eval_api]: \u001b[0mCOCOeval_opt.accumulate() finished in 0.01 seconds.\n",
      " Average Precision  (AP) @[ IoU=0.50:0.95 | area=   all | maxDets=100 ] = 0.475\n",
      " Average Precision  (AP) @[ IoU=0.50      | area=   all | maxDets=100 ] = 0.830\n",
      " Average Precision  (AP) @[ IoU=0.75      | area=   all | maxDets=100 ] = 0.454\n",
      " Average Precision  (AP) @[ IoU=0.50:0.95 | area= small | maxDets=100 ] = 0.327\n",
      " Average Precision  (AP) @[ IoU=0.50:0.95 | area=medium | maxDets=100 ] = 0.415\n",
      " Average Precision  (AP) @[ IoU=0.50:0.95 | area= large | maxDets=100 ] = 0.518\n",
      " Average Recall     (AR) @[ IoU=0.50:0.95 | area=   all | maxDets=  1 ] = 0.292\n",
      " Average Recall     (AR) @[ IoU=0.50:0.95 | area=   all | maxDets= 10 ] = 0.554\n",
      " Average Recall     (AR) @[ IoU=0.50:0.95 | area=   all | maxDets=100 ] = 0.556\n",
      " Average Recall     (AR) @[ IoU=0.50:0.95 | area= small | maxDets=100 ] = 0.412\n",
      " Average Recall     (AR) @[ IoU=0.50:0.95 | area=medium | maxDets=100 ] = 0.547\n",
      " Average Recall     (AR) @[ IoU=0.50:0.95 | area= large | maxDets=100 ] = 0.623\n",
      "\u001b[32m[10/19 18:55:58 d2.evaluation.coco_evaluation]: \u001b[0mEvaluation results for bbox: \n",
      "|   AP   |  AP50  |  AP75  |  APs   |  APm   |  APl   |\n",
      "|:------:|:------:|:------:|:------:|:------:|:------:|\n",
      "| 47.469 | 83.042 | 45.492  | 32.708 | 41.044 | 51.783 |\n",
      "\u001b[32m[10/19 18:55:58 d2.evaluation.coco_evaluation]: \u001b[0mPer-category bbox AP: \n",
      "| category        | AP   | category   | AP     | category   | AP     |\n",
      "|:----------------|:-----|:-----------|:-------|:-----------|:-------|\n",
      "| fire-smoke-null | nan  | fire       | 46.105 | smoke      | 48.834 |\n",
      "OrderedDict([('bbox', {'AP': 47.469546516789054, 'AP50': 83.0417555895108, 'AP75': 45.4915842291781, 'APs': 32.707692178699027, 'APm': 41.54406893512123, 'APl': 51.7828097389983, 'AP-fire-smoke-null': nan, 'AP-fire': 46.10481073975538, 'AP-smoke': 48.83416229382272})])\n"
     ]
    }
   ],
   "source": [
    "from detectron2.evaluation import COCOEvaluator, inference_on_dataset, DatasetEvaluators\n",
    "from detectron2.data import build_detection_test_loader\n",
    "\n",
    "# 학습이 완료된 후 평가를 수행하기 위한 코드\n",
    "cfg.MODEL.EVALUATOR_TYPE = \"coco\"\n",
    "evaluator = COCOEvaluator(\"my_coco_val\", cfg, False, output_dir=\"./output/\")\n",
    "\n",
    "# 검증 데이터 로더 설정\n",
    "val_data_loader = build_detection_test_loader(cfg, \"my_coco_val\")\n",
    "\n",
    "# 평가 수행\n",
    "metrics = inference_on_dataset(trainer.model, val_data_loader, evaluator)\n",
    "\n",
    "# 평가 결과 출력\n",
    "print(metrics)"
   ]
  },
  {
   "cell_type": "markdown",
   "metadata": {},
   "source": [
    "# YOLO 버전별 비교"
   ]
  },
  {
   "cell_type": "markdown",
   "metadata": {},
   "source": [
    "## YOLOv5n\n",
    "mAP50: 0.821   \n",
    "mAP50-95: 0.451"
   ]
  },
  {
   "cell_type": "code",
   "execution_count": null,
   "metadata": {},
   "outputs": [],
   "source": [
    "from ultralytics import YOLO\n",
    "model = YOLO('yolov5n.pt')"
   ]
  },
  {
   "cell_type": "code",
   "execution_count": null,
   "metadata": {},
   "outputs": [
    {
     "name": "stdout",
     "output_type": "stream",
     "text": [
      "Ultralytics 8.3.18 🚀 Python-3.10.12 torch-2.4.1+cu121 CUDA:0 (Tesla T4, 15102MiB)\n",
      "\u001b[34m\u001b[1mengine/trainer: \u001b[0mtask=detect, mode=train, model=yolov5n.pt, data=/content/drive/MyDrive/data.yaml, epochs=100, time=None, patience=100, batch=16, imgsz=640, save=True, save_period=-1, cache=False, device=None, workers=8, project=None, name=train2, exist_ok=False, pretrained=True, optimizer=auto, verbose=True, seed=0, deterministic=True, single_cls=False, rect=False, cos_lr=False, close_mosaic=10, resume=False, amp=True, fraction=1.0, profile=False, freeze=None, multi_scale=False, overlap_mask=True, mask_ratio=4, dropout=0.0, val=True, split=val, save_json=False, save_hybrid=False, conf=None, iou=0.7, max_det=300, half=False, dnn=False, plots=True, source=None, vid_stride=1, stream_buffer=False, visualize=False, augment=False, agnostic_nms=False, classes=None, retina_masks=False, embed=None, show=False, save_frames=False, save_txt=False, save_conf=False, save_crop=False, show_labels=True, show_conf=True, show_boxes=True, line_width=None, format=torchscript, keras=False, optimize=False, int8=False, dynamic=False, simplify=True, opset=None, workspace=4, nms=False, lr0=0.01, lrf=0.01, momentum=0.937, weight_decay=0.0005, warmup_epochs=3.0, warmup_momentum=0.8, warmup_bias_lr=0.1, box=7.5, cls=0.5, dfl=1.5, pose=12.0, kobj=1.0, label_smoothing=0.0, nbs=64, hsv_h=0.015, hsv_s=0.7, hsv_v=0.4, degrees=0.0, translate=0.1, scale=0.5, shear=0.0, perspective=0.0, flipud=0.0, fliplr=0.5, bgr=0.0, mosaic=1.0, mixup=0.0, copy_paste=0.0, copy_paste_mode=flip, auto_augment=randaugment, erasing=0.4, crop_fraction=1.0, cfg=None, tracker=botsort.yaml, save_dir=runs/detect/train2\n",
      "Downloading https://ultralytics.com/assets/Arial.ttf to '/root/.config/Ultralytics/Arial.ttf'...\n"
     ]
    },
    {
     "name": "stderr",
     "output_type": "stream",
     "text": [
      "100%|██████████| 755k/755k [00:00<00:00, 19.1MB/s]\n"
     ]
    },
    {
     "name": "stdout",
     "output_type": "stream",
     "text": [
      "Overriding model.yaml nc=80 with nc=2\n",
      "\n",
      "                   from  n    params  module                                       arguments                     \n",
      "  0                  -1  1      1760  ultralytics.nn.modules.conv.Conv             [3, 16, 6, 2, 2]              \n",
      "  1                  -1  1      4672  ultralytics.nn.modules.conv.Conv             [16, 32, 3, 2]                \n",
      "  2                  -1  1      4800  ultralytics.nn.modules.block.C3              [32, 32, 1]                   \n",
      "  3                  -1  1     18560  ultralytics.nn.modules.conv.Conv             [32, 64, 3, 2]                \n",
      "  4                  -1  2     29184  ultralytics.nn.modules.block.C3              [64, 64, 2]                   \n",
      "  5                  -1  1     73984  ultralytics.nn.modules.conv.Conv             [64, 128, 3, 2]               \n",
      "  6                  -1  3    156928  ultralytics.nn.modules.block.C3              [128, 128, 3]                 \n",
      "  7                  -1  1    295424  ultralytics.nn.modules.conv.Conv             [128, 256, 3, 2]              \n",
      "  8                  -1  1    296448  ultralytics.nn.modules.block.C3              [256, 256, 1]                 \n",
      "  9                  -1  1    164608  ultralytics.nn.modules.block.SPPF            [256, 256, 5]                 \n",
      " 10                  -1  1     33024  ultralytics.nn.modules.conv.Conv             [256, 128, 1, 1]              \n",
      " 11                  -1  1         0  torch.nn.modules.upsampling.Upsample         [None, 2, 'nearest']          \n",
      " 12             [-1, 6]  1         0  ultralytics.nn.modules.conv.Concat           [1]                           \n",
      " 13                  -1  1     90880  ultralytics.nn.modules.block.C3              [256, 128, 1, False]          \n",
      " 14                  -1  1      8320  ultralytics.nn.modules.conv.Conv             [128, 64, 1, 1]               \n",
      " 15                  -1  1         0  torch.nn.modules.upsampling.Upsample         [None, 2, 'nearest']          \n",
      " 16             [-1, 4]  1         0  ultralytics.nn.modules.conv.Concat           [1]                           \n",
      " 17                  -1  1     22912  ultralytics.nn.modules.block.C3              [128, 64, 1, False]           \n",
      " 18                  -1  1     36992  ultralytics.nn.modules.conv.Conv             [64, 64, 3, 2]                \n",
      " 19            [-1, 14]  1         0  ultralytics.nn.modules.conv.Concat           [1]                           \n",
      " 20                  -1  1     74496  ultralytics.nn.modules.block.C3              [128, 128, 1, False]          \n",
      " 21                  -1  1    147712  ultralytics.nn.modules.conv.Conv             [128, 128, 3, 2]              \n",
      " 22            [-1, 10]  1         0  ultralytics.nn.modules.conv.Concat           [1]                           \n",
      " 23                  -1  1    296448  ultralytics.nn.modules.block.C3              [256, 256, 1, False]          \n",
      " 24        [17, 20, 23]  1    751702  ultralytics.nn.modules.head.Detect           [2, [64, 128, 256]]           \n",
      "YOLOv5n summary: 262 layers, 2,508,854 parameters, 2,508,838 gradients, 7.2 GFLOPs\n",
      "\n",
      "Transferred 391/427 items from pretrained weights\n",
      "\u001b[34m\u001b[1mTensorBoard: \u001b[0mStart with 'tensorboard --logdir runs/detect/train2', view at http://localhost:6006/\n"
     ]
    },
    {
     "name": "stderr",
     "output_type": "stream",
     "text": [
      "\u001b[34m\u001b[1mwandb\u001b[0m: Using wandb-core as the SDK backend. Please refer to https://wandb.me/wandb-core for more information.\n"
     ]
    },
    {
     "data": {
      "text/html": [
       "Tracking run with wandb version 0.18.3"
      ],
      "text/plain": [
       "<IPython.core.display.HTML object>"
      ]
     },
     "metadata": {},
     "output_type": "display_data"
    },
    {
     "data": {
      "text/html": [
       "W&B syncing is set to <code>`offline`<code> in this directory.  <br/>Run <code>`wandb online`<code> or set <code>WANDB_MODE=online<code> to enable cloud syncing."
      ],
      "text/plain": [
       "<IPython.core.display.HTML object>"
      ]
     },
     "metadata": {},
     "output_type": "display_data"
    },
    {
     "name": "stdout",
     "output_type": "stream",
     "text": [
      "Freezing layer 'model.24.dfl.conv.weight'\n",
      "\u001b[34m\u001b[1mAMP: \u001b[0mrunning Automatic Mixed Precision (AMP) checks with YOLO11n...\n",
      "Downloading https://github.com/ultralytics/assets/releases/download/v8.3.0/yolo11n.pt to 'yolo11n.pt'...\n"
     ]
    },
    {
     "name": "stderr",
     "output_type": "stream",
     "text": [
      "100%|██████████| 5.35M/5.35M [00:00<00:00, 104MB/s]\n"
     ]
    },
    {
     "name": "stdout",
     "output_type": "stream",
     "text": [
      "\u001b[34m\u001b[1mAMP: \u001b[0mchecks passed ✅\n"
     ]
    },
    {
     "name": "stderr",
     "output_type": "stream",
     "text": [
      "\u001b[34m\u001b[1mtrain: \u001b[0mScanning /content/drive/MyDrive/dataset/labels/train.cache... 777 images, 97 backgrounds, 0 corrupt: 100%|██████████| 777/777 [00:00<?, ?it/s]\n"
     ]
    },
    {
     "name": "stdout",
     "output_type": "stream",
     "text": [
      "\u001b[34m\u001b[1malbumentations: \u001b[0mBlur(p=0.01, blur_limit=(3, 7)), MedianBlur(p=0.01, blur_limit=(3, 7)), ToGray(p=0.01, num_output_channels=3, method='weighted_average'), CLAHE(p=0.01, clip_limit=(1, 4.0), tile_grid_size=(8, 8))\n"
     ]
    },
    {
     "name": "stderr",
     "output_type": "stream",
     "text": [
      "/usr/local/lib/python3.10/dist-packages/albumentations/__init__.py:13: UserWarning: A new version of Albumentations is available: 1.4.18 (you have 1.4.15). Upgrade using: pip install -U albumentations. To disable automatic update checks, set the environment variable NO_ALBUMENTATIONS_UPDATE to 1.\n",
      "  check_for_updates()\n",
      "\u001b[34m\u001b[1mval: \u001b[0mScanning /content/drive/MyDrive/dataset/labels/val.cache... 381 images, 52 backgrounds, 0 corrupt: 100%|██████████| 381/381 [00:00<?, ?it/s]\n"
     ]
    },
    {
     "name": "stdout",
     "output_type": "stream",
     "text": [
      "Plotting labels to runs/detect/train2/labels.jpg... \n",
      "\u001b[34m\u001b[1moptimizer:\u001b[0m 'optimizer=auto' found, ignoring 'lr0=0.01' and 'momentum=0.937' and determining best 'optimizer', 'lr0' and 'momentum' automatically... \n",
      "\u001b[34m\u001b[1moptimizer:\u001b[0m AdamW(lr=0.001667, momentum=0.9) with parameter groups 69 weight(decay=0.0), 76 weight(decay=0.0005), 75 bias(decay=0.0)\n",
      "\u001b[34m\u001b[1mTensorBoard: \u001b[0mmodel graph visualization added ✅\n",
      "Image sizes 640 train, 640 val\n",
      "Using 2 dataloader workers\n",
      "Logging results to \u001b[1mruns/detect/train2\u001b[0m\n",
      "Starting training for 100 epochs...\n",
      "\n",
      "      Epoch    GPU_mem   box_loss   cls_loss   dfl_loss  Instances       Size\n"
     ]
    },
    {
     "name": "stderr",
     "output_type": "stream",
     "text": [
      "      1/100       2.3G      2.084      2.957      1.599         50        640: 100%|██████████| 49/49 [00:27<00:00,  1.81it/s]\n",
      "                 Class     Images  Instances      Box(P          R      mAP50  mAP50-95): 100%|██████████| 12/12 [00:40<00:00,  3.37s/it]"
     ]
    },
    {
     "name": "stdout",
     "output_type": "stream",
     "text": [
      "                   all        381       1597      0.689     0.0754     0.0786     0.0356\n"
     ]
    },
    {
     "name": "stderr",
     "output_type": "stream",
     "text": [
      "\n"
     ]
    },
    {
     "name": "stdout",
     "output_type": "stream",
     "text": [
      "\n",
      "      Epoch    GPU_mem   box_loss   cls_loss   dfl_loss  Instances       Size\n"
     ]
    },
    {
     "name": "stderr",
     "output_type": "stream",
     "text": [
      "      2/100      2.26G      1.852      2.033      1.474         86        640: 100%|██████████| 49/49 [00:18<00:00,  2.64it/s]\n",
      "                 Class     Images  Instances      Box(P          R      mAP50  mAP50-95): 100%|██████████| 12/12 [00:06<00:00,  1.85it/s]\n"
     ]
    },
    {
     "name": "stdout",
     "output_type": "stream",
     "text": [
      "                   all        381       1597      0.488      0.473      0.439      0.183\n",
      "\n",
      "      Epoch    GPU_mem   box_loss   cls_loss   dfl_loss  Instances       Size\n"
     ]
    },
    {
     "name": "stderr",
     "output_type": "stream",
     "text": [
      "      3/100      2.33G      1.841      1.864      1.479         91        640: 100%|██████████| 49/49 [00:18<00:00,  2.69it/s]\n",
      "                 Class     Images  Instances      Box(P          R      mAP50  mAP50-95): 100%|██████████| 12/12 [00:06<00:00,  1.89it/s]"
     ]
    },
    {
     "name": "stdout",
     "output_type": "stream",
     "text": [
      "                   all        381       1597      0.571      0.491      0.493      0.201\n"
     ]
    },
    {
     "name": "stderr",
     "output_type": "stream",
     "text": [
      "\n"
     ]
    },
    {
     "name": "stdout",
     "output_type": "stream",
     "text": [
      "\n",
      "      Epoch    GPU_mem   box_loss   cls_loss   dfl_loss  Instances       Size\n"
     ]
    },
    {
     "name": "stderr",
     "output_type": "stream",
     "text": [
      "      4/100      2.25G      1.824      1.785      1.447         31        640: 100%|██████████| 49/49 [00:19<00:00,  2.57it/s]\n",
      "                 Class     Images  Instances      Box(P          R      mAP50  mAP50-95): 100%|██████████| 12/12 [00:04<00:00,  2.63it/s]\n"
     ]
    },
    {
     "name": "stdout",
     "output_type": "stream",
     "text": [
      "                   all        381       1597      0.575      0.525      0.541      0.245\n",
      "\n",
      "      Epoch    GPU_mem   box_loss   cls_loss   dfl_loss  Instances       Size\n"
     ]
    },
    {
     "name": "stderr",
     "output_type": "stream",
     "text": [
      "      5/100      2.34G      1.802      1.663      1.451         34        640: 100%|██████████| 49/49 [00:19<00:00,  2.54it/s]\n",
      "                 Class     Images  Instances      Box(P          R      mAP50  mAP50-95): 100%|██████████| 12/12 [00:07<00:00,  1.59it/s]"
     ]
    },
    {
     "name": "stdout",
     "output_type": "stream",
     "text": [
      "                   all        381       1597      0.617      0.568      0.584      0.266\n"
     ]
    },
    {
     "name": "stderr",
     "output_type": "stream",
     "text": [
      "\n"
     ]
    },
    {
     "name": "stdout",
     "output_type": "stream",
     "text": [
      "\n",
      "      Epoch    GPU_mem   box_loss   cls_loss   dfl_loss  Instances       Size\n"
     ]
    },
    {
     "name": "stderr",
     "output_type": "stream",
     "text": [
      "      6/100       2.3G      1.785      1.608      1.411         66        640: 100%|██████████| 49/49 [00:18<00:00,  2.65it/s]\n",
      "                 Class     Images  Instances      Box(P          R      mAP50  mAP50-95): 100%|██████████| 12/12 [00:04<00:00,  2.69it/s]"
     ]
    },
    {
     "name": "stdout",
     "output_type": "stream",
     "text": [
      "                   all        381       1597      0.555      0.514      0.517      0.219\n"
     ]
    },
    {
     "name": "stderr",
     "output_type": "stream",
     "text": [
      "\n"
     ]
    },
    {
     "name": "stdout",
     "output_type": "stream",
     "text": [
      "\n",
      "      Epoch    GPU_mem   box_loss   cls_loss   dfl_loss  Instances       Size\n"
     ]
    },
    {
     "name": "stderr",
     "output_type": "stream",
     "text": [
      "      7/100      2.35G      1.738      1.558      1.411         60        640: 100%|██████████| 49/49 [00:18<00:00,  2.59it/s]\n",
      "                 Class     Images  Instances      Box(P          R      mAP50  mAP50-95): 100%|██████████| 12/12 [00:04<00:00,  2.76it/s]"
     ]
    },
    {
     "name": "stdout",
     "output_type": "stream",
     "text": [
      "                   all        381       1597      0.617      0.594      0.621      0.295\n"
     ]
    },
    {
     "name": "stderr",
     "output_type": "stream",
     "text": [
      "\n"
     ]
    },
    {
     "name": "stdout",
     "output_type": "stream",
     "text": [
      "\n",
      "      Epoch    GPU_mem   box_loss   cls_loss   dfl_loss  Instances       Size\n"
     ]
    },
    {
     "name": "stderr",
     "output_type": "stream",
     "text": [
      "      8/100      2.34G      1.726      1.474      1.384         56        640: 100%|██████████| 49/49 [00:18<00:00,  2.59it/s]\n",
      "                 Class     Images  Instances      Box(P          R      mAP50  mAP50-95): 100%|██████████| 12/12 [00:07<00:00,  1.71it/s]"
     ]
    },
    {
     "name": "stdout",
     "output_type": "stream",
     "text": [
      "                   all        381       1597      0.669       0.61      0.667      0.312\n"
     ]
    },
    {
     "name": "stderr",
     "output_type": "stream",
     "text": [
      "\n"
     ]
    },
    {
     "name": "stdout",
     "output_type": "stream",
     "text": [
      "\n",
      "      Epoch    GPU_mem   box_loss   cls_loss   dfl_loss  Instances       Size\n"
     ]
    },
    {
     "name": "stderr",
     "output_type": "stream",
     "text": [
      "      9/100      2.33G      1.708      1.457      1.397         41        640: 100%|██████████| 49/49 [00:19<00:00,  2.57it/s]\n",
      "                 Class     Images  Instances      Box(P          R      mAP50  mAP50-95): 100%|██████████| 12/12 [00:04<00:00,  2.66it/s]"
     ]
    },
    {
     "name": "stdout",
     "output_type": "stream",
     "text": [
      "                   all        381       1597      0.636      0.639      0.657       0.31\n"
     ]
    },
    {
     "name": "stderr",
     "output_type": "stream",
     "text": [
      "\n"
     ]
    },
    {
     "name": "stdout",
     "output_type": "stream",
     "text": [
      "\n",
      "      Epoch    GPU_mem   box_loss   cls_loss   dfl_loss  Instances       Size\n"
     ]
    },
    {
     "name": "stderr",
     "output_type": "stream",
     "text": [
      "     10/100      2.45G      1.703      1.416      1.389         47        640: 100%|██████████| 49/49 [00:18<00:00,  2.60it/s]\n",
      "                 Class     Images  Instances      Box(P          R      mAP50  mAP50-95): 100%|██████████| 12/12 [00:05<00:00,  2.35it/s]\n"
     ]
    },
    {
     "name": "stdout",
     "output_type": "stream",
     "text": [
      "                   all        381       1597      0.662      0.614      0.662      0.316\n",
      "\n",
      "      Epoch    GPU_mem   box_loss   cls_loss   dfl_loss  Instances       Size\n"
     ]
    },
    {
     "name": "stderr",
     "output_type": "stream",
     "text": [
      "     11/100      2.36G      1.723      1.403      1.378         86        640: 100%|██████████| 49/49 [00:19<00:00,  2.53it/s]\n",
      "                 Class     Images  Instances      Box(P          R      mAP50  mAP50-95): 100%|██████████| 12/12 [00:05<00:00,  2.13it/s]"
     ]
    },
    {
     "name": "stdout",
     "output_type": "stream",
     "text": [
      "                   all        381       1597      0.682      0.619      0.669      0.329\n"
     ]
    },
    {
     "name": "stderr",
     "output_type": "stream",
     "text": [
      "\n"
     ]
    },
    {
     "name": "stdout",
     "output_type": "stream",
     "text": [
      "\n",
      "      Epoch    GPU_mem   box_loss   cls_loss   dfl_loss  Instances       Size\n"
     ]
    },
    {
     "name": "stderr",
     "output_type": "stream",
     "text": [
      "     12/100      2.34G      1.646      1.324      1.336         65        640: 100%|██████████| 49/49 [00:19<00:00,  2.57it/s]\n",
      "                 Class     Images  Instances      Box(P          R      mAP50  mAP50-95): 100%|██████████| 12/12 [00:04<00:00,  2.73it/s]"
     ]
    },
    {
     "name": "stdout",
     "output_type": "stream",
     "text": [
      "                   all        381       1597      0.641      0.572      0.609      0.288\n"
     ]
    },
    {
     "name": "stderr",
     "output_type": "stream",
     "text": [
      "\n"
     ]
    },
    {
     "name": "stdout",
     "output_type": "stream",
     "text": [
      "\n",
      "      Epoch    GPU_mem   box_loss   cls_loss   dfl_loss  Instances       Size\n"
     ]
    },
    {
     "name": "stderr",
     "output_type": "stream",
     "text": [
      "     13/100      2.34G      1.635      1.315      1.349         56        640: 100%|██████████| 49/49 [00:18<00:00,  2.69it/s]\n",
      "                 Class     Images  Instances      Box(P          R      mAP50  mAP50-95): 100%|██████████| 12/12 [00:07<00:00,  1.54it/s]"
     ]
    },
    {
     "name": "stdout",
     "output_type": "stream",
     "text": [
      "                   all        381       1597      0.694      0.638      0.696      0.344\n"
     ]
    },
    {
     "name": "stderr",
     "output_type": "stream",
     "text": [
      "\n"
     ]
    },
    {
     "name": "stdout",
     "output_type": "stream",
     "text": [
      "\n",
      "      Epoch    GPU_mem   box_loss   cls_loss   dfl_loss  Instances       Size\n"
     ]
    },
    {
     "name": "stderr",
     "output_type": "stream",
     "text": [
      "     14/100      2.27G      1.675      1.329      1.366         60        640: 100%|██████████| 49/49 [00:18<00:00,  2.64it/s]\n",
      "                 Class     Images  Instances      Box(P          R      mAP50  mAP50-95): 100%|██████████| 12/12 [00:04<00:00,  2.68it/s]"
     ]
    },
    {
     "name": "stdout",
     "output_type": "stream",
     "text": [
      "                   all        381       1597      0.669      0.625      0.686      0.328\n"
     ]
    },
    {
     "name": "stderr",
     "output_type": "stream",
     "text": [
      "\n"
     ]
    },
    {
     "name": "stdout",
     "output_type": "stream",
     "text": [
      "\n",
      "      Epoch    GPU_mem   box_loss   cls_loss   dfl_loss  Instances       Size\n"
     ]
    },
    {
     "name": "stderr",
     "output_type": "stream",
     "text": [
      "     15/100      2.34G      1.639      1.287      1.357         42        640: 100%|██████████| 49/49 [00:18<00:00,  2.58it/s]\n",
      "                 Class     Images  Instances      Box(P          R      mAP50  mAP50-95): 100%|██████████| 12/12 [00:04<00:00,  2.64it/s]"
     ]
    },
    {
     "name": "stdout",
     "output_type": "stream",
     "text": [
      "                   all        381       1597      0.713      0.657      0.714      0.354\n"
     ]
    },
    {
     "name": "stderr",
     "output_type": "stream",
     "text": [
      "\n"
     ]
    },
    {
     "name": "stdout",
     "output_type": "stream",
     "text": [
      "\n",
      "      Epoch    GPU_mem   box_loss   cls_loss   dfl_loss  Instances       Size\n"
     ]
    },
    {
     "name": "stderr",
     "output_type": "stream",
     "text": [
      "     16/100      2.34G      1.635      1.299      1.336         75        640: 100%|██████████| 49/49 [00:19<00:00,  2.56it/s]\n",
      "                 Class     Images  Instances      Box(P          R      mAP50  mAP50-95): 100%|██████████| 12/12 [00:07<00:00,  1.65it/s]"
     ]
    },
    {
     "name": "stdout",
     "output_type": "stream",
     "text": [
      "                   all        381       1597      0.708      0.646      0.719      0.361\n"
     ]
    },
    {
     "name": "stderr",
     "output_type": "stream",
     "text": [
      "\n"
     ]
    },
    {
     "name": "stdout",
     "output_type": "stream",
     "text": [
      "\n",
      "      Epoch    GPU_mem   box_loss   cls_loss   dfl_loss  Instances       Size\n"
     ]
    },
    {
     "name": "stderr",
     "output_type": "stream",
     "text": [
      "     17/100      2.38G        1.6      1.266      1.337         77        640: 100%|██████████| 49/49 [00:19<00:00,  2.57it/s]\n",
      "                 Class     Images  Instances      Box(P          R      mAP50  mAP50-95): 100%|██████████| 12/12 [00:04<00:00,  2.77it/s]"
     ]
    },
    {
     "name": "stdout",
     "output_type": "stream",
     "text": [
      "                   all        381       1597      0.689      0.647      0.708      0.343\n"
     ]
    },
    {
     "name": "stderr",
     "output_type": "stream",
     "text": [
      "\n"
     ]
    },
    {
     "name": "stdout",
     "output_type": "stream",
     "text": [
      "\n",
      "      Epoch    GPU_mem   box_loss   cls_loss   dfl_loss  Instances       Size\n"
     ]
    },
    {
     "name": "stderr",
     "output_type": "stream",
     "text": [
      "     18/100      2.33G      1.635      1.269      1.325         44        640: 100%|██████████| 49/49 [00:19<00:00,  2.51it/s]\n",
      "                 Class     Images  Instances      Box(P          R      mAP50  mAP50-95): 100%|██████████| 12/12 [00:07<00:00,  1.67it/s]\n"
     ]
    },
    {
     "name": "stdout",
     "output_type": "stream",
     "text": [
      "                   all        381       1597      0.696      0.634      0.698      0.345\n",
      "\n",
      "      Epoch    GPU_mem   box_loss   cls_loss   dfl_loss  Instances       Size\n"
     ]
    },
    {
     "name": "stderr",
     "output_type": "stream",
     "text": [
      "     19/100      2.33G      1.595      1.203      1.297         82        640: 100%|██████████| 49/49 [00:19<00:00,  2.53it/s]\n",
      "                 Class     Images  Instances      Box(P          R      mAP50  mAP50-95): 100%|██████████| 12/12 [00:04<00:00,  2.53it/s]"
     ]
    },
    {
     "name": "stdout",
     "output_type": "stream",
     "text": [
      "                   all        381       1597      0.707      0.657      0.723      0.366\n"
     ]
    },
    {
     "name": "stderr",
     "output_type": "stream",
     "text": [
      "\n"
     ]
    },
    {
     "name": "stdout",
     "output_type": "stream",
     "text": [
      "\n",
      "      Epoch    GPU_mem   box_loss   cls_loss   dfl_loss  Instances       Size\n"
     ]
    },
    {
     "name": "stderr",
     "output_type": "stream",
     "text": [
      "     20/100      2.31G       1.61       1.24      1.305        107        640: 100%|██████████| 49/49 [00:18<00:00,  2.63it/s]\n",
      "                 Class     Images  Instances      Box(P          R      mAP50  mAP50-95): 100%|██████████| 12/12 [00:04<00:00,  2.48it/s]"
     ]
    },
    {
     "name": "stdout",
     "output_type": "stream",
     "text": [
      "                   all        381       1597      0.703      0.684      0.735       0.37\n"
     ]
    },
    {
     "name": "stderr",
     "output_type": "stream",
     "text": [
      "\n"
     ]
    },
    {
     "name": "stdout",
     "output_type": "stream",
     "text": [
      "\n",
      "      Epoch    GPU_mem   box_loss   cls_loss   dfl_loss  Instances       Size\n"
     ]
    },
    {
     "name": "stderr",
     "output_type": "stream",
     "text": [
      "     21/100      2.35G      1.619      1.234      1.312         34        640: 100%|██████████| 49/49 [00:18<00:00,  2.67it/s]\n",
      "                 Class     Images  Instances      Box(P          R      mAP50  mAP50-95): 100%|██████████| 12/12 [00:07<00:00,  1.62it/s]"
     ]
    },
    {
     "name": "stdout",
     "output_type": "stream",
     "text": [
      "                   all        381       1597      0.735      0.658      0.727      0.382\n"
     ]
    },
    {
     "name": "stderr",
     "output_type": "stream",
     "text": [
      "\n"
     ]
    },
    {
     "name": "stdout",
     "output_type": "stream",
     "text": [
      "\n",
      "      Epoch    GPU_mem   box_loss   cls_loss   dfl_loss  Instances       Size\n"
     ]
    },
    {
     "name": "stderr",
     "output_type": "stream",
     "text": [
      "     22/100      2.32G       1.58      1.207        1.3         39        640: 100%|██████████| 49/49 [00:18<00:00,  2.63it/s]\n",
      "                 Class     Images  Instances      Box(P          R      mAP50  mAP50-95): 100%|██████████| 12/12 [00:04<00:00,  2.76it/s]"
     ]
    },
    {
     "name": "stdout",
     "output_type": "stream",
     "text": [
      "                   all        381       1597      0.723      0.698      0.755       0.39\n"
     ]
    },
    {
     "name": "stderr",
     "output_type": "stream",
     "text": [
      "\n"
     ]
    },
    {
     "name": "stdout",
     "output_type": "stream",
     "text": [
      "\n",
      "      Epoch    GPU_mem   box_loss   cls_loss   dfl_loss  Instances       Size\n"
     ]
    },
    {
     "name": "stderr",
     "output_type": "stream",
     "text": [
      "     23/100      2.27G      1.601        1.2      1.308         52        640: 100%|██████████| 49/49 [00:18<00:00,  2.58it/s]\n",
      "                 Class     Images  Instances      Box(P          R      mAP50  mAP50-95): 100%|██████████| 12/12 [00:04<00:00,  2.53it/s]"
     ]
    },
    {
     "name": "stdout",
     "output_type": "stream",
     "text": [
      "                   all        381       1597      0.701      0.679      0.739      0.381\n"
     ]
    },
    {
     "name": "stderr",
     "output_type": "stream",
     "text": [
      "\n"
     ]
    },
    {
     "name": "stdout",
     "output_type": "stream",
     "text": [
      "\n",
      "      Epoch    GPU_mem   box_loss   cls_loss   dfl_loss  Instances       Size\n"
     ]
    },
    {
     "name": "stderr",
     "output_type": "stream",
     "text": [
      "     24/100      2.31G      1.596      1.223      1.308         52        640: 100%|██████████| 49/49 [00:18<00:00,  2.69it/s]\n",
      "                 Class     Images  Instances      Box(P          R      mAP50  mAP50-95): 100%|██████████| 12/12 [00:07<00:00,  1.69it/s]"
     ]
    },
    {
     "name": "stdout",
     "output_type": "stream",
     "text": [
      "                   all        381       1597       0.71      0.677      0.727      0.366\n"
     ]
    },
    {
     "name": "stderr",
     "output_type": "stream",
     "text": [
      "\n"
     ]
    },
    {
     "name": "stdout",
     "output_type": "stream",
     "text": [
      "\n",
      "      Epoch    GPU_mem   box_loss   cls_loss   dfl_loss  Instances       Size\n"
     ]
    },
    {
     "name": "stderr",
     "output_type": "stream",
     "text": [
      "     25/100      2.35G      1.557      1.164      1.282         51        640: 100%|██████████| 49/49 [00:18<00:00,  2.67it/s]\n",
      "                 Class     Images  Instances      Box(P          R      mAP50  mAP50-95): 100%|██████████| 12/12 [00:04<00:00,  2.90it/s]"
     ]
    },
    {
     "name": "stdout",
     "output_type": "stream",
     "text": [
      "                   all        381       1597      0.733      0.664      0.738       0.38\n"
     ]
    },
    {
     "name": "stderr",
     "output_type": "stream",
     "text": [
      "\n"
     ]
    },
    {
     "name": "stdout",
     "output_type": "stream",
     "text": [
      "\n",
      "      Epoch    GPU_mem   box_loss   cls_loss   dfl_loss  Instances       Size\n"
     ]
    },
    {
     "name": "stderr",
     "output_type": "stream",
     "text": [
      "     26/100       2.4G      1.533      1.143      1.261         94        640: 100%|██████████| 49/49 [00:18<00:00,  2.61it/s]\n",
      "                 Class     Images  Instances      Box(P          R      mAP50  mAP50-95): 100%|██████████| 12/12 [00:05<00:00,  2.35it/s]"
     ]
    },
    {
     "name": "stdout",
     "output_type": "stream",
     "text": [
      "                   all        381       1597       0.72      0.685      0.748      0.377\n"
     ]
    },
    {
     "name": "stderr",
     "output_type": "stream",
     "text": [
      "\n"
     ]
    },
    {
     "name": "stdout",
     "output_type": "stream",
     "text": [
      "\n",
      "      Epoch    GPU_mem   box_loss   cls_loss   dfl_loss  Instances       Size\n"
     ]
    },
    {
     "name": "stderr",
     "output_type": "stream",
     "text": [
      "     27/100      2.34G      1.561      1.159      1.286         70        640: 100%|██████████| 49/49 [00:18<00:00,  2.61it/s]\n",
      "                 Class     Images  Instances      Box(P          R      mAP50  mAP50-95): 100%|██████████| 12/12 [00:06<00:00,  1.76it/s]"
     ]
    },
    {
     "name": "stdout",
     "output_type": "stream",
     "text": [
      "                   all        381       1597      0.727      0.696      0.754      0.392\n"
     ]
    },
    {
     "name": "stderr",
     "output_type": "stream",
     "text": [
      "\n"
     ]
    },
    {
     "name": "stdout",
     "output_type": "stream",
     "text": [
      "\n",
      "      Epoch    GPU_mem   box_loss   cls_loss   dfl_loss  Instances       Size\n"
     ]
    },
    {
     "name": "stderr",
     "output_type": "stream",
     "text": [
      "     28/100      2.34G      1.545      1.109      1.274         40        640: 100%|██████████| 49/49 [00:18<00:00,  2.60it/s]\n",
      "                 Class     Images  Instances      Box(P          R      mAP50  mAP50-95): 100%|██████████| 12/12 [00:04<00:00,  2.95it/s]"
     ]
    },
    {
     "name": "stdout",
     "output_type": "stream",
     "text": [
      "                   all        381       1597      0.751       0.69      0.753      0.393\n"
     ]
    },
    {
     "name": "stderr",
     "output_type": "stream",
     "text": [
      "\n"
     ]
    },
    {
     "name": "stdout",
     "output_type": "stream",
     "text": [
      "\n",
      "      Epoch    GPU_mem   box_loss   cls_loss   dfl_loss  Instances       Size\n"
     ]
    },
    {
     "name": "stderr",
     "output_type": "stream",
     "text": [
      "     29/100      2.34G      1.552      1.101      1.279         38        640: 100%|██████████| 49/49 [00:18<00:00,  2.62it/s]\n",
      "                 Class     Images  Instances      Box(P          R      mAP50  mAP50-95): 100%|██████████| 12/12 [00:05<00:00,  2.19it/s]"
     ]
    },
    {
     "name": "stdout",
     "output_type": "stream",
     "text": [
      "                   all        381       1597      0.759      0.682      0.758      0.392\n"
     ]
    },
    {
     "name": "stderr",
     "output_type": "stream",
     "text": [
      "\n"
     ]
    },
    {
     "name": "stdout",
     "output_type": "stream",
     "text": [
      "\n",
      "      Epoch    GPU_mem   box_loss   cls_loss   dfl_loss  Instances       Size\n"
     ]
    },
    {
     "name": "stderr",
     "output_type": "stream",
     "text": [
      "     30/100      2.33G      1.522       1.11      1.263         33        640: 100%|██████████| 49/49 [00:17<00:00,  2.73it/s]\n",
      "                 Class     Images  Instances      Box(P          R      mAP50  mAP50-95): 100%|██████████| 12/12 [00:06<00:00,  1.77it/s]"
     ]
    },
    {
     "name": "stdout",
     "output_type": "stream",
     "text": [
      "                   all        381       1597      0.766      0.691      0.774      0.408\n"
     ]
    },
    {
     "name": "stderr",
     "output_type": "stream",
     "text": [
      "\n"
     ]
    },
    {
     "name": "stdout",
     "output_type": "stream",
     "text": [
      "\n",
      "      Epoch    GPU_mem   box_loss   cls_loss   dfl_loss  Instances       Size\n"
     ]
    },
    {
     "name": "stderr",
     "output_type": "stream",
     "text": [
      "     31/100      2.36G      1.542      1.118      1.274         56        640: 100%|██████████| 49/49 [00:18<00:00,  2.65it/s]\n",
      "                 Class     Images  Instances      Box(P          R      mAP50  mAP50-95): 100%|██████████| 12/12 [00:04<00:00,  2.80it/s]"
     ]
    },
    {
     "name": "stdout",
     "output_type": "stream",
     "text": [
      "                   all        381       1597       0.76      0.681       0.76      0.395\n"
     ]
    },
    {
     "name": "stderr",
     "output_type": "stream",
     "text": [
      "\n"
     ]
    },
    {
     "name": "stdout",
     "output_type": "stream",
     "text": [
      "\n",
      "      Epoch    GPU_mem   box_loss   cls_loss   dfl_loss  Instances       Size\n"
     ]
    },
    {
     "name": "stderr",
     "output_type": "stream",
     "text": [
      "     32/100      2.31G      1.556      1.121      1.279         42        640: 100%|██████████| 49/49 [00:18<00:00,  2.65it/s]\n",
      "                 Class     Images  Instances      Box(P          R      mAP50  mAP50-95): 100%|██████████| 12/12 [00:05<00:00,  2.32it/s]"
     ]
    },
    {
     "name": "stdout",
     "output_type": "stream",
     "text": [
      "                   all        381       1597      0.718      0.716      0.754      0.379\n"
     ]
    },
    {
     "name": "stderr",
     "output_type": "stream",
     "text": [
      "\n"
     ]
    },
    {
     "name": "stdout",
     "output_type": "stream",
     "text": [
      "\n",
      "      Epoch    GPU_mem   box_loss   cls_loss   dfl_loss  Instances       Size\n"
     ]
    },
    {
     "name": "stderr",
     "output_type": "stream",
     "text": [
      "     33/100      2.34G      1.534      1.095      1.252         30        640: 100%|██████████| 49/49 [00:18<00:00,  2.62it/s]\n",
      "                 Class     Images  Instances      Box(P          R      mAP50  mAP50-95): 100%|██████████| 12/12 [00:06<00:00,  1.94it/s]"
     ]
    },
    {
     "name": "stdout",
     "output_type": "stream",
     "text": [
      "                   all        381       1597      0.736      0.701      0.764      0.404\n"
     ]
    },
    {
     "name": "stderr",
     "output_type": "stream",
     "text": [
      "\n"
     ]
    },
    {
     "name": "stdout",
     "output_type": "stream",
     "text": [
      "\n",
      "      Epoch    GPU_mem   box_loss   cls_loss   dfl_loss  Instances       Size\n"
     ]
    },
    {
     "name": "stderr",
     "output_type": "stream",
     "text": [
      "     34/100      2.25G      1.495      1.086      1.246         42        640: 100%|██████████| 49/49 [00:18<00:00,  2.60it/s]\n",
      "                 Class     Images  Instances      Box(P          R      mAP50  mAP50-95): 100%|██████████| 12/12 [00:04<00:00,  2.89it/s]"
     ]
    },
    {
     "name": "stdout",
     "output_type": "stream",
     "text": [
      "                   all        381       1597      0.754      0.679      0.757      0.387\n"
     ]
    },
    {
     "name": "stderr",
     "output_type": "stream",
     "text": [
      "\n"
     ]
    },
    {
     "name": "stdout",
     "output_type": "stream",
     "text": [
      "\n",
      "      Epoch    GPU_mem   box_loss   cls_loss   dfl_loss  Instances       Size\n"
     ]
    },
    {
     "name": "stderr",
     "output_type": "stream",
     "text": [
      "     35/100      2.31G      1.506      1.087      1.262         34        640: 100%|██████████| 49/49 [00:18<00:00,  2.63it/s]\n",
      "                 Class     Images  Instances      Box(P          R      mAP50  mAP50-95): 100%|██████████| 12/12 [00:05<00:00,  2.20it/s]"
     ]
    },
    {
     "name": "stdout",
     "output_type": "stream",
     "text": [
      "                   all        381       1597      0.773      0.694      0.775      0.406\n"
     ]
    },
    {
     "name": "stderr",
     "output_type": "stream",
     "text": [
      "\n"
     ]
    },
    {
     "name": "stdout",
     "output_type": "stream",
     "text": [
      "\n",
      "      Epoch    GPU_mem   box_loss   cls_loss   dfl_loss  Instances       Size\n"
     ]
    },
    {
     "name": "stderr",
     "output_type": "stream",
     "text": [
      "     36/100      2.38G      1.497      1.063      1.254         53        640: 100%|██████████| 49/49 [00:18<00:00,  2.66it/s]\n",
      "                 Class     Images  Instances      Box(P          R      mAP50  mAP50-95): 100%|██████████| 12/12 [00:05<00:00,  2.20it/s]"
     ]
    },
    {
     "name": "stdout",
     "output_type": "stream",
     "text": [
      "                   all        381       1597       0.74      0.731      0.775      0.401\n"
     ]
    },
    {
     "name": "stderr",
     "output_type": "stream",
     "text": [
      "\n"
     ]
    },
    {
     "name": "stdout",
     "output_type": "stream",
     "text": [
      "\n",
      "      Epoch    GPU_mem   box_loss   cls_loss   dfl_loss  Instances       Size\n"
     ]
    },
    {
     "name": "stderr",
     "output_type": "stream",
     "text": [
      "     37/100      2.31G      1.486      1.059      1.244         42        640: 100%|██████████| 49/49 [00:18<00:00,  2.63it/s]\n",
      "                 Class     Images  Instances      Box(P          R      mAP50  mAP50-95): 100%|██████████| 12/12 [00:04<00:00,  2.74it/s]"
     ]
    },
    {
     "name": "stdout",
     "output_type": "stream",
     "text": [
      "                   all        381       1597      0.741      0.716      0.769        0.4\n"
     ]
    },
    {
     "name": "stderr",
     "output_type": "stream",
     "text": [
      "\n"
     ]
    },
    {
     "name": "stdout",
     "output_type": "stream",
     "text": [
      "\n",
      "      Epoch    GPU_mem   box_loss   cls_loss   dfl_loss  Instances       Size\n"
     ]
    },
    {
     "name": "stderr",
     "output_type": "stream",
     "text": [
      "     38/100      2.33G      1.485      1.058      1.243         43        640: 100%|██████████| 49/49 [00:18<00:00,  2.66it/s]\n",
      "                 Class     Images  Instances      Box(P          R      mAP50  mAP50-95): 100%|██████████| 12/12 [00:07<00:00,  1.66it/s]"
     ]
    },
    {
     "name": "stdout",
     "output_type": "stream",
     "text": [
      "                   all        381       1597      0.758      0.712      0.781      0.404\n"
     ]
    },
    {
     "name": "stderr",
     "output_type": "stream",
     "text": [
      "\n"
     ]
    },
    {
     "name": "stdout",
     "output_type": "stream",
     "text": [
      "\n",
      "      Epoch    GPU_mem   box_loss   cls_loss   dfl_loss  Instances       Size\n"
     ]
    },
    {
     "name": "stderr",
     "output_type": "stream",
     "text": [
      "     39/100      2.33G      1.487      1.046       1.24         53        640: 100%|██████████| 49/49 [00:18<00:00,  2.64it/s]\n",
      "                 Class     Images  Instances      Box(P          R      mAP50  mAP50-95): 100%|██████████| 12/12 [00:04<00:00,  2.90it/s]"
     ]
    },
    {
     "name": "stdout",
     "output_type": "stream",
     "text": [
      "                   all        381       1597      0.762      0.728      0.796      0.417\n"
     ]
    },
    {
     "name": "stderr",
     "output_type": "stream",
     "text": [
      "\n"
     ]
    },
    {
     "name": "stdout",
     "output_type": "stream",
     "text": [
      "\n",
      "      Epoch    GPU_mem   box_loss   cls_loss   dfl_loss  Instances       Size\n"
     ]
    },
    {
     "name": "stderr",
     "output_type": "stream",
     "text": [
      "     40/100      2.33G       1.48      1.058       1.24         89        640: 100%|██████████| 49/49 [00:18<00:00,  2.59it/s]\n",
      "                 Class     Images  Instances      Box(P          R      mAP50  mAP50-95): 100%|██████████| 12/12 [00:04<00:00,  2.79it/s]"
     ]
    },
    {
     "name": "stdout",
     "output_type": "stream",
     "text": [
      "                   all        381       1597       0.77      0.719      0.795      0.418\n"
     ]
    },
    {
     "name": "stderr",
     "output_type": "stream",
     "text": [
      "\n"
     ]
    },
    {
     "name": "stdout",
     "output_type": "stream",
     "text": [
      "\n",
      "      Epoch    GPU_mem   box_loss   cls_loss   dfl_loss  Instances       Size\n"
     ]
    },
    {
     "name": "stderr",
     "output_type": "stream",
     "text": [
      "     41/100      2.28G      1.493      1.061      1.252         51        640: 100%|██████████| 49/49 [00:18<00:00,  2.59it/s]\n",
      "                 Class     Images  Instances      Box(P          R      mAP50  mAP50-95): 100%|██████████| 12/12 [00:07<00:00,  1.57it/s]"
     ]
    },
    {
     "name": "stdout",
     "output_type": "stream",
     "text": [
      "                   all        381       1597      0.761       0.71      0.782      0.407\n"
     ]
    },
    {
     "name": "stderr",
     "output_type": "stream",
     "text": [
      "\n"
     ]
    },
    {
     "name": "stdout",
     "output_type": "stream",
     "text": [
      "\n",
      "      Epoch    GPU_mem   box_loss   cls_loss   dfl_loss  Instances       Size\n"
     ]
    },
    {
     "name": "stderr",
     "output_type": "stream",
     "text": [
      "     42/100      2.32G      1.491      1.041      1.247         28        640: 100%|██████████| 49/49 [00:19<00:00,  2.57it/s]\n",
      "                 Class     Images  Instances      Box(P          R      mAP50  mAP50-95): 100%|██████████| 12/12 [00:04<00:00,  2.68it/s]"
     ]
    },
    {
     "name": "stdout",
     "output_type": "stream",
     "text": [
      "                   all        381       1597      0.751        0.7      0.748      0.374\n"
     ]
    },
    {
     "name": "stderr",
     "output_type": "stream",
     "text": [
      "\n"
     ]
    },
    {
     "name": "stdout",
     "output_type": "stream",
     "text": [
      "\n",
      "      Epoch    GPU_mem   box_loss   cls_loss   dfl_loss  Instances       Size\n"
     ]
    },
    {
     "name": "stderr",
     "output_type": "stream",
     "text": [
      "     43/100      2.26G      1.466      1.042      1.236         21        640: 100%|██████████| 49/49 [00:18<00:00,  2.63it/s]\n",
      "                 Class     Images  Instances      Box(P          R      mAP50  mAP50-95): 100%|██████████| 12/12 [00:04<00:00,  2.60it/s]"
     ]
    },
    {
     "name": "stdout",
     "output_type": "stream",
     "text": [
      "                   all        381       1597      0.745      0.719      0.781      0.413\n"
     ]
    },
    {
     "name": "stderr",
     "output_type": "stream",
     "text": [
      "\n"
     ]
    },
    {
     "name": "stdout",
     "output_type": "stream",
     "text": [
      "\n",
      "      Epoch    GPU_mem   box_loss   cls_loss   dfl_loss  Instances       Size\n"
     ]
    },
    {
     "name": "stderr",
     "output_type": "stream",
     "text": [
      "     44/100      2.34G      1.473       1.03      1.227         28        640: 100%|██████████| 49/49 [00:18<00:00,  2.61it/s]\n",
      "                 Class     Images  Instances      Box(P          R      mAP50  mAP50-95): 100%|██████████| 12/12 [00:07<00:00,  1.65it/s]"
     ]
    },
    {
     "name": "stdout",
     "output_type": "stream",
     "text": [
      "                   all        381       1597       0.77      0.699      0.781      0.417\n"
     ]
    },
    {
     "name": "stderr",
     "output_type": "stream",
     "text": [
      "\n"
     ]
    },
    {
     "name": "stdout",
     "output_type": "stream",
     "text": [
      "\n",
      "      Epoch    GPU_mem   box_loss   cls_loss   dfl_loss  Instances       Size\n"
     ]
    },
    {
     "name": "stderr",
     "output_type": "stream",
     "text": [
      "     45/100      2.31G      1.465       1.02      1.225         62        640: 100%|██████████| 49/49 [00:18<00:00,  2.58it/s]\n",
      "                 Class     Images  Instances      Box(P          R      mAP50  mAP50-95): 100%|██████████| 12/12 [00:04<00:00,  2.94it/s]"
     ]
    },
    {
     "name": "stdout",
     "output_type": "stream",
     "text": [
      "                   all        381       1597      0.786       0.69      0.773      0.405\n"
     ]
    },
    {
     "name": "stderr",
     "output_type": "stream",
     "text": [
      "\n"
     ]
    },
    {
     "name": "stdout",
     "output_type": "stream",
     "text": [
      "\n",
      "      Epoch    GPU_mem   box_loss   cls_loss   dfl_loss  Instances       Size\n"
     ]
    },
    {
     "name": "stderr",
     "output_type": "stream",
     "text": [
      "     46/100      2.24G      1.445     0.9997      1.207         62        640: 100%|██████████| 49/49 [00:19<00:00,  2.57it/s]\n",
      "                 Class     Images  Instances      Box(P          R      mAP50  mAP50-95): 100%|██████████| 12/12 [00:05<00:00,  2.26it/s]"
     ]
    },
    {
     "name": "stdout",
     "output_type": "stream",
     "text": [
      "                   all        381       1597      0.739      0.728      0.782      0.413\n"
     ]
    },
    {
     "name": "stderr",
     "output_type": "stream",
     "text": [
      "\n"
     ]
    },
    {
     "name": "stdout",
     "output_type": "stream",
     "text": [
      "\n",
      "      Epoch    GPU_mem   box_loss   cls_loss   dfl_loss  Instances       Size\n"
     ]
    },
    {
     "name": "stderr",
     "output_type": "stream",
     "text": [
      "     47/100      2.27G      1.424      1.015      1.216         92        640: 100%|██████████| 49/49 [00:19<00:00,  2.53it/s]\n",
      "                 Class     Images  Instances      Box(P          R      mAP50  mAP50-95): 100%|██████████| 12/12 [00:05<00:00,  2.35it/s]"
     ]
    },
    {
     "name": "stdout",
     "output_type": "stream",
     "text": [
      "                   all        381       1597      0.757      0.704      0.782      0.412\n"
     ]
    },
    {
     "name": "stderr",
     "output_type": "stream",
     "text": [
      "\n"
     ]
    },
    {
     "name": "stdout",
     "output_type": "stream",
     "text": [
      "\n",
      "      Epoch    GPU_mem   box_loss   cls_loss   dfl_loss  Instances       Size\n"
     ]
    },
    {
     "name": "stderr",
     "output_type": "stream",
     "text": [
      "     48/100      2.35G       1.44     0.9863      1.221         53        640: 100%|██████████| 49/49 [00:18<00:00,  2.62it/s]\n",
      "                 Class     Images  Instances      Box(P          R      mAP50  mAP50-95): 100%|██████████| 12/12 [00:04<00:00,  2.51it/s]"
     ]
    },
    {
     "name": "stdout",
     "output_type": "stream",
     "text": [
      "                   all        381       1597      0.774      0.726      0.794       0.42\n"
     ]
    },
    {
     "name": "stderr",
     "output_type": "stream",
     "text": [
      "\n"
     ]
    },
    {
     "name": "stdout",
     "output_type": "stream",
     "text": [
      "\n",
      "      Epoch    GPU_mem   box_loss   cls_loss   dfl_loss  Instances       Size\n"
     ]
    },
    {
     "name": "stderr",
     "output_type": "stream",
     "text": [
      "     49/100      2.34G      1.442      1.001      1.207         36        640: 100%|██████████| 49/49 [00:19<00:00,  2.54it/s]\n",
      "                 Class     Images  Instances      Box(P          R      mAP50  mAP50-95): 100%|██████████| 12/12 [00:07<00:00,  1.54it/s]"
     ]
    },
    {
     "name": "stdout",
     "output_type": "stream",
     "text": [
      "                   all        381       1597      0.736      0.777        0.8      0.425\n"
     ]
    },
    {
     "name": "stderr",
     "output_type": "stream",
     "text": [
      "\n"
     ]
    },
    {
     "name": "stdout",
     "output_type": "stream",
     "text": [
      "\n",
      "      Epoch    GPU_mem   box_loss   cls_loss   dfl_loss  Instances       Size\n"
     ]
    },
    {
     "name": "stderr",
     "output_type": "stream",
     "text": [
      "     50/100       2.3G       1.43     0.9704      1.207         41        640: 100%|██████████| 49/49 [00:18<00:00,  2.65it/s]\n",
      "                 Class     Images  Instances      Box(P          R      mAP50  mAP50-95): 100%|██████████| 12/12 [00:04<00:00,  2.82it/s]"
     ]
    },
    {
     "name": "stdout",
     "output_type": "stream",
     "text": [
      "                   all        381       1597      0.782      0.724      0.792      0.416\n"
     ]
    },
    {
     "name": "stderr",
     "output_type": "stream",
     "text": [
      "\n"
     ]
    },
    {
     "name": "stdout",
     "output_type": "stream",
     "text": [
      "\n",
      "      Epoch    GPU_mem   box_loss   cls_loss   dfl_loss  Instances       Size\n"
     ]
    },
    {
     "name": "stderr",
     "output_type": "stream",
     "text": [
      "     51/100      2.31G      1.415     0.9683      1.197         51        640: 100%|██████████| 49/49 [00:18<00:00,  2.64it/s]\n",
      "                 Class     Images  Instances      Box(P          R      mAP50  mAP50-95): 100%|██████████| 12/12 [00:04<00:00,  2.47it/s]"
     ]
    },
    {
     "name": "stdout",
     "output_type": "stream",
     "text": [
      "                   all        381       1597       0.75      0.729      0.784      0.425\n"
     ]
    },
    {
     "name": "stderr",
     "output_type": "stream",
     "text": [
      "\n"
     ]
    },
    {
     "name": "stdout",
     "output_type": "stream",
     "text": [
      "\n",
      "      Epoch    GPU_mem   box_loss   cls_loss   dfl_loss  Instances       Size\n"
     ]
    },
    {
     "name": "stderr",
     "output_type": "stream",
     "text": [
      "     52/100      2.34G      1.415     0.9827      1.214         56        640: 100%|██████████| 49/49 [00:18<00:00,  2.62it/s]\n",
      "                 Class     Images  Instances      Box(P          R      mAP50  mAP50-95): 100%|██████████| 12/12 [00:07<00:00,  1.65it/s]"
     ]
    },
    {
     "name": "stdout",
     "output_type": "stream",
     "text": [
      "                   all        381       1597      0.752      0.745      0.798      0.431\n"
     ]
    },
    {
     "name": "stderr",
     "output_type": "stream",
     "text": [
      "\n"
     ]
    },
    {
     "name": "stdout",
     "output_type": "stream",
     "text": [
      "\n",
      "      Epoch    GPU_mem   box_loss   cls_loss   dfl_loss  Instances       Size\n"
     ]
    },
    {
     "name": "stderr",
     "output_type": "stream",
     "text": [
      "     53/100      2.34G       1.41     0.9442      1.203         50        640: 100%|██████████| 49/49 [00:18<00:00,  2.69it/s]\n",
      "                 Class     Images  Instances      Box(P          R      mAP50  mAP50-95): 100%|██████████| 12/12 [00:04<00:00,  2.63it/s]"
     ]
    },
    {
     "name": "stdout",
     "output_type": "stream",
     "text": [
      "                   all        381       1597       0.75       0.75      0.793      0.419\n"
     ]
    },
    {
     "name": "stderr",
     "output_type": "stream",
     "text": [
      "\n"
     ]
    },
    {
     "name": "stdout",
     "output_type": "stream",
     "text": [
      "\n",
      "      Epoch    GPU_mem   box_loss   cls_loss   dfl_loss  Instances       Size\n"
     ]
    },
    {
     "name": "stderr",
     "output_type": "stream",
     "text": [
      "     54/100      2.33G      1.401     0.9505      1.191         44        640: 100%|██████████| 49/49 [00:18<00:00,  2.63it/s]\n",
      "                 Class     Images  Instances      Box(P          R      mAP50  mAP50-95): 100%|██████████| 12/12 [00:05<00:00,  2.08it/s]"
     ]
    },
    {
     "name": "stdout",
     "output_type": "stream",
     "text": [
      "                   all        381       1597       0.77      0.728      0.792      0.429\n"
     ]
    },
    {
     "name": "stderr",
     "output_type": "stream",
     "text": [
      "\n"
     ]
    },
    {
     "name": "stdout",
     "output_type": "stream",
     "text": [
      "\n",
      "      Epoch    GPU_mem   box_loss   cls_loss   dfl_loss  Instances       Size\n"
     ]
    },
    {
     "name": "stderr",
     "output_type": "stream",
     "text": [
      "     55/100      2.31G      1.402     0.9367      1.187         41        640: 100%|██████████| 49/49 [00:18<00:00,  2.60it/s]\n",
      "                 Class     Images  Instances      Box(P          R      mAP50  mAP50-95): 100%|██████████| 12/12 [00:05<00:00,  2.27it/s]"
     ]
    },
    {
     "name": "stdout",
     "output_type": "stream",
     "text": [
      "                   all        381       1597      0.769      0.745       0.81      0.438\n"
     ]
    },
    {
     "name": "stderr",
     "output_type": "stream",
     "text": [
      "\n"
     ]
    },
    {
     "name": "stdout",
     "output_type": "stream",
     "text": [
      "\n",
      "      Epoch    GPU_mem   box_loss   cls_loss   dfl_loss  Instances       Size\n"
     ]
    },
    {
     "name": "stderr",
     "output_type": "stream",
     "text": [
      "     56/100      2.36G      1.425     0.9544      1.211         58        640: 100%|██████████| 49/49 [00:18<00:00,  2.66it/s]\n",
      "                 Class     Images  Instances      Box(P          R      mAP50  mAP50-95): 100%|██████████| 12/12 [00:04<00:00,  2.73it/s]"
     ]
    },
    {
     "name": "stdout",
     "output_type": "stream",
     "text": [
      "                   all        381       1597      0.756      0.737      0.793      0.425\n"
     ]
    },
    {
     "name": "stderr",
     "output_type": "stream",
     "text": [
      "\n"
     ]
    },
    {
     "name": "stdout",
     "output_type": "stream",
     "text": [
      "\n",
      "      Epoch    GPU_mem   box_loss   cls_loss   dfl_loss  Instances       Size\n"
     ]
    },
    {
     "name": "stderr",
     "output_type": "stream",
     "text": [
      "     57/100      2.31G      1.391     0.9213      1.179         79        640: 100%|██████████| 49/49 [00:18<00:00,  2.58it/s]\n",
      "                 Class     Images  Instances      Box(P          R      mAP50  mAP50-95): 100%|██████████| 12/12 [00:07<00:00,  1.61it/s]"
     ]
    },
    {
     "name": "stdout",
     "output_type": "stream",
     "text": [
      "                   all        381       1597      0.768      0.751      0.798      0.433\n"
     ]
    },
    {
     "name": "stderr",
     "output_type": "stream",
     "text": [
      "\n"
     ]
    },
    {
     "name": "stdout",
     "output_type": "stream",
     "text": [
      "\n",
      "      Epoch    GPU_mem   box_loss   cls_loss   dfl_loss  Instances       Size\n"
     ]
    },
    {
     "name": "stderr",
     "output_type": "stream",
     "text": [
      "     58/100      2.26G      1.382     0.9128      1.184         63        640: 100%|██████████| 49/49 [00:18<00:00,  2.61it/s]\n",
      "                 Class     Images  Instances      Box(P          R      mAP50  mAP50-95): 100%|██████████| 12/12 [00:04<00:00,  2.63it/s]"
     ]
    },
    {
     "name": "stdout",
     "output_type": "stream",
     "text": [
      "                   all        381       1597      0.773      0.738      0.793      0.422\n"
     ]
    },
    {
     "name": "stderr",
     "output_type": "stream",
     "text": [
      "\n"
     ]
    },
    {
     "name": "stdout",
     "output_type": "stream",
     "text": [
      "\n",
      "      Epoch    GPU_mem   box_loss   cls_loss   dfl_loss  Instances       Size\n"
     ]
    },
    {
     "name": "stderr",
     "output_type": "stream",
     "text": [
      "     59/100      2.27G      1.388     0.9441      1.186         68        640: 100%|██████████| 49/49 [00:18<00:00,  2.60it/s]\n",
      "                 Class     Images  Instances      Box(P          R      mAP50  mAP50-95): 100%|██████████| 12/12 [00:04<00:00,  2.67it/s]"
     ]
    },
    {
     "name": "stdout",
     "output_type": "stream",
     "text": [
      "                   all        381       1597      0.762      0.758       0.79      0.431\n"
     ]
    },
    {
     "name": "stderr",
     "output_type": "stream",
     "text": [
      "\n"
     ]
    },
    {
     "name": "stdout",
     "output_type": "stream",
     "text": [
      "\n",
      "      Epoch    GPU_mem   box_loss   cls_loss   dfl_loss  Instances       Size\n"
     ]
    },
    {
     "name": "stderr",
     "output_type": "stream",
     "text": [
      "     60/100      2.46G      1.357     0.8987      1.166         35        640: 100%|██████████| 49/49 [00:18<00:00,  2.60it/s]\n",
      "                 Class     Images  Instances      Box(P          R      mAP50  mAP50-95): 100%|██████████| 12/12 [00:07<00:00,  1.70it/s]"
     ]
    },
    {
     "name": "stdout",
     "output_type": "stream",
     "text": [
      "                   all        381       1597      0.779      0.743        0.8      0.439\n"
     ]
    },
    {
     "name": "stderr",
     "output_type": "stream",
     "text": [
      "\n"
     ]
    },
    {
     "name": "stdout",
     "output_type": "stream",
     "text": [
      "\n",
      "      Epoch    GPU_mem   box_loss   cls_loss   dfl_loss  Instances       Size\n"
     ]
    },
    {
     "name": "stderr",
     "output_type": "stream",
     "text": [
      "     61/100      2.25G        1.4     0.9295       1.19         64        640: 100%|██████████| 49/49 [00:18<00:00,  2.61it/s]\n",
      "                 Class     Images  Instances      Box(P          R      mAP50  mAP50-95): 100%|██████████| 12/12 [00:04<00:00,  2.73it/s]"
     ]
    },
    {
     "name": "stdout",
     "output_type": "stream",
     "text": [
      "                   all        381       1597      0.778      0.745      0.801      0.439\n"
     ]
    },
    {
     "name": "stderr",
     "output_type": "stream",
     "text": [
      "\n"
     ]
    },
    {
     "name": "stdout",
     "output_type": "stream",
     "text": [
      "\n",
      "      Epoch    GPU_mem   box_loss   cls_loss   dfl_loss  Instances       Size\n"
     ]
    },
    {
     "name": "stderr",
     "output_type": "stream",
     "text": [
      "     62/100      2.43G      1.371     0.9078      1.171         56        640: 100%|██████████| 49/49 [00:18<00:00,  2.67it/s]\n",
      "                 Class     Images  Instances      Box(P          R      mAP50  mAP50-95): 100%|██████████| 12/12 [00:06<00:00,  1.88it/s]"
     ]
    },
    {
     "name": "stdout",
     "output_type": "stream",
     "text": [
      "                   all        381       1597      0.764      0.744      0.796      0.441\n"
     ]
    },
    {
     "name": "stderr",
     "output_type": "stream",
     "text": [
      "\n"
     ]
    },
    {
     "name": "stdout",
     "output_type": "stream",
     "text": [
      "\n",
      "      Epoch    GPU_mem   box_loss   cls_loss   dfl_loss  Instances       Size\n"
     ]
    },
    {
     "name": "stderr",
     "output_type": "stream",
     "text": [
      "     63/100      2.26G       1.38     0.9073      1.179         71        640: 100%|██████████| 49/49 [00:19<00:00,  2.53it/s]\n",
      "                 Class     Images  Instances      Box(P          R      mAP50  mAP50-95): 100%|██████████| 12/12 [00:04<00:00,  2.72it/s]"
     ]
    },
    {
     "name": "stdout",
     "output_type": "stream",
     "text": [
      "                   all        381       1597      0.772      0.743      0.799      0.435\n"
     ]
    },
    {
     "name": "stderr",
     "output_type": "stream",
     "text": [
      "\n"
     ]
    },
    {
     "name": "stdout",
     "output_type": "stream",
     "text": [
      "\n",
      "      Epoch    GPU_mem   box_loss   cls_loss   dfl_loss  Instances       Size\n"
     ]
    },
    {
     "name": "stderr",
     "output_type": "stream",
     "text": [
      "     64/100      2.34G       1.35     0.8937      1.155         38        640: 100%|██████████| 49/49 [00:19<00:00,  2.56it/s]\n",
      "                 Class     Images  Instances      Box(P          R      mAP50  mAP50-95): 100%|██████████| 12/12 [00:04<00:00,  2.67it/s]"
     ]
    },
    {
     "name": "stdout",
     "output_type": "stream",
     "text": [
      "                   all        381       1597      0.758      0.759      0.805      0.435\n"
     ]
    },
    {
     "name": "stderr",
     "output_type": "stream",
     "text": [
      "\n"
     ]
    },
    {
     "name": "stdout",
     "output_type": "stream",
     "text": [
      "\n",
      "      Epoch    GPU_mem   box_loss   cls_loss   dfl_loss  Instances       Size\n"
     ]
    },
    {
     "name": "stderr",
     "output_type": "stream",
     "text": [
      "     65/100      2.46G      1.342     0.8948      1.164         44        640: 100%|██████████| 49/49 [00:19<00:00,  2.53it/s]\n",
      "                 Class     Images  Instances      Box(P          R      mAP50  mAP50-95): 100%|██████████| 12/12 [00:06<00:00,  1.74it/s]"
     ]
    },
    {
     "name": "stdout",
     "output_type": "stream",
     "text": [
      "                   all        381       1597      0.767      0.744        0.8      0.433\n"
     ]
    },
    {
     "name": "stderr",
     "output_type": "stream",
     "text": [
      "\n"
     ]
    },
    {
     "name": "stdout",
     "output_type": "stream",
     "text": [
      "\n",
      "      Epoch    GPU_mem   box_loss   cls_loss   dfl_loss  Instances       Size\n"
     ]
    },
    {
     "name": "stderr",
     "output_type": "stream",
     "text": [
      "     66/100      2.26G       1.36     0.8958      1.166         26        640: 100%|██████████| 49/49 [00:18<00:00,  2.66it/s]\n",
      "                 Class     Images  Instances      Box(P          R      mAP50  mAP50-95): 100%|██████████| 12/12 [00:04<00:00,  2.74it/s]"
     ]
    },
    {
     "name": "stdout",
     "output_type": "stream",
     "text": [
      "                   all        381       1597      0.753      0.757      0.796      0.431\n"
     ]
    },
    {
     "name": "stderr",
     "output_type": "stream",
     "text": [
      "\n"
     ]
    },
    {
     "name": "stdout",
     "output_type": "stream",
     "text": [
      "\n",
      "      Epoch    GPU_mem   box_loss   cls_loss   dfl_loss  Instances       Size\n"
     ]
    },
    {
     "name": "stderr",
     "output_type": "stream",
     "text": [
      "     67/100      2.36G       1.33      0.881      1.155         44        640: 100%|██████████| 49/49 [00:19<00:00,  2.58it/s]\n",
      "                 Class     Images  Instances      Box(P          R      mAP50  mAP50-95): 100%|██████████| 12/12 [00:06<00:00,  1.95it/s]"
     ]
    },
    {
     "name": "stdout",
     "output_type": "stream",
     "text": [
      "                   all        381       1597      0.774      0.767       0.81      0.441\n"
     ]
    },
    {
     "name": "stderr",
     "output_type": "stream",
     "text": [
      "\n"
     ]
    },
    {
     "name": "stdout",
     "output_type": "stream",
     "text": [
      "\n",
      "      Epoch    GPU_mem   box_loss   cls_loss   dfl_loss  Instances       Size\n"
     ]
    },
    {
     "name": "stderr",
     "output_type": "stream",
     "text": [
      "     68/100      2.34G      1.337     0.8769      1.159         42        640: 100%|██████████| 49/49 [00:19<00:00,  2.53it/s]\n",
      "                 Class     Images  Instances      Box(P          R      mAP50  mAP50-95): 100%|██████████| 12/12 [00:04<00:00,  2.47it/s]"
     ]
    },
    {
     "name": "stdout",
     "output_type": "stream",
     "text": [
      "                   all        381       1597      0.778      0.749      0.801      0.443\n"
     ]
    },
    {
     "name": "stderr",
     "output_type": "stream",
     "text": [
      "\n"
     ]
    },
    {
     "name": "stdout",
     "output_type": "stream",
     "text": [
      "\n",
      "      Epoch    GPU_mem   box_loss   cls_loss   dfl_loss  Instances       Size\n"
     ]
    },
    {
     "name": "stderr",
     "output_type": "stream",
     "text": [
      "     69/100      2.33G      1.329     0.8635      1.154         68        640: 100%|██████████| 49/49 [00:18<00:00,  2.64it/s]\n",
      "                 Class     Images  Instances      Box(P          R      mAP50  mAP50-95): 100%|██████████| 12/12 [00:04<00:00,  2.76it/s]"
     ]
    },
    {
     "name": "stdout",
     "output_type": "stream",
     "text": [
      "                   all        381       1597      0.781      0.749      0.807      0.438\n"
     ]
    },
    {
     "name": "stderr",
     "output_type": "stream",
     "text": [
      "\n"
     ]
    },
    {
     "name": "stdout",
     "output_type": "stream",
     "text": [
      "\n",
      "      Epoch    GPU_mem   box_loss   cls_loss   dfl_loss  Instances       Size\n"
     ]
    },
    {
     "name": "stderr",
     "output_type": "stream",
     "text": [
      "     70/100      2.34G      1.342     0.8705       1.16         66        640: 100%|██████████| 49/49 [00:19<00:00,  2.52it/s]\n",
      "                 Class     Images  Instances      Box(P          R      mAP50  mAP50-95): 100%|██████████| 12/12 [00:06<00:00,  1.74it/s]"
     ]
    },
    {
     "name": "stdout",
     "output_type": "stream",
     "text": [
      "                   all        381       1597      0.785      0.741      0.802      0.437\n"
     ]
    },
    {
     "name": "stderr",
     "output_type": "stream",
     "text": [
      "\n"
     ]
    },
    {
     "name": "stdout",
     "output_type": "stream",
     "text": [
      "\n",
      "      Epoch    GPU_mem   box_loss   cls_loss   dfl_loss  Instances       Size\n"
     ]
    },
    {
     "name": "stderr",
     "output_type": "stream",
     "text": [
      "     71/100      2.21G      1.319     0.8705      1.144         70        640: 100%|██████████| 49/49 [00:19<00:00,  2.55it/s]\n",
      "                 Class     Images  Instances      Box(P          R      mAP50  mAP50-95): 100%|██████████| 12/12 [00:04<00:00,  2.76it/s]"
     ]
    },
    {
     "name": "stdout",
     "output_type": "stream",
     "text": [
      "                   all        381       1597      0.801      0.732      0.809      0.442\n"
     ]
    },
    {
     "name": "stderr",
     "output_type": "stream",
     "text": [
      "\n"
     ]
    },
    {
     "name": "stdout",
     "output_type": "stream",
     "text": [
      "\n",
      "      Epoch    GPU_mem   box_loss   cls_loss   dfl_loss  Instances       Size\n"
     ]
    },
    {
     "name": "stderr",
     "output_type": "stream",
     "text": [
      "     72/100      2.43G      1.307     0.8327      1.139         60        640: 100%|██████████| 49/49 [00:19<00:00,  2.54it/s]\n",
      "                 Class     Images  Instances      Box(P          R      mAP50  mAP50-95): 100%|██████████| 12/12 [00:05<00:00,  2.22it/s]"
     ]
    },
    {
     "name": "stdout",
     "output_type": "stream",
     "text": [
      "                   all        381       1597       0.79      0.738       0.81      0.446\n"
     ]
    },
    {
     "name": "stderr",
     "output_type": "stream",
     "text": [
      "\n"
     ]
    },
    {
     "name": "stdout",
     "output_type": "stream",
     "text": [
      "\n",
      "      Epoch    GPU_mem   box_loss   cls_loss   dfl_loss  Instances       Size\n"
     ]
    },
    {
     "name": "stderr",
     "output_type": "stream",
     "text": [
      "     73/100      2.34G      1.311     0.8234      1.143         50        640: 100%|██████████| 49/49 [00:19<00:00,  2.57it/s]\n",
      "                 Class     Images  Instances      Box(P          R      mAP50  mAP50-95): 100%|██████████| 12/12 [00:06<00:00,  1.95it/s]"
     ]
    },
    {
     "name": "stdout",
     "output_type": "stream",
     "text": [
      "                   all        381       1597      0.799      0.741      0.801      0.433\n"
     ]
    },
    {
     "name": "stderr",
     "output_type": "stream",
     "text": [
      "\n"
     ]
    },
    {
     "name": "stdout",
     "output_type": "stream",
     "text": [
      "\n",
      "      Epoch    GPU_mem   box_loss   cls_loss   dfl_loss  Instances       Size\n"
     ]
    },
    {
     "name": "stderr",
     "output_type": "stream",
     "text": [
      "     74/100       2.3G      1.306     0.8522      1.146         68        640: 100%|██████████| 49/49 [00:19<00:00,  2.52it/s]\n",
      "                 Class     Images  Instances      Box(P          R      mAP50  mAP50-95): 100%|██████████| 12/12 [00:04<00:00,  2.71it/s]"
     ]
    },
    {
     "name": "stdout",
     "output_type": "stream",
     "text": [
      "                   all        381       1597      0.777      0.749      0.804      0.444\n"
     ]
    },
    {
     "name": "stderr",
     "output_type": "stream",
     "text": [
      "\n"
     ]
    },
    {
     "name": "stdout",
     "output_type": "stream",
     "text": [
      "\n",
      "      Epoch    GPU_mem   box_loss   cls_loss   dfl_loss  Instances       Size\n"
     ]
    },
    {
     "name": "stderr",
     "output_type": "stream",
     "text": [
      "     75/100      2.34G      1.297     0.8305      1.134         42        640: 100%|██████████| 49/49 [00:18<00:00,  2.58it/s]\n",
      "                 Class     Images  Instances      Box(P          R      mAP50  mAP50-95): 100%|██████████| 12/12 [00:06<00:00,  1.77it/s]"
     ]
    },
    {
     "name": "stdout",
     "output_type": "stream",
     "text": [
      "                   all        381       1597      0.799      0.745      0.807      0.438\n"
     ]
    },
    {
     "name": "stderr",
     "output_type": "stream",
     "text": [
      "\n"
     ]
    },
    {
     "name": "stdout",
     "output_type": "stream",
     "text": [
      "\n",
      "      Epoch    GPU_mem   box_loss   cls_loss   dfl_loss  Instances       Size\n"
     ]
    },
    {
     "name": "stderr",
     "output_type": "stream",
     "text": [
      "     76/100      2.34G       1.31     0.8391      1.151         52        640: 100%|██████████| 49/49 [00:18<00:00,  2.62it/s]\n",
      "                 Class     Images  Instances      Box(P          R      mAP50  mAP50-95): 100%|██████████| 12/12 [00:04<00:00,  2.90it/s]"
     ]
    },
    {
     "name": "stdout",
     "output_type": "stream",
     "text": [
      "                   all        381       1597      0.795      0.729      0.815       0.44\n"
     ]
    },
    {
     "name": "stderr",
     "output_type": "stream",
     "text": [
      "\n"
     ]
    },
    {
     "name": "stdout",
     "output_type": "stream",
     "text": [
      "\n",
      "      Epoch    GPU_mem   box_loss   cls_loss   dfl_loss  Instances       Size\n"
     ]
    },
    {
     "name": "stderr",
     "output_type": "stream",
     "text": [
      "     77/100      2.26G      1.299     0.8424      1.135         66        640: 100%|██████████| 49/49 [00:18<00:00,  2.64it/s]\n",
      "                 Class     Images  Instances      Box(P          R      mAP50  mAP50-95): 100%|██████████| 12/12 [00:04<00:00,  2.74it/s]"
     ]
    },
    {
     "name": "stdout",
     "output_type": "stream",
     "text": [
      "                   all        381       1597      0.787       0.75      0.807      0.444\n"
     ]
    },
    {
     "name": "stderr",
     "output_type": "stream",
     "text": [
      "\n"
     ]
    },
    {
     "name": "stdout",
     "output_type": "stream",
     "text": [
      "\n",
      "      Epoch    GPU_mem   box_loss   cls_loss   dfl_loss  Instances       Size\n"
     ]
    },
    {
     "name": "stderr",
     "output_type": "stream",
     "text": [
      "     78/100      2.25G      1.299     0.8232      1.132         33        640: 100%|██████████| 49/49 [00:18<00:00,  2.70it/s]\n",
      "                 Class     Images  Instances      Box(P          R      mAP50  mAP50-95): 100%|██████████| 12/12 [00:06<00:00,  1.76it/s]"
     ]
    },
    {
     "name": "stdout",
     "output_type": "stream",
     "text": [
      "                   all        381       1597       0.77      0.748        0.8      0.436\n"
     ]
    },
    {
     "name": "stderr",
     "output_type": "stream",
     "text": [
      "\n"
     ]
    },
    {
     "name": "stdout",
     "output_type": "stream",
     "text": [
      "\n",
      "      Epoch    GPU_mem   box_loss   cls_loss   dfl_loss  Instances       Size\n"
     ]
    },
    {
     "name": "stderr",
     "output_type": "stream",
     "text": [
      "     79/100      2.33G      1.291     0.8156      1.139         57        640: 100%|██████████| 49/49 [00:18<00:00,  2.65it/s]\n",
      "                 Class     Images  Instances      Box(P          R      mAP50  mAP50-95): 100%|██████████| 12/12 [00:04<00:00,  2.70it/s]"
     ]
    },
    {
     "name": "stdout",
     "output_type": "stream",
     "text": [
      "                   all        381       1597        0.8      0.744       0.81      0.437\n"
     ]
    },
    {
     "name": "stderr",
     "output_type": "stream",
     "text": [
      "\n"
     ]
    },
    {
     "name": "stdout",
     "output_type": "stream",
     "text": [
      "\n",
      "      Epoch    GPU_mem   box_loss   cls_loss   dfl_loss  Instances       Size\n"
     ]
    },
    {
     "name": "stderr",
     "output_type": "stream",
     "text": [
      "     80/100      2.34G      1.286     0.8061      1.131         52        640: 100%|██████████| 49/49 [00:18<00:00,  2.61it/s]\n",
      "                 Class     Images  Instances      Box(P          R      mAP50  mAP50-95): 100%|██████████| 12/12 [00:04<00:00,  2.40it/s]"
     ]
    },
    {
     "name": "stdout",
     "output_type": "stream",
     "text": [
      "                   all        381       1597      0.809      0.745      0.814      0.443\n"
     ]
    },
    {
     "name": "stderr",
     "output_type": "stream",
     "text": [
      "\n"
     ]
    },
    {
     "name": "stdout",
     "output_type": "stream",
     "text": [
      "\n",
      "      Epoch    GPU_mem   box_loss   cls_loss   dfl_loss  Instances       Size\n"
     ]
    },
    {
     "name": "stderr",
     "output_type": "stream",
     "text": [
      "     81/100      2.34G       1.28     0.8097      1.131         36        640: 100%|██████████| 49/49 [00:18<00:00,  2.59it/s]\n",
      "                 Class     Images  Instances      Box(P          R      mAP50  mAP50-95): 100%|██████████| 12/12 [00:06<00:00,  1.91it/s]"
     ]
    },
    {
     "name": "stdout",
     "output_type": "stream",
     "text": [
      "                   all        381       1597      0.802      0.736      0.811      0.437\n"
     ]
    },
    {
     "name": "stderr",
     "output_type": "stream",
     "text": [
      "\n"
     ]
    },
    {
     "name": "stdout",
     "output_type": "stream",
     "text": [
      "\n",
      "      Epoch    GPU_mem   box_loss   cls_loss   dfl_loss  Instances       Size\n"
     ]
    },
    {
     "name": "stderr",
     "output_type": "stream",
     "text": [
      "     82/100      2.42G      1.275      0.798      1.122         74        640: 100%|██████████| 49/49 [00:18<00:00,  2.61it/s]\n",
      "                 Class     Images  Instances      Box(P          R      mAP50  mAP50-95): 100%|██████████| 12/12 [00:04<00:00,  2.91it/s]"
     ]
    },
    {
     "name": "stdout",
     "output_type": "stream",
     "text": [
      "                   all        381       1597      0.796      0.753      0.825      0.454\n"
     ]
    },
    {
     "name": "stderr",
     "output_type": "stream",
     "text": [
      "\n"
     ]
    },
    {
     "name": "stdout",
     "output_type": "stream",
     "text": [
      "\n",
      "      Epoch    GPU_mem   box_loss   cls_loss   dfl_loss  Instances       Size\n"
     ]
    },
    {
     "name": "stderr",
     "output_type": "stream",
     "text": [
      "     83/100      2.34G      1.265     0.7917      1.123         57        640: 100%|██████████| 49/49 [00:18<00:00,  2.62it/s]\n",
      "                 Class     Images  Instances      Box(P          R      mAP50  mAP50-95): 100%|██████████| 12/12 [00:05<00:00,  2.31it/s]"
     ]
    },
    {
     "name": "stdout",
     "output_type": "stream",
     "text": [
      "                   all        381       1597      0.801       0.76       0.82      0.447\n"
     ]
    },
    {
     "name": "stderr",
     "output_type": "stream",
     "text": [
      "\n"
     ]
    },
    {
     "name": "stdout",
     "output_type": "stream",
     "text": [
      "\n",
      "      Epoch    GPU_mem   box_loss   cls_loss   dfl_loss  Instances       Size\n"
     ]
    },
    {
     "name": "stderr",
     "output_type": "stream",
     "text": [
      "     84/100      2.31G       1.26     0.8044      1.126         60        640: 100%|██████████| 49/49 [00:17<00:00,  2.72it/s]\n",
      "                 Class     Images  Instances      Box(P          R      mAP50  mAP50-95): 100%|██████████| 12/12 [00:06<00:00,  1.80it/s]"
     ]
    },
    {
     "name": "stdout",
     "output_type": "stream",
     "text": [
      "                   all        381       1597        0.8      0.765      0.819      0.451\n"
     ]
    },
    {
     "name": "stderr",
     "output_type": "stream",
     "text": [
      "\n"
     ]
    },
    {
     "name": "stdout",
     "output_type": "stream",
     "text": [
      "\n",
      "      Epoch    GPU_mem   box_loss   cls_loss   dfl_loss  Instances       Size\n"
     ]
    },
    {
     "name": "stderr",
     "output_type": "stream",
     "text": [
      "     85/100      2.26G      1.274     0.7983      1.127         79        640: 100%|██████████| 49/49 [00:18<00:00,  2.63it/s]\n",
      "                 Class     Images  Instances      Box(P          R      mAP50  mAP50-95): 100%|██████████| 12/12 [00:04<00:00,  2.78it/s]"
     ]
    },
    {
     "name": "stdout",
     "output_type": "stream",
     "text": [
      "                   all        381       1597      0.781      0.755      0.813      0.447\n"
     ]
    },
    {
     "name": "stderr",
     "output_type": "stream",
     "text": [
      "\n"
     ]
    },
    {
     "name": "stdout",
     "output_type": "stream",
     "text": [
      "\n",
      "      Epoch    GPU_mem   box_loss   cls_loss   dfl_loss  Instances       Size\n"
     ]
    },
    {
     "name": "stderr",
     "output_type": "stream",
     "text": [
      "     86/100      2.32G      1.249     0.7847      1.112         82        640: 100%|██████████| 49/49 [00:18<00:00,  2.70it/s]\n",
      "                 Class     Images  Instances      Box(P          R      mAP50  mAP50-95): 100%|██████████| 12/12 [00:05<00:00,  2.35it/s]"
     ]
    },
    {
     "name": "stdout",
     "output_type": "stream",
     "text": [
      "                   all        381       1597      0.783      0.762      0.817      0.445\n"
     ]
    },
    {
     "name": "stderr",
     "output_type": "stream",
     "text": [
      "\n"
     ]
    },
    {
     "name": "stdout",
     "output_type": "stream",
     "text": [
      "\n",
      "      Epoch    GPU_mem   box_loss   cls_loss   dfl_loss  Instances       Size\n"
     ]
    },
    {
     "name": "stderr",
     "output_type": "stream",
     "text": [
      "     87/100      2.33G      1.234      0.788      1.107         77        640: 100%|██████████| 49/49 [00:18<00:00,  2.67it/s]\n",
      "                 Class     Images  Instances      Box(P          R      mAP50  mAP50-95): 100%|██████████| 12/12 [00:06<00:00,  1.81it/s]"
     ]
    },
    {
     "name": "stdout",
     "output_type": "stream",
     "text": [
      "                   all        381       1597      0.795      0.755      0.815      0.451\n"
     ]
    },
    {
     "name": "stderr",
     "output_type": "stream",
     "text": [
      "\n"
     ]
    },
    {
     "name": "stdout",
     "output_type": "stream",
     "text": [
      "\n",
      "      Epoch    GPU_mem   box_loss   cls_loss   dfl_loss  Instances       Size\n"
     ]
    },
    {
     "name": "stderr",
     "output_type": "stream",
     "text": [
      "     88/100      2.33G      1.229     0.7816      1.106         50        640: 100%|██████████| 49/49 [00:17<00:00,  2.73it/s]\n",
      "                 Class     Images  Instances      Box(P          R      mAP50  mAP50-95): 100%|██████████| 12/12 [00:04<00:00,  2.75it/s]"
     ]
    },
    {
     "name": "stdout",
     "output_type": "stream",
     "text": [
      "                   all        381       1597        0.8      0.728      0.807      0.448\n"
     ]
    },
    {
     "name": "stderr",
     "output_type": "stream",
     "text": [
      "\n"
     ]
    },
    {
     "name": "stdout",
     "output_type": "stream",
     "text": [
      "\n",
      "      Epoch    GPU_mem   box_loss   cls_loss   dfl_loss  Instances       Size\n"
     ]
    },
    {
     "name": "stderr",
     "output_type": "stream",
     "text": [
      "     89/100      2.34G      1.213     0.7532      1.093         45        640: 100%|██████████| 49/49 [00:18<00:00,  2.69it/s]\n",
      "                 Class     Images  Instances      Box(P          R      mAP50  mAP50-95): 100%|██████████| 12/12 [00:05<00:00,  2.17it/s]"
     ]
    },
    {
     "name": "stdout",
     "output_type": "stream",
     "text": [
      "                   all        381       1597       0.79      0.761       0.82       0.45\n"
     ]
    },
    {
     "name": "stderr",
     "output_type": "stream",
     "text": [
      "\n"
     ]
    },
    {
     "name": "stdout",
     "output_type": "stream",
     "text": [
      "\n",
      "      Epoch    GPU_mem   box_loss   cls_loss   dfl_loss  Instances       Size\n"
     ]
    },
    {
     "name": "stderr",
     "output_type": "stream",
     "text": [
      "     90/100       2.2G      1.251     0.7782      1.107        103        640: 100%|██████████| 49/49 [00:18<00:00,  2.67it/s]\n",
      "                 Class     Images  Instances      Box(P          R      mAP50  mAP50-95): 100%|██████████| 12/12 [00:05<00:00,  2.24it/s]"
     ]
    },
    {
     "name": "stdout",
     "output_type": "stream",
     "text": [
      "                   all        381       1597      0.811      0.752      0.818       0.45\n"
     ]
    },
    {
     "name": "stderr",
     "output_type": "stream",
     "text": [
      "\n"
     ]
    },
    {
     "name": "stdout",
     "output_type": "stream",
     "text": [
      "Closing dataloader mosaic\n",
      "\u001b[34m\u001b[1malbumentations: \u001b[0mBlur(p=0.01, blur_limit=(3, 7)), MedianBlur(p=0.01, blur_limit=(3, 7)), ToGray(p=0.01, num_output_channels=3, method='weighted_average'), CLAHE(p=0.01, clip_limit=(1, 4.0), tile_grid_size=(8, 8))\n",
      "\n",
      "      Epoch    GPU_mem   box_loss   cls_loss   dfl_loss  Instances       Size\n"
     ]
    },
    {
     "name": "stderr",
     "output_type": "stream",
     "text": [
      "     91/100      2.26G      1.237     0.7389      1.105         38        640: 100%|██████████| 49/49 [00:19<00:00,  2.49it/s]\n",
      "                 Class     Images  Instances      Box(P          R      mAP50  mAP50-95): 100%|██████████| 12/12 [00:04<00:00,  2.86it/s]"
     ]
    },
    {
     "name": "stdout",
     "output_type": "stream",
     "text": [
      "                   all        381       1597      0.794       0.75       0.81      0.446\n"
     ]
    },
    {
     "name": "stderr",
     "output_type": "stream",
     "text": [
      "\n"
     ]
    },
    {
     "name": "stdout",
     "output_type": "stream",
     "text": [
      "\n",
      "      Epoch    GPU_mem   box_loss   cls_loss   dfl_loss  Instances       Size\n"
     ]
    },
    {
     "name": "stderr",
     "output_type": "stream",
     "text": [
      "     92/100      2.34G      1.201     0.7062      1.085         52        640: 100%|██████████| 49/49 [00:17<00:00,  2.85it/s]\n",
      "                 Class     Images  Instances      Box(P          R      mAP50  mAP50-95): 100%|██████████| 12/12 [00:06<00:00,  1.80it/s]"
     ]
    },
    {
     "name": "stdout",
     "output_type": "stream",
     "text": [
      "                   all        381       1597      0.792      0.751      0.811      0.444\n"
     ]
    },
    {
     "name": "stderr",
     "output_type": "stream",
     "text": [
      "\n"
     ]
    },
    {
     "name": "stdout",
     "output_type": "stream",
     "text": [
      "\n",
      "      Epoch    GPU_mem   box_loss   cls_loss   dfl_loss  Instances       Size\n"
     ]
    },
    {
     "name": "stderr",
     "output_type": "stream",
     "text": [
      "     93/100      2.33G      1.196     0.6962      1.084         47        640: 100%|██████████| 49/49 [00:17<00:00,  2.86it/s]\n",
      "                 Class     Images  Instances      Box(P          R      mAP50  mAP50-95): 100%|██████████| 12/12 [00:05<00:00,  2.19it/s]"
     ]
    },
    {
     "name": "stdout",
     "output_type": "stream",
     "text": [
      "                   all        381       1597      0.804      0.761      0.822      0.445\n"
     ]
    },
    {
     "name": "stderr",
     "output_type": "stream",
     "text": [
      "\n"
     ]
    },
    {
     "name": "stdout",
     "output_type": "stream",
     "text": [
      "\n",
      "      Epoch    GPU_mem   box_loss   cls_loss   dfl_loss  Instances       Size\n"
     ]
    },
    {
     "name": "stderr",
     "output_type": "stream",
     "text": [
      "     94/100      2.26G      1.183     0.6949      1.079         28        640: 100%|██████████| 49/49 [00:17<00:00,  2.78it/s]\n",
      "                 Class     Images  Instances      Box(P          R      mAP50  mAP50-95): 100%|██████████| 12/12 [00:04<00:00,  2.79it/s]"
     ]
    },
    {
     "name": "stdout",
     "output_type": "stream",
     "text": [
      "                   all        381       1597      0.816      0.757      0.822      0.451\n"
     ]
    },
    {
     "name": "stderr",
     "output_type": "stream",
     "text": [
      "\n"
     ]
    },
    {
     "name": "stdout",
     "output_type": "stream",
     "text": [
      "\n",
      "      Epoch    GPU_mem   box_loss   cls_loss   dfl_loss  Instances       Size\n"
     ]
    },
    {
     "name": "stderr",
     "output_type": "stream",
     "text": [
      "     95/100      2.26G      1.195     0.6975      1.083         25        640: 100%|██████████| 49/49 [00:18<00:00,  2.68it/s]\n",
      "                 Class     Images  Instances      Box(P          R      mAP50  mAP50-95): 100%|██████████| 12/12 [00:05<00:00,  2.35it/s]"
     ]
    },
    {
     "name": "stdout",
     "output_type": "stream",
     "text": [
      "                   all        381       1597      0.807      0.757      0.821      0.449\n"
     ]
    },
    {
     "name": "stderr",
     "output_type": "stream",
     "text": [
      "\n"
     ]
    },
    {
     "name": "stdout",
     "output_type": "stream",
     "text": [
      "\n",
      "      Epoch    GPU_mem   box_loss   cls_loss   dfl_loss  Instances       Size\n"
     ]
    },
    {
     "name": "stderr",
     "output_type": "stream",
     "text": [
      "     96/100      2.33G      1.162     0.6732      1.062         25        640: 100%|██████████| 49/49 [00:17<00:00,  2.83it/s]\n",
      "                 Class     Images  Instances      Box(P          R      mAP50  mAP50-95): 100%|██████████| 12/12 [00:07<00:00,  1.64it/s]"
     ]
    },
    {
     "name": "stdout",
     "output_type": "stream",
     "text": [
      "                   all        381       1597      0.817      0.749      0.823      0.453\n"
     ]
    },
    {
     "name": "stderr",
     "output_type": "stream",
     "text": [
      "\n"
     ]
    },
    {
     "name": "stdout",
     "output_type": "stream",
     "text": [
      "\n",
      "      Epoch    GPU_mem   box_loss   cls_loss   dfl_loss  Instances       Size\n"
     ]
    },
    {
     "name": "stderr",
     "output_type": "stream",
     "text": [
      "     97/100      2.33G       1.19      0.674      1.086         52        640: 100%|██████████| 49/49 [00:17<00:00,  2.73it/s]\n",
      "                 Class     Images  Instances      Box(P          R      mAP50  mAP50-95): 100%|██████████| 12/12 [00:04<00:00,  2.89it/s]"
     ]
    },
    {
     "name": "stdout",
     "output_type": "stream",
     "text": [
      "                   all        381       1597      0.818      0.753      0.819      0.452\n"
     ]
    },
    {
     "name": "stderr",
     "output_type": "stream",
     "text": [
      "\n"
     ]
    },
    {
     "name": "stdout",
     "output_type": "stream",
     "text": [
      "\n",
      "      Epoch    GPU_mem   box_loss   cls_loss   dfl_loss  Instances       Size\n"
     ]
    },
    {
     "name": "stderr",
     "output_type": "stream",
     "text": [
      "     98/100      2.33G      1.157     0.6599      1.063         39        640: 100%|██████████| 49/49 [00:18<00:00,  2.72it/s]\n",
      "                 Class     Images  Instances      Box(P          R      mAP50  mAP50-95): 100%|██████████| 12/12 [00:04<00:00,  2.72it/s]"
     ]
    },
    {
     "name": "stdout",
     "output_type": "stream",
     "text": [
      "                   all        381       1597      0.811      0.758      0.818      0.449\n"
     ]
    },
    {
     "name": "stderr",
     "output_type": "stream",
     "text": [
      "\n"
     ]
    },
    {
     "name": "stdout",
     "output_type": "stream",
     "text": [
      "\n",
      "      Epoch    GPU_mem   box_loss   cls_loss   dfl_loss  Instances       Size\n"
     ]
    },
    {
     "name": "stderr",
     "output_type": "stream",
     "text": [
      "     99/100       2.3G      1.176     0.6725      1.073         49        640: 100%|██████████| 49/49 [00:17<00:00,  2.77it/s]\n",
      "                 Class     Images  Instances      Box(P          R      mAP50  mAP50-95): 100%|██████████| 12/12 [00:06<00:00,  1.80it/s]"
     ]
    },
    {
     "name": "stdout",
     "output_type": "stream",
     "text": [
      "                   all        381       1597      0.809      0.761      0.818      0.452\n"
     ]
    },
    {
     "name": "stderr",
     "output_type": "stream",
     "text": [
      "\n"
     ]
    },
    {
     "name": "stdout",
     "output_type": "stream",
     "text": [
      "\n",
      "      Epoch    GPU_mem   box_loss   cls_loss   dfl_loss  Instances       Size\n"
     ]
    },
    {
     "name": "stderr",
     "output_type": "stream",
     "text": [
      "    100/100      2.33G      1.168      0.668      1.073         61        640: 100%|██████████| 49/49 [00:17<00:00,  2.85it/s]\n",
      "                 Class     Images  Instances      Box(P          R      mAP50  mAP50-95): 100%|██████████| 12/12 [00:04<00:00,  2.50it/s]"
     ]
    },
    {
     "name": "stdout",
     "output_type": "stream",
     "text": [
      "                   all        381       1597      0.826      0.749      0.822      0.451\n"
     ]
    },
    {
     "name": "stderr",
     "output_type": "stream",
     "text": [
      "\n"
     ]
    },
    {
     "name": "stdout",
     "output_type": "stream",
     "text": [
      "\n",
      "100 epochs completed in 0.719 hours.\n",
      "Optimizer stripped from runs/detect/train2/weights/last.pt, 5.3MB\n",
      "Optimizer stripped from runs/detect/train2/weights/best.pt, 5.3MB\n",
      "\n",
      "Validating runs/detect/train2/weights/best.pt...\n",
      "Ultralytics 8.3.18 🚀 Python-3.10.12 torch-2.4.1+cu121 CUDA:0 (Tesla T4, 15102MiB)\n",
      "YOLOv5n summary (fused): 193 layers, 2,503,334 parameters, 0 gradients, 7.1 GFLOPs\n"
     ]
    },
    {
     "name": "stderr",
     "output_type": "stream",
     "text": [
      "                 Class     Images  Instances      Box(P          R      mAP50  mAP50-95): 100%|██████████| 12/12 [00:06<00:00,  1.74it/s]\n"
     ]
    },
    {
     "name": "stdout",
     "output_type": "stream",
     "text": [
      "                   all        381       1597      0.778      0.774      0.821      0.451\n",
      "                  fire        311        828      0.806      0.815      0.855      0.443\n",
      "                 smoke        314        769       0.75      0.732      0.788      0.459\n",
      "Speed: 0.3ms preprocess, 2.7ms inference, 0.0ms loss, 3.9ms postprocess per image\n",
      "Results saved to \u001b[1mruns/detect/train2\u001b[0m\n"
     ]
    },
    {
     "data": {
      "application/vnd.jupyter.widget-view+json": {
       "model_id": "fd75d0b4b93043cf969dfa84923fccc0",
       "version_major": 2,
       "version_minor": 0
      },
      "text/plain": [
       "VBox(children=(Label(value='0.000 MB of 0.000 MB uploaded\\r'), FloatProgress(value=1.0, max=1.0)))"
      ]
     },
     "metadata": {},
     "output_type": "display_data"
    },
    {
     "data": {
      "text/html": [
       "<style>\n",
       "    table.wandb td:nth-child(1) { padding: 0 10px; text-align: left ; width: auto;} td:nth-child(2) {text-align: left ; width: 100%}\n",
       "    .wandb-row { display: flex; flex-direction: row; flex-wrap: wrap; justify-content: flex-start; width: 100% }\n",
       "    .wandb-col { display: flex; flex-direction: column; flex-basis: 100%; flex: 1; padding: 10px; }\n",
       "    </style>\n",
       "<div class=\"wandb-row\"><div class=\"wandb-col\"><h3>Run history:</h3><br/><table class=\"wandb\"><tr><td>lr/pg0</td><td>▃███▇▇▇▇▇▇▆▆▆▆▆▅▅▅▅▅▅▄▄▄▄▃▃▃▂▂▂▂▂▂▂▁▁▁▁▁</td></tr><tr><td>lr/pg1</td><td>▃████▇▇▇▇▇▇▆▆▆▆▆▆▆▆▅▅▅▅▅▄▄▄▄▄▄▃▃▃▂▂▂▂▂▁▁</td></tr><tr><td>lr/pg2</td><td>▃██▇▇▇▇▇▇▇▆▆▆▆▆▆▆▆▅▅▅▅▅▅▅▄▄▄▄▄▄▃▃▃▂▂▂▂▁▁</td></tr><tr><td>metrics/mAP50(B)</td><td>▂▁▃▄▄▃▆▆▆▇▇▇▇▇▇▇▇▇▇▇█▇▇▇█▇▇▇█▇██████████</td></tr><tr><td>metrics/mAP50-95(B)</td><td>▁▁▂▄▄▆▆▆▆▆▆▆▇▇▇▇▇▇▇▇▇▇█▇██▇█████████████</td></tr><tr><td>metrics/precision(B)</td><td>▁▃▄▂▅▄▅▅▆▆▆▇▇▇▇▇▇▇▇▆▇▇▇▇▇▇▇▇▇▇██████████</td></tr><tr><td>metrics/recall(B)</td><td>▁▅▅▆▇▆▆▇▇▇▇▇▇▇▇█▇█▇█████████████████████</td></tr><tr><td>model/GFLOPs</td><td>▁</td></tr><tr><td>model/parameters</td><td>▁</td></tr><tr><td>model/speed_PyTorch(ms)</td><td>▁</td></tr><tr><td>train/box_loss</td><td>█▇▇▇▇▆▆▆▆▅▅▅▅▅▅▅▅▄▄▄▄▄▄▄▃▃▃▃▃▃▃▂▂▂▂▂▂▂▁▁</td></tr><tr><td>train/cls_loss</td><td>█▅▅▄▄▃▃▃▃▃▃▃▃▃▂▂▂▂▂▂▂▂▂▂▂▂▂▂▂▂▂▂▂▁▁▁▁▁▁▁</td></tr><tr><td>train/dfl_loss</td><td>█▆▆▅▅▅▄▄▄▄▄▄▄▄▄▃▄▃▃▃▃▃▃▂▃▂▂▂▂▂▂▂▂▂▂▁▁▁▁▁</td></tr><tr><td>val/box_loss</td><td>█▇▅▆▄▅▄▄▃▃▂▃▂▃▂▂▂▂▂▂▂▁▁▂▁▁▁▂▁▁▁▁▁▁▁▁▁▁▁▁</td></tr><tr><td>val/cls_loss</td><td>▇█▄▃▄▃▄▃▃▃▃▂▂▂▂▂▂▂▂▂▂▂▂▂▁▁▁▁▁▁▁▁▁▁▁▁▁▁▁▁</td></tr><tr><td>val/dfl_loss</td><td>██▆▅▆▅▄▃▃▃▃▃▃▃▂▂▂▃▂▂▂▂▂▂▁▁▁▂▂▂▂▁▂▁▁▁▁▁▁▁</td></tr></table><br/></div><div class=\"wandb-col\"><h3>Run summary:</h3><br/><table class=\"wandb\"><tr><td>lr/pg0</td><td>3e-05</td></tr><tr><td>lr/pg1</td><td>3e-05</td></tr><tr><td>lr/pg2</td><td>3e-05</td></tr><tr><td>metrics/mAP50(B)</td><td>0.82563</td></tr><tr><td>metrics/mAP50-95(B)</td><td>0.45458</td></tr><tr><td>metrics/precision(B)</td><td>0.77775</td></tr><tr><td>metrics/recall(B)</td><td>0.77384</td></tr><tr><td>model/GFLOPs</td><td>7.178</td></tr><tr><td>model/parameters</td><td>2508854</td></tr><tr><td>model/speed_PyTorch(ms)</td><td>3.623</td></tr><tr><td>train/box_loss</td><td>1.16753</td></tr><tr><td>train/cls_loss</td><td>0.668</td></tr><tr><td>train/dfl_loss</td><td>1.07265</td></tr><tr><td>val/box_loss</td><td>1.49291</td></tr><tr><td>val/cls_loss</td><td>0.88098</td></tr><tr><td>val/dfl_loss</td><td>1.27459</td></tr></table><br/></div></div>"
      ],
      "text/plain": [
       "<IPython.core.display.HTML object>"
      ]
     },
     "metadata": {},
     "output_type": "display_data"
    },
    {
     "data": {
      "text/html": [
       "You can sync this run to the cloud by running:<br/><code>wandb sync /content/wandb/offline-run-20241019_163433-uwgfz3md<code>"
      ],
      "text/plain": [
       "<IPython.core.display.HTML object>"
      ]
     },
     "metadata": {},
     "output_type": "display_data"
    },
    {
     "data": {
      "text/html": [
       "Find logs at: <code>./wandb/offline-run-20241019_163433-uwgfz3md/logs</code>"
      ],
      "text/plain": [
       "<IPython.core.display.HTML object>"
      ]
     },
     "metadata": {},
     "output_type": "display_data"
    },
    {
     "data": {
      "text/plain": [
       "ultralytics.utils.metrics.DetMetrics object with attributes:\n",
       "\n",
       "ap_class_index: array([0, 1])\n",
       "box: ultralytics.utils.metrics.Metric object\n",
       "confusion_matrix: <ultralytics.utils.metrics.ConfusionMatrix object at 0x7ce978562770>\n",
       "curves: ['Precision-Recall(B)', 'F1-Confidence(B)', 'Precision-Confidence(B)', 'Recall-Confidence(B)']\n",
       "curves_results: [[array([          0,    0.001001,    0.002002,    0.003003,    0.004004,    0.005005,    0.006006,    0.007007,    0.008008,    0.009009,     0.01001,    0.011011,    0.012012,    0.013013,    0.014014,    0.015015,    0.016016,    0.017017,    0.018018,    0.019019,     0.02002,    0.021021,    0.022022,    0.023023,\n",
       "          0.024024,    0.025025,    0.026026,    0.027027,    0.028028,    0.029029,     0.03003,    0.031031,    0.032032,    0.033033,    0.034034,    0.035035,    0.036036,    0.037037,    0.038038,    0.039039,     0.04004,    0.041041,    0.042042,    0.043043,    0.044044,    0.045045,    0.046046,    0.047047,\n",
       "          0.048048,    0.049049,     0.05005,    0.051051,    0.052052,    0.053053,    0.054054,    0.055055,    0.056056,    0.057057,    0.058058,    0.059059,     0.06006,    0.061061,    0.062062,    0.063063,    0.064064,    0.065065,    0.066066,    0.067067,    0.068068,    0.069069,     0.07007,    0.071071,\n",
       "          0.072072,    0.073073,    0.074074,    0.075075,    0.076076,    0.077077,    0.078078,    0.079079,     0.08008,    0.081081,    0.082082,    0.083083,    0.084084,    0.085085,    0.086086,    0.087087,    0.088088,    0.089089,     0.09009,    0.091091,    0.092092,    0.093093,    0.094094,    0.095095,\n",
       "          0.096096,    0.097097,    0.098098,    0.099099,      0.1001,      0.1011,      0.1021,      0.1031,      0.1041,     0.10511,     0.10611,     0.10711,     0.10811,     0.10911,     0.11011,     0.11111,     0.11211,     0.11311,     0.11411,     0.11512,     0.11612,     0.11712,     0.11812,     0.11912,\n",
       "           0.12012,     0.12112,     0.12212,     0.12312,     0.12412,     0.12513,     0.12613,     0.12713,     0.12813,     0.12913,     0.13013,     0.13113,     0.13213,     0.13313,     0.13413,     0.13514,     0.13614,     0.13714,     0.13814,     0.13914,     0.14014,     0.14114,     0.14214,     0.14314,\n",
       "           0.14414,     0.14515,     0.14615,     0.14715,     0.14815,     0.14915,     0.15015,     0.15115,     0.15215,     0.15315,     0.15415,     0.15516,     0.15616,     0.15716,     0.15816,     0.15916,     0.16016,     0.16116,     0.16216,     0.16316,     0.16416,     0.16517,     0.16617,     0.16717,\n",
       "           0.16817,     0.16917,     0.17017,     0.17117,     0.17217,     0.17317,     0.17417,     0.17518,     0.17618,     0.17718,     0.17818,     0.17918,     0.18018,     0.18118,     0.18218,     0.18318,     0.18418,     0.18519,     0.18619,     0.18719,     0.18819,     0.18919,     0.19019,     0.19119,\n",
       "           0.19219,     0.19319,     0.19419,      0.1952,      0.1962,      0.1972,      0.1982,      0.1992,      0.2002,      0.2012,      0.2022,      0.2032,      0.2042,     0.20521,     0.20621,     0.20721,     0.20821,     0.20921,     0.21021,     0.21121,     0.21221,     0.21321,     0.21421,     0.21522,\n",
       "           0.21622,     0.21722,     0.21822,     0.21922,     0.22022,     0.22122,     0.22222,     0.22322,     0.22422,     0.22523,     0.22623,     0.22723,     0.22823,     0.22923,     0.23023,     0.23123,     0.23223,     0.23323,     0.23423,     0.23524,     0.23624,     0.23724,     0.23824,     0.23924,\n",
       "           0.24024,     0.24124,     0.24224,     0.24324,     0.24424,     0.24525,     0.24625,     0.24725,     0.24825,     0.24925,     0.25025,     0.25125,     0.25225,     0.25325,     0.25425,     0.25526,     0.25626,     0.25726,     0.25826,     0.25926,     0.26026,     0.26126,     0.26226,     0.26326,\n",
       "           0.26426,     0.26527,     0.26627,     0.26727,     0.26827,     0.26927,     0.27027,     0.27127,     0.27227,     0.27327,     0.27427,     0.27528,     0.27628,     0.27728,     0.27828,     0.27928,     0.28028,     0.28128,     0.28228,     0.28328,     0.28428,     0.28529,     0.28629,     0.28729,\n",
       "           0.28829,     0.28929,     0.29029,     0.29129,     0.29229,     0.29329,     0.29429,      0.2953,      0.2963,      0.2973,      0.2983,      0.2993,      0.3003,      0.3013,      0.3023,      0.3033,      0.3043,     0.30531,     0.30631,     0.30731,     0.30831,     0.30931,     0.31031,     0.31131,\n",
       "           0.31231,     0.31331,     0.31431,     0.31532,     0.31632,     0.31732,     0.31832,     0.31932,     0.32032,     0.32132,     0.32232,     0.32332,     0.32432,     0.32533,     0.32633,     0.32733,     0.32833,     0.32933,     0.33033,     0.33133,     0.33233,     0.33333,     0.33433,     0.33534,\n",
       "           0.33634,     0.33734,     0.33834,     0.33934,     0.34034,     0.34134,     0.34234,     0.34334,     0.34434,     0.34535,     0.34635,     0.34735,     0.34835,     0.34935,     0.35035,     0.35135,     0.35235,     0.35335,     0.35435,     0.35536,     0.35636,     0.35736,     0.35836,     0.35936,\n",
       "           0.36036,     0.36136,     0.36236,     0.36336,     0.36436,     0.36537,     0.36637,     0.36737,     0.36837,     0.36937,     0.37037,     0.37137,     0.37237,     0.37337,     0.37437,     0.37538,     0.37638,     0.37738,     0.37838,     0.37938,     0.38038,     0.38138,     0.38238,     0.38338,\n",
       "           0.38438,     0.38539,     0.38639,     0.38739,     0.38839,     0.38939,     0.39039,     0.39139,     0.39239,     0.39339,     0.39439,      0.3954,      0.3964,      0.3974,      0.3984,      0.3994,      0.4004,      0.4014,      0.4024,      0.4034,      0.4044,     0.40541,     0.40641,     0.40741,\n",
       "           0.40841,     0.40941,     0.41041,     0.41141,     0.41241,     0.41341,     0.41441,     0.41542,     0.41642,     0.41742,     0.41842,     0.41942,     0.42042,     0.42142,     0.42242,     0.42342,     0.42442,     0.42543,     0.42643,     0.42743,     0.42843,     0.42943,     0.43043,     0.43143,\n",
       "           0.43243,     0.43343,     0.43443,     0.43544,     0.43644,     0.43744,     0.43844,     0.43944,     0.44044,     0.44144,     0.44244,     0.44344,     0.44444,     0.44545,     0.44645,     0.44745,     0.44845,     0.44945,     0.45045,     0.45145,     0.45245,     0.45345,     0.45445,     0.45546,\n",
       "           0.45646,     0.45746,     0.45846,     0.45946,     0.46046,     0.46146,     0.46246,     0.46346,     0.46446,     0.46547,     0.46647,     0.46747,     0.46847,     0.46947,     0.47047,     0.47147,     0.47247,     0.47347,     0.47447,     0.47548,     0.47648,     0.47748,     0.47848,     0.47948,\n",
       "           0.48048,     0.48148,     0.48248,     0.48348,     0.48448,     0.48549,     0.48649,     0.48749,     0.48849,     0.48949,     0.49049,     0.49149,     0.49249,     0.49349,     0.49449,      0.4955,      0.4965,      0.4975,      0.4985,      0.4995,      0.5005,      0.5015,      0.5025,      0.5035,\n",
       "            0.5045,     0.50551,     0.50651,     0.50751,     0.50851,     0.50951,     0.51051,     0.51151,     0.51251,     0.51351,     0.51451,     0.51552,     0.51652,     0.51752,     0.51852,     0.51952,     0.52052,     0.52152,     0.52252,     0.52352,     0.52452,     0.52553,     0.52653,     0.52753,\n",
       "           0.52853,     0.52953,     0.53053,     0.53153,     0.53253,     0.53353,     0.53453,     0.53554,     0.53654,     0.53754,     0.53854,     0.53954,     0.54054,     0.54154,     0.54254,     0.54354,     0.54454,     0.54555,     0.54655,     0.54755,     0.54855,     0.54955,     0.55055,     0.55155,\n",
       "           0.55255,     0.55355,     0.55455,     0.55556,     0.55656,     0.55756,     0.55856,     0.55956,     0.56056,     0.56156,     0.56256,     0.56356,     0.56456,     0.56557,     0.56657,     0.56757,     0.56857,     0.56957,     0.57057,     0.57157,     0.57257,     0.57357,     0.57457,     0.57558,\n",
       "           0.57658,     0.57758,     0.57858,     0.57958,     0.58058,     0.58158,     0.58258,     0.58358,     0.58458,     0.58559,     0.58659,     0.58759,     0.58859,     0.58959,     0.59059,     0.59159,     0.59259,     0.59359,     0.59459,      0.5956,      0.5966,      0.5976,      0.5986,      0.5996,\n",
       "            0.6006,      0.6016,      0.6026,      0.6036,      0.6046,     0.60561,     0.60661,     0.60761,     0.60861,     0.60961,     0.61061,     0.61161,     0.61261,     0.61361,     0.61461,     0.61562,     0.61662,     0.61762,     0.61862,     0.61962,     0.62062,     0.62162,     0.62262,     0.62362,\n",
       "           0.62462,     0.62563,     0.62663,     0.62763,     0.62863,     0.62963,     0.63063,     0.63163,     0.63263,     0.63363,     0.63463,     0.63564,     0.63664,     0.63764,     0.63864,     0.63964,     0.64064,     0.64164,     0.64264,     0.64364,     0.64464,     0.64565,     0.64665,     0.64765,\n",
       "           0.64865,     0.64965,     0.65065,     0.65165,     0.65265,     0.65365,     0.65465,     0.65566,     0.65666,     0.65766,     0.65866,     0.65966,     0.66066,     0.66166,     0.66266,     0.66366,     0.66466,     0.66567,     0.66667,     0.66767,     0.66867,     0.66967,     0.67067,     0.67167,\n",
       "           0.67267,     0.67367,     0.67467,     0.67568,     0.67668,     0.67768,     0.67868,     0.67968,     0.68068,     0.68168,     0.68268,     0.68368,     0.68468,     0.68569,     0.68669,     0.68769,     0.68869,     0.68969,     0.69069,     0.69169,     0.69269,     0.69369,     0.69469,      0.6957,\n",
       "            0.6967,      0.6977,      0.6987,      0.6997,      0.7007,      0.7017,      0.7027,      0.7037,      0.7047,     0.70571,     0.70671,     0.70771,     0.70871,     0.70971,     0.71071,     0.71171,     0.71271,     0.71371,     0.71471,     0.71572,     0.71672,     0.71772,     0.71872,     0.71972,\n",
       "           0.72072,     0.72172,     0.72272,     0.72372,     0.72472,     0.72573,     0.72673,     0.72773,     0.72873,     0.72973,     0.73073,     0.73173,     0.73273,     0.73373,     0.73473,     0.73574,     0.73674,     0.73774,     0.73874,     0.73974,     0.74074,     0.74174,     0.74274,     0.74374,\n",
       "           0.74474,     0.74575,     0.74675,     0.74775,     0.74875,     0.74975,     0.75075,     0.75175,     0.75275,     0.75375,     0.75475,     0.75576,     0.75676,     0.75776,     0.75876,     0.75976,     0.76076,     0.76176,     0.76276,     0.76376,     0.76476,     0.76577,     0.76677,     0.76777,\n",
       "           0.76877,     0.76977,     0.77077,     0.77177,     0.77277,     0.77377,     0.77477,     0.77578,     0.77678,     0.77778,     0.77878,     0.77978,     0.78078,     0.78178,     0.78278,     0.78378,     0.78478,     0.78579,     0.78679,     0.78779,     0.78879,     0.78979,     0.79079,     0.79179,\n",
       "           0.79279,     0.79379,     0.79479,      0.7958,      0.7968,      0.7978,      0.7988,      0.7998,      0.8008,      0.8018,      0.8028,      0.8038,      0.8048,     0.80581,     0.80681,     0.80781,     0.80881,     0.80981,     0.81081,     0.81181,     0.81281,     0.81381,     0.81481,     0.81582,\n",
       "           0.81682,     0.81782,     0.81882,     0.81982,     0.82082,     0.82182,     0.82282,     0.82382,     0.82482,     0.82583,     0.82683,     0.82783,     0.82883,     0.82983,     0.83083,     0.83183,     0.83283,     0.83383,     0.83483,     0.83584,     0.83684,     0.83784,     0.83884,     0.83984,\n",
       "           0.84084,     0.84184,     0.84284,     0.84384,     0.84484,     0.84585,     0.84685,     0.84785,     0.84885,     0.84985,     0.85085,     0.85185,     0.85285,     0.85385,     0.85485,     0.85586,     0.85686,     0.85786,     0.85886,     0.85986,     0.86086,     0.86186,     0.86286,     0.86386,\n",
       "           0.86486,     0.86587,     0.86687,     0.86787,     0.86887,     0.86987,     0.87087,     0.87187,     0.87287,     0.87387,     0.87487,     0.87588,     0.87688,     0.87788,     0.87888,     0.87988,     0.88088,     0.88188,     0.88288,     0.88388,     0.88488,     0.88589,     0.88689,     0.88789,\n",
       "           0.88889,     0.88989,     0.89089,     0.89189,     0.89289,     0.89389,     0.89489,      0.8959,      0.8969,      0.8979,      0.8989,      0.8999,      0.9009,      0.9019,      0.9029,      0.9039,      0.9049,     0.90591,     0.90691,     0.90791,     0.90891,     0.90991,     0.91091,     0.91191,\n",
       "           0.91291,     0.91391,     0.91491,     0.91592,     0.91692,     0.91792,     0.91892,     0.91992,     0.92092,     0.92192,     0.92292,     0.92392,     0.92492,     0.92593,     0.92693,     0.92793,     0.92893,     0.92993,     0.93093,     0.93193,     0.93293,     0.93393,     0.93493,     0.93594,\n",
       "           0.93694,     0.93794,     0.93894,     0.93994,     0.94094,     0.94194,     0.94294,     0.94394,     0.94494,     0.94595,     0.94695,     0.94795,     0.94895,     0.94995,     0.95095,     0.95195,     0.95295,     0.95395,     0.95495,     0.95596,     0.95696,     0.95796,     0.95896,     0.95996,\n",
       "           0.96096,     0.96196,     0.96296,     0.96396,     0.96496,     0.96597,     0.96697,     0.96797,     0.96897,     0.96997,     0.97097,     0.97197,     0.97297,     0.97397,     0.97497,     0.97598,     0.97698,     0.97798,     0.97898,     0.97998,     0.98098,     0.98198,     0.98298,     0.98398,\n",
       "           0.98498,     0.98599,     0.98699,     0.98799,     0.98899,     0.98999,     0.99099,     0.99199,     0.99299,     0.99399,     0.99499,       0.996,       0.997,       0.998,       0.999,           1]), array([[          1,           1,           1, ...,   0.0078169,   0.0039085,           0],\n",
       "       [          1,           1,           1, ...,   0.0037529,   0.0018765,           0]]), 'Recall', 'Precision'], [array([          0,    0.001001,    0.002002,    0.003003,    0.004004,    0.005005,    0.006006,    0.007007,    0.008008,    0.009009,     0.01001,    0.011011,    0.012012,    0.013013,    0.014014,    0.015015,    0.016016,    0.017017,    0.018018,    0.019019,     0.02002,    0.021021,    0.022022,    0.023023,\n",
       "          0.024024,    0.025025,    0.026026,    0.027027,    0.028028,    0.029029,     0.03003,    0.031031,    0.032032,    0.033033,    0.034034,    0.035035,    0.036036,    0.037037,    0.038038,    0.039039,     0.04004,    0.041041,    0.042042,    0.043043,    0.044044,    0.045045,    0.046046,    0.047047,\n",
       "          0.048048,    0.049049,     0.05005,    0.051051,    0.052052,    0.053053,    0.054054,    0.055055,    0.056056,    0.057057,    0.058058,    0.059059,     0.06006,    0.061061,    0.062062,    0.063063,    0.064064,    0.065065,    0.066066,    0.067067,    0.068068,    0.069069,     0.07007,    0.071071,\n",
       "          0.072072,    0.073073,    0.074074,    0.075075,    0.076076,    0.077077,    0.078078,    0.079079,     0.08008,    0.081081,    0.082082,    0.083083,    0.084084,    0.085085,    0.086086,    0.087087,    0.088088,    0.089089,     0.09009,    0.091091,    0.092092,    0.093093,    0.094094,    0.095095,\n",
       "          0.096096,    0.097097,    0.098098,    0.099099,      0.1001,      0.1011,      0.1021,      0.1031,      0.1041,     0.10511,     0.10611,     0.10711,     0.10811,     0.10911,     0.11011,     0.11111,     0.11211,     0.11311,     0.11411,     0.11512,     0.11612,     0.11712,     0.11812,     0.11912,\n",
       "           0.12012,     0.12112,     0.12212,     0.12312,     0.12412,     0.12513,     0.12613,     0.12713,     0.12813,     0.12913,     0.13013,     0.13113,     0.13213,     0.13313,     0.13413,     0.13514,     0.13614,     0.13714,     0.13814,     0.13914,     0.14014,     0.14114,     0.14214,     0.14314,\n",
       "           0.14414,     0.14515,     0.14615,     0.14715,     0.14815,     0.14915,     0.15015,     0.15115,     0.15215,     0.15315,     0.15415,     0.15516,     0.15616,     0.15716,     0.15816,     0.15916,     0.16016,     0.16116,     0.16216,     0.16316,     0.16416,     0.16517,     0.16617,     0.16717,\n",
       "           0.16817,     0.16917,     0.17017,     0.17117,     0.17217,     0.17317,     0.17417,     0.17518,     0.17618,     0.17718,     0.17818,     0.17918,     0.18018,     0.18118,     0.18218,     0.18318,     0.18418,     0.18519,     0.18619,     0.18719,     0.18819,     0.18919,     0.19019,     0.19119,\n",
       "           0.19219,     0.19319,     0.19419,      0.1952,      0.1962,      0.1972,      0.1982,      0.1992,      0.2002,      0.2012,      0.2022,      0.2032,      0.2042,     0.20521,     0.20621,     0.20721,     0.20821,     0.20921,     0.21021,     0.21121,     0.21221,     0.21321,     0.21421,     0.21522,\n",
       "           0.21622,     0.21722,     0.21822,     0.21922,     0.22022,     0.22122,     0.22222,     0.22322,     0.22422,     0.22523,     0.22623,     0.22723,     0.22823,     0.22923,     0.23023,     0.23123,     0.23223,     0.23323,     0.23423,     0.23524,     0.23624,     0.23724,     0.23824,     0.23924,\n",
       "           0.24024,     0.24124,     0.24224,     0.24324,     0.24424,     0.24525,     0.24625,     0.24725,     0.24825,     0.24925,     0.25025,     0.25125,     0.25225,     0.25325,     0.25425,     0.25526,     0.25626,     0.25726,     0.25826,     0.25926,     0.26026,     0.26126,     0.26226,     0.26326,\n",
       "           0.26426,     0.26527,     0.26627,     0.26727,     0.26827,     0.26927,     0.27027,     0.27127,     0.27227,     0.27327,     0.27427,     0.27528,     0.27628,     0.27728,     0.27828,     0.27928,     0.28028,     0.28128,     0.28228,     0.28328,     0.28428,     0.28529,     0.28629,     0.28729,\n",
       "           0.28829,     0.28929,     0.29029,     0.29129,     0.29229,     0.29329,     0.29429,      0.2953,      0.2963,      0.2973,      0.2983,      0.2993,      0.3003,      0.3013,      0.3023,      0.3033,      0.3043,     0.30531,     0.30631,     0.30731,     0.30831,     0.30931,     0.31031,     0.31131,\n",
       "           0.31231,     0.31331,     0.31431,     0.31532,     0.31632,     0.31732,     0.31832,     0.31932,     0.32032,     0.32132,     0.32232,     0.32332,     0.32432,     0.32533,     0.32633,     0.32733,     0.32833,     0.32933,     0.33033,     0.33133,     0.33233,     0.33333,     0.33433,     0.33534,\n",
       "           0.33634,     0.33734,     0.33834,     0.33934,     0.34034,     0.34134,     0.34234,     0.34334,     0.34434,     0.34535,     0.34635,     0.34735,     0.34835,     0.34935,     0.35035,     0.35135,     0.35235,     0.35335,     0.35435,     0.35536,     0.35636,     0.35736,     0.35836,     0.35936,\n",
       "           0.36036,     0.36136,     0.36236,     0.36336,     0.36436,     0.36537,     0.36637,     0.36737,     0.36837,     0.36937,     0.37037,     0.37137,     0.37237,     0.37337,     0.37437,     0.37538,     0.37638,     0.37738,     0.37838,     0.37938,     0.38038,     0.38138,     0.38238,     0.38338,\n",
       "           0.38438,     0.38539,     0.38639,     0.38739,     0.38839,     0.38939,     0.39039,     0.39139,     0.39239,     0.39339,     0.39439,      0.3954,      0.3964,      0.3974,      0.3984,      0.3994,      0.4004,      0.4014,      0.4024,      0.4034,      0.4044,     0.40541,     0.40641,     0.40741,\n",
       "           0.40841,     0.40941,     0.41041,     0.41141,     0.41241,     0.41341,     0.41441,     0.41542,     0.41642,     0.41742,     0.41842,     0.41942,     0.42042,     0.42142,     0.42242,     0.42342,     0.42442,     0.42543,     0.42643,     0.42743,     0.42843,     0.42943,     0.43043,     0.43143,\n",
       "           0.43243,     0.43343,     0.43443,     0.43544,     0.43644,     0.43744,     0.43844,     0.43944,     0.44044,     0.44144,     0.44244,     0.44344,     0.44444,     0.44545,     0.44645,     0.44745,     0.44845,     0.44945,     0.45045,     0.45145,     0.45245,     0.45345,     0.45445,     0.45546,\n",
       "           0.45646,     0.45746,     0.45846,     0.45946,     0.46046,     0.46146,     0.46246,     0.46346,     0.46446,     0.46547,     0.46647,     0.46747,     0.46847,     0.46947,     0.47047,     0.47147,     0.47247,     0.47347,     0.47447,     0.47548,     0.47648,     0.47748,     0.47848,     0.47948,\n",
       "           0.48048,     0.48148,     0.48248,     0.48348,     0.48448,     0.48549,     0.48649,     0.48749,     0.48849,     0.48949,     0.49049,     0.49149,     0.49249,     0.49349,     0.49449,      0.4955,      0.4965,      0.4975,      0.4985,      0.4995,      0.5005,      0.5015,      0.5025,      0.5035,\n",
       "            0.5045,     0.50551,     0.50651,     0.50751,     0.50851,     0.50951,     0.51051,     0.51151,     0.51251,     0.51351,     0.51451,     0.51552,     0.51652,     0.51752,     0.51852,     0.51952,     0.52052,     0.52152,     0.52252,     0.52352,     0.52452,     0.52553,     0.52653,     0.52753,\n",
       "           0.52853,     0.52953,     0.53053,     0.53153,     0.53253,     0.53353,     0.53453,     0.53554,     0.53654,     0.53754,     0.53854,     0.53954,     0.54054,     0.54154,     0.54254,     0.54354,     0.54454,     0.54555,     0.54655,     0.54755,     0.54855,     0.54955,     0.55055,     0.55155,\n",
       "           0.55255,     0.55355,     0.55455,     0.55556,     0.55656,     0.55756,     0.55856,     0.55956,     0.56056,     0.56156,     0.56256,     0.56356,     0.56456,     0.56557,     0.56657,     0.56757,     0.56857,     0.56957,     0.57057,     0.57157,     0.57257,     0.57357,     0.57457,     0.57558,\n",
       "           0.57658,     0.57758,     0.57858,     0.57958,     0.58058,     0.58158,     0.58258,     0.58358,     0.58458,     0.58559,     0.58659,     0.58759,     0.58859,     0.58959,     0.59059,     0.59159,     0.59259,     0.59359,     0.59459,      0.5956,      0.5966,      0.5976,      0.5986,      0.5996,\n",
       "            0.6006,      0.6016,      0.6026,      0.6036,      0.6046,     0.60561,     0.60661,     0.60761,     0.60861,     0.60961,     0.61061,     0.61161,     0.61261,     0.61361,     0.61461,     0.61562,     0.61662,     0.61762,     0.61862,     0.61962,     0.62062,     0.62162,     0.62262,     0.62362,\n",
       "           0.62462,     0.62563,     0.62663,     0.62763,     0.62863,     0.62963,     0.63063,     0.63163,     0.63263,     0.63363,     0.63463,     0.63564,     0.63664,     0.63764,     0.63864,     0.63964,     0.64064,     0.64164,     0.64264,     0.64364,     0.64464,     0.64565,     0.64665,     0.64765,\n",
       "           0.64865,     0.64965,     0.65065,     0.65165,     0.65265,     0.65365,     0.65465,     0.65566,     0.65666,     0.65766,     0.65866,     0.65966,     0.66066,     0.66166,     0.66266,     0.66366,     0.66466,     0.66567,     0.66667,     0.66767,     0.66867,     0.66967,     0.67067,     0.67167,\n",
       "           0.67267,     0.67367,     0.67467,     0.67568,     0.67668,     0.67768,     0.67868,     0.67968,     0.68068,     0.68168,     0.68268,     0.68368,     0.68468,     0.68569,     0.68669,     0.68769,     0.68869,     0.68969,     0.69069,     0.69169,     0.69269,     0.69369,     0.69469,      0.6957,\n",
       "            0.6967,      0.6977,      0.6987,      0.6997,      0.7007,      0.7017,      0.7027,      0.7037,      0.7047,     0.70571,     0.70671,     0.70771,     0.70871,     0.70971,     0.71071,     0.71171,     0.71271,     0.71371,     0.71471,     0.71572,     0.71672,     0.71772,     0.71872,     0.71972,\n",
       "           0.72072,     0.72172,     0.72272,     0.72372,     0.72472,     0.72573,     0.72673,     0.72773,     0.72873,     0.72973,     0.73073,     0.73173,     0.73273,     0.73373,     0.73473,     0.73574,     0.73674,     0.73774,     0.73874,     0.73974,     0.74074,     0.74174,     0.74274,     0.74374,\n",
       "           0.74474,     0.74575,     0.74675,     0.74775,     0.74875,     0.74975,     0.75075,     0.75175,     0.75275,     0.75375,     0.75475,     0.75576,     0.75676,     0.75776,     0.75876,     0.75976,     0.76076,     0.76176,     0.76276,     0.76376,     0.76476,     0.76577,     0.76677,     0.76777,\n",
       "           0.76877,     0.76977,     0.77077,     0.77177,     0.77277,     0.77377,     0.77477,     0.77578,     0.77678,     0.77778,     0.77878,     0.77978,     0.78078,     0.78178,     0.78278,     0.78378,     0.78478,     0.78579,     0.78679,     0.78779,     0.78879,     0.78979,     0.79079,     0.79179,\n",
       "           0.79279,     0.79379,     0.79479,      0.7958,      0.7968,      0.7978,      0.7988,      0.7998,      0.8008,      0.8018,      0.8028,      0.8038,      0.8048,     0.80581,     0.80681,     0.80781,     0.80881,     0.80981,     0.81081,     0.81181,     0.81281,     0.81381,     0.81481,     0.81582,\n",
       "           0.81682,     0.81782,     0.81882,     0.81982,     0.82082,     0.82182,     0.82282,     0.82382,     0.82482,     0.82583,     0.82683,     0.82783,     0.82883,     0.82983,     0.83083,     0.83183,     0.83283,     0.83383,     0.83483,     0.83584,     0.83684,     0.83784,     0.83884,     0.83984,\n",
       "           0.84084,     0.84184,     0.84284,     0.84384,     0.84484,     0.84585,     0.84685,     0.84785,     0.84885,     0.84985,     0.85085,     0.85185,     0.85285,     0.85385,     0.85485,     0.85586,     0.85686,     0.85786,     0.85886,     0.85986,     0.86086,     0.86186,     0.86286,     0.86386,\n",
       "           0.86486,     0.86587,     0.86687,     0.86787,     0.86887,     0.86987,     0.87087,     0.87187,     0.87287,     0.87387,     0.87487,     0.87588,     0.87688,     0.87788,     0.87888,     0.87988,     0.88088,     0.88188,     0.88288,     0.88388,     0.88488,     0.88589,     0.88689,     0.88789,\n",
       "           0.88889,     0.88989,     0.89089,     0.89189,     0.89289,     0.89389,     0.89489,      0.8959,      0.8969,      0.8979,      0.8989,      0.8999,      0.9009,      0.9019,      0.9029,      0.9039,      0.9049,     0.90591,     0.90691,     0.90791,     0.90891,     0.90991,     0.91091,     0.91191,\n",
       "           0.91291,     0.91391,     0.91491,     0.91592,     0.91692,     0.91792,     0.91892,     0.91992,     0.92092,     0.92192,     0.92292,     0.92392,     0.92492,     0.92593,     0.92693,     0.92793,     0.92893,     0.92993,     0.93093,     0.93193,     0.93293,     0.93393,     0.93493,     0.93594,\n",
       "           0.93694,     0.93794,     0.93894,     0.93994,     0.94094,     0.94194,     0.94294,     0.94394,     0.94494,     0.94595,     0.94695,     0.94795,     0.94895,     0.94995,     0.95095,     0.95195,     0.95295,     0.95395,     0.95495,     0.95596,     0.95696,     0.95796,     0.95896,     0.95996,\n",
       "           0.96096,     0.96196,     0.96296,     0.96396,     0.96496,     0.96597,     0.96697,     0.96797,     0.96897,     0.96997,     0.97097,     0.97197,     0.97297,     0.97397,     0.97497,     0.97598,     0.97698,     0.97798,     0.97898,     0.97998,     0.98098,     0.98198,     0.98298,     0.98398,\n",
       "           0.98498,     0.98599,     0.98699,     0.98799,     0.98899,     0.98999,     0.99099,     0.99199,     0.99299,     0.99399,     0.99499,       0.996,       0.997,       0.998,       0.999,           1]), array([[    0.26086,     0.26086,     0.32229, ...,           0,           0,           0],\n",
       "       [    0.14427,     0.14427,     0.19793, ...,           0,           0,           0]]), 'Confidence', 'F1'], [array([          0,    0.001001,    0.002002,    0.003003,    0.004004,    0.005005,    0.006006,    0.007007,    0.008008,    0.009009,     0.01001,    0.011011,    0.012012,    0.013013,    0.014014,    0.015015,    0.016016,    0.017017,    0.018018,    0.019019,     0.02002,    0.021021,    0.022022,    0.023023,\n",
       "          0.024024,    0.025025,    0.026026,    0.027027,    0.028028,    0.029029,     0.03003,    0.031031,    0.032032,    0.033033,    0.034034,    0.035035,    0.036036,    0.037037,    0.038038,    0.039039,     0.04004,    0.041041,    0.042042,    0.043043,    0.044044,    0.045045,    0.046046,    0.047047,\n",
       "          0.048048,    0.049049,     0.05005,    0.051051,    0.052052,    0.053053,    0.054054,    0.055055,    0.056056,    0.057057,    0.058058,    0.059059,     0.06006,    0.061061,    0.062062,    0.063063,    0.064064,    0.065065,    0.066066,    0.067067,    0.068068,    0.069069,     0.07007,    0.071071,\n",
       "          0.072072,    0.073073,    0.074074,    0.075075,    0.076076,    0.077077,    0.078078,    0.079079,     0.08008,    0.081081,    0.082082,    0.083083,    0.084084,    0.085085,    0.086086,    0.087087,    0.088088,    0.089089,     0.09009,    0.091091,    0.092092,    0.093093,    0.094094,    0.095095,\n",
       "          0.096096,    0.097097,    0.098098,    0.099099,      0.1001,      0.1011,      0.1021,      0.1031,      0.1041,     0.10511,     0.10611,     0.10711,     0.10811,     0.10911,     0.11011,     0.11111,     0.11211,     0.11311,     0.11411,     0.11512,     0.11612,     0.11712,     0.11812,     0.11912,\n",
       "           0.12012,     0.12112,     0.12212,     0.12312,     0.12412,     0.12513,     0.12613,     0.12713,     0.12813,     0.12913,     0.13013,     0.13113,     0.13213,     0.13313,     0.13413,     0.13514,     0.13614,     0.13714,     0.13814,     0.13914,     0.14014,     0.14114,     0.14214,     0.14314,\n",
       "           0.14414,     0.14515,     0.14615,     0.14715,     0.14815,     0.14915,     0.15015,     0.15115,     0.15215,     0.15315,     0.15415,     0.15516,     0.15616,     0.15716,     0.15816,     0.15916,     0.16016,     0.16116,     0.16216,     0.16316,     0.16416,     0.16517,     0.16617,     0.16717,\n",
       "           0.16817,     0.16917,     0.17017,     0.17117,     0.17217,     0.17317,     0.17417,     0.17518,     0.17618,     0.17718,     0.17818,     0.17918,     0.18018,     0.18118,     0.18218,     0.18318,     0.18418,     0.18519,     0.18619,     0.18719,     0.18819,     0.18919,     0.19019,     0.19119,\n",
       "           0.19219,     0.19319,     0.19419,      0.1952,      0.1962,      0.1972,      0.1982,      0.1992,      0.2002,      0.2012,      0.2022,      0.2032,      0.2042,     0.20521,     0.20621,     0.20721,     0.20821,     0.20921,     0.21021,     0.21121,     0.21221,     0.21321,     0.21421,     0.21522,\n",
       "           0.21622,     0.21722,     0.21822,     0.21922,     0.22022,     0.22122,     0.22222,     0.22322,     0.22422,     0.22523,     0.22623,     0.22723,     0.22823,     0.22923,     0.23023,     0.23123,     0.23223,     0.23323,     0.23423,     0.23524,     0.23624,     0.23724,     0.23824,     0.23924,\n",
       "           0.24024,     0.24124,     0.24224,     0.24324,     0.24424,     0.24525,     0.24625,     0.24725,     0.24825,     0.24925,     0.25025,     0.25125,     0.25225,     0.25325,     0.25425,     0.25526,     0.25626,     0.25726,     0.25826,     0.25926,     0.26026,     0.26126,     0.26226,     0.26326,\n",
       "           0.26426,     0.26527,     0.26627,     0.26727,     0.26827,     0.26927,     0.27027,     0.27127,     0.27227,     0.27327,     0.27427,     0.27528,     0.27628,     0.27728,     0.27828,     0.27928,     0.28028,     0.28128,     0.28228,     0.28328,     0.28428,     0.28529,     0.28629,     0.28729,\n",
       "           0.28829,     0.28929,     0.29029,     0.29129,     0.29229,     0.29329,     0.29429,      0.2953,      0.2963,      0.2973,      0.2983,      0.2993,      0.3003,      0.3013,      0.3023,      0.3033,      0.3043,     0.30531,     0.30631,     0.30731,     0.30831,     0.30931,     0.31031,     0.31131,\n",
       "           0.31231,     0.31331,     0.31431,     0.31532,     0.31632,     0.31732,     0.31832,     0.31932,     0.32032,     0.32132,     0.32232,     0.32332,     0.32432,     0.32533,     0.32633,     0.32733,     0.32833,     0.32933,     0.33033,     0.33133,     0.33233,     0.33333,     0.33433,     0.33534,\n",
       "           0.33634,     0.33734,     0.33834,     0.33934,     0.34034,     0.34134,     0.34234,     0.34334,     0.34434,     0.34535,     0.34635,     0.34735,     0.34835,     0.34935,     0.35035,     0.35135,     0.35235,     0.35335,     0.35435,     0.35536,     0.35636,     0.35736,     0.35836,     0.35936,\n",
       "           0.36036,     0.36136,     0.36236,     0.36336,     0.36436,     0.36537,     0.36637,     0.36737,     0.36837,     0.36937,     0.37037,     0.37137,     0.37237,     0.37337,     0.37437,     0.37538,     0.37638,     0.37738,     0.37838,     0.37938,     0.38038,     0.38138,     0.38238,     0.38338,\n",
       "           0.38438,     0.38539,     0.38639,     0.38739,     0.38839,     0.38939,     0.39039,     0.39139,     0.39239,     0.39339,     0.39439,      0.3954,      0.3964,      0.3974,      0.3984,      0.3994,      0.4004,      0.4014,      0.4024,      0.4034,      0.4044,     0.40541,     0.40641,     0.40741,\n",
       "           0.40841,     0.40941,     0.41041,     0.41141,     0.41241,     0.41341,     0.41441,     0.41542,     0.41642,     0.41742,     0.41842,     0.41942,     0.42042,     0.42142,     0.42242,     0.42342,     0.42442,     0.42543,     0.42643,     0.42743,     0.42843,     0.42943,     0.43043,     0.43143,\n",
       "           0.43243,     0.43343,     0.43443,     0.43544,     0.43644,     0.43744,     0.43844,     0.43944,     0.44044,     0.44144,     0.44244,     0.44344,     0.44444,     0.44545,     0.44645,     0.44745,     0.44845,     0.44945,     0.45045,     0.45145,     0.45245,     0.45345,     0.45445,     0.45546,\n",
       "           0.45646,     0.45746,     0.45846,     0.45946,     0.46046,     0.46146,     0.46246,     0.46346,     0.46446,     0.46547,     0.46647,     0.46747,     0.46847,     0.46947,     0.47047,     0.47147,     0.47247,     0.47347,     0.47447,     0.47548,     0.47648,     0.47748,     0.47848,     0.47948,\n",
       "           0.48048,     0.48148,     0.48248,     0.48348,     0.48448,     0.48549,     0.48649,     0.48749,     0.48849,     0.48949,     0.49049,     0.49149,     0.49249,     0.49349,     0.49449,      0.4955,      0.4965,      0.4975,      0.4985,      0.4995,      0.5005,      0.5015,      0.5025,      0.5035,\n",
       "            0.5045,     0.50551,     0.50651,     0.50751,     0.50851,     0.50951,     0.51051,     0.51151,     0.51251,     0.51351,     0.51451,     0.51552,     0.51652,     0.51752,     0.51852,     0.51952,     0.52052,     0.52152,     0.52252,     0.52352,     0.52452,     0.52553,     0.52653,     0.52753,\n",
       "           0.52853,     0.52953,     0.53053,     0.53153,     0.53253,     0.53353,     0.53453,     0.53554,     0.53654,     0.53754,     0.53854,     0.53954,     0.54054,     0.54154,     0.54254,     0.54354,     0.54454,     0.54555,     0.54655,     0.54755,     0.54855,     0.54955,     0.55055,     0.55155,\n",
       "           0.55255,     0.55355,     0.55455,     0.55556,     0.55656,     0.55756,     0.55856,     0.55956,     0.56056,     0.56156,     0.56256,     0.56356,     0.56456,     0.56557,     0.56657,     0.56757,     0.56857,     0.56957,     0.57057,     0.57157,     0.57257,     0.57357,     0.57457,     0.57558,\n",
       "           0.57658,     0.57758,     0.57858,     0.57958,     0.58058,     0.58158,     0.58258,     0.58358,     0.58458,     0.58559,     0.58659,     0.58759,     0.58859,     0.58959,     0.59059,     0.59159,     0.59259,     0.59359,     0.59459,      0.5956,      0.5966,      0.5976,      0.5986,      0.5996,\n",
       "            0.6006,      0.6016,      0.6026,      0.6036,      0.6046,     0.60561,     0.60661,     0.60761,     0.60861,     0.60961,     0.61061,     0.61161,     0.61261,     0.61361,     0.61461,     0.61562,     0.61662,     0.61762,     0.61862,     0.61962,     0.62062,     0.62162,     0.62262,     0.62362,\n",
       "           0.62462,     0.62563,     0.62663,     0.62763,     0.62863,     0.62963,     0.63063,     0.63163,     0.63263,     0.63363,     0.63463,     0.63564,     0.63664,     0.63764,     0.63864,     0.63964,     0.64064,     0.64164,     0.64264,     0.64364,     0.64464,     0.64565,     0.64665,     0.64765,\n",
       "           0.64865,     0.64965,     0.65065,     0.65165,     0.65265,     0.65365,     0.65465,     0.65566,     0.65666,     0.65766,     0.65866,     0.65966,     0.66066,     0.66166,     0.66266,     0.66366,     0.66466,     0.66567,     0.66667,     0.66767,     0.66867,     0.66967,     0.67067,     0.67167,\n",
       "           0.67267,     0.67367,     0.67467,     0.67568,     0.67668,     0.67768,     0.67868,     0.67968,     0.68068,     0.68168,     0.68268,     0.68368,     0.68468,     0.68569,     0.68669,     0.68769,     0.68869,     0.68969,     0.69069,     0.69169,     0.69269,     0.69369,     0.69469,      0.6957,\n",
       "            0.6967,      0.6977,      0.6987,      0.6997,      0.7007,      0.7017,      0.7027,      0.7037,      0.7047,     0.70571,     0.70671,     0.70771,     0.70871,     0.70971,     0.71071,     0.71171,     0.71271,     0.71371,     0.71471,     0.71572,     0.71672,     0.71772,     0.71872,     0.71972,\n",
       "           0.72072,     0.72172,     0.72272,     0.72372,     0.72472,     0.72573,     0.72673,     0.72773,     0.72873,     0.72973,     0.73073,     0.73173,     0.73273,     0.73373,     0.73473,     0.73574,     0.73674,     0.73774,     0.73874,     0.73974,     0.74074,     0.74174,     0.74274,     0.74374,\n",
       "           0.74474,     0.74575,     0.74675,     0.74775,     0.74875,     0.74975,     0.75075,     0.75175,     0.75275,     0.75375,     0.75475,     0.75576,     0.75676,     0.75776,     0.75876,     0.75976,     0.76076,     0.76176,     0.76276,     0.76376,     0.76476,     0.76577,     0.76677,     0.76777,\n",
       "           0.76877,     0.76977,     0.77077,     0.77177,     0.77277,     0.77377,     0.77477,     0.77578,     0.77678,     0.77778,     0.77878,     0.77978,     0.78078,     0.78178,     0.78278,     0.78378,     0.78478,     0.78579,     0.78679,     0.78779,     0.78879,     0.78979,     0.79079,     0.79179,\n",
       "           0.79279,     0.79379,     0.79479,      0.7958,      0.7968,      0.7978,      0.7988,      0.7998,      0.8008,      0.8018,      0.8028,      0.8038,      0.8048,     0.80581,     0.80681,     0.80781,     0.80881,     0.80981,     0.81081,     0.81181,     0.81281,     0.81381,     0.81481,     0.81582,\n",
       "           0.81682,     0.81782,     0.81882,     0.81982,     0.82082,     0.82182,     0.82282,     0.82382,     0.82482,     0.82583,     0.82683,     0.82783,     0.82883,     0.82983,     0.83083,     0.83183,     0.83283,     0.83383,     0.83483,     0.83584,     0.83684,     0.83784,     0.83884,     0.83984,\n",
       "           0.84084,     0.84184,     0.84284,     0.84384,     0.84484,     0.84585,     0.84685,     0.84785,     0.84885,     0.84985,     0.85085,     0.85185,     0.85285,     0.85385,     0.85485,     0.85586,     0.85686,     0.85786,     0.85886,     0.85986,     0.86086,     0.86186,     0.86286,     0.86386,\n",
       "           0.86486,     0.86587,     0.86687,     0.86787,     0.86887,     0.86987,     0.87087,     0.87187,     0.87287,     0.87387,     0.87487,     0.87588,     0.87688,     0.87788,     0.87888,     0.87988,     0.88088,     0.88188,     0.88288,     0.88388,     0.88488,     0.88589,     0.88689,     0.88789,\n",
       "           0.88889,     0.88989,     0.89089,     0.89189,     0.89289,     0.89389,     0.89489,      0.8959,      0.8969,      0.8979,      0.8989,      0.8999,      0.9009,      0.9019,      0.9029,      0.9039,      0.9049,     0.90591,     0.90691,     0.90791,     0.90891,     0.90991,     0.91091,     0.91191,\n",
       "           0.91291,     0.91391,     0.91491,     0.91592,     0.91692,     0.91792,     0.91892,     0.91992,     0.92092,     0.92192,     0.92292,     0.92392,     0.92492,     0.92593,     0.92693,     0.92793,     0.92893,     0.92993,     0.93093,     0.93193,     0.93293,     0.93393,     0.93493,     0.93594,\n",
       "           0.93694,     0.93794,     0.93894,     0.93994,     0.94094,     0.94194,     0.94294,     0.94394,     0.94494,     0.94595,     0.94695,     0.94795,     0.94895,     0.94995,     0.95095,     0.95195,     0.95295,     0.95395,     0.95495,     0.95596,     0.95696,     0.95796,     0.95896,     0.95996,\n",
       "           0.96096,     0.96196,     0.96296,     0.96396,     0.96496,     0.96597,     0.96697,     0.96797,     0.96897,     0.96997,     0.97097,     0.97197,     0.97297,     0.97397,     0.97497,     0.97598,     0.97698,     0.97798,     0.97898,     0.97998,     0.98098,     0.98198,     0.98298,     0.98398,\n",
       "           0.98498,     0.98599,     0.98699,     0.98799,     0.98899,     0.98999,     0.99099,     0.99199,     0.99299,     0.99399,     0.99499,       0.996,       0.997,       0.998,       0.999,           1]), array([[     0.1509,      0.1509,     0.19374, ...,           1,           1,           1],\n",
       "       [   0.078006,    0.078006,      0.1105, ...,           1,           1,           1]]), 'Confidence', 'Precision'], [array([          0,    0.001001,    0.002002,    0.003003,    0.004004,    0.005005,    0.006006,    0.007007,    0.008008,    0.009009,     0.01001,    0.011011,    0.012012,    0.013013,    0.014014,    0.015015,    0.016016,    0.017017,    0.018018,    0.019019,     0.02002,    0.021021,    0.022022,    0.023023,\n",
       "          0.024024,    0.025025,    0.026026,    0.027027,    0.028028,    0.029029,     0.03003,    0.031031,    0.032032,    0.033033,    0.034034,    0.035035,    0.036036,    0.037037,    0.038038,    0.039039,     0.04004,    0.041041,    0.042042,    0.043043,    0.044044,    0.045045,    0.046046,    0.047047,\n",
       "          0.048048,    0.049049,     0.05005,    0.051051,    0.052052,    0.053053,    0.054054,    0.055055,    0.056056,    0.057057,    0.058058,    0.059059,     0.06006,    0.061061,    0.062062,    0.063063,    0.064064,    0.065065,    0.066066,    0.067067,    0.068068,    0.069069,     0.07007,    0.071071,\n",
       "          0.072072,    0.073073,    0.074074,    0.075075,    0.076076,    0.077077,    0.078078,    0.079079,     0.08008,    0.081081,    0.082082,    0.083083,    0.084084,    0.085085,    0.086086,    0.087087,    0.088088,    0.089089,     0.09009,    0.091091,    0.092092,    0.093093,    0.094094,    0.095095,\n",
       "          0.096096,    0.097097,    0.098098,    0.099099,      0.1001,      0.1011,      0.1021,      0.1031,      0.1041,     0.10511,     0.10611,     0.10711,     0.10811,     0.10911,     0.11011,     0.11111,     0.11211,     0.11311,     0.11411,     0.11512,     0.11612,     0.11712,     0.11812,     0.11912,\n",
       "           0.12012,     0.12112,     0.12212,     0.12312,     0.12412,     0.12513,     0.12613,     0.12713,     0.12813,     0.12913,     0.13013,     0.13113,     0.13213,     0.13313,     0.13413,     0.13514,     0.13614,     0.13714,     0.13814,     0.13914,     0.14014,     0.14114,     0.14214,     0.14314,\n",
       "           0.14414,     0.14515,     0.14615,     0.14715,     0.14815,     0.14915,     0.15015,     0.15115,     0.15215,     0.15315,     0.15415,     0.15516,     0.15616,     0.15716,     0.15816,     0.15916,     0.16016,     0.16116,     0.16216,     0.16316,     0.16416,     0.16517,     0.16617,     0.16717,\n",
       "           0.16817,     0.16917,     0.17017,     0.17117,     0.17217,     0.17317,     0.17417,     0.17518,     0.17618,     0.17718,     0.17818,     0.17918,     0.18018,     0.18118,     0.18218,     0.18318,     0.18418,     0.18519,     0.18619,     0.18719,     0.18819,     0.18919,     0.19019,     0.19119,\n",
       "           0.19219,     0.19319,     0.19419,      0.1952,      0.1962,      0.1972,      0.1982,      0.1992,      0.2002,      0.2012,      0.2022,      0.2032,      0.2042,     0.20521,     0.20621,     0.20721,     0.20821,     0.20921,     0.21021,     0.21121,     0.21221,     0.21321,     0.21421,     0.21522,\n",
       "           0.21622,     0.21722,     0.21822,     0.21922,     0.22022,     0.22122,     0.22222,     0.22322,     0.22422,     0.22523,     0.22623,     0.22723,     0.22823,     0.22923,     0.23023,     0.23123,     0.23223,     0.23323,     0.23423,     0.23524,     0.23624,     0.23724,     0.23824,     0.23924,\n",
       "           0.24024,     0.24124,     0.24224,     0.24324,     0.24424,     0.24525,     0.24625,     0.24725,     0.24825,     0.24925,     0.25025,     0.25125,     0.25225,     0.25325,     0.25425,     0.25526,     0.25626,     0.25726,     0.25826,     0.25926,     0.26026,     0.26126,     0.26226,     0.26326,\n",
       "           0.26426,     0.26527,     0.26627,     0.26727,     0.26827,     0.26927,     0.27027,     0.27127,     0.27227,     0.27327,     0.27427,     0.27528,     0.27628,     0.27728,     0.27828,     0.27928,     0.28028,     0.28128,     0.28228,     0.28328,     0.28428,     0.28529,     0.28629,     0.28729,\n",
       "           0.28829,     0.28929,     0.29029,     0.29129,     0.29229,     0.29329,     0.29429,      0.2953,      0.2963,      0.2973,      0.2983,      0.2993,      0.3003,      0.3013,      0.3023,      0.3033,      0.3043,     0.30531,     0.30631,     0.30731,     0.30831,     0.30931,     0.31031,     0.31131,\n",
       "           0.31231,     0.31331,     0.31431,     0.31532,     0.31632,     0.31732,     0.31832,     0.31932,     0.32032,     0.32132,     0.32232,     0.32332,     0.32432,     0.32533,     0.32633,     0.32733,     0.32833,     0.32933,     0.33033,     0.33133,     0.33233,     0.33333,     0.33433,     0.33534,\n",
       "           0.33634,     0.33734,     0.33834,     0.33934,     0.34034,     0.34134,     0.34234,     0.34334,     0.34434,     0.34535,     0.34635,     0.34735,     0.34835,     0.34935,     0.35035,     0.35135,     0.35235,     0.35335,     0.35435,     0.35536,     0.35636,     0.35736,     0.35836,     0.35936,\n",
       "           0.36036,     0.36136,     0.36236,     0.36336,     0.36436,     0.36537,     0.36637,     0.36737,     0.36837,     0.36937,     0.37037,     0.37137,     0.37237,     0.37337,     0.37437,     0.37538,     0.37638,     0.37738,     0.37838,     0.37938,     0.38038,     0.38138,     0.38238,     0.38338,\n",
       "           0.38438,     0.38539,     0.38639,     0.38739,     0.38839,     0.38939,     0.39039,     0.39139,     0.39239,     0.39339,     0.39439,      0.3954,      0.3964,      0.3974,      0.3984,      0.3994,      0.4004,      0.4014,      0.4024,      0.4034,      0.4044,     0.40541,     0.40641,     0.40741,\n",
       "           0.40841,     0.40941,     0.41041,     0.41141,     0.41241,     0.41341,     0.41441,     0.41542,     0.41642,     0.41742,     0.41842,     0.41942,     0.42042,     0.42142,     0.42242,     0.42342,     0.42442,     0.42543,     0.42643,     0.42743,     0.42843,     0.42943,     0.43043,     0.43143,\n",
       "           0.43243,     0.43343,     0.43443,     0.43544,     0.43644,     0.43744,     0.43844,     0.43944,     0.44044,     0.44144,     0.44244,     0.44344,     0.44444,     0.44545,     0.44645,     0.44745,     0.44845,     0.44945,     0.45045,     0.45145,     0.45245,     0.45345,     0.45445,     0.45546,\n",
       "           0.45646,     0.45746,     0.45846,     0.45946,     0.46046,     0.46146,     0.46246,     0.46346,     0.46446,     0.46547,     0.46647,     0.46747,     0.46847,     0.46947,     0.47047,     0.47147,     0.47247,     0.47347,     0.47447,     0.47548,     0.47648,     0.47748,     0.47848,     0.47948,\n",
       "           0.48048,     0.48148,     0.48248,     0.48348,     0.48448,     0.48549,     0.48649,     0.48749,     0.48849,     0.48949,     0.49049,     0.49149,     0.49249,     0.49349,     0.49449,      0.4955,      0.4965,      0.4975,      0.4985,      0.4995,      0.5005,      0.5015,      0.5025,      0.5035,\n",
       "            0.5045,     0.50551,     0.50651,     0.50751,     0.50851,     0.50951,     0.51051,     0.51151,     0.51251,     0.51351,     0.51451,     0.51552,     0.51652,     0.51752,     0.51852,     0.51952,     0.52052,     0.52152,     0.52252,     0.52352,     0.52452,     0.52553,     0.52653,     0.52753,\n",
       "           0.52853,     0.52953,     0.53053,     0.53153,     0.53253,     0.53353,     0.53453,     0.53554,     0.53654,     0.53754,     0.53854,     0.53954,     0.54054,     0.54154,     0.54254,     0.54354,     0.54454,     0.54555,     0.54655,     0.54755,     0.54855,     0.54955,     0.55055,     0.55155,\n",
       "           0.55255,     0.55355,     0.55455,     0.55556,     0.55656,     0.55756,     0.55856,     0.55956,     0.56056,     0.56156,     0.56256,     0.56356,     0.56456,     0.56557,     0.56657,     0.56757,     0.56857,     0.56957,     0.57057,     0.57157,     0.57257,     0.57357,     0.57457,     0.57558,\n",
       "           0.57658,     0.57758,     0.57858,     0.57958,     0.58058,     0.58158,     0.58258,     0.58358,     0.58458,     0.58559,     0.58659,     0.58759,     0.58859,     0.58959,     0.59059,     0.59159,     0.59259,     0.59359,     0.59459,      0.5956,      0.5966,      0.5976,      0.5986,      0.5996,\n",
       "            0.6006,      0.6016,      0.6026,      0.6036,      0.6046,     0.60561,     0.60661,     0.60761,     0.60861,     0.60961,     0.61061,     0.61161,     0.61261,     0.61361,     0.61461,     0.61562,     0.61662,     0.61762,     0.61862,     0.61962,     0.62062,     0.62162,     0.62262,     0.62362,\n",
       "           0.62462,     0.62563,     0.62663,     0.62763,     0.62863,     0.62963,     0.63063,     0.63163,     0.63263,     0.63363,     0.63463,     0.63564,     0.63664,     0.63764,     0.63864,     0.63964,     0.64064,     0.64164,     0.64264,     0.64364,     0.64464,     0.64565,     0.64665,     0.64765,\n",
       "           0.64865,     0.64965,     0.65065,     0.65165,     0.65265,     0.65365,     0.65465,     0.65566,     0.65666,     0.65766,     0.65866,     0.65966,     0.66066,     0.66166,     0.66266,     0.66366,     0.66466,     0.66567,     0.66667,     0.66767,     0.66867,     0.66967,     0.67067,     0.67167,\n",
       "           0.67267,     0.67367,     0.67467,     0.67568,     0.67668,     0.67768,     0.67868,     0.67968,     0.68068,     0.68168,     0.68268,     0.68368,     0.68468,     0.68569,     0.68669,     0.68769,     0.68869,     0.68969,     0.69069,     0.69169,     0.69269,     0.69369,     0.69469,      0.6957,\n",
       "            0.6967,      0.6977,      0.6987,      0.6997,      0.7007,      0.7017,      0.7027,      0.7037,      0.7047,     0.70571,     0.70671,     0.70771,     0.70871,     0.70971,     0.71071,     0.71171,     0.71271,     0.71371,     0.71471,     0.71572,     0.71672,     0.71772,     0.71872,     0.71972,\n",
       "           0.72072,     0.72172,     0.72272,     0.72372,     0.72472,     0.72573,     0.72673,     0.72773,     0.72873,     0.72973,     0.73073,     0.73173,     0.73273,     0.73373,     0.73473,     0.73574,     0.73674,     0.73774,     0.73874,     0.73974,     0.74074,     0.74174,     0.74274,     0.74374,\n",
       "           0.74474,     0.74575,     0.74675,     0.74775,     0.74875,     0.74975,     0.75075,     0.75175,     0.75275,     0.75375,     0.75475,     0.75576,     0.75676,     0.75776,     0.75876,     0.75976,     0.76076,     0.76176,     0.76276,     0.76376,     0.76476,     0.76577,     0.76677,     0.76777,\n",
       "           0.76877,     0.76977,     0.77077,     0.77177,     0.77277,     0.77377,     0.77477,     0.77578,     0.77678,     0.77778,     0.77878,     0.77978,     0.78078,     0.78178,     0.78278,     0.78378,     0.78478,     0.78579,     0.78679,     0.78779,     0.78879,     0.78979,     0.79079,     0.79179,\n",
       "           0.79279,     0.79379,     0.79479,      0.7958,      0.7968,      0.7978,      0.7988,      0.7998,      0.8008,      0.8018,      0.8028,      0.8038,      0.8048,     0.80581,     0.80681,     0.80781,     0.80881,     0.80981,     0.81081,     0.81181,     0.81281,     0.81381,     0.81481,     0.81582,\n",
       "           0.81682,     0.81782,     0.81882,     0.81982,     0.82082,     0.82182,     0.82282,     0.82382,     0.82482,     0.82583,     0.82683,     0.82783,     0.82883,     0.82983,     0.83083,     0.83183,     0.83283,     0.83383,     0.83483,     0.83584,     0.83684,     0.83784,     0.83884,     0.83984,\n",
       "           0.84084,     0.84184,     0.84284,     0.84384,     0.84484,     0.84585,     0.84685,     0.84785,     0.84885,     0.84985,     0.85085,     0.85185,     0.85285,     0.85385,     0.85485,     0.85586,     0.85686,     0.85786,     0.85886,     0.85986,     0.86086,     0.86186,     0.86286,     0.86386,\n",
       "           0.86486,     0.86587,     0.86687,     0.86787,     0.86887,     0.86987,     0.87087,     0.87187,     0.87287,     0.87387,     0.87487,     0.87588,     0.87688,     0.87788,     0.87888,     0.87988,     0.88088,     0.88188,     0.88288,     0.88388,     0.88488,     0.88589,     0.88689,     0.88789,\n",
       "           0.88889,     0.88989,     0.89089,     0.89189,     0.89289,     0.89389,     0.89489,      0.8959,      0.8969,      0.8979,      0.8989,      0.8999,      0.9009,      0.9019,      0.9029,      0.9039,      0.9049,     0.90591,     0.90691,     0.90791,     0.90891,     0.90991,     0.91091,     0.91191,\n",
       "           0.91291,     0.91391,     0.91491,     0.91592,     0.91692,     0.91792,     0.91892,     0.91992,     0.92092,     0.92192,     0.92292,     0.92392,     0.92492,     0.92593,     0.92693,     0.92793,     0.92893,     0.92993,     0.93093,     0.93193,     0.93293,     0.93393,     0.93493,     0.93594,\n",
       "           0.93694,     0.93794,     0.93894,     0.93994,     0.94094,     0.94194,     0.94294,     0.94394,     0.94494,     0.94595,     0.94695,     0.94795,     0.94895,     0.94995,     0.95095,     0.95195,     0.95295,     0.95395,     0.95495,     0.95596,     0.95696,     0.95796,     0.95896,     0.95996,\n",
       "           0.96096,     0.96196,     0.96296,     0.96396,     0.96496,     0.96597,     0.96697,     0.96797,     0.96897,     0.96997,     0.97097,     0.97197,     0.97297,     0.97397,     0.97497,     0.97598,     0.97698,     0.97798,     0.97898,     0.97998,     0.98098,     0.98198,     0.98298,     0.98398,\n",
       "           0.98498,     0.98599,     0.98699,     0.98799,     0.98899,     0.98999,     0.99099,     0.99199,     0.99299,     0.99399,     0.99499,       0.996,       0.997,       0.998,       0.999,           1]), array([[    0.96135,     0.96135,     0.95773, ...,           0,           0,           0],\n",
       "       [    0.95839,     0.95839,     0.94798, ...,           0,           0,           0]]), 'Confidence', 'Recall']]\n",
       "fitness: 0.4916860886046146\n",
       "keys: ['metrics/precision(B)', 'metrics/recall(B)', 'metrics/mAP50(B)', 'metrics/mAP50-95(B)']\n",
       "maps: array([    0.44715,     0.46202])\n",
       "names: {0: 'fire', 1: 'smoke'}\n",
       "plot: True\n",
       "results_dict: {'metrics/precision(B)': 0.7777477683632015, 'metrics/recall(B)': 0.7738436503136565, 'metrics/mAP50(B)': 0.8256251403818264, 'metrics/mAP50-95(B)': 0.4545817495182577, 'fitness': 0.4916860886046146}\n",
       "save_dir: PosixPath('runs/detect/train2')\n",
       "speed: {'preprocess': 0.29867089639498495, 'inference': 2.6569128662269574, 'loss': 0.0005769604460148048, 'postprocess': 3.931810849607773}\n",
       "task: 'detect'"
      ]
     },
     "metadata": {},
     "output_type": "display_data"
    }
   ],
   "source": [
    "import os\n",
    "os.environ['WANDB_MODE'] = 'dryrun'\n",
    "\n",
    "# 모델 훈련\n",
    "model.train(data='/content/drive/MyDrive/data.yaml', epochs=100, batch=16)  # 'dataset.yaml' 파일에 데이터셋 정보가 있어야 합니다."
   ]
  },
  {
   "cell_type": "markdown",
   "metadata": {},
   "source": [
    "## YOLOv6n\n",
    "mAP50: 0.642      \n",
    "mAP50-95: 0.316"
   ]
  },
  {
   "cell_type": "code",
   "execution_count": null,
   "metadata": {},
   "outputs": [],
   "source": [
    "from ultralytics import YOLO\n",
    "model = YOLO('yolov6n.yaml')  # 사전 훈련된 모델 사용"
   ]
  },
  {
   "cell_type": "code",
   "execution_count": null,
   "metadata": {},
   "outputs": [],
   "source": [
    "model.train(data='/content/drive/MyDrive/data.yaml', epochs=100, batch=2)"
   ]
  },
  {
   "cell_type": "markdown",
   "metadata": {},
   "source": [
    "## YOLOv8n\n",
    "mAP50: 0.824   \n",
    "mAP50-95: 0.468"
   ]
  },
  {
   "cell_type": "code",
   "execution_count": null,
   "metadata": {},
   "outputs": [],
   "source": [
    "from ultralytics import YOLO\n",
    "model = YOLO('yolov8n.pt')  # 사전 훈련된 모델 사용"
   ]
  },
  {
   "cell_type": "code",
   "execution_count": null,
   "metadata": {},
   "outputs": [
    {
     "name": "stdout",
     "output_type": "stream",
     "text": [
      "Ultralytics 8.3.17 🚀 Python-3.10.12 torch-2.4.1+cu121 CUDA:0 (Tesla T4, 15102MiB)\n",
      "\u001b[34m\u001b[1mengine/trainer: \u001b[0mtask=detect, mode=train, model=yolov8n.pt, data=/content/drive/MyDrive/data.yaml, epochs=100, time=None, patience=100, batch=8, imgsz=640, save=True, save_period=-1, cache=False, device=None, workers=8, project=None, name=train2, exist_ok=False, pretrained=True, optimizer=auto, verbose=True, seed=0, deterministic=True, single_cls=False, rect=False, cos_lr=False, close_mosaic=10, resume=False, amp=True, fraction=1.0, profile=False, freeze=None, multi_scale=False, overlap_mask=True, mask_ratio=4, dropout=0.0, val=True, split=val, save_json=False, save_hybrid=False, conf=None, iou=0.7, max_det=300, half=False, dnn=False, plots=True, source=None, vid_stride=1, stream_buffer=False, visualize=False, augment=False, agnostic_nms=False, classes=None, retina_masks=False, embed=None, show=False, save_frames=False, save_txt=False, save_conf=False, save_crop=False, show_labels=True, show_conf=True, show_boxes=True, line_width=None, format=torchscript, keras=False, optimize=False, int8=False, dynamic=False, simplify=True, opset=None, workspace=4, nms=False, lr0=0.01, lrf=0.01, momentum=0.937, weight_decay=0.0005, warmup_epochs=3.0, warmup_momentum=0.8, warmup_bias_lr=0.1, box=7.5, cls=0.5, dfl=1.5, pose=12.0, kobj=1.0, label_smoothing=0.0, nbs=64, hsv_h=0.015, hsv_s=0.7, hsv_v=0.4, degrees=0.0, translate=0.1, scale=0.5, shear=0.0, perspective=0.0, flipud=0.0, fliplr=0.5, bgr=0.0, mosaic=1.0, mixup=0.0, copy_paste=0.0, copy_paste_mode=flip, auto_augment=randaugment, erasing=0.4, crop_fraction=1.0, cfg=None, tracker=botsort.yaml, save_dir=runs/detect/train2\n",
      "Downloading https://ultralytics.com/assets/Arial.ttf to '/root/.config/Ultralytics/Arial.ttf'...\n"
     ]
    },
    {
     "name": "stderr",
     "output_type": "stream",
     "text": [
      "100%|██████████| 755k/755k [00:00<00:00, 32.8MB/s]\n"
     ]
    },
    {
     "name": "stdout",
     "output_type": "stream",
     "text": [
      "Overriding model.yaml nc=80 with nc=2\n",
      "\n",
      "                   from  n    params  module                                       arguments                     \n",
      "  0                  -1  1       464  ultralytics.nn.modules.conv.Conv             [3, 16, 3, 2]                 \n",
      "  1                  -1  1      4672  ultralytics.nn.modules.conv.Conv             [16, 32, 3, 2]                \n",
      "  2                  -1  1      7360  ultralytics.nn.modules.block.C2f             [32, 32, 1, True]             \n",
      "  3                  -1  1     18560  ultralytics.nn.modules.conv.Conv             [32, 64, 3, 2]                \n",
      "  4                  -1  2     49664  ultralytics.nn.modules.block.C2f             [64, 64, 2, True]             \n",
      "  5                  -1  1     73984  ultralytics.nn.modules.conv.Conv             [64, 128, 3, 2]               \n",
      "  6                  -1  2    197632  ultralytics.nn.modules.block.C2f             [128, 128, 2, True]           \n",
      "  7                  -1  1    295424  ultralytics.nn.modules.conv.Conv             [128, 256, 3, 2]              \n",
      "  8                  -1  1    460288  ultralytics.nn.modules.block.C2f             [256, 256, 1, True]           \n",
      "  9                  -1  1    164608  ultralytics.nn.modules.block.SPPF            [256, 256, 5]                 \n",
      " 10                  -1  1         0  torch.nn.modules.upsampling.Upsample         [None, 2, 'nearest']          \n",
      " 11             [-1, 6]  1         0  ultralytics.nn.modules.conv.Concat           [1]                           \n",
      " 12                  -1  1    148224  ultralytics.nn.modules.block.C2f             [384, 128, 1]                 \n",
      " 13                  -1  1         0  torch.nn.modules.upsampling.Upsample         [None, 2, 'nearest']          \n",
      " 14             [-1, 4]  1         0  ultralytics.nn.modules.conv.Concat           [1]                           \n",
      " 15                  -1  1     37248  ultralytics.nn.modules.block.C2f             [192, 64, 1]                  \n",
      " 16                  -1  1     36992  ultralytics.nn.modules.conv.Conv             [64, 64, 3, 2]                \n",
      " 17            [-1, 12]  1         0  ultralytics.nn.modules.conv.Concat           [1]                           \n",
      " 18                  -1  1    123648  ultralytics.nn.modules.block.C2f             [192, 128, 1]                 \n",
      " 19                  -1  1    147712  ultralytics.nn.modules.conv.Conv             [128, 128, 3, 2]              \n",
      " 20             [-1, 9]  1         0  ultralytics.nn.modules.conv.Concat           [1]                           \n",
      " 21                  -1  1    493056  ultralytics.nn.modules.block.C2f             [384, 256, 1]                 \n",
      " 22        [15, 18, 21]  1    751702  ultralytics.nn.modules.head.Detect           [2, [64, 128, 256]]           \n",
      "Model summary: 225 layers, 3,011,238 parameters, 3,011,222 gradients, 8.2 GFLOPs\n",
      "\n",
      "Transferred 319/355 items from pretrained weights\n",
      "\u001b[34m\u001b[1mTensorBoard: \u001b[0mStart with 'tensorboard --logdir runs/detect/train2', view at http://localhost:6006/\n"
     ]
    },
    {
     "name": "stderr",
     "output_type": "stream",
     "text": [
      "\u001b[34m\u001b[1mwandb\u001b[0m: Using wandb-core as the SDK backend. Please refer to https://wandb.me/wandb-core for more information.\n"
     ]
    },
    {
     "data": {
      "text/html": [
       "Tracking run with wandb version 0.18.3"
      ],
      "text/plain": [
       "<IPython.core.display.HTML object>"
      ]
     },
     "metadata": {},
     "output_type": "display_data"
    },
    {
     "data": {
      "text/html": [
       "W&B syncing is set to <code>`offline`<code> in this directory.  <br/>Run <code>`wandb online`<code> or set <code>WANDB_MODE=online<code> to enable cloud syncing."
      ],
      "text/plain": [
       "<IPython.core.display.HTML object>"
      ]
     },
     "metadata": {},
     "output_type": "display_data"
    },
    {
     "name": "stdout",
     "output_type": "stream",
     "text": [
      "Freezing layer 'model.22.dfl.conv.weight'\n",
      "\u001b[34m\u001b[1mAMP: \u001b[0mrunning Automatic Mixed Precision (AMP) checks with YOLO11n...\n",
      "Downloading https://github.com/ultralytics/assets/releases/download/v8.3.0/yolo11n.pt to 'yolo11n.pt'...\n"
     ]
    },
    {
     "name": "stderr",
     "output_type": "stream",
     "text": [
      "100%|██████████| 5.35M/5.35M [00:00<00:00, 164MB/s]\n"
     ]
    },
    {
     "name": "stdout",
     "output_type": "stream",
     "text": [
      "\u001b[34m\u001b[1mAMP: \u001b[0mchecks passed ✅\n"
     ]
    },
    {
     "name": "stderr",
     "output_type": "stream",
     "text": [
      "\u001b[34m\u001b[1mtrain: \u001b[0mScanning /content/drive/MyDrive/dataset/labels/train.cache... 777 images, 97 backgrounds, 0 corrupt: 100%|██████████| 777/777 [00:00<?, ?it/s]\n"
     ]
    },
    {
     "name": "stdout",
     "output_type": "stream",
     "text": [
      "\u001b[34m\u001b[1malbumentations: \u001b[0mBlur(p=0.01, blur_limit=(3, 7)), MedianBlur(p=0.01, blur_limit=(3, 7)), ToGray(p=0.01, num_output_channels=3, method='weighted_average'), CLAHE(p=0.01, clip_limit=(1, 4.0), tile_grid_size=(8, 8))\n"
     ]
    },
    {
     "name": "stderr",
     "output_type": "stream",
     "text": [
      "/usr/local/lib/python3.10/dist-packages/albumentations/__init__.py:13: UserWarning: A new version of Albumentations is available: 1.4.18 (you have 1.4.15). Upgrade using: pip install -U albumentations. To disable automatic update checks, set the environment variable NO_ALBUMENTATIONS_UPDATE to 1.\n",
      "  check_for_updates()\n",
      "\u001b[34m\u001b[1mval: \u001b[0mScanning /content/drive/MyDrive/dataset/labels/val.cache... 381 images, 52 backgrounds, 0 corrupt: 100%|██████████| 381/381 [00:00<?, ?it/s]\n"
     ]
    },
    {
     "name": "stdout",
     "output_type": "stream",
     "text": [
      "Plotting labels to runs/detect/train2/labels.jpg... \n",
      "\u001b[34m\u001b[1moptimizer:\u001b[0m 'optimizer=auto' found, ignoring 'lr0=0.01' and 'momentum=0.937' and determining best 'optimizer', 'lr0' and 'momentum' automatically... \n",
      "\u001b[34m\u001b[1moptimizer:\u001b[0m AdamW(lr=0.001667, momentum=0.9) with parameter groups 57 weight(decay=0.0), 64 weight(decay=0.0005), 63 bias(decay=0.0)\n",
      "\u001b[34m\u001b[1mTensorBoard: \u001b[0mmodel graph visualization added ✅\n",
      "Image sizes 640 train, 640 val\n",
      "Using 2 dataloader workers\n",
      "Logging results to \u001b[1mruns/detect/train2\u001b[0m\n",
      "Starting training for 100 epochs...\n",
      "\n",
      "      Epoch    GPU_mem   box_loss   cls_loss   dfl_loss  Instances       Size\n"
     ]
    },
    {
     "name": "stderr",
     "output_type": "stream",
     "text": [
      "      1/100      1.28G      2.037      2.822      1.585          7        640: 100%|██████████| 98/98 [00:30<00:00,  3.20it/s]\n",
      "                 Class     Images  Instances      Box(P          R      mAP50  mAP50-95): 100%|██████████| 24/24 [01:25<00:00,  3.55s/it]"
     ]
    },
    {
     "name": "stdout",
     "output_type": "stream",
     "text": [
      "                   all        381       1597      0.529      0.342      0.388       0.15\n"
     ]
    },
    {
     "name": "stderr",
     "output_type": "stream",
     "text": [
      "\n"
     ]
    },
    {
     "name": "stdout",
     "output_type": "stream",
     "text": [
      "\n",
      "      Epoch    GPU_mem   box_loss   cls_loss   dfl_loss  Instances       Size\n"
     ]
    },
    {
     "name": "stderr",
     "output_type": "stream",
     "text": [
      "      2/100      1.19G      1.911      2.128      1.538          4        640: 100%|██████████| 98/98 [00:22<00:00,  4.43it/s]\n",
      "                 Class     Images  Instances      Box(P          R      mAP50  mAP50-95): 100%|██████████| 24/24 [00:05<00:00,  4.19it/s]"
     ]
    },
    {
     "name": "stdout",
     "output_type": "stream",
     "text": [
      "                   all        381       1597      0.498      0.496       0.48      0.201\n"
     ]
    },
    {
     "name": "stderr",
     "output_type": "stream",
     "text": [
      "\n"
     ]
    },
    {
     "name": "stdout",
     "output_type": "stream",
     "text": [
      "\n",
      "      Epoch    GPU_mem   box_loss   cls_loss   dfl_loss  Instances       Size\n"
     ]
    },
    {
     "name": "stderr",
     "output_type": "stream",
     "text": [
      "      3/100      1.24G      1.865      1.912      1.525          1        640: 100%|██████████| 98/98 [00:23<00:00,  4.18it/s]\n",
      "                 Class     Images  Instances      Box(P          R      mAP50  mAP50-95): 100%|██████████| 24/24 [00:04<00:00,  5.19it/s]\n"
     ]
    },
    {
     "name": "stdout",
     "output_type": "stream",
     "text": [
      "                   all        381       1597      0.569      0.548      0.525      0.214\n",
      "\n",
      "      Epoch    GPU_mem   box_loss   cls_loss   dfl_loss  Instances       Size\n"
     ]
    },
    {
     "name": "stderr",
     "output_type": "stream",
     "text": [
      "      4/100      1.24G      1.879      1.837      1.512          5        640: 100%|██████████| 98/98 [00:22<00:00,  4.40it/s]\n",
      "                 Class     Images  Instances      Box(P          R      mAP50  mAP50-95): 100%|██████████| 24/24 [00:06<00:00,  3.54it/s]"
     ]
    },
    {
     "name": "stdout",
     "output_type": "stream",
     "text": [
      "                   all        381       1597      0.455      0.584      0.486      0.199\n"
     ]
    },
    {
     "name": "stderr",
     "output_type": "stream",
     "text": [
      "\n"
     ]
    },
    {
     "name": "stdout",
     "output_type": "stream",
     "text": [
      "\n",
      "      Epoch    GPU_mem   box_loss   cls_loss   dfl_loss  Instances       Size\n"
     ]
    },
    {
     "name": "stderr",
     "output_type": "stream",
     "text": [
      "      5/100      1.21G      1.824       1.72      1.491         15        640: 100%|██████████| 98/98 [00:23<00:00,  4.25it/s]\n",
      "                 Class     Images  Instances      Box(P          R      mAP50  mAP50-95): 100%|██████████| 24/24 [00:04<00:00,  5.37it/s]\n"
     ]
    },
    {
     "name": "stdout",
     "output_type": "stream",
     "text": [
      "                   all        381       1597      0.569      0.555      0.555      0.239\n",
      "\n",
      "      Epoch    GPU_mem   box_loss   cls_loss   dfl_loss  Instances       Size\n"
     ]
    },
    {
     "name": "stderr",
     "output_type": "stream",
     "text": [
      "      6/100      1.22G      1.787      1.635      1.459          5        640: 100%|██████████| 98/98 [00:22<00:00,  4.39it/s]\n",
      "                 Class     Images  Instances      Box(P          R      mAP50  mAP50-95): 100%|██████████| 24/24 [00:06<00:00,  3.57it/s]"
     ]
    },
    {
     "name": "stdout",
     "output_type": "stream",
     "text": [
      "                   all        381       1597      0.651      0.587      0.623      0.283\n"
     ]
    },
    {
     "name": "stderr",
     "output_type": "stream",
     "text": [
      "\n"
     ]
    },
    {
     "name": "stdout",
     "output_type": "stream",
     "text": [
      "\n",
      "      Epoch    GPU_mem   box_loss   cls_loss   dfl_loss  Instances       Size\n"
     ]
    },
    {
     "name": "stderr",
     "output_type": "stream",
     "text": [
      "      7/100      1.21G      1.763      1.566      1.465          6        640: 100%|██████████| 98/98 [00:23<00:00,  4.19it/s]\n",
      "                 Class     Images  Instances      Box(P          R      mAP50  mAP50-95): 100%|██████████| 24/24 [00:04<00:00,  5.58it/s]\n"
     ]
    },
    {
     "name": "stdout",
     "output_type": "stream",
     "text": [
      "                   all        381       1597       0.63      0.547      0.587      0.262\n",
      "\n",
      "      Epoch    GPU_mem   box_loss   cls_loss   dfl_loss  Instances       Size\n"
     ]
    },
    {
     "name": "stderr",
     "output_type": "stream",
     "text": [
      "      8/100      1.22G      1.741      1.509      1.447         15        640: 100%|██████████| 98/98 [00:22<00:00,  4.40it/s]\n",
      "                 Class     Images  Instances      Box(P          R      mAP50  mAP50-95): 100%|██████████| 24/24 [00:06<00:00,  3.43it/s]"
     ]
    },
    {
     "name": "stdout",
     "output_type": "stream",
     "text": [
      "                   all        381       1597       0.66      0.617      0.653      0.314\n"
     ]
    },
    {
     "name": "stderr",
     "output_type": "stream",
     "text": [
      "\n"
     ]
    },
    {
     "name": "stdout",
     "output_type": "stream",
     "text": [
      "\n",
      "      Epoch    GPU_mem   box_loss   cls_loss   dfl_loss  Instances       Size\n"
     ]
    },
    {
     "name": "stderr",
     "output_type": "stream",
     "text": [
      "      9/100      1.22G      1.731      1.474      1.429          8        640: 100%|██████████| 98/98 [00:22<00:00,  4.37it/s]\n",
      "                 Class     Images  Instances      Box(P          R      mAP50  mAP50-95): 100%|██████████| 24/24 [00:04<00:00,  5.55it/s]"
     ]
    },
    {
     "name": "stdout",
     "output_type": "stream",
     "text": [
      "                   all        381       1597      0.663      0.619      0.651      0.302\n"
     ]
    },
    {
     "name": "stderr",
     "output_type": "stream",
     "text": [
      "\n"
     ]
    },
    {
     "name": "stdout",
     "output_type": "stream",
     "text": [
      "\n",
      "      Epoch    GPU_mem   box_loss   cls_loss   dfl_loss  Instances       Size\n"
     ]
    },
    {
     "name": "stderr",
     "output_type": "stream",
     "text": [
      "     10/100      1.22G      1.708      1.431      1.406          2        640: 100%|██████████| 98/98 [00:23<00:00,  4.24it/s]\n",
      "                 Class     Images  Instances      Box(P          R      mAP50  mAP50-95): 100%|██████████| 24/24 [00:07<00:00,  3.36it/s]\n"
     ]
    },
    {
     "name": "stdout",
     "output_type": "stream",
     "text": [
      "                   all        381       1597      0.707      0.639      0.707      0.341\n",
      "\n",
      "      Epoch    GPU_mem   box_loss   cls_loss   dfl_loss  Instances       Size\n"
     ]
    },
    {
     "name": "stderr",
     "output_type": "stream",
     "text": [
      "     11/100      1.21G      1.711      1.461      1.443          2        640: 100%|██████████| 98/98 [00:22<00:00,  4.39it/s]\n",
      "                 Class     Images  Instances      Box(P          R      mAP50  mAP50-95): 100%|██████████| 24/24 [00:04<00:00,  5.74it/s]\n"
     ]
    },
    {
     "name": "stdout",
     "output_type": "stream",
     "text": [
      "                   all        381       1597      0.651      0.642      0.669      0.302\n",
      "\n",
      "      Epoch    GPU_mem   box_loss   cls_loss   dfl_loss  Instances       Size\n"
     ]
    },
    {
     "name": "stderr",
     "output_type": "stream",
     "text": [
      "     12/100      1.23G      1.696      1.388      1.408          2        640: 100%|██████████| 98/98 [00:22<00:00,  4.36it/s]\n",
      "                 Class     Images  Instances      Box(P          R      mAP50  mAP50-95): 100%|██████████| 24/24 [00:07<00:00,  3.41it/s]"
     ]
    },
    {
     "name": "stdout",
     "output_type": "stream",
     "text": [
      "                   all        381       1597      0.701       0.68      0.717      0.338\n"
     ]
    },
    {
     "name": "stderr",
     "output_type": "stream",
     "text": [
      "\n"
     ]
    },
    {
     "name": "stdout",
     "output_type": "stream",
     "text": [
      "\n",
      "      Epoch    GPU_mem   box_loss   cls_loss   dfl_loss  Instances       Size\n"
     ]
    },
    {
     "name": "stderr",
     "output_type": "stream",
     "text": [
      "     13/100      1.22G       1.66      1.417      1.383          0        640: 100%|██████████| 98/98 [00:21<00:00,  4.47it/s]\n",
      "                 Class     Images  Instances      Box(P          R      mAP50  mAP50-95): 100%|██████████| 24/24 [00:04<00:00,  5.77it/s]\n"
     ]
    },
    {
     "name": "stdout",
     "output_type": "stream",
     "text": [
      "                   all        381       1597      0.689      0.656      0.702      0.349\n",
      "\n",
      "      Epoch    GPU_mem   box_loss   cls_loss   dfl_loss  Instances       Size\n"
     ]
    },
    {
     "name": "stderr",
     "output_type": "stream",
     "text": [
      "     14/100      1.22G      1.657      1.361      1.371         13        640: 100%|██████████| 98/98 [00:22<00:00,  4.27it/s]\n",
      "                 Class     Images  Instances      Box(P          R      mAP50  mAP50-95): 100%|██████████| 24/24 [00:07<00:00,  3.39it/s]"
     ]
    },
    {
     "name": "stdout",
     "output_type": "stream",
     "text": [
      "                   all        381       1597      0.723      0.626      0.685      0.337\n"
     ]
    },
    {
     "name": "stderr",
     "output_type": "stream",
     "text": [
      "\n"
     ]
    },
    {
     "name": "stdout",
     "output_type": "stream",
     "text": [
      "\n",
      "      Epoch    GPU_mem   box_loss   cls_loss   dfl_loss  Instances       Size\n"
     ]
    },
    {
     "name": "stderr",
     "output_type": "stream",
     "text": [
      "     15/100      1.18G      1.641      1.307       1.38          3        640: 100%|██████████| 98/98 [00:22<00:00,  4.45it/s]\n",
      "                 Class     Images  Instances      Box(P          R      mAP50  mAP50-95): 100%|██████████| 24/24 [00:04<00:00,  5.49it/s]\n"
     ]
    },
    {
     "name": "stdout",
     "output_type": "stream",
     "text": [
      "                   all        381       1597      0.718      0.671      0.728      0.364\n",
      "\n",
      "      Epoch    GPU_mem   box_loss   cls_loss   dfl_loss  Instances       Size\n"
     ]
    },
    {
     "name": "stderr",
     "output_type": "stream",
     "text": [
      "     16/100      1.23G      1.643       1.31      1.385          4        640: 100%|██████████| 98/98 [00:21<00:00,  4.46it/s]\n",
      "                 Class     Images  Instances      Box(P          R      mAP50  mAP50-95): 100%|██████████| 24/24 [00:07<00:00,  3.36it/s]\n"
     ]
    },
    {
     "name": "stdout",
     "output_type": "stream",
     "text": [
      "                   all        381       1597      0.698      0.672      0.713      0.359\n",
      "\n",
      "      Epoch    GPU_mem   box_loss   cls_loss   dfl_loss  Instances       Size\n"
     ]
    },
    {
     "name": "stderr",
     "output_type": "stream",
     "text": [
      "     17/100      1.23G      1.615      1.296       1.37          4        640: 100%|██████████| 98/98 [00:21<00:00,  4.50it/s]\n",
      "                 Class     Images  Instances      Box(P          R      mAP50  mAP50-95): 100%|██████████| 24/24 [00:04<00:00,  5.60it/s]"
     ]
    },
    {
     "name": "stdout",
     "output_type": "stream",
     "text": [
      "                   all        381       1597      0.702      0.635      0.695      0.347\n"
     ]
    },
    {
     "name": "stderr",
     "output_type": "stream",
     "text": [
      "\n"
     ]
    },
    {
     "name": "stdout",
     "output_type": "stream",
     "text": [
      "\n",
      "      Epoch    GPU_mem   box_loss   cls_loss   dfl_loss  Instances       Size\n"
     ]
    },
    {
     "name": "stderr",
     "output_type": "stream",
     "text": [
      "     18/100      1.22G      1.615      1.265      1.359          8        640: 100%|██████████| 98/98 [00:22<00:00,  4.41it/s]\n",
      "                 Class     Images  Instances      Box(P          R      mAP50  mAP50-95): 100%|██████████| 24/24 [00:06<00:00,  3.46it/s]"
     ]
    },
    {
     "name": "stdout",
     "output_type": "stream",
     "text": [
      "                   all        381       1597      0.733      0.702      0.746      0.391\n"
     ]
    },
    {
     "name": "stderr",
     "output_type": "stream",
     "text": [
      "\n"
     ]
    },
    {
     "name": "stdout",
     "output_type": "stream",
     "text": [
      "\n",
      "      Epoch    GPU_mem   box_loss   cls_loss   dfl_loss  Instances       Size\n"
     ]
    },
    {
     "name": "stderr",
     "output_type": "stream",
     "text": [
      "     19/100      1.21G      1.594      1.229      1.361          5        640: 100%|██████████| 98/98 [00:21<00:00,  4.55it/s]\n",
      "                 Class     Images  Instances      Box(P          R      mAP50  mAP50-95): 100%|██████████| 24/24 [00:04<00:00,  5.76it/s]\n"
     ]
    },
    {
     "name": "stdout",
     "output_type": "stream",
     "text": [
      "                   all        381       1597      0.705      0.691      0.739      0.383\n",
      "\n",
      "      Epoch    GPU_mem   box_loss   cls_loss   dfl_loss  Instances       Size\n"
     ]
    },
    {
     "name": "stderr",
     "output_type": "stream",
     "text": [
      "     20/100      1.21G      1.592      1.244      1.355          5        640: 100%|██████████| 98/98 [00:21<00:00,  4.50it/s]\n",
      "                 Class     Images  Instances      Box(P          R      mAP50  mAP50-95): 100%|██████████| 24/24 [00:06<00:00,  3.45it/s]"
     ]
    },
    {
     "name": "stdout",
     "output_type": "stream",
     "text": [
      "                   all        381       1597      0.729      0.658      0.732      0.375\n"
     ]
    },
    {
     "name": "stderr",
     "output_type": "stream",
     "text": [
      "\n"
     ]
    },
    {
     "name": "stdout",
     "output_type": "stream",
     "text": [
      "\n",
      "      Epoch    GPU_mem   box_loss   cls_loss   dfl_loss  Instances       Size\n"
     ]
    },
    {
     "name": "stderr",
     "output_type": "stream",
     "text": [
      "     21/100      1.23G      1.599      1.237      1.353          3        640: 100%|██████████| 98/98 [00:22<00:00,  4.45it/s]\n",
      "                 Class     Images  Instances      Box(P          R      mAP50  mAP50-95): 100%|██████████| 24/24 [00:04<00:00,  5.81it/s]\n"
     ]
    },
    {
     "name": "stdout",
     "output_type": "stream",
     "text": [
      "                   all        381       1597      0.706      0.694      0.743       0.37\n",
      "\n",
      "      Epoch    GPU_mem   box_loss   cls_loss   dfl_loss  Instances       Size\n"
     ]
    },
    {
     "name": "stderr",
     "output_type": "stream",
     "text": [
      "     22/100      1.22G      1.619      1.229      1.352         16        640: 100%|██████████| 98/98 [00:21<00:00,  4.51it/s]\n",
      "                 Class     Images  Instances      Box(P          R      mAP50  mAP50-95): 100%|██████████| 24/24 [00:06<00:00,  3.64it/s]"
     ]
    },
    {
     "name": "stdout",
     "output_type": "stream",
     "text": [
      "                   all        381       1597      0.748      0.681      0.752      0.379\n"
     ]
    },
    {
     "name": "stderr",
     "output_type": "stream",
     "text": [
      "\n"
     ]
    },
    {
     "name": "stdout",
     "output_type": "stream",
     "text": [
      "\n",
      "      Epoch    GPU_mem   box_loss   cls_loss   dfl_loss  Instances       Size\n"
     ]
    },
    {
     "name": "stderr",
     "output_type": "stream",
     "text": [
      "     23/100      1.21G      1.571      1.192      1.328          4        640: 100%|██████████| 98/98 [00:22<00:00,  4.41it/s]\n",
      "                 Class     Images  Instances      Box(P          R      mAP50  mAP50-95): 100%|██████████| 24/24 [00:04<00:00,  5.65it/s]\n"
     ]
    },
    {
     "name": "stdout",
     "output_type": "stream",
     "text": [
      "                   all        381       1597      0.744      0.679       0.75      0.382\n",
      "\n",
      "      Epoch    GPU_mem   box_loss   cls_loss   dfl_loss  Instances       Size\n"
     ]
    },
    {
     "name": "stderr",
     "output_type": "stream",
     "text": [
      "     24/100       1.2G      1.577      1.221      1.331          4        640: 100%|██████████| 98/98 [00:21<00:00,  4.55it/s]\n",
      "                 Class     Images  Instances      Box(P          R      mAP50  mAP50-95): 100%|██████████| 24/24 [00:06<00:00,  3.58it/s]"
     ]
    },
    {
     "name": "stdout",
     "output_type": "stream",
     "text": [
      "                   all        381       1597      0.739      0.673      0.748      0.383\n"
     ]
    },
    {
     "name": "stderr",
     "output_type": "stream",
     "text": [
      "\n"
     ]
    },
    {
     "name": "stdout",
     "output_type": "stream",
     "text": [
      "\n",
      "      Epoch    GPU_mem   box_loss   cls_loss   dfl_loss  Instances       Size\n"
     ]
    },
    {
     "name": "stderr",
     "output_type": "stream",
     "text": [
      "     25/100      1.22G      1.549      1.176      1.308          7        640: 100%|██████████| 98/98 [00:22<00:00,  4.30it/s]\n",
      "                 Class     Images  Instances      Box(P          R      mAP50  mAP50-95): 100%|██████████| 24/24 [00:04<00:00,  5.87it/s]\n"
     ]
    },
    {
     "name": "stdout",
     "output_type": "stream",
     "text": [
      "                   all        381       1597      0.728      0.712      0.765      0.398\n",
      "\n",
      "      Epoch    GPU_mem   box_loss   cls_loss   dfl_loss  Instances       Size\n"
     ]
    },
    {
     "name": "stderr",
     "output_type": "stream",
     "text": [
      "     26/100      1.22G      1.572       1.17       1.34          4        640: 100%|██████████| 98/98 [00:21<00:00,  4.50it/s]\n",
      "                 Class     Images  Instances      Box(P          R      mAP50  mAP50-95): 100%|██████████| 24/24 [00:06<00:00,  3.77it/s]"
     ]
    },
    {
     "name": "stdout",
     "output_type": "stream",
     "text": [
      "                   all        381       1597      0.736      0.699       0.76      0.404\n"
     ]
    },
    {
     "name": "stderr",
     "output_type": "stream",
     "text": [
      "\n"
     ]
    },
    {
     "name": "stdout",
     "output_type": "stream",
     "text": [
      "\n",
      "      Epoch    GPU_mem   box_loss   cls_loss   dfl_loss  Instances       Size\n"
     ]
    },
    {
     "name": "stderr",
     "output_type": "stream",
     "text": [
      "     27/100      1.21G      1.564      1.179      1.335         10        640: 100%|██████████| 98/98 [00:22<00:00,  4.41it/s]\n",
      "                 Class     Images  Instances      Box(P          R      mAP50  mAP50-95): 100%|██████████| 24/24 [00:04<00:00,  5.69it/s]\n"
     ]
    },
    {
     "name": "stdout",
     "output_type": "stream",
     "text": [
      "                   all        381       1597      0.732       0.69      0.759      0.394\n",
      "\n",
      "      Epoch    GPU_mem   box_loss   cls_loss   dfl_loss  Instances       Size\n"
     ]
    },
    {
     "name": "stderr",
     "output_type": "stream",
     "text": [
      "     28/100      1.22G      1.552      1.153      1.326          9        640: 100%|██████████| 98/98 [00:21<00:00,  4.60it/s]\n",
      "                 Class     Images  Instances      Box(P          R      mAP50  mAP50-95): 100%|██████████| 24/24 [00:06<00:00,  3.87it/s]"
     ]
    },
    {
     "name": "stdout",
     "output_type": "stream",
     "text": [
      "                   all        381       1597      0.763      0.658      0.749      0.384\n"
     ]
    },
    {
     "name": "stderr",
     "output_type": "stream",
     "text": [
      "\n"
     ]
    },
    {
     "name": "stdout",
     "output_type": "stream",
     "text": [
      "\n",
      "      Epoch    GPU_mem   box_loss   cls_loss   dfl_loss  Instances       Size\n"
     ]
    },
    {
     "name": "stderr",
     "output_type": "stream",
     "text": [
      "     29/100      1.22G      1.557      1.165      1.318          6        640: 100%|██████████| 98/98 [00:22<00:00,  4.36it/s]\n",
      "                 Class     Images  Instances      Box(P          R      mAP50  mAP50-95): 100%|██████████| 24/24 [00:04<00:00,  5.67it/s]"
     ]
    },
    {
     "name": "stdout",
     "output_type": "stream",
     "text": [
      "                   all        381       1597      0.705      0.682      0.744      0.387\n"
     ]
    },
    {
     "name": "stderr",
     "output_type": "stream",
     "text": [
      "\n"
     ]
    },
    {
     "name": "stdout",
     "output_type": "stream",
     "text": [
      "\n",
      "      Epoch    GPU_mem   box_loss   cls_loss   dfl_loss  Instances       Size\n"
     ]
    },
    {
     "name": "stderr",
     "output_type": "stream",
     "text": [
      "     30/100      1.29G       1.54       1.14      1.307         11        640: 100%|██████████| 98/98 [00:21<00:00,  4.54it/s]\n",
      "                 Class     Images  Instances      Box(P          R      mAP50  mAP50-95): 100%|██████████| 24/24 [00:06<00:00,  3.98it/s]"
     ]
    },
    {
     "name": "stdout",
     "output_type": "stream",
     "text": [
      "                   all        381       1597      0.767      0.675      0.763      0.408\n"
     ]
    },
    {
     "name": "stderr",
     "output_type": "stream",
     "text": [
      "\n"
     ]
    },
    {
     "name": "stdout",
     "output_type": "stream",
     "text": [
      "\n",
      "      Epoch    GPU_mem   box_loss   cls_loss   dfl_loss  Instances       Size\n"
     ]
    },
    {
     "name": "stderr",
     "output_type": "stream",
     "text": [
      "     31/100      1.21G      1.531      1.122      1.319          5        640: 100%|██████████| 98/98 [00:22<00:00,  4.26it/s]\n",
      "                 Class     Images  Instances      Box(P          R      mAP50  mAP50-95): 100%|██████████| 24/24 [00:04<00:00,  5.74it/s]\n"
     ]
    },
    {
     "name": "stdout",
     "output_type": "stream",
     "text": [
      "                   all        381       1597      0.751      0.702       0.77      0.412\n",
      "\n",
      "      Epoch    GPU_mem   box_loss   cls_loss   dfl_loss  Instances       Size\n"
     ]
    },
    {
     "name": "stderr",
     "output_type": "stream",
     "text": [
      "     32/100      1.22G      1.499      1.085      1.285          7        640: 100%|██████████| 98/98 [00:21<00:00,  4.57it/s]\n",
      "                 Class     Images  Instances      Box(P          R      mAP50  mAP50-95): 100%|██████████| 24/24 [00:06<00:00,  3.91it/s]"
     ]
    },
    {
     "name": "stdout",
     "output_type": "stream",
     "text": [
      "                   all        381       1597      0.719      0.733      0.769      0.409\n"
     ]
    },
    {
     "name": "stderr",
     "output_type": "stream",
     "text": [
      "\n"
     ]
    },
    {
     "name": "stdout",
     "output_type": "stream",
     "text": [
      "\n",
      "      Epoch    GPU_mem   box_loss   cls_loss   dfl_loss  Instances       Size\n"
     ]
    },
    {
     "name": "stderr",
     "output_type": "stream",
     "text": [
      "     33/100      1.28G      1.535      1.142      1.301          2        640: 100%|██████████| 98/98 [00:22<00:00,  4.32it/s]\n",
      "                 Class     Images  Instances      Box(P          R      mAP50  mAP50-95): 100%|██████████| 24/24 [00:04<00:00,  5.70it/s]"
     ]
    },
    {
     "name": "stdout",
     "output_type": "stream",
     "text": [
      "                   all        381       1597       0.75      0.684      0.753      0.386\n"
     ]
    },
    {
     "name": "stderr",
     "output_type": "stream",
     "text": [
      "\n"
     ]
    },
    {
     "name": "stdout",
     "output_type": "stream",
     "text": [
      "\n",
      "      Epoch    GPU_mem   box_loss   cls_loss   dfl_loss  Instances       Size\n"
     ]
    },
    {
     "name": "stderr",
     "output_type": "stream",
     "text": [
      "     34/100      1.26G      1.504      1.111      1.282          9        640: 100%|██████████| 98/98 [00:21<00:00,  4.49it/s]\n",
      "                 Class     Images  Instances      Box(P          R      mAP50  mAP50-95): 100%|██████████| 24/24 [00:05<00:00,  4.18it/s]"
     ]
    },
    {
     "name": "stdout",
     "output_type": "stream",
     "text": [
      "                   all        381       1597      0.733      0.717      0.759      0.399\n"
     ]
    },
    {
     "name": "stderr",
     "output_type": "stream",
     "text": [
      "\n"
     ]
    },
    {
     "name": "stdout",
     "output_type": "stream",
     "text": [
      "\n",
      "      Epoch    GPU_mem   box_loss   cls_loss   dfl_loss  Instances       Size\n"
     ]
    },
    {
     "name": "stderr",
     "output_type": "stream",
     "text": [
      "     35/100      1.21G      1.469      1.119      1.263          0        640: 100%|██████████| 98/98 [00:22<00:00,  4.41it/s]\n",
      "                 Class     Images  Instances      Box(P          R      mAP50  mAP50-95): 100%|██████████| 24/24 [00:04<00:00,  5.75it/s]"
     ]
    },
    {
     "name": "stdout",
     "output_type": "stream",
     "text": [
      "                   all        381       1597      0.734      0.699      0.765      0.405\n"
     ]
    },
    {
     "name": "stderr",
     "output_type": "stream",
     "text": [
      "\n"
     ]
    },
    {
     "name": "stdout",
     "output_type": "stream",
     "text": [
      "\n",
      "      Epoch    GPU_mem   box_loss   cls_loss   dfl_loss  Instances       Size\n"
     ]
    },
    {
     "name": "stderr",
     "output_type": "stream",
     "text": [
      "     36/100      1.22G      1.525      1.119      1.303          9        640: 100%|██████████| 98/98 [00:21<00:00,  4.55it/s]\n",
      "                 Class     Images  Instances      Box(P          R      mAP50  mAP50-95): 100%|██████████| 24/24 [00:07<00:00,  3.40it/s]"
     ]
    },
    {
     "name": "stdout",
     "output_type": "stream",
     "text": [
      "                   all        381       1597       0.76      0.695      0.768      0.397\n"
     ]
    },
    {
     "name": "stderr",
     "output_type": "stream",
     "text": [
      "\n"
     ]
    },
    {
     "name": "stdout",
     "output_type": "stream",
     "text": [
      "\n",
      "      Epoch    GPU_mem   box_loss   cls_loss   dfl_loss  Instances       Size\n"
     ]
    },
    {
     "name": "stderr",
     "output_type": "stream",
     "text": [
      "     37/100      1.21G      1.514      1.119      1.298          1        640: 100%|██████████| 98/98 [00:21<00:00,  4.48it/s]\n",
      "                 Class     Images  Instances      Box(P          R      mAP50  mAP50-95): 100%|██████████| 24/24 [00:04<00:00,  5.81it/s]"
     ]
    },
    {
     "name": "stdout",
     "output_type": "stream",
     "text": [
      "                   all        381       1597      0.739      0.728      0.783      0.419\n"
     ]
    },
    {
     "name": "stderr",
     "output_type": "stream",
     "text": [
      "\n"
     ]
    },
    {
     "name": "stdout",
     "output_type": "stream",
     "text": [
      "\n",
      "      Epoch    GPU_mem   box_loss   cls_loss   dfl_loss  Instances       Size\n"
     ]
    },
    {
     "name": "stderr",
     "output_type": "stream",
     "text": [
      "     38/100      1.24G      1.487      1.059      1.277          5        640: 100%|██████████| 98/98 [00:21<00:00,  4.59it/s]\n",
      "                 Class     Images  Instances      Box(P          R      mAP50  mAP50-95): 100%|██████████| 24/24 [00:07<00:00,  3.33it/s]"
     ]
    },
    {
     "name": "stdout",
     "output_type": "stream",
     "text": [
      "                   all        381       1597      0.757       0.71      0.783      0.417\n"
     ]
    },
    {
     "name": "stderr",
     "output_type": "stream",
     "text": [
      "\n"
     ]
    },
    {
     "name": "stdout",
     "output_type": "stream",
     "text": [
      "\n",
      "      Epoch    GPU_mem   box_loss   cls_loss   dfl_loss  Instances       Size\n"
     ]
    },
    {
     "name": "stderr",
     "output_type": "stream",
     "text": [
      "     39/100      1.21G      1.492      1.049      1.271          2        640: 100%|██████████| 98/98 [00:21<00:00,  4.59it/s]\n",
      "                 Class     Images  Instances      Box(P          R      mAP50  mAP50-95): 100%|██████████| 24/24 [00:04<00:00,  5.49it/s]"
     ]
    },
    {
     "name": "stdout",
     "output_type": "stream",
     "text": [
      "                   all        381       1597      0.743      0.714      0.778      0.423\n"
     ]
    },
    {
     "name": "stderr",
     "output_type": "stream",
     "text": [
      "\n"
     ]
    },
    {
     "name": "stdout",
     "output_type": "stream",
     "text": [
      "\n",
      "      Epoch    GPU_mem   box_loss   cls_loss   dfl_loss  Instances       Size\n"
     ]
    },
    {
     "name": "stderr",
     "output_type": "stream",
     "text": [
      "     40/100      1.21G      1.505      1.065      1.285          4        640: 100%|██████████| 98/98 [00:22<00:00,  4.45it/s]\n",
      "                 Class     Images  Instances      Box(P          R      mAP50  mAP50-95): 100%|██████████| 24/24 [00:07<00:00,  3.40it/s]"
     ]
    },
    {
     "name": "stdout",
     "output_type": "stream",
     "text": [
      "                   all        381       1597      0.747      0.711      0.774      0.402\n"
     ]
    },
    {
     "name": "stderr",
     "output_type": "stream",
     "text": [
      "\n"
     ]
    },
    {
     "name": "stdout",
     "output_type": "stream",
     "text": [
      "\n",
      "      Epoch    GPU_mem   box_loss   cls_loss   dfl_loss  Instances       Size\n"
     ]
    },
    {
     "name": "stderr",
     "output_type": "stream",
     "text": [
      "     41/100      1.22G      1.476      1.039       1.27         12        640: 100%|██████████| 98/98 [00:21<00:00,  4.64it/s]\n",
      "                 Class     Images  Instances      Box(P          R      mAP50  mAP50-95): 100%|██████████| 24/24 [00:04<00:00,  5.69it/s]"
     ]
    },
    {
     "name": "stdout",
     "output_type": "stream",
     "text": [
      "                   all        381       1597      0.753      0.727       0.77      0.407\n"
     ]
    },
    {
     "name": "stderr",
     "output_type": "stream",
     "text": [
      "\n"
     ]
    },
    {
     "name": "stdout",
     "output_type": "stream",
     "text": [
      "\n",
      "      Epoch    GPU_mem   box_loss   cls_loss   dfl_loss  Instances       Size\n"
     ]
    },
    {
     "name": "stderr",
     "output_type": "stream",
     "text": [
      "     42/100      1.27G      1.484       1.05      1.271         16        640: 100%|██████████| 98/98 [00:22<00:00,  4.44it/s]\n",
      "                 Class     Images  Instances      Box(P          R      mAP50  mAP50-95): 100%|██████████| 24/24 [00:07<00:00,  3.35it/s]"
     ]
    },
    {
     "name": "stdout",
     "output_type": "stream",
     "text": [
      "                   all        381       1597      0.752       0.71      0.775      0.415\n"
     ]
    },
    {
     "name": "stderr",
     "output_type": "stream",
     "text": [
      "\n"
     ]
    },
    {
     "name": "stdout",
     "output_type": "stream",
     "text": [
      "\n",
      "      Epoch    GPU_mem   box_loss   cls_loss   dfl_loss  Instances       Size\n"
     ]
    },
    {
     "name": "stderr",
     "output_type": "stream",
     "text": [
      "     43/100      1.21G      1.465      1.017      1.254          5        640: 100%|██████████| 98/98 [00:21<00:00,  4.58it/s]\n",
      "                 Class     Images  Instances      Box(P          R      mAP50  mAP50-95): 100%|██████████| 24/24 [00:04<00:00,  5.66it/s]\n"
     ]
    },
    {
     "name": "stdout",
     "output_type": "stream",
     "text": [
      "                   all        381       1597      0.771      0.722      0.783      0.425\n",
      "\n",
      "      Epoch    GPU_mem   box_loss   cls_loss   dfl_loss  Instances       Size\n"
     ]
    },
    {
     "name": "stderr",
     "output_type": "stream",
     "text": [
      "     44/100      1.19G      1.476      1.012      1.262          4        640: 100%|██████████| 98/98 [00:22<00:00,  4.32it/s]\n",
      "                 Class     Images  Instances      Box(P          R      mAP50  mAP50-95): 100%|██████████| 24/24 [00:06<00:00,  3.48it/s]\n"
     ]
    },
    {
     "name": "stdout",
     "output_type": "stream",
     "text": [
      "                   all        381       1597      0.764      0.714      0.793      0.429\n",
      "\n",
      "      Epoch    GPU_mem   box_loss   cls_loss   dfl_loss  Instances       Size\n"
     ]
    },
    {
     "name": "stderr",
     "output_type": "stream",
     "text": [
      "     45/100      1.18G      1.469      1.042      1.251          3        640: 100%|██████████| 98/98 [00:21<00:00,  4.46it/s]\n",
      "                 Class     Images  Instances      Box(P          R      mAP50  mAP50-95): 100%|██████████| 24/24 [00:04<00:00,  5.79it/s]"
     ]
    },
    {
     "name": "stdout",
     "output_type": "stream",
     "text": [
      "                   all        381       1597      0.755      0.722      0.785      0.407\n"
     ]
    },
    {
     "name": "stderr",
     "output_type": "stream",
     "text": [
      "\n"
     ]
    },
    {
     "name": "stdout",
     "output_type": "stream",
     "text": [
      "\n",
      "      Epoch    GPU_mem   box_loss   cls_loss   dfl_loss  Instances       Size\n"
     ]
    },
    {
     "name": "stderr",
     "output_type": "stream",
     "text": [
      "     46/100      1.22G      1.449      1.023      1.268          8        640: 100%|██████████| 98/98 [00:23<00:00,  4.22it/s]\n",
      "                 Class     Images  Instances      Box(P          R      mAP50  mAP50-95): 100%|██████████| 24/24 [00:06<00:00,  3.75it/s]\n"
     ]
    },
    {
     "name": "stdout",
     "output_type": "stream",
     "text": [
      "                   all        381       1597      0.758      0.712      0.786      0.426\n",
      "\n",
      "      Epoch    GPU_mem   box_loss   cls_loss   dfl_loss  Instances       Size\n"
     ]
    },
    {
     "name": "stderr",
     "output_type": "stream",
     "text": [
      "     47/100      1.21G      1.438     0.9962      1.251          6        640: 100%|██████████| 98/98 [00:21<00:00,  4.54it/s]\n",
      "                 Class     Images  Instances      Box(P          R      mAP50  mAP50-95): 100%|██████████| 24/24 [00:04<00:00,  5.70it/s]"
     ]
    },
    {
     "name": "stdout",
     "output_type": "stream",
     "text": [
      "                   all        381       1597      0.756      0.709      0.778      0.424\n"
     ]
    },
    {
     "name": "stderr",
     "output_type": "stream",
     "text": [
      "\n"
     ]
    },
    {
     "name": "stdout",
     "output_type": "stream",
     "text": [
      "\n",
      "      Epoch    GPU_mem   box_loss   cls_loss   dfl_loss  Instances       Size\n"
     ]
    },
    {
     "name": "stderr",
     "output_type": "stream",
     "text": [
      "     48/100      1.21G      1.441     0.9908      1.242          2        640: 100%|██████████| 98/98 [00:22<00:00,  4.31it/s]\n",
      "                 Class     Images  Instances      Box(P          R      mAP50  mAP50-95): 100%|██████████| 24/24 [00:06<00:00,  3.58it/s]"
     ]
    },
    {
     "name": "stdout",
     "output_type": "stream",
     "text": [
      "                   all        381       1597      0.771      0.723      0.797      0.433\n"
     ]
    },
    {
     "name": "stderr",
     "output_type": "stream",
     "text": [
      "\n"
     ]
    },
    {
     "name": "stdout",
     "output_type": "stream",
     "text": [
      "\n",
      "      Epoch    GPU_mem   box_loss   cls_loss   dfl_loss  Instances       Size\n"
     ]
    },
    {
     "name": "stderr",
     "output_type": "stream",
     "text": [
      "     49/100      1.18G      1.432     0.9848       1.24          3        640: 100%|██████████| 98/98 [00:21<00:00,  4.58it/s]\n",
      "                 Class     Images  Instances      Box(P          R      mAP50  mAP50-95): 100%|██████████| 24/24 [00:04<00:00,  5.72it/s]\n"
     ]
    },
    {
     "name": "stdout",
     "output_type": "stream",
     "text": [
      "                   all        381       1597      0.769      0.732      0.795      0.419\n",
      "\n",
      "      Epoch    GPU_mem   box_loss   cls_loss   dfl_loss  Instances       Size\n"
     ]
    },
    {
     "name": "stderr",
     "output_type": "stream",
     "text": [
      "     50/100      1.18G       1.41     0.9957      1.249          1        640: 100%|██████████| 98/98 [00:23<00:00,  4.13it/s]\n",
      "                 Class     Images  Instances      Box(P          R      mAP50  mAP50-95): 100%|██████████| 24/24 [00:05<00:00,  4.49it/s]\n"
     ]
    },
    {
     "name": "stdout",
     "output_type": "stream",
     "text": [
      "                   all        381       1597      0.778      0.699      0.782      0.419\n",
      "\n",
      "      Epoch    GPU_mem   box_loss   cls_loss   dfl_loss  Instances       Size\n"
     ]
    },
    {
     "name": "stderr",
     "output_type": "stream",
     "text": [
      "     51/100      1.18G      1.405     0.9947      1.239          6        640: 100%|██████████| 98/98 [00:21<00:00,  4.49it/s]\n",
      "                 Class     Images  Instances      Box(P          R      mAP50  mAP50-95): 100%|██████████| 24/24 [00:04<00:00,  5.53it/s]\n"
     ]
    },
    {
     "name": "stdout",
     "output_type": "stream",
     "text": [
      "                   all        381       1597      0.776       0.72      0.796      0.434\n",
      "\n",
      "      Epoch    GPU_mem   box_loss   cls_loss   dfl_loss  Instances       Size\n"
     ]
    },
    {
     "name": "stderr",
     "output_type": "stream",
     "text": [
      "     52/100      1.21G      1.413     0.9677      1.246          4        640: 100%|██████████| 98/98 [00:23<00:00,  4.21it/s]\n",
      "                 Class     Images  Instances      Box(P          R      mAP50  mAP50-95): 100%|██████████| 24/24 [00:05<00:00,  4.73it/s]\n"
     ]
    },
    {
     "name": "stdout",
     "output_type": "stream",
     "text": [
      "                   all        381       1597      0.782       0.73      0.796       0.43\n",
      "\n",
      "      Epoch    GPU_mem   box_loss   cls_loss   dfl_loss  Instances       Size\n"
     ]
    },
    {
     "name": "stderr",
     "output_type": "stream",
     "text": [
      "     53/100      1.22G      1.405     0.9687      1.235         22        640: 100%|██████████| 98/98 [00:21<00:00,  4.55it/s]\n",
      "                 Class     Images  Instances      Box(P          R      mAP50  mAP50-95): 100%|██████████| 24/24 [00:04<00:00,  5.11it/s]\n"
     ]
    },
    {
     "name": "stdout",
     "output_type": "stream",
     "text": [
      "                   all        381       1597      0.795      0.732      0.804      0.439\n",
      "\n",
      "      Epoch    GPU_mem   box_loss   cls_loss   dfl_loss  Instances       Size\n"
     ]
    },
    {
     "name": "stderr",
     "output_type": "stream",
     "text": [
      "     54/100      1.22G      1.418       0.96      1.234          5        640: 100%|██████████| 98/98 [00:23<00:00,  4.25it/s]\n",
      "                 Class     Images  Instances      Box(P          R      mAP50  mAP50-95): 100%|██████████| 24/24 [00:04<00:00,  5.47it/s]"
     ]
    },
    {
     "name": "stdout",
     "output_type": "stream",
     "text": [
      "                   all        381       1597      0.769      0.706      0.795      0.433\n"
     ]
    },
    {
     "name": "stderr",
     "output_type": "stream",
     "text": [
      "\n"
     ]
    },
    {
     "name": "stdout",
     "output_type": "stream",
     "text": [
      "\n",
      "      Epoch    GPU_mem   box_loss   cls_loss   dfl_loss  Instances       Size\n"
     ]
    },
    {
     "name": "stderr",
     "output_type": "stream",
     "text": [
      "     55/100      1.21G      1.407     0.9691      1.228         13        640: 100%|██████████| 98/98 [00:21<00:00,  4.56it/s]\n",
      "                 Class     Images  Instances      Box(P          R      mAP50  mAP50-95): 100%|██████████| 24/24 [00:06<00:00,  3.78it/s]"
     ]
    },
    {
     "name": "stdout",
     "output_type": "stream",
     "text": [
      "                   all        381       1597      0.788      0.717      0.791      0.422\n"
     ]
    },
    {
     "name": "stderr",
     "output_type": "stream",
     "text": [
      "\n"
     ]
    },
    {
     "name": "stdout",
     "output_type": "stream",
     "text": [
      "\n",
      "      Epoch    GPU_mem   box_loss   cls_loss   dfl_loss  Instances       Size\n"
     ]
    },
    {
     "name": "stderr",
     "output_type": "stream",
     "text": [
      "     56/100      1.21G      1.378     0.9689      1.218          0        640: 100%|██████████| 98/98 [00:22<00:00,  4.42it/s]\n",
      "                 Class     Images  Instances      Box(P          R      mAP50  mAP50-95): 100%|██████████| 24/24 [00:04<00:00,  5.59it/s]"
     ]
    },
    {
     "name": "stdout",
     "output_type": "stream",
     "text": [
      "                   all        381       1597      0.748      0.728      0.786      0.424\n"
     ]
    },
    {
     "name": "stderr",
     "output_type": "stream",
     "text": [
      "\n"
     ]
    },
    {
     "name": "stdout",
     "output_type": "stream",
     "text": [
      "\n",
      "      Epoch    GPU_mem   box_loss   cls_loss   dfl_loss  Instances       Size\n"
     ]
    },
    {
     "name": "stderr",
     "output_type": "stream",
     "text": [
      "     57/100      1.21G      1.354     0.9357      1.214          3        640: 100%|██████████| 98/98 [00:21<00:00,  4.49it/s]\n",
      "                 Class     Images  Instances      Box(P          R      mAP50  mAP50-95): 100%|██████████| 24/24 [00:06<00:00,  3.70it/s]"
     ]
    },
    {
     "name": "stdout",
     "output_type": "stream",
     "text": [
      "                   all        381       1597      0.769       0.73      0.802       0.44\n"
     ]
    },
    {
     "name": "stderr",
     "output_type": "stream",
     "text": [
      "\n"
     ]
    },
    {
     "name": "stdout",
     "output_type": "stream",
     "text": [
      "\n",
      "      Epoch    GPU_mem   box_loss   cls_loss   dfl_loss  Instances       Size\n"
     ]
    },
    {
     "name": "stderr",
     "output_type": "stream",
     "text": [
      "     58/100      1.22G      1.374     0.9389      1.228          8        640: 100%|██████████| 98/98 [00:22<00:00,  4.42it/s]\n",
      "                 Class     Images  Instances      Box(P          R      mAP50  mAP50-95): 100%|██████████| 24/24 [00:04<00:00,  5.81it/s]\n"
     ]
    },
    {
     "name": "stdout",
     "output_type": "stream",
     "text": [
      "                   all        381       1597      0.759      0.744      0.804      0.437\n",
      "\n",
      "      Epoch    GPU_mem   box_loss   cls_loss   dfl_loss  Instances       Size\n"
     ]
    },
    {
     "name": "stderr",
     "output_type": "stream",
     "text": [
      "     59/100      1.21G      1.386     0.9082      1.225          8        640: 100%|██████████| 98/98 [00:21<00:00,  4.47it/s]\n",
      "                 Class     Images  Instances      Box(P          R      mAP50  mAP50-95): 100%|██████████| 24/24 [00:06<00:00,  3.45it/s]"
     ]
    },
    {
     "name": "stdout",
     "output_type": "stream",
     "text": [
      "                   all        381       1597      0.787      0.724      0.806      0.437\n"
     ]
    },
    {
     "name": "stderr",
     "output_type": "stream",
     "text": [
      "\n"
     ]
    },
    {
     "name": "stdout",
     "output_type": "stream",
     "text": [
      "\n",
      "      Epoch    GPU_mem   box_loss   cls_loss   dfl_loss  Instances       Size\n"
     ]
    },
    {
     "name": "stderr",
     "output_type": "stream",
     "text": [
      "     60/100      1.25G      1.367     0.9354      1.216         30        640: 100%|██████████| 98/98 [00:21<00:00,  4.51it/s]\n",
      "                 Class     Images  Instances      Box(P          R      mAP50  mAP50-95): 100%|██████████| 24/24 [00:04<00:00,  5.67it/s]"
     ]
    },
    {
     "name": "stdout",
     "output_type": "stream",
     "text": [
      "                   all        381       1597      0.793      0.715      0.804      0.439\n"
     ]
    },
    {
     "name": "stderr",
     "output_type": "stream",
     "text": [
      "\n"
     ]
    },
    {
     "name": "stdout",
     "output_type": "stream",
     "text": [
      "\n",
      "      Epoch    GPU_mem   box_loss   cls_loss   dfl_loss  Instances       Size\n"
     ]
    },
    {
     "name": "stderr",
     "output_type": "stream",
     "text": [
      "     61/100      1.21G      1.374     0.9346      1.226          2        640: 100%|██████████| 98/98 [00:22<00:00,  4.38it/s]\n",
      "                 Class     Images  Instances      Box(P          R      mAP50  mAP50-95): 100%|██████████| 24/24 [00:07<00:00,  3.41it/s]\n"
     ]
    },
    {
     "name": "stdout",
     "output_type": "stream",
     "text": [
      "                   all        381       1597      0.753      0.736      0.792       0.43\n",
      "\n",
      "      Epoch    GPU_mem   box_loss   cls_loss   dfl_loss  Instances       Size\n"
     ]
    },
    {
     "name": "stderr",
     "output_type": "stream",
     "text": [
      "     62/100      1.26G      1.336     0.9032      1.201         13        640: 100%|██████████| 98/98 [00:21<00:00,  4.52it/s]\n",
      "                 Class     Images  Instances      Box(P          R      mAP50  mAP50-95): 100%|██████████| 24/24 [00:04<00:00,  5.74it/s]\n"
     ]
    },
    {
     "name": "stdout",
     "output_type": "stream",
     "text": [
      "                   all        381       1597      0.754      0.745      0.797      0.432\n",
      "\n",
      "      Epoch    GPU_mem   box_loss   cls_loss   dfl_loss  Instances       Size\n"
     ]
    },
    {
     "name": "stderr",
     "output_type": "stream",
     "text": [
      "     63/100      1.21G       1.36     0.9135      1.198         15        640: 100%|██████████| 98/98 [00:23<00:00,  4.20it/s]\n",
      "                 Class     Images  Instances      Box(P          R      mAP50  mAP50-95): 100%|██████████| 24/24 [00:06<00:00,  3.75it/s]"
     ]
    },
    {
     "name": "stdout",
     "output_type": "stream",
     "text": [
      "                   all        381       1597      0.789      0.722      0.789      0.417\n"
     ]
    },
    {
     "name": "stderr",
     "output_type": "stream",
     "text": [
      "\n"
     ]
    },
    {
     "name": "stdout",
     "output_type": "stream",
     "text": [
      "\n",
      "      Epoch    GPU_mem   box_loss   cls_loss   dfl_loss  Instances       Size\n"
     ]
    },
    {
     "name": "stderr",
     "output_type": "stream",
     "text": [
      "     64/100      1.19G      1.352     0.9014      1.197          5        640: 100%|██████████| 98/98 [00:21<00:00,  4.52it/s]\n",
      "                 Class     Images  Instances      Box(P          R      mAP50  mAP50-95): 100%|██████████| 24/24 [00:04<00:00,  5.76it/s]"
     ]
    },
    {
     "name": "stdout",
     "output_type": "stream",
     "text": [
      "                   all        381       1597      0.772      0.738      0.809      0.449\n"
     ]
    },
    {
     "name": "stderr",
     "output_type": "stream",
     "text": [
      "\n"
     ]
    },
    {
     "name": "stdout",
     "output_type": "stream",
     "text": [
      "\n",
      "      Epoch    GPU_mem   box_loss   cls_loss   dfl_loss  Instances       Size\n"
     ]
    },
    {
     "name": "stderr",
     "output_type": "stream",
     "text": [
      "     65/100      1.22G      1.348     0.8928      1.196          6        640: 100%|██████████| 98/98 [00:22<00:00,  4.28it/s]\n",
      "                 Class     Images  Instances      Box(P          R      mAP50  mAP50-95): 100%|██████████| 24/24 [00:06<00:00,  3.72it/s]"
     ]
    },
    {
     "name": "stdout",
     "output_type": "stream",
     "text": [
      "                   all        381       1597      0.787      0.738      0.819      0.452\n"
     ]
    },
    {
     "name": "stderr",
     "output_type": "stream",
     "text": [
      "\n"
     ]
    },
    {
     "name": "stdout",
     "output_type": "stream",
     "text": [
      "\n",
      "      Epoch    GPU_mem   box_loss   cls_loss   dfl_loss  Instances       Size\n"
     ]
    },
    {
     "name": "stderr",
     "output_type": "stream",
     "text": [
      "     66/100      1.22G      1.354     0.9027      1.206          7        640: 100%|██████████| 98/98 [00:21<00:00,  4.47it/s]\n",
      "                 Class     Images  Instances      Box(P          R      mAP50  mAP50-95): 100%|██████████| 24/24 [00:04<00:00,  5.81it/s]"
     ]
    },
    {
     "name": "stdout",
     "output_type": "stream",
     "text": [
      "                   all        381       1597      0.765      0.747      0.804       0.44\n"
     ]
    },
    {
     "name": "stderr",
     "output_type": "stream",
     "text": [
      "\n"
     ]
    },
    {
     "name": "stdout",
     "output_type": "stream",
     "text": [
      "\n",
      "      Epoch    GPU_mem   box_loss   cls_loss   dfl_loss  Instances       Size\n"
     ]
    },
    {
     "name": "stderr",
     "output_type": "stream",
     "text": [
      "     67/100      1.21G      1.358     0.9003      1.217          2        640: 100%|██████████| 98/98 [00:23<00:00,  4.24it/s]\n",
      "                 Class     Images  Instances      Box(P          R      mAP50  mAP50-95): 100%|██████████| 24/24 [00:06<00:00,  3.91it/s]\n"
     ]
    },
    {
     "name": "stdout",
     "output_type": "stream",
     "text": [
      "                   all        381       1597      0.765      0.736        0.8      0.432\n",
      "\n",
      "      Epoch    GPU_mem   box_loss   cls_loss   dfl_loss  Instances       Size\n"
     ]
    },
    {
     "name": "stderr",
     "output_type": "stream",
     "text": [
      "     68/100      1.21G      1.328     0.8939      1.198          4        640: 100%|██████████| 98/98 [00:21<00:00,  4.48it/s]\n",
      "                 Class     Images  Instances      Box(P          R      mAP50  mAP50-95): 100%|██████████| 24/24 [00:04<00:00,  5.84it/s]\n"
     ]
    },
    {
     "name": "stdout",
     "output_type": "stream",
     "text": [
      "                   all        381       1597       0.78      0.742      0.814      0.448\n",
      "\n",
      "      Epoch    GPU_mem   box_loss   cls_loss   dfl_loss  Instances       Size\n"
     ]
    },
    {
     "name": "stderr",
     "output_type": "stream",
     "text": [
      "     69/100      1.22G      1.305     0.8662      1.179          6        640: 100%|██████████| 98/98 [00:23<00:00,  4.15it/s]\n",
      "                 Class     Images  Instances      Box(P          R      mAP50  mAP50-95): 100%|██████████| 24/24 [00:04<00:00,  5.45it/s]"
     ]
    },
    {
     "name": "stdout",
     "output_type": "stream",
     "text": [
      "                   all        381       1597      0.778      0.744      0.805      0.445\n"
     ]
    },
    {
     "name": "stderr",
     "output_type": "stream",
     "text": [
      "\n"
     ]
    },
    {
     "name": "stdout",
     "output_type": "stream",
     "text": [
      "\n",
      "      Epoch    GPU_mem   box_loss   cls_loss   dfl_loss  Instances       Size\n"
     ]
    },
    {
     "name": "stderr",
     "output_type": "stream",
     "text": [
      "     70/100      1.22G      1.334     0.8816      1.193          8        640: 100%|██████████| 98/98 [00:21<00:00,  4.56it/s]\n",
      "                 Class     Images  Instances      Box(P          R      mAP50  mAP50-95): 100%|██████████| 24/24 [00:05<00:00,  4.12it/s]\n"
     ]
    },
    {
     "name": "stdout",
     "output_type": "stream",
     "text": [
      "                   all        381       1597      0.783      0.729      0.809      0.442\n",
      "\n",
      "      Epoch    GPU_mem   box_loss   cls_loss   dfl_loss  Instances       Size\n"
     ]
    },
    {
     "name": "stderr",
     "output_type": "stream",
     "text": [
      "     71/100      1.19G      1.311        0.9      1.168          0        640: 100%|██████████| 98/98 [00:23<00:00,  4.15it/s]\n",
      "                 Class     Images  Instances      Box(P          R      mAP50  mAP50-95): 100%|██████████| 24/24 [00:04<00:00,  5.56it/s]"
     ]
    },
    {
     "name": "stdout",
     "output_type": "stream",
     "text": [
      "                   all        381       1597      0.784      0.758      0.815      0.449\n"
     ]
    },
    {
     "name": "stderr",
     "output_type": "stream",
     "text": [
      "\n"
     ]
    },
    {
     "name": "stdout",
     "output_type": "stream",
     "text": [
      "\n",
      "      Epoch    GPU_mem   box_loss   cls_loss   dfl_loss  Instances       Size\n"
     ]
    },
    {
     "name": "stderr",
     "output_type": "stream",
     "text": [
      "     72/100      1.22G      1.323     0.8631      1.186         14        640: 100%|██████████| 98/98 [00:22<00:00,  4.44it/s]\n",
      "                 Class     Images  Instances      Box(P          R      mAP50  mAP50-95): 100%|██████████| 24/24 [00:05<00:00,  4.26it/s]"
     ]
    },
    {
     "name": "stdout",
     "output_type": "stream",
     "text": [
      "                   all        381       1597      0.761      0.756      0.804      0.443\n"
     ]
    },
    {
     "name": "stderr",
     "output_type": "stream",
     "text": [
      "\n"
     ]
    },
    {
     "name": "stdout",
     "output_type": "stream",
     "text": [
      "\n",
      "      Epoch    GPU_mem   box_loss   cls_loss   dfl_loss  Instances       Size\n"
     ]
    },
    {
     "name": "stderr",
     "output_type": "stream",
     "text": [
      "     73/100      1.22G      1.318     0.8423      1.171          8        640: 100%|██████████| 98/98 [00:23<00:00,  4.19it/s]\n",
      "                 Class     Images  Instances      Box(P          R      mAP50  mAP50-95): 100%|██████████| 24/24 [00:04<00:00,  5.86it/s]"
     ]
    },
    {
     "name": "stdout",
     "output_type": "stream",
     "text": [
      "                   all        381       1597      0.783      0.742       0.81      0.441\n"
     ]
    },
    {
     "name": "stderr",
     "output_type": "stream",
     "text": [
      "\n"
     ]
    },
    {
     "name": "stdout",
     "output_type": "stream",
     "text": [
      "\n",
      "      Epoch    GPU_mem   box_loss   cls_loss   dfl_loss  Instances       Size\n"
     ]
    },
    {
     "name": "stderr",
     "output_type": "stream",
     "text": [
      "     74/100      1.21G      1.309     0.8354      1.183          3        640: 100%|██████████| 98/98 [00:21<00:00,  4.54it/s]\n",
      "                 Class     Images  Instances      Box(P          R      mAP50  mAP50-95): 100%|██████████| 24/24 [00:06<00:00,  3.97it/s]\n"
     ]
    },
    {
     "name": "stdout",
     "output_type": "stream",
     "text": [
      "                   all        381       1597      0.795      0.741      0.808      0.447\n",
      "\n",
      "      Epoch    GPU_mem   box_loss   cls_loss   dfl_loss  Instances       Size\n"
     ]
    },
    {
     "name": "stderr",
     "output_type": "stream",
     "text": [
      "     75/100      1.21G      1.327     0.8491      1.183          9        640: 100%|██████████| 98/98 [00:22<00:00,  4.43it/s]\n",
      "                 Class     Images  Instances      Box(P          R      mAP50  mAP50-95): 100%|██████████| 24/24 [00:04<00:00,  5.82it/s]"
     ]
    },
    {
     "name": "stdout",
     "output_type": "stream",
     "text": [
      "                   all        381       1597      0.782      0.747      0.803      0.445\n"
     ]
    },
    {
     "name": "stderr",
     "output_type": "stream",
     "text": [
      "\n"
     ]
    },
    {
     "name": "stdout",
     "output_type": "stream",
     "text": [
      "\n",
      "      Epoch    GPU_mem   box_loss   cls_loss   dfl_loss  Instances       Size\n"
     ]
    },
    {
     "name": "stderr",
     "output_type": "stream",
     "text": [
      "     76/100      1.21G      1.279     0.8541      1.162          0        640: 100%|██████████| 98/98 [00:21<00:00,  4.47it/s]\n",
      "                 Class     Images  Instances      Box(P          R      mAP50  mAP50-95): 100%|██████████| 24/24 [00:07<00:00,  3.43it/s]"
     ]
    },
    {
     "name": "stdout",
     "output_type": "stream",
     "text": [
      "                   all        381       1597      0.804      0.734      0.803      0.446\n"
     ]
    },
    {
     "name": "stderr",
     "output_type": "stream",
     "text": [
      "\n"
     ]
    },
    {
     "name": "stdout",
     "output_type": "stream",
     "text": [
      "\n",
      "      Epoch    GPU_mem   box_loss   cls_loss   dfl_loss  Instances       Size\n"
     ]
    },
    {
     "name": "stderr",
     "output_type": "stream",
     "text": [
      "     77/100      1.21G      1.303     0.8469      1.172          2        640: 100%|██████████| 98/98 [00:22<00:00,  4.29it/s]\n",
      "                 Class     Images  Instances      Box(P          R      mAP50  mAP50-95): 100%|██████████| 24/24 [00:04<00:00,  5.31it/s]"
     ]
    },
    {
     "name": "stdout",
     "output_type": "stream",
     "text": [
      "                   all        381       1597      0.798       0.74      0.816      0.453\n"
     ]
    },
    {
     "name": "stderr",
     "output_type": "stream",
     "text": [
      "\n"
     ]
    },
    {
     "name": "stdout",
     "output_type": "stream",
     "text": [
      "\n",
      "      Epoch    GPU_mem   box_loss   cls_loss   dfl_loss  Instances       Size\n"
     ]
    },
    {
     "name": "stderr",
     "output_type": "stream",
     "text": [
      "     78/100      1.23G      1.313     0.8415      1.179          4        640: 100%|██████████| 98/98 [00:23<00:00,  4.10it/s]\n",
      "                 Class     Images  Instances      Box(P          R      mAP50  mAP50-95): 100%|██████████| 24/24 [00:07<00:00,  3.30it/s]"
     ]
    },
    {
     "name": "stdout",
     "output_type": "stream",
     "text": [
      "                   all        381       1597      0.779      0.749      0.807      0.448\n"
     ]
    },
    {
     "name": "stderr",
     "output_type": "stream",
     "text": [
      "\n"
     ]
    },
    {
     "name": "stdout",
     "output_type": "stream",
     "text": [
      "\n",
      "      Epoch    GPU_mem   box_loss   cls_loss   dfl_loss  Instances       Size\n"
     ]
    },
    {
     "name": "stderr",
     "output_type": "stream",
     "text": [
      "     79/100      1.17G      1.275     0.8293      1.172          4        640: 100%|██████████| 98/98 [00:24<00:00,  4.04it/s]\n",
      "                 Class     Images  Instances      Box(P          R      mAP50  mAP50-95): 100%|██████████| 24/24 [00:05<00:00,  4.68it/s]"
     ]
    },
    {
     "name": "stdout",
     "output_type": "stream",
     "text": [
      "                   all        381       1597      0.784      0.737      0.804      0.448\n"
     ]
    },
    {
     "name": "stderr",
     "output_type": "stream",
     "text": [
      "\n"
     ]
    },
    {
     "name": "stdout",
     "output_type": "stream",
     "text": [
      "\n",
      "      Epoch    GPU_mem   box_loss   cls_loss   dfl_loss  Instances       Size\n"
     ]
    },
    {
     "name": "stderr",
     "output_type": "stream",
     "text": [
      "     80/100      1.22G      1.273     0.8159      1.173         11        640: 100%|██████████| 98/98 [00:26<00:00,  3.70it/s]\n",
      "                 Class     Images  Instances      Box(P          R      mAP50  mAP50-95): 100%|██████████| 24/24 [00:04<00:00,  5.08it/s]\n"
     ]
    },
    {
     "name": "stdout",
     "output_type": "stream",
     "text": [
      "                   all        381       1597      0.792      0.752      0.813      0.459\n",
      "\n",
      "      Epoch    GPU_mem   box_loss   cls_loss   dfl_loss  Instances       Size\n"
     ]
    },
    {
     "name": "stderr",
     "output_type": "stream",
     "text": [
      "     81/100      1.21G      1.267     0.8145      1.147          2        640: 100%|██████████| 98/98 [00:23<00:00,  4.16it/s]\n",
      "                 Class     Images  Instances      Box(P          R      mAP50  mAP50-95): 100%|██████████| 24/24 [00:06<00:00,  3.54it/s]"
     ]
    },
    {
     "name": "stdout",
     "output_type": "stream",
     "text": [
      "                   all        381       1597      0.769       0.75      0.805       0.45\n"
     ]
    },
    {
     "name": "stderr",
     "output_type": "stream",
     "text": [
      "\n"
     ]
    },
    {
     "name": "stdout",
     "output_type": "stream",
     "text": [
      "\n",
      "      Epoch    GPU_mem   box_loss   cls_loss   dfl_loss  Instances       Size\n"
     ]
    },
    {
     "name": "stderr",
     "output_type": "stream",
     "text": [
      "     82/100       1.2G      1.268     0.8365       1.14          1        640: 100%|██████████| 98/98 [00:24<00:00,  3.97it/s]\n",
      "                 Class     Images  Instances      Box(P          R      mAP50  mAP50-95): 100%|██████████| 24/24 [00:04<00:00,  5.36it/s]"
     ]
    },
    {
     "name": "stdout",
     "output_type": "stream",
     "text": [
      "                   all        381       1597      0.795      0.743      0.811      0.452\n"
     ]
    },
    {
     "name": "stderr",
     "output_type": "stream",
     "text": [
      "\n"
     ]
    },
    {
     "name": "stdout",
     "output_type": "stream",
     "text": [
      "\n",
      "      Epoch    GPU_mem   box_loss   cls_loss   dfl_loss  Instances       Size\n"
     ]
    },
    {
     "name": "stderr",
     "output_type": "stream",
     "text": [
      "     83/100      1.22G      1.287     0.8188      1.158          8        640: 100%|██████████| 98/98 [00:25<00:00,  3.92it/s]\n",
      "                 Class     Images  Instances      Box(P          R      mAP50  mAP50-95): 100%|██████████| 24/24 [00:06<00:00,  3.68it/s]"
     ]
    },
    {
     "name": "stdout",
     "output_type": "stream",
     "text": [
      "                   all        381       1597      0.806      0.729      0.811      0.451\n"
     ]
    },
    {
     "name": "stderr",
     "output_type": "stream",
     "text": [
      "\n"
     ]
    },
    {
     "name": "stdout",
     "output_type": "stream",
     "text": [
      "\n",
      "      Epoch    GPU_mem   box_loss   cls_loss   dfl_loss  Instances       Size\n"
     ]
    },
    {
     "name": "stderr",
     "output_type": "stream",
     "text": [
      "     84/100      1.19G      1.261     0.8038       1.15          7        640: 100%|██████████| 98/98 [00:22<00:00,  4.39it/s]\n",
      "                 Class     Images  Instances      Box(P          R      mAP50  mAP50-95): 100%|██████████| 24/24 [00:04<00:00,  5.62it/s]\n"
     ]
    },
    {
     "name": "stdout",
     "output_type": "stream",
     "text": [
      "                   all        381       1597      0.794      0.754      0.815      0.461\n",
      "\n",
      "      Epoch    GPU_mem   box_loss   cls_loss   dfl_loss  Instances       Size\n"
     ]
    },
    {
     "name": "stderr",
     "output_type": "stream",
     "text": [
      "     85/100      1.26G      1.232     0.7909      1.139          0        640: 100%|██████████| 98/98 [00:24<00:00,  4.02it/s]\n",
      "                 Class     Images  Instances      Box(P          R      mAP50  mAP50-95): 100%|██████████| 24/24 [00:05<00:00,  4.44it/s]"
     ]
    },
    {
     "name": "stdout",
     "output_type": "stream",
     "text": [
      "                   all        381       1597      0.803      0.745      0.804      0.447\n"
     ]
    },
    {
     "name": "stderr",
     "output_type": "stream",
     "text": [
      "\n"
     ]
    },
    {
     "name": "stdout",
     "output_type": "stream",
     "text": [
      "\n",
      "      Epoch    GPU_mem   box_loss   cls_loss   dfl_loss  Instances       Size\n"
     ]
    },
    {
     "name": "stderr",
     "output_type": "stream",
     "text": [
      "     86/100      1.23G      1.237     0.7768      1.132         11        640: 100%|██████████| 98/98 [00:22<00:00,  4.43it/s]\n",
      "                 Class     Images  Instances      Box(P          R      mAP50  mAP50-95): 100%|██████████| 24/24 [00:05<00:00,  4.13it/s]"
     ]
    },
    {
     "name": "stdout",
     "output_type": "stream",
     "text": [
      "                   all        381       1597      0.807      0.734      0.812      0.457\n"
     ]
    },
    {
     "name": "stderr",
     "output_type": "stream",
     "text": [
      "\n"
     ]
    },
    {
     "name": "stdout",
     "output_type": "stream",
     "text": [
      "\n",
      "      Epoch    GPU_mem   box_loss   cls_loss   dfl_loss  Instances       Size\n"
     ]
    },
    {
     "name": "stderr",
     "output_type": "stream",
     "text": [
      "     87/100      1.21G      1.226     0.7658      1.132          9        640: 100%|██████████| 98/98 [00:24<00:00,  4.04it/s]\n",
      "                 Class     Images  Instances      Box(P          R      mAP50  mAP50-95): 100%|██████████| 24/24 [00:04<00:00,  5.47it/s]"
     ]
    },
    {
     "name": "stdout",
     "output_type": "stream",
     "text": [
      "                   all        381       1597      0.802      0.751      0.816      0.462\n"
     ]
    },
    {
     "name": "stderr",
     "output_type": "stream",
     "text": [
      "\n"
     ]
    },
    {
     "name": "stdout",
     "output_type": "stream",
     "text": [
      "\n",
      "      Epoch    GPU_mem   box_loss   cls_loss   dfl_loss  Instances       Size\n"
     ]
    },
    {
     "name": "stderr",
     "output_type": "stream",
     "text": [
      "     88/100      1.23G      1.257     0.8082      1.142          1        640: 100%|██████████| 98/98 [00:22<00:00,  4.33it/s]\n",
      "                 Class     Images  Instances      Box(P          R      mAP50  mAP50-95): 100%|██████████| 24/24 [00:06<00:00,  3.54it/s]"
     ]
    },
    {
     "name": "stdout",
     "output_type": "stream",
     "text": [
      "                   all        381       1597      0.782      0.762      0.816      0.458\n"
     ]
    },
    {
     "name": "stderr",
     "output_type": "stream",
     "text": [
      "\n"
     ]
    },
    {
     "name": "stdout",
     "output_type": "stream",
     "text": [
      "\n",
      "      Epoch    GPU_mem   box_loss   cls_loss   dfl_loss  Instances       Size\n"
     ]
    },
    {
     "name": "stderr",
     "output_type": "stream",
     "text": [
      "     89/100      1.21G      1.225     0.7609      1.126          4        640: 100%|██████████| 98/98 [00:22<00:00,  4.32it/s]\n",
      "                 Class     Images  Instances      Box(P          R      mAP50  mAP50-95): 100%|██████████| 24/24 [00:04<00:00,  5.58it/s]\n"
     ]
    },
    {
     "name": "stdout",
     "output_type": "stream",
     "text": [
      "                   all        381       1597      0.794       0.75      0.817      0.459\n",
      "\n",
      "      Epoch    GPU_mem   box_loss   cls_loss   dfl_loss  Instances       Size\n"
     ]
    },
    {
     "name": "stderr",
     "output_type": "stream",
     "text": [
      "     90/100      1.19G      1.229     0.8279      1.121          0        640: 100%|██████████| 98/98 [00:22<00:00,  4.27it/s]\n",
      "                 Class     Images  Instances      Box(P          R      mAP50  mAP50-95): 100%|██████████| 24/24 [00:07<00:00,  3.16it/s]"
     ]
    },
    {
     "name": "stdout",
     "output_type": "stream",
     "text": [
      "                   all        381       1597      0.794      0.755      0.819      0.464\n"
     ]
    },
    {
     "name": "stderr",
     "output_type": "stream",
     "text": [
      "\n"
     ]
    },
    {
     "name": "stdout",
     "output_type": "stream",
     "text": [
      "Closing dataloader mosaic\n",
      "\u001b[34m\u001b[1malbumentations: \u001b[0mBlur(p=0.01, blur_limit=(3, 7)), MedianBlur(p=0.01, blur_limit=(3, 7)), ToGray(p=0.01, num_output_channels=3, method='weighted_average'), CLAHE(p=0.01, clip_limit=(1, 4.0), tile_grid_size=(8, 8))\n",
      "\n",
      "      Epoch    GPU_mem   box_loss   cls_loss   dfl_loss  Instances       Size\n"
     ]
    },
    {
     "name": "stderr",
     "output_type": "stream",
     "text": [
      "     91/100       1.2G      1.235      0.727      1.138          8        640: 100%|██████████| 98/98 [00:23<00:00,  4.23it/s]\n",
      "                 Class     Images  Instances      Box(P          R      mAP50  mAP50-95): 100%|██████████| 24/24 [00:04<00:00,  5.34it/s]"
     ]
    },
    {
     "name": "stdout",
     "output_type": "stream",
     "text": [
      "                   all        381       1597      0.789      0.737       0.81      0.455\n"
     ]
    },
    {
     "name": "stderr",
     "output_type": "stream",
     "text": [
      "\n"
     ]
    },
    {
     "name": "stdout",
     "output_type": "stream",
     "text": [
      "\n",
      "      Epoch    GPU_mem   box_loss   cls_loss   dfl_loss  Instances       Size\n"
     ]
    },
    {
     "name": "stderr",
     "output_type": "stream",
     "text": [
      "     92/100      1.21G      1.195     0.7032      1.109          6        640: 100%|██████████| 98/98 [00:23<00:00,  4.19it/s]\n",
      "                 Class     Images  Instances      Box(P          R      mAP50  mAP50-95): 100%|██████████| 24/24 [00:06<00:00,  3.65it/s]"
     ]
    },
    {
     "name": "stdout",
     "output_type": "stream",
     "text": [
      "                   all        381       1597      0.789      0.762       0.82      0.458\n"
     ]
    },
    {
     "name": "stderr",
     "output_type": "stream",
     "text": [
      "\n"
     ]
    },
    {
     "name": "stdout",
     "output_type": "stream",
     "text": [
      "\n",
      "      Epoch    GPU_mem   box_loss   cls_loss   dfl_loss  Instances       Size\n"
     ]
    },
    {
     "name": "stderr",
     "output_type": "stream",
     "text": [
      "     93/100      1.22G      1.184     0.6821      1.116         10        640: 100%|██████████| 98/98 [00:21<00:00,  4.50it/s]\n",
      "                 Class     Images  Instances      Box(P          R      mAP50  mAP50-95): 100%|██████████| 24/24 [00:04<00:00,  5.62it/s]"
     ]
    },
    {
     "name": "stdout",
     "output_type": "stream",
     "text": [
      "                   all        381       1597      0.795      0.745      0.817      0.458\n"
     ]
    },
    {
     "name": "stderr",
     "output_type": "stream",
     "text": [
      "\n"
     ]
    },
    {
     "name": "stdout",
     "output_type": "stream",
     "text": [
      "\n",
      "      Epoch    GPU_mem   box_loss   cls_loss   dfl_loss  Instances       Size\n"
     ]
    },
    {
     "name": "stderr",
     "output_type": "stream",
     "text": [
      "     94/100      1.22G      1.192     0.6811      1.115         12        640: 100%|██████████| 98/98 [00:23<00:00,  4.17it/s]\n",
      "                 Class     Images  Instances      Box(P          R      mAP50  mAP50-95): 100%|██████████| 24/24 [00:06<00:00,  3.57it/s]\n"
     ]
    },
    {
     "name": "stdout",
     "output_type": "stream",
     "text": [
      "                   all        381       1597      0.809      0.744      0.824      0.467\n",
      "\n",
      "      Epoch    GPU_mem   box_loss   cls_loss   dfl_loss  Instances       Size\n"
     ]
    },
    {
     "name": "stderr",
     "output_type": "stream",
     "text": [
      "     95/100      1.21G      1.192     0.6872      1.111         12        640: 100%|██████████| 98/98 [00:21<00:00,  4.49it/s]\n",
      "                 Class     Images  Instances      Box(P          R      mAP50  mAP50-95): 100%|██████████| 24/24 [00:04<00:00,  5.51it/s]"
     ]
    },
    {
     "name": "stdout",
     "output_type": "stream",
     "text": [
      "                   all        381       1597      0.794      0.753      0.818      0.462\n"
     ]
    },
    {
     "name": "stderr",
     "output_type": "stream",
     "text": [
      "\n"
     ]
    },
    {
     "name": "stdout",
     "output_type": "stream",
     "text": [
      "\n",
      "      Epoch    GPU_mem   box_loss   cls_loss   dfl_loss  Instances       Size\n"
     ]
    },
    {
     "name": "stderr",
     "output_type": "stream",
     "text": [
      "     96/100      1.21G      1.184     0.6712      1.111          2        640: 100%|██████████| 98/98 [00:23<00:00,  4.22it/s]\n",
      "                 Class     Images  Instances      Box(P          R      mAP50  mAP50-95): 100%|██████████| 24/24 [00:07<00:00,  3.31it/s]"
     ]
    },
    {
     "name": "stdout",
     "output_type": "stream",
     "text": [
      "                   all        381       1597      0.805      0.751      0.824      0.468\n"
     ]
    },
    {
     "name": "stderr",
     "output_type": "stream",
     "text": [
      "\n"
     ]
    },
    {
     "name": "stdout",
     "output_type": "stream",
     "text": [
      "\n",
      "      Epoch    GPU_mem   box_loss   cls_loss   dfl_loss  Instances       Size\n"
     ]
    },
    {
     "name": "stderr",
     "output_type": "stream",
     "text": [
      "     97/100      1.21G      1.171     0.6633      1.108          1        640: 100%|██████████| 98/98 [00:21<00:00,  4.53it/s]\n",
      "                 Class     Images  Instances      Box(P          R      mAP50  mAP50-95): 100%|██████████| 24/24 [00:04<00:00,  5.39it/s]"
     ]
    },
    {
     "name": "stdout",
     "output_type": "stream",
     "text": [
      "                   all        381       1597      0.788      0.767       0.83      0.463\n"
     ]
    },
    {
     "name": "stderr",
     "output_type": "stream",
     "text": [
      "\n"
     ]
    },
    {
     "name": "stdout",
     "output_type": "stream",
     "text": [
      "\n",
      "      Epoch    GPU_mem   box_loss   cls_loss   dfl_loss  Instances       Size\n"
     ]
    },
    {
     "name": "stderr",
     "output_type": "stream",
     "text": [
      "     98/100      1.21G      1.171      0.668      1.097          2        640: 100%|██████████| 98/98 [00:22<00:00,  4.28it/s]\n",
      "                 Class     Images  Instances      Box(P          R      mAP50  mAP50-95): 100%|██████████| 24/24 [00:06<00:00,  3.68it/s]"
     ]
    },
    {
     "name": "stdout",
     "output_type": "stream",
     "text": [
      "                   all        381       1597      0.789      0.765      0.832      0.465\n"
     ]
    },
    {
     "name": "stderr",
     "output_type": "stream",
     "text": [
      "\n"
     ]
    },
    {
     "name": "stdout",
     "output_type": "stream",
     "text": [
      "\n",
      "      Epoch    GPU_mem   box_loss   cls_loss   dfl_loss  Instances       Size\n"
     ]
    },
    {
     "name": "stderr",
     "output_type": "stream",
     "text": [
      "     99/100      1.21G      1.167     0.6717      1.107          5        640: 100%|██████████| 98/98 [00:21<00:00,  4.53it/s]\n",
      "                 Class     Images  Instances      Box(P          R      mAP50  mAP50-95): 100%|██████████| 24/24 [00:04<00:00,  5.66it/s]"
     ]
    },
    {
     "name": "stdout",
     "output_type": "stream",
     "text": [
      "                   all        381       1597      0.798      0.757      0.829      0.462\n"
     ]
    },
    {
     "name": "stderr",
     "output_type": "stream",
     "text": [
      "\n"
     ]
    },
    {
     "name": "stdout",
     "output_type": "stream",
     "text": [
      "\n",
      "      Epoch    GPU_mem   box_loss   cls_loss   dfl_loss  Instances       Size\n"
     ]
    },
    {
     "name": "stderr",
     "output_type": "stream",
     "text": [
      "    100/100      1.22G       1.16      0.661      1.095         10        640: 100%|██████████| 98/98 [00:23<00:00,  4.22it/s]\n",
      "                 Class     Images  Instances      Box(P          R      mAP50  mAP50-95): 100%|██████████| 24/24 [00:06<00:00,  3.92it/s]\n"
     ]
    },
    {
     "name": "stdout",
     "output_type": "stream",
     "text": [
      "                   all        381       1597      0.792      0.762      0.829      0.464\n",
      "\n",
      "100 epochs completed in 0.826 hours.\n",
      "Optimizer stripped from runs/detect/train2/weights/last.pt, 6.3MB\n",
      "Optimizer stripped from runs/detect/train2/weights/best.pt, 6.3MB\n",
      "\n",
      "Validating runs/detect/train2/weights/best.pt...\n",
      "Ultralytics 8.3.17 🚀 Python-3.10.12 torch-2.4.1+cu121 CUDA:0 (Tesla T4, 15102MiB)\n",
      "Model summary (fused): 168 layers, 3,006,038 parameters, 0 gradients, 8.1 GFLOPs\n"
     ]
    },
    {
     "name": "stderr",
     "output_type": "stream",
     "text": [
      "                 Class     Images  Instances      Box(P          R      mAP50  mAP50-95): 100%|██████████| 24/24 [00:06<00:00,  3.95it/s]\n"
     ]
    },
    {
     "name": "stdout",
     "output_type": "stream",
     "text": [
      "                   all        381       1597      0.805      0.752      0.824      0.468\n",
      "                  fire        311        828      0.839      0.801      0.864      0.458\n",
      "                 smoke        314        769       0.77      0.704      0.783      0.478\n",
      "Speed: 0.4ms preprocess, 3.3ms inference, 0.0ms loss, 2.9ms postprocess per image\n",
      "Results saved to \u001b[1mruns/detect/train2\u001b[0m\n"
     ]
    },
    {
     "data": {
      "application/vnd.jupyter.widget-view+json": {
       "model_id": "efff0ab61b1f41b9a1ff4e9a274017a6",
       "version_major": 2,
       "version_minor": 0
      },
      "text/plain": [
       "VBox(children=(Label(value='0.000 MB of 0.000 MB uploaded\\r'), FloatProgress(value=1.0, max=1.0)))"
      ]
     },
     "metadata": {},
     "output_type": "display_data"
    },
    {
     "data": {
      "text/html": [
       "<style>\n",
       "    table.wandb td:nth-child(1) { padding: 0 10px; text-align: left ; width: auto;} td:nth-child(2) {text-align: left ; width: 100%}\n",
       "    .wandb-row { display: flex; flex-direction: row; flex-wrap: wrap; justify-content: flex-start; width: 100% }\n",
       "    .wandb-col { display: flex; flex-direction: column; flex-basis: 100%; flex: 1; padding: 10px; }\n",
       "    </style>\n",
       "<div class=\"wandb-row\"><div class=\"wandb-col\"><h3>Run history:</h3><br/><table class=\"wandb\"><tr><td>lr/pg0</td><td>█▇▇▇▇▇▆▆▆▆▅▅▅▅▅▅▅▅▄▄▄▄▄▄▄▃▃▃▃▃▃▃▂▂▂▂▂▂▁▁</td></tr><tr><td>lr/pg1</td><td>▃████▇▇▇▇▇▆▆▆▆▆▅▅▅▅▅▅▄▄▄▄▃▃▃▃▃▃▂▂▂▂▂▂▁▁▁</td></tr><tr><td>lr/pg2</td><td>▆█████▇▇▇▇▇▆▆▆▆▆▆▆▆▅▅▅▅▄▄▄▄▄▄▃▃▃▃▃▂▂▂▁▁▁</td></tr><tr><td>metrics/mAP50(B)</td><td>▁▂▂▄▄▅▅▆▆▆▇▇▆▆▇▆▇▇▇▇▇▇▇█▇███████████████</td></tr><tr><td>metrics/mAP50-95(B)</td><td>▁▂▄▄▅▅▅▅▆▆▆▆▆▆▇▇▆▇▇▇▇▇▆█▇▇█▇▇▇██████████</td></tr><tr><td>metrics/precision(B)</td><td>▂▁▄▅▆▆▆▆▇▇▇▆▇▆▇▇▇▇▇█▇▇▇█▇▇▇█████████████</td></tr><tr><td>metrics/recall(B)</td><td>▁▄▄▅▅▆▆▆▆▇▆▇▇▇▇▇▇▇▇▇▇█▇██▇██████████████</td></tr><tr><td>model/GFLOPs</td><td>▁</td></tr><tr><td>model/parameters</td><td>▁</td></tr><tr><td>model/speed_PyTorch(ms)</td><td>▁</td></tr><tr><td>train/box_loss</td><td>█▇▆▆▆▅▅▅▅▅▄▄▄▄▄▄▃▄▃▃▃▃▃▃▃▃▂▂▂▂▂▂▂▂▁▁▁▁▁▁</td></tr><tr><td>train/cls_loss</td><td>█▆▅▄▄▄▄▃▃▃▃▃▃▃▃▃▂▂▂▂▂▂▂▂▂▂▂▂▂▂▂▂▂▁▁▁▁▁▁▁</td></tr><tr><td>train/dfl_loss</td><td>█▇▆▆▅▅▅▅▅▅▄▄▄▄▄▄▃▃▃▃▃▃▃▃▃▃▃▂▂▂▂▂▂▂▂▂▁▁▁▁</td></tr><tr><td>val/box_loss</td><td>█▇█▆▆▄▄▃▃▂▃▃▂▃▂▂▃▂▂▂▂▂▂▂▂▁▁▁▂▁▁▁▁▁▁▁▂▁▁▁</td></tr><tr><td>val/cls_loss</td><td>▄█▂▂▂▁▂▁▂▁▁▁▁▁▁▁▂▁▁▁▁▁▁▁▁▁▁▁▁▁▁▁▁▁▁▁▁▁▁▁</td></tr><tr><td>val/dfl_loss</td><td>█▅▄▄▄▃▃▄▂▃▂▂▂▂▂▂▂▂▂▂▂▂▁▂▁▂▁▁▁▂▁▁▁▁▁▁▁▁▁▁</td></tr></table><br/></div><div class=\"wandb-col\"><h3>Run summary:</h3><br/><table class=\"wandb\"><tr><td>lr/pg0</td><td>3e-05</td></tr><tr><td>lr/pg1</td><td>3e-05</td></tr><tr><td>lr/pg2</td><td>3e-05</td></tr><tr><td>metrics/mAP50(B)</td><td>0.82389</td></tr><tr><td>metrics/mAP50-95(B)</td><td>0.46792</td></tr><tr><td>metrics/precision(B)</td><td>0.80458</td></tr><tr><td>metrics/recall(B)</td><td>0.75245</td></tr><tr><td>model/GFLOPs</td><td>8.195</td></tr><tr><td>model/parameters</td><td>3011238</td></tr><tr><td>model/speed_PyTorch(ms)</td><td>3.494</td></tr><tr><td>train/box_loss</td><td>1.16027</td></tr><tr><td>train/cls_loss</td><td>0.66095</td></tr><tr><td>train/dfl_loss</td><td>1.09529</td></tr><tr><td>val/box_loss</td><td>1.4296</td></tr><tr><td>val/cls_loss</td><td>0.87028</td></tr><tr><td>val/dfl_loss</td><td>1.27424</td></tr></table><br/></div></div>"
      ],
      "text/plain": [
       "<IPython.core.display.HTML object>"
      ]
     },
     "metadata": {},
     "output_type": "display_data"
    },
    {
     "data": {
      "text/html": [
       "You can sync this run to the cloud by running:<br/><code>wandb sync /content/wandb/offline-run-20241019_160921-f5njkwhp<code>"
      ],
      "text/plain": [
       "<IPython.core.display.HTML object>"
      ]
     },
     "metadata": {},
     "output_type": "display_data"
    },
    {
     "data": {
      "text/html": [
       "Find logs at: <code>./wandb/offline-run-20241019_160921-f5njkwhp/logs</code>"
      ],
      "text/plain": [
       "<IPython.core.display.HTML object>"
      ]
     },
     "metadata": {},
     "output_type": "display_data"
    },
    {
     "data": {
      "text/plain": [
       "ultralytics.utils.metrics.DetMetrics object with attributes:\n",
       "\n",
       "ap_class_index: array([0, 1])\n",
       "box: ultralytics.utils.metrics.Metric object\n",
       "confusion_matrix: <ultralytics.utils.metrics.ConfusionMatrix object at 0x7a38f5757160>\n",
       "curves: ['Precision-Recall(B)', 'F1-Confidence(B)', 'Precision-Confidence(B)', 'Recall-Confidence(B)']\n",
       "curves_results: [[array([          0,    0.001001,    0.002002,    0.003003,    0.004004,    0.005005,    0.006006,    0.007007,    0.008008,    0.009009,     0.01001,    0.011011,    0.012012,    0.013013,    0.014014,    0.015015,    0.016016,    0.017017,    0.018018,    0.019019,     0.02002,    0.021021,    0.022022,    0.023023,\n",
       "          0.024024,    0.025025,    0.026026,    0.027027,    0.028028,    0.029029,     0.03003,    0.031031,    0.032032,    0.033033,    0.034034,    0.035035,    0.036036,    0.037037,    0.038038,    0.039039,     0.04004,    0.041041,    0.042042,    0.043043,    0.044044,    0.045045,    0.046046,    0.047047,\n",
       "          0.048048,    0.049049,     0.05005,    0.051051,    0.052052,    0.053053,    0.054054,    0.055055,    0.056056,    0.057057,    0.058058,    0.059059,     0.06006,    0.061061,    0.062062,    0.063063,    0.064064,    0.065065,    0.066066,    0.067067,    0.068068,    0.069069,     0.07007,    0.071071,\n",
       "          0.072072,    0.073073,    0.074074,    0.075075,    0.076076,    0.077077,    0.078078,    0.079079,     0.08008,    0.081081,    0.082082,    0.083083,    0.084084,    0.085085,    0.086086,    0.087087,    0.088088,    0.089089,     0.09009,    0.091091,    0.092092,    0.093093,    0.094094,    0.095095,\n",
       "          0.096096,    0.097097,    0.098098,    0.099099,      0.1001,      0.1011,      0.1021,      0.1031,      0.1041,     0.10511,     0.10611,     0.10711,     0.10811,     0.10911,     0.11011,     0.11111,     0.11211,     0.11311,     0.11411,     0.11512,     0.11612,     0.11712,     0.11812,     0.11912,\n",
       "           0.12012,     0.12112,     0.12212,     0.12312,     0.12412,     0.12513,     0.12613,     0.12713,     0.12813,     0.12913,     0.13013,     0.13113,     0.13213,     0.13313,     0.13413,     0.13514,     0.13614,     0.13714,     0.13814,     0.13914,     0.14014,     0.14114,     0.14214,     0.14314,\n",
       "           0.14414,     0.14515,     0.14615,     0.14715,     0.14815,     0.14915,     0.15015,     0.15115,     0.15215,     0.15315,     0.15415,     0.15516,     0.15616,     0.15716,     0.15816,     0.15916,     0.16016,     0.16116,     0.16216,     0.16316,     0.16416,     0.16517,     0.16617,     0.16717,\n",
       "           0.16817,     0.16917,     0.17017,     0.17117,     0.17217,     0.17317,     0.17417,     0.17518,     0.17618,     0.17718,     0.17818,     0.17918,     0.18018,     0.18118,     0.18218,     0.18318,     0.18418,     0.18519,     0.18619,     0.18719,     0.18819,     0.18919,     0.19019,     0.19119,\n",
       "           0.19219,     0.19319,     0.19419,      0.1952,      0.1962,      0.1972,      0.1982,      0.1992,      0.2002,      0.2012,      0.2022,      0.2032,      0.2042,     0.20521,     0.20621,     0.20721,     0.20821,     0.20921,     0.21021,     0.21121,     0.21221,     0.21321,     0.21421,     0.21522,\n",
       "           0.21622,     0.21722,     0.21822,     0.21922,     0.22022,     0.22122,     0.22222,     0.22322,     0.22422,     0.22523,     0.22623,     0.22723,     0.22823,     0.22923,     0.23023,     0.23123,     0.23223,     0.23323,     0.23423,     0.23524,     0.23624,     0.23724,     0.23824,     0.23924,\n",
       "           0.24024,     0.24124,     0.24224,     0.24324,     0.24424,     0.24525,     0.24625,     0.24725,     0.24825,     0.24925,     0.25025,     0.25125,     0.25225,     0.25325,     0.25425,     0.25526,     0.25626,     0.25726,     0.25826,     0.25926,     0.26026,     0.26126,     0.26226,     0.26326,\n",
       "           0.26426,     0.26527,     0.26627,     0.26727,     0.26827,     0.26927,     0.27027,     0.27127,     0.27227,     0.27327,     0.27427,     0.27528,     0.27628,     0.27728,     0.27828,     0.27928,     0.28028,     0.28128,     0.28228,     0.28328,     0.28428,     0.28529,     0.28629,     0.28729,\n",
       "           0.28829,     0.28929,     0.29029,     0.29129,     0.29229,     0.29329,     0.29429,      0.2953,      0.2963,      0.2973,      0.2983,      0.2993,      0.3003,      0.3013,      0.3023,      0.3033,      0.3043,     0.30531,     0.30631,     0.30731,     0.30831,     0.30931,     0.31031,     0.31131,\n",
       "           0.31231,     0.31331,     0.31431,     0.31532,     0.31632,     0.31732,     0.31832,     0.31932,     0.32032,     0.32132,     0.32232,     0.32332,     0.32432,     0.32533,     0.32633,     0.32733,     0.32833,     0.32933,     0.33033,     0.33133,     0.33233,     0.33333,     0.33433,     0.33534,\n",
       "           0.33634,     0.33734,     0.33834,     0.33934,     0.34034,     0.34134,     0.34234,     0.34334,     0.34434,     0.34535,     0.34635,     0.34735,     0.34835,     0.34935,     0.35035,     0.35135,     0.35235,     0.35335,     0.35435,     0.35536,     0.35636,     0.35736,     0.35836,     0.35936,\n",
       "           0.36036,     0.36136,     0.36236,     0.36336,     0.36436,     0.36537,     0.36637,     0.36737,     0.36837,     0.36937,     0.37037,     0.37137,     0.37237,     0.37337,     0.37437,     0.37538,     0.37638,     0.37738,     0.37838,     0.37938,     0.38038,     0.38138,     0.38238,     0.38338,\n",
       "           0.38438,     0.38539,     0.38639,     0.38739,     0.38839,     0.38939,     0.39039,     0.39139,     0.39239,     0.39339,     0.39439,      0.3954,      0.3964,      0.3974,      0.3984,      0.3994,      0.4004,      0.4014,      0.4024,      0.4034,      0.4044,     0.40541,     0.40641,     0.40741,\n",
       "           0.40841,     0.40941,     0.41041,     0.41141,     0.41241,     0.41341,     0.41441,     0.41542,     0.41642,     0.41742,     0.41842,     0.41942,     0.42042,     0.42142,     0.42242,     0.42342,     0.42442,     0.42543,     0.42643,     0.42743,     0.42843,     0.42943,     0.43043,     0.43143,\n",
       "           0.43243,     0.43343,     0.43443,     0.43544,     0.43644,     0.43744,     0.43844,     0.43944,     0.44044,     0.44144,     0.44244,     0.44344,     0.44444,     0.44545,     0.44645,     0.44745,     0.44845,     0.44945,     0.45045,     0.45145,     0.45245,     0.45345,     0.45445,     0.45546,\n",
       "           0.45646,     0.45746,     0.45846,     0.45946,     0.46046,     0.46146,     0.46246,     0.46346,     0.46446,     0.46547,     0.46647,     0.46747,     0.46847,     0.46947,     0.47047,     0.47147,     0.47247,     0.47347,     0.47447,     0.47548,     0.47648,     0.47748,     0.47848,     0.47948,\n",
       "           0.48048,     0.48148,     0.48248,     0.48348,     0.48448,     0.48549,     0.48649,     0.48749,     0.48849,     0.48949,     0.49049,     0.49149,     0.49249,     0.49349,     0.49449,      0.4955,      0.4965,      0.4975,      0.4985,      0.4995,      0.5005,      0.5015,      0.5025,      0.5035,\n",
       "            0.5045,     0.50551,     0.50651,     0.50751,     0.50851,     0.50951,     0.51051,     0.51151,     0.51251,     0.51351,     0.51451,     0.51552,     0.51652,     0.51752,     0.51852,     0.51952,     0.52052,     0.52152,     0.52252,     0.52352,     0.52452,     0.52553,     0.52653,     0.52753,\n",
       "           0.52853,     0.52953,     0.53053,     0.53153,     0.53253,     0.53353,     0.53453,     0.53554,     0.53654,     0.53754,     0.53854,     0.53954,     0.54054,     0.54154,     0.54254,     0.54354,     0.54454,     0.54555,     0.54655,     0.54755,     0.54855,     0.54955,     0.55055,     0.55155,\n",
       "           0.55255,     0.55355,     0.55455,     0.55556,     0.55656,     0.55756,     0.55856,     0.55956,     0.56056,     0.56156,     0.56256,     0.56356,     0.56456,     0.56557,     0.56657,     0.56757,     0.56857,     0.56957,     0.57057,     0.57157,     0.57257,     0.57357,     0.57457,     0.57558,\n",
       "           0.57658,     0.57758,     0.57858,     0.57958,     0.58058,     0.58158,     0.58258,     0.58358,     0.58458,     0.58559,     0.58659,     0.58759,     0.58859,     0.58959,     0.59059,     0.59159,     0.59259,     0.59359,     0.59459,      0.5956,      0.5966,      0.5976,      0.5986,      0.5996,\n",
       "            0.6006,      0.6016,      0.6026,      0.6036,      0.6046,     0.60561,     0.60661,     0.60761,     0.60861,     0.60961,     0.61061,     0.61161,     0.61261,     0.61361,     0.61461,     0.61562,     0.61662,     0.61762,     0.61862,     0.61962,     0.62062,     0.62162,     0.62262,     0.62362,\n",
       "           0.62462,     0.62563,     0.62663,     0.62763,     0.62863,     0.62963,     0.63063,     0.63163,     0.63263,     0.63363,     0.63463,     0.63564,     0.63664,     0.63764,     0.63864,     0.63964,     0.64064,     0.64164,     0.64264,     0.64364,     0.64464,     0.64565,     0.64665,     0.64765,\n",
       "           0.64865,     0.64965,     0.65065,     0.65165,     0.65265,     0.65365,     0.65465,     0.65566,     0.65666,     0.65766,     0.65866,     0.65966,     0.66066,     0.66166,     0.66266,     0.66366,     0.66466,     0.66567,     0.66667,     0.66767,     0.66867,     0.66967,     0.67067,     0.67167,\n",
       "           0.67267,     0.67367,     0.67467,     0.67568,     0.67668,     0.67768,     0.67868,     0.67968,     0.68068,     0.68168,     0.68268,     0.68368,     0.68468,     0.68569,     0.68669,     0.68769,     0.68869,     0.68969,     0.69069,     0.69169,     0.69269,     0.69369,     0.69469,      0.6957,\n",
       "            0.6967,      0.6977,      0.6987,      0.6997,      0.7007,      0.7017,      0.7027,      0.7037,      0.7047,     0.70571,     0.70671,     0.70771,     0.70871,     0.70971,     0.71071,     0.71171,     0.71271,     0.71371,     0.71471,     0.71572,     0.71672,     0.71772,     0.71872,     0.71972,\n",
       "           0.72072,     0.72172,     0.72272,     0.72372,     0.72472,     0.72573,     0.72673,     0.72773,     0.72873,     0.72973,     0.73073,     0.73173,     0.73273,     0.73373,     0.73473,     0.73574,     0.73674,     0.73774,     0.73874,     0.73974,     0.74074,     0.74174,     0.74274,     0.74374,\n",
       "           0.74474,     0.74575,     0.74675,     0.74775,     0.74875,     0.74975,     0.75075,     0.75175,     0.75275,     0.75375,     0.75475,     0.75576,     0.75676,     0.75776,     0.75876,     0.75976,     0.76076,     0.76176,     0.76276,     0.76376,     0.76476,     0.76577,     0.76677,     0.76777,\n",
       "           0.76877,     0.76977,     0.77077,     0.77177,     0.77277,     0.77377,     0.77477,     0.77578,     0.77678,     0.77778,     0.77878,     0.77978,     0.78078,     0.78178,     0.78278,     0.78378,     0.78478,     0.78579,     0.78679,     0.78779,     0.78879,     0.78979,     0.79079,     0.79179,\n",
       "           0.79279,     0.79379,     0.79479,      0.7958,      0.7968,      0.7978,      0.7988,      0.7998,      0.8008,      0.8018,      0.8028,      0.8038,      0.8048,     0.80581,     0.80681,     0.80781,     0.80881,     0.80981,     0.81081,     0.81181,     0.81281,     0.81381,     0.81481,     0.81582,\n",
       "           0.81682,     0.81782,     0.81882,     0.81982,     0.82082,     0.82182,     0.82282,     0.82382,     0.82482,     0.82583,     0.82683,     0.82783,     0.82883,     0.82983,     0.83083,     0.83183,     0.83283,     0.83383,     0.83483,     0.83584,     0.83684,     0.83784,     0.83884,     0.83984,\n",
       "           0.84084,     0.84184,     0.84284,     0.84384,     0.84484,     0.84585,     0.84685,     0.84785,     0.84885,     0.84985,     0.85085,     0.85185,     0.85285,     0.85385,     0.85485,     0.85586,     0.85686,     0.85786,     0.85886,     0.85986,     0.86086,     0.86186,     0.86286,     0.86386,\n",
       "           0.86486,     0.86587,     0.86687,     0.86787,     0.86887,     0.86987,     0.87087,     0.87187,     0.87287,     0.87387,     0.87487,     0.87588,     0.87688,     0.87788,     0.87888,     0.87988,     0.88088,     0.88188,     0.88288,     0.88388,     0.88488,     0.88589,     0.88689,     0.88789,\n",
       "           0.88889,     0.88989,     0.89089,     0.89189,     0.89289,     0.89389,     0.89489,      0.8959,      0.8969,      0.8979,      0.8989,      0.8999,      0.9009,      0.9019,      0.9029,      0.9039,      0.9049,     0.90591,     0.90691,     0.90791,     0.90891,     0.90991,     0.91091,     0.91191,\n",
       "           0.91291,     0.91391,     0.91491,     0.91592,     0.91692,     0.91792,     0.91892,     0.91992,     0.92092,     0.92192,     0.92292,     0.92392,     0.92492,     0.92593,     0.92693,     0.92793,     0.92893,     0.92993,     0.93093,     0.93193,     0.93293,     0.93393,     0.93493,     0.93594,\n",
       "           0.93694,     0.93794,     0.93894,     0.93994,     0.94094,     0.94194,     0.94294,     0.94394,     0.94494,     0.94595,     0.94695,     0.94795,     0.94895,     0.94995,     0.95095,     0.95195,     0.95295,     0.95395,     0.95495,     0.95596,     0.95696,     0.95796,     0.95896,     0.95996,\n",
       "           0.96096,     0.96196,     0.96296,     0.96396,     0.96496,     0.96597,     0.96697,     0.96797,     0.96897,     0.96997,     0.97097,     0.97197,     0.97297,     0.97397,     0.97497,     0.97598,     0.97698,     0.97798,     0.97898,     0.97998,     0.98098,     0.98198,     0.98298,     0.98398,\n",
       "           0.98498,     0.98599,     0.98699,     0.98799,     0.98899,     0.98999,     0.99099,     0.99199,     0.99299,     0.99399,     0.99499,       0.996,       0.997,       0.998,       0.999,           1]), array([[          1,           1,           1, ...,   0.0095993,   0.0047996,           0],\n",
       "       [          1,           1,           1, ...,    0.004588,    0.002294,           0]]), 'Recall', 'Precision'], [array([          0,    0.001001,    0.002002,    0.003003,    0.004004,    0.005005,    0.006006,    0.007007,    0.008008,    0.009009,     0.01001,    0.011011,    0.012012,    0.013013,    0.014014,    0.015015,    0.016016,    0.017017,    0.018018,    0.019019,     0.02002,    0.021021,    0.022022,    0.023023,\n",
       "          0.024024,    0.025025,    0.026026,    0.027027,    0.028028,    0.029029,     0.03003,    0.031031,    0.032032,    0.033033,    0.034034,    0.035035,    0.036036,    0.037037,    0.038038,    0.039039,     0.04004,    0.041041,    0.042042,    0.043043,    0.044044,    0.045045,    0.046046,    0.047047,\n",
       "          0.048048,    0.049049,     0.05005,    0.051051,    0.052052,    0.053053,    0.054054,    0.055055,    0.056056,    0.057057,    0.058058,    0.059059,     0.06006,    0.061061,    0.062062,    0.063063,    0.064064,    0.065065,    0.066066,    0.067067,    0.068068,    0.069069,     0.07007,    0.071071,\n",
       "          0.072072,    0.073073,    0.074074,    0.075075,    0.076076,    0.077077,    0.078078,    0.079079,     0.08008,    0.081081,    0.082082,    0.083083,    0.084084,    0.085085,    0.086086,    0.087087,    0.088088,    0.089089,     0.09009,    0.091091,    0.092092,    0.093093,    0.094094,    0.095095,\n",
       "          0.096096,    0.097097,    0.098098,    0.099099,      0.1001,      0.1011,      0.1021,      0.1031,      0.1041,     0.10511,     0.10611,     0.10711,     0.10811,     0.10911,     0.11011,     0.11111,     0.11211,     0.11311,     0.11411,     0.11512,     0.11612,     0.11712,     0.11812,     0.11912,\n",
       "           0.12012,     0.12112,     0.12212,     0.12312,     0.12412,     0.12513,     0.12613,     0.12713,     0.12813,     0.12913,     0.13013,     0.13113,     0.13213,     0.13313,     0.13413,     0.13514,     0.13614,     0.13714,     0.13814,     0.13914,     0.14014,     0.14114,     0.14214,     0.14314,\n",
       "           0.14414,     0.14515,     0.14615,     0.14715,     0.14815,     0.14915,     0.15015,     0.15115,     0.15215,     0.15315,     0.15415,     0.15516,     0.15616,     0.15716,     0.15816,     0.15916,     0.16016,     0.16116,     0.16216,     0.16316,     0.16416,     0.16517,     0.16617,     0.16717,\n",
       "           0.16817,     0.16917,     0.17017,     0.17117,     0.17217,     0.17317,     0.17417,     0.17518,     0.17618,     0.17718,     0.17818,     0.17918,     0.18018,     0.18118,     0.18218,     0.18318,     0.18418,     0.18519,     0.18619,     0.18719,     0.18819,     0.18919,     0.19019,     0.19119,\n",
       "           0.19219,     0.19319,     0.19419,      0.1952,      0.1962,      0.1972,      0.1982,      0.1992,      0.2002,      0.2012,      0.2022,      0.2032,      0.2042,     0.20521,     0.20621,     0.20721,     0.20821,     0.20921,     0.21021,     0.21121,     0.21221,     0.21321,     0.21421,     0.21522,\n",
       "           0.21622,     0.21722,     0.21822,     0.21922,     0.22022,     0.22122,     0.22222,     0.22322,     0.22422,     0.22523,     0.22623,     0.22723,     0.22823,     0.22923,     0.23023,     0.23123,     0.23223,     0.23323,     0.23423,     0.23524,     0.23624,     0.23724,     0.23824,     0.23924,\n",
       "           0.24024,     0.24124,     0.24224,     0.24324,     0.24424,     0.24525,     0.24625,     0.24725,     0.24825,     0.24925,     0.25025,     0.25125,     0.25225,     0.25325,     0.25425,     0.25526,     0.25626,     0.25726,     0.25826,     0.25926,     0.26026,     0.26126,     0.26226,     0.26326,\n",
       "           0.26426,     0.26527,     0.26627,     0.26727,     0.26827,     0.26927,     0.27027,     0.27127,     0.27227,     0.27327,     0.27427,     0.27528,     0.27628,     0.27728,     0.27828,     0.27928,     0.28028,     0.28128,     0.28228,     0.28328,     0.28428,     0.28529,     0.28629,     0.28729,\n",
       "           0.28829,     0.28929,     0.29029,     0.29129,     0.29229,     0.29329,     0.29429,      0.2953,      0.2963,      0.2973,      0.2983,      0.2993,      0.3003,      0.3013,      0.3023,      0.3033,      0.3043,     0.30531,     0.30631,     0.30731,     0.30831,     0.30931,     0.31031,     0.31131,\n",
       "           0.31231,     0.31331,     0.31431,     0.31532,     0.31632,     0.31732,     0.31832,     0.31932,     0.32032,     0.32132,     0.32232,     0.32332,     0.32432,     0.32533,     0.32633,     0.32733,     0.32833,     0.32933,     0.33033,     0.33133,     0.33233,     0.33333,     0.33433,     0.33534,\n",
       "           0.33634,     0.33734,     0.33834,     0.33934,     0.34034,     0.34134,     0.34234,     0.34334,     0.34434,     0.34535,     0.34635,     0.34735,     0.34835,     0.34935,     0.35035,     0.35135,     0.35235,     0.35335,     0.35435,     0.35536,     0.35636,     0.35736,     0.35836,     0.35936,\n",
       "           0.36036,     0.36136,     0.36236,     0.36336,     0.36436,     0.36537,     0.36637,     0.36737,     0.36837,     0.36937,     0.37037,     0.37137,     0.37237,     0.37337,     0.37437,     0.37538,     0.37638,     0.37738,     0.37838,     0.37938,     0.38038,     0.38138,     0.38238,     0.38338,\n",
       "           0.38438,     0.38539,     0.38639,     0.38739,     0.38839,     0.38939,     0.39039,     0.39139,     0.39239,     0.39339,     0.39439,      0.3954,      0.3964,      0.3974,      0.3984,      0.3994,      0.4004,      0.4014,      0.4024,      0.4034,      0.4044,     0.40541,     0.40641,     0.40741,\n",
       "           0.40841,     0.40941,     0.41041,     0.41141,     0.41241,     0.41341,     0.41441,     0.41542,     0.41642,     0.41742,     0.41842,     0.41942,     0.42042,     0.42142,     0.42242,     0.42342,     0.42442,     0.42543,     0.42643,     0.42743,     0.42843,     0.42943,     0.43043,     0.43143,\n",
       "           0.43243,     0.43343,     0.43443,     0.43544,     0.43644,     0.43744,     0.43844,     0.43944,     0.44044,     0.44144,     0.44244,     0.44344,     0.44444,     0.44545,     0.44645,     0.44745,     0.44845,     0.44945,     0.45045,     0.45145,     0.45245,     0.45345,     0.45445,     0.45546,\n",
       "           0.45646,     0.45746,     0.45846,     0.45946,     0.46046,     0.46146,     0.46246,     0.46346,     0.46446,     0.46547,     0.46647,     0.46747,     0.46847,     0.46947,     0.47047,     0.47147,     0.47247,     0.47347,     0.47447,     0.47548,     0.47648,     0.47748,     0.47848,     0.47948,\n",
       "           0.48048,     0.48148,     0.48248,     0.48348,     0.48448,     0.48549,     0.48649,     0.48749,     0.48849,     0.48949,     0.49049,     0.49149,     0.49249,     0.49349,     0.49449,      0.4955,      0.4965,      0.4975,      0.4985,      0.4995,      0.5005,      0.5015,      0.5025,      0.5035,\n",
       "            0.5045,     0.50551,     0.50651,     0.50751,     0.50851,     0.50951,     0.51051,     0.51151,     0.51251,     0.51351,     0.51451,     0.51552,     0.51652,     0.51752,     0.51852,     0.51952,     0.52052,     0.52152,     0.52252,     0.52352,     0.52452,     0.52553,     0.52653,     0.52753,\n",
       "           0.52853,     0.52953,     0.53053,     0.53153,     0.53253,     0.53353,     0.53453,     0.53554,     0.53654,     0.53754,     0.53854,     0.53954,     0.54054,     0.54154,     0.54254,     0.54354,     0.54454,     0.54555,     0.54655,     0.54755,     0.54855,     0.54955,     0.55055,     0.55155,\n",
       "           0.55255,     0.55355,     0.55455,     0.55556,     0.55656,     0.55756,     0.55856,     0.55956,     0.56056,     0.56156,     0.56256,     0.56356,     0.56456,     0.56557,     0.56657,     0.56757,     0.56857,     0.56957,     0.57057,     0.57157,     0.57257,     0.57357,     0.57457,     0.57558,\n",
       "           0.57658,     0.57758,     0.57858,     0.57958,     0.58058,     0.58158,     0.58258,     0.58358,     0.58458,     0.58559,     0.58659,     0.58759,     0.58859,     0.58959,     0.59059,     0.59159,     0.59259,     0.59359,     0.59459,      0.5956,      0.5966,      0.5976,      0.5986,      0.5996,\n",
       "            0.6006,      0.6016,      0.6026,      0.6036,      0.6046,     0.60561,     0.60661,     0.60761,     0.60861,     0.60961,     0.61061,     0.61161,     0.61261,     0.61361,     0.61461,     0.61562,     0.61662,     0.61762,     0.61862,     0.61962,     0.62062,     0.62162,     0.62262,     0.62362,\n",
       "           0.62462,     0.62563,     0.62663,     0.62763,     0.62863,     0.62963,     0.63063,     0.63163,     0.63263,     0.63363,     0.63463,     0.63564,     0.63664,     0.63764,     0.63864,     0.63964,     0.64064,     0.64164,     0.64264,     0.64364,     0.64464,     0.64565,     0.64665,     0.64765,\n",
       "           0.64865,     0.64965,     0.65065,     0.65165,     0.65265,     0.65365,     0.65465,     0.65566,     0.65666,     0.65766,     0.65866,     0.65966,     0.66066,     0.66166,     0.66266,     0.66366,     0.66466,     0.66567,     0.66667,     0.66767,     0.66867,     0.66967,     0.67067,     0.67167,\n",
       "           0.67267,     0.67367,     0.67467,     0.67568,     0.67668,     0.67768,     0.67868,     0.67968,     0.68068,     0.68168,     0.68268,     0.68368,     0.68468,     0.68569,     0.68669,     0.68769,     0.68869,     0.68969,     0.69069,     0.69169,     0.69269,     0.69369,     0.69469,      0.6957,\n",
       "            0.6967,      0.6977,      0.6987,      0.6997,      0.7007,      0.7017,      0.7027,      0.7037,      0.7047,     0.70571,     0.70671,     0.70771,     0.70871,     0.70971,     0.71071,     0.71171,     0.71271,     0.71371,     0.71471,     0.71572,     0.71672,     0.71772,     0.71872,     0.71972,\n",
       "           0.72072,     0.72172,     0.72272,     0.72372,     0.72472,     0.72573,     0.72673,     0.72773,     0.72873,     0.72973,     0.73073,     0.73173,     0.73273,     0.73373,     0.73473,     0.73574,     0.73674,     0.73774,     0.73874,     0.73974,     0.74074,     0.74174,     0.74274,     0.74374,\n",
       "           0.74474,     0.74575,     0.74675,     0.74775,     0.74875,     0.74975,     0.75075,     0.75175,     0.75275,     0.75375,     0.75475,     0.75576,     0.75676,     0.75776,     0.75876,     0.75976,     0.76076,     0.76176,     0.76276,     0.76376,     0.76476,     0.76577,     0.76677,     0.76777,\n",
       "           0.76877,     0.76977,     0.77077,     0.77177,     0.77277,     0.77377,     0.77477,     0.77578,     0.77678,     0.77778,     0.77878,     0.77978,     0.78078,     0.78178,     0.78278,     0.78378,     0.78478,     0.78579,     0.78679,     0.78779,     0.78879,     0.78979,     0.79079,     0.79179,\n",
       "           0.79279,     0.79379,     0.79479,      0.7958,      0.7968,      0.7978,      0.7988,      0.7998,      0.8008,      0.8018,      0.8028,      0.8038,      0.8048,     0.80581,     0.80681,     0.80781,     0.80881,     0.80981,     0.81081,     0.81181,     0.81281,     0.81381,     0.81481,     0.81582,\n",
       "           0.81682,     0.81782,     0.81882,     0.81982,     0.82082,     0.82182,     0.82282,     0.82382,     0.82482,     0.82583,     0.82683,     0.82783,     0.82883,     0.82983,     0.83083,     0.83183,     0.83283,     0.83383,     0.83483,     0.83584,     0.83684,     0.83784,     0.83884,     0.83984,\n",
       "           0.84084,     0.84184,     0.84284,     0.84384,     0.84484,     0.84585,     0.84685,     0.84785,     0.84885,     0.84985,     0.85085,     0.85185,     0.85285,     0.85385,     0.85485,     0.85586,     0.85686,     0.85786,     0.85886,     0.85986,     0.86086,     0.86186,     0.86286,     0.86386,\n",
       "           0.86486,     0.86587,     0.86687,     0.86787,     0.86887,     0.86987,     0.87087,     0.87187,     0.87287,     0.87387,     0.87487,     0.87588,     0.87688,     0.87788,     0.87888,     0.87988,     0.88088,     0.88188,     0.88288,     0.88388,     0.88488,     0.88589,     0.88689,     0.88789,\n",
       "           0.88889,     0.88989,     0.89089,     0.89189,     0.89289,     0.89389,     0.89489,      0.8959,      0.8969,      0.8979,      0.8989,      0.8999,      0.9009,      0.9019,      0.9029,      0.9039,      0.9049,     0.90591,     0.90691,     0.90791,     0.90891,     0.90991,     0.91091,     0.91191,\n",
       "           0.91291,     0.91391,     0.91491,     0.91592,     0.91692,     0.91792,     0.91892,     0.91992,     0.92092,     0.92192,     0.92292,     0.92392,     0.92492,     0.92593,     0.92693,     0.92793,     0.92893,     0.92993,     0.93093,     0.93193,     0.93293,     0.93393,     0.93493,     0.93594,\n",
       "           0.93694,     0.93794,     0.93894,     0.93994,     0.94094,     0.94194,     0.94294,     0.94394,     0.94494,     0.94595,     0.94695,     0.94795,     0.94895,     0.94995,     0.95095,     0.95195,     0.95295,     0.95395,     0.95495,     0.95596,     0.95696,     0.95796,     0.95896,     0.95996,\n",
       "           0.96096,     0.96196,     0.96296,     0.96396,     0.96496,     0.96597,     0.96697,     0.96797,     0.96897,     0.96997,     0.97097,     0.97197,     0.97297,     0.97397,     0.97497,     0.97598,     0.97698,     0.97798,     0.97898,     0.97998,     0.98098,     0.98198,     0.98298,     0.98398,\n",
       "           0.98498,     0.98599,     0.98699,     0.98799,     0.98899,     0.98999,     0.99099,     0.99199,     0.99299,     0.99399,     0.99499,       0.996,       0.997,       0.998,       0.999,           1]), array([[     0.2692,      0.2692,     0.33557, ...,           0,           0,           0],\n",
       "       [    0.18322,     0.18322,      0.2461, ...,           0,           0,           0]]), 'Confidence', 'F1'], [array([          0,    0.001001,    0.002002,    0.003003,    0.004004,    0.005005,    0.006006,    0.007007,    0.008008,    0.009009,     0.01001,    0.011011,    0.012012,    0.013013,    0.014014,    0.015015,    0.016016,    0.017017,    0.018018,    0.019019,     0.02002,    0.021021,    0.022022,    0.023023,\n",
       "          0.024024,    0.025025,    0.026026,    0.027027,    0.028028,    0.029029,     0.03003,    0.031031,    0.032032,    0.033033,    0.034034,    0.035035,    0.036036,    0.037037,    0.038038,    0.039039,     0.04004,    0.041041,    0.042042,    0.043043,    0.044044,    0.045045,    0.046046,    0.047047,\n",
       "          0.048048,    0.049049,     0.05005,    0.051051,    0.052052,    0.053053,    0.054054,    0.055055,    0.056056,    0.057057,    0.058058,    0.059059,     0.06006,    0.061061,    0.062062,    0.063063,    0.064064,    0.065065,    0.066066,    0.067067,    0.068068,    0.069069,     0.07007,    0.071071,\n",
       "          0.072072,    0.073073,    0.074074,    0.075075,    0.076076,    0.077077,    0.078078,    0.079079,     0.08008,    0.081081,    0.082082,    0.083083,    0.084084,    0.085085,    0.086086,    0.087087,    0.088088,    0.089089,     0.09009,    0.091091,    0.092092,    0.093093,    0.094094,    0.095095,\n",
       "          0.096096,    0.097097,    0.098098,    0.099099,      0.1001,      0.1011,      0.1021,      0.1031,      0.1041,     0.10511,     0.10611,     0.10711,     0.10811,     0.10911,     0.11011,     0.11111,     0.11211,     0.11311,     0.11411,     0.11512,     0.11612,     0.11712,     0.11812,     0.11912,\n",
       "           0.12012,     0.12112,     0.12212,     0.12312,     0.12412,     0.12513,     0.12613,     0.12713,     0.12813,     0.12913,     0.13013,     0.13113,     0.13213,     0.13313,     0.13413,     0.13514,     0.13614,     0.13714,     0.13814,     0.13914,     0.14014,     0.14114,     0.14214,     0.14314,\n",
       "           0.14414,     0.14515,     0.14615,     0.14715,     0.14815,     0.14915,     0.15015,     0.15115,     0.15215,     0.15315,     0.15415,     0.15516,     0.15616,     0.15716,     0.15816,     0.15916,     0.16016,     0.16116,     0.16216,     0.16316,     0.16416,     0.16517,     0.16617,     0.16717,\n",
       "           0.16817,     0.16917,     0.17017,     0.17117,     0.17217,     0.17317,     0.17417,     0.17518,     0.17618,     0.17718,     0.17818,     0.17918,     0.18018,     0.18118,     0.18218,     0.18318,     0.18418,     0.18519,     0.18619,     0.18719,     0.18819,     0.18919,     0.19019,     0.19119,\n",
       "           0.19219,     0.19319,     0.19419,      0.1952,      0.1962,      0.1972,      0.1982,      0.1992,      0.2002,      0.2012,      0.2022,      0.2032,      0.2042,     0.20521,     0.20621,     0.20721,     0.20821,     0.20921,     0.21021,     0.21121,     0.21221,     0.21321,     0.21421,     0.21522,\n",
       "           0.21622,     0.21722,     0.21822,     0.21922,     0.22022,     0.22122,     0.22222,     0.22322,     0.22422,     0.22523,     0.22623,     0.22723,     0.22823,     0.22923,     0.23023,     0.23123,     0.23223,     0.23323,     0.23423,     0.23524,     0.23624,     0.23724,     0.23824,     0.23924,\n",
       "           0.24024,     0.24124,     0.24224,     0.24324,     0.24424,     0.24525,     0.24625,     0.24725,     0.24825,     0.24925,     0.25025,     0.25125,     0.25225,     0.25325,     0.25425,     0.25526,     0.25626,     0.25726,     0.25826,     0.25926,     0.26026,     0.26126,     0.26226,     0.26326,\n",
       "           0.26426,     0.26527,     0.26627,     0.26727,     0.26827,     0.26927,     0.27027,     0.27127,     0.27227,     0.27327,     0.27427,     0.27528,     0.27628,     0.27728,     0.27828,     0.27928,     0.28028,     0.28128,     0.28228,     0.28328,     0.28428,     0.28529,     0.28629,     0.28729,\n",
       "           0.28829,     0.28929,     0.29029,     0.29129,     0.29229,     0.29329,     0.29429,      0.2953,      0.2963,      0.2973,      0.2983,      0.2993,      0.3003,      0.3013,      0.3023,      0.3033,      0.3043,     0.30531,     0.30631,     0.30731,     0.30831,     0.30931,     0.31031,     0.31131,\n",
       "           0.31231,     0.31331,     0.31431,     0.31532,     0.31632,     0.31732,     0.31832,     0.31932,     0.32032,     0.32132,     0.32232,     0.32332,     0.32432,     0.32533,     0.32633,     0.32733,     0.32833,     0.32933,     0.33033,     0.33133,     0.33233,     0.33333,     0.33433,     0.33534,\n",
       "           0.33634,     0.33734,     0.33834,     0.33934,     0.34034,     0.34134,     0.34234,     0.34334,     0.34434,     0.34535,     0.34635,     0.34735,     0.34835,     0.34935,     0.35035,     0.35135,     0.35235,     0.35335,     0.35435,     0.35536,     0.35636,     0.35736,     0.35836,     0.35936,\n",
       "           0.36036,     0.36136,     0.36236,     0.36336,     0.36436,     0.36537,     0.36637,     0.36737,     0.36837,     0.36937,     0.37037,     0.37137,     0.37237,     0.37337,     0.37437,     0.37538,     0.37638,     0.37738,     0.37838,     0.37938,     0.38038,     0.38138,     0.38238,     0.38338,\n",
       "           0.38438,     0.38539,     0.38639,     0.38739,     0.38839,     0.38939,     0.39039,     0.39139,     0.39239,     0.39339,     0.39439,      0.3954,      0.3964,      0.3974,      0.3984,      0.3994,      0.4004,      0.4014,      0.4024,      0.4034,      0.4044,     0.40541,     0.40641,     0.40741,\n",
       "           0.40841,     0.40941,     0.41041,     0.41141,     0.41241,     0.41341,     0.41441,     0.41542,     0.41642,     0.41742,     0.41842,     0.41942,     0.42042,     0.42142,     0.42242,     0.42342,     0.42442,     0.42543,     0.42643,     0.42743,     0.42843,     0.42943,     0.43043,     0.43143,\n",
       "           0.43243,     0.43343,     0.43443,     0.43544,     0.43644,     0.43744,     0.43844,     0.43944,     0.44044,     0.44144,     0.44244,     0.44344,     0.44444,     0.44545,     0.44645,     0.44745,     0.44845,     0.44945,     0.45045,     0.45145,     0.45245,     0.45345,     0.45445,     0.45546,\n",
       "           0.45646,     0.45746,     0.45846,     0.45946,     0.46046,     0.46146,     0.46246,     0.46346,     0.46446,     0.46547,     0.46647,     0.46747,     0.46847,     0.46947,     0.47047,     0.47147,     0.47247,     0.47347,     0.47447,     0.47548,     0.47648,     0.47748,     0.47848,     0.47948,\n",
       "           0.48048,     0.48148,     0.48248,     0.48348,     0.48448,     0.48549,     0.48649,     0.48749,     0.48849,     0.48949,     0.49049,     0.49149,     0.49249,     0.49349,     0.49449,      0.4955,      0.4965,      0.4975,      0.4985,      0.4995,      0.5005,      0.5015,      0.5025,      0.5035,\n",
       "            0.5045,     0.50551,     0.50651,     0.50751,     0.50851,     0.50951,     0.51051,     0.51151,     0.51251,     0.51351,     0.51451,     0.51552,     0.51652,     0.51752,     0.51852,     0.51952,     0.52052,     0.52152,     0.52252,     0.52352,     0.52452,     0.52553,     0.52653,     0.52753,\n",
       "           0.52853,     0.52953,     0.53053,     0.53153,     0.53253,     0.53353,     0.53453,     0.53554,     0.53654,     0.53754,     0.53854,     0.53954,     0.54054,     0.54154,     0.54254,     0.54354,     0.54454,     0.54555,     0.54655,     0.54755,     0.54855,     0.54955,     0.55055,     0.55155,\n",
       "           0.55255,     0.55355,     0.55455,     0.55556,     0.55656,     0.55756,     0.55856,     0.55956,     0.56056,     0.56156,     0.56256,     0.56356,     0.56456,     0.56557,     0.56657,     0.56757,     0.56857,     0.56957,     0.57057,     0.57157,     0.57257,     0.57357,     0.57457,     0.57558,\n",
       "           0.57658,     0.57758,     0.57858,     0.57958,     0.58058,     0.58158,     0.58258,     0.58358,     0.58458,     0.58559,     0.58659,     0.58759,     0.58859,     0.58959,     0.59059,     0.59159,     0.59259,     0.59359,     0.59459,      0.5956,      0.5966,      0.5976,      0.5986,      0.5996,\n",
       "            0.6006,      0.6016,      0.6026,      0.6036,      0.6046,     0.60561,     0.60661,     0.60761,     0.60861,     0.60961,     0.61061,     0.61161,     0.61261,     0.61361,     0.61461,     0.61562,     0.61662,     0.61762,     0.61862,     0.61962,     0.62062,     0.62162,     0.62262,     0.62362,\n",
       "           0.62462,     0.62563,     0.62663,     0.62763,     0.62863,     0.62963,     0.63063,     0.63163,     0.63263,     0.63363,     0.63463,     0.63564,     0.63664,     0.63764,     0.63864,     0.63964,     0.64064,     0.64164,     0.64264,     0.64364,     0.64464,     0.64565,     0.64665,     0.64765,\n",
       "           0.64865,     0.64965,     0.65065,     0.65165,     0.65265,     0.65365,     0.65465,     0.65566,     0.65666,     0.65766,     0.65866,     0.65966,     0.66066,     0.66166,     0.66266,     0.66366,     0.66466,     0.66567,     0.66667,     0.66767,     0.66867,     0.66967,     0.67067,     0.67167,\n",
       "           0.67267,     0.67367,     0.67467,     0.67568,     0.67668,     0.67768,     0.67868,     0.67968,     0.68068,     0.68168,     0.68268,     0.68368,     0.68468,     0.68569,     0.68669,     0.68769,     0.68869,     0.68969,     0.69069,     0.69169,     0.69269,     0.69369,     0.69469,      0.6957,\n",
       "            0.6967,      0.6977,      0.6987,      0.6997,      0.7007,      0.7017,      0.7027,      0.7037,      0.7047,     0.70571,     0.70671,     0.70771,     0.70871,     0.70971,     0.71071,     0.71171,     0.71271,     0.71371,     0.71471,     0.71572,     0.71672,     0.71772,     0.71872,     0.71972,\n",
       "           0.72072,     0.72172,     0.72272,     0.72372,     0.72472,     0.72573,     0.72673,     0.72773,     0.72873,     0.72973,     0.73073,     0.73173,     0.73273,     0.73373,     0.73473,     0.73574,     0.73674,     0.73774,     0.73874,     0.73974,     0.74074,     0.74174,     0.74274,     0.74374,\n",
       "           0.74474,     0.74575,     0.74675,     0.74775,     0.74875,     0.74975,     0.75075,     0.75175,     0.75275,     0.75375,     0.75475,     0.75576,     0.75676,     0.75776,     0.75876,     0.75976,     0.76076,     0.76176,     0.76276,     0.76376,     0.76476,     0.76577,     0.76677,     0.76777,\n",
       "           0.76877,     0.76977,     0.77077,     0.77177,     0.77277,     0.77377,     0.77477,     0.77578,     0.77678,     0.77778,     0.77878,     0.77978,     0.78078,     0.78178,     0.78278,     0.78378,     0.78478,     0.78579,     0.78679,     0.78779,     0.78879,     0.78979,     0.79079,     0.79179,\n",
       "           0.79279,     0.79379,     0.79479,      0.7958,      0.7968,      0.7978,      0.7988,      0.7998,      0.8008,      0.8018,      0.8028,      0.8038,      0.8048,     0.80581,     0.80681,     0.80781,     0.80881,     0.80981,     0.81081,     0.81181,     0.81281,     0.81381,     0.81481,     0.81582,\n",
       "           0.81682,     0.81782,     0.81882,     0.81982,     0.82082,     0.82182,     0.82282,     0.82382,     0.82482,     0.82583,     0.82683,     0.82783,     0.82883,     0.82983,     0.83083,     0.83183,     0.83283,     0.83383,     0.83483,     0.83584,     0.83684,     0.83784,     0.83884,     0.83984,\n",
       "           0.84084,     0.84184,     0.84284,     0.84384,     0.84484,     0.84585,     0.84685,     0.84785,     0.84885,     0.84985,     0.85085,     0.85185,     0.85285,     0.85385,     0.85485,     0.85586,     0.85686,     0.85786,     0.85886,     0.85986,     0.86086,     0.86186,     0.86286,     0.86386,\n",
       "           0.86486,     0.86587,     0.86687,     0.86787,     0.86887,     0.86987,     0.87087,     0.87187,     0.87287,     0.87387,     0.87487,     0.87588,     0.87688,     0.87788,     0.87888,     0.87988,     0.88088,     0.88188,     0.88288,     0.88388,     0.88488,     0.88589,     0.88689,     0.88789,\n",
       "           0.88889,     0.88989,     0.89089,     0.89189,     0.89289,     0.89389,     0.89489,      0.8959,      0.8969,      0.8979,      0.8989,      0.8999,      0.9009,      0.9019,      0.9029,      0.9039,      0.9049,     0.90591,     0.90691,     0.90791,     0.90891,     0.90991,     0.91091,     0.91191,\n",
       "           0.91291,     0.91391,     0.91491,     0.91592,     0.91692,     0.91792,     0.91892,     0.91992,     0.92092,     0.92192,     0.92292,     0.92392,     0.92492,     0.92593,     0.92693,     0.92793,     0.92893,     0.92993,     0.93093,     0.93193,     0.93293,     0.93393,     0.93493,     0.93594,\n",
       "           0.93694,     0.93794,     0.93894,     0.93994,     0.94094,     0.94194,     0.94294,     0.94394,     0.94494,     0.94595,     0.94695,     0.94795,     0.94895,     0.94995,     0.95095,     0.95195,     0.95295,     0.95395,     0.95495,     0.95596,     0.95696,     0.95796,     0.95896,     0.95996,\n",
       "           0.96096,     0.96196,     0.96296,     0.96396,     0.96496,     0.96597,     0.96697,     0.96797,     0.96897,     0.96997,     0.97097,     0.97197,     0.97297,     0.97397,     0.97497,     0.97598,     0.97698,     0.97798,     0.97898,     0.97998,     0.98098,     0.98198,     0.98298,     0.98398,\n",
       "           0.98498,     0.98599,     0.98699,     0.98799,     0.98899,     0.98999,     0.99099,     0.99199,     0.99299,     0.99399,     0.99499,       0.996,       0.997,       0.998,       0.999,           1]), array([[    0.15635,     0.15635,      0.2031, ...,           1,           1,           1],\n",
       "       [    0.10132,     0.10132,     0.14146, ...,           1,           1,           1]]), 'Confidence', 'Precision'], [array([          0,    0.001001,    0.002002,    0.003003,    0.004004,    0.005005,    0.006006,    0.007007,    0.008008,    0.009009,     0.01001,    0.011011,    0.012012,    0.013013,    0.014014,    0.015015,    0.016016,    0.017017,    0.018018,    0.019019,     0.02002,    0.021021,    0.022022,    0.023023,\n",
       "          0.024024,    0.025025,    0.026026,    0.027027,    0.028028,    0.029029,     0.03003,    0.031031,    0.032032,    0.033033,    0.034034,    0.035035,    0.036036,    0.037037,    0.038038,    0.039039,     0.04004,    0.041041,    0.042042,    0.043043,    0.044044,    0.045045,    0.046046,    0.047047,\n",
       "          0.048048,    0.049049,     0.05005,    0.051051,    0.052052,    0.053053,    0.054054,    0.055055,    0.056056,    0.057057,    0.058058,    0.059059,     0.06006,    0.061061,    0.062062,    0.063063,    0.064064,    0.065065,    0.066066,    0.067067,    0.068068,    0.069069,     0.07007,    0.071071,\n",
       "          0.072072,    0.073073,    0.074074,    0.075075,    0.076076,    0.077077,    0.078078,    0.079079,     0.08008,    0.081081,    0.082082,    0.083083,    0.084084,    0.085085,    0.086086,    0.087087,    0.088088,    0.089089,     0.09009,    0.091091,    0.092092,    0.093093,    0.094094,    0.095095,\n",
       "          0.096096,    0.097097,    0.098098,    0.099099,      0.1001,      0.1011,      0.1021,      0.1031,      0.1041,     0.10511,     0.10611,     0.10711,     0.10811,     0.10911,     0.11011,     0.11111,     0.11211,     0.11311,     0.11411,     0.11512,     0.11612,     0.11712,     0.11812,     0.11912,\n",
       "           0.12012,     0.12112,     0.12212,     0.12312,     0.12412,     0.12513,     0.12613,     0.12713,     0.12813,     0.12913,     0.13013,     0.13113,     0.13213,     0.13313,     0.13413,     0.13514,     0.13614,     0.13714,     0.13814,     0.13914,     0.14014,     0.14114,     0.14214,     0.14314,\n",
       "           0.14414,     0.14515,     0.14615,     0.14715,     0.14815,     0.14915,     0.15015,     0.15115,     0.15215,     0.15315,     0.15415,     0.15516,     0.15616,     0.15716,     0.15816,     0.15916,     0.16016,     0.16116,     0.16216,     0.16316,     0.16416,     0.16517,     0.16617,     0.16717,\n",
       "           0.16817,     0.16917,     0.17017,     0.17117,     0.17217,     0.17317,     0.17417,     0.17518,     0.17618,     0.17718,     0.17818,     0.17918,     0.18018,     0.18118,     0.18218,     0.18318,     0.18418,     0.18519,     0.18619,     0.18719,     0.18819,     0.18919,     0.19019,     0.19119,\n",
       "           0.19219,     0.19319,     0.19419,      0.1952,      0.1962,      0.1972,      0.1982,      0.1992,      0.2002,      0.2012,      0.2022,      0.2032,      0.2042,     0.20521,     0.20621,     0.20721,     0.20821,     0.20921,     0.21021,     0.21121,     0.21221,     0.21321,     0.21421,     0.21522,\n",
       "           0.21622,     0.21722,     0.21822,     0.21922,     0.22022,     0.22122,     0.22222,     0.22322,     0.22422,     0.22523,     0.22623,     0.22723,     0.22823,     0.22923,     0.23023,     0.23123,     0.23223,     0.23323,     0.23423,     0.23524,     0.23624,     0.23724,     0.23824,     0.23924,\n",
       "           0.24024,     0.24124,     0.24224,     0.24324,     0.24424,     0.24525,     0.24625,     0.24725,     0.24825,     0.24925,     0.25025,     0.25125,     0.25225,     0.25325,     0.25425,     0.25526,     0.25626,     0.25726,     0.25826,     0.25926,     0.26026,     0.26126,     0.26226,     0.26326,\n",
       "           0.26426,     0.26527,     0.26627,     0.26727,     0.26827,     0.26927,     0.27027,     0.27127,     0.27227,     0.27327,     0.27427,     0.27528,     0.27628,     0.27728,     0.27828,     0.27928,     0.28028,     0.28128,     0.28228,     0.28328,     0.28428,     0.28529,     0.28629,     0.28729,\n",
       "           0.28829,     0.28929,     0.29029,     0.29129,     0.29229,     0.29329,     0.29429,      0.2953,      0.2963,      0.2973,      0.2983,      0.2993,      0.3003,      0.3013,      0.3023,      0.3033,      0.3043,     0.30531,     0.30631,     0.30731,     0.30831,     0.30931,     0.31031,     0.31131,\n",
       "           0.31231,     0.31331,     0.31431,     0.31532,     0.31632,     0.31732,     0.31832,     0.31932,     0.32032,     0.32132,     0.32232,     0.32332,     0.32432,     0.32533,     0.32633,     0.32733,     0.32833,     0.32933,     0.33033,     0.33133,     0.33233,     0.33333,     0.33433,     0.33534,\n",
       "           0.33634,     0.33734,     0.33834,     0.33934,     0.34034,     0.34134,     0.34234,     0.34334,     0.34434,     0.34535,     0.34635,     0.34735,     0.34835,     0.34935,     0.35035,     0.35135,     0.35235,     0.35335,     0.35435,     0.35536,     0.35636,     0.35736,     0.35836,     0.35936,\n",
       "           0.36036,     0.36136,     0.36236,     0.36336,     0.36436,     0.36537,     0.36637,     0.36737,     0.36837,     0.36937,     0.37037,     0.37137,     0.37237,     0.37337,     0.37437,     0.37538,     0.37638,     0.37738,     0.37838,     0.37938,     0.38038,     0.38138,     0.38238,     0.38338,\n",
       "           0.38438,     0.38539,     0.38639,     0.38739,     0.38839,     0.38939,     0.39039,     0.39139,     0.39239,     0.39339,     0.39439,      0.3954,      0.3964,      0.3974,      0.3984,      0.3994,      0.4004,      0.4014,      0.4024,      0.4034,      0.4044,     0.40541,     0.40641,     0.40741,\n",
       "           0.40841,     0.40941,     0.41041,     0.41141,     0.41241,     0.41341,     0.41441,     0.41542,     0.41642,     0.41742,     0.41842,     0.41942,     0.42042,     0.42142,     0.42242,     0.42342,     0.42442,     0.42543,     0.42643,     0.42743,     0.42843,     0.42943,     0.43043,     0.43143,\n",
       "           0.43243,     0.43343,     0.43443,     0.43544,     0.43644,     0.43744,     0.43844,     0.43944,     0.44044,     0.44144,     0.44244,     0.44344,     0.44444,     0.44545,     0.44645,     0.44745,     0.44845,     0.44945,     0.45045,     0.45145,     0.45245,     0.45345,     0.45445,     0.45546,\n",
       "           0.45646,     0.45746,     0.45846,     0.45946,     0.46046,     0.46146,     0.46246,     0.46346,     0.46446,     0.46547,     0.46647,     0.46747,     0.46847,     0.46947,     0.47047,     0.47147,     0.47247,     0.47347,     0.47447,     0.47548,     0.47648,     0.47748,     0.47848,     0.47948,\n",
       "           0.48048,     0.48148,     0.48248,     0.48348,     0.48448,     0.48549,     0.48649,     0.48749,     0.48849,     0.48949,     0.49049,     0.49149,     0.49249,     0.49349,     0.49449,      0.4955,      0.4965,      0.4975,      0.4985,      0.4995,      0.5005,      0.5015,      0.5025,      0.5035,\n",
       "            0.5045,     0.50551,     0.50651,     0.50751,     0.50851,     0.50951,     0.51051,     0.51151,     0.51251,     0.51351,     0.51451,     0.51552,     0.51652,     0.51752,     0.51852,     0.51952,     0.52052,     0.52152,     0.52252,     0.52352,     0.52452,     0.52553,     0.52653,     0.52753,\n",
       "           0.52853,     0.52953,     0.53053,     0.53153,     0.53253,     0.53353,     0.53453,     0.53554,     0.53654,     0.53754,     0.53854,     0.53954,     0.54054,     0.54154,     0.54254,     0.54354,     0.54454,     0.54555,     0.54655,     0.54755,     0.54855,     0.54955,     0.55055,     0.55155,\n",
       "           0.55255,     0.55355,     0.55455,     0.55556,     0.55656,     0.55756,     0.55856,     0.55956,     0.56056,     0.56156,     0.56256,     0.56356,     0.56456,     0.56557,     0.56657,     0.56757,     0.56857,     0.56957,     0.57057,     0.57157,     0.57257,     0.57357,     0.57457,     0.57558,\n",
       "           0.57658,     0.57758,     0.57858,     0.57958,     0.58058,     0.58158,     0.58258,     0.58358,     0.58458,     0.58559,     0.58659,     0.58759,     0.58859,     0.58959,     0.59059,     0.59159,     0.59259,     0.59359,     0.59459,      0.5956,      0.5966,      0.5976,      0.5986,      0.5996,\n",
       "            0.6006,      0.6016,      0.6026,      0.6036,      0.6046,     0.60561,     0.60661,     0.60761,     0.60861,     0.60961,     0.61061,     0.61161,     0.61261,     0.61361,     0.61461,     0.61562,     0.61662,     0.61762,     0.61862,     0.61962,     0.62062,     0.62162,     0.62262,     0.62362,\n",
       "           0.62462,     0.62563,     0.62663,     0.62763,     0.62863,     0.62963,     0.63063,     0.63163,     0.63263,     0.63363,     0.63463,     0.63564,     0.63664,     0.63764,     0.63864,     0.63964,     0.64064,     0.64164,     0.64264,     0.64364,     0.64464,     0.64565,     0.64665,     0.64765,\n",
       "           0.64865,     0.64965,     0.65065,     0.65165,     0.65265,     0.65365,     0.65465,     0.65566,     0.65666,     0.65766,     0.65866,     0.65966,     0.66066,     0.66166,     0.66266,     0.66366,     0.66466,     0.66567,     0.66667,     0.66767,     0.66867,     0.66967,     0.67067,     0.67167,\n",
       "           0.67267,     0.67367,     0.67467,     0.67568,     0.67668,     0.67768,     0.67868,     0.67968,     0.68068,     0.68168,     0.68268,     0.68368,     0.68468,     0.68569,     0.68669,     0.68769,     0.68869,     0.68969,     0.69069,     0.69169,     0.69269,     0.69369,     0.69469,      0.6957,\n",
       "            0.6967,      0.6977,      0.6987,      0.6997,      0.7007,      0.7017,      0.7027,      0.7037,      0.7047,     0.70571,     0.70671,     0.70771,     0.70871,     0.70971,     0.71071,     0.71171,     0.71271,     0.71371,     0.71471,     0.71572,     0.71672,     0.71772,     0.71872,     0.71972,\n",
       "           0.72072,     0.72172,     0.72272,     0.72372,     0.72472,     0.72573,     0.72673,     0.72773,     0.72873,     0.72973,     0.73073,     0.73173,     0.73273,     0.73373,     0.73473,     0.73574,     0.73674,     0.73774,     0.73874,     0.73974,     0.74074,     0.74174,     0.74274,     0.74374,\n",
       "           0.74474,     0.74575,     0.74675,     0.74775,     0.74875,     0.74975,     0.75075,     0.75175,     0.75275,     0.75375,     0.75475,     0.75576,     0.75676,     0.75776,     0.75876,     0.75976,     0.76076,     0.76176,     0.76276,     0.76376,     0.76476,     0.76577,     0.76677,     0.76777,\n",
       "           0.76877,     0.76977,     0.77077,     0.77177,     0.77277,     0.77377,     0.77477,     0.77578,     0.77678,     0.77778,     0.77878,     0.77978,     0.78078,     0.78178,     0.78278,     0.78378,     0.78478,     0.78579,     0.78679,     0.78779,     0.78879,     0.78979,     0.79079,     0.79179,\n",
       "           0.79279,     0.79379,     0.79479,      0.7958,      0.7968,      0.7978,      0.7988,      0.7998,      0.8008,      0.8018,      0.8028,      0.8038,      0.8048,     0.80581,     0.80681,     0.80781,     0.80881,     0.80981,     0.81081,     0.81181,     0.81281,     0.81381,     0.81481,     0.81582,\n",
       "           0.81682,     0.81782,     0.81882,     0.81982,     0.82082,     0.82182,     0.82282,     0.82382,     0.82482,     0.82583,     0.82683,     0.82783,     0.82883,     0.82983,     0.83083,     0.83183,     0.83283,     0.83383,     0.83483,     0.83584,     0.83684,     0.83784,     0.83884,     0.83984,\n",
       "           0.84084,     0.84184,     0.84284,     0.84384,     0.84484,     0.84585,     0.84685,     0.84785,     0.84885,     0.84985,     0.85085,     0.85185,     0.85285,     0.85385,     0.85485,     0.85586,     0.85686,     0.85786,     0.85886,     0.85986,     0.86086,     0.86186,     0.86286,     0.86386,\n",
       "           0.86486,     0.86587,     0.86687,     0.86787,     0.86887,     0.86987,     0.87087,     0.87187,     0.87287,     0.87387,     0.87487,     0.87588,     0.87688,     0.87788,     0.87888,     0.87988,     0.88088,     0.88188,     0.88288,     0.88388,     0.88488,     0.88589,     0.88689,     0.88789,\n",
       "           0.88889,     0.88989,     0.89089,     0.89189,     0.89289,     0.89389,     0.89489,      0.8959,      0.8969,      0.8979,      0.8989,      0.8999,      0.9009,      0.9019,      0.9029,      0.9039,      0.9049,     0.90591,     0.90691,     0.90791,     0.90891,     0.90991,     0.91091,     0.91191,\n",
       "           0.91291,     0.91391,     0.91491,     0.91592,     0.91692,     0.91792,     0.91892,     0.91992,     0.92092,     0.92192,     0.92292,     0.92392,     0.92492,     0.92593,     0.92693,     0.92793,     0.92893,     0.92993,     0.93093,     0.93193,     0.93293,     0.93393,     0.93493,     0.93594,\n",
       "           0.93694,     0.93794,     0.93894,     0.93994,     0.94094,     0.94194,     0.94294,     0.94394,     0.94494,     0.94595,     0.94695,     0.94795,     0.94895,     0.94995,     0.95095,     0.95195,     0.95295,     0.95395,     0.95495,     0.95596,     0.95696,     0.95796,     0.95896,     0.95996,\n",
       "           0.96096,     0.96196,     0.96296,     0.96396,     0.96496,     0.96597,     0.96697,     0.96797,     0.96897,     0.96997,     0.97097,     0.97197,     0.97297,     0.97397,     0.97497,     0.97598,     0.97698,     0.97798,     0.97898,     0.97998,     0.98098,     0.98198,     0.98298,     0.98398,\n",
       "           0.98498,     0.98599,     0.98699,     0.98799,     0.98899,     0.98999,     0.99099,     0.99199,     0.99299,     0.99399,     0.99499,       0.996,       0.997,       0.998,       0.999,           1]), array([[    0.96739,     0.96739,     0.96498, ...,           0,           0,           0],\n",
       "       [    0.95579,     0.95579,     0.94538, ...,           0,           0,           0]]), 'Confidence', 'Recall']]\n",
       "fitness: 0.5035193846815899\n",
       "keys: ['metrics/precision(B)', 'metrics/recall(B)', 'metrics/mAP50(B)', 'metrics/mAP50-95(B)']\n",
       "maps: array([    0.45761,     0.47824])\n",
       "names: {0: 'fire', 1: 'smoke'}\n",
       "plot: True\n",
       "results_dict: {'metrics/precision(B)': 0.8045848963271147, 'metrics/recall(B)': 0.7524517542865923, 'metrics/mAP50(B)': 0.8238851093813915, 'metrics/mAP50-95(B)': 0.46792319304827856, 'fitness': 0.5035193846815899}\n",
       "save_dir: PosixPath('runs/detect/train2')\n",
       "speed: {'preprocess': 0.36382925479117967, 'inference': 3.329640611263085, 'loss': 0.0011482889570902026, 'postprocess': 2.856622530719427}\n",
       "task: 'detect'"
      ]
     },
     "metadata": {},
     "output_type": "display_data"
    }
   ],
   "source": [
    "import os\n",
    "os.environ['WANDB_MODE'] = 'dryrun'\n",
    "\n",
    "# 모델 훈련\n",
    "model.train(data='/content/drive/MyDrive/data.yaml', epochs=100, batch=8)  # 'dataset.yaml' 파일에 데이터셋 정보가 있어야 합니다."
   ]
  }
 ],
 "metadata": {
  "kernelspec": {
   "display_name": "detectron",
   "language": "python",
   "name": "python3"
  },
  "language_info": {
   "codemirror_mode": {
    "name": "ipython",
    "version": 3
   },
   "file_extension": ".py",
   "mimetype": "text/x-python",
   "name": "python",
   "nbconvert_exporter": "python",
   "pygments_lexer": "ipython3",
   "version": "3.8.19"
  }
 },
 "nbformat": 4,
 "nbformat_minor": 2
}
