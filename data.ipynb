{
 "cells": [
  {
   "cell_type": "code",
   "execution_count": 2,
   "metadata": {},
   "outputs": [],
   "source": [
    "import pandas as pd"
   ]
  },
  {
   "cell_type": "code",
   "execution_count": 3,
   "metadata": {},
   "outputs": [],
   "source": [
    "df = pd.read_excel('선박 화재 발생 일자 데이터.xlsx', header=None)"
   ]
  },
  {
   "cell_type": "code",
   "execution_count": 4,
   "metadata": {},
   "outputs": [
    {
     "data": {
      "text/html": [
       "<div>\n",
       "<style scoped>\n",
       "    .dataframe tbody tr th:only-of-type {\n",
       "        vertical-align: middle;\n",
       "    }\n",
       "\n",
       "    .dataframe tbody tr th {\n",
       "        vertical-align: top;\n",
       "    }\n",
       "\n",
       "    .dataframe thead th {\n",
       "        text-align: right;\n",
       "    }\n",
       "</style>\n",
       "<table border=\"1\" class=\"dataframe\">\n",
       "  <thead>\n",
       "    <tr style=\"text-align: right;\">\n",
       "      <th></th>\n",
       "      <th>0</th>\n",
       "      <th>1</th>\n",
       "      <th>2</th>\n",
       "    </tr>\n",
       "  </thead>\n",
       "  <tbody>\n",
       "    <tr>\n",
       "      <th>0</th>\n",
       "      <td>2019-01-02 13:34:00</td>\n",
       "      <td>부산광역시</td>\n",
       "      <td>영도구</td>\n",
       "    </tr>\n",
       "    <tr>\n",
       "      <th>1</th>\n",
       "      <td>2019-01-03 11:35:00</td>\n",
       "      <td>부산광역시</td>\n",
       "      <td>영도구</td>\n",
       "    </tr>\n",
       "    <tr>\n",
       "      <th>2</th>\n",
       "      <td>2019-01-03 12:09:00</td>\n",
       "      <td>전라남도</td>\n",
       "      <td>고흥군</td>\n",
       "    </tr>\n",
       "    <tr>\n",
       "      <th>3</th>\n",
       "      <td>2019-01-05 13:38:00</td>\n",
       "      <td>전라남도</td>\n",
       "      <td>목포시</td>\n",
       "    </tr>\n",
       "    <tr>\n",
       "      <th>4</th>\n",
       "      <td>2019-01-10 00:20:00</td>\n",
       "      <td>경상남도</td>\n",
       "      <td>거제시</td>\n",
       "    </tr>\n",
       "  </tbody>\n",
       "</table>\n",
       "</div>"
      ],
      "text/plain": [
       "                    0      1    2\n",
       "0 2019-01-02 13:34:00  부산광역시  영도구\n",
       "1 2019-01-03 11:35:00  부산광역시  영도구\n",
       "2 2019-01-03 12:09:00   전라남도  고흥군\n",
       "3 2019-01-05 13:38:00   전라남도  목포시\n",
       "4 2019-01-10 00:20:00   경상남도  거제시"
      ]
     },
     "execution_count": 4,
     "metadata": {},
     "output_type": "execute_result"
    }
   ],
   "source": [
    "df.head()"
   ]
  },
  {
   "cell_type": "code",
   "execution_count": 5,
   "metadata": {},
   "outputs": [
    {
     "name": "stdout",
     "output_type": "stream",
     "text": [
      "<class 'pandas.core.frame.DataFrame'>\n",
      "RangeIndex: 596 entries, 0 to 595\n",
      "Data columns (total 3 columns):\n",
      " #   Column  Non-Null Count  Dtype         \n",
      "---  ------  --------------  -----         \n",
      " 0   0       596 non-null    datetime64[ns]\n",
      " 1   1       596 non-null    object        \n",
      " 2   2       596 non-null    object        \n",
      "dtypes: datetime64[ns](1), object(2)\n",
      "memory usage: 14.1+ KB\n"
     ]
    }
   ],
   "source": [
    "df.info()"
   ]
  },
  {
   "cell_type": "code",
   "execution_count": 6,
   "metadata": {},
   "outputs": [],
   "source": [
    "df['year'] = df[0].dt.year\n",
    "df['month'] = df[0].dt.month\n",
    "df['day'] = df[0].dt.day\n",
    "\n",
    "df = df.drop(0, axis=1)"
   ]
  },
  {
   "cell_type": "code",
   "execution_count": 7,
   "metadata": {},
   "outputs": [
    {
     "data": {
      "text/html": [
       "<div>\n",
       "<style scoped>\n",
       "    .dataframe tbody tr th:only-of-type {\n",
       "        vertical-align: middle;\n",
       "    }\n",
       "\n",
       "    .dataframe tbody tr th {\n",
       "        vertical-align: top;\n",
       "    }\n",
       "\n",
       "    .dataframe thead th {\n",
       "        text-align: right;\n",
       "    }\n",
       "</style>\n",
       "<table border=\"1\" class=\"dataframe\">\n",
       "  <thead>\n",
       "    <tr style=\"text-align: right;\">\n",
       "      <th></th>\n",
       "      <th>1</th>\n",
       "      <th>2</th>\n",
       "      <th>year</th>\n",
       "      <th>month</th>\n",
       "      <th>day</th>\n",
       "    </tr>\n",
       "  </thead>\n",
       "  <tbody>\n",
       "    <tr>\n",
       "      <th>0</th>\n",
       "      <td>부산광역시</td>\n",
       "      <td>영도구</td>\n",
       "      <td>2019</td>\n",
       "      <td>1</td>\n",
       "      <td>2</td>\n",
       "    </tr>\n",
       "    <tr>\n",
       "      <th>1</th>\n",
       "      <td>부산광역시</td>\n",
       "      <td>영도구</td>\n",
       "      <td>2019</td>\n",
       "      <td>1</td>\n",
       "      <td>3</td>\n",
       "    </tr>\n",
       "    <tr>\n",
       "      <th>2</th>\n",
       "      <td>전라남도</td>\n",
       "      <td>고흥군</td>\n",
       "      <td>2019</td>\n",
       "      <td>1</td>\n",
       "      <td>3</td>\n",
       "    </tr>\n",
       "    <tr>\n",
       "      <th>3</th>\n",
       "      <td>전라남도</td>\n",
       "      <td>목포시</td>\n",
       "      <td>2019</td>\n",
       "      <td>1</td>\n",
       "      <td>5</td>\n",
       "    </tr>\n",
       "    <tr>\n",
       "      <th>4</th>\n",
       "      <td>경상남도</td>\n",
       "      <td>거제시</td>\n",
       "      <td>2019</td>\n",
       "      <td>1</td>\n",
       "      <td>10</td>\n",
       "    </tr>\n",
       "  </tbody>\n",
       "</table>\n",
       "</div>"
      ],
      "text/plain": [
       "       1    2  year  month  day\n",
       "0  부산광역시  영도구  2019      1    2\n",
       "1  부산광역시  영도구  2019      1    3\n",
       "2   전라남도  고흥군  2019      1    3\n",
       "3   전라남도  목포시  2019      1    5\n",
       "4   경상남도  거제시  2019      1   10"
      ]
     },
     "execution_count": 7,
     "metadata": {},
     "output_type": "execute_result"
    }
   ],
   "source": [
    "df.head()"
   ]
  },
  {
   "cell_type": "code",
   "execution_count": 25,
   "metadata": {},
   "outputs": [
    {
     "data": {
      "text/plain": [
       "array(['부산광역시', '전라남도', '경상남도', '강원특별자치도', '경상북도', '전북특별자치도', '인천광역시',\n",
       "       '제주특별자치도', '서울특별시', '울산광역시', '경기도', '충청남도'], dtype=object)"
      ]
     },
     "execution_count": 25,
     "metadata": {},
     "output_type": "execute_result"
    }
   ],
   "source": [
    "df[1].unique()"
   ]
  },
  {
   "cell_type": "code",
   "execution_count": 36,
   "metadata": {},
   "outputs": [],
   "source": [
    "apikey = \"ikyOZ5uYRSGMjmebmJUhoQ\"\n",
    "stn_dic = { \"부산광역시\": 159,\n",
    "            \"전라남도\": 168,\n",
    "            \"경상남도\": 159,\n",
    "            \"강원특별자치도\": 119,\n",
    "            \"경상북도\": 143,\n",
    "            \"전북특별자치도\": 146,\n",
    "            \"인천광역시\": 112,\n",
    "            \"제주특별자치도\": 184,\n",
    "            \"서울특별시\": 108,\n",
    "            \"울산광역시\": 152,\n",
    "            \"경기도\": 119,\n",
    "            \"충청남도\": 177\n",
    "        }"
   ]
  },
  {
   "cell_type": "code",
   "execution_count": 20,
   "metadata": {},
   "outputs": [],
   "source": [
    "import requests  # requests 모듈 임포트\n",
    "\n",
    "def download_file(save_path, date, stn):\n",
    "    url = 'https://apihub.kma.go.kr/api/typ01/url/kma_sfctm2.php?tm=' + date + '&stn='+ stn +'&help=0&authKey=' + apikey\n",
    "    print(url)\n",
    "    with open(save_path, 'wb') as f: # 저장할 파일을 바이너리 쓰기 모드로 열기\n",
    "        response = requests.get(url) # 파일 URL에 GET 요청 보내기\n",
    "        f.write(response.content) # 응답의 내용을 파일에 쓰기"
   ]
  },
  {
   "cell_type": "code",
   "execution_count": 40,
   "metadata": {},
   "outputs": [
    {
     "name": "stdout",
     "output_type": "stream",
     "text": [
      "https://apihub.kma.go.kr/api/typ01/url/kma_sfctm2.php?tm=202211300900&stn=159&help=0&authKey=ikyOZ5uYRSGMjmebmJUhoQ\n",
      "https://apihub.kma.go.kr/api/typ01/url/kma_sfctm2.php?tm=202211300900&stn=168&help=0&authKey=ikyOZ5uYRSGMjmebmJUhoQ\n",
      "https://apihub.kma.go.kr/api/typ01/url/kma_sfctm2.php?tm=202211300900&stn=159&help=0&authKey=ikyOZ5uYRSGMjmebmJUhoQ\n",
      "https://apihub.kma.go.kr/api/typ01/url/kma_sfctm2.php?tm=202211300900&stn=119&help=0&authKey=ikyOZ5uYRSGMjmebmJUhoQ\n",
      "https://apihub.kma.go.kr/api/typ01/url/kma_sfctm2.php?tm=202211300900&stn=143&help=0&authKey=ikyOZ5uYRSGMjmebmJUhoQ\n",
      "https://apihub.kma.go.kr/api/typ01/url/kma_sfctm2.php?tm=202211300900&stn=146&help=0&authKey=ikyOZ5uYRSGMjmebmJUhoQ\n",
      "https://apihub.kma.go.kr/api/typ01/url/kma_sfctm2.php?tm=202211300900&stn=112&help=0&authKey=ikyOZ5uYRSGMjmebmJUhoQ\n",
      "https://apihub.kma.go.kr/api/typ01/url/kma_sfctm2.php?tm=202211300900&stn=184&help=0&authKey=ikyOZ5uYRSGMjmebmJUhoQ\n",
      "https://apihub.kma.go.kr/api/typ01/url/kma_sfctm2.php?tm=202211300900&stn=108&help=0&authKey=ikyOZ5uYRSGMjmebmJUhoQ\n",
      "https://apihub.kma.go.kr/api/typ01/url/kma_sfctm2.php?tm=202211300900&stn=152&help=0&authKey=ikyOZ5uYRSGMjmebmJUhoQ\n",
      "https://apihub.kma.go.kr/api/typ01/url/kma_sfctm2.php?tm=202211300900&stn=119&help=0&authKey=ikyOZ5uYRSGMjmebmJUhoQ\n",
      "https://apihub.kma.go.kr/api/typ01/url/kma_sfctm2.php?tm=202211300900&stn=177&help=0&authKey=ikyOZ5uYRSGMjmebmJUhoQ\n"
     ]
    }
   ],
   "source": [
    "i = 0\n",
    "for stn in stn_dic:\n",
    "    save_file_path = 'output_file' + stn + '.txt'\n",
    "    download_file(save_file_path, '202211300900', str(stn_dic[stn]))\n",
    "\n",
    "\n",
    "#https://apihub.kma.go.kr/api/typ01/url/kma_sfctm2.php?tm=202211300900&stn=0&help=1&authKey=ikyOZ5uYRSGMjmebmJUhoQ"
   ]
  },
  {
   "cell_type": "code",
   "execution_count": 66,
   "metadata": {},
   "outputs": [
    {
     "name": "stdout",
     "output_type": "stream",
     "text": [
      "201901021300\n",
      "https://apihub.kma.go.kr/api/typ01/url/kma_sfctm2.php?tm=201901021300&stn=159&help=0&authKey=ikyOZ5uYRSGMjmebmJUhoQ\n"
     ]
    }
   ],
   "source": [
    "for i in range(596):\n",
    "    region = df.iloc[i][1]\n",
    "    date = f\"{df.iloc[i]['year']}{str(df.iloc[i]['month']).zfill(2)}{str(df.iloc[i]['day']).zfill(2)}1300\"\n",
    "    download_file(save_file_path, date, str(stn_dic[region]))\n",
    "    break"
   ]
  },
  {
   "cell_type": "code",
   "execution_count": null,
   "metadata": {},
   "outputs": [],
   "source": []
  }
 ],
 "metadata": {
  "kernelspec": {
   "display_name": "detectron",
   "language": "python",
   "name": "detectron"
  },
  "language_info": {
   "codemirror_mode": {
    "name": "ipython",
    "version": 3
   },
   "file_extension": ".py",
   "mimetype": "text/x-python",
   "name": "python",
   "nbconvert_exporter": "python",
   "pygments_lexer": "ipython3",
   "version": "3.8.19"
  }
 },
 "nbformat": 4,
 "nbformat_minor": 2
}
