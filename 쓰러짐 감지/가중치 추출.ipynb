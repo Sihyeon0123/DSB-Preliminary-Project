{
 "cells": [
  {
   "cell_type": "markdown",
   "metadata": {},
   "source": [
    "# GPU 확인"
   ]
  },
  {
   "cell_type": "code",
   "execution_count": 1,
   "metadata": {},
   "outputs": [
    {
     "name": "stderr",
     "output_type": "stream",
     "text": [
      "c:\\Users\\USER\\anaconda3\\envs\\detectron\\lib\\site-packages\\tqdm\\auto.py:21: TqdmWarning: IProgress not found. Please update jupyter and ipywidgets. See https://ipywidgets.readthedocs.io/en/stable/user_install.html\n",
      "  from .autonotebook import tqdm as notebook_tqdm\n"
     ]
    },
    {
     "name": "stdout",
     "output_type": "stream",
     "text": [
      "True\n",
      "1.10.0+cu113\n",
      "NVIDIA GeForce RTX 3070 Ti\n",
      "1\n"
     ]
    }
   ],
   "source": [
    "import warnings\n",
    "# 특정 UserWarning을 무시\n",
    "warnings.filterwarnings(\"ignore\", category=UserWarning)\n",
    "import torch\n",
    "\n",
    "# GPU 사용 가능 -> True, GPU 사용 불가 -> False\n",
    "print(torch.cuda.is_available())\n",
    "\n",
    "print(torch.__version__)\n",
    "\n",
    "# GPU 이름 체크(cuda:0에 연결된 그래픽 카드 기준)\n",
    "print(torch.cuda.get_device_name(device = 0)) # 'NVIDIA TITAN X (Pascal)'\n",
    "\n",
    "# 사용 가능 GPU 개수 체크\n",
    "print(torch.cuda.device_count()) # 3"
   ]
  },
  {
   "cell_type": "markdown",
   "metadata": {},
   "source": [
    "# 라이브러리 import"
   ]
  },
  {
   "cell_type": "code",
   "execution_count": 2,
   "metadata": {},
   "outputs": [],
   "source": [
    "import detectron2\n",
    "from detectron2.utils.logger import setup_logger\n",
    "setup_logger()\n",
    "import numpy as np\n",
    "import os, json, cv2, random\n",
    "from detectron2 import model_zoo\n",
    "from detectron2.engine import DefaultPredictor\n",
    "from detectron2.config import get_cfg\n",
    "from detectron2.utils.visualizer import Visualizer, ColorMode\n",
    "from detectron2.data import MetadataCatalog, DatasetCatalog\n",
    "import matplotlib.pyplot as plt"
   ]
  },
  {
   "cell_type": "markdown",
   "metadata": {},
   "source": [
    "# 모델 정의\n",
    "keypoint_rcnn"
   ]
  },
  {
   "cell_type": "code",
   "execution_count": 3,
   "metadata": {},
   "outputs": [],
   "source": [
    "cfg = get_cfg()\n",
    "cfg.merge_from_file(model_zoo.get_config_file(\"COCO-Keypoints/keypoint_rcnn_R_50_FPN_3x.yaml\"))\n",
    "cfg.MODEL.ROI_HEADS.SCORE_THRESH_TEST = 0.7  \n",
    "cfg.MODEL.WEIGHTS = model_zoo.get_checkpoint_url(\"COCO-Keypoints/keypoint_rcnn_R_50_FPN_3x.yaml\")\n",
    "cfg.MODEL.DEVICE='cuda' #만약 gpu를 사용한다면 ‘cuda’로 수정\n",
    "predictor = DefaultPredictor(cfg)"
   ]
  },
  {
   "cell_type": "markdown",
   "metadata": {},
   "source": [
    "# 사진 출력 함수"
   ]
  },
  {
   "cell_type": "code",
   "execution_count": 4,
   "metadata": {},
   "outputs": [],
   "source": [
    "# Jupyter Notebook에서 이미지를 출력하는 함수\n",
    "def show_image(frame, title=\"Image\"):\n",
    "    # BGR 이미지를 RGB로 변환 (OpenCV는 BGR 형식, matplotlib은 RGB 형식)\n",
    "    rgb_frame = cv2.cvtColor(frame, cv2.COLOR_BGR2RGB)\n",
    "    plt.title(title)\n",
    "    plt.imshow(rgb_frame)\n",
    "    plt.axis('off')  # 축 숨기기\n",
    "    plt.show()"
   ]
  },
  {
   "cell_type": "markdown",
   "metadata": {},
   "source": [
    "# 이어질 관절 정의"
   ]
  },
  {
   "cell_type": "code",
   "execution_count": 7,
   "metadata": {},
   "outputs": [],
   "source": [
    "skeleton_connections = [\n",
    "                (0, 1), (0, 2),        # 코에서 두 눈으로 연결\n",
    "                (1, 3), (2, 4),        # 왼쪽/오른쪽 눈에서 귀로 연결\n",
    "                (5, 6),                # 왼쪽 어깨와 오른쪽 어깨 연결\n",
    "                (5, 7), (7, 9),        # 왼쪽 어깨에서 팔꿈치, 팔꿈치에서 손목으로 연결\n",
    "                (6, 8), (8, 10),       # 오른쪽 어깨에서 팔꿈치, 팔꿈치에서 손목으로 연결\n",
    "                (5, 11), (6, 12),      # 왼쪽 어깨에서 왼쪽 엉덩이, 오른쪽 어깨에서 오른쪽 엉덩이로 연결\n",
    "                (11, 12),              # 왼쪽 엉덩이와 오른쪽 엉덩이 연결\n",
    "                (11, 13), (13, 15),    # 왼쪽 엉덩이에서 무릎, 무릎에서 발목 연결\n",
    "                (12, 14), (14, 16)     # 오른쪽 엉덩이에서 무릎, 무릎에서 발목 연결\n",
    "            ]"
   ]
  },
  {
   "cell_type": "markdown",
   "metadata": {},
   "source": [
    "# 각도 계산 함수"
   ]
  },
  {
   "cell_type": "code",
   "execution_count": 9,
   "metadata": {},
   "outputs": [],
   "source": [
    "def calculate_angle(point1, point2, point3):\n",
    "    \"\"\"\n",
    "        각도 계산 함수\n",
    "    \"\"\"\n",
    "    # 방향 벡터 계산\n",
    "    vector1 = np.array(point2) - np.array(point1)  # p1 -> p2\n",
    "    vector2 = np.array(point3) - np.array(point2)  # p2 -> p3\n",
    "    \n",
    "    # 내적 계산\n",
    "    dot_product = np.dot(vector1, vector2)\n",
    "    \n",
    "    # 크기 계산\n",
    "    magnitude1 = np.linalg.norm(vector1)\n",
    "    magnitude2 = np.linalg.norm(vector2)\n",
    "    \n",
    "    # 코사인 각도 계산\n",
    "    cos_angle = dot_product / (magnitude1 * magnitude2)\n",
    "    \n",
    "    # 각도 (라디안) 계산\n",
    "    angle_rad = np.arccos(cos_angle)\n",
    "    \n",
    "    # 라디안에서 도로 변환\n",
    "    angle_deg = np.degrees(angle_rad)\n",
    "    \n",
    "    return angle_deg"
   ]
  },
  {
   "cell_type": "markdown",
   "metadata": {},
   "source": [
    "# min-max 스케일러"
   ]
  },
  {
   "cell_type": "code",
   "execution_count": 10,
   "metadata": {},
   "outputs": [],
   "source": [
    "def min_max_scale(value, min_value, max_value):\n",
    "    return (value - min_value) / (max_value - min_value)"
   ]
  },
  {
   "cell_type": "markdown",
   "metadata": {},
   "source": [
    "# 학습데이터 생성"
   ]
  },
  {
   "cell_type": "code",
   "execution_count": 30,
   "metadata": {},
   "outputs": [
    {
     "data": {
      "text/html": [
       "<div>\n",
       "<style scoped>\n",
       "    .dataframe tbody tr th:only-of-type {\n",
       "        vertical-align: middle;\n",
       "    }\n",
       "\n",
       "    .dataframe tbody tr th {\n",
       "        vertical-align: top;\n",
       "    }\n",
       "\n",
       "    .dataframe thead th {\n",
       "        text-align: right;\n",
       "    }\n",
       "</style>\n",
       "<table border=\"1\" class=\"dataframe\">\n",
       "  <thead>\n",
       "    <tr style=\"text-align: right;\">\n",
       "      <th></th>\n",
       "      <th>elbow_angle1</th>\n",
       "      <th>shoulder_angle1</th>\n",
       "      <th>hip_angle1</th>\n",
       "      <th>knee_angle1</th>\n",
       "      <th>head_y1</th>\n",
       "      <th>hip_y1</th>\n",
       "      <th>ankle_y1</th>\n",
       "      <th>elbow_angle2</th>\n",
       "      <th>shoulder_angle2</th>\n",
       "      <th>hip_angle2</th>\n",
       "      <th>...</th>\n",
       "      <th>hip_y4</th>\n",
       "      <th>ankle_y4</th>\n",
       "      <th>elbow_angle5</th>\n",
       "      <th>shoulder_angle5</th>\n",
       "      <th>hip_angle5</th>\n",
       "      <th>knee_angle5</th>\n",
       "      <th>head_y5</th>\n",
       "      <th>hip_y5</th>\n",
       "      <th>ankle_y5</th>\n",
       "      <th>label</th>\n",
       "    </tr>\n",
       "  </thead>\n",
       "  <tbody>\n",
       "  </tbody>\n",
       "</table>\n",
       "<p>0 rows × 36 columns</p>\n",
       "</div>"
      ],
      "text/plain": [
       "Empty DataFrame\n",
       "Columns: [elbow_angle1, shoulder_angle1, hip_angle1, knee_angle1, head_y1, hip_y1, ankle_y1, elbow_angle2, shoulder_angle2, hip_angle2, knee_angle2, head_y2, hip_y2, ankle_y2, elbow_angle3, shoulder_angle3, hip_angle3, knee_angle3, head_y3, hip_y3, ankle_y3, elbow_angle4, shoulder_angle4, hip_angle4, knee_angle4, head_y4, hip_y4, ankle_y4, elbow_angle5, shoulder_angle5, hip_angle5, knee_angle5, head_y5, hip_y5, ankle_y5, label]\n",
       "Index: []\n",
       "\n",
       "[0 rows x 36 columns]"
      ]
     },
     "execution_count": 30,
     "metadata": {},
     "output_type": "execute_result"
    }
   ],
   "source": [
    "import pandas as pd\n",
    "df = pd.DataFrame(columns=['elbow_angle1', 'shoulder_angle1', 'hip_angle1', 'knee_angle1', 'head_y1', 'hip_y1', 'ankle_y1',\n",
    "                           'elbow_angle2', 'shoulder_angle2', 'hip_angle2', 'knee_angle2', 'head_y2', 'hip_y2', 'ankle_y2',\n",
    "                           'elbow_angle3', 'shoulder_angle3', 'hip_angle3', 'knee_angle3', 'head_y3', 'hip_y3', 'ankle_y3',\n",
    "                           'elbow_angle4', 'shoulder_angle4', 'hip_angle4', 'knee_angle4', 'head_y4', 'hip_y4', 'ankle_y4',\n",
    "                           'elbow_angle5', 'shoulder_angle5', 'hip_angle5', 'knee_angle5', 'head_y5', 'hip_y5', 'ankle_y5',\n",
    "                           'label'])\n",
    "df"
   ]
  },
  {
   "cell_type": "markdown",
   "metadata": {},
   "source": [
    "0: 정상   \n",
    "1: 쓰러짐   \n",
    "2: 추락"
   ]
  },
  {
   "cell_type": "code",
   "execution_count": null,
   "metadata": {},
   "outputs": [],
   "source": [
    "import copy\n",
    "\n",
    "# 이미지들이 저장된 폴더 경로\n",
    "image_folder = 'actions/normal/c'\n",
    "\n",
    "# 이미지 파일 목록을 불러오기\n",
    "image_files = sorted([f for f in os.listdir(image_folder) if f.endswith('.jpg') or f.endswith('.png')])\n",
    "\n",
    "temp_que = []\n",
    "i = 0\n",
    "# 이미지 처리 루프\n",
    "for image_file in image_files:\n",
    "    # 이미지 경로 생성\n",
    "    image_path = os.path.join(image_folder, image_file)\n",
    "    # 이미지 읽어오기\n",
    "    frame = cv2.imread(image_path)\n",
    "    # 이미지 크기 가져오기\n",
    "    image_height, image_width, channels = frame.shape\n",
    "    \n",
    "    if frame is None:\n",
    "        print(f\"이미지 로드에 실패했습니다: {image_file}\")\n",
    "        continue\n",
    "    \n",
    "    # Detectron2를 이용한 관절 검출\n",
    "    keypoints = predictor(frame)['instances'].get_fields()['pred_keypoints'][0]\n",
    "    \n",
    "    # 관절 각도 계산\n",
    "    # 팔꿈치 각도\n",
    "    elbow_angle = calculate_angle((int(keypoints[6][0]), int(keypoints[6][1])), (int(keypoints[8][0]), int(keypoints[8][1])), (int(keypoints[10][0]), int(keypoints[10][1])))  \n",
    "    # 어깨 각도 \n",
    "    # 어깨 각도를 오른 팔꿈치-오른 어깨-왼쪽 어깨 에서 오른 팔꿈치-오른 어깨-오른 엉덩이로 바꿈\n",
    "    shoulder_angle = calculate_angle((int(keypoints[6][0]), int(keypoints[6][1])), (int(keypoints[8][0]), int(keypoints[8][1])), (int(keypoints[12][0]), int(keypoints[12][1]))) \n",
    "    # 허리 각도 \n",
    "    hip_angle = calculate_angle((int(keypoints[6][0]), int(keypoints[6][1])), (int(keypoints[12][0]), int(keypoints[12][1])), (int(keypoints[13][0]), int(keypoints[13][1])))  \n",
    "    # 무릎 각도\n",
    "    knee_angle = calculate_angle((int(keypoints[12][0]), int(keypoints[12][1])), (int(keypoints[14][0]), int(keypoints[14][1])), (int(keypoints[16][0]), int(keypoints[16][1])))  \n",
    "\n",
    "    # 높이(y) 추출\n",
    "    head_y = min_max_scale(int(keypoints[0][1]), 0, image_height)\n",
    "    hip_y = min_max_scale(int(keypoints[12][1]), 0, image_height)\n",
    "    ankle_y = min_max_scale(int(keypoints[16][1]), 0, image_height)\n",
    "    \n",
    "    f_lst = [elbow_angle, shoulder_angle, hip_angle, knee_angle, head_y, hip_y, ankle_y]\n",
    "\n",
    "\n",
    "    # 프레임 카운트\n",
    "    if i < 5:\n",
    "        i += 1\n",
    "        for f in f_lst:\n",
    "            temp_que.append(f)\n",
    "    elif i <= 5:\n",
    "        temp_que = temp_que[7:]\n",
    "        for f in f_lst:\n",
    "            temp_que.append(f)\n",
    "\n",
    "        show_image(frame)\n",
    "\n",
    "        # label = ''\n",
    "        # while label == '':\n",
    "        #     label = input()\n",
    "        #     if len(label) >= 2:\n",
    "        #         label = label[:1]\n",
    "        label = 0\n",
    "        label_que = copy.deepcopy(temp_que)\n",
    "        label_que.append(label)\n",
    "        temp_df = pd.DataFrame([label_que], columns=['elbow_angle1', 'shoulder_angle1', 'hip_angle1', 'knee_angle1', 'head_y1', 'hip_y1', 'ankle_y1',\n",
    "                                                    'elbow_angle2', 'shoulder_angle2', 'hip_angle2', 'knee_angle2', 'head_y2', 'hip_y2', 'ankle_y2',\n",
    "                                                    'elbow_angle3', 'shoulder_angle3', 'hip_angle3', 'knee_angle3', 'head_y3', 'hip_y3', 'ankle_y3',\n",
    "                                                    'elbow_angle4', 'shoulder_angle4', 'hip_angle4', 'knee_angle4', 'head_y4', 'hip_y4', 'ankle_y4',\n",
    "                                                    'elbow_angle5', 'shoulder_angle5', 'hip_angle5', 'knee_angle5', 'head_y5', 'hip_y5', 'ankle_y5',\n",
    "                                                    'label'])\n",
    "        df = pd.concat([df, temp_df], ignore_index=True)"
   ]
  },
  {
   "cell_type": "code",
   "execution_count": null,
   "metadata": {},
   "outputs": [],
   "source": [
    "df"
   ]
  },
  {
   "cell_type": "code",
   "execution_count": 32,
   "metadata": {},
   "outputs": [],
   "source": [
    "df.to_csv('normal_c.csv', index=None)"
   ]
  },
  {
   "cell_type": "markdown",
   "metadata": {},
   "source": [
    "# 분류 테스트"
   ]
  },
  {
   "cell_type": "code",
   "execution_count": null,
   "metadata": {},
   "outputs": [],
   "source": [
    "import pandas as pd\n",
    "import numpy as np\n",
    "from sklearn.model_selection import train_test_split\n",
    "from sklearn.ensemble import RandomForestClassifier\n",
    "\n",
    "df = pd.read_excel('t.xlsx')\n",
    "\n",
    "X = df.drop(columns=['label'])  # 특징 (feature)\n",
    "y = df['label']   \n",
    "\n",
    "# 훈련 세트와 테스트 세트로 나누기\n",
    "X_train, X_test, y_train, y_test = train_test_split(X, y, test_size=0.1, random_state=42, stratify=y)\n",
    "\n",
    "model = RandomForestClassifier(n_estimators=100, random_state=42)\n",
    "model.fit(X_train, y_train)"
   ]
  },
  {
   "cell_type": "code",
   "execution_count": 16,
   "metadata": {},
   "outputs": [],
   "source": [
    "import pandas as pd\n",
    "\n",
    "temp_df = pd.read_excel('t.xlsx')"
   ]
  },
  {
   "cell_type": "code",
   "execution_count": 17,
   "metadata": {},
   "outputs": [],
   "source": [
    "df = pd.concat([df, temp_df], ignore_index=True)"
   ]
  },
  {
   "cell_type": "code",
   "execution_count": 18,
   "metadata": {},
   "outputs": [
    {
     "data": {
      "text/plain": [
       "340"
      ]
     },
     "execution_count": 18,
     "metadata": {},
     "output_type": "execute_result"
    }
   ],
   "source": [
    "len(df)"
   ]
  },
  {
   "cell_type": "code",
   "execution_count": 20,
   "metadata": {},
   "outputs": [],
   "source": [
    "df.to_csv('안전사고 분류 학습 데이터.csv')"
   ]
  },
  {
   "cell_type": "code",
   "execution_count": null,
   "metadata": {},
   "outputs": [],
   "source": []
  }
 ],
 "metadata": {
  "kernelspec": {
   "display_name": "detectron",
   "language": "python",
   "name": "python3"
  },
  "language_info": {
   "codemirror_mode": {
    "name": "ipython",
    "version": 3
   },
   "file_extension": ".py",
   "mimetype": "text/x-python",
   "name": "python",
   "nbconvert_exporter": "python",
   "pygments_lexer": "ipython3",
   "version": "3.8.19"
  }
 },
 "nbformat": 4,
 "nbformat_minor": 2
}
