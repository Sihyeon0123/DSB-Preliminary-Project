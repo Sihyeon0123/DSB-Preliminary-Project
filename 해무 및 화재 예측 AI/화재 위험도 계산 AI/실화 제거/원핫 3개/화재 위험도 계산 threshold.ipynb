{
 "cells": [
  {
   "cell_type": "markdown",
   "metadata": {},
   "source": [
    "# 라이브러리"
   ]
  },
  {
   "cell_type": "code",
   "execution_count": 1,
   "metadata": {},
   "outputs": [],
   "source": [
    "import pandas as pd\n",
    "import numpy as np\n",
    "from sklearn.model_selection import train_test_split\n",
    "from sklearn.ensemble import RandomForestClassifier\n",
    "from sklearn.metrics import classification_report, accuracy_score, roc_auc_score, roc_curve"
   ]
  },
  {
   "cell_type": "markdown",
   "metadata": {},
   "source": [
    "# 1. 데이터 로드"
   ]
  },
  {
   "cell_type": "code",
   "execution_count": 2,
   "metadata": {},
   "outputs": [
    {
     "data": {
      "text/html": [
       "<div>\n",
       "<style scoped>\n",
       "    .dataframe tbody tr th:only-of-type {\n",
       "        vertical-align: middle;\n",
       "    }\n",
       "\n",
       "    .dataframe tbody tr th {\n",
       "        vertical-align: top;\n",
       "    }\n",
       "\n",
       "    .dataframe thead th {\n",
       "        text-align: right;\n",
       "    }\n",
       "</style>\n",
       "<table border=\"1\" class=\"dataframe\">\n",
       "  <thead>\n",
       "    <tr style=\"text-align: right;\">\n",
       "      <th></th>\n",
       "      <th>year</th>\n",
       "      <th>month</th>\n",
       "      <th>day</th>\n",
       "      <th>ws</th>\n",
       "      <th>ta</th>\n",
       "      <th>hm</th>\n",
       "      <th>rn</th>\n",
       "      <th>result</th>\n",
       "    </tr>\n",
       "  </thead>\n",
       "  <tbody>\n",
       "    <tr>\n",
       "      <th>0</th>\n",
       "      <td>2019</td>\n",
       "      <td>1</td>\n",
       "      <td>1</td>\n",
       "      <td>3.0</td>\n",
       "      <td>4.1</td>\n",
       "      <td>36</td>\n",
       "      <td>0.0</td>\n",
       "      <td>0</td>\n",
       "    </tr>\n",
       "    <tr>\n",
       "      <th>1</th>\n",
       "      <td>2019</td>\n",
       "      <td>1</td>\n",
       "      <td>2</td>\n",
       "      <td>3.9</td>\n",
       "      <td>4.2</td>\n",
       "      <td>30</td>\n",
       "      <td>0.0</td>\n",
       "      <td>1</td>\n",
       "    </tr>\n",
       "    <tr>\n",
       "      <th>2</th>\n",
       "      <td>2019</td>\n",
       "      <td>1</td>\n",
       "      <td>3</td>\n",
       "      <td>5.1</td>\n",
       "      <td>5.3</td>\n",
       "      <td>20</td>\n",
       "      <td>0.0</td>\n",
       "      <td>1</td>\n",
       "    </tr>\n",
       "    <tr>\n",
       "      <th>3</th>\n",
       "      <td>2019</td>\n",
       "      <td>1</td>\n",
       "      <td>4</td>\n",
       "      <td>5.8</td>\n",
       "      <td>6.3</td>\n",
       "      <td>20</td>\n",
       "      <td>0.0</td>\n",
       "      <td>0</td>\n",
       "    </tr>\n",
       "    <tr>\n",
       "      <th>4</th>\n",
       "      <td>2019</td>\n",
       "      <td>1</td>\n",
       "      <td>5</td>\n",
       "      <td>4.4</td>\n",
       "      <td>7.0</td>\n",
       "      <td>40</td>\n",
       "      <td>0.0</td>\n",
       "      <td>1</td>\n",
       "    </tr>\n",
       "  </tbody>\n",
       "</table>\n",
       "</div>"
      ],
      "text/plain": [
       "   year  month  day   ws   ta  hm   rn  result\n",
       "0  2019      1    1  3.0  4.1  36  0.0       0\n",
       "1  2019      1    2  3.9  4.2  30  0.0       1\n",
       "2  2019      1    3  5.1  5.3  20  0.0       1\n",
       "3  2019      1    4  5.8  6.3  20  0.0       0\n",
       "4  2019      1    5  4.4  7.0  40  0.0       1"
      ]
     },
     "execution_count": 2,
     "metadata": {},
     "output_type": "execute_result"
    }
   ],
   "source": [
    "df = pd.read_excel('../데이터/최종본.xlsx')\n",
    "df.head()"
   ]
  },
  {
   "cell_type": "code",
   "execution_count": 3,
   "metadata": {},
   "outputs": [
    {
     "name": "stdout",
     "output_type": "stream",
     "text": [
      "result 0과 1의 비율:\n",
      "result\n",
      "0    75.945205\n",
      "1    24.054795\n",
      "Name: proportion, dtype: float64\n"
     ]
    }
   ],
   "source": [
    "result_counts = df['result'].value_counts(normalize=True) * 100  # 비율(%)\n",
    "print(\"result 0과 1의 비율:\")\n",
    "print(result_counts)"
   ]
  },
  {
   "cell_type": "markdown",
   "metadata": {},
   "source": [
    "# 2. 특징과 레이블 선택"
   ]
  },
  {
   "cell_type": "code",
   "execution_count": 4,
   "metadata": {},
   "outputs": [
    {
     "name": "stdout",
     "output_type": "stream",
     "text": [
      "<class 'pandas.core.frame.DataFrame'>\n",
      "RangeIndex: 1825 entries, 0 to 1824\n",
      "Data columns (total 53 columns):\n",
      " #   Column     Non-Null Count  Dtype  \n",
      "---  ------     --------------  -----  \n",
      " 0   ws         1825 non-null   float64\n",
      " 1   ta         1825 non-null   float64\n",
      " 2   hm         1825 non-null   int64  \n",
      " 3   rn         1825 non-null   float64\n",
      " 4   result     1825 non-null   int64  \n",
      " 5   year_2019  1825 non-null   bool   \n",
      " 6   year_2020  1825 non-null   bool   \n",
      " 7   year_2021  1825 non-null   bool   \n",
      " 8   year_2022  1825 non-null   bool   \n",
      " 9   year_2023  1825 non-null   bool   \n",
      " 10  month_1    1825 non-null   bool   \n",
      " 11  month_2    1825 non-null   bool   \n",
      " 12  month_3    1825 non-null   bool   \n",
      " 13  month_4    1825 non-null   bool   \n",
      " 14  month_5    1825 non-null   bool   \n",
      " 15  month_6    1825 non-null   bool   \n",
      " 16  month_7    1825 non-null   bool   \n",
      " 17  month_8    1825 non-null   bool   \n",
      " 18  month_9    1825 non-null   bool   \n",
      " 19  month_10   1825 non-null   bool   \n",
      " 20  month_11   1825 non-null   bool   \n",
      " 21  month_12   1825 non-null   bool   \n",
      " 22  day_1      1825 non-null   bool   \n",
      " 23  day_2      1825 non-null   bool   \n",
      " 24  day_3      1825 non-null   bool   \n",
      " 25  day_4      1825 non-null   bool   \n",
      " 26  day_5      1825 non-null   bool   \n",
      " 27  day_6      1825 non-null   bool   \n",
      " 28  day_7      1825 non-null   bool   \n",
      " 29  day_8      1825 non-null   bool   \n",
      " 30  day_9      1825 non-null   bool   \n",
      " 31  day_10     1825 non-null   bool   \n",
      " 32  day_11     1825 non-null   bool   \n",
      " 33  day_12     1825 non-null   bool   \n",
      " 34  day_13     1825 non-null   bool   \n",
      " 35  day_14     1825 non-null   bool   \n",
      " 36  day_15     1825 non-null   bool   \n",
      " 37  day_16     1825 non-null   bool   \n",
      " 38  day_17     1825 non-null   bool   \n",
      " 39  day_18     1825 non-null   bool   \n",
      " 40  day_19     1825 non-null   bool   \n",
      " 41  day_20     1825 non-null   bool   \n",
      " 42  day_21     1825 non-null   bool   \n",
      " 43  day_22     1825 non-null   bool   \n",
      " 44  day_23     1825 non-null   bool   \n",
      " 45  day_24     1825 non-null   bool   \n",
      " 46  day_25     1825 non-null   bool   \n",
      " 47  day_26     1825 non-null   bool   \n",
      " 48  day_27     1825 non-null   bool   \n",
      " 49  day_28     1825 non-null   bool   \n",
      " 50  day_29     1825 non-null   bool   \n",
      " 51  day_30     1825 non-null   bool   \n",
      " 52  day_31     1825 non-null   bool   \n",
      "dtypes: bool(48), float64(3), int64(2)\n",
      "memory usage: 157.0 KB\n"
     ]
    }
   ],
   "source": [
    "df_encoded = pd.get_dummies(df, columns=['year', 'month', 'day'], prefix=['year', 'month', 'day'])\n",
    "df_encoded.info()"
   ]
  },
  {
   "cell_type": "code",
   "execution_count": 5,
   "metadata": {},
   "outputs": [],
   "source": [
    "X = df_encoded.drop(columns=['result'])  # result 열을 제외한 모든 열\n",
    "y = df_encoded['result']  # 레이블"
   ]
  },
  {
   "cell_type": "markdown",
   "metadata": {},
   "source": [
    "# 3. 데이터 분할\n",
    "(훈련/검증 세트, 비율: 90:10)   "
   ]
  },
  {
   "cell_type": "code",
   "execution_count": 6,
   "metadata": {},
   "outputs": [],
   "source": [
    "# 훈련 세트와 테스트 세트로 나누기\n",
    "X_train, X_test, y_train, y_test = train_test_split(X, y, test_size=0.1, random_state=42, stratify=y)"
   ]
  },
  {
   "cell_type": "code",
   "execution_count": 7,
   "metadata": {},
   "outputs": [
    {
     "data": {
      "text/html": [
       "<style>#sk-container-id-1 {color: black;}#sk-container-id-1 pre{padding: 0;}#sk-container-id-1 div.sk-toggleable {background-color: white;}#sk-container-id-1 label.sk-toggleable__label {cursor: pointer;display: block;width: 100%;margin-bottom: 0;padding: 0.3em;box-sizing: border-box;text-align: center;}#sk-container-id-1 label.sk-toggleable__label-arrow:before {content: \"▸\";float: left;margin-right: 0.25em;color: #696969;}#sk-container-id-1 label.sk-toggleable__label-arrow:hover:before {color: black;}#sk-container-id-1 div.sk-estimator:hover label.sk-toggleable__label-arrow:before {color: black;}#sk-container-id-1 div.sk-toggleable__content {max-height: 0;max-width: 0;overflow: hidden;text-align: left;background-color: #f0f8ff;}#sk-container-id-1 div.sk-toggleable__content pre {margin: 0.2em;color: black;border-radius: 0.25em;background-color: #f0f8ff;}#sk-container-id-1 input.sk-toggleable__control:checked~div.sk-toggleable__content {max-height: 200px;max-width: 100%;overflow: auto;}#sk-container-id-1 input.sk-toggleable__control:checked~label.sk-toggleable__label-arrow:before {content: \"▾\";}#sk-container-id-1 div.sk-estimator input.sk-toggleable__control:checked~label.sk-toggleable__label {background-color: #d4ebff;}#sk-container-id-1 div.sk-label input.sk-toggleable__control:checked~label.sk-toggleable__label {background-color: #d4ebff;}#sk-container-id-1 input.sk-hidden--visually {border: 0;clip: rect(1px 1px 1px 1px);clip: rect(1px, 1px, 1px, 1px);height: 1px;margin: -1px;overflow: hidden;padding: 0;position: absolute;width: 1px;}#sk-container-id-1 div.sk-estimator {font-family: monospace;background-color: #f0f8ff;border: 1px dotted black;border-radius: 0.25em;box-sizing: border-box;margin-bottom: 0.5em;}#sk-container-id-1 div.sk-estimator:hover {background-color: #d4ebff;}#sk-container-id-1 div.sk-parallel-item::after {content: \"\";width: 100%;border-bottom: 1px solid gray;flex-grow: 1;}#sk-container-id-1 div.sk-label:hover label.sk-toggleable__label {background-color: #d4ebff;}#sk-container-id-1 div.sk-serial::before {content: \"\";position: absolute;border-left: 1px solid gray;box-sizing: border-box;top: 0;bottom: 0;left: 50%;z-index: 0;}#sk-container-id-1 div.sk-serial {display: flex;flex-direction: column;align-items: center;background-color: white;padding-right: 0.2em;padding-left: 0.2em;position: relative;}#sk-container-id-1 div.sk-item {position: relative;z-index: 1;}#sk-container-id-1 div.sk-parallel {display: flex;align-items: stretch;justify-content: center;background-color: white;position: relative;}#sk-container-id-1 div.sk-item::before, #sk-container-id-1 div.sk-parallel-item::before {content: \"\";position: absolute;border-left: 1px solid gray;box-sizing: border-box;top: 0;bottom: 0;left: 50%;z-index: -1;}#sk-container-id-1 div.sk-parallel-item {display: flex;flex-direction: column;z-index: 1;position: relative;background-color: white;}#sk-container-id-1 div.sk-parallel-item:first-child::after {align-self: flex-end;width: 50%;}#sk-container-id-1 div.sk-parallel-item:last-child::after {align-self: flex-start;width: 50%;}#sk-container-id-1 div.sk-parallel-item:only-child::after {width: 0;}#sk-container-id-1 div.sk-dashed-wrapped {border: 1px dashed gray;margin: 0 0.4em 0.5em 0.4em;box-sizing: border-box;padding-bottom: 0.4em;background-color: white;}#sk-container-id-1 div.sk-label label {font-family: monospace;font-weight: bold;display: inline-block;line-height: 1.2em;}#sk-container-id-1 div.sk-label-container {text-align: center;}#sk-container-id-1 div.sk-container {/* jupyter's `normalize.less` sets `[hidden] { display: none; }` but bootstrap.min.css set `[hidden] { display: none !important; }` so we also need the `!important` here to be able to override the default hidden behavior on the sphinx rendered scikit-learn.org. See: https://github.com/scikit-learn/scikit-learn/issues/21755 */display: inline-block !important;position: relative;}#sk-container-id-1 div.sk-text-repr-fallback {display: none;}</style><div id=\"sk-container-id-1\" class=\"sk-top-container\"><div class=\"sk-text-repr-fallback\"><pre>RandomForestClassifier(random_state=42)</pre><b>In a Jupyter environment, please rerun this cell to show the HTML representation or trust the notebook. <br />On GitHub, the HTML representation is unable to render, please try loading this page with nbviewer.org.</b></div><div class=\"sk-container\" hidden><div class=\"sk-item\"><div class=\"sk-estimator sk-toggleable\"><input class=\"sk-toggleable__control sk-hidden--visually\" id=\"sk-estimator-id-1\" type=\"checkbox\" checked><label for=\"sk-estimator-id-1\" class=\"sk-toggleable__label sk-toggleable__label-arrow\">RandomForestClassifier</label><div class=\"sk-toggleable__content\"><pre>RandomForestClassifier(random_state=42)</pre></div></div></div></div></div>"
      ],
      "text/plain": [
       "RandomForestClassifier(random_state=42)"
      ]
     },
     "execution_count": 7,
     "metadata": {},
     "output_type": "execute_result"
    }
   ],
   "source": [
    "model = RandomForestClassifier(n_estimators=100, random_state=42)\n",
    "model.fit(X_train, y_train)"
   ]
  },
  {
   "cell_type": "code",
   "execution_count": 8,
   "metadata": {},
   "outputs": [
    {
     "data": {
      "image/png": "[encoded data removed]",
      "text/plain": [
       "<Figure size 800x600 with 1 Axes>"
      ]
     },
     "metadata": {},
     "output_type": "display_data"
    },
    {
     "name": "stdout",
     "output_type": "stream",
     "text": [
      "Optimal Threshold: 0.28\n"
     ]
    }
   ],
   "source": [
    "import matplotlib.pyplot as plt\n",
    "\n",
    "# 예측 확률\n",
    "y_scores = model.predict_proba(X_test)[:, 1]\n",
    "\n",
    "# ROC 곡선 계산\n",
    "fpr, tpr, thresholds = roc_curve(y_test, y_scores)\n",
    "\n",
    "# ROC 곡선 시각화\n",
    "plt.figure(figsize=(8, 6))\n",
    "plt.plot(fpr, tpr, marker='.')\n",
    "plt.xlabel('False Positive Rate')\n",
    "plt.ylabel('True Positive Rate')\n",
    "plt.title('ROC Curve')\n",
    "plt.grid()\n",
    "plt.show()\n",
    "\n",
    "# 최적의 threshold 찾기 (TPR와 FPR의 차이가 가장 큰 지점)\n",
    "optimal_idx = np.argmax(tpr - fpr)\n",
    "optimal_threshold = thresholds[optimal_idx]\n",
    "print(f\"Optimal Threshold: {optimal_threshold}\")"
   ]
  },
  {
   "cell_type": "markdown",
   "metadata": {},
   "source": [
    "# 5. 예측 및 평가"
   ]
  },
  {
   "cell_type": "code",
   "execution_count": 9,
   "metadata": {},
   "outputs": [
    {
     "name": "stdout",
     "output_type": "stream",
     "text": [
      "검증 세트 정확도: 0.7158469945355191\n",
      "검증 세트 ROC AUC 점수: 0.8005232177894048\n",
      "검증 세트 보고서:\n",
      "               precision    recall  f1-score   support\n",
      "\n",
      "           0       0.91      0.70      0.79       139\n",
      "           1       0.45      0.77      0.57        44\n",
      "\n",
      "    accuracy                           0.72       183\n",
      "   macro avg       0.68      0.74      0.68       183\n",
      "weighted avg       0.80      0.72      0.74       183\n",
      "\n"
     ]
    }
   ],
   "source": [
    "# 최적의 threshold를 사용하여 예측\n",
    "y_val_pred = (y_scores >= optimal_threshold).astype(int)\n",
    "\n",
    "# 모델 평가\n",
    "print(\"검증 세트 정확도:\", accuracy_score(y_test, y_val_pred))\n",
    "print(\"검증 세트 ROC AUC 점수:\", roc_auc_score(y_test, y_scores))\n",
    "print(\"검증 세트 보고서:\\n\", classification_report(y_test, y_val_pred))"
   ]
  },
  {
   "cell_type": "code",
   "execution_count": 10,
   "metadata": {},
   "outputs": [
    {
     "name": "stdout",
     "output_type": "stream",
     "text": [
      "검증 세트 정확도: 0.7978142076502732\n",
      "검증 세트 ROC AUC 점수: 0.8005232177894048\n",
      "검증 세트 보고서:\n",
      "               precision    recall  f1-score   support\n",
      "\n",
      "           0       0.82      0.94      0.88       139\n",
      "           1       0.65      0.34      0.45        44\n",
      "\n",
      "    accuracy                           0.80       183\n",
      "   macro avg       0.74      0.64      0.66       183\n",
      "weighted avg       0.78      0.80      0.77       183\n",
      "\n"
     ]
    }
   ],
   "source": [
    "test_pred = model.predict(X_test)\n",
    "\n",
    "# 모델 평가\n",
    "print(\"검증 세트 정확도:\", accuracy_score(y_test, test_pred))\n",
    "print(\"검증 세트 ROC AUC 점수:\", roc_auc_score(y_test, model.predict_proba(X_test)[:, 1]))\n",
    "print(\"검증 세트 보고서:\\n\", classification_report(y_test, test_pred))"
   ]
  },
  {
   "cell_type": "code",
   "execution_count": 11,
   "metadata": {},
   "outputs": [],
   "source": [
    "test_pred_proba = model.predict_proba(X_test)[:, 1]  # 양성 클래스에 대한 확률\n",
    "\n",
    "# 7. 테스트 세트와 예측 결과 출력\n",
    "test_results = pd.DataFrame({\n",
    "    '정답': y_test,\n",
    "    '예측': test_pred,\n",
    "    '예측 확률': test_pred_proba,\n",
    "    '풍속 (ws)': X_test['ws'].values,\n",
    "    '기온 (ta)': X_test['ta'].values,\n",
    "    '습도 (hm)': X_test['hm'].values,\n",
    "    '일일강수량 (rn)': X_test['rn'].values\n",
    "})"
   ]
  },
  {
   "cell_type": "code",
   "execution_count": 12,
   "metadata": {},
   "outputs": [
    {
     "name": "stdout",
     "output_type": "stream",
     "text": [
      "\n",
      "테스트 세트 결과:\n"
     ]
    },
    {
     "data": {
      "text/html": [
       "<div>\n",
       "<style scoped>\n",
       "    .dataframe tbody tr th:only-of-type {\n",
       "        vertical-align: middle;\n",
       "    }\n",
       "\n",
       "    .dataframe tbody tr th {\n",
       "        vertical-align: top;\n",
       "    }\n",
       "\n",
       "    .dataframe thead th {\n",
       "        text-align: right;\n",
       "    }\n",
       "</style>\n",
       "<table border=\"1\" class=\"dataframe\">\n",
       "  <thead>\n",
       "    <tr style=\"text-align: right;\">\n",
       "      <th></th>\n",
       "      <th>정답</th>\n",
       "      <th>예측</th>\n",
       "      <th>예측 확률</th>\n",
       "      <th>풍속 (ws)</th>\n",
       "      <th>기온 (ta)</th>\n",
       "      <th>습도 (hm)</th>\n",
       "      <th>일일강수량 (rn)</th>\n",
       "    </tr>\n",
       "  </thead>\n",
       "  <tbody>\n",
       "    <tr>\n",
       "      <th>1017</th>\n",
       "      <td>0</td>\n",
       "      <td>0</td>\n",
       "      <td>0.25</td>\n",
       "      <td>2.3</td>\n",
       "      <td>25.6</td>\n",
       "      <td>60</td>\n",
       "      <td>0.0</td>\n",
       "    </tr>\n",
       "    <tr>\n",
       "      <th>907</th>\n",
       "      <td>0</td>\n",
       "      <td>0</td>\n",
       "      <td>0.39</td>\n",
       "      <td>3.2</td>\n",
       "      <td>27.4</td>\n",
       "      <td>60</td>\n",
       "      <td>0.0</td>\n",
       "    </tr>\n",
       "    <tr>\n",
       "      <th>543</th>\n",
       "      <td>1</td>\n",
       "      <td>1</td>\n",
       "      <td>0.51</td>\n",
       "      <td>2.5</td>\n",
       "      <td>28.0</td>\n",
       "      <td>61</td>\n",
       "      <td>0.0</td>\n",
       "    </tr>\n",
       "    <tr>\n",
       "      <th>650</th>\n",
       "      <td>0</td>\n",
       "      <td>0</td>\n",
       "      <td>0.06</td>\n",
       "      <td>2.9</td>\n",
       "      <td>22.4</td>\n",
       "      <td>50</td>\n",
       "      <td>0.0</td>\n",
       "    </tr>\n",
       "    <tr>\n",
       "      <th>1800</th>\n",
       "      <td>1</td>\n",
       "      <td>0</td>\n",
       "      <td>0.08</td>\n",
       "      <td>3.6</td>\n",
       "      <td>16.9</td>\n",
       "      <td>33</td>\n",
       "      <td>0.0</td>\n",
       "    </tr>\n",
       "    <tr>\n",
       "      <th>739</th>\n",
       "      <td>0</td>\n",
       "      <td>1</td>\n",
       "      <td>0.53</td>\n",
       "      <td>3.2</td>\n",
       "      <td>-2.6</td>\n",
       "      <td>30</td>\n",
       "      <td>0.0</td>\n",
       "    </tr>\n",
       "    <tr>\n",
       "      <th>1141</th>\n",
       "      <td>0</td>\n",
       "      <td>1</td>\n",
       "      <td>0.56</td>\n",
       "      <td>3.9</td>\n",
       "      <td>3.0</td>\n",
       "      <td>35</td>\n",
       "      <td>0.0</td>\n",
       "    </tr>\n",
       "    <tr>\n",
       "      <th>1748</th>\n",
       "      <td>1</td>\n",
       "      <td>0</td>\n",
       "      <td>0.20</td>\n",
       "      <td>6.4</td>\n",
       "      <td>21.6</td>\n",
       "      <td>43</td>\n",
       "      <td>0.0</td>\n",
       "    </tr>\n",
       "    <tr>\n",
       "      <th>1021</th>\n",
       "      <td>0</td>\n",
       "      <td>0</td>\n",
       "      <td>0.41</td>\n",
       "      <td>2.7</td>\n",
       "      <td>19.4</td>\n",
       "      <td>41</td>\n",
       "      <td>0.0</td>\n",
       "    </tr>\n",
       "    <tr>\n",
       "      <th>1094</th>\n",
       "      <td>0</td>\n",
       "      <td>0</td>\n",
       "      <td>0.38</td>\n",
       "      <td>4.9</td>\n",
       "      <td>2.2</td>\n",
       "      <td>25</td>\n",
       "      <td>0.0</td>\n",
       "    </tr>\n",
       "    <tr>\n",
       "      <th>962</th>\n",
       "      <td>0</td>\n",
       "      <td>0</td>\n",
       "      <td>0.04</td>\n",
       "      <td>4.2</td>\n",
       "      <td>24.1</td>\n",
       "      <td>100</td>\n",
       "      <td>74.7</td>\n",
       "    </tr>\n",
       "    <tr>\n",
       "      <th>1274</th>\n",
       "      <td>0</td>\n",
       "      <td>0</td>\n",
       "      <td>0.03</td>\n",
       "      <td>13.3</td>\n",
       "      <td>24.6</td>\n",
       "      <td>98</td>\n",
       "      <td>17.1</td>\n",
       "    </tr>\n",
       "    <tr>\n",
       "      <th>656</th>\n",
       "      <td>0</td>\n",
       "      <td>0</td>\n",
       "      <td>0.37</td>\n",
       "      <td>2.1</td>\n",
       "      <td>21.4</td>\n",
       "      <td>30</td>\n",
       "      <td>0.0</td>\n",
       "    </tr>\n",
       "    <tr>\n",
       "      <th>1057</th>\n",
       "      <td>0</td>\n",
       "      <td>0</td>\n",
       "      <td>0.26</td>\n",
       "      <td>4.1</td>\n",
       "      <td>12.4</td>\n",
       "      <td>44</td>\n",
       "      <td>0.0</td>\n",
       "    </tr>\n",
       "    <tr>\n",
       "      <th>20</th>\n",
       "      <td>0</td>\n",
       "      <td>0</td>\n",
       "      <td>0.21</td>\n",
       "      <td>3.6</td>\n",
       "      <td>5.4</td>\n",
       "      <td>31</td>\n",
       "      <td>0.0</td>\n",
       "    </tr>\n",
       "  </tbody>\n",
       "</table>\n",
       "</div>"
      ],
      "text/plain": [
       "      정답  예측  예측 확률  풍속 (ws)  기온 (ta)  습도 (hm)  일일강수량 (rn)\n",
       "1017   0   0   0.25      2.3     25.6       60         0.0\n",
       "907    0   0   0.39      3.2     27.4       60         0.0\n",
       "543    1   1   0.51      2.5     28.0       61         0.0\n",
       "650    0   0   0.06      2.9     22.4       50         0.0\n",
       "1800   1   0   0.08      3.6     16.9       33         0.0\n",
       "739    0   1   0.53      3.2     -2.6       30         0.0\n",
       "1141   0   1   0.56      3.9      3.0       35         0.0\n",
       "1748   1   0   0.20      6.4     21.6       43         0.0\n",
       "1021   0   0   0.41      2.7     19.4       41         0.0\n",
       "1094   0   0   0.38      4.9      2.2       25         0.0\n",
       "962    0   0   0.04      4.2     24.1      100        74.7\n",
       "1274   0   0   0.03     13.3     24.6       98        17.1\n",
       "656    0   0   0.37      2.1     21.4       30         0.0\n",
       "1057   0   0   0.26      4.1     12.4       44         0.0\n",
       "20     0   0   0.21      3.6      5.4       31         0.0"
      ]
     },
     "execution_count": 12,
     "metadata": {},
     "output_type": "execute_result"
    }
   ],
   "source": [
    "print(\"\\n테스트 세트 결과:\")\n",
    "test_results.sample(15)"
   ]
  },
  {
   "cell_type": "markdown",
   "metadata": {},
   "source": [
    "# 6. 피처 중요도"
   ]
  },
  {
   "cell_type": "code",
   "execution_count": 13,
   "metadata": {},
   "outputs": [
    {
     "data": {
      "image/png": "[encoded data removed]",
      "text/plain": [
       "<Figure size 1000x600 with 1 Axes>"
      ]
     },
     "metadata": {},
     "output_type": "display_data"
    }
   ],
   "source": [
    "# 특성 중요도 가져오기\n",
    "importances = model.feature_importances_\n",
    "\n",
    "# 피처 이름과 중요도를 데이터프레임으로 변환\n",
    "feature_importance_df = pd.DataFrame({'Feature': X.columns, 'Importance': importances})\n",
    "\n",
    "# 중요도 기준으로 정렬\n",
    "feature_importance_df = feature_importance_df.sort_values(by='Importance', ascending=False)\n",
    "\n",
    "# 특성 중요도 시각화\n",
    "plt.figure(figsize=(10, 6))\n",
    "plt.barh(feature_importance_df['Feature'], feature_importance_df['Importance'], color='skyblue')\n",
    "plt.xlabel('Importance')\n",
    "plt.title('Feature Importance from Random Forest Classifier')\n",
    "plt.show()"
   ]
  }
 ],
 "metadata": {
  "kernelspec": {
   "display_name": "DeepLearning",
   "language": "python",
   "name": "deeplearning"
  },
  "language_info": {
   "codemirror_mode": {
    "name": "ipython",
    "version": 3
   },
   "file_extension": ".py",
   "mimetype": "text/x-python",
   "name": "python",
   "nbconvert_exporter": "python",
   "pygments_lexer": "ipython3",
   "version": "3.8.19"
  }
 },
 "nbformat": 4,
 "nbformat_minor": 2
}
