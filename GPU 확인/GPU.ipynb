{
 "cells": [
  {
   "cell_type": "markdown",
   "metadata": {},
   "source": [
    "# 경고 제거"
   ]
  },
  {
   "cell_type": "code",
   "execution_count": 1,
   "metadata": {},
   "outputs": [],
   "source": [
    "import warnings\n",
    "\n",
    "# 특정 UserWarning을 무시\n",
    "warnings.filterwarnings(\"ignore\", category=UserWarning)"
   ]
  },
  {
   "cell_type": "markdown",
   "metadata": {},
   "source": [
    "# GPU사용 가능 여부 확인"
   ]
  },
  {
   "cell_type": "code",
   "execution_count": 2,
   "metadata": {},
   "outputs": [
    {
     "name": "stdout",
     "output_type": "stream",
     "text": [
      "True\n"
     ]
    },
    {
     "name": "stderr",
     "output_type": "stream",
     "text": [
      "c:\\Users\\USER\\anaconda3\\envs\\detectron\\lib\\site-packages\\tqdm\\auto.py:21: TqdmWarning: IProgress not found. Please update jupyter and ipywidgets. See https://ipywidgets.readthedocs.io/en/stable/user_install.html\n",
      "  from .autonotebook import tqdm as notebook_tqdm\n"
     ]
    }
   ],
   "source": [
    "import torch\n",
    "\n",
    "# GPU 사용 가능 -> True, GPU 사용 불가 -> False\n",
    "print(torch.cuda.is_available())"
   ]
  },
  {
   "cell_type": "code",
   "execution_count": 3,
   "metadata": {},
   "outputs": [
    {
     "data": {
      "text/plain": [
       "'1.10.0+cu113'"
      ]
     },
     "execution_count": 3,
     "metadata": {},
     "output_type": "execute_result"
    }
   ],
   "source": [
    "torch.__version__"
   ]
  },
  {
   "cell_type": "markdown",
   "metadata": {},
   "source": [
    "- GPU 여부에 따라서 사용할 디바이스 종류 자동 지정   \n",
    "cuda: GPU, cpu: cpu"
   ]
  },
  {
   "cell_type": "code",
   "execution_count": 4,
   "metadata": {},
   "outputs": [
    {
     "name": "stdout",
     "output_type": "stream",
     "text": [
      "cuda:0\n"
     ]
    }
   ],
   "source": [
    "# GPU 사용 가능 -> 가장 빠른 번호 GPU, GPU 사용 불가 -> CPU 자동 지정 예시\n",
    "device = torch.device('cuda:0') if torch.cuda.is_available() else torch.device('cpu')\n",
    "print(device)"
   ]
  },
  {
   "cell_type": "markdown",
   "metadata": {},
   "source": [
    "# 연결된 GPU 이름 및 개수"
   ]
  },
  {
   "cell_type": "code",
   "execution_count": 7,
   "metadata": {},
   "outputs": [
    {
     "name": "stdout",
     "output_type": "stream",
     "text": [
      "NVIDIA GeForce RTX 3070 Ti\n",
      "1\n"
     ]
    }
   ],
   "source": [
    "# GPU 이름 체크(cuda:0에 연결된 그래픽 카드 기준)\n",
    "print(torch.cuda.get_device_name(device = 0)) # 'NVIDIA TITAN X (Pascal)'\n",
    "\n",
    "# 사용 가능 GPU 개수 체크\n",
    "print(torch.cuda.device_count()) # 3"
   ]
  },
  {
   "cell_type": "markdown",
   "metadata": {},
   "source": [
    "# 현재 컴퓨터 환경"
   ]
  },
  {
   "cell_type": "code",
   "execution_count": 8,
   "metadata": {},
   "outputs": [
    {
     "name": "stdout",
     "output_type": "stream",
     "text": [
      "Package                  Version\n",
      "------------------------ ------------------\n",
      "absl-py                  2.1.0\n",
      "antlr4-python3-runtime   4.9.3\n",
      "appdirs                  1.4.4\n",
      "asgiref                  3.8.1\n",
      "asttokens                2.4.1\n",
      "backcall                 0.2.0\n",
      "backports.zoneinfo       0.2.1\n",
      "black                    21.4b2\n",
      "CacheControl             0.14.0\n",
      "cachetools               5.5.0\n",
      "certifi                  2024.8.30\n",
      "cffi                     1.17.1\n",
      "charset-normalizer       3.3.2\n",
      "click                    8.1.7\n",
      "cloudpickle              3.0.0\n",
      "colorama                 0.4.6\n",
      "comm                     0.2.2\n",
      "contourpy                1.1.1\n",
      "cryptography             43.0.1\n",
      "cycler                   0.12.1\n",
      "debugpy                  1.8.5\n",
      "decorator                5.1.1\n",
      "detectron2               0.6\n",
      "Django                   4.2.16\n",
      "executing                2.1.0\n",
      "firebase-admin           6.5.0\n",
      "fonttools                4.54.1\n",
      "future                   1.0.0\n",
      "fvcore                   0.1.5.post20221221\n",
      "google-api-core          2.20.0\n",
      "google-api-python-client 2.147.0\n",
      "google-auth              2.35.0\n",
      "google-auth-httplib2     0.2.0\n",
      "google-auth-oauthlib     1.0.0\n",
      "google-cloud-core        2.4.1\n",
      "google-cloud-firestore   2.19.0\n",
      "google-cloud-storage     2.18.2\n",
      "google-crc32c            1.5.0\n",
      "google-resumable-media   2.7.2\n",
      "googleapis-common-protos 1.65.0\n",
      "grpcio                   1.66.2\n",
      "grpcio-status            1.66.2\n",
      "httplib2                 0.22.0\n",
      "hydra-core               1.3.2\n",
      "idna                     3.10\n",
      "importlib_metadata       8.5.0\n",
      "importlib_resources      6.4.5\n",
      "iopath                   0.1.9\n",
      "ipykernel                6.29.5\n",
      "ipython                  8.12.2\n",
      "jedi                     0.19.1\n",
      "jupyter_client           8.6.3\n",
      "jupyter_core             5.7.2\n",
      "kiwisolver               1.4.7\n",
      "Markdown                 3.7\n",
      "MarkupSafe               2.1.5\n",
      "matplotlib               3.7.5\n",
      "matplotlib-inline        0.1.7\n",
      "msgpack                  1.1.0\n",
      "mypy-extensions          1.0.0\n",
      "nest_asyncio             1.6.0\n",
      "numpy                    1.23.1\n",
      "oauthlib                 3.2.2\n",
      "omegaconf                2.3.0\n",
      "opencv-python            4.10.0.84\n",
      "packaging                24.1\n",
      "parso                    0.8.4\n",
      "pathspec                 0.12.1\n",
      "pickleshare              0.7.5\n",
      "Pillow                   9.5.0\n",
      "pip                      24.2\n",
      "platformdirs             4.3.6\n",
      "portalocker              2.10.1\n",
      "prompt_toolkit           3.0.48\n",
      "proto-plus               1.24.0\n",
      "protobuf                 5.28.2\n",
      "psutil                   6.0.0\n",
      "pure_eval                0.2.3\n",
      "pyasn1                   0.6.1\n",
      "pyasn1_modules           0.4.1\n",
      "pycocotools              2.0.7\n",
      "pycparser                2.22\n",
      "pydot                    3.0.2\n",
      "Pygments                 2.18.0\n",
      "PyJWT                    2.9.0\n",
      "pyparsing                3.1.4\n",
      "python-dateutil          2.9.0\n",
      "pywin32                  306\n",
      "PyYAML                   6.0.2\n",
      "pyzmq                    26.2.0\n",
      "regex                    2024.9.11\n",
      "requests                 2.32.3\n",
      "requests-oauthlib        2.0.0\n",
      "rsa                      4.9\n",
      "setuptools               59.5.0\n",
      "six                      1.16.0\n",
      "sqlparse                 0.5.1\n",
      "stack-data               0.6.2\n",
      "tabulate                 0.9.0\n",
      "tensorboard              2.14.0\n",
      "tensorboard-data-server  0.7.2\n",
      "termcolor                2.4.0\n",
      "toml                     0.10.2\n",
      "torch                    1.10.0+cu113\n",
      "torchaudio               0.10.0+cu113\n",
      "torchvision              0.11.0+cu113\n",
      "tornado                  6.4.1\n",
      "tqdm                     4.66.5\n",
      "traitlets                5.14.3\n",
      "typing_extensions        4.12.2\n",
      "tzdata                   2024.2\n",
      "uritemplate              4.1.1\n",
      "urllib3                  2.2.3\n",
      "wcwidth                  0.2.13\n",
      "Werkzeug                 3.0.4\n",
      "wheel                    0.44.0\n",
      "yacs                     0.1.8\n",
      "zipp                     3.20.2\n",
      "Note: you may need to restart the kernel to use updated packages.\n"
     ]
    }
   ],
   "source": [
    "pip list"
   ]
  },
  {
   "cell_type": "code",
   "execution_count": 10,
   "metadata": {},
   "outputs": [
    {
     "name": "stdout",
     "output_type": "stream",
     "text": [
      "CUDA 버전: 11.3\n"
     ]
    }
   ],
   "source": [
    "import torch\n",
    "print('CUDA 버전:', torch.version.cuda)\n"
   ]
  },
  {
   "cell_type": "code",
   "execution_count": 13,
   "metadata": {},
   "outputs": [
    {
     "name": "stdout",
     "output_type": "stream",
     "text": [
      "cudnn 버전: 8200\n"
     ]
    }
   ],
   "source": [
    "import torch\n",
    "print('cudnn 버전:', torch.backends.cudnn.version())\n"
   ]
  },
  {
   "cell_type": "code",
   "execution_count": 14,
   "metadata": {},
   "outputs": [
    {
     "name": "stdout",
     "output_type": "stream",
     "text": [
      "토치 버전: 1.10.0+cu113\n"
     ]
    }
   ],
   "source": [
    "import torch\n",
    "print('토치 버전:', torch.__version__)\n"
   ]
  },
  {
   "cell_type": "code",
   "execution_count": null,
   "metadata": {},
   "outputs": [],
   "source": []
  }
 ],
 "metadata": {
  "kernelspec": {
   "display_name": "detectron",
   "language": "python",
   "name": "python3"
  },
  "language_info": {
   "codemirror_mode": {
    "name": "ipython",
    "version": 3
   },
   "file_extension": ".py",
   "mimetype": "text/x-python",
   "name": "python",
   "nbconvert_exporter": "python",
   "pygments_lexer": "ipython3",
   "version": "3.8.19"
  }
 },
 "nbformat": 4,
 "nbformat_minor": 2
}
