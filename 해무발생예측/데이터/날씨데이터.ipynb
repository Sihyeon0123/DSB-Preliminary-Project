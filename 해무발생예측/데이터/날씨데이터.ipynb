{
 "cells": [
  {
   "cell_type": "markdown",
   "metadata": {},
   "source": [
    "# 라이브러리 임포트"
   ]
  },
  {
   "cell_type": "code",
   "execution_count": 43,
   "metadata": {},
   "outputs": [],
   "source": [
    "import requests\n",
    "import time\n",
    "import json\n",
    "import pandas as pd\n",
    "import requests\n",
    "from tqdm import tqdm"
   ]
  },
  {
   "cell_type": "markdown",
   "metadata": {},
   "source": [
    "# 요청사항 설정"
   ]
  },
  {
   "cell_type": "markdown",
   "metadata": {},
   "source": [
    "SF_0001\t부산항\t35.091\t129.099   \n",
    "SF_0002\t부산항(신항)\t35.023\t128.808   \n",
    "SF_0003\t인천항\t37.379\t126.616   \n",
    "SF_0004\t평택·당진항\t37.113\t126.393   \n",
    "SF_0005\t군산항\t35.974\t126.586   \n",
    "SF_0006\t대산항\t36.977\t126.304   \n",
    "SF_0007\t목포항\t34.751\t126.309   \n",
    "SF_0008\t여수항\t34.754\t127.752   \n",
    "SF_0009\t해운대\t35.159\t129.16   \n",
    "SF_0010\t울산항\t35.501\t129.387   \n",
    "SF_0011\t포항항\t36.051\t129.378"
   ]
  },
  {
   "cell_type": "code",
   "execution_count": 182,
   "metadata": {},
   "outputs": [],
   "source": [
    "인증키 = \"jOlvCw5shKOqFfaIba0ow==\"\n",
    "관측소 = 'SF_0009'\n",
    "날짜 = '20240925'"
   ]
  },
  {
   "cell_type": "markdown",
   "metadata": {},
   "source": [
    "# 데이터 요청 함수"
   ]
  },
  {
   "cell_type": "code",
   "execution_count": 113,
   "metadata": {},
   "outputs": [],
   "source": [
    "def download_file(key ,date, stn):\n",
    "    url = f'http://www.khoa.go.kr/api/oceangrid/seafogReal/search.do?ServiceKey={key}&ObsCode={stn}&Date={date}&ResultType=json'\n",
    "    # print(url)\n",
    "    for attempt in range(5):  # 5회 시도\n",
    "        try:\n",
    "            response = requests.get(url, timeout=10)  # 10초 타임아웃\n",
    "            response.raise_for_status()  # HTTP 오류 발생 시 예외 발생\n",
    "            # JSON 데이터 파싱\n",
    "            data = json.loads(response.content)  # json 데이터로 변환\n",
    "            return data  # 파싱한 JSON 데이터 반환\n",
    "        except requests.exceptions.Timeout:\n",
    "            print(f\"Attempt {attempt + 1} timed out, retrying...\")\n",
    "            time.sleep(1)  # 1초 대기 후 재시도\n",
    "        except requests.exceptions.RequestException as e:\n",
    "            print(f\"Error fetching data for {date}, station {stn}: {e}\")\n",
    "            return None\n",
    "    \n",
    "    print(f\"Failed to fetch data for {date}, station {stn} after multiple attempts.\")\n",
    "    return None"
   ]
  },
  {
   "cell_type": "markdown",
   "metadata": {},
   "source": [
    "# 데이터 요청"
   ]
  },
  {
   "cell_type": "code",
   "execution_count": 25,
   "metadata": {},
   "outputs": [],
   "source": [
    "# json 타입\n",
    "data = download_file(인증키, 날짜, 관측소)"
   ]
  },
  {
   "cell_type": "code",
   "execution_count": 31,
   "metadata": {},
   "outputs": [
    {
     "data": {
      "text/plain": [
       "1440"
      ]
     },
     "execution_count": 31,
     "metadata": {},
     "output_type": "execute_result"
    }
   ],
   "source": [
    "# 일일 데이터 개수\n",
    "len(data['result']['data'])"
   ]
  },
  {
   "cell_type": "markdown",
   "metadata": {},
   "source": [
    "# 피처 누락 확인\n",
    "총 11개가 나와야 정상"
   ]
  },
  {
   "cell_type": "code",
   "execution_count": 199,
   "metadata": {},
   "outputs": [
    {
     "data": {
      "text/plain": [
       "8"
      ]
     },
     "metadata": {},
     "output_type": "display_data"
    },
    {
     "data": {
      "text/plain": [
       "{'obs_time': '2024-09-10 00:00',\n",
       " 'obs_post_id': 'SF_0009',\n",
       " 'obs_lat': '35.15909',\n",
       " 'air-temp': '27.3',\n",
       " 'obs_post_name': '해운대',\n",
       " 'obs_lon': '129.16026',\n",
       " 'vis': '20000',\n",
       " 'air_pres': '1012.9'}"
      ]
     },
     "execution_count": 199,
     "metadata": {},
     "output_type": "execute_result"
    }
   ],
   "source": [
    "# json 타입\n",
    "data = download_file(인증키, '20240910', 관측소)\n",
    "display(len(data['result']['data'][0]))\n",
    "data['result']['data'][0]"
   ]
  },
  {
   "cell_type": "markdown",
   "metadata": {},
   "source": [
    "# 피처가 모두 있는 관측소 및 기간\n",
    "0006 대산항: 2023 01 01   \n",
    "0009 해운대: 2021 12 01 ~ 2023 07 20?\n",
    "\n"
   ]
  },
  {
   "cell_type": "code",
   "execution_count": 209,
   "metadata": {},
   "outputs": [
    {
     "data": {
      "text/plain": [
       "11"
      ]
     },
     "metadata": {},
     "output_type": "display_data"
    },
    {
     "data": {
      "text/plain": [
       "{'obs_time': '2023-07-20 00:00',\n",
       " 'obs_post_id': 'SF_0009',\n",
       " 'obs_lat': '35.15909',\n",
       " 'water_temp': '17.5',\n",
       " 'air-temp': '21.5',\n",
       " 'obs_post_name': '해운대',\n",
       " 'wind_dir': '동북동',\n",
       " 'wind_speed': '2.4',\n",
       " 'obs_lon': '129.16026',\n",
       " 'vis': '1340',\n",
       " 'air_pres': '1007.9'}"
      ]
     },
     "execution_count": 209,
     "metadata": {},
     "output_type": "execute_result"
    }
   ],
   "source": [
    "data = download_file(인증키, '20230720', 관측소)\n",
    "display(len(data['result']['data'][0]))\n",
    "data['result']['data'][0]"
   ]
  },
  {
   "cell_type": "markdown",
   "metadata": {},
   "source": [
    "# json 파싱"
   ]
  },
  {
   "cell_type": "code",
   "execution_count": 184,
   "metadata": {},
   "outputs": [],
   "source": [
    "# DataFrame에 저장할 컬럼 설정\n",
    "columns = ['관측소ID', '관측소명', '관측시간', '경도', '위도', \n",
    "           '기온', '기압', '수온', '풍향', '시정', '풍속']"
   ]
  },
  {
   "cell_type": "code",
   "execution_count": 187,
   "metadata": {},
   "outputs": [],
   "source": [
    "df = pd.DataFrame(columns=columns)\n",
    "\n",
    "# 날짜 범위 설정\n",
    "start_year = 2022\n",
    "end_year = 2023"
   ]
  },
  {
   "cell_type": "code",
   "execution_count": 191,
   "metadata": {},
   "outputs": [
    {
     "name": "stderr",
     "output_type": "stream",
     "text": [
      "Total: 29379day [45:27, 10.77day/s]"
     ]
    },
    {
     "name": "stdout",
     "output_type": "stream",
     "text": [
      "2022 년 1 월\n"
     ]
    },
    {
     "name": "stderr",
     "output_type": "stream",
     "text": [
      "\n"
     ]
    },
    {
     "name": "stdout",
     "output_type": "stream",
     "text": [
      "2022 년 2 월\n"
     ]
    },
    {
     "name": "stderr",
     "output_type": "stream",
     "text": []
    },
    {
     "name": "stdout",
     "output_type": "stream",
     "text": [
      "2022 년 3 월\n"
     ]
    },
    {
     "name": "stderr",
     "output_type": "stream",
     "text": []
    },
    {
     "name": "stdout",
     "output_type": "stream",
     "text": [
      "2022 년 4 월\n"
     ]
    },
    {
     "name": "stderr",
     "output_type": "stream",
     "text": []
    },
    {
     "name": "stdout",
     "output_type": "stream",
     "text": [
      "2022 년 5 월\n"
     ]
    },
    {
     "name": "stderr",
     "output_type": "stream",
     "text": []
    },
    {
     "name": "stdout",
     "output_type": "stream",
     "text": [
      "2022 년 6 월\n"
     ]
    },
    {
     "name": "stderr",
     "output_type": "stream",
     "text": []
    },
    {
     "name": "stdout",
     "output_type": "stream",
     "text": [
      "2022 년 7 월\n"
     ]
    },
    {
     "name": "stderr",
     "output_type": "stream",
     "text": []
    },
    {
     "name": "stdout",
     "output_type": "stream",
     "text": [
      "2022 년 8 월\n"
     ]
    },
    {
     "name": "stderr",
     "output_type": "stream",
     "text": []
    },
    {
     "name": "stdout",
     "output_type": "stream",
     "text": [
      "Attempt 1 timed out, retrying...\n"
     ]
    },
    {
     "name": "stderr",
     "output_type": "stream",
     "text": []
    },
    {
     "name": "stdout",
     "output_type": "stream",
     "text": [
      "2022 년 9 월\n"
     ]
    },
    {
     "name": "stderr",
     "output_type": "stream",
     "text": []
    },
    {
     "name": "stdout",
     "output_type": "stream",
     "text": [
      "2022 년 10 월\n"
     ]
    },
    {
     "name": "stderr",
     "output_type": "stream",
     "text": []
    },
    {
     "name": "stdout",
     "output_type": "stream",
     "text": [
      "2022 년 11 월\n"
     ]
    },
    {
     "name": "stderr",
     "output_type": "stream",
     "text": []
    },
    {
     "name": "stdout",
     "output_type": "stream",
     "text": [
      "2022 년 12 월\n"
     ]
    },
    {
     "name": "stderr",
     "output_type": "stream",
     "text": []
    },
    {
     "name": "stdout",
     "output_type": "stream",
     "text": [
      "2023 년 1 월\n"
     ]
    },
    {
     "name": "stderr",
     "output_type": "stream",
     "text": []
    },
    {
     "name": "stdout",
     "output_type": "stream",
     "text": [
      "2023 년 2 월\n"
     ]
    },
    {
     "name": "stderr",
     "output_type": "stream",
     "text": []
    },
    {
     "name": "stdout",
     "output_type": "stream",
     "text": [
      "2023 년 3 월\n"
     ]
    },
    {
     "name": "stderr",
     "output_type": "stream",
     "text": []
    },
    {
     "name": "stdout",
     "output_type": "stream",
     "text": [
      "2023 년 4 월\n"
     ]
    },
    {
     "name": "stderr",
     "output_type": "stream",
     "text": []
    },
    {
     "name": "stdout",
     "output_type": "stream",
     "text": [
      "2023 년 5 월\n"
     ]
    },
    {
     "name": "stderr",
     "output_type": "stream",
     "text": []
    },
    {
     "name": "stdout",
     "output_type": "stream",
     "text": [
      "2023 년 6 월\n"
     ]
    },
    {
     "name": "stderr",
     "output_type": "stream",
     "text": []
    },
    {
     "name": "stdout",
     "output_type": "stream",
     "text": [
      "2023 년 7 월\n"
     ]
    },
    {
     "name": "stderr",
     "output_type": "stream",
     "text": []
    },
    {
     "name": "stdout",
     "output_type": "stream",
     "text": [
      "2023 년 8 월\n"
     ]
    },
    {
     "name": "stderr",
     "output_type": "stream",
     "text": []
    },
    {
     "name": "stdout",
     "output_type": "stream",
     "text": [
      "2023 년 9 월\n"
     ]
    },
    {
     "name": "stderr",
     "output_type": "stream",
     "text": []
    },
    {
     "name": "stdout",
     "output_type": "stream",
     "text": [
      "2023 년 10 월\n"
     ]
    },
    {
     "name": "stderr",
     "output_type": "stream",
     "text": []
    },
    {
     "name": "stdout",
     "output_type": "stream",
     "text": [
      "2023 년 11 월\n"
     ]
    },
    {
     "name": "stderr",
     "output_type": "stream",
     "text": []
    },
    {
     "name": "stdout",
     "output_type": "stream",
     "text": [
      "2023 년 12 월\n"
     ]
    },
    {
     "name": "stderr",
     "output_type": "stream",
     "text": [
      "Total: 34659day [49:36, 11.64day/s]\n"
     ]
    }
   ],
   "source": [
    "# 전체 진행 상태를 나타내는 tqdm\n",
    "total_days = (end_year - start_year + 1) * 12 * 31 * 24 # 예상 날짜 수 (연도, 월, 일의 모든 경우)\n",
    "\n",
    "# 날짜별로 데이터 수집\n",
    "for year in range(start_year, end_year + 1):\n",
    "    for month in range(1, 13):\n",
    "        print(year, '년', month, '월')\n",
    "        for day in range(1, 32):\n",
    "            try:\n",
    "                # 날짜를 yyyyMMdd 형식으로 변환\n",
    "                date = f'{year:04}{month:02}{day:02}'\n",
    "                \n",
    "                # API 호출\n",
    "                json_data = download_file(인증키, date, 관측소)\n",
    "                \n",
    "                # 데이터가 존재하는지 확인\n",
    "                if json_data and 'result' in json_data and 'data' in json_data['result']:\n",
    "                    # for entry in json_data['result']['data']:\n",
    "                    for i in range(0, len(json_data['result']['data']), 30):\n",
    "                        entry = json_data['result']['data'][i]\n",
    "                        # 새로운 데이터를 임시 DataFrame으로 만들기\n",
    "                        new_data = pd.DataFrame([{\n",
    "                            '관측소ID': entry['obs_post_id'],\n",
    "                            '관측소명': entry['obs_post_name'],\n",
    "                            '관측시간': entry['obs_time'],\n",
    "                            '경도': entry['obs_lon'],\n",
    "                            '위도': entry['obs_lat'],\n",
    "                            '기온': entry.get('air-temp', None),  # air_temp 값이 없을 경우 None 처리\n",
    "                            '기압': entry.get('air_pres', None),\n",
    "                            '수온': entry.get('water_temp', None),\n",
    "                            '풍향': entry.get('wind_dir', None),\n",
    "                            '시정': entry.get('vis', None),\n",
    "                            '풍속': entry.get('wind_speed', None)\n",
    "                        }])\n",
    "                        \n",
    "                        # 기존 DataFrame에 새로운 데이터 추가 (concat 사용)\n",
    "                        df = pd.concat([df, new_data], ignore_index=True)\n",
    "            except ValueError:\n",
    "                print(f\"Invalid date: {year}-{month}-{day}\")\n",
    "                continue  # 잘못된 날짜가 있으면 다음 루프로\n"
   ]
  },
  {
   "cell_type": "markdown",
   "metadata": {},
   "source": [
    "2년치 데이터 약 35000개(2 * 365 * 48)\n"
   ]
  },
  {
   "cell_type": "code",
   "execution_count": 192,
   "metadata": {},
   "outputs": [
    {
     "name": "stdout",
     "output_type": "stream",
     "text": [
      "<class 'pandas.core.frame.DataFrame'>\n",
      "RangeIndex: 64038 entries, 0 to 64037\n",
      "Data columns (total 11 columns):\n",
      " #   Column  Non-Null Count  Dtype \n",
      "---  ------  --------------  ----- \n",
      " 0   관측소ID   64038 non-null  object\n",
      " 1   관측소명    64038 non-null  object\n",
      " 2   관측시간    64038 non-null  object\n",
      " 3   경도      64038 non-null  object\n",
      " 4   위도      64038 non-null  object\n",
      " 5   기온      64009 non-null  object\n",
      " 6   기압      64001 non-null  object\n",
      " 7   수온      47067 non-null  object\n",
      " 8   풍향      47498 non-null  object\n",
      " 9   시정      63308 non-null  object\n",
      " 10  풍속      47498 non-null  object\n",
      "dtypes: object(11)\n",
      "memory usage: 5.4+ MB\n"
     ]
    }
   ],
   "source": [
    "df.info()"
   ]
  },
  {
   "cell_type": "code",
   "execution_count": 193,
   "metadata": {},
   "outputs": [
    {
     "data": {
      "text/html": [
       "<div>\n",
       "<style scoped>\n",
       "    .dataframe tbody tr th:only-of-type {\n",
       "        vertical-align: middle;\n",
       "    }\n",
       "\n",
       "    .dataframe tbody tr th {\n",
       "        vertical-align: top;\n",
       "    }\n",
       "\n",
       "    .dataframe thead th {\n",
       "        text-align: right;\n",
       "    }\n",
       "</style>\n",
       "<table border=\"1\" class=\"dataframe\">\n",
       "  <thead>\n",
       "    <tr style=\"text-align: right;\">\n",
       "      <th></th>\n",
       "      <th>관측소ID</th>\n",
       "      <th>관측소명</th>\n",
       "      <th>관측시간</th>\n",
       "      <th>경도</th>\n",
       "      <th>위도</th>\n",
       "      <th>기온</th>\n",
       "      <th>기압</th>\n",
       "      <th>수온</th>\n",
       "      <th>풍향</th>\n",
       "      <th>시정</th>\n",
       "      <th>풍속</th>\n",
       "    </tr>\n",
       "  </thead>\n",
       "  <tbody>\n",
       "    <tr>\n",
       "      <th>0</th>\n",
       "      <td>SF_0009</td>\n",
       "      <td>해운대</td>\n",
       "      <td>2022-01-01 00:00</td>\n",
       "      <td>129.16026</td>\n",
       "      <td>35.15909</td>\n",
       "      <td>0.1</td>\n",
       "      <td>1026.7</td>\n",
       "      <td>13.2</td>\n",
       "      <td>서북서</td>\n",
       "      <td>20000</td>\n",
       "      <td>4.6</td>\n",
       "    </tr>\n",
       "    <tr>\n",
       "      <th>1</th>\n",
       "      <td>SF_0009</td>\n",
       "      <td>해운대</td>\n",
       "      <td>2022-01-01 00:30</td>\n",
       "      <td>129.16026</td>\n",
       "      <td>35.15909</td>\n",
       "      <td>-0.2</td>\n",
       "      <td>1026.8</td>\n",
       "      <td>13.1</td>\n",
       "      <td>서북서</td>\n",
       "      <td>20000</td>\n",
       "      <td>5.3</td>\n",
       "    </tr>\n",
       "    <tr>\n",
       "      <th>2</th>\n",
       "      <td>SF_0009</td>\n",
       "      <td>해운대</td>\n",
       "      <td>2022-01-01 01:00</td>\n",
       "      <td>129.16026</td>\n",
       "      <td>35.15909</td>\n",
       "      <td>-0.3</td>\n",
       "      <td>1026.8</td>\n",
       "      <td>13.1</td>\n",
       "      <td>서북서</td>\n",
       "      <td>20000</td>\n",
       "      <td>5.8</td>\n",
       "    </tr>\n",
       "    <tr>\n",
       "      <th>3</th>\n",
       "      <td>SF_0009</td>\n",
       "      <td>해운대</td>\n",
       "      <td>2022-01-01 01:30</td>\n",
       "      <td>129.16026</td>\n",
       "      <td>35.15909</td>\n",
       "      <td>-0.7</td>\n",
       "      <td>1026.8</td>\n",
       "      <td>12.8</td>\n",
       "      <td>서북서</td>\n",
       "      <td>20000</td>\n",
       "      <td>5.2</td>\n",
       "    </tr>\n",
       "    <tr>\n",
       "      <th>4</th>\n",
       "      <td>SF_0009</td>\n",
       "      <td>해운대</td>\n",
       "      <td>2022-01-01 02:00</td>\n",
       "      <td>129.16026</td>\n",
       "      <td>35.15909</td>\n",
       "      <td>-0.5</td>\n",
       "      <td>1027</td>\n",
       "      <td>12.8</td>\n",
       "      <td>북서</td>\n",
       "      <td>20000</td>\n",
       "      <td>4.2</td>\n",
       "    </tr>\n",
       "  </tbody>\n",
       "</table>\n",
       "</div>"
      ],
      "text/plain": [
       "     관측소ID 관측소명              관측시간         경도        위도    기온      기압    수온  \\\n",
       "0  SF_0009  해운대  2022-01-01 00:00  129.16026  35.15909   0.1  1026.7  13.2   \n",
       "1  SF_0009  해운대  2022-01-01 00:30  129.16026  35.15909  -0.2  1026.8  13.1   \n",
       "2  SF_0009  해운대  2022-01-01 01:00  129.16026  35.15909  -0.3  1026.8  13.1   \n",
       "3  SF_0009  해운대  2022-01-01 01:30  129.16026  35.15909  -0.7  1026.8  12.8   \n",
       "4  SF_0009  해운대  2022-01-01 02:00  129.16026  35.15909  -0.5    1027  12.8   \n",
       "\n",
       "    풍향     시정   풍속  \n",
       "0  서북서  20000  4.6  \n",
       "1  서북서  20000  5.3  \n",
       "2  서북서  20000  5.8  \n",
       "3  서북서  20000  5.2  \n",
       "4   북서  20000  4.2  "
      ]
     },
     "execution_count": 193,
     "metadata": {},
     "output_type": "execute_result"
    }
   ],
   "source": [
    "df.head()"
   ]
  },
  {
   "cell_type": "code",
   "execution_count": 194,
   "metadata": {},
   "outputs": [],
   "source": [
    "# 중복 처리된 데이터프레임을 저장\n",
    "df.to_excel('해무 날씨(2022-2023).xlsx', index=False)"
   ]
  },
  {
   "cell_type": "code",
   "execution_count": 196,
   "metadata": {},
   "outputs": [
    {
     "name": "stdout",
     "output_type": "stream",
     "text": [
      "<class 'pandas.core.frame.DataFrame'>\n",
      "Index: 46697 entries, 0 to 56284\n",
      "Data columns (total 11 columns):\n",
      " #   Column  Non-Null Count  Dtype \n",
      "---  ------  --------------  ----- \n",
      " 0   관측소ID   46697 non-null  object\n",
      " 1   관측소명    46697 non-null  object\n",
      " 2   관측시간    46697 non-null  object\n",
      " 3   경도      46697 non-null  object\n",
      " 4   위도      46697 non-null  object\n",
      " 5   기온      46697 non-null  object\n",
      " 6   기압      46697 non-null  object\n",
      " 7   수온      46697 non-null  object\n",
      " 8   풍향      46697 non-null  object\n",
      " 9   시정      46697 non-null  object\n",
      " 10  풍속      46697 non-null  object\n",
      "dtypes: object(11)\n",
      "memory usage: 4.3+ MB\n"
     ]
    }
   ],
   "source": [
    "temp = df.dropna()\n",
    "temp.info()"
   ]
  },
  {
   "cell_type": "code",
   "execution_count": 210,
   "metadata": {},
   "outputs": [
    {
     "name": "stdout",
     "output_type": "stream",
     "text": [
      "<class 'pandas.core.frame.DataFrame'>\n",
      "RangeIndex: 34659 entries, 0 to 34658\n",
      "Data columns (total 11 columns):\n",
      " #   Column  Non-Null Count  Dtype  \n",
      "---  ------  --------------  -----  \n",
      " 0   관측소ID   34659 non-null  object \n",
      " 1   관측소명    34659 non-null  object \n",
      " 2   관측시간    34659 non-null  object \n",
      " 3   경도      34659 non-null  float64\n",
      " 4   위도      34659 non-null  float64\n",
      " 5   기온      34642 non-null  float64\n",
      " 6   기압      34638 non-null  float64\n",
      " 7   수온      23530 non-null  float64\n",
      " 8   풍향      23746 non-null  object \n",
      " 9   시정      34294 non-null  float64\n",
      " 10  풍속      23746 non-null  float64\n",
      "dtypes: float64(7), object(4)\n",
      "memory usage: 2.9+ MB\n"
     ]
    }
   ],
   "source": [
    "df = pd.read_excel(\"해무 날씨(2022-2023).xlsx\")\n",
    "df.info()"
   ]
  },
  {
   "cell_type": "code",
   "execution_count": 211,
   "metadata": {},
   "outputs": [
    {
     "data": {
      "text/html": [
       "<div>\n",
       "<style scoped>\n",
       "    .dataframe tbody tr th:only-of-type {\n",
       "        vertical-align: middle;\n",
       "    }\n",
       "\n",
       "    .dataframe tbody tr th {\n",
       "        vertical-align: top;\n",
       "    }\n",
       "\n",
       "    .dataframe thead th {\n",
       "        text-align: right;\n",
       "    }\n",
       "</style>\n",
       "<table border=\"1\" class=\"dataframe\">\n",
       "  <thead>\n",
       "    <tr style=\"text-align: right;\">\n",
       "      <th></th>\n",
       "      <th>관측소ID</th>\n",
       "      <th>관측소명</th>\n",
       "      <th>관측시간</th>\n",
       "      <th>경도</th>\n",
       "      <th>위도</th>\n",
       "      <th>기온</th>\n",
       "      <th>기압</th>\n",
       "      <th>수온</th>\n",
       "      <th>풍향</th>\n",
       "      <th>시정</th>\n",
       "      <th>풍속</th>\n",
       "    </tr>\n",
       "  </thead>\n",
       "  <tbody>\n",
       "    <tr>\n",
       "      <th>0</th>\n",
       "      <td>SF_0009</td>\n",
       "      <td>해운대</td>\n",
       "      <td>2022-01-01 00:00</td>\n",
       "      <td>129.16026</td>\n",
       "      <td>35.15909</td>\n",
       "      <td>0.1</td>\n",
       "      <td>1026.7</td>\n",
       "      <td>13.2</td>\n",
       "      <td>서북서</td>\n",
       "      <td>20000.0</td>\n",
       "      <td>4.6</td>\n",
       "    </tr>\n",
       "    <tr>\n",
       "      <th>1</th>\n",
       "      <td>SF_0009</td>\n",
       "      <td>해운대</td>\n",
       "      <td>2022-01-01 00:30</td>\n",
       "      <td>129.16026</td>\n",
       "      <td>35.15909</td>\n",
       "      <td>-0.2</td>\n",
       "      <td>1026.8</td>\n",
       "      <td>13.1</td>\n",
       "      <td>서북서</td>\n",
       "      <td>20000.0</td>\n",
       "      <td>5.3</td>\n",
       "    </tr>\n",
       "    <tr>\n",
       "      <th>2</th>\n",
       "      <td>SF_0009</td>\n",
       "      <td>해운대</td>\n",
       "      <td>2022-01-01 01:00</td>\n",
       "      <td>129.16026</td>\n",
       "      <td>35.15909</td>\n",
       "      <td>-0.3</td>\n",
       "      <td>1026.8</td>\n",
       "      <td>13.1</td>\n",
       "      <td>서북서</td>\n",
       "      <td>20000.0</td>\n",
       "      <td>5.8</td>\n",
       "    </tr>\n",
       "    <tr>\n",
       "      <th>3</th>\n",
       "      <td>SF_0009</td>\n",
       "      <td>해운대</td>\n",
       "      <td>2022-01-01 01:30</td>\n",
       "      <td>129.16026</td>\n",
       "      <td>35.15909</td>\n",
       "      <td>-0.7</td>\n",
       "      <td>1026.8</td>\n",
       "      <td>12.8</td>\n",
       "      <td>서북서</td>\n",
       "      <td>20000.0</td>\n",
       "      <td>5.2</td>\n",
       "    </tr>\n",
       "    <tr>\n",
       "      <th>4</th>\n",
       "      <td>SF_0009</td>\n",
       "      <td>해운대</td>\n",
       "      <td>2022-01-01 02:00</td>\n",
       "      <td>129.16026</td>\n",
       "      <td>35.15909</td>\n",
       "      <td>-0.5</td>\n",
       "      <td>1027.0</td>\n",
       "      <td>12.8</td>\n",
       "      <td>북서</td>\n",
       "      <td>20000.0</td>\n",
       "      <td>4.2</td>\n",
       "    </tr>\n",
       "  </tbody>\n",
       "</table>\n",
       "</div>"
      ],
      "text/plain": [
       "     관측소ID 관측소명              관측시간         경도        위도   기온      기압    수온  \\\n",
       "0  SF_0009  해운대  2022-01-01 00:00  129.16026  35.15909  0.1  1026.7  13.2   \n",
       "1  SF_0009  해운대  2022-01-01 00:30  129.16026  35.15909 -0.2  1026.8  13.1   \n",
       "2  SF_0009  해운대  2022-01-01 01:00  129.16026  35.15909 -0.3  1026.8  13.1   \n",
       "3  SF_0009  해운대  2022-01-01 01:30  129.16026  35.15909 -0.7  1026.8  12.8   \n",
       "4  SF_0009  해운대  2022-01-01 02:00  129.16026  35.15909 -0.5  1027.0  12.8   \n",
       "\n",
       "    풍향       시정   풍속  \n",
       "0  서북서  20000.0  4.6  \n",
       "1  서북서  20000.0  5.3  \n",
       "2  서북서  20000.0  5.8  \n",
       "3  서북서  20000.0  5.2  \n",
       "4   북서  20000.0  4.2  "
      ]
     },
     "execution_count": 211,
     "metadata": {},
     "output_type": "execute_result"
    }
   ],
   "source": [
    "df.head()"
   ]
  },
  {
   "cell_type": "code",
   "execution_count": 212,
   "metadata": {},
   "outputs": [],
   "source": [
    "temp = df.dropna()"
   ]
  },
  {
   "cell_type": "code",
   "execution_count": 213,
   "metadata": {},
   "outputs": [
    {
     "name": "stdout",
     "output_type": "stream",
     "text": [
      "<class 'pandas.core.frame.DataFrame'>\n",
      "Index: 23345 entries, 0 to 26905\n",
      "Data columns (total 11 columns):\n",
      " #   Column  Non-Null Count  Dtype  \n",
      "---  ------  --------------  -----  \n",
      " 0   관측소ID   23345 non-null  object \n",
      " 1   관측소명    23345 non-null  object \n",
      " 2   관측시간    23345 non-null  object \n",
      " 3   경도      23345 non-null  float64\n",
      " 4   위도      23345 non-null  float64\n",
      " 5   기온      23345 non-null  float64\n",
      " 6   기압      23345 non-null  float64\n",
      " 7   수온      23345 non-null  float64\n",
      " 8   풍향      23345 non-null  object \n",
      " 9   시정      23345 non-null  float64\n",
      " 10  풍속      23345 non-null  float64\n",
      "dtypes: float64(7), object(4)\n",
      "memory usage: 2.1+ MB\n"
     ]
    }
   ],
   "source": [
    "temp.info()"
   ]
  },
  {
   "cell_type": "code",
   "execution_count": 214,
   "metadata": {},
   "outputs": [],
   "source": [
    "temp.to_excel('해무 날씨 널값 제거(2022-2023).xlsx', index=False)"
   ]
  },
  {
   "cell_type": "code",
   "execution_count": 216,
   "metadata": {},
   "outputs": [],
   "source": [
    "temp.to_csv('해무 날씨 널값 제거(2022-2023).csv', index=False)"
   ]
  },
  {
   "cell_type": "markdown",
   "metadata": {},
   "source": [
    "# 라벨 추가\n",
    "해무: 1   \n",
    "해무X: 0"
   ]
  },
  {
   "cell_type": "code",
   "execution_count": 2,
   "metadata": {},
   "outputs": [],
   "source": [
    "import pandas as pd\n",
    "temp = pd.read_csv('해무 날씨 널값 제거(2022-2023).csv')"
   ]
  },
  {
   "cell_type": "code",
   "execution_count": 3,
   "metadata": {},
   "outputs": [
    {
     "name": "stdout",
     "output_type": "stream",
     "text": [
      "<class 'pandas.core.frame.DataFrame'>\n",
      "RangeIndex: 23345 entries, 0 to 23344\n",
      "Data columns (total 12 columns):\n",
      " #   Column  Non-Null Count  Dtype  \n",
      "---  ------  --------------  -----  \n",
      " 0   관측소ID   23345 non-null  object \n",
      " 1   관측소명    23345 non-null  object \n",
      " 2   관측시간    23345 non-null  object \n",
      " 3   경도      23345 non-null  float64\n",
      " 4   위도      23345 non-null  float64\n",
      " 5   기온      23345 non-null  float64\n",
      " 6   기압      23345 non-null  float64\n",
      " 7   수온      23345 non-null  float64\n",
      " 8   풍향      23345 non-null  object \n",
      " 9   시정      23345 non-null  float64\n",
      " 10  풍속      23345 non-null  float64\n",
      " 11  label   23345 non-null  int64  \n",
      "dtypes: float64(7), int64(1), object(4)\n",
      "memory usage: 2.1+ MB\n"
     ]
    }
   ],
   "source": [
    "# 해무 기준 조절 가능\n",
    "t = 1000\n",
    "\n",
    "# 새로운 열 'label' 추가 (시정 <= 1000이면 1, 그렇지 않으면 0)\n",
    "temp['label'] = temp['시정'].apply(lambda x: 1 if x <= t else 0)\n",
    "temp.info()"
   ]
  },
  {
   "cell_type": "code",
   "execution_count": 17,
   "metadata": {},
   "outputs": [
    {
     "name": "stdout",
     "output_type": "stream",
     "text": [
      "label이 1인 개수: 83\n"
     ]
    }
   ],
   "source": [
    "count_label_1 = temp['label'].sum()\n",
    "print(f\"label이 1인 개수: {count_label_1}\")"
   ]
  },
  {
   "cell_type": "code",
   "execution_count": 18,
   "metadata": {},
   "outputs": [],
   "source": [
    "temp.to_csv('해무 날씨 라벨링 추가(2022-2023).csv', index=False)\n",
    "temp.to_excel('해무 날씨 라벨링 추가(2022-2023).xlsx', index=False)"
   ]
  }
 ],
 "metadata": {
  "kernelspec": {
   "display_name": "DeepLearning",
   "language": "python",
   "name": "deeplearning"
  },
  "language_info": {
   "codemirror_mode": {
    "name": "ipython",
    "version": 3
   },
   "file_extension": ".py",
   "mimetype": "text/x-python",
   "name": "python",
   "nbconvert_exporter": "python",
   "pygments_lexer": "ipython3",
   "version": "3.8.19"
  }
 },
 "nbformat": 4,
 "nbformat_minor": 2
}
